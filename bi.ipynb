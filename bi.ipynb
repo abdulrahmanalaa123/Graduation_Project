{
  "cells": [
    {
      "cell_type": "code",
      "execution_count": 6,
      "metadata": {
        "id": "6yGor0rvFOAY"
      },
      "outputs": [],
      "source": [
        "import numpy as np\n",
        "import pandas as pd\n",
        "from sklearn.model_selection import train_test_split\n",
        "from sklearn.metrics import classification_report, accuracy_score, confusion_matrix\n",
        "from sklearn.preprocessing import LabelEncoder,MinMaxScaler, StandardScaler\n",
        "from sklearn.utils import shuffle\n",
        "from sklearn.utils import class_weight\n",
        "from keras.models import Sequential\n",
        "from keras.layers import Dense, Dropout, Activation, Flatten ,LSTM,RepeatVector,TimeDistributed,Bidirectional\n",
        "#from keras.layers import  Conv2D, MaxPooling2D\n",
        "from keras.utils import to_categorical\n",
        "import matplotlib.pyplot as plt\n",
        "import seaborn as sns\n",
        "import tensorflow as tf\n",
        "from keras. preprocessing import sequence\n",
        "from operator import itemgetter\n",
        "from re import L\n",
        "from sklearn.preprocessing import LabelEncoder\n",
        "#from keras.utils import get_sequences\n",
        "import pickle\n",
        "\n",
        "\n"
      ]
    },
    {
      "cell_type": "code",
      "execution_count": 12,
      "metadata": {
        "id": "aBGtISJiFc1C"
      },
      "outputs": [],
      "source": [
        "data = pd.read_pickle(\"/content/drive/MyDrive/hr(tuples).pkl\")"
      ]
    },
    {
      "cell_type": "code",
      "execution_count": 231,
      "metadata": {
        "id": "4sj97PBlDzUl"
      },
      "outputs": [],
      "source": [
        "####hunda_getter\n",
        "#def getter(x):\n",
        "#    if isinstance(x,tuple):\n",
        "#        return itemgetter(0)(x)\n",
        "#    else:\n",
        "#        return x\n",
        "#\n",
        "##data = pd.read_pickle(\"hr(tuples).pkl\")\n",
        "#mask = data[\"Participant\"] ==  22\n",
        "#mask2 = data[\"Stage\"] == \"STIMULUS\"\n",
        "#mask3 = data[\"Target\"]== \"BASELINE\"\n",
        "##print(data.loc[ mask2,[*data.columns[2:500],*data.columns[-15:]]].applymap(lambda x:getter(x)))\n",
        "##print(data.loc[mask2,[*data.columns[2:6292]]].applymap(lambda x:getter(x)))#xtrain->particpants hr values\n",
        "##print(data.loc[mask2,\"Target\"])#ytrain-> target emo\n",
        "#\n",
        "#print(data.loc[mask2 , \"Participant\"].unique())\n",
        "#"
      ]
    },
    {
      "cell_type": "code",
      "execution_count": 8,
      "metadata": {
        "id": "V9xbtrMnFhga"
      },
      "outputs": [],
      "source": [
        "def getter(x):\n",
        "    if isinstance(x,tuple):\n",
        "        return itemgetter(0)(x)\n",
        "    else:\n",
        "        return x\n"
      ]
    },
    {
      "cell_type": "code",
      "source": [
        "##################################################################################\n",
        "data"
      ],
      "metadata": {
        "colab": {
          "base_uri": "https://localhost:8080/",
          "height": 468
        },
        "id": "qTA1mzbai7JM",
        "outputId": "742366e0-5d9f-4104-def0-f3a53f6af7b1"
      },
      "execution_count": 410,
      "outputs": [
        {
          "output_type": "execute_result",
          "data": {
            "text/plain": [
              "      Participant           Stage       0:0.0  0:0.099791  0:0.199582  \\\n",
              "0              22        STIMULUS   (87, 602)   (87, 602)   (87, 602)   \n",
              "1              22  QUESTIONNAIRES   (85, 921)   (85, 921)   (85, 921)   \n",
              "2              22         WASHOUT   (80, 749)   (80, 792)   (80, 792)   \n",
              "3              22        STIMULUS   (81, 719)   (81, 719)   (81, 719)   \n",
              "4              22  QUESTIONNAIRES   (83, 702)   (82, 702)   (83, 702)   \n",
              "...           ...             ...         ...         ...         ...   \n",
              "1339           64        STIMULUS   (78, 516)   (78, 516)   (78, 516)   \n",
              "1340           64  QUESTIONNAIRES   (77, 799)   (77, 799)   (77, 816)   \n",
              "1341           64         WASHOUT    (0, 987)    (0, 987)    (0, 987)   \n",
              "1342           64        STIMULUS   (69, 829)   (68, 829)   (69, 829)   \n",
              "1343           64  QUESTIONNAIRES  (66, 1245)  (65, 1245)  (65, 1245)   \n",
              "\n",
              "     0:0.299373  0:0.399164 0:0.49895500000000004  0:0.598746  \\\n",
              "0     (87, 602)   (87, 602)             (87, 602)   (87, 602)   \n",
              "1     (85, 921)   (85, 921)             (85, 921)   (85, 921)   \n",
              "2     (80, 792)   (80, 792)             (80, 792)   (79, 792)   \n",
              "3     (81, 719)   (81, 734)             (81, 734)   (81, 734)   \n",
              "4     (83, 702)   (83, 702)             (82, 702)   (82, 702)   \n",
              "...         ...         ...                   ...         ...   \n",
              "1339  (78, 634)   (78, 634)             (78, 634)   (78, 634)   \n",
              "1340  (77, 816)   (77, 816)             (77, 816)   (77, 816)   \n",
              "1341   (0, 987)  (-10, 987)            (-10, 987)  (-10, 987)   \n",
              "1342  (69, 829)   (69, 829)            (69, 1248)  (68, 1248)   \n",
              "1343  (65, 881)   (65, 881)             (65, 881)   (65, 881)   \n",
              "\n",
              "     0:0.6985370000000001  ... SURPRISE ANGER ENTHUSIASM LIKING FEAR  \\\n",
              "0               (87, 406)  ...        1     1          2      1    1   \n",
              "1               (85, 921)  ...        1     1          2      1    1   \n",
              "2               (79, 792)  ...        1     1          1      1    1   \n",
              "3               (81, 734)  ...        1     1          1      1    1   \n",
              "4               (82, 702)  ...        1     1          1      1    1   \n",
              "...                   ...  ...      ...   ...        ...    ...  ...   \n",
              "1339            (78, 634)  ...        1     1          3      1    1   \n",
              "1340            (77, 816)  ...        1     1          3      1    1   \n",
              "1341           (-10, 987)  ...        1     1          5      1    1   \n",
              "1342           (68, 1248)  ...        1     1          5      1    1   \n",
              "1343            (65, 881)  ...        1     1          5      1    1   \n",
              "\n",
              "     AMUSEMENT SADNESS VALENCE AROUSAL MOTIVATION  \n",
              "0            2       1       5       2          4  \n",
              "1            2       1       5       2          4  \n",
              "2            1       1       4       2          5  \n",
              "3            1       1       4       2          5  \n",
              "4            1       1       4       2          5  \n",
              "...        ...     ...     ...     ...        ...  \n",
              "1339         1       1       5       2          6  \n",
              "1340         1       1       5       2          6  \n",
              "1341         1       1       9       8          9  \n",
              "1342         1       1       9       8          9  \n",
              "1343         1       1       9       8          9  \n",
              "\n",
              "[1344 rows x 6305 columns]"
            ],
            "text/html": [
              "\n",
              "  <div id=\"df-0e9413e3-3c4b-463b-a891-4dab530c5969\">\n",
              "    <div class=\"colab-df-container\">\n",
              "      <div>\n",
              "<style scoped>\n",
              "    .dataframe tbody tr th:only-of-type {\n",
              "        vertical-align: middle;\n",
              "    }\n",
              "\n",
              "    .dataframe tbody tr th {\n",
              "        vertical-align: top;\n",
              "    }\n",
              "\n",
              "    .dataframe thead th {\n",
              "        text-align: right;\n",
              "    }\n",
              "</style>\n",
              "<table border=\"1\" class=\"dataframe\">\n",
              "  <thead>\n",
              "    <tr style=\"text-align: right;\">\n",
              "      <th></th>\n",
              "      <th>Participant</th>\n",
              "      <th>Stage</th>\n",
              "      <th>0:0.0</th>\n",
              "      <th>0:0.099791</th>\n",
              "      <th>0:0.199582</th>\n",
              "      <th>0:0.299373</th>\n",
              "      <th>0:0.399164</th>\n",
              "      <th>0:0.49895500000000004</th>\n",
              "      <th>0:0.598746</th>\n",
              "      <th>0:0.6985370000000001</th>\n",
              "      <th>...</th>\n",
              "      <th>SURPRISE</th>\n",
              "      <th>ANGER</th>\n",
              "      <th>ENTHUSIASM</th>\n",
              "      <th>LIKING</th>\n",
              "      <th>FEAR</th>\n",
              "      <th>AMUSEMENT</th>\n",
              "      <th>SADNESS</th>\n",
              "      <th>VALENCE</th>\n",
              "      <th>AROUSAL</th>\n",
              "      <th>MOTIVATION</th>\n",
              "    </tr>\n",
              "  </thead>\n",
              "  <tbody>\n",
              "    <tr>\n",
              "      <th>0</th>\n",
              "      <td>22</td>\n",
              "      <td>STIMULUS</td>\n",
              "      <td>(87, 602)</td>\n",
              "      <td>(87, 602)</td>\n",
              "      <td>(87, 602)</td>\n",
              "      <td>(87, 602)</td>\n",
              "      <td>(87, 602)</td>\n",
              "      <td>(87, 602)</td>\n",
              "      <td>(87, 602)</td>\n",
              "      <td>(87, 406)</td>\n",
              "      <td>...</td>\n",
              "      <td>1</td>\n",
              "      <td>1</td>\n",
              "      <td>2</td>\n",
              "      <td>1</td>\n",
              "      <td>1</td>\n",
              "      <td>2</td>\n",
              "      <td>1</td>\n",
              "      <td>5</td>\n",
              "      <td>2</td>\n",
              "      <td>4</td>\n",
              "    </tr>\n",
              "    <tr>\n",
              "      <th>1</th>\n",
              "      <td>22</td>\n",
              "      <td>QUESTIONNAIRES</td>\n",
              "      <td>(85, 921)</td>\n",
              "      <td>(85, 921)</td>\n",
              "      <td>(85, 921)</td>\n",
              "      <td>(85, 921)</td>\n",
              "      <td>(85, 921)</td>\n",
              "      <td>(85, 921)</td>\n",
              "      <td>(85, 921)</td>\n",
              "      <td>(85, 921)</td>\n",
              "      <td>...</td>\n",
              "      <td>1</td>\n",
              "      <td>1</td>\n",
              "      <td>2</td>\n",
              "      <td>1</td>\n",
              "      <td>1</td>\n",
              "      <td>2</td>\n",
              "      <td>1</td>\n",
              "      <td>5</td>\n",
              "      <td>2</td>\n",
              "      <td>4</td>\n",
              "    </tr>\n",
              "    <tr>\n",
              "      <th>2</th>\n",
              "      <td>22</td>\n",
              "      <td>WASHOUT</td>\n",
              "      <td>(80, 749)</td>\n",
              "      <td>(80, 792)</td>\n",
              "      <td>(80, 792)</td>\n",
              "      <td>(80, 792)</td>\n",
              "      <td>(80, 792)</td>\n",
              "      <td>(80, 792)</td>\n",
              "      <td>(79, 792)</td>\n",
              "      <td>(79, 792)</td>\n",
              "      <td>...</td>\n",
              "      <td>1</td>\n",
              "      <td>1</td>\n",
              "      <td>1</td>\n",
              "      <td>1</td>\n",
              "      <td>1</td>\n",
              "      <td>1</td>\n",
              "      <td>1</td>\n",
              "      <td>4</td>\n",
              "      <td>2</td>\n",
              "      <td>5</td>\n",
              "    </tr>\n",
              "    <tr>\n",
              "      <th>3</th>\n",
              "      <td>22</td>\n",
              "      <td>STIMULUS</td>\n",
              "      <td>(81, 719)</td>\n",
              "      <td>(81, 719)</td>\n",
              "      <td>(81, 719)</td>\n",
              "      <td>(81, 719)</td>\n",
              "      <td>(81, 734)</td>\n",
              "      <td>(81, 734)</td>\n",
              "      <td>(81, 734)</td>\n",
              "      <td>(81, 734)</td>\n",
              "      <td>...</td>\n",
              "      <td>1</td>\n",
              "      <td>1</td>\n",
              "      <td>1</td>\n",
              "      <td>1</td>\n",
              "      <td>1</td>\n",
              "      <td>1</td>\n",
              "      <td>1</td>\n",
              "      <td>4</td>\n",
              "      <td>2</td>\n",
              "      <td>5</td>\n",
              "    </tr>\n",
              "    <tr>\n",
              "      <th>4</th>\n",
              "      <td>22</td>\n",
              "      <td>QUESTIONNAIRES</td>\n",
              "      <td>(83, 702)</td>\n",
              "      <td>(82, 702)</td>\n",
              "      <td>(83, 702)</td>\n",
              "      <td>(83, 702)</td>\n",
              "      <td>(83, 702)</td>\n",
              "      <td>(82, 702)</td>\n",
              "      <td>(82, 702)</td>\n",
              "      <td>(82, 702)</td>\n",
              "      <td>...</td>\n",
              "      <td>1</td>\n",
              "      <td>1</td>\n",
              "      <td>1</td>\n",
              "      <td>1</td>\n",
              "      <td>1</td>\n",
              "      <td>1</td>\n",
              "      <td>1</td>\n",
              "      <td>4</td>\n",
              "      <td>2</td>\n",
              "      <td>5</td>\n",
              "    </tr>\n",
              "    <tr>\n",
              "      <th>...</th>\n",
              "      <td>...</td>\n",
              "      <td>...</td>\n",
              "      <td>...</td>\n",
              "      <td>...</td>\n",
              "      <td>...</td>\n",
              "      <td>...</td>\n",
              "      <td>...</td>\n",
              "      <td>...</td>\n",
              "      <td>...</td>\n",
              "      <td>...</td>\n",
              "      <td>...</td>\n",
              "      <td>...</td>\n",
              "      <td>...</td>\n",
              "      <td>...</td>\n",
              "      <td>...</td>\n",
              "      <td>...</td>\n",
              "      <td>...</td>\n",
              "      <td>...</td>\n",
              "      <td>...</td>\n",
              "      <td>...</td>\n",
              "      <td>...</td>\n",
              "    </tr>\n",
              "    <tr>\n",
              "      <th>1339</th>\n",
              "      <td>64</td>\n",
              "      <td>STIMULUS</td>\n",
              "      <td>(78, 516)</td>\n",
              "      <td>(78, 516)</td>\n",
              "      <td>(78, 516)</td>\n",
              "      <td>(78, 634)</td>\n",
              "      <td>(78, 634)</td>\n",
              "      <td>(78, 634)</td>\n",
              "      <td>(78, 634)</td>\n",
              "      <td>(78, 634)</td>\n",
              "      <td>...</td>\n",
              "      <td>1</td>\n",
              "      <td>1</td>\n",
              "      <td>3</td>\n",
              "      <td>1</td>\n",
              "      <td>1</td>\n",
              "      <td>1</td>\n",
              "      <td>1</td>\n",
              "      <td>5</td>\n",
              "      <td>2</td>\n",
              "      <td>6</td>\n",
              "    </tr>\n",
              "    <tr>\n",
              "      <th>1340</th>\n",
              "      <td>64</td>\n",
              "      <td>QUESTIONNAIRES</td>\n",
              "      <td>(77, 799)</td>\n",
              "      <td>(77, 799)</td>\n",
              "      <td>(77, 816)</td>\n",
              "      <td>(77, 816)</td>\n",
              "      <td>(77, 816)</td>\n",
              "      <td>(77, 816)</td>\n",
              "      <td>(77, 816)</td>\n",
              "      <td>(77, 816)</td>\n",
              "      <td>...</td>\n",
              "      <td>1</td>\n",
              "      <td>1</td>\n",
              "      <td>3</td>\n",
              "      <td>1</td>\n",
              "      <td>1</td>\n",
              "      <td>1</td>\n",
              "      <td>1</td>\n",
              "      <td>5</td>\n",
              "      <td>2</td>\n",
              "      <td>6</td>\n",
              "    </tr>\n",
              "    <tr>\n",
              "      <th>1341</th>\n",
              "      <td>64</td>\n",
              "      <td>WASHOUT</td>\n",
              "      <td>(0, 987)</td>\n",
              "      <td>(0, 987)</td>\n",
              "      <td>(0, 987)</td>\n",
              "      <td>(0, 987)</td>\n",
              "      <td>(-10, 987)</td>\n",
              "      <td>(-10, 987)</td>\n",
              "      <td>(-10, 987)</td>\n",
              "      <td>(-10, 987)</td>\n",
              "      <td>...</td>\n",
              "      <td>1</td>\n",
              "      <td>1</td>\n",
              "      <td>5</td>\n",
              "      <td>1</td>\n",
              "      <td>1</td>\n",
              "      <td>1</td>\n",
              "      <td>1</td>\n",
              "      <td>9</td>\n",
              "      <td>8</td>\n",
              "      <td>9</td>\n",
              "    </tr>\n",
              "    <tr>\n",
              "      <th>1342</th>\n",
              "      <td>64</td>\n",
              "      <td>STIMULUS</td>\n",
              "      <td>(69, 829)</td>\n",
              "      <td>(68, 829)</td>\n",
              "      <td>(69, 829)</td>\n",
              "      <td>(69, 829)</td>\n",
              "      <td>(69, 829)</td>\n",
              "      <td>(69, 1248)</td>\n",
              "      <td>(68, 1248)</td>\n",
              "      <td>(68, 1248)</td>\n",
              "      <td>...</td>\n",
              "      <td>1</td>\n",
              "      <td>1</td>\n",
              "      <td>5</td>\n",
              "      <td>1</td>\n",
              "      <td>1</td>\n",
              "      <td>1</td>\n",
              "      <td>1</td>\n",
              "      <td>9</td>\n",
              "      <td>8</td>\n",
              "      <td>9</td>\n",
              "    </tr>\n",
              "    <tr>\n",
              "      <th>1343</th>\n",
              "      <td>64</td>\n",
              "      <td>QUESTIONNAIRES</td>\n",
              "      <td>(66, 1245)</td>\n",
              "      <td>(65, 1245)</td>\n",
              "      <td>(65, 1245)</td>\n",
              "      <td>(65, 881)</td>\n",
              "      <td>(65, 881)</td>\n",
              "      <td>(65, 881)</td>\n",
              "      <td>(65, 881)</td>\n",
              "      <td>(65, 881)</td>\n",
              "      <td>...</td>\n",
              "      <td>1</td>\n",
              "      <td>1</td>\n",
              "      <td>5</td>\n",
              "      <td>1</td>\n",
              "      <td>1</td>\n",
              "      <td>1</td>\n",
              "      <td>1</td>\n",
              "      <td>9</td>\n",
              "      <td>8</td>\n",
              "      <td>9</td>\n",
              "    </tr>\n",
              "  </tbody>\n",
              "</table>\n",
              "<p>1344 rows × 6305 columns</p>\n",
              "</div>\n",
              "      <button class=\"colab-df-convert\" onclick=\"convertToInteractive('df-0e9413e3-3c4b-463b-a891-4dab530c5969')\"\n",
              "              title=\"Convert this dataframe to an interactive table.\"\n",
              "              style=\"display:none;\">\n",
              "        \n",
              "  <svg xmlns=\"http://www.w3.org/2000/svg\" height=\"24px\"viewBox=\"0 0 24 24\"\n",
              "       width=\"24px\">\n",
              "    <path d=\"M0 0h24v24H0V0z\" fill=\"none\"/>\n",
              "    <path d=\"M18.56 5.44l.94 2.06.94-2.06 2.06-.94-2.06-.94-.94-2.06-.94 2.06-2.06.94zm-11 1L8.5 8.5l.94-2.06 2.06-.94-2.06-.94L8.5 2.5l-.94 2.06-2.06.94zm10 10l.94 2.06.94-2.06 2.06-.94-2.06-.94-.94-2.06-.94 2.06-2.06.94z\"/><path d=\"M17.41 7.96l-1.37-1.37c-.4-.4-.92-.59-1.43-.59-.52 0-1.04.2-1.43.59L10.3 9.45l-7.72 7.72c-.78.78-.78 2.05 0 2.83L4 21.41c.39.39.9.59 1.41.59.51 0 1.02-.2 1.41-.59l7.78-7.78 2.81-2.81c.8-.78.8-2.07 0-2.86zM5.41 20L4 18.59l7.72-7.72 1.47 1.35L5.41 20z\"/>\n",
              "  </svg>\n",
              "      </button>\n",
              "      \n",
              "  <style>\n",
              "    .colab-df-container {\n",
              "      display:flex;\n",
              "      flex-wrap:wrap;\n",
              "      gap: 12px;\n",
              "    }\n",
              "\n",
              "    .colab-df-convert {\n",
              "      background-color: #E8F0FE;\n",
              "      border: none;\n",
              "      border-radius: 50%;\n",
              "      cursor: pointer;\n",
              "      display: none;\n",
              "      fill: #1967D2;\n",
              "      height: 32px;\n",
              "      padding: 0 0 0 0;\n",
              "      width: 32px;\n",
              "    }\n",
              "\n",
              "    .colab-df-convert:hover {\n",
              "      background-color: #E2EBFA;\n",
              "      box-shadow: 0px 1px 2px rgba(60, 64, 67, 0.3), 0px 1px 3px 1px rgba(60, 64, 67, 0.15);\n",
              "      fill: #174EA6;\n",
              "    }\n",
              "\n",
              "    [theme=dark] .colab-df-convert {\n",
              "      background-color: #3B4455;\n",
              "      fill: #D2E3FC;\n",
              "    }\n",
              "\n",
              "    [theme=dark] .colab-df-convert:hover {\n",
              "      background-color: #434B5C;\n",
              "      box-shadow: 0px 1px 3px 1px rgba(0, 0, 0, 0.15);\n",
              "      filter: drop-shadow(0px 1px 2px rgba(0, 0, 0, 0.3));\n",
              "      fill: #FFFFFF;\n",
              "    }\n",
              "  </style>\n",
              "\n",
              "      <script>\n",
              "        const buttonEl =\n",
              "          document.querySelector('#df-0e9413e3-3c4b-463b-a891-4dab530c5969 button.colab-df-convert');\n",
              "        buttonEl.style.display =\n",
              "          google.colab.kernel.accessAllowed ? 'block' : 'none';\n",
              "\n",
              "        async function convertToInteractive(key) {\n",
              "          const element = document.querySelector('#df-0e9413e3-3c4b-463b-a891-4dab530c5969');\n",
              "          const dataTable =\n",
              "            await google.colab.kernel.invokeFunction('convertToInteractive',\n",
              "                                                     [key], {});\n",
              "          if (!dataTable) return;\n",
              "\n",
              "          const docLinkHtml = 'Like what you see? Visit the ' +\n",
              "            '<a target=\"_blank\" href=https://colab.research.google.com/notebooks/data_table.ipynb>data table notebook</a>'\n",
              "            + ' to learn more about interactive tables.';\n",
              "          element.innerHTML = '';\n",
              "          dataTable['output_type'] = 'display_data';\n",
              "          await google.colab.output.renderOutput(dataTable, element);\n",
              "          const docLink = document.createElement('div');\n",
              "          docLink.innerHTML = docLinkHtml;\n",
              "          element.appendChild(docLink);\n",
              "        }\n",
              "      </script>\n",
              "    </div>\n",
              "  </div>\n",
              "  "
            ]
          },
          "metadata": {},
          "execution_count": 410
        }
      ]
    },
    {
      "cell_type": "code",
      "execution_count": 9,
      "metadata": {
        "id": "daFLu-waFkIL"
      },
      "outputs": [],
      "source": [
        "df = data.iloc[: ,:-12]"
      ]
    },
    {
      "cell_type": "code",
      "execution_count": 412,
      "metadata": {
        "colab": {
          "base_uri": "https://localhost:8080/",
          "height": 661
        },
        "id": "UQNQKwJmFuc5",
        "outputId": "fa795b6b-a3d0-4ef6-fac0-4201e9a43b50"
      },
      "outputs": [
        {
          "output_type": "execute_result",
          "data": {
            "text/plain": [
              "      Participant           Stage       0:0.0  0:0.099791  0:0.199582  \\\n",
              "0              22        STIMULUS   (87, 602)   (87, 602)   (87, 602)   \n",
              "1              22  QUESTIONNAIRES   (85, 921)   (85, 921)   (85, 921)   \n",
              "2              22         WASHOUT   (80, 749)   (80, 792)   (80, 792)   \n",
              "3              22        STIMULUS   (81, 719)   (81, 719)   (81, 719)   \n",
              "4              22  QUESTIONNAIRES   (83, 702)   (82, 702)   (83, 702)   \n",
              "...           ...             ...         ...         ...         ...   \n",
              "1339           64        STIMULUS   (78, 516)   (78, 516)   (78, 516)   \n",
              "1340           64  QUESTIONNAIRES   (77, 799)   (77, 799)   (77, 816)   \n",
              "1341           64         WASHOUT    (0, 987)    (0, 987)    (0, 987)   \n",
              "1342           64        STIMULUS   (69, 829)   (68, 829)   (69, 829)   \n",
              "1343           64  QUESTIONNAIRES  (66, 1245)  (65, 1245)  (65, 1245)   \n",
              "\n",
              "     0:0.299373  0:0.399164 0:0.49895500000000004  0:0.598746  \\\n",
              "0     (87, 602)   (87, 602)             (87, 602)   (87, 602)   \n",
              "1     (85, 921)   (85, 921)             (85, 921)   (85, 921)   \n",
              "2     (80, 792)   (80, 792)             (80, 792)   (79, 792)   \n",
              "3     (81, 719)   (81, 734)             (81, 734)   (81, 734)   \n",
              "4     (83, 702)   (83, 702)             (82, 702)   (82, 702)   \n",
              "...         ...         ...                   ...         ...   \n",
              "1339  (78, 634)   (78, 634)             (78, 634)   (78, 634)   \n",
              "1340  (77, 816)   (77, 816)             (77, 816)   (77, 816)   \n",
              "1341   (0, 987)  (-10, 987)            (-10, 987)  (-10, 987)   \n",
              "1342  (69, 829)   (69, 829)            (69, 1248)  (68, 1248)   \n",
              "1343  (65, 881)   (65, 881)             (65, 881)   (65, 881)   \n",
              "\n",
              "     0:0.6985370000000001  ... 10:26.787271000000032 10:26.887062000000014  \\\n",
              "0               (87, 406)  ...                  None                  None   \n",
              "1               (85, 921)  ...                  None                  None   \n",
              "2               (79, 792)  ...                  None                  None   \n",
              "3               (81, 734)  ...                  None                  None   \n",
              "4               (82, 702)  ...                  None                  None   \n",
              "...                   ...  ...                   ...                   ...   \n",
              "1339            (78, 634)  ...                  None                  None   \n",
              "1340            (77, 816)  ...                  None                  None   \n",
              "1341           (-10, 987)  ...                  None                  None   \n",
              "1342           (68, 1248)  ...                  None                  None   \n",
              "1343            (65, 881)  ...                  None                  None   \n",
              "\n",
              "     10:26.986852999999996 10:27.08664399999998 10:27.186435000000074  \\\n",
              "0                     None                 None                  None   \n",
              "1                     None                 None                  None   \n",
              "2                     None                 None                  None   \n",
              "3                     None                 None                  None   \n",
              "4                     None                 None                  None   \n",
              "...                    ...                  ...                   ...   \n",
              "1339                  None                 None                  None   \n",
              "1340                  None                 None                  None   \n",
              "1341                  None                 None                  None   \n",
              "1342                  None                 None                  None   \n",
              "1343                  None                 None                  None   \n",
              "\n",
              "     10:27.286226000000056 10:27.386017000000038 10:27.48580800000002  \\\n",
              "0                     None                  None                 None   \n",
              "1                     None                  None                 None   \n",
              "2                     None                  None                 None   \n",
              "3                     None                  None                 None   \n",
              "4                     None                  None                 None   \n",
              "...                    ...                   ...                  ...   \n",
              "1339                  None                  None                 None   \n",
              "1340                  None                  None                 None   \n",
              "1341                  None                  None                 None   \n",
              "1342                  None                  None                 None   \n",
              "1343                  None                  None                 None   \n",
              "\n",
              "     10:27.585599000000002    Target  \n",
              "0                     None  BASELINE  \n",
              "1                     None  BASELINE  \n",
              "2                     None   NEUTRAL  \n",
              "3                     None   NEUTRAL  \n",
              "4                     None   NEUTRAL  \n",
              "...                    ...       ...  \n",
              "1339                  None   NEUTRAL  \n",
              "1340                  None   NEUTRAL  \n",
              "1341                  None       AWE  \n",
              "1342                  None       AWE  \n",
              "1343                  None       AWE  \n",
              "\n",
              "[1344 rows x 6293 columns]"
            ],
            "text/html": [
              "\n",
              "  <div id=\"df-9f6563f5-4fce-40b3-81b2-bc5cf8a1aa71\">\n",
              "    <div class=\"colab-df-container\">\n",
              "      <div>\n",
              "<style scoped>\n",
              "    .dataframe tbody tr th:only-of-type {\n",
              "        vertical-align: middle;\n",
              "    }\n",
              "\n",
              "    .dataframe tbody tr th {\n",
              "        vertical-align: top;\n",
              "    }\n",
              "\n",
              "    .dataframe thead th {\n",
              "        text-align: right;\n",
              "    }\n",
              "</style>\n",
              "<table border=\"1\" class=\"dataframe\">\n",
              "  <thead>\n",
              "    <tr style=\"text-align: right;\">\n",
              "      <th></th>\n",
              "      <th>Participant</th>\n",
              "      <th>Stage</th>\n",
              "      <th>0:0.0</th>\n",
              "      <th>0:0.099791</th>\n",
              "      <th>0:0.199582</th>\n",
              "      <th>0:0.299373</th>\n",
              "      <th>0:0.399164</th>\n",
              "      <th>0:0.49895500000000004</th>\n",
              "      <th>0:0.598746</th>\n",
              "      <th>0:0.6985370000000001</th>\n",
              "      <th>...</th>\n",
              "      <th>10:26.787271000000032</th>\n",
              "      <th>10:26.887062000000014</th>\n",
              "      <th>10:26.986852999999996</th>\n",
              "      <th>10:27.08664399999998</th>\n",
              "      <th>10:27.186435000000074</th>\n",
              "      <th>10:27.286226000000056</th>\n",
              "      <th>10:27.386017000000038</th>\n",
              "      <th>10:27.48580800000002</th>\n",
              "      <th>10:27.585599000000002</th>\n",
              "      <th>Target</th>\n",
              "    </tr>\n",
              "  </thead>\n",
              "  <tbody>\n",
              "    <tr>\n",
              "      <th>0</th>\n",
              "      <td>22</td>\n",
              "      <td>STIMULUS</td>\n",
              "      <td>(87, 602)</td>\n",
              "      <td>(87, 602)</td>\n",
              "      <td>(87, 602)</td>\n",
              "      <td>(87, 602)</td>\n",
              "      <td>(87, 602)</td>\n",
              "      <td>(87, 602)</td>\n",
              "      <td>(87, 602)</td>\n",
              "      <td>(87, 406)</td>\n",
              "      <td>...</td>\n",
              "      <td>None</td>\n",
              "      <td>None</td>\n",
              "      <td>None</td>\n",
              "      <td>None</td>\n",
              "      <td>None</td>\n",
              "      <td>None</td>\n",
              "      <td>None</td>\n",
              "      <td>None</td>\n",
              "      <td>None</td>\n",
              "      <td>BASELINE</td>\n",
              "    </tr>\n",
              "    <tr>\n",
              "      <th>1</th>\n",
              "      <td>22</td>\n",
              "      <td>QUESTIONNAIRES</td>\n",
              "      <td>(85, 921)</td>\n",
              "      <td>(85, 921)</td>\n",
              "      <td>(85, 921)</td>\n",
              "      <td>(85, 921)</td>\n",
              "      <td>(85, 921)</td>\n",
              "      <td>(85, 921)</td>\n",
              "      <td>(85, 921)</td>\n",
              "      <td>(85, 921)</td>\n",
              "      <td>...</td>\n",
              "      <td>None</td>\n",
              "      <td>None</td>\n",
              "      <td>None</td>\n",
              "      <td>None</td>\n",
              "      <td>None</td>\n",
              "      <td>None</td>\n",
              "      <td>None</td>\n",
              "      <td>None</td>\n",
              "      <td>None</td>\n",
              "      <td>BASELINE</td>\n",
              "    </tr>\n",
              "    <tr>\n",
              "      <th>2</th>\n",
              "      <td>22</td>\n",
              "      <td>WASHOUT</td>\n",
              "      <td>(80, 749)</td>\n",
              "      <td>(80, 792)</td>\n",
              "      <td>(80, 792)</td>\n",
              "      <td>(80, 792)</td>\n",
              "      <td>(80, 792)</td>\n",
              "      <td>(80, 792)</td>\n",
              "      <td>(79, 792)</td>\n",
              "      <td>(79, 792)</td>\n",
              "      <td>...</td>\n",
              "      <td>None</td>\n",
              "      <td>None</td>\n",
              "      <td>None</td>\n",
              "      <td>None</td>\n",
              "      <td>None</td>\n",
              "      <td>None</td>\n",
              "      <td>None</td>\n",
              "      <td>None</td>\n",
              "      <td>None</td>\n",
              "      <td>NEUTRAL</td>\n",
              "    </tr>\n",
              "    <tr>\n",
              "      <th>3</th>\n",
              "      <td>22</td>\n",
              "      <td>STIMULUS</td>\n",
              "      <td>(81, 719)</td>\n",
              "      <td>(81, 719)</td>\n",
              "      <td>(81, 719)</td>\n",
              "      <td>(81, 719)</td>\n",
              "      <td>(81, 734)</td>\n",
              "      <td>(81, 734)</td>\n",
              "      <td>(81, 734)</td>\n",
              "      <td>(81, 734)</td>\n",
              "      <td>...</td>\n",
              "      <td>None</td>\n",
              "      <td>None</td>\n",
              "      <td>None</td>\n",
              "      <td>None</td>\n",
              "      <td>None</td>\n",
              "      <td>None</td>\n",
              "      <td>None</td>\n",
              "      <td>None</td>\n",
              "      <td>None</td>\n",
              "      <td>NEUTRAL</td>\n",
              "    </tr>\n",
              "    <tr>\n",
              "      <th>4</th>\n",
              "      <td>22</td>\n",
              "      <td>QUESTIONNAIRES</td>\n",
              "      <td>(83, 702)</td>\n",
              "      <td>(82, 702)</td>\n",
              "      <td>(83, 702)</td>\n",
              "      <td>(83, 702)</td>\n",
              "      <td>(83, 702)</td>\n",
              "      <td>(82, 702)</td>\n",
              "      <td>(82, 702)</td>\n",
              "      <td>(82, 702)</td>\n",
              "      <td>...</td>\n",
              "      <td>None</td>\n",
              "      <td>None</td>\n",
              "      <td>None</td>\n",
              "      <td>None</td>\n",
              "      <td>None</td>\n",
              "      <td>None</td>\n",
              "      <td>None</td>\n",
              "      <td>None</td>\n",
              "      <td>None</td>\n",
              "      <td>NEUTRAL</td>\n",
              "    </tr>\n",
              "    <tr>\n",
              "      <th>...</th>\n",
              "      <td>...</td>\n",
              "      <td>...</td>\n",
              "      <td>...</td>\n",
              "      <td>...</td>\n",
              "      <td>...</td>\n",
              "      <td>...</td>\n",
              "      <td>...</td>\n",
              "      <td>...</td>\n",
              "      <td>...</td>\n",
              "      <td>...</td>\n",
              "      <td>...</td>\n",
              "      <td>...</td>\n",
              "      <td>...</td>\n",
              "      <td>...</td>\n",
              "      <td>...</td>\n",
              "      <td>...</td>\n",
              "      <td>...</td>\n",
              "      <td>...</td>\n",
              "      <td>...</td>\n",
              "      <td>...</td>\n",
              "      <td>...</td>\n",
              "    </tr>\n",
              "    <tr>\n",
              "      <th>1339</th>\n",
              "      <td>64</td>\n",
              "      <td>STIMULUS</td>\n",
              "      <td>(78, 516)</td>\n",
              "      <td>(78, 516)</td>\n",
              "      <td>(78, 516)</td>\n",
              "      <td>(78, 634)</td>\n",
              "      <td>(78, 634)</td>\n",
              "      <td>(78, 634)</td>\n",
              "      <td>(78, 634)</td>\n",
              "      <td>(78, 634)</td>\n",
              "      <td>...</td>\n",
              "      <td>None</td>\n",
              "      <td>None</td>\n",
              "      <td>None</td>\n",
              "      <td>None</td>\n",
              "      <td>None</td>\n",
              "      <td>None</td>\n",
              "      <td>None</td>\n",
              "      <td>None</td>\n",
              "      <td>None</td>\n",
              "      <td>NEUTRAL</td>\n",
              "    </tr>\n",
              "    <tr>\n",
              "      <th>1340</th>\n",
              "      <td>64</td>\n",
              "      <td>QUESTIONNAIRES</td>\n",
              "      <td>(77, 799)</td>\n",
              "      <td>(77, 799)</td>\n",
              "      <td>(77, 816)</td>\n",
              "      <td>(77, 816)</td>\n",
              "      <td>(77, 816)</td>\n",
              "      <td>(77, 816)</td>\n",
              "      <td>(77, 816)</td>\n",
              "      <td>(77, 816)</td>\n",
              "      <td>...</td>\n",
              "      <td>None</td>\n",
              "      <td>None</td>\n",
              "      <td>None</td>\n",
              "      <td>None</td>\n",
              "      <td>None</td>\n",
              "      <td>None</td>\n",
              "      <td>None</td>\n",
              "      <td>None</td>\n",
              "      <td>None</td>\n",
              "      <td>NEUTRAL</td>\n",
              "    </tr>\n",
              "    <tr>\n",
              "      <th>1341</th>\n",
              "      <td>64</td>\n",
              "      <td>WASHOUT</td>\n",
              "      <td>(0, 987)</td>\n",
              "      <td>(0, 987)</td>\n",
              "      <td>(0, 987)</td>\n",
              "      <td>(0, 987)</td>\n",
              "      <td>(-10, 987)</td>\n",
              "      <td>(-10, 987)</td>\n",
              "      <td>(-10, 987)</td>\n",
              "      <td>(-10, 987)</td>\n",
              "      <td>...</td>\n",
              "      <td>None</td>\n",
              "      <td>None</td>\n",
              "      <td>None</td>\n",
              "      <td>None</td>\n",
              "      <td>None</td>\n",
              "      <td>None</td>\n",
              "      <td>None</td>\n",
              "      <td>None</td>\n",
              "      <td>None</td>\n",
              "      <td>AWE</td>\n",
              "    </tr>\n",
              "    <tr>\n",
              "      <th>1342</th>\n",
              "      <td>64</td>\n",
              "      <td>STIMULUS</td>\n",
              "      <td>(69, 829)</td>\n",
              "      <td>(68, 829)</td>\n",
              "      <td>(69, 829)</td>\n",
              "      <td>(69, 829)</td>\n",
              "      <td>(69, 829)</td>\n",
              "      <td>(69, 1248)</td>\n",
              "      <td>(68, 1248)</td>\n",
              "      <td>(68, 1248)</td>\n",
              "      <td>...</td>\n",
              "      <td>None</td>\n",
              "      <td>None</td>\n",
              "      <td>None</td>\n",
              "      <td>None</td>\n",
              "      <td>None</td>\n",
              "      <td>None</td>\n",
              "      <td>None</td>\n",
              "      <td>None</td>\n",
              "      <td>None</td>\n",
              "      <td>AWE</td>\n",
              "    </tr>\n",
              "    <tr>\n",
              "      <th>1343</th>\n",
              "      <td>64</td>\n",
              "      <td>QUESTIONNAIRES</td>\n",
              "      <td>(66, 1245)</td>\n",
              "      <td>(65, 1245)</td>\n",
              "      <td>(65, 1245)</td>\n",
              "      <td>(65, 881)</td>\n",
              "      <td>(65, 881)</td>\n",
              "      <td>(65, 881)</td>\n",
              "      <td>(65, 881)</td>\n",
              "      <td>(65, 881)</td>\n",
              "      <td>...</td>\n",
              "      <td>None</td>\n",
              "      <td>None</td>\n",
              "      <td>None</td>\n",
              "      <td>None</td>\n",
              "      <td>None</td>\n",
              "      <td>None</td>\n",
              "      <td>None</td>\n",
              "      <td>None</td>\n",
              "      <td>None</td>\n",
              "      <td>AWE</td>\n",
              "    </tr>\n",
              "  </tbody>\n",
              "</table>\n",
              "<p>1344 rows × 6293 columns</p>\n",
              "</div>\n",
              "      <button class=\"colab-df-convert\" onclick=\"convertToInteractive('df-9f6563f5-4fce-40b3-81b2-bc5cf8a1aa71')\"\n",
              "              title=\"Convert this dataframe to an interactive table.\"\n",
              "              style=\"display:none;\">\n",
              "        \n",
              "  <svg xmlns=\"http://www.w3.org/2000/svg\" height=\"24px\"viewBox=\"0 0 24 24\"\n",
              "       width=\"24px\">\n",
              "    <path d=\"M0 0h24v24H0V0z\" fill=\"none\"/>\n",
              "    <path d=\"M18.56 5.44l.94 2.06.94-2.06 2.06-.94-2.06-.94-.94-2.06-.94 2.06-2.06.94zm-11 1L8.5 8.5l.94-2.06 2.06-.94-2.06-.94L8.5 2.5l-.94 2.06-2.06.94zm10 10l.94 2.06.94-2.06 2.06-.94-2.06-.94-.94-2.06-.94 2.06-2.06.94z\"/><path d=\"M17.41 7.96l-1.37-1.37c-.4-.4-.92-.59-1.43-.59-.52 0-1.04.2-1.43.59L10.3 9.45l-7.72 7.72c-.78.78-.78 2.05 0 2.83L4 21.41c.39.39.9.59 1.41.59.51 0 1.02-.2 1.41-.59l7.78-7.78 2.81-2.81c.8-.78.8-2.07 0-2.86zM5.41 20L4 18.59l7.72-7.72 1.47 1.35L5.41 20z\"/>\n",
              "  </svg>\n",
              "      </button>\n",
              "      \n",
              "  <style>\n",
              "    .colab-df-container {\n",
              "      display:flex;\n",
              "      flex-wrap:wrap;\n",
              "      gap: 12px;\n",
              "    }\n",
              "\n",
              "    .colab-df-convert {\n",
              "      background-color: #E8F0FE;\n",
              "      border: none;\n",
              "      border-radius: 50%;\n",
              "      cursor: pointer;\n",
              "      display: none;\n",
              "      fill: #1967D2;\n",
              "      height: 32px;\n",
              "      padding: 0 0 0 0;\n",
              "      width: 32px;\n",
              "    }\n",
              "\n",
              "    .colab-df-convert:hover {\n",
              "      background-color: #E2EBFA;\n",
              "      box-shadow: 0px 1px 2px rgba(60, 64, 67, 0.3), 0px 1px 3px 1px rgba(60, 64, 67, 0.15);\n",
              "      fill: #174EA6;\n",
              "    }\n",
              "\n",
              "    [theme=dark] .colab-df-convert {\n",
              "      background-color: #3B4455;\n",
              "      fill: #D2E3FC;\n",
              "    }\n",
              "\n",
              "    [theme=dark] .colab-df-convert:hover {\n",
              "      background-color: #434B5C;\n",
              "      box-shadow: 0px 1px 3px 1px rgba(0, 0, 0, 0.15);\n",
              "      filter: drop-shadow(0px 1px 2px rgba(0, 0, 0, 0.3));\n",
              "      fill: #FFFFFF;\n",
              "    }\n",
              "  </style>\n",
              "\n",
              "      <script>\n",
              "        const buttonEl =\n",
              "          document.querySelector('#df-9f6563f5-4fce-40b3-81b2-bc5cf8a1aa71 button.colab-df-convert');\n",
              "        buttonEl.style.display =\n",
              "          google.colab.kernel.accessAllowed ? 'block' : 'none';\n",
              "\n",
              "        async function convertToInteractive(key) {\n",
              "          const element = document.querySelector('#df-9f6563f5-4fce-40b3-81b2-bc5cf8a1aa71');\n",
              "          const dataTable =\n",
              "            await google.colab.kernel.invokeFunction('convertToInteractive',\n",
              "                                                     [key], {});\n",
              "          if (!dataTable) return;\n",
              "\n",
              "          const docLinkHtml = 'Like what you see? Visit the ' +\n",
              "            '<a target=\"_blank\" href=https://colab.research.google.com/notebooks/data_table.ipynb>data table notebook</a>'\n",
              "            + ' to learn more about interactive tables.';\n",
              "          element.innerHTML = '';\n",
              "          dataTable['output_type'] = 'display_data';\n",
              "          await google.colab.output.renderOutput(dataTable, element);\n",
              "          const docLink = document.createElement('div');\n",
              "          docLink.innerHTML = docLinkHtml;\n",
              "          element.appendChild(docLink);\n",
              "        }\n",
              "      </script>\n",
              "    </div>\n",
              "  </div>\n",
              "  "
            ]
          },
          "metadata": {},
          "execution_count": 412
        }
      ],
      "source": [
        "df"
      ]
    },
    {
      "cell_type": "code",
      "execution_count": 306,
      "metadata": {
        "id": "_K3hMSCAFyLz"
      },
      "outputs": [],
      "source": [
        "mask = data[\"Stage\"] == \"STIMULUS\"\n",
        "mask2 =data[\"Stage\"] == \"QUESTIONNAIRES\"\n",
        "mask3 = data[\"Stage\"] == \"WASHOUT\"\n",
        "hr_df = df.loc[mask , [*data.columns[0:6293]]].applymap(lambda x:getter(x))\n",
        "#hr_df=df[0:6293].applymap(lambda x:getter(x))"
      ]
    },
    {
      "cell_type": "code",
      "execution_count": 307,
      "metadata": {
        "colab": {
          "base_uri": "https://localhost:8080/",
          "height": 488
        },
        "id": "Howx4yUIF8F1",
        "outputId": "a2cb0952-5c83-42e5-f10a-699123ae6bf2"
      },
      "outputs": [
        {
          "output_type": "execute_result",
          "data": {
            "text/plain": [
              "      Participant     Stage  0:0.0  0:0.099791  0:0.199582  0:0.299373  \\\n",
              "0              22  STIMULUS     87          87          87          87   \n",
              "3              22  STIMULUS     81          81          81          81   \n",
              "6              22  STIMULUS     85          85          85          85   \n",
              "9              22  STIMULUS     85          86          85          86   \n",
              "12             22  STIMULUS     83          83          83          83   \n",
              "...           ...       ...    ...         ...         ...         ...   \n",
              "1330           64  STIMULUS     78          79          79          79   \n",
              "1333           64  STIMULUS     77          77          77          77   \n",
              "1336           64  STIMULUS     97          97          97          97   \n",
              "1339           64  STIMULUS     78          78          78          78   \n",
              "1342           64  STIMULUS     69          68          69          69   \n",
              "\n",
              "      0:0.399164  0:0.49895500000000004  0:0.598746  0:0.6985370000000001  \\\n",
              "0             87                     87          87                    87   \n",
              "3             81                     81          81                    81   \n",
              "6             85                     86          86                    86   \n",
              "9             85                     85          85                    85   \n",
              "12            83                     82          83                    83   \n",
              "...          ...                    ...         ...                   ...   \n",
              "1330          78                     79          79                    79   \n",
              "1333          77                     77          77                    77   \n",
              "1336          97                     97          97                    98   \n",
              "1339          78                     78          78                    78   \n",
              "1342          69                     69          68                    68   \n",
              "\n",
              "      ...  10:26.787271000000032  10:26.887062000000014  \\\n",
              "0     ...                    NaN                    NaN   \n",
              "3     ...                    NaN                    NaN   \n",
              "6     ...                    NaN                    NaN   \n",
              "9     ...                    NaN                    NaN   \n",
              "12    ...                    NaN                    NaN   \n",
              "...   ...                    ...                    ...   \n",
              "1330  ...                    NaN                    NaN   \n",
              "1333  ...                    NaN                    NaN   \n",
              "1336  ...                    NaN                    NaN   \n",
              "1339  ...                    NaN                    NaN   \n",
              "1342  ...                    NaN                    NaN   \n",
              "\n",
              "      10:26.986852999999996  10:27.08664399999998  10:27.186435000000074  \\\n",
              "0                       NaN                   NaN                    NaN   \n",
              "3                       NaN                   NaN                    NaN   \n",
              "6                       NaN                   NaN                    NaN   \n",
              "9                       NaN                   NaN                    NaN   \n",
              "12                      NaN                   NaN                    NaN   \n",
              "...                     ...                   ...                    ...   \n",
              "1330                    NaN                   NaN                    NaN   \n",
              "1333                    NaN                   NaN                    NaN   \n",
              "1336                    NaN                   NaN                    NaN   \n",
              "1339                    NaN                   NaN                    NaN   \n",
              "1342                    NaN                   NaN                    NaN   \n",
              "\n",
              "      10:27.286226000000056  10:27.386017000000038  10:27.48580800000002  \\\n",
              "0                       NaN                    NaN                   NaN   \n",
              "3                       NaN                    NaN                   NaN   \n",
              "6                       NaN                    NaN                   NaN   \n",
              "9                       NaN                    NaN                   NaN   \n",
              "12                      NaN                    NaN                   NaN   \n",
              "...                     ...                    ...                   ...   \n",
              "1330                    NaN                    NaN                   NaN   \n",
              "1333                    NaN                    NaN                   NaN   \n",
              "1336                    NaN                    NaN                   NaN   \n",
              "1339                    NaN                    NaN                   NaN   \n",
              "1342                    NaN                    NaN                   NaN   \n",
              "\n",
              "      10:27.585599000000002     Target  \n",
              "0                       NaN   BASELINE  \n",
              "3                       NaN    NEUTRAL  \n",
              "6                       NaN        AWE  \n",
              "9                       NaN    DISGUST  \n",
              "12                      NaN   SURPRISE  \n",
              "...                     ...        ...  \n",
              "1330                    NaN       FEAR  \n",
              "1333                    NaN  AMUSEMENT  \n",
              "1336                    NaN    SADNESS  \n",
              "1339                    NaN    NEUTRAL  \n",
              "1342                    NaN        AWE  \n",
              "\n",
              "[462 rows x 6293 columns]"
            ],
            "text/html": [
              "\n",
              "  <div id=\"df-5aacd124-94e2-4872-99cf-7245a1eeca20\">\n",
              "    <div class=\"colab-df-container\">\n",
              "      <div>\n",
              "<style scoped>\n",
              "    .dataframe tbody tr th:only-of-type {\n",
              "        vertical-align: middle;\n",
              "    }\n",
              "\n",
              "    .dataframe tbody tr th {\n",
              "        vertical-align: top;\n",
              "    }\n",
              "\n",
              "    .dataframe thead th {\n",
              "        text-align: right;\n",
              "    }\n",
              "</style>\n",
              "<table border=\"1\" class=\"dataframe\">\n",
              "  <thead>\n",
              "    <tr style=\"text-align: right;\">\n",
              "      <th></th>\n",
              "      <th>Participant</th>\n",
              "      <th>Stage</th>\n",
              "      <th>0:0.0</th>\n",
              "      <th>0:0.099791</th>\n",
              "      <th>0:0.199582</th>\n",
              "      <th>0:0.299373</th>\n",
              "      <th>0:0.399164</th>\n",
              "      <th>0:0.49895500000000004</th>\n",
              "      <th>0:0.598746</th>\n",
              "      <th>0:0.6985370000000001</th>\n",
              "      <th>...</th>\n",
              "      <th>10:26.787271000000032</th>\n",
              "      <th>10:26.887062000000014</th>\n",
              "      <th>10:26.986852999999996</th>\n",
              "      <th>10:27.08664399999998</th>\n",
              "      <th>10:27.186435000000074</th>\n",
              "      <th>10:27.286226000000056</th>\n",
              "      <th>10:27.386017000000038</th>\n",
              "      <th>10:27.48580800000002</th>\n",
              "      <th>10:27.585599000000002</th>\n",
              "      <th>Target</th>\n",
              "    </tr>\n",
              "  </thead>\n",
              "  <tbody>\n",
              "    <tr>\n",
              "      <th>0</th>\n",
              "      <td>22</td>\n",
              "      <td>STIMULUS</td>\n",
              "      <td>87</td>\n",
              "      <td>87</td>\n",
              "      <td>87</td>\n",
              "      <td>87</td>\n",
              "      <td>87</td>\n",
              "      <td>87</td>\n",
              "      <td>87</td>\n",
              "      <td>87</td>\n",
              "      <td>...</td>\n",
              "      <td>NaN</td>\n",
              "      <td>NaN</td>\n",
              "      <td>NaN</td>\n",
              "      <td>NaN</td>\n",
              "      <td>NaN</td>\n",
              "      <td>NaN</td>\n",
              "      <td>NaN</td>\n",
              "      <td>NaN</td>\n",
              "      <td>NaN</td>\n",
              "      <td>BASELINE</td>\n",
              "    </tr>\n",
              "    <tr>\n",
              "      <th>3</th>\n",
              "      <td>22</td>\n",
              "      <td>STIMULUS</td>\n",
              "      <td>81</td>\n",
              "      <td>81</td>\n",
              "      <td>81</td>\n",
              "      <td>81</td>\n",
              "      <td>81</td>\n",
              "      <td>81</td>\n",
              "      <td>81</td>\n",
              "      <td>81</td>\n",
              "      <td>...</td>\n",
              "      <td>NaN</td>\n",
              "      <td>NaN</td>\n",
              "      <td>NaN</td>\n",
              "      <td>NaN</td>\n",
              "      <td>NaN</td>\n",
              "      <td>NaN</td>\n",
              "      <td>NaN</td>\n",
              "      <td>NaN</td>\n",
              "      <td>NaN</td>\n",
              "      <td>NEUTRAL</td>\n",
              "    </tr>\n",
              "    <tr>\n",
              "      <th>6</th>\n",
              "      <td>22</td>\n",
              "      <td>STIMULUS</td>\n",
              "      <td>85</td>\n",
              "      <td>85</td>\n",
              "      <td>85</td>\n",
              "      <td>85</td>\n",
              "      <td>85</td>\n",
              "      <td>86</td>\n",
              "      <td>86</td>\n",
              "      <td>86</td>\n",
              "      <td>...</td>\n",
              "      <td>NaN</td>\n",
              "      <td>NaN</td>\n",
              "      <td>NaN</td>\n",
              "      <td>NaN</td>\n",
              "      <td>NaN</td>\n",
              "      <td>NaN</td>\n",
              "      <td>NaN</td>\n",
              "      <td>NaN</td>\n",
              "      <td>NaN</td>\n",
              "      <td>AWE</td>\n",
              "    </tr>\n",
              "    <tr>\n",
              "      <th>9</th>\n",
              "      <td>22</td>\n",
              "      <td>STIMULUS</td>\n",
              "      <td>85</td>\n",
              "      <td>86</td>\n",
              "      <td>85</td>\n",
              "      <td>86</td>\n",
              "      <td>85</td>\n",
              "      <td>85</td>\n",
              "      <td>85</td>\n",
              "      <td>85</td>\n",
              "      <td>...</td>\n",
              "      <td>NaN</td>\n",
              "      <td>NaN</td>\n",
              "      <td>NaN</td>\n",
              "      <td>NaN</td>\n",
              "      <td>NaN</td>\n",
              "      <td>NaN</td>\n",
              "      <td>NaN</td>\n",
              "      <td>NaN</td>\n",
              "      <td>NaN</td>\n",
              "      <td>DISGUST</td>\n",
              "    </tr>\n",
              "    <tr>\n",
              "      <th>12</th>\n",
              "      <td>22</td>\n",
              "      <td>STIMULUS</td>\n",
              "      <td>83</td>\n",
              "      <td>83</td>\n",
              "      <td>83</td>\n",
              "      <td>83</td>\n",
              "      <td>83</td>\n",
              "      <td>82</td>\n",
              "      <td>83</td>\n",
              "      <td>83</td>\n",
              "      <td>...</td>\n",
              "      <td>NaN</td>\n",
              "      <td>NaN</td>\n",
              "      <td>NaN</td>\n",
              "      <td>NaN</td>\n",
              "      <td>NaN</td>\n",
              "      <td>NaN</td>\n",
              "      <td>NaN</td>\n",
              "      <td>NaN</td>\n",
              "      <td>NaN</td>\n",
              "      <td>SURPRISE</td>\n",
              "    </tr>\n",
              "    <tr>\n",
              "      <th>...</th>\n",
              "      <td>...</td>\n",
              "      <td>...</td>\n",
              "      <td>...</td>\n",
              "      <td>...</td>\n",
              "      <td>...</td>\n",
              "      <td>...</td>\n",
              "      <td>...</td>\n",
              "      <td>...</td>\n",
              "      <td>...</td>\n",
              "      <td>...</td>\n",
              "      <td>...</td>\n",
              "      <td>...</td>\n",
              "      <td>...</td>\n",
              "      <td>...</td>\n",
              "      <td>...</td>\n",
              "      <td>...</td>\n",
              "      <td>...</td>\n",
              "      <td>...</td>\n",
              "      <td>...</td>\n",
              "      <td>...</td>\n",
              "      <td>...</td>\n",
              "    </tr>\n",
              "    <tr>\n",
              "      <th>1330</th>\n",
              "      <td>64</td>\n",
              "      <td>STIMULUS</td>\n",
              "      <td>78</td>\n",
              "      <td>79</td>\n",
              "      <td>79</td>\n",
              "      <td>79</td>\n",
              "      <td>78</td>\n",
              "      <td>79</td>\n",
              "      <td>79</td>\n",
              "      <td>79</td>\n",
              "      <td>...</td>\n",
              "      <td>NaN</td>\n",
              "      <td>NaN</td>\n",
              "      <td>NaN</td>\n",
              "      <td>NaN</td>\n",
              "      <td>NaN</td>\n",
              "      <td>NaN</td>\n",
              "      <td>NaN</td>\n",
              "      <td>NaN</td>\n",
              "      <td>NaN</td>\n",
              "      <td>FEAR</td>\n",
              "    </tr>\n",
              "    <tr>\n",
              "      <th>1333</th>\n",
              "      <td>64</td>\n",
              "      <td>STIMULUS</td>\n",
              "      <td>77</td>\n",
              "      <td>77</td>\n",
              "      <td>77</td>\n",
              "      <td>77</td>\n",
              "      <td>77</td>\n",
              "      <td>77</td>\n",
              "      <td>77</td>\n",
              "      <td>77</td>\n",
              "      <td>...</td>\n",
              "      <td>NaN</td>\n",
              "      <td>NaN</td>\n",
              "      <td>NaN</td>\n",
              "      <td>NaN</td>\n",
              "      <td>NaN</td>\n",
              "      <td>NaN</td>\n",
              "      <td>NaN</td>\n",
              "      <td>NaN</td>\n",
              "      <td>NaN</td>\n",
              "      <td>AMUSEMENT</td>\n",
              "    </tr>\n",
              "    <tr>\n",
              "      <th>1336</th>\n",
              "      <td>64</td>\n",
              "      <td>STIMULUS</td>\n",
              "      <td>97</td>\n",
              "      <td>97</td>\n",
              "      <td>97</td>\n",
              "      <td>97</td>\n",
              "      <td>97</td>\n",
              "      <td>97</td>\n",
              "      <td>97</td>\n",
              "      <td>98</td>\n",
              "      <td>...</td>\n",
              "      <td>NaN</td>\n",
              "      <td>NaN</td>\n",
              "      <td>NaN</td>\n",
              "      <td>NaN</td>\n",
              "      <td>NaN</td>\n",
              "      <td>NaN</td>\n",
              "      <td>NaN</td>\n",
              "      <td>NaN</td>\n",
              "      <td>NaN</td>\n",
              "      <td>SADNESS</td>\n",
              "    </tr>\n",
              "    <tr>\n",
              "      <th>1339</th>\n",
              "      <td>64</td>\n",
              "      <td>STIMULUS</td>\n",
              "      <td>78</td>\n",
              "      <td>78</td>\n",
              "      <td>78</td>\n",
              "      <td>78</td>\n",
              "      <td>78</td>\n",
              "      <td>78</td>\n",
              "      <td>78</td>\n",
              "      <td>78</td>\n",
              "      <td>...</td>\n",
              "      <td>NaN</td>\n",
              "      <td>NaN</td>\n",
              "      <td>NaN</td>\n",
              "      <td>NaN</td>\n",
              "      <td>NaN</td>\n",
              "      <td>NaN</td>\n",
              "      <td>NaN</td>\n",
              "      <td>NaN</td>\n",
              "      <td>NaN</td>\n",
              "      <td>NEUTRAL</td>\n",
              "    </tr>\n",
              "    <tr>\n",
              "      <th>1342</th>\n",
              "      <td>64</td>\n",
              "      <td>STIMULUS</td>\n",
              "      <td>69</td>\n",
              "      <td>68</td>\n",
              "      <td>69</td>\n",
              "      <td>69</td>\n",
              "      <td>69</td>\n",
              "      <td>69</td>\n",
              "      <td>68</td>\n",
              "      <td>68</td>\n",
              "      <td>...</td>\n",
              "      <td>NaN</td>\n",
              "      <td>NaN</td>\n",
              "      <td>NaN</td>\n",
              "      <td>NaN</td>\n",
              "      <td>NaN</td>\n",
              "      <td>NaN</td>\n",
              "      <td>NaN</td>\n",
              "      <td>NaN</td>\n",
              "      <td>NaN</td>\n",
              "      <td>AWE</td>\n",
              "    </tr>\n",
              "  </tbody>\n",
              "</table>\n",
              "<p>462 rows × 6293 columns</p>\n",
              "</div>\n",
              "      <button class=\"colab-df-convert\" onclick=\"convertToInteractive('df-5aacd124-94e2-4872-99cf-7245a1eeca20')\"\n",
              "              title=\"Convert this dataframe to an interactive table.\"\n",
              "              style=\"display:none;\">\n",
              "        \n",
              "  <svg xmlns=\"http://www.w3.org/2000/svg\" height=\"24px\"viewBox=\"0 0 24 24\"\n",
              "       width=\"24px\">\n",
              "    <path d=\"M0 0h24v24H0V0z\" fill=\"none\"/>\n",
              "    <path d=\"M18.56 5.44l.94 2.06.94-2.06 2.06-.94-2.06-.94-.94-2.06-.94 2.06-2.06.94zm-11 1L8.5 8.5l.94-2.06 2.06-.94-2.06-.94L8.5 2.5l-.94 2.06-2.06.94zm10 10l.94 2.06.94-2.06 2.06-.94-2.06-.94-.94-2.06-.94 2.06-2.06.94z\"/><path d=\"M17.41 7.96l-1.37-1.37c-.4-.4-.92-.59-1.43-.59-.52 0-1.04.2-1.43.59L10.3 9.45l-7.72 7.72c-.78.78-.78 2.05 0 2.83L4 21.41c.39.39.9.59 1.41.59.51 0 1.02-.2 1.41-.59l7.78-7.78 2.81-2.81c.8-.78.8-2.07 0-2.86zM5.41 20L4 18.59l7.72-7.72 1.47 1.35L5.41 20z\"/>\n",
              "  </svg>\n",
              "      </button>\n",
              "      \n",
              "  <style>\n",
              "    .colab-df-container {\n",
              "      display:flex;\n",
              "      flex-wrap:wrap;\n",
              "      gap: 12px;\n",
              "    }\n",
              "\n",
              "    .colab-df-convert {\n",
              "      background-color: #E8F0FE;\n",
              "      border: none;\n",
              "      border-radius: 50%;\n",
              "      cursor: pointer;\n",
              "      display: none;\n",
              "      fill: #1967D2;\n",
              "      height: 32px;\n",
              "      padding: 0 0 0 0;\n",
              "      width: 32px;\n",
              "    }\n",
              "\n",
              "    .colab-df-convert:hover {\n",
              "      background-color: #E2EBFA;\n",
              "      box-shadow: 0px 1px 2px rgba(60, 64, 67, 0.3), 0px 1px 3px 1px rgba(60, 64, 67, 0.15);\n",
              "      fill: #174EA6;\n",
              "    }\n",
              "\n",
              "    [theme=dark] .colab-df-convert {\n",
              "      background-color: #3B4455;\n",
              "      fill: #D2E3FC;\n",
              "    }\n",
              "\n",
              "    [theme=dark] .colab-df-convert:hover {\n",
              "      background-color: #434B5C;\n",
              "      box-shadow: 0px 1px 3px 1px rgba(0, 0, 0, 0.15);\n",
              "      filter: drop-shadow(0px 1px 2px rgba(0, 0, 0, 0.3));\n",
              "      fill: #FFFFFF;\n",
              "    }\n",
              "  </style>\n",
              "\n",
              "      <script>\n",
              "        const buttonEl =\n",
              "          document.querySelector('#df-5aacd124-94e2-4872-99cf-7245a1eeca20 button.colab-df-convert');\n",
              "        buttonEl.style.display =\n",
              "          google.colab.kernel.accessAllowed ? 'block' : 'none';\n",
              "\n",
              "        async function convertToInteractive(key) {\n",
              "          const element = document.querySelector('#df-5aacd124-94e2-4872-99cf-7245a1eeca20');\n",
              "          const dataTable =\n",
              "            await google.colab.kernel.invokeFunction('convertToInteractive',\n",
              "                                                     [key], {});\n",
              "          if (!dataTable) return;\n",
              "\n",
              "          const docLinkHtml = 'Like what you see? Visit the ' +\n",
              "            '<a target=\"_blank\" href=https://colab.research.google.com/notebooks/data_table.ipynb>data table notebook</a>'\n",
              "            + ' to learn more about interactive tables.';\n",
              "          element.innerHTML = '';\n",
              "          dataTable['output_type'] = 'display_data';\n",
              "          await google.colab.output.renderOutput(dataTable, element);\n",
              "          const docLink = document.createElement('div');\n",
              "          docLink.innerHTML = docLinkHtml;\n",
              "          element.appendChild(docLink);\n",
              "        }\n",
              "      </script>\n",
              "    </div>\n",
              "  </div>\n",
              "  "
            ]
          },
          "metadata": {},
          "execution_count": 307
        }
      ],
      "source": [
        "hr_df"
      ]
    },
    {
      "cell_type": "code",
      "execution_count": 308,
      "metadata": {
        "id": "aERCcstLF-DZ"
      },
      "outputs": [],
      "source": [
        "hr_df.fillna(0,inplace=True)"
      ]
    },
    {
      "cell_type": "code",
      "execution_count": 309,
      "metadata": {
        "id": "3byEYg7dGGqM"
      },
      "outputs": [],
      "source": [
        "#hr_df=hr_df.drop(hr_df.index[1341])\n",
        "#hr_df=hr_df.drop(hr_df.index[1338])"
      ]
    },
    {
      "cell_type": "code",
      "execution_count": 264,
      "metadata": {
        "id": "4Ev8wUQBGKNv"
      },
      "outputs": [],
      "source": [
        "hr_df=hr_df.iloc[: , 2:]\n",
        "#"
      ]
    },
    {
      "cell_type": "code",
      "execution_count": 295,
      "metadata": {
        "colab": {
          "base_uri": "https://localhost:8080/",
          "height": 488
        },
        "id": "4g_MFSG6GVak",
        "outputId": "8810170e-5f12-4233-88b7-b26d8b59eccf"
      },
      "outputs": [
        {
          "output_type": "execute_result",
          "data": {
            "text/plain": [
              "      Participant     Stage  0:0.0  0:0.099791  0:0.199582  0:0.299373  \\\n",
              "0              22  STIMULUS     87          87          87          87   \n",
              "3              22  STIMULUS     81          81          81          81   \n",
              "6              22  STIMULUS     85          85          85          85   \n",
              "9              22  STIMULUS     85          86          85          86   \n",
              "12             22  STIMULUS     83          83          83          83   \n",
              "...           ...       ...    ...         ...         ...         ...   \n",
              "1330           64  STIMULUS     78          79          79          79   \n",
              "1333           64  STIMULUS     77          77          77          77   \n",
              "1336           64  STIMULUS     97          97          97          97   \n",
              "1339           64  STIMULUS     78          78          78          78   \n",
              "1342           64  STIMULUS     69          68          69          69   \n",
              "\n",
              "      0:0.399164  0:0.49895500000000004  0:0.598746  0:0.6985370000000001  \\\n",
              "0             87                     87          87                    87   \n",
              "3             81                     81          81                    81   \n",
              "6             85                     86          86                    86   \n",
              "9             85                     85          85                    85   \n",
              "12            83                     82          83                    83   \n",
              "...          ...                    ...         ...                   ...   \n",
              "1330          78                     79          79                    79   \n",
              "1333          77                     77          77                    77   \n",
              "1336          97                     97          97                    98   \n",
              "1339          78                     78          78                    78   \n",
              "1342          69                     69          68                    68   \n",
              "\n",
              "      ...  10:26.787271000000032  10:26.887062000000014  \\\n",
              "0     ...                    0.0                    0.0   \n",
              "3     ...                    0.0                    0.0   \n",
              "6     ...                    0.0                    0.0   \n",
              "9     ...                    0.0                    0.0   \n",
              "12    ...                    0.0                    0.0   \n",
              "...   ...                    ...                    ...   \n",
              "1330  ...                    0.0                    0.0   \n",
              "1333  ...                    0.0                    0.0   \n",
              "1336  ...                    0.0                    0.0   \n",
              "1339  ...                    0.0                    0.0   \n",
              "1342  ...                    0.0                    0.0   \n",
              "\n",
              "      10:26.986852999999996  10:27.08664399999998  10:27.186435000000074  \\\n",
              "0                       0.0                   0.0                    0.0   \n",
              "3                       0.0                   0.0                    0.0   \n",
              "6                       0.0                   0.0                    0.0   \n",
              "9                       0.0                   0.0                    0.0   \n",
              "12                      0.0                   0.0                    0.0   \n",
              "...                     ...                   ...                    ...   \n",
              "1330                    0.0                   0.0                    0.0   \n",
              "1333                    0.0                   0.0                    0.0   \n",
              "1336                    0.0                   0.0                    0.0   \n",
              "1339                    0.0                   0.0                    0.0   \n",
              "1342                    0.0                   0.0                    0.0   \n",
              "\n",
              "      10:27.286226000000056  10:27.386017000000038  10:27.48580800000002  \\\n",
              "0                       0.0                    0.0                   0.0   \n",
              "3                       0.0                    0.0                   0.0   \n",
              "6                       0.0                    0.0                   0.0   \n",
              "9                       0.0                    0.0                   0.0   \n",
              "12                      0.0                    0.0                   0.0   \n",
              "...                     ...                    ...                   ...   \n",
              "1330                    0.0                    0.0                   0.0   \n",
              "1333                    0.0                    0.0                   0.0   \n",
              "1336                    0.0                    0.0                   0.0   \n",
              "1339                    0.0                    0.0                   0.0   \n",
              "1342                    0.0                    0.0                   0.0   \n",
              "\n",
              "      10:27.585599000000002     Target  \n",
              "0                       0.0   BASELINE  \n",
              "3                       0.0    NEUTRAL  \n",
              "6                       0.0        AWE  \n",
              "9                       0.0    DISGUST  \n",
              "12                      0.0   SURPRISE  \n",
              "...                     ...        ...  \n",
              "1330                    0.0       FEAR  \n",
              "1333                    0.0  AMUSEMENT  \n",
              "1336                    0.0    SADNESS  \n",
              "1339                    0.0    NEUTRAL  \n",
              "1342                    0.0        AWE  \n",
              "\n",
              "[462 rows x 6293 columns]"
            ],
            "text/html": [
              "\n",
              "  <div id=\"df-e0da97fe-9d13-464c-92e4-060af1c0b758\">\n",
              "    <div class=\"colab-df-container\">\n",
              "      <div>\n",
              "<style scoped>\n",
              "    .dataframe tbody tr th:only-of-type {\n",
              "        vertical-align: middle;\n",
              "    }\n",
              "\n",
              "    .dataframe tbody tr th {\n",
              "        vertical-align: top;\n",
              "    }\n",
              "\n",
              "    .dataframe thead th {\n",
              "        text-align: right;\n",
              "    }\n",
              "</style>\n",
              "<table border=\"1\" class=\"dataframe\">\n",
              "  <thead>\n",
              "    <tr style=\"text-align: right;\">\n",
              "      <th></th>\n",
              "      <th>Participant</th>\n",
              "      <th>Stage</th>\n",
              "      <th>0:0.0</th>\n",
              "      <th>0:0.099791</th>\n",
              "      <th>0:0.199582</th>\n",
              "      <th>0:0.299373</th>\n",
              "      <th>0:0.399164</th>\n",
              "      <th>0:0.49895500000000004</th>\n",
              "      <th>0:0.598746</th>\n",
              "      <th>0:0.6985370000000001</th>\n",
              "      <th>...</th>\n",
              "      <th>10:26.787271000000032</th>\n",
              "      <th>10:26.887062000000014</th>\n",
              "      <th>10:26.986852999999996</th>\n",
              "      <th>10:27.08664399999998</th>\n",
              "      <th>10:27.186435000000074</th>\n",
              "      <th>10:27.286226000000056</th>\n",
              "      <th>10:27.386017000000038</th>\n",
              "      <th>10:27.48580800000002</th>\n",
              "      <th>10:27.585599000000002</th>\n",
              "      <th>Target</th>\n",
              "    </tr>\n",
              "  </thead>\n",
              "  <tbody>\n",
              "    <tr>\n",
              "      <th>0</th>\n",
              "      <td>22</td>\n",
              "      <td>STIMULUS</td>\n",
              "      <td>87</td>\n",
              "      <td>87</td>\n",
              "      <td>87</td>\n",
              "      <td>87</td>\n",
              "      <td>87</td>\n",
              "      <td>87</td>\n",
              "      <td>87</td>\n",
              "      <td>87</td>\n",
              "      <td>...</td>\n",
              "      <td>0.0</td>\n",
              "      <td>0.0</td>\n",
              "      <td>0.0</td>\n",
              "      <td>0.0</td>\n",
              "      <td>0.0</td>\n",
              "      <td>0.0</td>\n",
              "      <td>0.0</td>\n",
              "      <td>0.0</td>\n",
              "      <td>0.0</td>\n",
              "      <td>BASELINE</td>\n",
              "    </tr>\n",
              "    <tr>\n",
              "      <th>3</th>\n",
              "      <td>22</td>\n",
              "      <td>STIMULUS</td>\n",
              "      <td>81</td>\n",
              "      <td>81</td>\n",
              "      <td>81</td>\n",
              "      <td>81</td>\n",
              "      <td>81</td>\n",
              "      <td>81</td>\n",
              "      <td>81</td>\n",
              "      <td>81</td>\n",
              "      <td>...</td>\n",
              "      <td>0.0</td>\n",
              "      <td>0.0</td>\n",
              "      <td>0.0</td>\n",
              "      <td>0.0</td>\n",
              "      <td>0.0</td>\n",
              "      <td>0.0</td>\n",
              "      <td>0.0</td>\n",
              "      <td>0.0</td>\n",
              "      <td>0.0</td>\n",
              "      <td>NEUTRAL</td>\n",
              "    </tr>\n",
              "    <tr>\n",
              "      <th>6</th>\n",
              "      <td>22</td>\n",
              "      <td>STIMULUS</td>\n",
              "      <td>85</td>\n",
              "      <td>85</td>\n",
              "      <td>85</td>\n",
              "      <td>85</td>\n",
              "      <td>85</td>\n",
              "      <td>86</td>\n",
              "      <td>86</td>\n",
              "      <td>86</td>\n",
              "      <td>...</td>\n",
              "      <td>0.0</td>\n",
              "      <td>0.0</td>\n",
              "      <td>0.0</td>\n",
              "      <td>0.0</td>\n",
              "      <td>0.0</td>\n",
              "      <td>0.0</td>\n",
              "      <td>0.0</td>\n",
              "      <td>0.0</td>\n",
              "      <td>0.0</td>\n",
              "      <td>AWE</td>\n",
              "    </tr>\n",
              "    <tr>\n",
              "      <th>9</th>\n",
              "      <td>22</td>\n",
              "      <td>STIMULUS</td>\n",
              "      <td>85</td>\n",
              "      <td>86</td>\n",
              "      <td>85</td>\n",
              "      <td>86</td>\n",
              "      <td>85</td>\n",
              "      <td>85</td>\n",
              "      <td>85</td>\n",
              "      <td>85</td>\n",
              "      <td>...</td>\n",
              "      <td>0.0</td>\n",
              "      <td>0.0</td>\n",
              "      <td>0.0</td>\n",
              "      <td>0.0</td>\n",
              "      <td>0.0</td>\n",
              "      <td>0.0</td>\n",
              "      <td>0.0</td>\n",
              "      <td>0.0</td>\n",
              "      <td>0.0</td>\n",
              "      <td>DISGUST</td>\n",
              "    </tr>\n",
              "    <tr>\n",
              "      <th>12</th>\n",
              "      <td>22</td>\n",
              "      <td>STIMULUS</td>\n",
              "      <td>83</td>\n",
              "      <td>83</td>\n",
              "      <td>83</td>\n",
              "      <td>83</td>\n",
              "      <td>83</td>\n",
              "      <td>82</td>\n",
              "      <td>83</td>\n",
              "      <td>83</td>\n",
              "      <td>...</td>\n",
              "      <td>0.0</td>\n",
              "      <td>0.0</td>\n",
              "      <td>0.0</td>\n",
              "      <td>0.0</td>\n",
              "      <td>0.0</td>\n",
              "      <td>0.0</td>\n",
              "      <td>0.0</td>\n",
              "      <td>0.0</td>\n",
              "      <td>0.0</td>\n",
              "      <td>SURPRISE</td>\n",
              "    </tr>\n",
              "    <tr>\n",
              "      <th>...</th>\n",
              "      <td>...</td>\n",
              "      <td>...</td>\n",
              "      <td>...</td>\n",
              "      <td>...</td>\n",
              "      <td>...</td>\n",
              "      <td>...</td>\n",
              "      <td>...</td>\n",
              "      <td>...</td>\n",
              "      <td>...</td>\n",
              "      <td>...</td>\n",
              "      <td>...</td>\n",
              "      <td>...</td>\n",
              "      <td>...</td>\n",
              "      <td>...</td>\n",
              "      <td>...</td>\n",
              "      <td>...</td>\n",
              "      <td>...</td>\n",
              "      <td>...</td>\n",
              "      <td>...</td>\n",
              "      <td>...</td>\n",
              "      <td>...</td>\n",
              "    </tr>\n",
              "    <tr>\n",
              "      <th>1330</th>\n",
              "      <td>64</td>\n",
              "      <td>STIMULUS</td>\n",
              "      <td>78</td>\n",
              "      <td>79</td>\n",
              "      <td>79</td>\n",
              "      <td>79</td>\n",
              "      <td>78</td>\n",
              "      <td>79</td>\n",
              "      <td>79</td>\n",
              "      <td>79</td>\n",
              "      <td>...</td>\n",
              "      <td>0.0</td>\n",
              "      <td>0.0</td>\n",
              "      <td>0.0</td>\n",
              "      <td>0.0</td>\n",
              "      <td>0.0</td>\n",
              "      <td>0.0</td>\n",
              "      <td>0.0</td>\n",
              "      <td>0.0</td>\n",
              "      <td>0.0</td>\n",
              "      <td>FEAR</td>\n",
              "    </tr>\n",
              "    <tr>\n",
              "      <th>1333</th>\n",
              "      <td>64</td>\n",
              "      <td>STIMULUS</td>\n",
              "      <td>77</td>\n",
              "      <td>77</td>\n",
              "      <td>77</td>\n",
              "      <td>77</td>\n",
              "      <td>77</td>\n",
              "      <td>77</td>\n",
              "      <td>77</td>\n",
              "      <td>77</td>\n",
              "      <td>...</td>\n",
              "      <td>0.0</td>\n",
              "      <td>0.0</td>\n",
              "      <td>0.0</td>\n",
              "      <td>0.0</td>\n",
              "      <td>0.0</td>\n",
              "      <td>0.0</td>\n",
              "      <td>0.0</td>\n",
              "      <td>0.0</td>\n",
              "      <td>0.0</td>\n",
              "      <td>AMUSEMENT</td>\n",
              "    </tr>\n",
              "    <tr>\n",
              "      <th>1336</th>\n",
              "      <td>64</td>\n",
              "      <td>STIMULUS</td>\n",
              "      <td>97</td>\n",
              "      <td>97</td>\n",
              "      <td>97</td>\n",
              "      <td>97</td>\n",
              "      <td>97</td>\n",
              "      <td>97</td>\n",
              "      <td>97</td>\n",
              "      <td>98</td>\n",
              "      <td>...</td>\n",
              "      <td>0.0</td>\n",
              "      <td>0.0</td>\n",
              "      <td>0.0</td>\n",
              "      <td>0.0</td>\n",
              "      <td>0.0</td>\n",
              "      <td>0.0</td>\n",
              "      <td>0.0</td>\n",
              "      <td>0.0</td>\n",
              "      <td>0.0</td>\n",
              "      <td>SADNESS</td>\n",
              "    </tr>\n",
              "    <tr>\n",
              "      <th>1339</th>\n",
              "      <td>64</td>\n",
              "      <td>STIMULUS</td>\n",
              "      <td>78</td>\n",
              "      <td>78</td>\n",
              "      <td>78</td>\n",
              "      <td>78</td>\n",
              "      <td>78</td>\n",
              "      <td>78</td>\n",
              "      <td>78</td>\n",
              "      <td>78</td>\n",
              "      <td>...</td>\n",
              "      <td>0.0</td>\n",
              "      <td>0.0</td>\n",
              "      <td>0.0</td>\n",
              "      <td>0.0</td>\n",
              "      <td>0.0</td>\n",
              "      <td>0.0</td>\n",
              "      <td>0.0</td>\n",
              "      <td>0.0</td>\n",
              "      <td>0.0</td>\n",
              "      <td>NEUTRAL</td>\n",
              "    </tr>\n",
              "    <tr>\n",
              "      <th>1342</th>\n",
              "      <td>64</td>\n",
              "      <td>STIMULUS</td>\n",
              "      <td>69</td>\n",
              "      <td>68</td>\n",
              "      <td>69</td>\n",
              "      <td>69</td>\n",
              "      <td>69</td>\n",
              "      <td>69</td>\n",
              "      <td>68</td>\n",
              "      <td>68</td>\n",
              "      <td>...</td>\n",
              "      <td>0.0</td>\n",
              "      <td>0.0</td>\n",
              "      <td>0.0</td>\n",
              "      <td>0.0</td>\n",
              "      <td>0.0</td>\n",
              "      <td>0.0</td>\n",
              "      <td>0.0</td>\n",
              "      <td>0.0</td>\n",
              "      <td>0.0</td>\n",
              "      <td>AWE</td>\n",
              "    </tr>\n",
              "  </tbody>\n",
              "</table>\n",
              "<p>462 rows × 6293 columns</p>\n",
              "</div>\n",
              "      <button class=\"colab-df-convert\" onclick=\"convertToInteractive('df-e0da97fe-9d13-464c-92e4-060af1c0b758')\"\n",
              "              title=\"Convert this dataframe to an interactive table.\"\n",
              "              style=\"display:none;\">\n",
              "        \n",
              "  <svg xmlns=\"http://www.w3.org/2000/svg\" height=\"24px\"viewBox=\"0 0 24 24\"\n",
              "       width=\"24px\">\n",
              "    <path d=\"M0 0h24v24H0V0z\" fill=\"none\"/>\n",
              "    <path d=\"M18.56 5.44l.94 2.06.94-2.06 2.06-.94-2.06-.94-.94-2.06-.94 2.06-2.06.94zm-11 1L8.5 8.5l.94-2.06 2.06-.94-2.06-.94L8.5 2.5l-.94 2.06-2.06.94zm10 10l.94 2.06.94-2.06 2.06-.94-2.06-.94-.94-2.06-.94 2.06-2.06.94z\"/><path d=\"M17.41 7.96l-1.37-1.37c-.4-.4-.92-.59-1.43-.59-.52 0-1.04.2-1.43.59L10.3 9.45l-7.72 7.72c-.78.78-.78 2.05 0 2.83L4 21.41c.39.39.9.59 1.41.59.51 0 1.02-.2 1.41-.59l7.78-7.78 2.81-2.81c.8-.78.8-2.07 0-2.86zM5.41 20L4 18.59l7.72-7.72 1.47 1.35L5.41 20z\"/>\n",
              "  </svg>\n",
              "      </button>\n",
              "      \n",
              "  <style>\n",
              "    .colab-df-container {\n",
              "      display:flex;\n",
              "      flex-wrap:wrap;\n",
              "      gap: 12px;\n",
              "    }\n",
              "\n",
              "    .colab-df-convert {\n",
              "      background-color: #E8F0FE;\n",
              "      border: none;\n",
              "      border-radius: 50%;\n",
              "      cursor: pointer;\n",
              "      display: none;\n",
              "      fill: #1967D2;\n",
              "      height: 32px;\n",
              "      padding: 0 0 0 0;\n",
              "      width: 32px;\n",
              "    }\n",
              "\n",
              "    .colab-df-convert:hover {\n",
              "      background-color: #E2EBFA;\n",
              "      box-shadow: 0px 1px 2px rgba(60, 64, 67, 0.3), 0px 1px 3px 1px rgba(60, 64, 67, 0.15);\n",
              "      fill: #174EA6;\n",
              "    }\n",
              "\n",
              "    [theme=dark] .colab-df-convert {\n",
              "      background-color: #3B4455;\n",
              "      fill: #D2E3FC;\n",
              "    }\n",
              "\n",
              "    [theme=dark] .colab-df-convert:hover {\n",
              "      background-color: #434B5C;\n",
              "      box-shadow: 0px 1px 3px 1px rgba(0, 0, 0, 0.15);\n",
              "      filter: drop-shadow(0px 1px 2px rgba(0, 0, 0, 0.3));\n",
              "      fill: #FFFFFF;\n",
              "    }\n",
              "  </style>\n",
              "\n",
              "      <script>\n",
              "        const buttonEl =\n",
              "          document.querySelector('#df-e0da97fe-9d13-464c-92e4-060af1c0b758 button.colab-df-convert');\n",
              "        buttonEl.style.display =\n",
              "          google.colab.kernel.accessAllowed ? 'block' : 'none';\n",
              "\n",
              "        async function convertToInteractive(key) {\n",
              "          const element = document.querySelector('#df-e0da97fe-9d13-464c-92e4-060af1c0b758');\n",
              "          const dataTable =\n",
              "            await google.colab.kernel.invokeFunction('convertToInteractive',\n",
              "                                                     [key], {});\n",
              "          if (!dataTable) return;\n",
              "\n",
              "          const docLinkHtml = 'Like what you see? Visit the ' +\n",
              "            '<a target=\"_blank\" href=https://colab.research.google.com/notebooks/data_table.ipynb>data table notebook</a>'\n",
              "            + ' to learn more about interactive tables.';\n",
              "          element.innerHTML = '';\n",
              "          dataTable['output_type'] = 'display_data';\n",
              "          await google.colab.output.renderOutput(dataTable, element);\n",
              "          const docLink = document.createElement('div');\n",
              "          docLink.innerHTML = docLinkHtml;\n",
              "          element.appendChild(docLink);\n",
              "        }\n",
              "      </script>\n",
              "    </div>\n",
              "  </div>\n",
              "  "
            ]
          },
          "metadata": {},
          "execution_count": 295
        }
      ],
      "source": [
        "hr_df"
      ]
    },
    {
      "cell_type": "code",
      "execution_count": 266,
      "metadata": {
        "id": "8zZZ3p9mLS16"
      },
      "outputs": [],
      "source": [
        "label_encoder = LabelEncoder ()"
      ]
    },
    {
      "cell_type": "code",
      "execution_count": 267,
      "metadata": {
        "id": "Esmu1UZhOThd"
      },
      "outputs": [],
      "source": [
        "hr_df[\"Target\"]=label_encoder.fit_transform(hr_df[\"Target\"])"
      ]
    },
    {
      "cell_type": "code",
      "source": [],
      "metadata": {
        "id": "KDrgnQuzO6kx"
      },
      "execution_count": 267,
      "outputs": []
    },
    {
      "cell_type": "code",
      "execution_count": 268,
      "metadata": {
        "id": "-_vHZ6JtOkVp"
      },
      "outputs": [],
      "source": [
        "y = hr_df['Target']\n",
        "x = hr_df.drop('Target', axis = 1)"
      ]
    },
    {
      "cell_type": "code",
      "execution_count": 269,
      "metadata": {
        "id": "H12ow2u4Qf-F"
      },
      "outputs": [],
      "source": [
        "x_train,  x_test, y_train, y_test = train_test_split(x, y, train_size = 0.7, random_state = 121, stratify=y)"
      ]
    },
    {
      "cell_type": "code",
      "execution_count": 270,
      "metadata": {
        "id": "HK4Zt8wySsVD"
      },
      "outputs": [],
      "source": [
        "x_train,y_train,x_test,y_test=np.array(x_train),np.array(y_train),np.array(x_test),np.array(y_test)"
      ]
    },
    {
      "cell_type": "code",
      "execution_count": 271,
      "metadata": {
        "id": "0Ii7NHU4Rgwu"
      },
      "outputs": [],
      "source": [
        "x_train,x_test=np.reshape(x_train,(x_train.shape[0],x_train.shape[1],1)),np.reshape(x_test,(x_test.shape[0],x_test.shape[1],1))"
      ]
    },
    {
      "cell_type": "code",
      "source": [
        "x_test.shape"
      ],
      "metadata": {
        "colab": {
          "base_uri": "https://localhost:8080/"
        },
        "id": "5IUsVezBSjdQ",
        "outputId": "c3d887c7-61ae-4ad5-dba4-a51e8c2d901c"
      },
      "execution_count": 272,
      "outputs": [
        {
          "output_type": "execute_result",
          "data": {
            "text/plain": [
              "(139, 6290, 1)"
            ]
          },
          "metadata": {},
          "execution_count": 272
        }
      ]
    },
    {
      "cell_type": "code",
      "source": [],
      "metadata": {
        "id": "nQCDUvmHSjft"
      },
      "execution_count": 168,
      "outputs": []
    },
    {
      "cell_type": "code",
      "source": [],
      "metadata": {
        "id": "75iRsWF8Sjik"
      },
      "execution_count": 168,
      "outputs": []
    },
    {
      "cell_type": "code",
      "source": [
        "#############################"
      ],
      "metadata": {
        "id": "N4IH79iQSjlG"
      },
      "execution_count": 169,
      "outputs": []
    },
    {
      "cell_type": "code",
      "execution_count": 170,
      "metadata": {
        "id": "w7Vg1aFAD9TX"
      },
      "outputs": [],
      "source": [
        "pickled_model_72 = pickle.load(open('/content/drive/MyDrive/Colab Notebooks/saved Model/model_BI(72.7).pkl', 'rb'))\n"
      ]
    },
    {
      "cell_type": "code",
      "execution_count": 171,
      "metadata": {
        "id": "WU8QXEVUbXtB"
      },
      "outputs": [],
      "source": [
        "pickled_model_70 = pickle.load(open('/content/drive/MyDrive/Colab Notebooks/saved Model/model_BI(70.5).pkl', 'rb'))\n"
      ]
    },
    {
      "cell_type": "code",
      "execution_count": 197,
      "metadata": {
        "colab": {
          "base_uri": "https://localhost:8080/"
        },
        "id": "MAs0LsiibboI",
        "outputId": "cb597ef2-a06e-4666-ce9c-01470a3be9d1"
      },
      "outputs": [
        {
          "output_type": "stream",
          "name": "stdout",
          "text": [
            "Test Accuracy : 71.89999999999999 %\n"
          ]
        }
      ],
      "source": [
        "model_acc = pickled_model_72.evaluate(x_test, y_test, verbose=0)[1]\n",
        "print(f\"Test Accuracy : {round(model_acc, 3)*100} %\")"
      ]
    },
    {
      "cell_type": "code",
      "execution_count": 198,
      "metadata": {
        "colab": {
          "base_uri": "https://localhost:8080/"
        },
        "id": "ienyarG8bcQy",
        "outputId": "15face77-b057-44e7-c40d-9f730f615060"
      },
      "outputs": [
        {
          "output_type": "stream",
          "name": "stdout",
          "text": [
            "Test Accuracy : 71.2 %\n"
          ]
        }
      ],
      "source": [
        "model_acc = pickled_model_70.evaluate(x_test, y_test, verbose=0)[1]\n",
        "print(f\"Test Accuracy : {round(model_acc, 3)*100} %\")"
      ]
    },
    {
      "cell_type": "code",
      "execution_count": 199,
      "metadata": {
        "colab": {
          "base_uri": "https://localhost:8080/"
        },
        "id": "Tbr4quSyvxIo",
        "outputId": "d2ed47e2-8c53-433a-f0e6-5bb08d80ae72"
      },
      "outputs": [
        {
          "output_type": "stream",
          "name": "stdout",
          "text": [
            "5/5 [==============================] - 2s 467ms/step\n"
          ]
        }
      ],
      "source": [
        "y_pred = pickled_model_72.predict(x_test)"
      ]
    },
    {
      "cell_type": "code",
      "execution_count": 200,
      "metadata": {
        "id": "arvPjqZvxSZm"
      },
      "outputs": [],
      "source": [
        "pred_class_y=[]\n",
        "for i in range(y_pred.shape[0]):\n",
        "  pred_class_y.append(np.argmax(y_pred[:][i]))"
      ]
    },
    {
      "cell_type": "code",
      "execution_count": 201,
      "metadata": {
        "id": "8JC62uC7vxLc"
      },
      "outputs": [],
      "source": [
        "pred_class_y=np.array(pred_class_y)"
      ]
    },
    {
      "cell_type": "code",
      "execution_count": 202,
      "metadata": {
        "colab": {
          "base_uri": "https://localhost:8080/"
        },
        "id": "tZc9EDJpxtnI",
        "outputId": "89ec1355-e057-41ea-d97a-c00c49d71799"
      },
      "outputs": [
        {
          "output_type": "execute_result",
          "data": {
            "text/plain": [
              "array([ 0,  3,  2,  8,  3,  1,  0,  9,  1,  3,  5,  4,  0,  7,  4,  9,  2,\n",
              "        9,  9, 10,  4,  1,  2,  0,  9,  8,  5,  2,  8,  7,  2,  7,  3,  9,\n",
              "        3,  0,  9,  0,  8,  3,  7,  4,  4,  9,  0,  2,  0, 10,  9,  3,  9,\n",
              "        3,  8, 10,  2,  9,  7,  8,  8,  3,  9,  0,  7,  9,  2,  2,  0,  9,\n",
              "        8,  7,  0,  9,  8, 10,  6,  2,  0, 10,  4,  9,  4,  5,  0,  9,  4,\n",
              "       10,  3,  7,  3, 10,  8,  8,  8,  1,  0, 10,  8,  9,  8,  8,  4,  0,\n",
              "        4,  4, 10,  7,  0,  8, 10,  9,  0,  7,  7,  9,  2,  3,  9,  7,  2,\n",
              "        4, 10,  0,  9,  4,  0,  9,  9,  9,  0,  4,  1,  0, 10,  8,  8, 10,\n",
              "        9,  8,  5])"
            ]
          },
          "metadata": {},
          "execution_count": 202
        }
      ],
      "source": [
        "pred_class_y"
      ]
    },
    {
      "cell_type": "code",
      "execution_count": 203,
      "metadata": {
        "id": "BLh0c-OXw80Q"
      },
      "outputs": [],
      "source": [
        "pred_class_y=label_encoder.inverse_transform(pred_class_y)"
      ]
    },
    {
      "cell_type": "code",
      "execution_count": 204,
      "metadata": {
        "colab": {
          "base_uri": "https://localhost:8080/"
        },
        "id": "NMJ8t6Rax0e3",
        "outputId": "16c9fbae-ee94-4387-aa31-2e7b267fe38b"
      },
      "outputs": [
        {
          "output_type": "execute_result",
          "data": {
            "text/plain": [
              "array(['AMUSEMENT', 'BASELINE', 'AWE', 'NEUTRAL', 'BASELINE', 'ANGER',\n",
              "       'AMUSEMENT', 'SADNESS', 'ANGER', 'BASELINE', 'ENTHUSIASM',\n",
              "       'DISGUST', 'AMUSEMENT', 'LIKING', 'DISGUST', 'SADNESS', 'AWE',\n",
              "       'SADNESS', 'SADNESS', 'SURPRISE', 'DISGUST', 'ANGER', 'AWE',\n",
              "       'AMUSEMENT', 'SADNESS', 'NEUTRAL', 'ENTHUSIASM', 'AWE', 'NEUTRAL',\n",
              "       'LIKING', 'AWE', 'LIKING', 'BASELINE', 'SADNESS', 'BASELINE',\n",
              "       'AMUSEMENT', 'SADNESS', 'AMUSEMENT', 'NEUTRAL', 'BASELINE',\n",
              "       'LIKING', 'DISGUST', 'DISGUST', 'SADNESS', 'AMUSEMENT', 'AWE',\n",
              "       'AMUSEMENT', 'SURPRISE', 'SADNESS', 'BASELINE', 'SADNESS',\n",
              "       'BASELINE', 'NEUTRAL', 'SURPRISE', 'AWE', 'SADNESS', 'LIKING',\n",
              "       'NEUTRAL', 'NEUTRAL', 'BASELINE', 'SADNESS', 'AMUSEMENT', 'LIKING',\n",
              "       'SADNESS', 'AWE', 'AWE', 'AMUSEMENT', 'SADNESS', 'NEUTRAL',\n",
              "       'LIKING', 'AMUSEMENT', 'SADNESS', 'NEUTRAL', 'SURPRISE', 'FEAR',\n",
              "       'AWE', 'AMUSEMENT', 'SURPRISE', 'DISGUST', 'SADNESS', 'DISGUST',\n",
              "       'ENTHUSIASM', 'AMUSEMENT', 'SADNESS', 'DISGUST', 'SURPRISE',\n",
              "       'BASELINE', 'LIKING', 'BASELINE', 'SURPRISE', 'NEUTRAL', 'NEUTRAL',\n",
              "       'NEUTRAL', 'ANGER', 'AMUSEMENT', 'SURPRISE', 'NEUTRAL', 'SADNESS',\n",
              "       'NEUTRAL', 'NEUTRAL', 'DISGUST', 'AMUSEMENT', 'DISGUST', 'DISGUST',\n",
              "       'SURPRISE', 'LIKING', 'AMUSEMENT', 'NEUTRAL', 'SURPRISE',\n",
              "       'SADNESS', 'AMUSEMENT', 'LIKING', 'LIKING', 'SADNESS', 'AWE',\n",
              "       'BASELINE', 'SADNESS', 'LIKING', 'AWE', 'DISGUST', 'SURPRISE',\n",
              "       'AMUSEMENT', 'SADNESS', 'DISGUST', 'AMUSEMENT', 'SADNESS',\n",
              "       'SADNESS', 'SADNESS', 'AMUSEMENT', 'DISGUST', 'ANGER', 'AMUSEMENT',\n",
              "       'SURPRISE', 'NEUTRAL', 'NEUTRAL', 'SURPRISE', 'SADNESS', 'NEUTRAL',\n",
              "       'ENTHUSIASM'], dtype=object)"
            ]
          },
          "metadata": {},
          "execution_count": 204
        }
      ],
      "source": [
        "pred_class_y"
      ]
    },
    {
      "cell_type": "code",
      "execution_count": 205,
      "metadata": {
        "id": "Ulh_sDqevxOG"
      },
      "outputs": [],
      "source": [
        "y_test=label_encoder.inverse_transform(y_test)"
      ]
    },
    {
      "cell_type": "code",
      "execution_count": 206,
      "metadata": {
        "colab": {
          "base_uri": "https://localhost:8080/"
        },
        "id": "H8wG5bUgvxQ5",
        "outputId": "e0fdb0cd-e773-47fe-8a50-660e86e202fb"
      },
      "outputs": [
        {
          "output_type": "execute_result",
          "data": {
            "text/plain": [
              "array(['FEAR', 'BASELINE', 'AWE', 'NEUTRAL', 'BASELINE', 'ANGER', 'FEAR',\n",
              "       'ENTHUSIASM', 'ANGER', 'BASELINE', 'ENTHUSIASM', 'DISGUST',\n",
              "       'AMUSEMENT', 'LIKING', 'DISGUST', 'SADNESS', 'AWE', 'AMUSEMENT',\n",
              "       'SADNESS', 'SURPRISE', 'DISGUST', 'ENTHUSIASM', 'AWE', 'ANGER',\n",
              "       'ENTHUSIASM', 'NEUTRAL', 'ENTHUSIASM', 'AWE', 'NEUTRAL', 'LIKING',\n",
              "       'AWE', 'LIKING', 'BASELINE', 'ENTHUSIASM', 'BASELINE', 'AMUSEMENT',\n",
              "       'SADNESS', 'AMUSEMENT', 'FEAR', 'BASELINE', 'LIKING', 'DISGUST',\n",
              "       'DISGUST', 'AMUSEMENT', 'ANGER', 'AWE', 'ANGER', 'SURPRISE',\n",
              "       'AMUSEMENT', 'BASELINE', 'SADNESS', 'BASELINE', 'AMUSEMENT',\n",
              "       'SURPRISE', 'AWE', 'SADNESS', 'LIKING', 'NEUTRAL', 'NEUTRAL',\n",
              "       'BASELINE', 'ANGER', 'ANGER', 'LIKING', 'ENTHUSIASM', 'AWE', 'AWE',\n",
              "       'ANGER', 'SADNESS', 'FEAR', 'LIKING', 'AMUSEMENT', 'ENTHUSIASM',\n",
              "       'FEAR', 'SURPRISE', 'FEAR', 'AWE', 'ANGER', 'SURPRISE', 'DISGUST',\n",
              "       'ENTHUSIASM', 'DISGUST', 'ENTHUSIASM', 'AMUSEMENT', 'ANGER',\n",
              "       'DISGUST', 'SURPRISE', 'BASELINE', 'LIKING', 'BASELINE', 'AWE',\n",
              "       'NEUTRAL', 'FEAR', 'NEUTRAL', 'ANGER', 'FEAR', 'SURPRISE',\n",
              "       'NEUTRAL', 'SADNESS', 'FEAR', 'NEUTRAL', 'DISGUST', 'AMUSEMENT',\n",
              "       'DISGUST', 'LIKING', 'SURPRISE', 'LIKING', 'FEAR', 'NEUTRAL',\n",
              "       'SURPRISE', 'SADNESS', 'FEAR', 'LIKING', 'LIKING', 'AMUSEMENT',\n",
              "       'AWE', 'BASELINE', 'SADNESS', 'LIKING', 'AWE', 'DISGUST',\n",
              "       'SURPRISE', 'ENTHUSIASM', 'SADNESS', 'DISGUST', 'ANGER', 'SADNESS',\n",
              "       'ENTHUSIASM', 'ENTHUSIASM', 'FEAR', 'DISGUST', 'FEAR', 'AMUSEMENT',\n",
              "       'SURPRISE', 'NEUTRAL', 'NEUTRAL', 'SURPRISE', 'SADNESS', 'NEUTRAL',\n",
              "       'ANGER'], dtype=object)"
            ]
          },
          "metadata": {},
          "execution_count": 206
        }
      ],
      "source": [
        "y_test"
      ]
    },
    {
      "cell_type": "code",
      "execution_count": 207,
      "metadata": {
        "id": "aPLw3qWCzQW5"
      },
      "outputs": [],
      "source": [
        "decoded = label_encoder.inverse_transform(hr_df[\"Target\"])"
      ]
    },
    {
      "cell_type": "code",
      "execution_count": 208,
      "metadata": {
        "id": "Znt2eDMvzA-X"
      },
      "outputs": [],
      "source": [
        "target=[]\n",
        "for i in range(11):\n",
        "  target.append(decoded[i])\n"
      ]
    },
    {
      "cell_type": "code",
      "source": [
        "y_test.shape"
      ],
      "metadata": {
        "colab": {
          "base_uri": "https://localhost:8080/"
        },
        "id": "bTBCYZIns9s2",
        "outputId": "2b957016-ad97-4aaa-b3ed-7751062547bb"
      },
      "execution_count": 334,
      "outputs": [
        {
          "output_type": "execute_result",
          "data": {
            "text/plain": [
              "(139,)"
            ]
          },
          "metadata": {},
          "execution_count": 334
        }
      ]
    },
    {
      "cell_type": "code",
      "execution_count": 218,
      "metadata": {
        "colab": {
          "base_uri": "https://localhost:8080/",
          "height": 768
        },
        "id": "vfpJ0NCIvxTm",
        "outputId": "a248b420-5385-49be-c925-337ab830acc8"
      },
      "outputs": [
        {
          "output_type": "display_data",
          "data": {
            "text/plain": [
              "<Figure size 1080x864 with 2 Axes>"
            ],
            "image/png": "[encoded data removed]"
          },
          "metadata": {
            "needs_background": "light"
          }
        }
      ],
      "source": [
        "plt.figure(figsize=(15,12\n",
        "                    ))\n",
        "fx=sns.heatmap(confusion_matrix(y_test,pred_class_y), annot=True, fmt=\".2f\",cmap=\"GnBu\")\n",
        "fx.set_title('Confusion Matrix \\n');\n",
        "fx.set_xlabel('\\n Predicted Values\\n')\n",
        "fx.set_ylabel('Actual Values\\n');\n",
        "fx.xaxis.set_ticklabels(target)\n",
        "fx.yaxis.set_ticklabels(target)\n",
        "plt.show()"
      ]
    },
    {
      "cell_type": "code",
      "execution_count": 210,
      "metadata": {
        "id": "TwocES0cD9WO"
      },
      "outputs": [],
      "source": [
        "#########################################"
      ]
    },
    {
      "cell_type": "code",
      "execution_count": null,
      "metadata": {
        "id": "urVq09x_D9Y1"
      },
      "outputs": [],
      "source": [
        "####################################################"
      ]
    },
    {
      "cell_type": "code",
      "execution_count": null,
      "metadata": {
        "id": "pqJYTACuD9bd"
      },
      "outputs": [],
      "source": [
        "##############################################################"
      ]
    },
    {
      "cell_type": "code",
      "execution_count": 141,
      "metadata": {
        "id": "XFkSrUUaD9eV",
        "colab": {
          "base_uri": "https://localhost:8080/"
        },
        "outputId": "f01a794c-b8bc-49a0-ce75-af58bf2914a0"
      },
      "outputs": [
        {
          "output_type": "execute_result",
          "data": {
            "text/plain": [
              "(462, 6290)"
            ]
          },
          "metadata": {},
          "execution_count": 141
        }
      ],
      "source": [
        "##############################################################################QUESTIONNAIRES\n",
        "x.shape"
      ]
    },
    {
      "cell_type": "code",
      "execution_count": 150,
      "metadata": {
        "id": "K8bnYR76NXC0",
        "colab": {
          "base_uri": "https://localhost:8080/"
        },
        "outputId": "01f236ed-d24d-4591-82eb-1c7a991d8814"
      },
      "outputs": [
        {
          "output_type": "stream",
          "name": "stdout",
          "text": [
            "15/15 [==============================] - 7s 457ms/step\n"
          ]
        }
      ],
      "source": [
        "y_pred = pickled_model_72.predict(x)"
      ]
    },
    {
      "cell_type": "code",
      "execution_count": 151,
      "metadata": {
        "id": "oH3Sw6pUNXHV"
      },
      "outputs": [],
      "source": [
        "pred_class_y=[]\n",
        "for i in range(y_pred.shape[0]):\n",
        "  pred_class_y.append(np.argmax(y_pred[:][i]))"
      ]
    },
    {
      "cell_type": "code",
      "execution_count": 152,
      "metadata": {
        "id": "glDoME7aNXMH"
      },
      "outputs": [],
      "source": [
        "pred_class_y=np.array(pred_class_y)"
      ]
    },
    {
      "cell_type": "code",
      "source": [
        "pred_class_y"
      ],
      "metadata": {
        "colab": {
          "base_uri": "https://localhost:8080/"
        },
        "id": "7j9KJQz4XKjz",
        "outputId": "e9724207-fd10-4570-b118-5ef2f1bb6b10"
      },
      "execution_count": 153,
      "outputs": [
        {
          "output_type": "execute_result",
          "data": {
            "text/plain": [
              "array([ 3,  8,  2,  4, 10,  9,  9,  7,  0,  9,  9,  3,  2,  4, 10,  0,  9,\n",
              "        7,  8,  9,  9,  8,  3,  4, 10,  0,  9,  7,  0,  0,  9,  8,  2,  3,\n",
              "       10,  9,  9,  7,  0,  0,  9,  8,  2,  4,  3,  0,  9,  7,  8,  0,  9,\n",
              "        8,  2,  4, 10,  3,  5,  7,  1,  5,  5,  8,  2,  4, 10,  5,  3,  7,\n",
              "        0,  0,  9,  8,  2,  4, 10,  0,  5,  3,  0,  1,  9,  8,  2,  4, 10,\n",
              "        0,  9,  7,  3,  9,  8,  2,  4, 10,  9,  9,  7,  8,  0,  3,  8,  2,\n",
              "        4, 10,  0,  0,  7,  6,  0,  9,  3,  2,  4, 10,  0,  9,  7,  0,  0,\n",
              "        9,  8,  3,  4, 10,  0,  9,  7,  0,  0,  9,  8,  2,  3, 10,  0,  5,\n",
              "        7,  0,  9,  9,  8,  2,  4,  3,  0,  9,  7,  0,  0,  9,  8,  2,  4,\n",
              "       10,  3,  5,  7,  0,  0,  5,  8,  2,  4, 10,  0,  3,  7,  0,  5,  9,\n",
              "        8,  2,  4, 10,  0,  9,  3,  0,  9,  8,  2,  4, 10,  1,  9,  7,  0,\n",
              "        3,  0,  9,  9,  8,  2,  4, 10,  9,  9,  7,  3,  9,  8,  2,  3, 10,\n",
              "        1,  0,  7,  0,  0,  3,  8,  2,  4, 10,  9,  9,  7,  0,  9,  9,  3,\n",
              "        2,  4, 10,  0,  9,  7,  0,  0,  9,  8,  3,  4, 10,  0,  5,  7,  8,\n",
              "        8,  9,  8,  2,  3, 10,  0,  9,  7,  8,  0,  9,  8,  2,  4,  3,  1,\n",
              "        9,  7,  0,  0,  9,  8,  2,  4, 10,  3,  5,  7,  0,  9,  9,  8,  2,\n",
              "        4, 10,  0,  3,  7,  0,  0,  9,  8,  2,  4, 10,  1,  9,  3,  1,  1,\n",
              "        9,  8,  2,  4, 10,  1,  1,  7,  3,  9,  9,  8,  2,  4, 10,  0,  0,\n",
              "        7,  0,  3,  5,  8,  2,  4, 10,  0,  0,  7,  0,  0,  3,  8,  2,  4,\n",
              "       10,  0,  5,  7,  8,  5,  9,  3,  2,  4, 10,  1,  0,  7,  0,  9,  9,\n",
              "        8,  3,  4, 10,  1,  9,  7,  8,  1,  9,  8,  2,  3, 10,  1,  5,  7,\n",
              "        8,  0,  9,  8,  2,  4,  3,  0,  9,  7,  0,  9,  9,  8,  2,  4, 10,\n",
              "        3,  9,  7,  1,  0,  9,  8,  2,  4, 10,  1,  3,  4,  8,  1,  5,  8,\n",
              "       10,  4, 10,  0,  4,  3,  0,  0,  9,  8,  2,  4, 10,  0,  0,  7,  3,\n",
              "        5,  9,  8,  2,  4, 10,  5,  9,  7,  0,  3,  9,  8,  2,  4, 10,  0,\n",
              "        9,  7,  0,  0,  3,  8,  2,  4, 10,  1,  0,  7,  6,  9,  9,  3,  2,\n",
              "        4, 10,  0,  9,  7,  0,  0,  9,  8,  3,  4, 10,  9,  9,  7,  6,  0,\n",
              "        9,  8,  2])"
            ]
          },
          "metadata": {},
          "execution_count": 153
        }
      ]
    },
    {
      "cell_type": "code",
      "execution_count": 154,
      "metadata": {
        "id": "6jaMBSLWNXQs"
      },
      "outputs": [],
      "source": [
        "pred_class_y=label_encoder.inverse_transform(pred_class_y)\n",
        "y=label_encoder.inverse_transform(y)"
      ]
    },
    {
      "cell_type": "code",
      "source": [
        "decoded = label_encoder.inverse_transform(hr_df[\"Target\"])\n",
        "target=[]\n",
        "for i in range(11):\n",
        "  target.append(decoded[i])"
      ],
      "metadata": {
        "id": "fl_2ke00WZmc"
      },
      "execution_count": 155,
      "outputs": []
    },
    {
      "cell_type": "code",
      "source": [
        "plt.figure(figsize=(15,7))\n",
        "fx=sns.heatmap(confusion_matrix(y,pred_class_y), annot=True, fmt=\".2f\",cmap=\"GnBu\")\n",
        "fx.set_title('Confusion Matrix \\n');\n",
        "fx.set_xlabel('\\n Predicted Values\\n')\n",
        "fx.set_ylabel('Actual Values\\n');\n",
        "fx.xaxis.set_ticklabels(target)\n",
        "fx.yaxis.set_ticklabels(target)\n",
        "plt.show()"
      ],
      "metadata": {
        "colab": {
          "base_uri": "https://localhost:8080/",
          "height": 497
        },
        "id": "9Aod8GzaWZpa",
        "outputId": "5452d98f-3dd0-4c65-aad7-7d4d42818e86"
      },
      "execution_count": 156,
      "outputs": [
        {
          "output_type": "display_data",
          "data": {
            "text/plain": [
              "<Figure size 1080x504 with 2 Axes>"
            ],
            "image/png": "[encoded data removed]"
          },
          "metadata": {
            "needs_background": "light"
          }
        }
      ]
    },
    {
      "cell_type": "code",
      "source": [
        "#####################################washouut\n"
      ],
      "metadata": {
        "id": "4-AuUzaMWZsO"
      },
      "execution_count": 118,
      "outputs": []
    },
    {
      "cell_type": "code",
      "source": [
        "y_pred = pickled_model_72.predict(x)"
      ],
      "metadata": {
        "colab": {
          "base_uri": "https://localhost:8080/"
        },
        "id": "KaxuiwB0WZvZ",
        "outputId": "78f7002c-a4fd-4097-f632-9a78b9f00adc"
      },
      "execution_count": 119,
      "outputs": [
        {
          "output_type": "stream",
          "name": "stdout",
          "text": [
            "14/14 [==============================] - 9s 677ms/step\n"
          ]
        }
      ]
    },
    {
      "cell_type": "code",
      "source": [
        "pred_class_y=[]\n",
        "for i in range(y_pred.shape[0]):\n",
        "  pred_class_y.append(np.argmax(y_pred[:][i]))"
      ],
      "metadata": {
        "id": "ZJB8uSybWZyb"
      },
      "execution_count": 120,
      "outputs": []
    },
    {
      "cell_type": "code",
      "source": [
        "pred_class_y=np.array(pred_class_y)"
      ],
      "metadata": {
        "id": "hhJpADFvWZ1F"
      },
      "execution_count": 121,
      "outputs": []
    },
    {
      "cell_type": "code",
      "source": [
        "pred_class_y=label_encoder.inverse_transform(pred_class_y)\n",
        "y=label_encoder.inverse_transform(y)"
      ],
      "metadata": {
        "id": "fXhUTwSyYcws"
      },
      "execution_count": 122,
      "outputs": []
    },
    {
      "cell_type": "code",
      "source": [
        "decoded = label_encoder.inverse_transform(hr_df[\"Target\"])\n",
        "target=[]\n",
        "for i in range(11):\n",
        "  target.append(decoded[i])"
      ],
      "metadata": {
        "id": "x3EcpBMfWZ3o"
      },
      "execution_count": 126,
      "outputs": []
    },
    {
      "cell_type": "code",
      "source": [
        "plt.figure(figsize=(15,7))\n",
        "fx=sns.heatmap(confusion_matrix(y,pred_class_y), annot=True, fmt=\".2f\",cmap=\"GnBu\")\n",
        "fx.set_title('Confusion Matrix \\n');\n",
        "fx.set_xlabel('\\n Predicted Values\\n')\n",
        "fx.set_ylabel('Actual Values\\n');\n",
        "fx.xaxis.set_ticklabels(target)\n",
        "fx.yaxis.set_ticklabels(target)\n",
        "plt.show()"
      ],
      "metadata": {
        "colab": {
          "base_uri": "https://localhost:8080/",
          "height": 497
        },
        "id": "4Z6YNc25WZ6Y",
        "outputId": "0d5e57ab-c874-4fd6-a0ef-5150f0a94adf"
      },
      "execution_count": 164,
      "outputs": [
        {
          "output_type": "display_data",
          "data": {
            "text/plain": [
              "<Figure size 1080x504 with 2 Axes>"
            ],
            "image/png": "[encoded data removed]"
          },
          "metadata": {
            "needs_background": "light"
          }
        }
      ]
    },
    {
      "cell_type": "code",
      "execution_count": null,
      "metadata": {
        "id": "IdbKLKJNNXV1"
      },
      "outputs": [],
      "source": []
    },
    {
      "cell_type": "code",
      "execution_count": null,
      "metadata": {
        "id": "l1PNczZ3NXat"
      },
      "outputs": [],
      "source": []
    },
    {
      "cell_type": "code",
      "execution_count": null,
      "metadata": {
        "id": "Cq2vIj9mNXfB"
      },
      "outputs": [],
      "source": []
    },
    {
      "cell_type": "code",
      "execution_count": null,
      "metadata": {
        "id": "odkpfKzfNXjk"
      },
      "outputs": [],
      "source": []
    },
    {
      "cell_type": "code",
      "execution_count": null,
      "metadata": {
        "id": "nzhMOmGUNXmD"
      },
      "outputs": [],
      "source": []
    },
    {
      "cell_type": "code",
      "execution_count": null,
      "metadata": {
        "id": "aqNLCm51D9g9"
      },
      "outputs": [],
      "source": [
        "##############################################################################################"
      ]
    },
    {
      "cell_type": "code",
      "execution_count": null,
      "metadata": {
        "id": "OHE68HkiD9jg"
      },
      "outputs": [],
      "source": [
        "#####################################################################################"
      ]
    },
    {
      "cell_type": "code",
      "execution_count": null,
      "metadata": {
        "id": "MAZqUzFfxL8R"
      },
      "outputs": [],
      "source": [
        "#BI_LSTM"
      ]
    },
    {
      "cell_type": "code",
      "execution_count": null,
      "metadata": {
        "id": "VLCNAXCZLYyQ"
      },
      "outputs": [],
      "source": []
    },
    {
      "cell_type": "code",
      "execution_count": 274,
      "metadata": {
        "id": "cFx3F_SDLY2B"
      },
      "outputs": [],
      "source": [
        "\n"
      ]
    },
    {
      "cell_type": "code",
      "source": [],
      "metadata": {
        "id": "CAuVvXdQkNmM"
      },
      "execution_count": null,
      "outputs": []
    },
    {
      "cell_type": "code",
      "execution_count": null,
      "metadata": {
        "id": "VYD6DJxWLY5Z"
      },
      "outputs": [],
      "source": []
    },
    {
      "cell_type": "code",
      "execution_count": 275,
      "metadata": {
        "colab": {
          "base_uri": "https://localhost:8080/"
        },
        "id": "wCgcxYIQTsUK",
        "outputId": "0c8d4fb8-2e05-484b-ff52-1cdb54ff1d8c"
      },
      "outputs": [
        {
          "output_type": "stream",
          "name": "stdout",
          "text": [
            "Model: \"sequential_4\"\n",
            "_________________________________________________________________\n",
            " Layer (type)                Output Shape              Param #   \n",
            "=================================================================\n",
            " bidirectional_12 (Bidirecti  (None, 6290, 100)        20800     \n",
            " onal)                                                           \n",
            "                                                                 \n",
            " dropout_12 (Dropout)        (None, 6290, 100)         0         \n",
            "                                                                 \n",
            " bidirectional_13 (Bidirecti  (None, 6290, 100)        60400     \n",
            " onal)                                                           \n",
            "                                                                 \n",
            " dropout_13 (Dropout)        (None, 6290, 100)         0         \n",
            "                                                                 \n",
            " bidirectional_14 (Bidirecti  (None, 6290, 100)        60400     \n",
            " onal)                                                           \n",
            "                                                                 \n",
            " dropout_14 (Dropout)        (None, 6290, 100)         0         \n",
            "                                                                 \n",
            " flatten_4 (Flatten)         (None, 629000)            0         \n",
            "                                                                 \n",
            " dense_4 (Dense)             (None, 11)                6919011   \n",
            "                                                                 \n",
            "=================================================================\n",
            "Total params: 7,060,611\n",
            "Trainable params: 7,060,611\n",
            "Non-trainable params: 0\n",
            "_________________________________________________________________\n",
            "None\n"
          ]
        }
      ],
      "source": [
        "model = tf.keras.Sequential()\n",
        "model.add(tf.keras.layers.Bidirectional(tf.keras.layers.LSTM(50, return_sequences=True), input_shape=(x_train.shape[1],1)))\n",
        "model.add(tf.keras.layers.Dropout(0.2))\n",
        "model.add(tf.keras.layers.Bidirectional(tf.keras.layers.LSTM(50,return_sequences=True)))\n",
        "model.add(tf.keras.layers.Dropout(0.2))\n",
        "model.add(tf.keras.layers.Bidirectional(tf.keras.layers.LSTM(50,return_sequences=True)))\n",
        "model.add(tf.keras.layers.Dropout(0.2))\n",
        "model.add(Flatten())\n",
        "model.add (tf.keras.layers.Dense(units=11,activation='softmax'))\n",
        "model.compile(optimizer='adam',loss='sparse_categorical_crossentropy',metrics='accuracy')\n",
        "print(model.summary())"
      ]
    },
    {
      "cell_type": "code",
      "execution_count": 64,
      "metadata": {
        "id": "BzhiQLiyACKB"
      },
      "outputs": [],
      "source": [
        "#x_train, y_train = get_sequences(100, x_train.shape[1])"
      ]
    },
    {
      "cell_type": "code",
      "execution_count": 82,
      "metadata": {
        "id": "0mBpUAD7lnvm",
        "colab": {
          "base_uri": "https://localhost:8080/"
        },
        "outputId": "312b98ea-b311-468f-b4e1-484b6c6dd6d7"
      },
      "outputs": [
        {
          "output_type": "stream",
          "name": "stdout",
          "text": [
            "Epoch 1/50\n",
            "7/7 [==============================] - 17s 1s/step - loss: 7.7294 - accuracy: 0.2984 - val_loss: 6.6693 - val_accuracy: 0.3077\n",
            "Epoch 2/50\n",
            "7/7 [==============================] - 8s 1s/step - loss: 4.2511 - accuracy: 0.4845 - val_loss: 4.4084 - val_accuracy: 0.3846\n",
            "Epoch 3/50\n",
            "7/7 [==============================] - 8s 1s/step - loss: 2.1542 - accuracy: 0.5620 - val_loss: 1.4198 - val_accuracy: 0.6000\n",
            "Epoch 4/50\n",
            "7/7 [==============================] - 8s 1s/step - loss: 1.3041 - accuracy: 0.6977 - val_loss: 1.2059 - val_accuracy: 0.6000\n",
            "Epoch 5/50\n",
            "7/7 [==============================] - 9s 1s/step - loss: 0.8499 - accuracy: 0.7248 - val_loss: 1.4220 - val_accuracy: 0.5846\n",
            "Epoch 6/50\n",
            "7/7 [==============================] - 8s 1s/step - loss: 0.7576 - accuracy: 0.7403 - val_loss: 2.1748 - val_accuracy: 0.5231\n",
            "Epoch 7/50\n",
            "7/7 [==============================] - 8s 1s/step - loss: 0.8747 - accuracy: 0.7326 - val_loss: 1.6047 - val_accuracy: 0.5846\n",
            "Epoch 8/50\n",
            "7/7 [==============================] - 8s 1s/step - loss: 0.7427 - accuracy: 0.7287 - val_loss: 1.2198 - val_accuracy: 0.6000\n",
            "Epoch 9/50\n",
            "7/7 [==============================] - 8s 1s/step - loss: 0.7036 - accuracy: 0.7364 - val_loss: 1.3822 - val_accuracy: 0.6154\n"
          ]
        }
      ],
      "source": [
        "h= model.fit(\n",
        "    x_train, \n",
        "    y_train,\n",
        "    validation_split = 0.2,\n",
        "    batch_size = 40,\n",
        "    epochs = 50, \n",
        "    callbacks=[\n",
        "        tf.keras.callbacks.EarlyStopping(\n",
        "            monitor = 'val_loss',\n",
        "            patience = 5,\n",
        "            restore_best_weights = True\n",
        "        )\n",
        "    ]\n",
        ")"
      ]
    },
    {
      "cell_type": "code",
      "execution_count": 83,
      "metadata": {
        "id": "jZYqpJnUnIvd",
        "colab": {
          "base_uri": "https://localhost:8080/"
        },
        "outputId": "f70a40ad-6e50-4bf6-c98f-2d7bc67c6794"
      },
      "outputs": [
        {
          "output_type": "stream",
          "name": "stdout",
          "text": [
            "Test Accuracy : 65.5 %\n"
          ]
        }
      ],
      "source": [
        "model_acc = model.evaluate(x_test, y_test, verbose=0)[1]\n",
        "print(f\"Test Accuracy : {round(model_acc, 3)*100} %\")"
      ]
    },
    {
      "cell_type": "code",
      "execution_count": null,
      "metadata": {
        "colab": {
          "base_uri": "https://localhost:8080/",
          "height": 282
        },
        "id": "lsKpqM--imgg",
        "outputId": "97a58beb-4100-4e67-9b05-1a1627b5a944"
      },
      "outputs": [
        {
          "data": {
            "text/plain": [
              "<matplotlib.legend.Legend at 0x7f59a140adc0>"
            ]
          },
          "execution_count": 112,
          "metadata": {},
          "output_type": "execute_result"
        },
        {
          "data": {
            "image/png": "[encoded data removed]",
            "text/plain": [
              "<Figure size 432x288 with 1 Axes>"
            ]
          },
          "metadata": {},
          "output_type": "display_data"
        }
      ],
      "source": [
        "plt.plot(h.history['loss'],label=\"train loss\")\n",
        "plt.plot(h.history['val_loss'],label='validation loss')\n",
        "#plt.plot(h.history['accuracy'],label='accuracy ')\n",
        "plt.legend()"
      ]
    },
    {
      "cell_type": "code",
      "execution_count": null,
      "metadata": {
        "colab": {
          "base_uri": "https://localhost:8080/",
          "height": 282
        },
        "id": "YgCGjVnximtP",
        "outputId": "36eab58f-039a-4d3f-f3d9-10766dd9e93b"
      },
      "outputs": [
        {
          "data": {
            "text/plain": [
              "<matplotlib.legend.Legend at 0x7f59ad62d490>"
            ]
          },
          "execution_count": 113,
          "metadata": {},
          "output_type": "execute_result"
        },
        {
          "data": {
            "image/png": "[encoded data removed]",
            "text/plain": [
              "<Figure size 432x288 with 1 Axes>"
            ]
          },
          "metadata": {},
          "output_type": "display_data"
        }
      ],
      "source": [
        "\n",
        "plt.plot(h.history['accuracy'],label='accuracy ')\n",
        "plt.legend()"
      ]
    },
    {
      "cell_type": "code",
      "execution_count": null,
      "metadata": {
        "colab": {
          "base_uri": "https://localhost:8080/"
        },
        "id": "W7MVTuJxim2N",
        "outputId": "70f62d29-d1fc-4a0e-b25b-8bb73234cf7f"
      },
      "outputs": [
        {
          "name": "stderr",
          "output_type": "stream",
          "text": [
            "WARNING:absl:Found untraced functions such as lstm_cell_55_layer_call_fn, lstm_cell_55_layer_call_and_return_conditional_losses, lstm_cell_56_layer_call_fn, lstm_cell_56_layer_call_and_return_conditional_losses, lstm_cell_58_layer_call_fn while saving (showing 5 of 12). These functions will not be directly callable after loading.\n"
          ]
        }
      ],
      "source": [
        "pickle.dump(model, open('model_BI(72.7).pkl', 'wb'))"
      ]
    },
    {
      "cell_type": "code",
      "execution_count": null,
      "metadata": {
        "id": "f0V7htEo_kSK"
      },
      "outputs": [],
      "source": [
        "def create_model():\n",
        " # create model\n",
        "  model.add(tf.keras.layers.Bidirectional(tf.keras.layers.LSTM(50, return_sequences=True), input_shape=(x_train.shape[1],1)))\n",
        "  model.add(tf.keras.layers.Dropout(0.2))\n",
        "  model.add(tf.keras.layers.Bidirectional(tf.keras.layers.LSTM(50,return_sequences=True)))\n",
        "  model.add(tf.keras.layers.Dropout(0.2))\n",
        "  model.add(tf.keras.layers.Bidirectional(tf.keras.layers.LSTM(50,return_sequences=True)))\n",
        "  model.add(tf.keras.layers.Dropout(0.2))\n",
        "  model.add(Flatten())\n",
        "  model.add (tf.keras.layers.Dense(units=11,activation='softmax'))\n",
        "  model.compile(optimizer='adam',loss='sparse_categorical_crossentropy',metrics='accuracy')\n",
        "  return model"
      ]
    },
    {
      "cell_type": "code",
      "execution_count": null,
      "metadata": {
        "colab": {
          "base_uri": "https://localhost:8080/"
        },
        "id": "T_LNzBC07aQh",
        "outputId": "22977145-7c0e-4067-dea1-d0516f5ce78d"
      },
      "outputs": [
        {
          "name": "stdout",
          "output_type": "stream",
          "text": [
            "Looking in indexes: https://pypi.org/simple, https://us-python.pkg.dev/colab-wheels/public/simple/\n",
            "Requirement already satisfied: scikeras in /usr/local/lib/python3.8/dist-packages (0.10.0)\n",
            "Requirement already satisfied: scikit-learn>=1.0.0 in /usr/local/lib/python3.8/dist-packages (from scikeras) (1.0.2)\n",
            "Requirement already satisfied: packaging>=0.21 in /usr/local/lib/python3.8/dist-packages (from scikeras) (21.3)\n",
            "Requirement already satisfied: pyparsing!=3.0.5,>=2.0.2 in /usr/local/lib/python3.8/dist-packages (from packaging>=0.21->scikeras) (3.0.9)\n",
            "Requirement already satisfied: threadpoolctl>=2.0.0 in /usr/local/lib/python3.8/dist-packages (from scikit-learn>=1.0.0->scikeras) (3.1.0)\n",
            "Requirement already satisfied: joblib>=0.11 in /usr/local/lib/python3.8/dist-packages (from scikit-learn>=1.0.0->scikeras) (1.2.0)\n",
            "Requirement already satisfied: scipy>=1.1.0 in /usr/local/lib/python3.8/dist-packages (from scikit-learn>=1.0.0->scikeras) (1.7.3)\n",
            "Requirement already satisfied: numpy>=1.14.6 in /usr/local/lib/python3.8/dist-packages (from scikit-learn>=1.0.0->scikeras) (1.21.6)\n"
          ]
        }
      ],
      "source": [
        "#pip install scikeras"
      ]
    },
    {
      "cell_type": "code",
      "execution_count": null,
      "metadata": {
        "id": "nW4dvOMf_kU_"
      },
      "outputs": [],
      "source": [
        "import tensorflow as tf\n",
        "from sklearn.model_selection import GridSearchCV\n",
        "from scikeras.wrappers import KerasClassifier"
      ]
    },
    {
      "cell_type": "code",
      "execution_count": null,
      "metadata": {
        "id": "qzUtszQ0_kXz"
      },
      "outputs": [],
      "source": []
    },
    {
      "cell_type": "code",
      "execution_count": null,
      "metadata": {
        "id": "ofBnfSZD_kas"
      },
      "outputs": [],
      "source": []
    },
    {
      "cell_type": "code",
      "execution_count": null,
      "metadata": {
        "id": "6Uojh1GK_kdj"
      },
      "outputs": [],
      "source": []
    },
    {
      "cell_type": "code",
      "execution_count": null,
      "metadata": {
        "id": "5Ic0-Uf2_kgq"
      },
      "outputs": [],
      "source": []
    },
    {
      "cell_type": "code",
      "execution_count": null,
      "metadata": {
        "id": "7QYg48Hd_kjy"
      },
      "outputs": [],
      "source": []
    },
    {
      "cell_type": "code",
      "execution_count": null,
      "metadata": {
        "id": "Tl2YuGXb_kmp"
      },
      "outputs": [],
      "source": []
    },
    {
      "cell_type": "code",
      "execution_count": null,
      "metadata": {
        "id": "N0IpGVFc_kpg"
      },
      "outputs": [],
      "source": []
    },
    {
      "cell_type": "code",
      "execution_count": null,
      "metadata": {
        "id": "BXTAi33C_ksY"
      },
      "outputs": [],
      "source": []
    },
    {
      "cell_type": "code",
      "execution_count": null,
      "metadata": {
        "id": "iH-BWoQP_kvP"
      },
      "outputs": [],
      "source": []
    },
    {
      "cell_type": "code",
      "execution_count": null,
      "metadata": {
        "id": "WBIpJx9Q_kx5"
      },
      "outputs": [],
      "source": []
    },
    {
      "cell_type": "code",
      "execution_count": null,
      "metadata": {
        "id": "Kyoddd40_k0w"
      },
      "outputs": [],
      "source": []
    },
    {
      "cell_type": "code",
      "execution_count": null,
      "metadata": {
        "id": "Ne87R78s_k33"
      },
      "outputs": [],
      "source": []
    },
    {
      "cell_type": "code",
      "execution_count": null,
      "metadata": {
        "id": "BdM9MMKp_k6t"
      },
      "outputs": [],
      "source": []
    },
    {
      "cell_type": "code",
      "execution_count": null,
      "metadata": {
        "id": "Z4MBHGcA_k90"
      },
      "outputs": [],
      "source": []
    },
    {
      "cell_type": "code",
      "execution_count": null,
      "metadata": {
        "id": "bQv8F_VW_lA_"
      },
      "outputs": [],
      "source": []
    },
    {
      "cell_type": "code",
      "execution_count": null,
      "metadata": {
        "id": "N0AYzdvf_lDy"
      },
      "outputs": [],
      "source": []
    },
    {
      "cell_type": "code",
      "execution_count": null,
      "metadata": {
        "id": "fp8ykhGZ_lG_"
      },
      "outputs": [],
      "source": []
    },
    {
      "cell_type": "code",
      "execution_count": null,
      "metadata": {
        "id": "0odxfkAw_lJ8"
      },
      "outputs": [],
      "source": []
    },
    {
      "cell_type": "code",
      "execution_count": null,
      "metadata": {
        "id": "BeM-rZy9_lM8"
      },
      "outputs": [],
      "source": []
    },
    {
      "cell_type": "code",
      "execution_count": null,
      "metadata": {
        "id": "LYPM-scl_lP1"
      },
      "outputs": [],
      "source": []
    },
    {
      "cell_type": "code",
      "execution_count": null,
      "metadata": {
        "id": "3tMlxzUu_lSr"
      },
      "outputs": [],
      "source": []
    },
    {
      "cell_type": "code",
      "execution_count": null,
      "metadata": {
        "id": "1HA9GY-B_lVX"
      },
      "outputs": [],
      "source": []
    },
    {
      "cell_type": "code",
      "execution_count": null,
      "metadata": {
        "id": "vyqBjWBv_lYZ"
      },
      "outputs": [],
      "source": []
    },
    {
      "cell_type": "code",
      "execution_count": null,
      "metadata": {
        "id": "hskNSuDl_lbU"
      },
      "outputs": [],
      "source": []
    },
    {
      "cell_type": "code",
      "execution_count": null,
      "metadata": {
        "id": "-fPIv49N_leP"
      },
      "outputs": [],
      "source": []
    },
    {
      "cell_type": "code",
      "execution_count": null,
      "metadata": {
        "id": "eISJXFIB_lhL"
      },
      "outputs": [],
      "source": []
    },
    {
      "cell_type": "code",
      "execution_count": null,
      "metadata": {
        "id": "3dPWctMY_lkE"
      },
      "outputs": [],
      "source": []
    },
    {
      "cell_type": "code",
      "execution_count": null,
      "metadata": {
        "id": "xhfViRum_lm8"
      },
      "outputs": [],
      "source": []
    },
    {
      "cell_type": "code",
      "execution_count": null,
      "metadata": {
        "id": "zkYxyVjK_lpz"
      },
      "outputs": [],
      "source": []
    },
    {
      "cell_type": "code",
      "execution_count": null,
      "metadata": {
        "id": "IBs8gQbJ_lsc"
      },
      "outputs": [],
      "source": []
    },
    {
      "cell_type": "code",
      "execution_count": null,
      "metadata": {
        "id": "NWzcUbS5_lvT"
      },
      "outputs": [],
      "source": []
    },
    {
      "cell_type": "code",
      "execution_count": null,
      "metadata": {
        "id": "xYfGJFpZ_lx5"
      },
      "outputs": [],
      "source": []
    },
    {
      "cell_type": "code",
      "execution_count": null,
      "metadata": {
        "id": "nYr5vJQT_l0w"
      },
      "outputs": [],
      "source": []
    },
    {
      "cell_type": "code",
      "execution_count": null,
      "metadata": {
        "id": "53P-Eygv_l3m"
      },
      "outputs": [],
      "source": []
    },
    {
      "cell_type": "code",
      "execution_count": null,
      "metadata": {
        "id": "TeR-uwxH_l6d"
      },
      "outputs": [],
      "source": []
    },
    {
      "cell_type": "code",
      "execution_count": null,
      "metadata": {
        "id": "MjufbaZv_l9U"
      },
      "outputs": [],
      "source": []
    },
    {
      "cell_type": "code",
      "execution_count": null,
      "metadata": {
        "id": "hYjiAPUm_l_7"
      },
      "outputs": [],
      "source": []
    },
    {
      "cell_type": "code",
      "execution_count": null,
      "metadata": {
        "id": "t819XPBw_mCl"
      },
      "outputs": [],
      "source": []
    },
    {
      "cell_type": "code",
      "execution_count": null,
      "metadata": {
        "id": "fqmeEj_D_mFi"
      },
      "outputs": [],
      "source": []
    },
    {
      "cell_type": "code",
      "execution_count": null,
      "metadata": {
        "id": "zQqY-cu4_mI3"
      },
      "outputs": [],
      "source": [
        "#############################################################################################################################################"
      ]
    },
    {
      "cell_type": "code",
      "execution_count": null,
      "metadata": {
        "id": "gCKmWVw-w_ag"
      },
      "outputs": [],
      "source": [
        "#SVM"
      ]
    },
    {
      "cell_type": "code",
      "execution_count": null,
      "metadata": {
        "id": "FxJu9q6Yvi6l"
      },
      "outputs": [],
      "source": [
        "from sklearn import svm\n",
        "from sklearn.model_selection import cross_val_score,GridSearchCV\n"
      ]
    },
    {
      "cell_type": "code",
      "execution_count": null,
      "metadata": {
        "id": "yWJdAh7twwT_"
      },
      "outputs": [],
      "source": [
        "reshaped_x_test=np.reshape(x_test,(139, 6290))\n",
        "reshaped_x_train=np.reshape(x_train,(323, 6290))"
      ]
    },
    {
      "cell_type": "code",
      "execution_count": null,
      "metadata": {
        "colab": {
          "base_uri": "https://localhost:8080/"
        },
        "id": "z_KshBC9sX_D",
        "outputId": "c92a8915-0119-4a7b-fe34-1f4c2cf2e1e5"
      },
      "outputs": [
        {
          "data": {
            "text/plain": [
              "0.460431654676259"
            ]
          },
          "execution_count": 46,
          "metadata": {},
          "output_type": "execute_result"
        }
      ],
      "source": [
        "model_svm=svm.SVC(kernel='rbf',C=30,gamma='auto')\n",
        "model_svm.fit(reshaped_x_train,y_train)\n",
        "model_svm.score(reshaped_x_test,y_test)"
      ]
    },
    {
      "cell_type": "code",
      "execution_count": null,
      "metadata": {
        "colab": {
          "base_uri": "https://localhost:8080/"
        },
        "id": "BV3mrwmEy2yZ",
        "outputId": "93848fa6-13e8-4fbc-ee1c-41e720275216"
      },
      "outputs": [
        {
          "data": {
            "text/plain": [
              "(462, 6290)"
            ]
          },
          "execution_count": 47,
          "metadata": {},
          "output_type": "execute_result"
        }
      ],
      "source": [
        "x.shape"
      ]
    },
    {
      "cell_type": "code",
      "execution_count": null,
      "metadata": {
        "colab": {
          "base_uri": "https://localhost:8080/"
        },
        "id": "0gi6OxyqzDG-",
        "outputId": "f55c7278-e0cc-41ef-acbf-3d45a4707c40"
      },
      "outputs": [
        {
          "data": {
            "text/plain": [
              "(462,)"
            ]
          },
          "execution_count": 48,
          "metadata": {},
          "output_type": "execute_result"
        }
      ],
      "source": [
        "y.shape"
      ]
    },
    {
      "cell_type": "code",
      "execution_count": null,
      "metadata": {
        "colab": {
          "base_uri": "https://localhost:8080/"
        },
        "id": "ej0vkryNuriP",
        "outputId": "a845fa40-251f-4210-95bf-b5c7c8209825"
      },
      "outputs": [
        {
          "data": {
            "text/plain": [
              "array([0.43010753, 0.55913978, 0.52173913, 0.45652174, 0.41304348])"
            ]
          },
          "execution_count": 50,
          "metadata": {},
          "output_type": "execute_result"
        }
      ],
      "source": [
        "cross_val_score(svm.SVC(kernel='rbf',C=10,gamma='auto'),x,y,cv=5)"
      ]
    },
    {
      "cell_type": "code",
      "execution_count": null,
      "metadata": {
        "colab": {
          "base_uri": "https://localhost:8080/"
        },
        "id": "FwWLBVbQzaQe",
        "outputId": "92a7c128-6447-4720-a9ec-6547f6c88445"
      },
      "outputs": [
        {
          "data": {
            "text/plain": [
              "array([0.43010753, 0.55913978, 0.52173913, 0.45652174, 0.41304348])"
            ]
          },
          "execution_count": 51,
          "metadata": {},
          "output_type": "execute_result"
        }
      ],
      "source": [
        "cross_val_score(svm.SVC(kernel='rbf',C=20,gamma='auto'),x,y,cv=5)"
      ]
    },
    {
      "cell_type": "code",
      "execution_count": null,
      "metadata": {
        "colab": {
          "base_uri": "https://localhost:8080/"
        },
        "id": "8oY08fk3zuxP",
        "outputId": "16ea5008-589d-4c83-d602-e6353170bdc1"
      },
      "outputs": [
        {
          "data": {
            "text/plain": [
              "array([0.43010753, 0.55913978, 0.52173913, 0.45652174, 0.41304348])"
            ]
          },
          "execution_count": 52,
          "metadata": {},
          "output_type": "execute_result"
        }
      ],
      "source": [
        "cross_val_score(svm.SVC(kernel='rbf',C=30,gamma='auto'),x,y,cv=5)"
      ]
    },
    {
      "cell_type": "code",
      "execution_count": null,
      "metadata": {
        "colab": {
          "base_uri": "https://localhost:8080/"
        },
        "id": "unWYNG5wzgUs",
        "outputId": "259a418e-b45d-4c1c-a9e1-fab29d59422b"
      },
      "outputs": [
        {
          "data": {
            "text/plain": [
              "array([0.66666667, 0.64516129, 0.66304348, 0.65217391, 0.66304348])"
            ]
          },
          "execution_count": 53,
          "metadata": {},
          "output_type": "execute_result"
        }
      ],
      "source": [
        "cross_val_score(svm.SVC(kernel='linear',C=10,gamma='auto'),x,y,cv=5)"
      ]
    },
    {
      "cell_type": "code",
      "execution_count": null,
      "metadata": {
        "colab": {
          "base_uri": "https://localhost:8080/"
        },
        "id": "xB_GAB43zodr",
        "outputId": "aa6c9da5-149b-4103-e4f8-9fdfc431cbbf"
      },
      "outputs": [
        {
          "data": {
            "text/plain": [
              "array([0.66666667, 0.64516129, 0.66304348, 0.65217391, 0.66304348])"
            ]
          },
          "execution_count": 54,
          "metadata": {},
          "output_type": "execute_result"
        }
      ],
      "source": [
        "cross_val_score(svm.SVC(kernel='linear',C=20,gamma='auto'),x,y,cv=5)"
      ]
    },
    {
      "cell_type": "code",
      "execution_count": null,
      "metadata": {
        "colab": {
          "base_uri": "https://localhost:8080/"
        },
        "id": "5T5EswJ1zolg",
        "outputId": "39e8e18c-f6d3-4b5c-f930-a5d43c902b8e"
      },
      "outputs": [
        {
          "data": {
            "text/plain": [
              "array([0.66666667, 0.64516129, 0.66304348, 0.65217391, 0.66304348])"
            ]
          },
          "execution_count": 55,
          "metadata": {},
          "output_type": "execute_result"
        }
      ],
      "source": [
        "cross_val_score(svm.SVC(kernel='linear',C=30,gamma='auto'),x,y,cv=5)"
      ]
    },
    {
      "cell_type": "code",
      "execution_count": null,
      "metadata": {
        "colab": {
          "base_uri": "https://localhost:8080/"
        },
        "id": "c_YCt2s1z2uX",
        "outputId": "8964eeca-49ae-4796-9149-cc65cfafe093"
      },
      "outputs": [
        {
          "data": {
            "text/plain": [
              "{'mean_fit_time': array([0.71571302, 0.41147652, 0.73794284, 0.50805297, 0.70230312,\n",
              "        0.39981141, 0.71096807, 0.4158987 , 0.79319596, 0.41617298,\n",
              "        0.72305098, 0.39537282]),\n",
              " 'std_fit_time': array([0.02228192, 0.02848944, 0.01829913, 0.12719966, 0.00426443,\n",
              "        0.04058079, 0.01587216, 0.03382864, 0.11861631, 0.02802834,\n",
              "        0.01249556, 0.02991988]),\n",
              " 'mean_score_time': array([0.19776688, 0.09363017, 0.19250326, 0.14122133, 0.19638453,\n",
              "        0.08985562, 0.19766326, 0.09121289, 0.2670526 , 0.09393358,\n",
              "        0.19492764, 0.09455953]),\n",
              " 'std_score_time': array([0.00640336, 0.00432925, 0.00237468, 0.06529858, 0.00900169,\n",
              "        0.00162145, 0.0061583 , 0.00502242, 0.0921582 , 0.00906036,\n",
              "        0.00768792, 0.0059679 ]),\n",
              " 'param_C': masked_array(data=[1, 1, 10, 10, 20, 20, 30, 30, 40, 40, 50, 50],\n",
              "              mask=[False, False, False, False, False, False, False, False,\n",
              "                    False, False, False, False],\n",
              "        fill_value='?',\n",
              "             dtype=object),\n",
              " 'param_kernel': masked_array(data=['rbf', 'linear', 'rbf', 'linear', 'rbf', 'linear',\n",
              "                    'rbf', 'linear', 'rbf', 'linear', 'rbf', 'linear'],\n",
              "              mask=[False, False, False, False, False, False, False, False,\n",
              "                    False, False, False, False],\n",
              "        fill_value='?',\n",
              "             dtype=object),\n",
              " 'params': [{'C': 1, 'kernel': 'rbf'},\n",
              "  {'C': 1, 'kernel': 'linear'},\n",
              "  {'C': 10, 'kernel': 'rbf'},\n",
              "  {'C': 10, 'kernel': 'linear'},\n",
              "  {'C': 20, 'kernel': 'rbf'},\n",
              "  {'C': 20, 'kernel': 'linear'},\n",
              "  {'C': 30, 'kernel': 'rbf'},\n",
              "  {'C': 30, 'kernel': 'linear'},\n",
              "  {'C': 40, 'kernel': 'rbf'},\n",
              "  {'C': 40, 'kernel': 'linear'},\n",
              "  {'C': 50, 'kernel': 'rbf'},\n",
              "  {'C': 50, 'kernel': 'linear'}],\n",
              " 'split0_test_score': array([0.44086022, 0.66666667, 0.43010753, 0.66666667, 0.43010753,\n",
              "        0.66666667, 0.43010753, 0.66666667, 0.43010753, 0.66666667,\n",
              "        0.43010753, 0.66666667]),\n",
              " 'split1_test_score': array([0.58064516, 0.64516129, 0.55913978, 0.64516129, 0.55913978,\n",
              "        0.64516129, 0.55913978, 0.64516129, 0.55913978, 0.64516129,\n",
              "        0.55913978, 0.64516129]),\n",
              " 'split2_test_score': array([0.5       , 0.66304348, 0.52173913, 0.66304348, 0.52173913,\n",
              "        0.66304348, 0.52173913, 0.66304348, 0.52173913, 0.66304348,\n",
              "        0.52173913, 0.66304348]),\n",
              " 'split3_test_score': array([0.36956522, 0.65217391, 0.45652174, 0.65217391, 0.45652174,\n",
              "        0.65217391, 0.45652174, 0.65217391, 0.45652174, 0.65217391,\n",
              "        0.45652174, 0.65217391]),\n",
              " 'split4_test_score': array([0.41304348, 0.66304348, 0.41304348, 0.66304348, 0.41304348,\n",
              "        0.66304348, 0.41304348, 0.66304348, 0.41304348, 0.66304348,\n",
              "        0.41304348, 0.66304348]),\n",
              " 'mean_test_score': array([0.46082281, 0.65801777, 0.47611033, 0.65801777, 0.47611033,\n",
              "        0.65801777, 0.47611033, 0.65801777, 0.47611033, 0.65801777,\n",
              "        0.47611033, 0.65801777]),\n",
              " 'std_test_score': array([0.07335062, 0.00805926, 0.05559366, 0.00805926, 0.05559366,\n",
              "        0.00805926, 0.05559366, 0.00805926, 0.05559366, 0.00805926,\n",
              "        0.05559366, 0.00805926]),\n",
              " 'rank_test_score': array([12,  1,  7,  1,  7,  1,  7,  1,  7,  1,  7,  1], dtype=int32)}"
            ]
          },
          "execution_count": 56,
          "metadata": {},
          "output_type": "execute_result"
        }
      ],
      "source": [
        "g_svm=GridSearchCV(svm.SVC(gamma='auto'),{\n",
        "    \"C\":[1,10,20,30,40,50],\n",
        "    \"kernel\":['rbf','linear']\n",
        "},cv=5,return_train_score=False)\n",
        "g_svm.fit(x,y)\n",
        "g_svm.cv_results_"
      ]
    },
    {
      "cell_type": "code",
      "execution_count": null,
      "metadata": {
        "id": "9kPE9jdt3pST"
      },
      "outputs": [],
      "source": [
        "g_svm_df=pd.DataFrame(g_svm.cv_results_)"
      ]
    },
    {
      "cell_type": "code",
      "execution_count": null,
      "metadata": {
        "colab": {
          "base_uri": "https://localhost:8080/",
          "height": 906
        },
        "id": "VBTzfkUk4YrM",
        "outputId": "08902c1b-db2e-4ab6-b22f-d1bc4254f432"
      },
      "outputs": [
        {
          "data": {
            "text/html": [
              "\n",
              "  <div id=\"df-25208b0a-13b3-472f-888f-74ba4131915a\">\n",
              "    <div class=\"colab-df-container\">\n",
              "      <div>\n",
              "<style scoped>\n",
              "    .dataframe tbody tr th:only-of-type {\n",
              "        vertical-align: middle;\n",
              "    }\n",
              "\n",
              "    .dataframe tbody tr th {\n",
              "        vertical-align: top;\n",
              "    }\n",
              "\n",
              "    .dataframe thead th {\n",
              "        text-align: right;\n",
              "    }\n",
              "</style>\n",
              "<table border=\"1\" class=\"dataframe\">\n",
              "  <thead>\n",
              "    <tr style=\"text-align: right;\">\n",
              "      <th></th>\n",
              "      <th>mean_fit_time</th>\n",
              "      <th>std_fit_time</th>\n",
              "      <th>mean_score_time</th>\n",
              "      <th>std_score_time</th>\n",
              "      <th>param_C</th>\n",
              "      <th>param_kernel</th>\n",
              "      <th>params</th>\n",
              "      <th>split0_test_score</th>\n",
              "      <th>split1_test_score</th>\n",
              "      <th>split2_test_score</th>\n",
              "      <th>split3_test_score</th>\n",
              "      <th>split4_test_score</th>\n",
              "      <th>mean_test_score</th>\n",
              "      <th>std_test_score</th>\n",
              "      <th>rank_test_score</th>\n",
              "    </tr>\n",
              "  </thead>\n",
              "  <tbody>\n",
              "    <tr>\n",
              "      <th>0</th>\n",
              "      <td>0.715713</td>\n",
              "      <td>0.022282</td>\n",
              "      <td>0.197767</td>\n",
              "      <td>0.006403</td>\n",
              "      <td>1</td>\n",
              "      <td>rbf</td>\n",
              "      <td>{'C': 1, 'kernel': 'rbf'}</td>\n",
              "      <td>0.440860</td>\n",
              "      <td>0.580645</td>\n",
              "      <td>0.500000</td>\n",
              "      <td>0.369565</td>\n",
              "      <td>0.413043</td>\n",
              "      <td>0.460823</td>\n",
              "      <td>0.073351</td>\n",
              "      <td>12</td>\n",
              "    </tr>\n",
              "    <tr>\n",
              "      <th>1</th>\n",
              "      <td>0.411477</td>\n",
              "      <td>0.028489</td>\n",
              "      <td>0.093630</td>\n",
              "      <td>0.004329</td>\n",
              "      <td>1</td>\n",
              "      <td>linear</td>\n",
              "      <td>{'C': 1, 'kernel': 'linear'}</td>\n",
              "      <td>0.666667</td>\n",
              "      <td>0.645161</td>\n",
              "      <td>0.663043</td>\n",
              "      <td>0.652174</td>\n",
              "      <td>0.663043</td>\n",
              "      <td>0.658018</td>\n",
              "      <td>0.008059</td>\n",
              "      <td>1</td>\n",
              "    </tr>\n",
              "    <tr>\n",
              "      <th>2</th>\n",
              "      <td>0.737943</td>\n",
              "      <td>0.018299</td>\n",
              "      <td>0.192503</td>\n",
              "      <td>0.002375</td>\n",
              "      <td>10</td>\n",
              "      <td>rbf</td>\n",
              "      <td>{'C': 10, 'kernel': 'rbf'}</td>\n",
              "      <td>0.430108</td>\n",
              "      <td>0.559140</td>\n",
              "      <td>0.521739</td>\n",
              "      <td>0.456522</td>\n",
              "      <td>0.413043</td>\n",
              "      <td>0.476110</td>\n",
              "      <td>0.055594</td>\n",
              "      <td>7</td>\n",
              "    </tr>\n",
              "    <tr>\n",
              "      <th>3</th>\n",
              "      <td>0.508053</td>\n",
              "      <td>0.127200</td>\n",
              "      <td>0.141221</td>\n",
              "      <td>0.065299</td>\n",
              "      <td>10</td>\n",
              "      <td>linear</td>\n",
              "      <td>{'C': 10, 'kernel': 'linear'}</td>\n",
              "      <td>0.666667</td>\n",
              "      <td>0.645161</td>\n",
              "      <td>0.663043</td>\n",
              "      <td>0.652174</td>\n",
              "      <td>0.663043</td>\n",
              "      <td>0.658018</td>\n",
              "      <td>0.008059</td>\n",
              "      <td>1</td>\n",
              "    </tr>\n",
              "    <tr>\n",
              "      <th>4</th>\n",
              "      <td>0.702303</td>\n",
              "      <td>0.004264</td>\n",
              "      <td>0.196385</td>\n",
              "      <td>0.009002</td>\n",
              "      <td>20</td>\n",
              "      <td>rbf</td>\n",
              "      <td>{'C': 20, 'kernel': 'rbf'}</td>\n",
              "      <td>0.430108</td>\n",
              "      <td>0.559140</td>\n",
              "      <td>0.521739</td>\n",
              "      <td>0.456522</td>\n",
              "      <td>0.413043</td>\n",
              "      <td>0.476110</td>\n",
              "      <td>0.055594</td>\n",
              "      <td>7</td>\n",
              "    </tr>\n",
              "    <tr>\n",
              "      <th>5</th>\n",
              "      <td>0.399811</td>\n",
              "      <td>0.040581</td>\n",
              "      <td>0.089856</td>\n",
              "      <td>0.001621</td>\n",
              "      <td>20</td>\n",
              "      <td>linear</td>\n",
              "      <td>{'C': 20, 'kernel': 'linear'}</td>\n",
              "      <td>0.666667</td>\n",
              "      <td>0.645161</td>\n",
              "      <td>0.663043</td>\n",
              "      <td>0.652174</td>\n",
              "      <td>0.663043</td>\n",
              "      <td>0.658018</td>\n",
              "      <td>0.008059</td>\n",
              "      <td>1</td>\n",
              "    </tr>\n",
              "    <tr>\n",
              "      <th>6</th>\n",
              "      <td>0.710968</td>\n",
              "      <td>0.015872</td>\n",
              "      <td>0.197663</td>\n",
              "      <td>0.006158</td>\n",
              "      <td>30</td>\n",
              "      <td>rbf</td>\n",
              "      <td>{'C': 30, 'kernel': 'rbf'}</td>\n",
              "      <td>0.430108</td>\n",
              "      <td>0.559140</td>\n",
              "      <td>0.521739</td>\n",
              "      <td>0.456522</td>\n",
              "      <td>0.413043</td>\n",
              "      <td>0.476110</td>\n",
              "      <td>0.055594</td>\n",
              "      <td>7</td>\n",
              "    </tr>\n",
              "    <tr>\n",
              "      <th>7</th>\n",
              "      <td>0.415899</td>\n",
              "      <td>0.033829</td>\n",
              "      <td>0.091213</td>\n",
              "      <td>0.005022</td>\n",
              "      <td>30</td>\n",
              "      <td>linear</td>\n",
              "      <td>{'C': 30, 'kernel': 'linear'}</td>\n",
              "      <td>0.666667</td>\n",
              "      <td>0.645161</td>\n",
              "      <td>0.663043</td>\n",
              "      <td>0.652174</td>\n",
              "      <td>0.663043</td>\n",
              "      <td>0.658018</td>\n",
              "      <td>0.008059</td>\n",
              "      <td>1</td>\n",
              "    </tr>\n",
              "    <tr>\n",
              "      <th>8</th>\n",
              "      <td>0.793196</td>\n",
              "      <td>0.118616</td>\n",
              "      <td>0.267053</td>\n",
              "      <td>0.092158</td>\n",
              "      <td>40</td>\n",
              "      <td>rbf</td>\n",
              "      <td>{'C': 40, 'kernel': 'rbf'}</td>\n",
              "      <td>0.430108</td>\n",
              "      <td>0.559140</td>\n",
              "      <td>0.521739</td>\n",
              "      <td>0.456522</td>\n",
              "      <td>0.413043</td>\n",
              "      <td>0.476110</td>\n",
              "      <td>0.055594</td>\n",
              "      <td>7</td>\n",
              "    </tr>\n",
              "    <tr>\n",
              "      <th>9</th>\n",
              "      <td>0.416173</td>\n",
              "      <td>0.028028</td>\n",
              "      <td>0.093934</td>\n",
              "      <td>0.009060</td>\n",
              "      <td>40</td>\n",
              "      <td>linear</td>\n",
              "      <td>{'C': 40, 'kernel': 'linear'}</td>\n",
              "      <td>0.666667</td>\n",
              "      <td>0.645161</td>\n",
              "      <td>0.663043</td>\n",
              "      <td>0.652174</td>\n",
              "      <td>0.663043</td>\n",
              "      <td>0.658018</td>\n",
              "      <td>0.008059</td>\n",
              "      <td>1</td>\n",
              "    </tr>\n",
              "    <tr>\n",
              "      <th>10</th>\n",
              "      <td>0.723051</td>\n",
              "      <td>0.012496</td>\n",
              "      <td>0.194928</td>\n",
              "      <td>0.007688</td>\n",
              "      <td>50</td>\n",
              "      <td>rbf</td>\n",
              "      <td>{'C': 50, 'kernel': 'rbf'}</td>\n",
              "      <td>0.430108</td>\n",
              "      <td>0.559140</td>\n",
              "      <td>0.521739</td>\n",
              "      <td>0.456522</td>\n",
              "      <td>0.413043</td>\n",
              "      <td>0.476110</td>\n",
              "      <td>0.055594</td>\n",
              "      <td>7</td>\n",
              "    </tr>\n",
              "    <tr>\n",
              "      <th>11</th>\n",
              "      <td>0.395373</td>\n",
              "      <td>0.029920</td>\n",
              "      <td>0.094560</td>\n",
              "      <td>0.005968</td>\n",
              "      <td>50</td>\n",
              "      <td>linear</td>\n",
              "      <td>{'C': 50, 'kernel': 'linear'}</td>\n",
              "      <td>0.666667</td>\n",
              "      <td>0.645161</td>\n",
              "      <td>0.663043</td>\n",
              "      <td>0.652174</td>\n",
              "      <td>0.663043</td>\n",
              "      <td>0.658018</td>\n",
              "      <td>0.008059</td>\n",
              "      <td>1</td>\n",
              "    </tr>\n",
              "  </tbody>\n",
              "</table>\n",
              "</div>\n",
              "      <button class=\"colab-df-convert\" onclick=\"convertToInteractive('df-25208b0a-13b3-472f-888f-74ba4131915a')\"\n",
              "              title=\"Convert this dataframe to an interactive table.\"\n",
              "              style=\"display:none;\">\n",
              "        \n",
              "  <svg xmlns=\"http://www.w3.org/2000/svg\" height=\"24px\"viewBox=\"0 0 24 24\"\n",
              "       width=\"24px\">\n",
              "    <path d=\"M0 0h24v24H0V0z\" fill=\"none\"/>\n",
              "    <path d=\"M18.56 5.44l.94 2.06.94-2.06 2.06-.94-2.06-.94-.94-2.06-.94 2.06-2.06.94zm-11 1L8.5 8.5l.94-2.06 2.06-.94-2.06-.94L8.5 2.5l-.94 2.06-2.06.94zm10 10l.94 2.06.94-2.06 2.06-.94-2.06-.94-.94-2.06-.94 2.06-2.06.94z\"/><path d=\"M17.41 7.96l-1.37-1.37c-.4-.4-.92-.59-1.43-.59-.52 0-1.04.2-1.43.59L10.3 9.45l-7.72 7.72c-.78.78-.78 2.05 0 2.83L4 21.41c.39.39.9.59 1.41.59.51 0 1.02-.2 1.41-.59l7.78-7.78 2.81-2.81c.8-.78.8-2.07 0-2.86zM5.41 20L4 18.59l7.72-7.72 1.47 1.35L5.41 20z\"/>\n",
              "  </svg>\n",
              "      </button>\n",
              "      \n",
              "  <style>\n",
              "    .colab-df-container {\n",
              "      display:flex;\n",
              "      flex-wrap:wrap;\n",
              "      gap: 12px;\n",
              "    }\n",
              "\n",
              "    .colab-df-convert {\n",
              "      background-color: #E8F0FE;\n",
              "      border: none;\n",
              "      border-radius: 50%;\n",
              "      cursor: pointer;\n",
              "      display: none;\n",
              "      fill: #1967D2;\n",
              "      height: 32px;\n",
              "      padding: 0 0 0 0;\n",
              "      width: 32px;\n",
              "    }\n",
              "\n",
              "    .colab-df-convert:hover {\n",
              "      background-color: #E2EBFA;\n",
              "      box-shadow: 0px 1px 2px rgba(60, 64, 67, 0.3), 0px 1px 3px 1px rgba(60, 64, 67, 0.15);\n",
              "      fill: #174EA6;\n",
              "    }\n",
              "\n",
              "    [theme=dark] .colab-df-convert {\n",
              "      background-color: #3B4455;\n",
              "      fill: #D2E3FC;\n",
              "    }\n",
              "\n",
              "    [theme=dark] .colab-df-convert:hover {\n",
              "      background-color: #434B5C;\n",
              "      box-shadow: 0px 1px 3px 1px rgba(0, 0, 0, 0.15);\n",
              "      filter: drop-shadow(0px 1px 2px rgba(0, 0, 0, 0.3));\n",
              "      fill: #FFFFFF;\n",
              "    }\n",
              "  </style>\n",
              "\n",
              "      <script>\n",
              "        const buttonEl =\n",
              "          document.querySelector('#df-25208b0a-13b3-472f-888f-74ba4131915a button.colab-df-convert');\n",
              "        buttonEl.style.display =\n",
              "          google.colab.kernel.accessAllowed ? 'block' : 'none';\n",
              "\n",
              "        async function convertToInteractive(key) {\n",
              "          const element = document.querySelector('#df-25208b0a-13b3-472f-888f-74ba4131915a');\n",
              "          const dataTable =\n",
              "            await google.colab.kernel.invokeFunction('convertToInteractive',\n",
              "                                                     [key], {});\n",
              "          if (!dataTable) return;\n",
              "\n",
              "          const docLinkHtml = 'Like what you see? Visit the ' +\n",
              "            '<a target=\"_blank\" href=https://colab.research.google.com/notebooks/data_table.ipynb>data table notebook</a>'\n",
              "            + ' to learn more about interactive tables.';\n",
              "          element.innerHTML = '';\n",
              "          dataTable['output_type'] = 'display_data';\n",
              "          await google.colab.output.renderOutput(dataTable, element);\n",
              "          const docLink = document.createElement('div');\n",
              "          docLink.innerHTML = docLinkHtml;\n",
              "          element.appendChild(docLink);\n",
              "        }\n",
              "      </script>\n",
              "    </div>\n",
              "  </div>\n",
              "  "
            ],
            "text/plain": [
              "    mean_fit_time  std_fit_time  mean_score_time  std_score_time param_C  \\\n",
              "0        0.715713      0.022282         0.197767        0.006403       1   \n",
              "1        0.411477      0.028489         0.093630        0.004329       1   \n",
              "2        0.737943      0.018299         0.192503        0.002375      10   \n",
              "3        0.508053      0.127200         0.141221        0.065299      10   \n",
              "4        0.702303      0.004264         0.196385        0.009002      20   \n",
              "5        0.399811      0.040581         0.089856        0.001621      20   \n",
              "6        0.710968      0.015872         0.197663        0.006158      30   \n",
              "7        0.415899      0.033829         0.091213        0.005022      30   \n",
              "8        0.793196      0.118616         0.267053        0.092158      40   \n",
              "9        0.416173      0.028028         0.093934        0.009060      40   \n",
              "10       0.723051      0.012496         0.194928        0.007688      50   \n",
              "11       0.395373      0.029920         0.094560        0.005968      50   \n",
              "\n",
              "   param_kernel                         params  split0_test_score  \\\n",
              "0           rbf      {'C': 1, 'kernel': 'rbf'}           0.440860   \n",
              "1        linear   {'C': 1, 'kernel': 'linear'}           0.666667   \n",
              "2           rbf     {'C': 10, 'kernel': 'rbf'}           0.430108   \n",
              "3        linear  {'C': 10, 'kernel': 'linear'}           0.666667   \n",
              "4           rbf     {'C': 20, 'kernel': 'rbf'}           0.430108   \n",
              "5        linear  {'C': 20, 'kernel': 'linear'}           0.666667   \n",
              "6           rbf     {'C': 30, 'kernel': 'rbf'}           0.430108   \n",
              "7        linear  {'C': 30, 'kernel': 'linear'}           0.666667   \n",
              "8           rbf     {'C': 40, 'kernel': 'rbf'}           0.430108   \n",
              "9        linear  {'C': 40, 'kernel': 'linear'}           0.666667   \n",
              "10          rbf     {'C': 50, 'kernel': 'rbf'}           0.430108   \n",
              "11       linear  {'C': 50, 'kernel': 'linear'}           0.666667   \n",
              "\n",
              "    split1_test_score  split2_test_score  split3_test_score  \\\n",
              "0            0.580645           0.500000           0.369565   \n",
              "1            0.645161           0.663043           0.652174   \n",
              "2            0.559140           0.521739           0.456522   \n",
              "3            0.645161           0.663043           0.652174   \n",
              "4            0.559140           0.521739           0.456522   \n",
              "5            0.645161           0.663043           0.652174   \n",
              "6            0.559140           0.521739           0.456522   \n",
              "7            0.645161           0.663043           0.652174   \n",
              "8            0.559140           0.521739           0.456522   \n",
              "9            0.645161           0.663043           0.652174   \n",
              "10           0.559140           0.521739           0.456522   \n",
              "11           0.645161           0.663043           0.652174   \n",
              "\n",
              "    split4_test_score  mean_test_score  std_test_score  rank_test_score  \n",
              "0            0.413043         0.460823        0.073351               12  \n",
              "1            0.663043         0.658018        0.008059                1  \n",
              "2            0.413043         0.476110        0.055594                7  \n",
              "3            0.663043         0.658018        0.008059                1  \n",
              "4            0.413043         0.476110        0.055594                7  \n",
              "5            0.663043         0.658018        0.008059                1  \n",
              "6            0.413043         0.476110        0.055594                7  \n",
              "7            0.663043         0.658018        0.008059                1  \n",
              "8            0.413043         0.476110        0.055594                7  \n",
              "9            0.663043         0.658018        0.008059                1  \n",
              "10           0.413043         0.476110        0.055594                7  \n",
              "11           0.663043         0.658018        0.008059                1  "
            ]
          },
          "execution_count": 58,
          "metadata": {},
          "output_type": "execute_result"
        }
      ],
      "source": [
        "g_svm_df"
      ]
    },
    {
      "cell_type": "code",
      "execution_count": null,
      "metadata": {
        "colab": {
          "base_uri": "https://localhost:8080/",
          "height": 426
        },
        "id": "sYjVngsF4adR",
        "outputId": "726232ef-58c2-421c-aa2b-524791e094fd"
      },
      "outputs": [
        {
          "data": {
            "text/html": [
              "\n",
              "  <div id=\"df-d52ddc86-9cd9-4bb9-9fd7-70ae4000b6bf\">\n",
              "    <div class=\"colab-df-container\">\n",
              "      <div>\n",
              "<style scoped>\n",
              "    .dataframe tbody tr th:only-of-type {\n",
              "        vertical-align: middle;\n",
              "    }\n",
              "\n",
              "    .dataframe tbody tr th {\n",
              "        vertical-align: top;\n",
              "    }\n",
              "\n",
              "    .dataframe thead th {\n",
              "        text-align: right;\n",
              "    }\n",
              "</style>\n",
              "<table border=\"1\" class=\"dataframe\">\n",
              "  <thead>\n",
              "    <tr style=\"text-align: right;\">\n",
              "      <th></th>\n",
              "      <th>param_C</th>\n",
              "      <th>param_kernel</th>\n",
              "      <th>mean_test_score</th>\n",
              "      <th>rank_test_score</th>\n",
              "    </tr>\n",
              "  </thead>\n",
              "  <tbody>\n",
              "    <tr>\n",
              "      <th>0</th>\n",
              "      <td>1</td>\n",
              "      <td>rbf</td>\n",
              "      <td>0.460823</td>\n",
              "      <td>12</td>\n",
              "    </tr>\n",
              "    <tr>\n",
              "      <th>1</th>\n",
              "      <td>1</td>\n",
              "      <td>linear</td>\n",
              "      <td>0.658018</td>\n",
              "      <td>1</td>\n",
              "    </tr>\n",
              "    <tr>\n",
              "      <th>2</th>\n",
              "      <td>10</td>\n",
              "      <td>rbf</td>\n",
              "      <td>0.476110</td>\n",
              "      <td>7</td>\n",
              "    </tr>\n",
              "    <tr>\n",
              "      <th>3</th>\n",
              "      <td>10</td>\n",
              "      <td>linear</td>\n",
              "      <td>0.658018</td>\n",
              "      <td>1</td>\n",
              "    </tr>\n",
              "    <tr>\n",
              "      <th>4</th>\n",
              "      <td>20</td>\n",
              "      <td>rbf</td>\n",
              "      <td>0.476110</td>\n",
              "      <td>7</td>\n",
              "    </tr>\n",
              "    <tr>\n",
              "      <th>5</th>\n",
              "      <td>20</td>\n",
              "      <td>linear</td>\n",
              "      <td>0.658018</td>\n",
              "      <td>1</td>\n",
              "    </tr>\n",
              "    <tr>\n",
              "      <th>6</th>\n",
              "      <td>30</td>\n",
              "      <td>rbf</td>\n",
              "      <td>0.476110</td>\n",
              "      <td>7</td>\n",
              "    </tr>\n",
              "    <tr>\n",
              "      <th>7</th>\n",
              "      <td>30</td>\n",
              "      <td>linear</td>\n",
              "      <td>0.658018</td>\n",
              "      <td>1</td>\n",
              "    </tr>\n",
              "    <tr>\n",
              "      <th>8</th>\n",
              "      <td>40</td>\n",
              "      <td>rbf</td>\n",
              "      <td>0.476110</td>\n",
              "      <td>7</td>\n",
              "    </tr>\n",
              "    <tr>\n",
              "      <th>9</th>\n",
              "      <td>40</td>\n",
              "      <td>linear</td>\n",
              "      <td>0.658018</td>\n",
              "      <td>1</td>\n",
              "    </tr>\n",
              "    <tr>\n",
              "      <th>10</th>\n",
              "      <td>50</td>\n",
              "      <td>rbf</td>\n",
              "      <td>0.476110</td>\n",
              "      <td>7</td>\n",
              "    </tr>\n",
              "    <tr>\n",
              "      <th>11</th>\n",
              "      <td>50</td>\n",
              "      <td>linear</td>\n",
              "      <td>0.658018</td>\n",
              "      <td>1</td>\n",
              "    </tr>\n",
              "  </tbody>\n",
              "</table>\n",
              "</div>\n",
              "      <button class=\"colab-df-convert\" onclick=\"convertToInteractive('df-d52ddc86-9cd9-4bb9-9fd7-70ae4000b6bf')\"\n",
              "              title=\"Convert this dataframe to an interactive table.\"\n",
              "              style=\"display:none;\">\n",
              "        \n",
              "  <svg xmlns=\"http://www.w3.org/2000/svg\" height=\"24px\"viewBox=\"0 0 24 24\"\n",
              "       width=\"24px\">\n",
              "    <path d=\"M0 0h24v24H0V0z\" fill=\"none\"/>\n",
              "    <path d=\"M18.56 5.44l.94 2.06.94-2.06 2.06-.94-2.06-.94-.94-2.06-.94 2.06-2.06.94zm-11 1L8.5 8.5l.94-2.06 2.06-.94-2.06-.94L8.5 2.5l-.94 2.06-2.06.94zm10 10l.94 2.06.94-2.06 2.06-.94-2.06-.94-.94-2.06-.94 2.06-2.06.94z\"/><path d=\"M17.41 7.96l-1.37-1.37c-.4-.4-.92-.59-1.43-.59-.52 0-1.04.2-1.43.59L10.3 9.45l-7.72 7.72c-.78.78-.78 2.05 0 2.83L4 21.41c.39.39.9.59 1.41.59.51 0 1.02-.2 1.41-.59l7.78-7.78 2.81-2.81c.8-.78.8-2.07 0-2.86zM5.41 20L4 18.59l7.72-7.72 1.47 1.35L5.41 20z\"/>\n",
              "  </svg>\n",
              "      </button>\n",
              "      \n",
              "  <style>\n",
              "    .colab-df-container {\n",
              "      display:flex;\n",
              "      flex-wrap:wrap;\n",
              "      gap: 12px;\n",
              "    }\n",
              "\n",
              "    .colab-df-convert {\n",
              "      background-color: #E8F0FE;\n",
              "      border: none;\n",
              "      border-radius: 50%;\n",
              "      cursor: pointer;\n",
              "      display: none;\n",
              "      fill: #1967D2;\n",
              "      height: 32px;\n",
              "      padding: 0 0 0 0;\n",
              "      width: 32px;\n",
              "    }\n",
              "\n",
              "    .colab-df-convert:hover {\n",
              "      background-color: #E2EBFA;\n",
              "      box-shadow: 0px 1px 2px rgba(60, 64, 67, 0.3), 0px 1px 3px 1px rgba(60, 64, 67, 0.15);\n",
              "      fill: #174EA6;\n",
              "    }\n",
              "\n",
              "    [theme=dark] .colab-df-convert {\n",
              "      background-color: #3B4455;\n",
              "      fill: #D2E3FC;\n",
              "    }\n",
              "\n",
              "    [theme=dark] .colab-df-convert:hover {\n",
              "      background-color: #434B5C;\n",
              "      box-shadow: 0px 1px 3px 1px rgba(0, 0, 0, 0.15);\n",
              "      filter: drop-shadow(0px 1px 2px rgba(0, 0, 0, 0.3));\n",
              "      fill: #FFFFFF;\n",
              "    }\n",
              "  </style>\n",
              "\n",
              "      <script>\n",
              "        const buttonEl =\n",
              "          document.querySelector('#df-d52ddc86-9cd9-4bb9-9fd7-70ae4000b6bf button.colab-df-convert');\n",
              "        buttonEl.style.display =\n",
              "          google.colab.kernel.accessAllowed ? 'block' : 'none';\n",
              "\n",
              "        async function convertToInteractive(key) {\n",
              "          const element = document.querySelector('#df-d52ddc86-9cd9-4bb9-9fd7-70ae4000b6bf');\n",
              "          const dataTable =\n",
              "            await google.colab.kernel.invokeFunction('convertToInteractive',\n",
              "                                                     [key], {});\n",
              "          if (!dataTable) return;\n",
              "\n",
              "          const docLinkHtml = 'Like what you see? Visit the ' +\n",
              "            '<a target=\"_blank\" href=https://colab.research.google.com/notebooks/data_table.ipynb>data table notebook</a>'\n",
              "            + ' to learn more about interactive tables.';\n",
              "          element.innerHTML = '';\n",
              "          dataTable['output_type'] = 'display_data';\n",
              "          await google.colab.output.renderOutput(dataTable, element);\n",
              "          const docLink = document.createElement('div');\n",
              "          docLink.innerHTML = docLinkHtml;\n",
              "          element.appendChild(docLink);\n",
              "        }\n",
              "      </script>\n",
              "    </div>\n",
              "  </div>\n",
              "  "
            ],
            "text/plain": [
              "   param_C param_kernel  mean_test_score  rank_test_score\n",
              "0        1          rbf         0.460823               12\n",
              "1        1       linear         0.658018                1\n",
              "2       10          rbf         0.476110                7\n",
              "3       10       linear         0.658018                1\n",
              "4       20          rbf         0.476110                7\n",
              "5       20       linear         0.658018                1\n",
              "6       30          rbf         0.476110                7\n",
              "7       30       linear         0.658018                1\n",
              "8       40          rbf         0.476110                7\n",
              "9       40       linear         0.658018                1\n",
              "10      50          rbf         0.476110                7\n",
              "11      50       linear         0.658018                1"
            ]
          },
          "execution_count": 59,
          "metadata": {},
          "output_type": "execute_result"
        }
      ],
      "source": [
        "g_svm_df[['param_C','param_kernel','mean_test_score','rank_test_score']]"
      ]
    },
    {
      "cell_type": "code",
      "execution_count": null,
      "metadata": {
        "colab": {
          "base_uri": "https://localhost:8080/"
        },
        "id": "tVJ8qJ8A4-tf",
        "outputId": "4efbfbc8-276c-4caf-9e6e-1b98003a386b"
      },
      "outputs": [
        {
          "data": {
            "text/plain": [
              "{'C': 1, 'kernel': 'linear'}"
            ]
          },
          "execution_count": 60,
          "metadata": {},
          "output_type": "execute_result"
        }
      ],
      "source": [
        "g_svm.best_params_"
      ]
    },
    {
      "cell_type": "code",
      "source": [
        "######################################################################################anmaly"
      ],
      "metadata": {
        "id": "Dp-IY3P8hZxt"
      },
      "execution_count": 497,
      "outputs": []
    },
    {
      "cell_type": "code",
      "source": [],
      "metadata": {
        "id": "bqahUszuZF6v"
      },
      "execution_count": null,
      "outputs": []
    },
    {
      "cell_type": "code",
      "source": [],
      "metadata": {
        "id": "Ue5ZYU-8ZF97"
      },
      "execution_count": null,
      "outputs": []
    },
    {
      "cell_type": "code",
      "source": [],
      "metadata": {
        "id": "i3Ui-MVtZGBE"
      },
      "execution_count": null,
      "outputs": []
    },
    {
      "cell_type": "code",
      "source": [],
      "metadata": {
        "id": "FaBiR6UrZGES"
      },
      "execution_count": null,
      "outputs": []
    },
    {
      "cell_type": "code",
      "source": [
        "df = data.iloc[: ,:-12]"
      ],
      "metadata": {
        "id": "b5z7nMU2lRyL"
      },
      "execution_count": 239,
      "outputs": []
    },
    {
      "cell_type": "code",
      "source": [
        "df['Participant'].unique()"
      ],
      "metadata": {
        "colab": {
          "base_uri": "https://localhost:8080/"
        },
        "id": "2yNBNUBizTFR",
        "outputId": "f055cb52-6c20-4e7b-a687-8d2918df9eef"
      },
      "execution_count": 240,
      "outputs": [
        {
          "output_type": "execute_result",
          "data": {
            "text/plain": [
              "array([22, 23, 24, 25, 26, 27, 28, 29, 31, 32, 33, 34, 35, 36, 37, 38, 39,\n",
              "       40, 41, 42, 43, 44, 45, 46, 47, 48, 49, 50, 51, 52, 53, 54, 55, 56,\n",
              "       57, 58, 59, 60, 61, 62, 63, 64])"
            ]
          },
          "metadata": {},
          "execution_count": 240
        }
      ]
    },
    {
      "cell_type": "code",
      "source": [
        "mask = data[\"Stage\"] == \"STIMULUS\"\n",
        "df = df.loc[mask, [*df.columns[0:6293]]].applymap(lambda x:getter(x))"
      ],
      "metadata": {
        "id": "kOIKE-9Unl4x"
      },
      "execution_count": 241,
      "outputs": []
    },
    {
      "cell_type": "code",
      "source": [
        "df.drop(['Stage'], axis = 1, inplace = True)"
      ],
      "metadata": {
        "id": "G1J-0zGv-A5z"
      },
      "execution_count": 242,
      "outputs": []
    },
    {
      "cell_type": "code",
      "source": [
        "bas = df['Target']=='BASELINE'\n",
        "df_bas = df.loc[bas, [*df.columns[0:6293]]]"
      ],
      "metadata": {
        "id": "KJbpMAfNoD15"
      },
      "execution_count": 243,
      "outputs": []
    },
    {
      "cell_type": "code",
      "source": [
        "emo = df['Target']=='BASELINE'\n",
        "df_emo = df.loc[~emo, [*df.columns[0:6293]]]"
      ],
      "metadata": {
        "id": "_honCriY7Gc4"
      },
      "execution_count": 244,
      "outputs": []
    },
    {
      "cell_type": "code",
      "source": [
        "df_emo"
      ],
      "metadata": {
        "colab": {
          "base_uri": "https://localhost:8080/",
          "height": 488
        },
        "id": "L0bH8g-e74uR",
        "outputId": "e5b573b3-7cf4-42e3-f4cf-b6744bc01b59"
      },
      "execution_count": 245,
      "outputs": [
        {
          "output_type": "execute_result",
          "data": {
            "text/plain": [
              "      Participant  0:0.0  0:0.099791  0:0.199582  0:0.299373  0:0.399164  \\\n",
              "3              22     81          81          81          81          81   \n",
              "6              22     85          85          85          85          85   \n",
              "9              22     85          86          85          86          85   \n",
              "12             22     83          83          83          83          83   \n",
              "15             22     78          78          78          78          78   \n",
              "...           ...    ...         ...         ...         ...         ...   \n",
              "1330           64     78          79          79          79          78   \n",
              "1333           64     77          77          77          77          77   \n",
              "1336           64     97          97          97          97          97   \n",
              "1339           64     78          78          78          78          78   \n",
              "1342           64     69          68          69          69          69   \n",
              "\n",
              "      0:0.49895500000000004  0:0.598746  0:0.6985370000000001  0:0.798328  \\\n",
              "3                        81          81                    81          81   \n",
              "6                        86          86                    86          86   \n",
              "9                        85          85                    85          85   \n",
              "12                       82          83                    83          83   \n",
              "15                       78          78                    78          78   \n",
              "...                     ...         ...                   ...         ...   \n",
              "1330                     79          79                    79          79   \n",
              "1333                     77          77                    77          78   \n",
              "1336                     97          97                    98          98   \n",
              "1339                     78          78                    78          78   \n",
              "1342                     69          68                    68          68   \n",
              "\n",
              "      ...  10:26.787271000000032  10:26.887062000000014  \\\n",
              "3     ...                    NaN                    NaN   \n",
              "6     ...                    NaN                    NaN   \n",
              "9     ...                    NaN                    NaN   \n",
              "12    ...                    NaN                    NaN   \n",
              "15    ...                    NaN                    NaN   \n",
              "...   ...                    ...                    ...   \n",
              "1330  ...                    NaN                    NaN   \n",
              "1333  ...                    NaN                    NaN   \n",
              "1336  ...                    NaN                    NaN   \n",
              "1339  ...                    NaN                    NaN   \n",
              "1342  ...                    NaN                    NaN   \n",
              "\n",
              "      10:26.986852999999996  10:27.08664399999998  10:27.186435000000074  \\\n",
              "3                       NaN                   NaN                    NaN   \n",
              "6                       NaN                   NaN                    NaN   \n",
              "9                       NaN                   NaN                    NaN   \n",
              "12                      NaN                   NaN                    NaN   \n",
              "15                      NaN                   NaN                    NaN   \n",
              "...                     ...                   ...                    ...   \n",
              "1330                    NaN                   NaN                    NaN   \n",
              "1333                    NaN                   NaN                    NaN   \n",
              "1336                    NaN                   NaN                    NaN   \n",
              "1339                    NaN                   NaN                    NaN   \n",
              "1342                    NaN                   NaN                    NaN   \n",
              "\n",
              "      10:27.286226000000056  10:27.386017000000038  10:27.48580800000002  \\\n",
              "3                       NaN                    NaN                   NaN   \n",
              "6                       NaN                    NaN                   NaN   \n",
              "9                       NaN                    NaN                   NaN   \n",
              "12                      NaN                    NaN                   NaN   \n",
              "15                      NaN                    NaN                   NaN   \n",
              "...                     ...                    ...                   ...   \n",
              "1330                    NaN                    NaN                   NaN   \n",
              "1333                    NaN                    NaN                   NaN   \n",
              "1336                    NaN                    NaN                   NaN   \n",
              "1339                    NaN                    NaN                   NaN   \n",
              "1342                    NaN                    NaN                   NaN   \n",
              "\n",
              "      10:27.585599000000002     Target  \n",
              "3                       NaN    NEUTRAL  \n",
              "6                       NaN        AWE  \n",
              "9                       NaN    DISGUST  \n",
              "12                      NaN   SURPRISE  \n",
              "15                      NaN      ANGER  \n",
              "...                     ...        ...  \n",
              "1330                    NaN       FEAR  \n",
              "1333                    NaN  AMUSEMENT  \n",
              "1336                    NaN    SADNESS  \n",
              "1339                    NaN    NEUTRAL  \n",
              "1342                    NaN        AWE  \n",
              "\n",
              "[420 rows x 6292 columns]"
            ],
            "text/html": [
              "\n",
              "  <div id=\"df-a3c410c9-4693-4727-b530-98f5885ae104\">\n",
              "    <div class=\"colab-df-container\">\n",
              "      <div>\n",
              "<style scoped>\n",
              "    .dataframe tbody tr th:only-of-type {\n",
              "        vertical-align: middle;\n",
              "    }\n",
              "\n",
              "    .dataframe tbody tr th {\n",
              "        vertical-align: top;\n",
              "    }\n",
              "\n",
              "    .dataframe thead th {\n",
              "        text-align: right;\n",
              "    }\n",
              "</style>\n",
              "<table border=\"1\" class=\"dataframe\">\n",
              "  <thead>\n",
              "    <tr style=\"text-align: right;\">\n",
              "      <th></th>\n",
              "      <th>Participant</th>\n",
              "      <th>0:0.0</th>\n",
              "      <th>0:0.099791</th>\n",
              "      <th>0:0.199582</th>\n",
              "      <th>0:0.299373</th>\n",
              "      <th>0:0.399164</th>\n",
              "      <th>0:0.49895500000000004</th>\n",
              "      <th>0:0.598746</th>\n",
              "      <th>0:0.6985370000000001</th>\n",
              "      <th>0:0.798328</th>\n",
              "      <th>...</th>\n",
              "      <th>10:26.787271000000032</th>\n",
              "      <th>10:26.887062000000014</th>\n",
              "      <th>10:26.986852999999996</th>\n",
              "      <th>10:27.08664399999998</th>\n",
              "      <th>10:27.186435000000074</th>\n",
              "      <th>10:27.286226000000056</th>\n",
              "      <th>10:27.386017000000038</th>\n",
              "      <th>10:27.48580800000002</th>\n",
              "      <th>10:27.585599000000002</th>\n",
              "      <th>Target</th>\n",
              "    </tr>\n",
              "  </thead>\n",
              "  <tbody>\n",
              "    <tr>\n",
              "      <th>3</th>\n",
              "      <td>22</td>\n",
              "      <td>81</td>\n",
              "      <td>81</td>\n",
              "      <td>81</td>\n",
              "      <td>81</td>\n",
              "      <td>81</td>\n",
              "      <td>81</td>\n",
              "      <td>81</td>\n",
              "      <td>81</td>\n",
              "      <td>81</td>\n",
              "      <td>...</td>\n",
              "      <td>NaN</td>\n",
              "      <td>NaN</td>\n",
              "      <td>NaN</td>\n",
              "      <td>NaN</td>\n",
              "      <td>NaN</td>\n",
              "      <td>NaN</td>\n",
              "      <td>NaN</td>\n",
              "      <td>NaN</td>\n",
              "      <td>NaN</td>\n",
              "      <td>NEUTRAL</td>\n",
              "    </tr>\n",
              "    <tr>\n",
              "      <th>6</th>\n",
              "      <td>22</td>\n",
              "      <td>85</td>\n",
              "      <td>85</td>\n",
              "      <td>85</td>\n",
              "      <td>85</td>\n",
              "      <td>85</td>\n",
              "      <td>86</td>\n",
              "      <td>86</td>\n",
              "      <td>86</td>\n",
              "      <td>86</td>\n",
              "      <td>...</td>\n",
              "      <td>NaN</td>\n",
              "      <td>NaN</td>\n",
              "      <td>NaN</td>\n",
              "      <td>NaN</td>\n",
              "      <td>NaN</td>\n",
              "      <td>NaN</td>\n",
              "      <td>NaN</td>\n",
              "      <td>NaN</td>\n",
              "      <td>NaN</td>\n",
              "      <td>AWE</td>\n",
              "    </tr>\n",
              "    <tr>\n",
              "      <th>9</th>\n",
              "      <td>22</td>\n",
              "      <td>85</td>\n",
              "      <td>86</td>\n",
              "      <td>85</td>\n",
              "      <td>86</td>\n",
              "      <td>85</td>\n",
              "      <td>85</td>\n",
              "      <td>85</td>\n",
              "      <td>85</td>\n",
              "      <td>85</td>\n",
              "      <td>...</td>\n",
              "      <td>NaN</td>\n",
              "      <td>NaN</td>\n",
              "      <td>NaN</td>\n",
              "      <td>NaN</td>\n",
              "      <td>NaN</td>\n",
              "      <td>NaN</td>\n",
              "      <td>NaN</td>\n",
              "      <td>NaN</td>\n",
              "      <td>NaN</td>\n",
              "      <td>DISGUST</td>\n",
              "    </tr>\n",
              "    <tr>\n",
              "      <th>12</th>\n",
              "      <td>22</td>\n",
              "      <td>83</td>\n",
              "      <td>83</td>\n",
              "      <td>83</td>\n",
              "      <td>83</td>\n",
              "      <td>83</td>\n",
              "      <td>82</td>\n",
              "      <td>83</td>\n",
              "      <td>83</td>\n",
              "      <td>83</td>\n",
              "      <td>...</td>\n",
              "      <td>NaN</td>\n",
              "      <td>NaN</td>\n",
              "      <td>NaN</td>\n",
              "      <td>NaN</td>\n",
              "      <td>NaN</td>\n",
              "      <td>NaN</td>\n",
              "      <td>NaN</td>\n",
              "      <td>NaN</td>\n",
              "      <td>NaN</td>\n",
              "      <td>SURPRISE</td>\n",
              "    </tr>\n",
              "    <tr>\n",
              "      <th>15</th>\n",
              "      <td>22</td>\n",
              "      <td>78</td>\n",
              "      <td>78</td>\n",
              "      <td>78</td>\n",
              "      <td>78</td>\n",
              "      <td>78</td>\n",
              "      <td>78</td>\n",
              "      <td>78</td>\n",
              "      <td>78</td>\n",
              "      <td>78</td>\n",
              "      <td>...</td>\n",
              "      <td>NaN</td>\n",
              "      <td>NaN</td>\n",
              "      <td>NaN</td>\n",
              "      <td>NaN</td>\n",
              "      <td>NaN</td>\n",
              "      <td>NaN</td>\n",
              "      <td>NaN</td>\n",
              "      <td>NaN</td>\n",
              "      <td>NaN</td>\n",
              "      <td>ANGER</td>\n",
              "    </tr>\n",
              "    <tr>\n",
              "      <th>...</th>\n",
              "      <td>...</td>\n",
              "      <td>...</td>\n",
              "      <td>...</td>\n",
              "      <td>...</td>\n",
              "      <td>...</td>\n",
              "      <td>...</td>\n",
              "      <td>...</td>\n",
              "      <td>...</td>\n",
              "      <td>...</td>\n",
              "      <td>...</td>\n",
              "      <td>...</td>\n",
              "      <td>...</td>\n",
              "      <td>...</td>\n",
              "      <td>...</td>\n",
              "      <td>...</td>\n",
              "      <td>...</td>\n",
              "      <td>...</td>\n",
              "      <td>...</td>\n",
              "      <td>...</td>\n",
              "      <td>...</td>\n",
              "      <td>...</td>\n",
              "    </tr>\n",
              "    <tr>\n",
              "      <th>1330</th>\n",
              "      <td>64</td>\n",
              "      <td>78</td>\n",
              "      <td>79</td>\n",
              "      <td>79</td>\n",
              "      <td>79</td>\n",
              "      <td>78</td>\n",
              "      <td>79</td>\n",
              "      <td>79</td>\n",
              "      <td>79</td>\n",
              "      <td>79</td>\n",
              "      <td>...</td>\n",
              "      <td>NaN</td>\n",
              "      <td>NaN</td>\n",
              "      <td>NaN</td>\n",
              "      <td>NaN</td>\n",
              "      <td>NaN</td>\n",
              "      <td>NaN</td>\n",
              "      <td>NaN</td>\n",
              "      <td>NaN</td>\n",
              "      <td>NaN</td>\n",
              "      <td>FEAR</td>\n",
              "    </tr>\n",
              "    <tr>\n",
              "      <th>1333</th>\n",
              "      <td>64</td>\n",
              "      <td>77</td>\n",
              "      <td>77</td>\n",
              "      <td>77</td>\n",
              "      <td>77</td>\n",
              "      <td>77</td>\n",
              "      <td>77</td>\n",
              "      <td>77</td>\n",
              "      <td>77</td>\n",
              "      <td>78</td>\n",
              "      <td>...</td>\n",
              "      <td>NaN</td>\n",
              "      <td>NaN</td>\n",
              "      <td>NaN</td>\n",
              "      <td>NaN</td>\n",
              "      <td>NaN</td>\n",
              "      <td>NaN</td>\n",
              "      <td>NaN</td>\n",
              "      <td>NaN</td>\n",
              "      <td>NaN</td>\n",
              "      <td>AMUSEMENT</td>\n",
              "    </tr>\n",
              "    <tr>\n",
              "      <th>1336</th>\n",
              "      <td>64</td>\n",
              "      <td>97</td>\n",
              "      <td>97</td>\n",
              "      <td>97</td>\n",
              "      <td>97</td>\n",
              "      <td>97</td>\n",
              "      <td>97</td>\n",
              "      <td>97</td>\n",
              "      <td>98</td>\n",
              "      <td>98</td>\n",
              "      <td>...</td>\n",
              "      <td>NaN</td>\n",
              "      <td>NaN</td>\n",
              "      <td>NaN</td>\n",
              "      <td>NaN</td>\n",
              "      <td>NaN</td>\n",
              "      <td>NaN</td>\n",
              "      <td>NaN</td>\n",
              "      <td>NaN</td>\n",
              "      <td>NaN</td>\n",
              "      <td>SADNESS</td>\n",
              "    </tr>\n",
              "    <tr>\n",
              "      <th>1339</th>\n",
              "      <td>64</td>\n",
              "      <td>78</td>\n",
              "      <td>78</td>\n",
              "      <td>78</td>\n",
              "      <td>78</td>\n",
              "      <td>78</td>\n",
              "      <td>78</td>\n",
              "      <td>78</td>\n",
              "      <td>78</td>\n",
              "      <td>78</td>\n",
              "      <td>...</td>\n",
              "      <td>NaN</td>\n",
              "      <td>NaN</td>\n",
              "      <td>NaN</td>\n",
              "      <td>NaN</td>\n",
              "      <td>NaN</td>\n",
              "      <td>NaN</td>\n",
              "      <td>NaN</td>\n",
              "      <td>NaN</td>\n",
              "      <td>NaN</td>\n",
              "      <td>NEUTRAL</td>\n",
              "    </tr>\n",
              "    <tr>\n",
              "      <th>1342</th>\n",
              "      <td>64</td>\n",
              "      <td>69</td>\n",
              "      <td>68</td>\n",
              "      <td>69</td>\n",
              "      <td>69</td>\n",
              "      <td>69</td>\n",
              "      <td>69</td>\n",
              "      <td>68</td>\n",
              "      <td>68</td>\n",
              "      <td>68</td>\n",
              "      <td>...</td>\n",
              "      <td>NaN</td>\n",
              "      <td>NaN</td>\n",
              "      <td>NaN</td>\n",
              "      <td>NaN</td>\n",
              "      <td>NaN</td>\n",
              "      <td>NaN</td>\n",
              "      <td>NaN</td>\n",
              "      <td>NaN</td>\n",
              "      <td>NaN</td>\n",
              "      <td>AWE</td>\n",
              "    </tr>\n",
              "  </tbody>\n",
              "</table>\n",
              "<p>420 rows × 6292 columns</p>\n",
              "</div>\n",
              "      <button class=\"colab-df-convert\" onclick=\"convertToInteractive('df-a3c410c9-4693-4727-b530-98f5885ae104')\"\n",
              "              title=\"Convert this dataframe to an interactive table.\"\n",
              "              style=\"display:none;\">\n",
              "        \n",
              "  <svg xmlns=\"http://www.w3.org/2000/svg\" height=\"24px\"viewBox=\"0 0 24 24\"\n",
              "       width=\"24px\">\n",
              "    <path d=\"M0 0h24v24H0V0z\" fill=\"none\"/>\n",
              "    <path d=\"M18.56 5.44l.94 2.06.94-2.06 2.06-.94-2.06-.94-.94-2.06-.94 2.06-2.06.94zm-11 1L8.5 8.5l.94-2.06 2.06-.94-2.06-.94L8.5 2.5l-.94 2.06-2.06.94zm10 10l.94 2.06.94-2.06 2.06-.94-2.06-.94-.94-2.06-.94 2.06-2.06.94z\"/><path d=\"M17.41 7.96l-1.37-1.37c-.4-.4-.92-.59-1.43-.59-.52 0-1.04.2-1.43.59L10.3 9.45l-7.72 7.72c-.78.78-.78 2.05 0 2.83L4 21.41c.39.39.9.59 1.41.59.51 0 1.02-.2 1.41-.59l7.78-7.78 2.81-2.81c.8-.78.8-2.07 0-2.86zM5.41 20L4 18.59l7.72-7.72 1.47 1.35L5.41 20z\"/>\n",
              "  </svg>\n",
              "      </button>\n",
              "      \n",
              "  <style>\n",
              "    .colab-df-container {\n",
              "      display:flex;\n",
              "      flex-wrap:wrap;\n",
              "      gap: 12px;\n",
              "    }\n",
              "\n",
              "    .colab-df-convert {\n",
              "      background-color: #E8F0FE;\n",
              "      border: none;\n",
              "      border-radius: 50%;\n",
              "      cursor: pointer;\n",
              "      display: none;\n",
              "      fill: #1967D2;\n",
              "      height: 32px;\n",
              "      padding: 0 0 0 0;\n",
              "      width: 32px;\n",
              "    }\n",
              "\n",
              "    .colab-df-convert:hover {\n",
              "      background-color: #E2EBFA;\n",
              "      box-shadow: 0px 1px 2px rgba(60, 64, 67, 0.3), 0px 1px 3px 1px rgba(60, 64, 67, 0.15);\n",
              "      fill: #174EA6;\n",
              "    }\n",
              "\n",
              "    [theme=dark] .colab-df-convert {\n",
              "      background-color: #3B4455;\n",
              "      fill: #D2E3FC;\n",
              "    }\n",
              "\n",
              "    [theme=dark] .colab-df-convert:hover {\n",
              "      background-color: #434B5C;\n",
              "      box-shadow: 0px 1px 3px 1px rgba(0, 0, 0, 0.15);\n",
              "      filter: drop-shadow(0px 1px 2px rgba(0, 0, 0, 0.3));\n",
              "      fill: #FFFFFF;\n",
              "    }\n",
              "  </style>\n",
              "\n",
              "      <script>\n",
              "        const buttonEl =\n",
              "          document.querySelector('#df-a3c410c9-4693-4727-b530-98f5885ae104 button.colab-df-convert');\n",
              "        buttonEl.style.display =\n",
              "          google.colab.kernel.accessAllowed ? 'block' : 'none';\n",
              "\n",
              "        async function convertToInteractive(key) {\n",
              "          const element = document.querySelector('#df-a3c410c9-4693-4727-b530-98f5885ae104');\n",
              "          const dataTable =\n",
              "            await google.colab.kernel.invokeFunction('convertToInteractive',\n",
              "                                                     [key], {});\n",
              "          if (!dataTable) return;\n",
              "\n",
              "          const docLinkHtml = 'Like what you see? Visit the ' +\n",
              "            '<a target=\"_blank\" href=https://colab.research.google.com/notebooks/data_table.ipynb>data table notebook</a>'\n",
              "            + ' to learn more about interactive tables.';\n",
              "          element.innerHTML = '';\n",
              "          dataTable['output_type'] = 'display_data';\n",
              "          await google.colab.output.renderOutput(dataTable, element);\n",
              "          const docLink = document.createElement('div');\n",
              "          docLink.innerHTML = docLinkHtml;\n",
              "          element.appendChild(docLink);\n",
              "        }\n",
              "      </script>\n",
              "    </div>\n",
              "  </div>\n",
              "  "
            ]
          },
          "metadata": {},
          "execution_count": 245
        }
      ]
    },
    {
      "cell_type": "code",
      "source": [
        "part = df_bas[\"Participant\"] == 62\n",
        "bas_62 = df_bas.loc[part, [*df_bas.columns[1:6293]]]\n",
        "bas_62.drop(bas_62.iloc[:,1299:6290], axis=1, inplace=True)###[1299:6290]for traget###[1299:6291]witout target"
      ],
      "metadata": {
        "id": "bWDbGPLo6l9u"
      },
      "execution_count": 316,
      "outputs": []
    },
    {
      "cell_type": "code",
      "source": [
        "bas_62"
      ],
      "metadata": {
        "colab": {
          "base_uri": "https://localhost:8080/",
          "height": 174
        },
        "id": "e--C_-OK82aB",
        "outputId": "4a8b28ea-0f3c-4baa-9507-e42631b3c70c"
      },
      "execution_count": 317,
      "outputs": [
        {
          "output_type": "execute_result",
          "data": {
            "text/plain": [
              "      0:0.0  0:0.099791  0:0.199582  0:0.299373  0:0.399164  \\\n",
              "1248    105         105         105         105         105   \n",
              "\n",
              "      0:0.49895500000000004  0:0.598746  0:0.6985370000000001  0:0.798328  \\\n",
              "1248                    105         105                   105         105   \n",
              "\n",
              "      0:0.898119  ...  2:8.630599000000018  2:8.73039  2:8.83018100000001  \\\n",
              "1248         105  ...                 96.0       96.0                96.0   \n",
              "\n",
              "      2:8.929971999999992  2:9.029763000000003  2:9.129554000000013  \\\n",
              "1248                 96.0                 96.0                 96.0   \n",
              "\n",
              "      2:9.229344999999995  2:9.329136000000005  2:9.428927000000016  \\\n",
              "1248                 96.0                 96.0                 96.0   \n",
              "\n",
              "      2:9.528717999999998  \n",
              "1248                 96.0  \n",
              "\n",
              "[1 rows x 1299 columns]"
            ],
            "text/html": [
              "\n",
              "  <div id=\"df-5216e914-e79d-4d4e-9964-794bdf0a9f86\">\n",
              "    <div class=\"colab-df-container\">\n",
              "      <div>\n",
              "<style scoped>\n",
              "    .dataframe tbody tr th:only-of-type {\n",
              "        vertical-align: middle;\n",
              "    }\n",
              "\n",
              "    .dataframe tbody tr th {\n",
              "        vertical-align: top;\n",
              "    }\n",
              "\n",
              "    .dataframe thead th {\n",
              "        text-align: right;\n",
              "    }\n",
              "</style>\n",
              "<table border=\"1\" class=\"dataframe\">\n",
              "  <thead>\n",
              "    <tr style=\"text-align: right;\">\n",
              "      <th></th>\n",
              "      <th>0:0.0</th>\n",
              "      <th>0:0.099791</th>\n",
              "      <th>0:0.199582</th>\n",
              "      <th>0:0.299373</th>\n",
              "      <th>0:0.399164</th>\n",
              "      <th>0:0.49895500000000004</th>\n",
              "      <th>0:0.598746</th>\n",
              "      <th>0:0.6985370000000001</th>\n",
              "      <th>0:0.798328</th>\n",
              "      <th>0:0.898119</th>\n",
              "      <th>...</th>\n",
              "      <th>2:8.630599000000018</th>\n",
              "      <th>2:8.73039</th>\n",
              "      <th>2:8.83018100000001</th>\n",
              "      <th>2:8.929971999999992</th>\n",
              "      <th>2:9.029763000000003</th>\n",
              "      <th>2:9.129554000000013</th>\n",
              "      <th>2:9.229344999999995</th>\n",
              "      <th>2:9.329136000000005</th>\n",
              "      <th>2:9.428927000000016</th>\n",
              "      <th>2:9.528717999999998</th>\n",
              "    </tr>\n",
              "  </thead>\n",
              "  <tbody>\n",
              "    <tr>\n",
              "      <th>1248</th>\n",
              "      <td>105</td>\n",
              "      <td>105</td>\n",
              "      <td>105</td>\n",
              "      <td>105</td>\n",
              "      <td>105</td>\n",
              "      <td>105</td>\n",
              "      <td>105</td>\n",
              "      <td>105</td>\n",
              "      <td>105</td>\n",
              "      <td>105</td>\n",
              "      <td>...</td>\n",
              "      <td>96.0</td>\n",
              "      <td>96.0</td>\n",
              "      <td>96.0</td>\n",
              "      <td>96.0</td>\n",
              "      <td>96.0</td>\n",
              "      <td>96.0</td>\n",
              "      <td>96.0</td>\n",
              "      <td>96.0</td>\n",
              "      <td>96.0</td>\n",
              "      <td>96.0</td>\n",
              "    </tr>\n",
              "  </tbody>\n",
              "</table>\n",
              "<p>1 rows × 1299 columns</p>\n",
              "</div>\n",
              "      <button class=\"colab-df-convert\" onclick=\"convertToInteractive('df-5216e914-e79d-4d4e-9964-794bdf0a9f86')\"\n",
              "              title=\"Convert this dataframe to an interactive table.\"\n",
              "              style=\"display:none;\">\n",
              "        \n",
              "  <svg xmlns=\"http://www.w3.org/2000/svg\" height=\"24px\"viewBox=\"0 0 24 24\"\n",
              "       width=\"24px\">\n",
              "    <path d=\"M0 0h24v24H0V0z\" fill=\"none\"/>\n",
              "    <path d=\"M18.56 5.44l.94 2.06.94-2.06 2.06-.94-2.06-.94-.94-2.06-.94 2.06-2.06.94zm-11 1L8.5 8.5l.94-2.06 2.06-.94-2.06-.94L8.5 2.5l-.94 2.06-2.06.94zm10 10l.94 2.06.94-2.06 2.06-.94-2.06-.94-.94-2.06-.94 2.06-2.06.94z\"/><path d=\"M17.41 7.96l-1.37-1.37c-.4-.4-.92-.59-1.43-.59-.52 0-1.04.2-1.43.59L10.3 9.45l-7.72 7.72c-.78.78-.78 2.05 0 2.83L4 21.41c.39.39.9.59 1.41.59.51 0 1.02-.2 1.41-.59l7.78-7.78 2.81-2.81c.8-.78.8-2.07 0-2.86zM5.41 20L4 18.59l7.72-7.72 1.47 1.35L5.41 20z\"/>\n",
              "  </svg>\n",
              "      </button>\n",
              "      \n",
              "  <style>\n",
              "    .colab-df-container {\n",
              "      display:flex;\n",
              "      flex-wrap:wrap;\n",
              "      gap: 12px;\n",
              "    }\n",
              "\n",
              "    .colab-df-convert {\n",
              "      background-color: #E8F0FE;\n",
              "      border: none;\n",
              "      border-radius: 50%;\n",
              "      cursor: pointer;\n",
              "      display: none;\n",
              "      fill: #1967D2;\n",
              "      height: 32px;\n",
              "      padding: 0 0 0 0;\n",
              "      width: 32px;\n",
              "    }\n",
              "\n",
              "    .colab-df-convert:hover {\n",
              "      background-color: #E2EBFA;\n",
              "      box-shadow: 0px 1px 2px rgba(60, 64, 67, 0.3), 0px 1px 3px 1px rgba(60, 64, 67, 0.15);\n",
              "      fill: #174EA6;\n",
              "    }\n",
              "\n",
              "    [theme=dark] .colab-df-convert {\n",
              "      background-color: #3B4455;\n",
              "      fill: #D2E3FC;\n",
              "    }\n",
              "\n",
              "    [theme=dark] .colab-df-convert:hover {\n",
              "      background-color: #434B5C;\n",
              "      box-shadow: 0px 1px 3px 1px rgba(0, 0, 0, 0.15);\n",
              "      filter: drop-shadow(0px 1px 2px rgba(0, 0, 0, 0.3));\n",
              "      fill: #FFFFFF;\n",
              "    }\n",
              "  </style>\n",
              "\n",
              "      <script>\n",
              "        const buttonEl =\n",
              "          document.querySelector('#df-5216e914-e79d-4d4e-9964-794bdf0a9f86 button.colab-df-convert');\n",
              "        buttonEl.style.display =\n",
              "          google.colab.kernel.accessAllowed ? 'block' : 'none';\n",
              "\n",
              "        async function convertToInteractive(key) {\n",
              "          const element = document.querySelector('#df-5216e914-e79d-4d4e-9964-794bdf0a9f86');\n",
              "          const dataTable =\n",
              "            await google.colab.kernel.invokeFunction('convertToInteractive',\n",
              "                                                     [key], {});\n",
              "          if (!dataTable) return;\n",
              "\n",
              "          const docLinkHtml = 'Like what you see? Visit the ' +\n",
              "            '<a target=\"_blank\" href=https://colab.research.google.com/notebooks/data_table.ipynb>data table notebook</a>'\n",
              "            + ' to learn more about interactive tables.';\n",
              "          element.innerHTML = '';\n",
              "          dataTable['output_type'] = 'display_data';\n",
              "          await google.colab.output.renderOutput(dataTable, element);\n",
              "          const docLink = document.createElement('div');\n",
              "          docLink.innerHTML = docLinkHtml;\n",
              "          element.appendChild(docLink);\n",
              "        }\n",
              "      </script>\n",
              "    </div>\n",
              "  </div>\n",
              "  "
            ]
          },
          "metadata": {},
          "execution_count": 317
        }
      ]
    },
    {
      "cell_type": "code",
      "source": [
        "part = df_emo[\"Participant\"] == 62\n",
        "emo_62 = df_emo.loc[part, [*df_emo.columns[1:6293]]]\n",
        "emo_62.drop(emo_62.iloc[:,1299:6290], axis=1, inplace=True)###[1299:6290]for traget###[1299:6291]witout target\n",
        "\n"
      ],
      "metadata": {
        "id": "YUSKC-cy7hyZ"
      },
      "execution_count": 318,
      "outputs": []
    },
    {
      "cell_type": "code",
      "source": [
        "emo_62"
      ],
      "metadata": {
        "colab": {
          "base_uri": "https://localhost:8080/",
          "height": 456
        },
        "id": "f4vsZ3Xx8TyK",
        "outputId": "744694b2-d7d2-4bd9-bd28-39ef8c3f8cd6"
      },
      "execution_count": 319,
      "outputs": [
        {
          "output_type": "execute_result",
          "data": {
            "text/plain": [
              "      0:0.0  0:0.099791  0:0.199582  0:0.299373  0:0.399164  \\\n",
              "1251     93          93          93          93          93   \n",
              "1254     95          95          95          95          95   \n",
              "1257     89          89          89          89          89   \n",
              "1260     91          91          91          91          91   \n",
              "1263     90          90          90          90          90   \n",
              "1266     93          93          93          93          93   \n",
              "1269     98          98          98          98          98   \n",
              "1272     91          91          91          91          91   \n",
              "1275     90          90          90          91          90   \n",
              "1278     88          87          88          88          88   \n",
              "\n",
              "      0:0.49895500000000004  0:0.598746  0:0.6985370000000001  0:0.798328  \\\n",
              "1251                     93          93                    93          93   \n",
              "1254                     95          95                    95          95   \n",
              "1257                     89          90                    90          90   \n",
              "1260                     91          91                    91          91   \n",
              "1263                     90          90                    90          90   \n",
              "1266                     93          93                    93          93   \n",
              "1269                     98          98                    98          98   \n",
              "1272                     91          91                    91          91   \n",
              "1275                     90          91                    90          90   \n",
              "1278                     87          87                    87          86   \n",
              "\n",
              "      0:0.898119  ...  2:8.73039  2:8.83018100000001  2:8.929971999999992  \\\n",
              "1251          93  ...        NaN                 NaN                  NaN   \n",
              "1254          95  ...        NaN                 NaN                  NaN   \n",
              "1257          90  ...        NaN                 NaN                  NaN   \n",
              "1260          91  ...        NaN                 NaN                  NaN   \n",
              "1263          90  ...        NaN                 NaN                  NaN   \n",
              "1266          93  ...        NaN                 NaN                  NaN   \n",
              "1269          98  ...        NaN                 NaN                  NaN   \n",
              "1272          91  ...        NaN                 NaN                  NaN   \n",
              "1275          91  ...        NaN                 NaN                  NaN   \n",
              "1278          86  ...        NaN                 NaN                  NaN   \n",
              "\n",
              "      2:9.029763000000003  2:9.129554000000013  2:9.229344999999995  \\\n",
              "1251                  NaN                  NaN                  NaN   \n",
              "1254                  NaN                  NaN                  NaN   \n",
              "1257                  NaN                  NaN                  NaN   \n",
              "1260                  NaN                  NaN                  NaN   \n",
              "1263                  NaN                  NaN                  NaN   \n",
              "1266                  NaN                  NaN                  NaN   \n",
              "1269                  NaN                  NaN                  NaN   \n",
              "1272                  NaN                  NaN                  NaN   \n",
              "1275                  NaN                  NaN                  NaN   \n",
              "1278                  NaN                  NaN                  NaN   \n",
              "\n",
              "      2:9.329136000000005  2:9.428927000000016  2:9.528717999999998  \\\n",
              "1251                  NaN                  NaN                  NaN   \n",
              "1254                  NaN                  NaN                  NaN   \n",
              "1257                  NaN                  NaN                  NaN   \n",
              "1260                  NaN                  NaN                  NaN   \n",
              "1263                  NaN                  NaN                  NaN   \n",
              "1266                  NaN                  NaN                  NaN   \n",
              "1269                  NaN                  NaN                  NaN   \n",
              "1272                  NaN                  NaN                  NaN   \n",
              "1275                  NaN                  NaN                  NaN   \n",
              "1278                  NaN                  NaN                  NaN   \n",
              "\n",
              "          Target  \n",
              "1251     NEUTRAL  \n",
              "1254         AWE  \n",
              "1257     DISGUST  \n",
              "1260    SURPRISE  \n",
              "1263       ANGER  \n",
              "1266  ENTHUSIASM  \n",
              "1269      LIKING  \n",
              "1272        FEAR  \n",
              "1275   AMUSEMENT  \n",
              "1278     SADNESS  \n",
              "\n",
              "[10 rows x 1300 columns]"
            ],
            "text/html": [
              "\n",
              "  <div id=\"df-9ed4637b-f3f9-4e14-834c-7316a688856c\">\n",
              "    <div class=\"colab-df-container\">\n",
              "      <div>\n",
              "<style scoped>\n",
              "    .dataframe tbody tr th:only-of-type {\n",
              "        vertical-align: middle;\n",
              "    }\n",
              "\n",
              "    .dataframe tbody tr th {\n",
              "        vertical-align: top;\n",
              "    }\n",
              "\n",
              "    .dataframe thead th {\n",
              "        text-align: right;\n",
              "    }\n",
              "</style>\n",
              "<table border=\"1\" class=\"dataframe\">\n",
              "  <thead>\n",
              "    <tr style=\"text-align: right;\">\n",
              "      <th></th>\n",
              "      <th>0:0.0</th>\n",
              "      <th>0:0.099791</th>\n",
              "      <th>0:0.199582</th>\n",
              "      <th>0:0.299373</th>\n",
              "      <th>0:0.399164</th>\n",
              "      <th>0:0.49895500000000004</th>\n",
              "      <th>0:0.598746</th>\n",
              "      <th>0:0.6985370000000001</th>\n",
              "      <th>0:0.798328</th>\n",
              "      <th>0:0.898119</th>\n",
              "      <th>...</th>\n",
              "      <th>2:8.73039</th>\n",
              "      <th>2:8.83018100000001</th>\n",
              "      <th>2:8.929971999999992</th>\n",
              "      <th>2:9.029763000000003</th>\n",
              "      <th>2:9.129554000000013</th>\n",
              "      <th>2:9.229344999999995</th>\n",
              "      <th>2:9.329136000000005</th>\n",
              "      <th>2:9.428927000000016</th>\n",
              "      <th>2:9.528717999999998</th>\n",
              "      <th>Target</th>\n",
              "    </tr>\n",
              "  </thead>\n",
              "  <tbody>\n",
              "    <tr>\n",
              "      <th>1251</th>\n",
              "      <td>93</td>\n",
              "      <td>93</td>\n",
              "      <td>93</td>\n",
              "      <td>93</td>\n",
              "      <td>93</td>\n",
              "      <td>93</td>\n",
              "      <td>93</td>\n",
              "      <td>93</td>\n",
              "      <td>93</td>\n",
              "      <td>93</td>\n",
              "      <td>...</td>\n",
              "      <td>NaN</td>\n",
              "      <td>NaN</td>\n",
              "      <td>NaN</td>\n",
              "      <td>NaN</td>\n",
              "      <td>NaN</td>\n",
              "      <td>NaN</td>\n",
              "      <td>NaN</td>\n",
              "      <td>NaN</td>\n",
              "      <td>NaN</td>\n",
              "      <td>NEUTRAL</td>\n",
              "    </tr>\n",
              "    <tr>\n",
              "      <th>1254</th>\n",
              "      <td>95</td>\n",
              "      <td>95</td>\n",
              "      <td>95</td>\n",
              "      <td>95</td>\n",
              "      <td>95</td>\n",
              "      <td>95</td>\n",
              "      <td>95</td>\n",
              "      <td>95</td>\n",
              "      <td>95</td>\n",
              "      <td>95</td>\n",
              "      <td>...</td>\n",
              "      <td>NaN</td>\n",
              "      <td>NaN</td>\n",
              "      <td>NaN</td>\n",
              "      <td>NaN</td>\n",
              "      <td>NaN</td>\n",
              "      <td>NaN</td>\n",
              "      <td>NaN</td>\n",
              "      <td>NaN</td>\n",
              "      <td>NaN</td>\n",
              "      <td>AWE</td>\n",
              "    </tr>\n",
              "    <tr>\n",
              "      <th>1257</th>\n",
              "      <td>89</td>\n",
              "      <td>89</td>\n",
              "      <td>89</td>\n",
              "      <td>89</td>\n",
              "      <td>89</td>\n",
              "      <td>89</td>\n",
              "      <td>90</td>\n",
              "      <td>90</td>\n",
              "      <td>90</td>\n",
              "      <td>90</td>\n",
              "      <td>...</td>\n",
              "      <td>NaN</td>\n",
              "      <td>NaN</td>\n",
              "      <td>NaN</td>\n",
              "      <td>NaN</td>\n",
              "      <td>NaN</td>\n",
              "      <td>NaN</td>\n",
              "      <td>NaN</td>\n",
              "      <td>NaN</td>\n",
              "      <td>NaN</td>\n",
              "      <td>DISGUST</td>\n",
              "    </tr>\n",
              "    <tr>\n",
              "      <th>1260</th>\n",
              "      <td>91</td>\n",
              "      <td>91</td>\n",
              "      <td>91</td>\n",
              "      <td>91</td>\n",
              "      <td>91</td>\n",
              "      <td>91</td>\n",
              "      <td>91</td>\n",
              "      <td>91</td>\n",
              "      <td>91</td>\n",
              "      <td>91</td>\n",
              "      <td>...</td>\n",
              "      <td>NaN</td>\n",
              "      <td>NaN</td>\n",
              "      <td>NaN</td>\n",
              "      <td>NaN</td>\n",
              "      <td>NaN</td>\n",
              "      <td>NaN</td>\n",
              "      <td>NaN</td>\n",
              "      <td>NaN</td>\n",
              "      <td>NaN</td>\n",
              "      <td>SURPRISE</td>\n",
              "    </tr>\n",
              "    <tr>\n",
              "      <th>1263</th>\n",
              "      <td>90</td>\n",
              "      <td>90</td>\n",
              "      <td>90</td>\n",
              "      <td>90</td>\n",
              "      <td>90</td>\n",
              "      <td>90</td>\n",
              "      <td>90</td>\n",
              "      <td>90</td>\n",
              "      <td>90</td>\n",
              "      <td>90</td>\n",
              "      <td>...</td>\n",
              "      <td>NaN</td>\n",
              "      <td>NaN</td>\n",
              "      <td>NaN</td>\n",
              "      <td>NaN</td>\n",
              "      <td>NaN</td>\n",
              "      <td>NaN</td>\n",
              "      <td>NaN</td>\n",
              "      <td>NaN</td>\n",
              "      <td>NaN</td>\n",
              "      <td>ANGER</td>\n",
              "    </tr>\n",
              "    <tr>\n",
              "      <th>1266</th>\n",
              "      <td>93</td>\n",
              "      <td>93</td>\n",
              "      <td>93</td>\n",
              "      <td>93</td>\n",
              "      <td>93</td>\n",
              "      <td>93</td>\n",
              "      <td>93</td>\n",
              "      <td>93</td>\n",
              "      <td>93</td>\n",
              "      <td>93</td>\n",
              "      <td>...</td>\n",
              "      <td>NaN</td>\n",
              "      <td>NaN</td>\n",
              "      <td>NaN</td>\n",
              "      <td>NaN</td>\n",
              "      <td>NaN</td>\n",
              "      <td>NaN</td>\n",
              "      <td>NaN</td>\n",
              "      <td>NaN</td>\n",
              "      <td>NaN</td>\n",
              "      <td>ENTHUSIASM</td>\n",
              "    </tr>\n",
              "    <tr>\n",
              "      <th>1269</th>\n",
              "      <td>98</td>\n",
              "      <td>98</td>\n",
              "      <td>98</td>\n",
              "      <td>98</td>\n",
              "      <td>98</td>\n",
              "      <td>98</td>\n",
              "      <td>98</td>\n",
              "      <td>98</td>\n",
              "      <td>98</td>\n",
              "      <td>98</td>\n",
              "      <td>...</td>\n",
              "      <td>NaN</td>\n",
              "      <td>NaN</td>\n",
              "      <td>NaN</td>\n",
              "      <td>NaN</td>\n",
              "      <td>NaN</td>\n",
              "      <td>NaN</td>\n",
              "      <td>NaN</td>\n",
              "      <td>NaN</td>\n",
              "      <td>NaN</td>\n",
              "      <td>LIKING</td>\n",
              "    </tr>\n",
              "    <tr>\n",
              "      <th>1272</th>\n",
              "      <td>91</td>\n",
              "      <td>91</td>\n",
              "      <td>91</td>\n",
              "      <td>91</td>\n",
              "      <td>91</td>\n",
              "      <td>91</td>\n",
              "      <td>91</td>\n",
              "      <td>91</td>\n",
              "      <td>91</td>\n",
              "      <td>91</td>\n",
              "      <td>...</td>\n",
              "      <td>NaN</td>\n",
              "      <td>NaN</td>\n",
              "      <td>NaN</td>\n",
              "      <td>NaN</td>\n",
              "      <td>NaN</td>\n",
              "      <td>NaN</td>\n",
              "      <td>NaN</td>\n",
              "      <td>NaN</td>\n",
              "      <td>NaN</td>\n",
              "      <td>FEAR</td>\n",
              "    </tr>\n",
              "    <tr>\n",
              "      <th>1275</th>\n",
              "      <td>90</td>\n",
              "      <td>90</td>\n",
              "      <td>90</td>\n",
              "      <td>91</td>\n",
              "      <td>90</td>\n",
              "      <td>90</td>\n",
              "      <td>91</td>\n",
              "      <td>90</td>\n",
              "      <td>90</td>\n",
              "      <td>91</td>\n",
              "      <td>...</td>\n",
              "      <td>NaN</td>\n",
              "      <td>NaN</td>\n",
              "      <td>NaN</td>\n",
              "      <td>NaN</td>\n",
              "      <td>NaN</td>\n",
              "      <td>NaN</td>\n",
              "      <td>NaN</td>\n",
              "      <td>NaN</td>\n",
              "      <td>NaN</td>\n",
              "      <td>AMUSEMENT</td>\n",
              "    </tr>\n",
              "    <tr>\n",
              "      <th>1278</th>\n",
              "      <td>88</td>\n",
              "      <td>87</td>\n",
              "      <td>88</td>\n",
              "      <td>88</td>\n",
              "      <td>88</td>\n",
              "      <td>87</td>\n",
              "      <td>87</td>\n",
              "      <td>87</td>\n",
              "      <td>86</td>\n",
              "      <td>86</td>\n",
              "      <td>...</td>\n",
              "      <td>NaN</td>\n",
              "      <td>NaN</td>\n",
              "      <td>NaN</td>\n",
              "      <td>NaN</td>\n",
              "      <td>NaN</td>\n",
              "      <td>NaN</td>\n",
              "      <td>NaN</td>\n",
              "      <td>NaN</td>\n",
              "      <td>NaN</td>\n",
              "      <td>SADNESS</td>\n",
              "    </tr>\n",
              "  </tbody>\n",
              "</table>\n",
              "<p>10 rows × 1300 columns</p>\n",
              "</div>\n",
              "      <button class=\"colab-df-convert\" onclick=\"convertToInteractive('df-9ed4637b-f3f9-4e14-834c-7316a688856c')\"\n",
              "              title=\"Convert this dataframe to an interactive table.\"\n",
              "              style=\"display:none;\">\n",
              "        \n",
              "  <svg xmlns=\"http://www.w3.org/2000/svg\" height=\"24px\"viewBox=\"0 0 24 24\"\n",
              "       width=\"24px\">\n",
              "    <path d=\"M0 0h24v24H0V0z\" fill=\"none\"/>\n",
              "    <path d=\"M18.56 5.44l.94 2.06.94-2.06 2.06-.94-2.06-.94-.94-2.06-.94 2.06-2.06.94zm-11 1L8.5 8.5l.94-2.06 2.06-.94-2.06-.94L8.5 2.5l-.94 2.06-2.06.94zm10 10l.94 2.06.94-2.06 2.06-.94-2.06-.94-.94-2.06-.94 2.06-2.06.94z\"/><path d=\"M17.41 7.96l-1.37-1.37c-.4-.4-.92-.59-1.43-.59-.52 0-1.04.2-1.43.59L10.3 9.45l-7.72 7.72c-.78.78-.78 2.05 0 2.83L4 21.41c.39.39.9.59 1.41.59.51 0 1.02-.2 1.41-.59l7.78-7.78 2.81-2.81c.8-.78.8-2.07 0-2.86zM5.41 20L4 18.59l7.72-7.72 1.47 1.35L5.41 20z\"/>\n",
              "  </svg>\n",
              "      </button>\n",
              "      \n",
              "  <style>\n",
              "    .colab-df-container {\n",
              "      display:flex;\n",
              "      flex-wrap:wrap;\n",
              "      gap: 12px;\n",
              "    }\n",
              "\n",
              "    .colab-df-convert {\n",
              "      background-color: #E8F0FE;\n",
              "      border: none;\n",
              "      border-radius: 50%;\n",
              "      cursor: pointer;\n",
              "      display: none;\n",
              "      fill: #1967D2;\n",
              "      height: 32px;\n",
              "      padding: 0 0 0 0;\n",
              "      width: 32px;\n",
              "    }\n",
              "\n",
              "    .colab-df-convert:hover {\n",
              "      background-color: #E2EBFA;\n",
              "      box-shadow: 0px 1px 2px rgba(60, 64, 67, 0.3), 0px 1px 3px 1px rgba(60, 64, 67, 0.15);\n",
              "      fill: #174EA6;\n",
              "    }\n",
              "\n",
              "    [theme=dark] .colab-df-convert {\n",
              "      background-color: #3B4455;\n",
              "      fill: #D2E3FC;\n",
              "    }\n",
              "\n",
              "    [theme=dark] .colab-df-convert:hover {\n",
              "      background-color: #434B5C;\n",
              "      box-shadow: 0px 1px 3px 1px rgba(0, 0, 0, 0.15);\n",
              "      filter: drop-shadow(0px 1px 2px rgba(0, 0, 0, 0.3));\n",
              "      fill: #FFFFFF;\n",
              "    }\n",
              "  </style>\n",
              "\n",
              "      <script>\n",
              "        const buttonEl =\n",
              "          document.querySelector('#df-9ed4637b-f3f9-4e14-834c-7316a688856c button.colab-df-convert');\n",
              "        buttonEl.style.display =\n",
              "          google.colab.kernel.accessAllowed ? 'block' : 'none';\n",
              "\n",
              "        async function convertToInteractive(key) {\n",
              "          const element = document.querySelector('#df-9ed4637b-f3f9-4e14-834c-7316a688856c');\n",
              "          const dataTable =\n",
              "            await google.colab.kernel.invokeFunction('convertToInteractive',\n",
              "                                                     [key], {});\n",
              "          if (!dataTable) return;\n",
              "\n",
              "          const docLinkHtml = 'Like what you see? Visit the ' +\n",
              "            '<a target=\"_blank\" href=https://colab.research.google.com/notebooks/data_table.ipynb>data table notebook</a>'\n",
              "            + ' to learn more about interactive tables.';\n",
              "          element.innerHTML = '';\n",
              "          dataTable['output_type'] = 'display_data';\n",
              "          await google.colab.output.renderOutput(dataTable, element);\n",
              "          const docLink = document.createElement('div');\n",
              "          docLink.innerHTML = docLinkHtml;\n",
              "          element.appendChild(docLink);\n",
              "        }\n",
              "      </script>\n",
              "    </div>\n",
              "  </div>\n",
              "  "
            ]
          },
          "metadata": {},
          "execution_count": 319
        }
      ]
    },
    {
      "cell_type": "code",
      "source": [
        "plt.plot(bas_62.values[:,:][0])\n",
        "plt.ylim(0, 150)"
      ],
      "metadata": {
        "colab": {
          "base_uri": "https://localhost:8080/",
          "height": 282
        },
        "id": "-2hMXPdezqPy",
        "outputId": "0bacf741-aa87-4436-b58f-ce725aa742a4"
      },
      "execution_count": 333,
      "outputs": [
        {
          "output_type": "execute_result",
          "data": {
            "text/plain": [
              "(0.0, 150.0)"
            ]
          },
          "metadata": {},
          "execution_count": 333
        },
        {
          "output_type": "display_data",
          "data": {
            "text/plain": [
              "<Figure size 432x288 with 1 Axes>"
            ],
            "image/png": "[encoded data removed]"
          },
          "metadata": {
            "needs_background": "light"
          }
        }
      ]
    },
    {
      "cell_type": "code",
      "source": [
        "bas_62=bas_62.transpose()"
      ],
      "metadata": {
        "id": "UJ3uSm2TXb-p"
      },
      "execution_count": 143,
      "outputs": []
    },
    {
      "cell_type": "code",
      "source": [
        "train=bas_62.copy()\n",
        "test=train.copy()"
      ],
      "metadata": {
        "id": "nZZKfjhHripd"
      },
      "execution_count": 200,
      "outputs": []
    },
    {
      "cell_type": "code",
      "source": [
        "from sklearn.preprocessing import StandardScaler\n",
        "scaler=StandardScaler()\n",
        "scaler=scaler.fit(train[[1248]])\n",
        "train[1248]=scaler.transform(train[[1248]])\n",
        "test[1248]=scaler.transform(test[[1248]])"
      ],
      "metadata": {
        "id": "VdGWTFTaweiJ"
      },
      "execution_count": 203,
      "outputs": []
    },
    {
      "cell_type": "code",
      "source": [
        "train['time'] = train.index\n",
        "train.reset_index(drop=True, inplace=True)\n",
        "def swap_columns(df, col1, col2):\n",
        "    col_list = list(df.columns)\n",
        "    x, y = col_list.index(col1), col_list.index(col2)\n",
        "    col_list[y], col_list[x] = col_list[x], col_list[y]\n",
        "    df = df[col_list]\n",
        "    return df\n",
        "train=swap_columns(train,1248,'time')\n",
        "train['time'] = ['00:'+x   for x in train['time']]\n",
        "train['time'] = pd.to_timedelta(train['time'])"
      ],
      "metadata": {
        "id": "KSLXoyAKZSBa"
      },
      "execution_count": 207,
      "outputs": []
    },
    {
      "cell_type": "code",
      "source": [
        "seq_size=50\n",
        "\n",
        "def to_seq(x,y,seq_size=1):\n",
        "  x_values=[]\n",
        "  y_values=[]\n",
        "  for i in range(len(x)-seq_size):\n",
        "    x_values.append(x.iloc[i:(i+seq_size)].values)\n",
        "    y_values.append(y.iloc[seq_size])\n",
        "  return np.array(x_values),np.array(y_values)\n",
        "\n",
        "trainx,trainy=to_seq(train[[1248]],train[1248],seq_size)\n",
        "\n",
        "     "
      ],
      "metadata": {
        "id": "bQxcNlq5ZSHZ"
      },
      "execution_count": 209,
      "outputs": []
    },
    {
      "cell_type": "code",
      "source": [
        "\n"
      ],
      "metadata": {
        "id": "Hn9U9i-yB5Te"
      },
      "execution_count": null,
      "outputs": []
    },
    {
      "cell_type": "markdown",
      "source": [],
      "metadata": {
        "id": "LRwZqeWQz7eC"
      }
    },
    {
      "cell_type": "markdown",
      "source": [
        "**LSTM** **Autoencoder**"
      ],
      "metadata": {
        "id": "pps9QuRvz0MT"
      }
    },
    {
      "cell_type": "code",
      "source": [
        "model=Sequential()\n",
        "model.add(LSTM(128,input_shape=(trainx.shape[1],trainx.shape[2]),return_sequences=False))\n",
        "#model.add(LSTM(64,activation='relu',return_sequences=False))\n",
        "\n",
        "model.add(Dropout(rate=0.2))\n",
        "\n",
        "model.add(RepeatVector(trainx.shape[1]))\n",
        "\n",
        "\n",
        "#model.add(LSTM(64,activation='relu',return_sequences=True))\n",
        "\n",
        "model.add(LSTM(128,return_sequences=True))\n",
        "model.add(Dropout(rate=0.2))\n",
        "model.add(TimeDistributed(Dense(trainx.shape[2])))\n",
        "model.compile(optimizer='adam', loss='mae',metrics=['accuracy'])\n",
        "model.summary()\n",
        "\n"
      ],
      "metadata": {
        "colab": {
          "base_uri": "https://localhost:8080/"
        },
        "id": "UDIuEdX3scyD",
        "outputId": "f718177e-b95a-48d7-cc8a-e78f2e8c8aa6"
      },
      "execution_count": 214,
      "outputs": [
        {
          "output_type": "stream",
          "name": "stdout",
          "text": [
            "Model: \"sequential\"\n",
            "_________________________________________________________________\n",
            " Layer (type)                Output Shape              Param #   \n",
            "=================================================================\n",
            " lstm (LSTM)                 (None, 128)               66560     \n",
            "                                                                 \n",
            " dropout (Dropout)           (None, 128)               0         \n",
            "                                                                 \n",
            " repeat_vector (RepeatVector  (None, 50, 128)          0         \n",
            " )                                                               \n",
            "                                                                 \n",
            " lstm_1 (LSTM)               (None, 50, 128)           131584    \n",
            "                                                                 \n",
            " dropout_1 (Dropout)         (None, 50, 128)           0         \n",
            "                                                                 \n",
            " time_distributed (TimeDistr  (None, 50, 1)            129       \n",
            " ibuted)                                                         \n",
            "                                                                 \n",
            "=================================================================\n",
            "Total params: 198,273\n",
            "Trainable params: 198,273\n",
            "Non-trainable params: 0\n",
            "_________________________________________________________________\n"
          ]
        }
      ]
    },
    {
      "cell_type": "code",
      "source": [
        "h=model.fit(trainx,trainy,epochs=20,batch_size=50,validation_split=0.1,verbose=1)\n"
      ],
      "metadata": {
        "colab": {
          "base_uri": "https://localhost:8080/"
        },
        "id": "OUDl-SyAsc0y",
        "outputId": "bea0ed38-8da3-4f25-a88a-838deff61c55"
      },
      "execution_count": 216,
      "outputs": [
        {
          "output_type": "stream",
          "name": "stdout",
          "text": [
            "Epoch 1/20\n",
            "23/23 [==============================] - 6s 255ms/step - loss: 0.0403 - accuracy: 0.0000e+00 - val_loss: 0.0129 - val_accuracy: 0.0000e+00\n",
            "Epoch 2/20\n",
            "23/23 [==============================] - 5s 201ms/step - loss: 0.0364 - accuracy: 0.0000e+00 - val_loss: 0.0084 - val_accuracy: 0.0000e+00\n",
            "Epoch 3/20\n",
            "23/23 [==============================] - 5s 219ms/step - loss: 0.0322 - accuracy: 0.0000e+00 - val_loss: 0.0109 - val_accuracy: 0.0000e+00\n",
            "Epoch 4/20\n",
            "23/23 [==============================] - 5s 209ms/step - loss: 0.0303 - accuracy: 0.0000e+00 - val_loss: 0.0112 - val_accuracy: 0.0000e+00\n",
            "Epoch 5/20\n",
            "23/23 [==============================] - 5s 200ms/step - loss: 0.0281 - accuracy: 0.0000e+00 - val_loss: 0.0104 - val_accuracy: 0.0000e+00\n",
            "Epoch 6/20\n",
            "23/23 [==============================] - 5s 208ms/step - loss: 0.0270 - accuracy: 0.0000e+00 - val_loss: 0.0048 - val_accuracy: 0.0000e+00\n",
            "Epoch 7/20\n",
            "23/23 [==============================] - 5s 204ms/step - loss: 0.0241 - accuracy: 0.0000e+00 - val_loss: 0.0020 - val_accuracy: 0.0000e+00\n",
            "Epoch 8/20\n",
            "23/23 [==============================] - 5s 202ms/step - loss: 0.0233 - accuracy: 0.0000e+00 - val_loss: 0.0056 - val_accuracy: 0.0000e+00\n",
            "Epoch 9/20\n",
            "23/23 [==============================] - 5s 202ms/step - loss: 0.0229 - accuracy: 0.0000e+00 - val_loss: 0.0050 - val_accuracy: 0.0000e+00\n",
            "Epoch 10/20\n",
            "23/23 [==============================] - 5s 210ms/step - loss: 0.0221 - accuracy: 0.0000e+00 - val_loss: 0.0062 - val_accuracy: 0.0000e+00\n",
            "Epoch 11/20\n",
            "23/23 [==============================] - 5s 200ms/step - loss: 0.0218 - accuracy: 0.0000e+00 - val_loss: 0.0034 - val_accuracy: 0.0000e+00\n",
            "Epoch 12/20\n",
            "23/23 [==============================] - 5s 203ms/step - loss: 0.0213 - accuracy: 0.0000e+00 - val_loss: 0.0067 - val_accuracy: 0.0000e+00\n",
            "Epoch 13/20\n",
            "23/23 [==============================] - 7s 302ms/step - loss: 0.0211 - accuracy: 0.0000e+00 - val_loss: 0.0018 - val_accuracy: 0.0000e+00\n",
            "Epoch 14/20\n",
            "23/23 [==============================] - 5s 208ms/step - loss: 0.0209 - accuracy: 0.0000e+00 - val_loss: 0.0025 - val_accuracy: 0.0000e+00\n",
            "Epoch 15/20\n",
            "23/23 [==============================] - 5s 214ms/step - loss: 0.0207 - accuracy: 0.0000e+00 - val_loss: 0.0011 - val_accuracy: 0.0000e+00\n",
            "Epoch 16/20\n",
            "23/23 [==============================] - 5s 201ms/step - loss: 0.0207 - accuracy: 0.0000e+00 - val_loss: 0.0084 - val_accuracy: 0.0000e+00\n",
            "Epoch 17/20\n",
            "23/23 [==============================] - 5s 205ms/step - loss: 0.0202 - accuracy: 0.0000e+00 - val_loss: 0.0027 - val_accuracy: 0.0000e+00\n",
            "Epoch 18/20\n",
            "23/23 [==============================] - 5s 211ms/step - loss: 0.0199 - accuracy: 0.0000e+00 - val_loss: 0.0018 - val_accuracy: 0.0000e+00\n",
            "Epoch 19/20\n",
            "23/23 [==============================] - 5s 200ms/step - loss: 0.0197 - accuracy: 0.0000e+00 - val_loss: 3.0327e-04 - val_accuracy: 0.0000e+00\n",
            "Epoch 20/20\n",
            "23/23 [==============================] - 5s 204ms/step - loss: 0.0195 - accuracy: 0.0000e+00 - val_loss: 0.0037 - val_accuracy: 0.0000e+00\n"
          ]
        }
      ]
    },
    {
      "cell_type": "code",
      "source": [
        "plt.plot(h.history['loss'],label=\"train loss\")\n",
        "plt.plot(h.history['val_loss'],label='validation loss')\n",
        "#plt.plot(h.history['accuracy'],label='accuracy ')\n",
        "plt.legend()"
      ],
      "metadata": {
        "colab": {
          "base_uri": "https://localhost:8080/",
          "height": 282
        },
        "id": "QIkNBKIjsc3X",
        "outputId": "b1d23411-a322-4337-a0dc-82379da954ea"
      },
      "execution_count": 217,
      "outputs": [
        {
          "output_type": "execute_result",
          "data": {
            "text/plain": [
              "<matplotlib.legend.Legend at 0x7fadd014d610>"
            ]
          },
          "metadata": {},
          "execution_count": 217
        },
        {
          "output_type": "display_data",
          "data": {
            "text/plain": [
              "<Figure size 432x288 with 1 Axes>"
            ],
            "image/png": "[encoded data removed]"
          },
          "metadata": {
            "needs_background": "light"
          }
        }
      ]
    },
    {
      "cell_type": "code",
      "source": [
        "trainPredict = model.predict(trainx)\n",
        "trainMAE = np.mean(np.abs(trainPredict - trainx), axis=1)\n",
        "plt.hist(trainMAE, bins=30)\n"
      ],
      "metadata": {
        "colab": {
          "base_uri": "https://localhost:8080/",
          "height": 282
        },
        "id": "U287dqxHsc58",
        "outputId": "7b860272-019a-4fe4-f9e1-1cca6bbe802a"
      },
      "execution_count": 218,
      "outputs": [
        {
          "output_type": "stream",
          "name": "stdout",
          "text": [
            "40/40 [==============================] - 3s 58ms/step\n"
          ]
        },
        {
          "output_type": "display_data",
          "data": {
            "text/plain": [
              "<Figure size 432x288 with 1 Axes>"
            ],
            "image/png": "[encoded data removed]"
          },
          "metadata": {
            "needs_background": "light"
          }
        }
      ]
    },
    {
      "cell_type": "code",
      "source": [
        "max_trainMAE =1\n",
        "trainMAE = np.mean(np.abs(trainPredict - trainx), axis=1)\n",
        "anomaly_df = pd.DataFrame(train[seq_size:])\n",
        "anomaly_df['trainMAE'] = trainMAE\n",
        "anomaly_df['max_trainMAE'] = max_trainMAE\n",
        "anomaly_df['anomaly'] = anomaly_df['trainMAE'] > anomaly_df['max_trainMAE']\n",
        "anomaly_df[1248] = train[seq_size:][1248]"
      ],
      "metadata": {
        "id": "d_jy9IiDsc_H"
      },
      "execution_count": 359,
      "outputs": []
    },
    {
      "cell_type": "code",
      "source": [
        "anomaly_df"
      ],
      "metadata": {
        "colab": {
          "base_uri": "https://localhost:8080/",
          "height": 424
        },
        "id": "ZmMQKQY2sdBq",
        "outputId": "7cc1ba33-200d-47d3-a477-da953c2a348a"
      },
      "execution_count": 360,
      "outputs": [
        {
          "output_type": "execute_result",
          "data": {
            "text/plain": [
              "                          time      1248  trainMAE  max_trainMAE  anomaly\n",
              "50      0 days 00:00:04.989550  0.632433  0.099424             1    False\n",
              "51      0 days 00:00:05.089341  0.632433  0.095285             1    False\n",
              "52      0 days 00:00:05.189132  0.839368  0.091147             1    False\n",
              "53      0 days 00:00:05.288923  0.839368  0.091142             1    False\n",
              "54      0 days 00:00:05.388714  0.839368  0.091145             1    False\n",
              "...                        ...       ...       ...           ...      ...\n",
              "1294    0 days 00:02:09.129554 -1.023044  1.424251             1     True\n",
              "1295 0 days 00:02:09.229344999 -1.023044  1.432528             1     True\n",
              "1296    0 days 00:02:09.329136 -1.023044  1.440805             1     True\n",
              "1297    0 days 00:02:09.428927 -1.023044  1.449083             1     True\n",
              "1298 0 days 00:02:09.528717999 -1.023044  1.457360             1     True\n",
              "\n",
              "[1249 rows x 5 columns]"
            ],
            "text/html": [
              "\n",
              "  <div id=\"df-2f96a741-69a4-4af7-8f45-379e7a1f7c06\">\n",
              "    <div class=\"colab-df-container\">\n",
              "      <div>\n",
              "<style scoped>\n",
              "    .dataframe tbody tr th:only-of-type {\n",
              "        vertical-align: middle;\n",
              "    }\n",
              "\n",
              "    .dataframe tbody tr th {\n",
              "        vertical-align: top;\n",
              "    }\n",
              "\n",
              "    .dataframe thead th {\n",
              "        text-align: right;\n",
              "    }\n",
              "</style>\n",
              "<table border=\"1\" class=\"dataframe\">\n",
              "  <thead>\n",
              "    <tr style=\"text-align: right;\">\n",
              "      <th></th>\n",
              "      <th>time</th>\n",
              "      <th>1248</th>\n",
              "      <th>trainMAE</th>\n",
              "      <th>max_trainMAE</th>\n",
              "      <th>anomaly</th>\n",
              "    </tr>\n",
              "  </thead>\n",
              "  <tbody>\n",
              "    <tr>\n",
              "      <th>50</th>\n",
              "      <td>0 days 00:00:04.989550</td>\n",
              "      <td>0.632433</td>\n",
              "      <td>0.099424</td>\n",
              "      <td>1</td>\n",
              "      <td>False</td>\n",
              "    </tr>\n",
              "    <tr>\n",
              "      <th>51</th>\n",
              "      <td>0 days 00:00:05.089341</td>\n",
              "      <td>0.632433</td>\n",
              "      <td>0.095285</td>\n",
              "      <td>1</td>\n",
              "      <td>False</td>\n",
              "    </tr>\n",
              "    <tr>\n",
              "      <th>52</th>\n",
              "      <td>0 days 00:00:05.189132</td>\n",
              "      <td>0.839368</td>\n",
              "      <td>0.091147</td>\n",
              "      <td>1</td>\n",
              "      <td>False</td>\n",
              "    </tr>\n",
              "    <tr>\n",
              "      <th>53</th>\n",
              "      <td>0 days 00:00:05.288923</td>\n",
              "      <td>0.839368</td>\n",
              "      <td>0.091142</td>\n",
              "      <td>1</td>\n",
              "      <td>False</td>\n",
              "    </tr>\n",
              "    <tr>\n",
              "      <th>54</th>\n",
              "      <td>0 days 00:00:05.388714</td>\n",
              "      <td>0.839368</td>\n",
              "      <td>0.091145</td>\n",
              "      <td>1</td>\n",
              "      <td>False</td>\n",
              "    </tr>\n",
              "    <tr>\n",
              "      <th>...</th>\n",
              "      <td>...</td>\n",
              "      <td>...</td>\n",
              "      <td>...</td>\n",
              "      <td>...</td>\n",
              "      <td>...</td>\n",
              "    </tr>\n",
              "    <tr>\n",
              "      <th>1294</th>\n",
              "      <td>0 days 00:02:09.129554</td>\n",
              "      <td>-1.023044</td>\n",
              "      <td>1.424251</td>\n",
              "      <td>1</td>\n",
              "      <td>True</td>\n",
              "    </tr>\n",
              "    <tr>\n",
              "      <th>1295</th>\n",
              "      <td>0 days 00:02:09.229344999</td>\n",
              "      <td>-1.023044</td>\n",
              "      <td>1.432528</td>\n",
              "      <td>1</td>\n",
              "      <td>True</td>\n",
              "    </tr>\n",
              "    <tr>\n",
              "      <th>1296</th>\n",
              "      <td>0 days 00:02:09.329136</td>\n",
              "      <td>-1.023044</td>\n",
              "      <td>1.440805</td>\n",
              "      <td>1</td>\n",
              "      <td>True</td>\n",
              "    </tr>\n",
              "    <tr>\n",
              "      <th>1297</th>\n",
              "      <td>0 days 00:02:09.428927</td>\n",
              "      <td>-1.023044</td>\n",
              "      <td>1.449083</td>\n",
              "      <td>1</td>\n",
              "      <td>True</td>\n",
              "    </tr>\n",
              "    <tr>\n",
              "      <th>1298</th>\n",
              "      <td>0 days 00:02:09.528717999</td>\n",
              "      <td>-1.023044</td>\n",
              "      <td>1.457360</td>\n",
              "      <td>1</td>\n",
              "      <td>True</td>\n",
              "    </tr>\n",
              "  </tbody>\n",
              "</table>\n",
              "<p>1249 rows × 5 columns</p>\n",
              "</div>\n",
              "      <button class=\"colab-df-convert\" onclick=\"convertToInteractive('df-2f96a741-69a4-4af7-8f45-379e7a1f7c06')\"\n",
              "              title=\"Convert this dataframe to an interactive table.\"\n",
              "              style=\"display:none;\">\n",
              "        \n",
              "  <svg xmlns=\"http://www.w3.org/2000/svg\" height=\"24px\"viewBox=\"0 0 24 24\"\n",
              "       width=\"24px\">\n",
              "    <path d=\"M0 0h24v24H0V0z\" fill=\"none\"/>\n",
              "    <path d=\"M18.56 5.44l.94 2.06.94-2.06 2.06-.94-2.06-.94-.94-2.06-.94 2.06-2.06.94zm-11 1L8.5 8.5l.94-2.06 2.06-.94-2.06-.94L8.5 2.5l-.94 2.06-2.06.94zm10 10l.94 2.06.94-2.06 2.06-.94-2.06-.94-.94-2.06-.94 2.06-2.06.94z\"/><path d=\"M17.41 7.96l-1.37-1.37c-.4-.4-.92-.59-1.43-.59-.52 0-1.04.2-1.43.59L10.3 9.45l-7.72 7.72c-.78.78-.78 2.05 0 2.83L4 21.41c.39.39.9.59 1.41.59.51 0 1.02-.2 1.41-.59l7.78-7.78 2.81-2.81c.8-.78.8-2.07 0-2.86zM5.41 20L4 18.59l7.72-7.72 1.47 1.35L5.41 20z\"/>\n",
              "  </svg>\n",
              "      </button>\n",
              "      \n",
              "  <style>\n",
              "    .colab-df-container {\n",
              "      display:flex;\n",
              "      flex-wrap:wrap;\n",
              "      gap: 12px;\n",
              "    }\n",
              "\n",
              "    .colab-df-convert {\n",
              "      background-color: #E8F0FE;\n",
              "      border: none;\n",
              "      border-radius: 50%;\n",
              "      cursor: pointer;\n",
              "      display: none;\n",
              "      fill: #1967D2;\n",
              "      height: 32px;\n",
              "      padding: 0 0 0 0;\n",
              "      width: 32px;\n",
              "    }\n",
              "\n",
              "    .colab-df-convert:hover {\n",
              "      background-color: #E2EBFA;\n",
              "      box-shadow: 0px 1px 2px rgba(60, 64, 67, 0.3), 0px 1px 3px 1px rgba(60, 64, 67, 0.15);\n",
              "      fill: #174EA6;\n",
              "    }\n",
              "\n",
              "    [theme=dark] .colab-df-convert {\n",
              "      background-color: #3B4455;\n",
              "      fill: #D2E3FC;\n",
              "    }\n",
              "\n",
              "    [theme=dark] .colab-df-convert:hover {\n",
              "      background-color: #434B5C;\n",
              "      box-shadow: 0px 1px 3px 1px rgba(0, 0, 0, 0.15);\n",
              "      filter: drop-shadow(0px 1px 2px rgba(0, 0, 0, 0.3));\n",
              "      fill: #FFFFFF;\n",
              "    }\n",
              "  </style>\n",
              "\n",
              "      <script>\n",
              "        const buttonEl =\n",
              "          document.querySelector('#df-2f96a741-69a4-4af7-8f45-379e7a1f7c06 button.colab-df-convert');\n",
              "        buttonEl.style.display =\n",
              "          google.colab.kernel.accessAllowed ? 'block' : 'none';\n",
              "\n",
              "        async function convertToInteractive(key) {\n",
              "          const element = document.querySelector('#df-2f96a741-69a4-4af7-8f45-379e7a1f7c06');\n",
              "          const dataTable =\n",
              "            await google.colab.kernel.invokeFunction('convertToInteractive',\n",
              "                                                     [key], {});\n",
              "          if (!dataTable) return;\n",
              "\n",
              "          const docLinkHtml = 'Like what you see? Visit the ' +\n",
              "            '<a target=\"_blank\" href=https://colab.research.google.com/notebooks/data_table.ipynb>data table notebook</a>'\n",
              "            + ' to learn more about interactive tables.';\n",
              "          element.innerHTML = '';\n",
              "          dataTable['output_type'] = 'display_data';\n",
              "          await google.colab.output.renderOutput(dataTable, element);\n",
              "          const docLink = document.createElement('div');\n",
              "          docLink.innerHTML = docLinkHtml;\n",
              "          element.appendChild(docLink);\n",
              "        }\n",
              "      </script>\n",
              "    </div>\n",
              "  </div>\n",
              "  "
            ]
          },
          "metadata": {},
          "execution_count": 360
        }
      ]
    },
    {
      "cell_type": "code",
      "source": [
        "anomaly_df['anomaly'].value_counts()"
      ],
      "metadata": {
        "colab": {
          "base_uri": "https://localhost:8080/"
        },
        "id": "KUZuHEqLsdEQ",
        "outputId": "f6f8d8ba-2c57-4e8a-d516-6bce55826046"
      },
      "execution_count": 361,
      "outputs": [
        {
          "output_type": "execute_result",
          "data": {
            "text/plain": [
              "False    750\n",
              "True     499\n",
              "Name: anomaly, dtype: int64"
            ]
          },
          "metadata": {},
          "execution_count": 361
        }
      ]
    },
    {
      "cell_type": "code",
      "source": [
        "sns.lineplot(x=anomaly_df['time'], y=anomaly_df['trainMAE'])\n",
        "sns.lineplot(x=anomaly_df['time'], y=anomaly_df['max_trainMAE'])"
      ],
      "metadata": {
        "colab": {
          "base_uri": "https://localhost:8080/",
          "height": 296
        },
        "id": "BoikRM2HsdHD",
        "outputId": "5267399c-07cc-4a6f-e10e-cdecb57a70ff"
      },
      "execution_count": 368,
      "outputs": [
        {
          "output_type": "execute_result",
          "data": {
            "text/plain": [
              "<matplotlib.axes._subplots.AxesSubplot at 0x7fadcfc37220>"
            ]
          },
          "metadata": {},
          "execution_count": 368
        },
        {
          "output_type": "display_data",
          "data": {
            "text/plain": [
              "<Figure size 432x288 with 1 Axes>"
            ],
            "image/png": "[encoded data removed]"
          },
          "metadata": {
            "needs_background": "light"
          }
        }
      ]
    },
    {
      "cell_type": "code",
      "source": [
        "emo_62_fear=emo_62.loc[emo_62[\"Target\"]=='FEAR']\n",
        "emo_62_fear.drop(['Target'], axis = 1, inplace = True)"
      ],
      "metadata": {
        "colab": {
          "base_uri": "https://localhost:8080/"
        },
        "id": "tVOjFbKAsdJ-",
        "outputId": "2bcd4687-436b-4559-f03f-77f92b092972"
      },
      "execution_count": 345,
      "outputs": [
        {
          "output_type": "stream",
          "name": "stderr",
          "text": [
            "/usr/local/lib/python3.8/dist-packages/pandas/core/frame.py:4906: SettingWithCopyWarning: \n",
            "A value is trying to be set on a copy of a slice from a DataFrame\n",
            "\n",
            "See the caveats in the documentation: https://pandas.pydata.org/pandas-docs/stable/user_guide/indexing.html#returning-a-view-versus-a-copy\n",
            "  return super().drop(\n"
          ]
        }
      ]
    },
    {
      "cell_type": "code",
      "source": [
        "emo_62_fear"
      ],
      "metadata": {
        "colab": {
          "base_uri": "https://localhost:8080/",
          "height": 174
        },
        "id": "xHc7NxPd65tp",
        "outputId": "580f8726-7919-486e-8110-7d5ff5ecc8a6"
      },
      "execution_count": 346,
      "outputs": [
        {
          "output_type": "execute_result",
          "data": {
            "text/plain": [
              "      0:0.0  0:0.099791  0:0.199582  0:0.299373  0:0.399164  \\\n",
              "1272     91          91          91          91          91   \n",
              "\n",
              "      0:0.49895500000000004  0:0.598746  0:0.6985370000000001  0:0.798328  \\\n",
              "1272                     91          91                    91          91   \n",
              "\n",
              "      0:0.898119  ...  2:8.630599000000018  2:8.73039  2:8.83018100000001  \\\n",
              "1272          91  ...                  NaN        NaN                 NaN   \n",
              "\n",
              "      2:8.929971999999992  2:9.029763000000003  2:9.129554000000013  \\\n",
              "1272                  NaN                  NaN                  NaN   \n",
              "\n",
              "      2:9.229344999999995  2:9.329136000000005  2:9.428927000000016  \\\n",
              "1272                  NaN                  NaN                  NaN   \n",
              "\n",
              "      2:9.528717999999998  \n",
              "1272                  NaN  \n",
              "\n",
              "[1 rows x 1299 columns]"
            ],
            "text/html": [
              "\n",
              "  <div id=\"df-5485fbd0-15d7-469e-80ac-f7f5a21131e5\">\n",
              "    <div class=\"colab-df-container\">\n",
              "      <div>\n",
              "<style scoped>\n",
              "    .dataframe tbody tr th:only-of-type {\n",
              "        vertical-align: middle;\n",
              "    }\n",
              "\n",
              "    .dataframe tbody tr th {\n",
              "        vertical-align: top;\n",
              "    }\n",
              "\n",
              "    .dataframe thead th {\n",
              "        text-align: right;\n",
              "    }\n",
              "</style>\n",
              "<table border=\"1\" class=\"dataframe\">\n",
              "  <thead>\n",
              "    <tr style=\"text-align: right;\">\n",
              "      <th></th>\n",
              "      <th>0:0.0</th>\n",
              "      <th>0:0.099791</th>\n",
              "      <th>0:0.199582</th>\n",
              "      <th>0:0.299373</th>\n",
              "      <th>0:0.399164</th>\n",
              "      <th>0:0.49895500000000004</th>\n",
              "      <th>0:0.598746</th>\n",
              "      <th>0:0.6985370000000001</th>\n",
              "      <th>0:0.798328</th>\n",
              "      <th>0:0.898119</th>\n",
              "      <th>...</th>\n",
              "      <th>2:8.630599000000018</th>\n",
              "      <th>2:8.73039</th>\n",
              "      <th>2:8.83018100000001</th>\n",
              "      <th>2:8.929971999999992</th>\n",
              "      <th>2:9.029763000000003</th>\n",
              "      <th>2:9.129554000000013</th>\n",
              "      <th>2:9.229344999999995</th>\n",
              "      <th>2:9.329136000000005</th>\n",
              "      <th>2:9.428927000000016</th>\n",
              "      <th>2:9.528717999999998</th>\n",
              "    </tr>\n",
              "  </thead>\n",
              "  <tbody>\n",
              "    <tr>\n",
              "      <th>1272</th>\n",
              "      <td>91</td>\n",
              "      <td>91</td>\n",
              "      <td>91</td>\n",
              "      <td>91</td>\n",
              "      <td>91</td>\n",
              "      <td>91</td>\n",
              "      <td>91</td>\n",
              "      <td>91</td>\n",
              "      <td>91</td>\n",
              "      <td>91</td>\n",
              "      <td>...</td>\n",
              "      <td>NaN</td>\n",
              "      <td>NaN</td>\n",
              "      <td>NaN</td>\n",
              "      <td>NaN</td>\n",
              "      <td>NaN</td>\n",
              "      <td>NaN</td>\n",
              "      <td>NaN</td>\n",
              "      <td>NaN</td>\n",
              "      <td>NaN</td>\n",
              "      <td>NaN</td>\n",
              "    </tr>\n",
              "  </tbody>\n",
              "</table>\n",
              "<p>1 rows × 1299 columns</p>\n",
              "</div>\n",
              "      <button class=\"colab-df-convert\" onclick=\"convertToInteractive('df-5485fbd0-15d7-469e-80ac-f7f5a21131e5')\"\n",
              "              title=\"Convert this dataframe to an interactive table.\"\n",
              "              style=\"display:none;\">\n",
              "        \n",
              "  <svg xmlns=\"http://www.w3.org/2000/svg\" height=\"24px\"viewBox=\"0 0 24 24\"\n",
              "       width=\"24px\">\n",
              "    <path d=\"M0 0h24v24H0V0z\" fill=\"none\"/>\n",
              "    <path d=\"M18.56 5.44l.94 2.06.94-2.06 2.06-.94-2.06-.94-.94-2.06-.94 2.06-2.06.94zm-11 1L8.5 8.5l.94-2.06 2.06-.94-2.06-.94L8.5 2.5l-.94 2.06-2.06.94zm10 10l.94 2.06.94-2.06 2.06-.94-2.06-.94-.94-2.06-.94 2.06-2.06.94z\"/><path d=\"M17.41 7.96l-1.37-1.37c-.4-.4-.92-.59-1.43-.59-.52 0-1.04.2-1.43.59L10.3 9.45l-7.72 7.72c-.78.78-.78 2.05 0 2.83L4 21.41c.39.39.9.59 1.41.59.51 0 1.02-.2 1.41-.59l7.78-7.78 2.81-2.81c.8-.78.8-2.07 0-2.86zM5.41 20L4 18.59l7.72-7.72 1.47 1.35L5.41 20z\"/>\n",
              "  </svg>\n",
              "      </button>\n",
              "      \n",
              "  <style>\n",
              "    .colab-df-container {\n",
              "      display:flex;\n",
              "      flex-wrap:wrap;\n",
              "      gap: 12px;\n",
              "    }\n",
              "\n",
              "    .colab-df-convert {\n",
              "      background-color: #E8F0FE;\n",
              "      border: none;\n",
              "      border-radius: 50%;\n",
              "      cursor: pointer;\n",
              "      display: none;\n",
              "      fill: #1967D2;\n",
              "      height: 32px;\n",
              "      padding: 0 0 0 0;\n",
              "      width: 32px;\n",
              "    }\n",
              "\n",
              "    .colab-df-convert:hover {\n",
              "      background-color: #E2EBFA;\n",
              "      box-shadow: 0px 1px 2px rgba(60, 64, 67, 0.3), 0px 1px 3px 1px rgba(60, 64, 67, 0.15);\n",
              "      fill: #174EA6;\n",
              "    }\n",
              "\n",
              "    [theme=dark] .colab-df-convert {\n",
              "      background-color: #3B4455;\n",
              "      fill: #D2E3FC;\n",
              "    }\n",
              "\n",
              "    [theme=dark] .colab-df-convert:hover {\n",
              "      background-color: #434B5C;\n",
              "      box-shadow: 0px 1px 3px 1px rgba(0, 0, 0, 0.15);\n",
              "      filter: drop-shadow(0px 1px 2px rgba(0, 0, 0, 0.3));\n",
              "      fill: #FFFFFF;\n",
              "    }\n",
              "  </style>\n",
              "\n",
              "      <script>\n",
              "        const buttonEl =\n",
              "          document.querySelector('#df-5485fbd0-15d7-469e-80ac-f7f5a21131e5 button.colab-df-convert');\n",
              "        buttonEl.style.display =\n",
              "          google.colab.kernel.accessAllowed ? 'block' : 'none';\n",
              "\n",
              "        async function convertToInteractive(key) {\n",
              "          const element = document.querySelector('#df-5485fbd0-15d7-469e-80ac-f7f5a21131e5');\n",
              "          const dataTable =\n",
              "            await google.colab.kernel.invokeFunction('convertToInteractive',\n",
              "                                                     [key], {});\n",
              "          if (!dataTable) return;\n",
              "\n",
              "          const docLinkHtml = 'Like what you see? Visit the ' +\n",
              "            '<a target=\"_blank\" href=https://colab.research.google.com/notebooks/data_table.ipynb>data table notebook</a>'\n",
              "            + ' to learn more about interactive tables.';\n",
              "          element.innerHTML = '';\n",
              "          dataTable['output_type'] = 'display_data';\n",
              "          await google.colab.output.renderOutput(dataTable, element);\n",
              "          const docLink = document.createElement('div');\n",
              "          docLink.innerHTML = docLinkHtml;\n",
              "          element.appendChild(docLink);\n",
              "        }\n",
              "      </script>\n",
              "    </div>\n",
              "  </div>\n",
              "  "
            ]
          },
          "metadata": {},
          "execution_count": 346
        }
      ]
    },
    {
      "cell_type": "code",
      "source": [
        "plt.plot(emo_62_fear.values[:,:][0])\n",
        "plt.ylim(0, 150)"
      ],
      "metadata": {
        "colab": {
          "base_uri": "https://localhost:8080/",
          "height": 282
        },
        "id": "eTik7BPH65wI",
        "outputId": "95d05176-2e71-4541-e40b-8280ca783c62"
      },
      "execution_count": 347,
      "outputs": [
        {
          "output_type": "execute_result",
          "data": {
            "text/plain": [
              "(0.0, 150.0)"
            ]
          },
          "metadata": {},
          "execution_count": 347
        },
        {
          "output_type": "display_data",
          "data": {
            "text/plain": [
              "<Figure size 432x288 with 1 Axes>"
            ],
            "image/png": "[encoded data removed]"
          },
          "metadata": {
            "needs_background": "light"
          }
        }
      ]
    },
    {
      "cell_type": "code",
      "source": [
        "emo_62_fear=emo_62_fear.transpose()\n",
        "scaler=scaler.fit(emo_62_fear[[1272]])\n",
        "emo_62_fear[1272]=scaler.transform(emo_62_fear[[1272]])\n"
      ],
      "metadata": {
        "id": "vLHH5Ild65y-"
      },
      "execution_count": 348,
      "outputs": []
    },
    {
      "cell_type": "code",
      "source": [
        "emo_62_fear['time'] = emo_62_fear.index\n",
        "emo_62_fear.reset_index(drop=True, inplace=True)\n",
        "emo_62_fear=swap_columns(emo_62_fear,1272,'time')\n",
        "emo_62_fear['time'] = ['00:'+x   for x in emo_62_fear['time']]\n",
        "emo_62_fear['time'] = pd.to_timedelta(emo_62_fear['time'])"
      ],
      "metadata": {
        "id": "DEsl_797651r"
      },
      "execution_count": 349,
      "outputs": []
    },
    {
      "cell_type": "code",
      "source": [
        "emo_62_fearx,emo_62_feary=to_seq(emo_62_fear[[1272]],emo_62_fear[1272],seq_size)"
      ],
      "metadata": {
        "id": "tSwHyeoF6594"
      },
      "execution_count": 350,
      "outputs": []
    },
    {
      "cell_type": "code",
      "source": [
        "testPredict_fear = model.predict(emo_62_fearx)\n",
        "trainMAE_fear = np.mean(np.abs(testPredict_fear- emo_62_fearx), axis=1)\n",
        "plt.hist(trainMAE_fear, bins=30)"
      ],
      "metadata": {
        "colab": {
          "base_uri": "https://localhost:8080/",
          "height": 473
        },
        "id": "0ETIP-MZ657C",
        "outputId": "e27789b5-bd2c-4c16-b306-97189c4b9583"
      },
      "execution_count": 352,
      "outputs": [
        {
          "output_type": "stream",
          "name": "stdout",
          "text": [
            "40/40 [==============================] - 2s 61ms/step\n"
          ]
        },
        {
          "output_type": "execute_result",
          "data": {
            "text/plain": [
              "(array([24., 16., 28., 19., 10., 12., 11., 14., 22., 10., 10., 10., 10.,\n",
              "         7., 11., 23.,  6.,  9.,  6.,  8.,  8.,  6., 11.,  8.,  3.,  4.,\n",
              "         5.,  6.,  6.,  9.]),\n",
              " array([0.42979287, 0.47964434, 0.52949582, 0.57934729, 0.62919877,\n",
              "        0.67905024, 0.72890172, 0.77875319, 0.82860467, 0.87845614,\n",
              "        0.92830762, 0.97815909, 1.02801056, 1.07786204, 1.12771351,\n",
              "        1.17756499, 1.22741646, 1.27726794, 1.32711941, 1.37697089,\n",
              "        1.42682236, 1.47667384, 1.52652531, 1.57637679, 1.62622826,\n",
              "        1.67607973, 1.72593121, 1.77578268, 1.82563416, 1.87548563,\n",
              "        1.92533711]),\n",
              " <a list of 30 Patch objects>)"
            ]
          },
          "metadata": {},
          "execution_count": 352
        },
        {
          "output_type": "display_data",
          "data": {
            "text/plain": [
              "<Figure size 432x288 with 1 Axes>"
            ],
            "image/png": "[encoded data removed]"
          },
          "metadata": {
            "needs_background": "light"
          }
        }
      ]
    },
    {
      "cell_type": "code",
      "source": [
        "anomaly_df['trainMAE_fear'] = trainMAE_fear\n",
        "anomaly_df['anomaly_fear'] = anomaly_df['trainMAE_fear'] > anomaly_df['max_trainMAE']\n",
        "anomaly_df[1272] = emo_62_fear[seq_size:][1272]"
      ],
      "metadata": {
        "id": "ZUIkP_dO66AX"
      },
      "execution_count": 362,
      "outputs": []
    },
    {
      "cell_type": "code",
      "source": [
        "anomaly_df"
      ],
      "metadata": {
        "colab": {
          "base_uri": "https://localhost:8080/",
          "height": 424
        },
        "id": "ZihVoxWy66DV",
        "outputId": "28818c80-5a92-4ac9-b8b4-c642b869fb8c"
      },
      "execution_count": 363,
      "outputs": [
        {
          "output_type": "execute_result",
          "data": {
            "text/plain": [
              "                          time      1248  trainMAE  max_trainMAE  anomaly  \\\n",
              "50      0 days 00:00:04.989550  0.632433  0.099424             1    False   \n",
              "51      0 days 00:00:05.089341  0.632433  0.095285             1    False   \n",
              "52      0 days 00:00:05.189132  0.839368  0.091147             1    False   \n",
              "53      0 days 00:00:05.288923  0.839368  0.091142             1    False   \n",
              "54      0 days 00:00:05.388714  0.839368  0.091145             1    False   \n",
              "...                        ...       ...       ...           ...      ...   \n",
              "1294    0 days 00:02:09.129554 -1.023044  1.424251             1     True   \n",
              "1295 0 days 00:02:09.229344999 -1.023044  1.432528             1     True   \n",
              "1296    0 days 00:02:09.329136 -1.023044  1.440805             1     True   \n",
              "1297    0 days 00:02:09.428927 -1.023044  1.449083             1     True   \n",
              "1298 0 days 00:02:09.528717999 -1.023044  1.457360             1     True   \n",
              "\n",
              "      trainMAE_fear  anomaly_fear     1272  \n",
              "50         0.840122         False  1.13057  \n",
              "51         0.840108         False  1.13057  \n",
              "52         0.840097         False  1.13057  \n",
              "53         0.840088         False  1.13057  \n",
              "54         0.840080         False  1.13057  \n",
              "...             ...           ...      ...  \n",
              "1294            NaN         False      NaN  \n",
              "1295            NaN         False      NaN  \n",
              "1296            NaN         False      NaN  \n",
              "1297            NaN         False      NaN  \n",
              "1298            NaN         False      NaN  \n",
              "\n",
              "[1249 rows x 8 columns]"
            ],
            "text/html": [
              "\n",
              "  <div id=\"df-0223b162-ad4d-4424-b2ef-7db94ee53e4f\">\n",
              "    <div class=\"colab-df-container\">\n",
              "      <div>\n",
              "<style scoped>\n",
              "    .dataframe tbody tr th:only-of-type {\n",
              "        vertical-align: middle;\n",
              "    }\n",
              "\n",
              "    .dataframe tbody tr th {\n",
              "        vertical-align: top;\n",
              "    }\n",
              "\n",
              "    .dataframe thead th {\n",
              "        text-align: right;\n",
              "    }\n",
              "</style>\n",
              "<table border=\"1\" class=\"dataframe\">\n",
              "  <thead>\n",
              "    <tr style=\"text-align: right;\">\n",
              "      <th></th>\n",
              "      <th>time</th>\n",
              "      <th>1248</th>\n",
              "      <th>trainMAE</th>\n",
              "      <th>max_trainMAE</th>\n",
              "      <th>anomaly</th>\n",
              "      <th>trainMAE_fear</th>\n",
              "      <th>anomaly_fear</th>\n",
              "      <th>1272</th>\n",
              "    </tr>\n",
              "  </thead>\n",
              "  <tbody>\n",
              "    <tr>\n",
              "      <th>50</th>\n",
              "      <td>0 days 00:00:04.989550</td>\n",
              "      <td>0.632433</td>\n",
              "      <td>0.099424</td>\n",
              "      <td>1</td>\n",
              "      <td>False</td>\n",
              "      <td>0.840122</td>\n",
              "      <td>False</td>\n",
              "      <td>1.13057</td>\n",
              "    </tr>\n",
              "    <tr>\n",
              "      <th>51</th>\n",
              "      <td>0 days 00:00:05.089341</td>\n",
              "      <td>0.632433</td>\n",
              "      <td>0.095285</td>\n",
              "      <td>1</td>\n",
              "      <td>False</td>\n",
              "      <td>0.840108</td>\n",
              "      <td>False</td>\n",
              "      <td>1.13057</td>\n",
              "    </tr>\n",
              "    <tr>\n",
              "      <th>52</th>\n",
              "      <td>0 days 00:00:05.189132</td>\n",
              "      <td>0.839368</td>\n",
              "      <td>0.091147</td>\n",
              "      <td>1</td>\n",
              "      <td>False</td>\n",
              "      <td>0.840097</td>\n",
              "      <td>False</td>\n",
              "      <td>1.13057</td>\n",
              "    </tr>\n",
              "    <tr>\n",
              "      <th>53</th>\n",
              "      <td>0 days 00:00:05.288923</td>\n",
              "      <td>0.839368</td>\n",
              "      <td>0.091142</td>\n",
              "      <td>1</td>\n",
              "      <td>False</td>\n",
              "      <td>0.840088</td>\n",
              "      <td>False</td>\n",
              "      <td>1.13057</td>\n",
              "    </tr>\n",
              "    <tr>\n",
              "      <th>54</th>\n",
              "      <td>0 days 00:00:05.388714</td>\n",
              "      <td>0.839368</td>\n",
              "      <td>0.091145</td>\n",
              "      <td>1</td>\n",
              "      <td>False</td>\n",
              "      <td>0.840080</td>\n",
              "      <td>False</td>\n",
              "      <td>1.13057</td>\n",
              "    </tr>\n",
              "    <tr>\n",
              "      <th>...</th>\n",
              "      <td>...</td>\n",
              "      <td>...</td>\n",
              "      <td>...</td>\n",
              "      <td>...</td>\n",
              "      <td>...</td>\n",
              "      <td>...</td>\n",
              "      <td>...</td>\n",
              "      <td>...</td>\n",
              "    </tr>\n",
              "    <tr>\n",
              "      <th>1294</th>\n",
              "      <td>0 days 00:02:09.129554</td>\n",
              "      <td>-1.023044</td>\n",
              "      <td>1.424251</td>\n",
              "      <td>1</td>\n",
              "      <td>True</td>\n",
              "      <td>NaN</td>\n",
              "      <td>False</td>\n",
              "      <td>NaN</td>\n",
              "    </tr>\n",
              "    <tr>\n",
              "      <th>1295</th>\n",
              "      <td>0 days 00:02:09.229344999</td>\n",
              "      <td>-1.023044</td>\n",
              "      <td>1.432528</td>\n",
              "      <td>1</td>\n",
              "      <td>True</td>\n",
              "      <td>NaN</td>\n",
              "      <td>False</td>\n",
              "      <td>NaN</td>\n",
              "    </tr>\n",
              "    <tr>\n",
              "      <th>1296</th>\n",
              "      <td>0 days 00:02:09.329136</td>\n",
              "      <td>-1.023044</td>\n",
              "      <td>1.440805</td>\n",
              "      <td>1</td>\n",
              "      <td>True</td>\n",
              "      <td>NaN</td>\n",
              "      <td>False</td>\n",
              "      <td>NaN</td>\n",
              "    </tr>\n",
              "    <tr>\n",
              "      <th>1297</th>\n",
              "      <td>0 days 00:02:09.428927</td>\n",
              "      <td>-1.023044</td>\n",
              "      <td>1.449083</td>\n",
              "      <td>1</td>\n",
              "      <td>True</td>\n",
              "      <td>NaN</td>\n",
              "      <td>False</td>\n",
              "      <td>NaN</td>\n",
              "    </tr>\n",
              "    <tr>\n",
              "      <th>1298</th>\n",
              "      <td>0 days 00:02:09.528717999</td>\n",
              "      <td>-1.023044</td>\n",
              "      <td>1.457360</td>\n",
              "      <td>1</td>\n",
              "      <td>True</td>\n",
              "      <td>NaN</td>\n",
              "      <td>False</td>\n",
              "      <td>NaN</td>\n",
              "    </tr>\n",
              "  </tbody>\n",
              "</table>\n",
              "<p>1249 rows × 8 columns</p>\n",
              "</div>\n",
              "      <button class=\"colab-df-convert\" onclick=\"convertToInteractive('df-0223b162-ad4d-4424-b2ef-7db94ee53e4f')\"\n",
              "              title=\"Convert this dataframe to an interactive table.\"\n",
              "              style=\"display:none;\">\n",
              "        \n",
              "  <svg xmlns=\"http://www.w3.org/2000/svg\" height=\"24px\"viewBox=\"0 0 24 24\"\n",
              "       width=\"24px\">\n",
              "    <path d=\"M0 0h24v24H0V0z\" fill=\"none\"/>\n",
              "    <path d=\"M18.56 5.44l.94 2.06.94-2.06 2.06-.94-2.06-.94-.94-2.06-.94 2.06-2.06.94zm-11 1L8.5 8.5l.94-2.06 2.06-.94-2.06-.94L8.5 2.5l-.94 2.06-2.06.94zm10 10l.94 2.06.94-2.06 2.06-.94-2.06-.94-.94-2.06-.94 2.06-2.06.94z\"/><path d=\"M17.41 7.96l-1.37-1.37c-.4-.4-.92-.59-1.43-.59-.52 0-1.04.2-1.43.59L10.3 9.45l-7.72 7.72c-.78.78-.78 2.05 0 2.83L4 21.41c.39.39.9.59 1.41.59.51 0 1.02-.2 1.41-.59l7.78-7.78 2.81-2.81c.8-.78.8-2.07 0-2.86zM5.41 20L4 18.59l7.72-7.72 1.47 1.35L5.41 20z\"/>\n",
              "  </svg>\n",
              "      </button>\n",
              "      \n",
              "  <style>\n",
              "    .colab-df-container {\n",
              "      display:flex;\n",
              "      flex-wrap:wrap;\n",
              "      gap: 12px;\n",
              "    }\n",
              "\n",
              "    .colab-df-convert {\n",
              "      background-color: #E8F0FE;\n",
              "      border: none;\n",
              "      border-radius: 50%;\n",
              "      cursor: pointer;\n",
              "      display: none;\n",
              "      fill: #1967D2;\n",
              "      height: 32px;\n",
              "      padding: 0 0 0 0;\n",
              "      width: 32px;\n",
              "    }\n",
              "\n",
              "    .colab-df-convert:hover {\n",
              "      background-color: #E2EBFA;\n",
              "      box-shadow: 0px 1px 2px rgba(60, 64, 67, 0.3), 0px 1px 3px 1px rgba(60, 64, 67, 0.15);\n",
              "      fill: #174EA6;\n",
              "    }\n",
              "\n",
              "    [theme=dark] .colab-df-convert {\n",
              "      background-color: #3B4455;\n",
              "      fill: #D2E3FC;\n",
              "    }\n",
              "\n",
              "    [theme=dark] .colab-df-convert:hover {\n",
              "      background-color: #434B5C;\n",
              "      box-shadow: 0px 1px 3px 1px rgba(0, 0, 0, 0.15);\n",
              "      filter: drop-shadow(0px 1px 2px rgba(0, 0, 0, 0.3));\n",
              "      fill: #FFFFFF;\n",
              "    }\n",
              "  </style>\n",
              "\n",
              "      <script>\n",
              "        const buttonEl =\n",
              "          document.querySelector('#df-0223b162-ad4d-4424-b2ef-7db94ee53e4f button.colab-df-convert');\n",
              "        buttonEl.style.display =\n",
              "          google.colab.kernel.accessAllowed ? 'block' : 'none';\n",
              "\n",
              "        async function convertToInteractive(key) {\n",
              "          const element = document.querySelector('#df-0223b162-ad4d-4424-b2ef-7db94ee53e4f');\n",
              "          const dataTable =\n",
              "            await google.colab.kernel.invokeFunction('convertToInteractive',\n",
              "                                                     [key], {});\n",
              "          if (!dataTable) return;\n",
              "\n",
              "          const docLinkHtml = 'Like what you see? Visit the ' +\n",
              "            '<a target=\"_blank\" href=https://colab.research.google.com/notebooks/data_table.ipynb>data table notebook</a>'\n",
              "            + ' to learn more about interactive tables.';\n",
              "          element.innerHTML = '';\n",
              "          dataTable['output_type'] = 'display_data';\n",
              "          await google.colab.output.renderOutput(dataTable, element);\n",
              "          const docLink = document.createElement('div');\n",
              "          docLink.innerHTML = docLinkHtml;\n",
              "          element.appendChild(docLink);\n",
              "        }\n",
              "      </script>\n",
              "    </div>\n",
              "  </div>\n",
              "  "
            ]
          },
          "metadata": {},
          "execution_count": 363
        }
      ]
    },
    {
      "cell_type": "code",
      "source": [
        "anomaly_df['anomaly_fear'].value_counts()"
      ],
      "metadata": {
        "colab": {
          "base_uri": "https://localhost:8080/"
        },
        "id": "o9WxCBzL66F4",
        "outputId": "e60ad55d-83bb-4a24-ef04-b84bfe7d7de4"
      },
      "execution_count": 364,
      "outputs": [
        {
          "output_type": "execute_result",
          "data": {
            "text/plain": [
              "False    1097\n",
              "True      152\n",
              "Name: anomaly_fear, dtype: int64"
            ]
          },
          "metadata": {},
          "execution_count": 364
        }
      ]
    },
    {
      "cell_type": "code",
      "source": [
        "sns.lineplot(x=anomaly_df['time'], y=anomaly_df[\"trainMAE_fear\"])\n",
        "sns.lineplot(x=anomaly_df['time'], y=anomaly_df['max_trainMAE'])"
      ],
      "metadata": {
        "colab": {
          "base_uri": "https://localhost:8080/",
          "height": 300
        },
        "id": "qjE71F3z66Ik",
        "outputId": "ff7b3b4f-87e5-4396-b288-cf224ef6f6c6"
      },
      "execution_count": 367,
      "outputs": [
        {
          "output_type": "execute_result",
          "data": {
            "text/plain": [
              "<matplotlib.axes._subplots.AxesSubplot at 0x7fadcfaa7c40>"
            ]
          },
          "metadata": {},
          "execution_count": 367
        },
        {
          "output_type": "display_data",
          "data": {
            "text/plain": [
              "<Figure size 432x288 with 1 Axes>"
            ],
            "image/png": "[encoded data removed]"
          },
          "metadata": {
            "needs_background": "light"
          }
        }
      ]
    },
    {
      "cell_type": "code",
      "source": [
        "get_ind=anomaly_df.copy()"
      ],
      "metadata": {
        "id": "32D02xqw66LZ"
      },
      "execution_count": 369,
      "outputs": []
    },
    {
      "cell_type": "code",
      "source": [
        "get_ind['ind'] = get_ind.index\n",
        "get_ind.reset_index(drop=True, inplace=True)"
      ],
      "metadata": {
        "id": "xBLKqDVs66N4"
      },
      "execution_count": 370,
      "outputs": []
    },
    {
      "cell_type": "code",
      "source": [
        "get_ind"
      ],
      "metadata": {
        "colab": {
          "base_uri": "https://localhost:8080/",
          "height": 424
        },
        "id": "cGFVJ8Rd66Qx",
        "outputId": "5a90ab75-badf-450f-c92f-fb0e38670ad2"
      },
      "execution_count": 371,
      "outputs": [
        {
          "output_type": "execute_result",
          "data": {
            "text/plain": [
              "                          time      1248  trainMAE  max_trainMAE  anomaly  \\\n",
              "0       0 days 00:00:04.989550  0.632433  0.099424             1    False   \n",
              "1       0 days 00:00:05.089341  0.632433  0.095285             1    False   \n",
              "2       0 days 00:00:05.189132  0.839368  0.091147             1    False   \n",
              "3       0 days 00:00:05.288923  0.839368  0.091142             1    False   \n",
              "4       0 days 00:00:05.388714  0.839368  0.091145             1    False   \n",
              "...                        ...       ...       ...           ...      ...   \n",
              "1244    0 days 00:02:09.129554 -1.023044  1.424251             1     True   \n",
              "1245 0 days 00:02:09.229344999 -1.023044  1.432528             1     True   \n",
              "1246    0 days 00:02:09.329136 -1.023044  1.440805             1     True   \n",
              "1247    0 days 00:02:09.428927 -1.023044  1.449083             1     True   \n",
              "1248 0 days 00:02:09.528717999 -1.023044  1.457360             1     True   \n",
              "\n",
              "      trainMAE_fear  anomaly_fear     1272   ind  \n",
              "0          0.840122         False  1.13057    50  \n",
              "1          0.840108         False  1.13057    51  \n",
              "2          0.840097         False  1.13057    52  \n",
              "3          0.840088         False  1.13057    53  \n",
              "4          0.840080         False  1.13057    54  \n",
              "...             ...           ...      ...   ...  \n",
              "1244            NaN         False      NaN  1294  \n",
              "1245            NaN         False      NaN  1295  \n",
              "1246            NaN         False      NaN  1296  \n",
              "1247            NaN         False      NaN  1297  \n",
              "1248            NaN         False      NaN  1298  \n",
              "\n",
              "[1249 rows x 9 columns]"
            ],
            "text/html": [
              "\n",
              "  <div id=\"df-2ad60218-56f1-4ccb-96c1-e252269b22ad\">\n",
              "    <div class=\"colab-df-container\">\n",
              "      <div>\n",
              "<style scoped>\n",
              "    .dataframe tbody tr th:only-of-type {\n",
              "        vertical-align: middle;\n",
              "    }\n",
              "\n",
              "    .dataframe tbody tr th {\n",
              "        vertical-align: top;\n",
              "    }\n",
              "\n",
              "    .dataframe thead th {\n",
              "        text-align: right;\n",
              "    }\n",
              "</style>\n",
              "<table border=\"1\" class=\"dataframe\">\n",
              "  <thead>\n",
              "    <tr style=\"text-align: right;\">\n",
              "      <th></th>\n",
              "      <th>time</th>\n",
              "      <th>1248</th>\n",
              "      <th>trainMAE</th>\n",
              "      <th>max_trainMAE</th>\n",
              "      <th>anomaly</th>\n",
              "      <th>trainMAE_fear</th>\n",
              "      <th>anomaly_fear</th>\n",
              "      <th>1272</th>\n",
              "      <th>ind</th>\n",
              "    </tr>\n",
              "  </thead>\n",
              "  <tbody>\n",
              "    <tr>\n",
              "      <th>0</th>\n",
              "      <td>0 days 00:00:04.989550</td>\n",
              "      <td>0.632433</td>\n",
              "      <td>0.099424</td>\n",
              "      <td>1</td>\n",
              "      <td>False</td>\n",
              "      <td>0.840122</td>\n",
              "      <td>False</td>\n",
              "      <td>1.13057</td>\n",
              "      <td>50</td>\n",
              "    </tr>\n",
              "    <tr>\n",
              "      <th>1</th>\n",
              "      <td>0 days 00:00:05.089341</td>\n",
              "      <td>0.632433</td>\n",
              "      <td>0.095285</td>\n",
              "      <td>1</td>\n",
              "      <td>False</td>\n",
              "      <td>0.840108</td>\n",
              "      <td>False</td>\n",
              "      <td>1.13057</td>\n",
              "      <td>51</td>\n",
              "    </tr>\n",
              "    <tr>\n",
              "      <th>2</th>\n",
              "      <td>0 days 00:00:05.189132</td>\n",
              "      <td>0.839368</td>\n",
              "      <td>0.091147</td>\n",
              "      <td>1</td>\n",
              "      <td>False</td>\n",
              "      <td>0.840097</td>\n",
              "      <td>False</td>\n",
              "      <td>1.13057</td>\n",
              "      <td>52</td>\n",
              "    </tr>\n",
              "    <tr>\n",
              "      <th>3</th>\n",
              "      <td>0 days 00:00:05.288923</td>\n",
              "      <td>0.839368</td>\n",
              "      <td>0.091142</td>\n",
              "      <td>1</td>\n",
              "      <td>False</td>\n",
              "      <td>0.840088</td>\n",
              "      <td>False</td>\n",
              "      <td>1.13057</td>\n",
              "      <td>53</td>\n",
              "    </tr>\n",
              "    <tr>\n",
              "      <th>4</th>\n",
              "      <td>0 days 00:00:05.388714</td>\n",
              "      <td>0.839368</td>\n",
              "      <td>0.091145</td>\n",
              "      <td>1</td>\n",
              "      <td>False</td>\n",
              "      <td>0.840080</td>\n",
              "      <td>False</td>\n",
              "      <td>1.13057</td>\n",
              "      <td>54</td>\n",
              "    </tr>\n",
              "    <tr>\n",
              "      <th>...</th>\n",
              "      <td>...</td>\n",
              "      <td>...</td>\n",
              "      <td>...</td>\n",
              "      <td>...</td>\n",
              "      <td>...</td>\n",
              "      <td>...</td>\n",
              "      <td>...</td>\n",
              "      <td>...</td>\n",
              "      <td>...</td>\n",
              "    </tr>\n",
              "    <tr>\n",
              "      <th>1244</th>\n",
              "      <td>0 days 00:02:09.129554</td>\n",
              "      <td>-1.023044</td>\n",
              "      <td>1.424251</td>\n",
              "      <td>1</td>\n",
              "      <td>True</td>\n",
              "      <td>NaN</td>\n",
              "      <td>False</td>\n",
              "      <td>NaN</td>\n",
              "      <td>1294</td>\n",
              "    </tr>\n",
              "    <tr>\n",
              "      <th>1245</th>\n",
              "      <td>0 days 00:02:09.229344999</td>\n",
              "      <td>-1.023044</td>\n",
              "      <td>1.432528</td>\n",
              "      <td>1</td>\n",
              "      <td>True</td>\n",
              "      <td>NaN</td>\n",
              "      <td>False</td>\n",
              "      <td>NaN</td>\n",
              "      <td>1295</td>\n",
              "    </tr>\n",
              "    <tr>\n",
              "      <th>1246</th>\n",
              "      <td>0 days 00:02:09.329136</td>\n",
              "      <td>-1.023044</td>\n",
              "      <td>1.440805</td>\n",
              "      <td>1</td>\n",
              "      <td>True</td>\n",
              "      <td>NaN</td>\n",
              "      <td>False</td>\n",
              "      <td>NaN</td>\n",
              "      <td>1296</td>\n",
              "    </tr>\n",
              "    <tr>\n",
              "      <th>1247</th>\n",
              "      <td>0 days 00:02:09.428927</td>\n",
              "      <td>-1.023044</td>\n",
              "      <td>1.449083</td>\n",
              "      <td>1</td>\n",
              "      <td>True</td>\n",
              "      <td>NaN</td>\n",
              "      <td>False</td>\n",
              "      <td>NaN</td>\n",
              "      <td>1297</td>\n",
              "    </tr>\n",
              "    <tr>\n",
              "      <th>1248</th>\n",
              "      <td>0 days 00:02:09.528717999</td>\n",
              "      <td>-1.023044</td>\n",
              "      <td>1.457360</td>\n",
              "      <td>1</td>\n",
              "      <td>True</td>\n",
              "      <td>NaN</td>\n",
              "      <td>False</td>\n",
              "      <td>NaN</td>\n",
              "      <td>1298</td>\n",
              "    </tr>\n",
              "  </tbody>\n",
              "</table>\n",
              "<p>1249 rows × 9 columns</p>\n",
              "</div>\n",
              "      <button class=\"colab-df-convert\" onclick=\"convertToInteractive('df-2ad60218-56f1-4ccb-96c1-e252269b22ad')\"\n",
              "              title=\"Convert this dataframe to an interactive table.\"\n",
              "              style=\"display:none;\">\n",
              "        \n",
              "  <svg xmlns=\"http://www.w3.org/2000/svg\" height=\"24px\"viewBox=\"0 0 24 24\"\n",
              "       width=\"24px\">\n",
              "    <path d=\"M0 0h24v24H0V0z\" fill=\"none\"/>\n",
              "    <path d=\"M18.56 5.44l.94 2.06.94-2.06 2.06-.94-2.06-.94-.94-2.06-.94 2.06-2.06.94zm-11 1L8.5 8.5l.94-2.06 2.06-.94-2.06-.94L8.5 2.5l-.94 2.06-2.06.94zm10 10l.94 2.06.94-2.06 2.06-.94-2.06-.94-.94-2.06-.94 2.06-2.06.94z\"/><path d=\"M17.41 7.96l-1.37-1.37c-.4-.4-.92-.59-1.43-.59-.52 0-1.04.2-1.43.59L10.3 9.45l-7.72 7.72c-.78.78-.78 2.05 0 2.83L4 21.41c.39.39.9.59 1.41.59.51 0 1.02-.2 1.41-.59l7.78-7.78 2.81-2.81c.8-.78.8-2.07 0-2.86zM5.41 20L4 18.59l7.72-7.72 1.47 1.35L5.41 20z\"/>\n",
              "  </svg>\n",
              "      </button>\n",
              "      \n",
              "  <style>\n",
              "    .colab-df-container {\n",
              "      display:flex;\n",
              "      flex-wrap:wrap;\n",
              "      gap: 12px;\n",
              "    }\n",
              "\n",
              "    .colab-df-convert {\n",
              "      background-color: #E8F0FE;\n",
              "      border: none;\n",
              "      border-radius: 50%;\n",
              "      cursor: pointer;\n",
              "      display: none;\n",
              "      fill: #1967D2;\n",
              "      height: 32px;\n",
              "      padding: 0 0 0 0;\n",
              "      width: 32px;\n",
              "    }\n",
              "\n",
              "    .colab-df-convert:hover {\n",
              "      background-color: #E2EBFA;\n",
              "      box-shadow: 0px 1px 2px rgba(60, 64, 67, 0.3), 0px 1px 3px 1px rgba(60, 64, 67, 0.15);\n",
              "      fill: #174EA6;\n",
              "    }\n",
              "\n",
              "    [theme=dark] .colab-df-convert {\n",
              "      background-color: #3B4455;\n",
              "      fill: #D2E3FC;\n",
              "    }\n",
              "\n",
              "    [theme=dark] .colab-df-convert:hover {\n",
              "      background-color: #434B5C;\n",
              "      box-shadow: 0px 1px 3px 1px rgba(0, 0, 0, 0.15);\n",
              "      filter: drop-shadow(0px 1px 2px rgba(0, 0, 0, 0.3));\n",
              "      fill: #FFFFFF;\n",
              "    }\n",
              "  </style>\n",
              "\n",
              "      <script>\n",
              "        const buttonEl =\n",
              "          document.querySelector('#df-2ad60218-56f1-4ccb-96c1-e252269b22ad button.colab-df-convert');\n",
              "        buttonEl.style.display =\n",
              "          google.colab.kernel.accessAllowed ? 'block' : 'none';\n",
              "\n",
              "        async function convertToInteractive(key) {\n",
              "          const element = document.querySelector('#df-2ad60218-56f1-4ccb-96c1-e252269b22ad');\n",
              "          const dataTable =\n",
              "            await google.colab.kernel.invokeFunction('convertToInteractive',\n",
              "                                                     [key], {});\n",
              "          if (!dataTable) return;\n",
              "\n",
              "          const docLinkHtml = 'Like what you see? Visit the ' +\n",
              "            '<a target=\"_blank\" href=https://colab.research.google.com/notebooks/data_table.ipynb>data table notebook</a>'\n",
              "            + ' to learn more about interactive tables.';\n",
              "          element.innerHTML = '';\n",
              "          dataTable['output_type'] = 'display_data';\n",
              "          await google.colab.output.renderOutput(dataTable, element);\n",
              "          const docLink = document.createElement('div');\n",
              "          docLink.innerHTML = docLinkHtml;\n",
              "          element.appendChild(docLink);\n",
              "        }\n",
              "      </script>\n",
              "    </div>\n",
              "  </div>\n",
              "  "
            ]
          },
          "metadata": {},
          "execution_count": 371
        }
      ]
    },
    {
      "cell_type": "code",
      "source": [
        "anomalies = trainMAE_fear > max_trainMAE\n",
        "print(\"Number of anomaly samples: \", np.sum(anomalies))\n",
        "print(\"Indices of anomaly samples: \", np.where(anomalies))"
      ],
      "metadata": {
        "colab": {
          "base_uri": "https://localhost:8080/"
        },
        "id": "iKH5z9j4G9Rn",
        "outputId": "373143eb-989a-4248-9875-54c1159b9144"
      },
      "execution_count": 372,
      "outputs": [
        {
          "output_type": "stream",
          "name": "stdout",
          "text": [
            "Number of anomaly samples:  152\n",
            "Indices of anomaly samples:  (array([ 88,  89,  90,  91,  92,  93,  94,  95,  96,  97,  98,  99, 100,\n",
            "       101, 102, 103, 104, 105, 106, 107, 108, 109, 110, 111, 112, 113,\n",
            "       114, 115, 116, 117, 118, 119, 120, 121, 122, 123, 124, 125, 126,\n",
            "       127, 128, 129, 130, 131, 132, 133, 134, 135, 136, 137, 138, 139,\n",
            "       140, 141, 142, 143, 144, 145, 146, 147, 148, 149, 150, 151, 152,\n",
            "       153, 154, 155, 156, 157, 158, 159, 212, 213, 214, 215, 216, 217,\n",
            "       218, 219, 220, 221, 222, 223, 224, 225, 226, 227, 228, 229, 230,\n",
            "       231, 232, 233, 234, 235, 236, 237, 238, 239, 240, 241, 242, 243,\n",
            "       244, 245, 246, 247, 248, 249, 250, 251, 252, 253, 254, 255, 256,\n",
            "       257, 258, 259, 260, 261, 262, 263, 264, 265, 266, 267, 308, 309,\n",
            "       310, 311, 312, 313, 314, 315, 316, 317, 318, 319, 320, 321, 322,\n",
            "       323, 324, 325, 326, 327, 328, 329, 330, 331]), array([0, 0, 0, 0, 0, 0, 0, 0, 0, 0, 0, 0, 0, 0, 0, 0, 0, 0, 0, 0, 0, 0,\n",
            "       0, 0, 0, 0, 0, 0, 0, 0, 0, 0, 0, 0, 0, 0, 0, 0, 0, 0, 0, 0, 0, 0,\n",
            "       0, 0, 0, 0, 0, 0, 0, 0, 0, 0, 0, 0, 0, 0, 0, 0, 0, 0, 0, 0, 0, 0,\n",
            "       0, 0, 0, 0, 0, 0, 0, 0, 0, 0, 0, 0, 0, 0, 0, 0, 0, 0, 0, 0, 0, 0,\n",
            "       0, 0, 0, 0, 0, 0, 0, 0, 0, 0, 0, 0, 0, 0, 0, 0, 0, 0, 0, 0, 0, 0,\n",
            "       0, 0, 0, 0, 0, 0, 0, 0, 0, 0, 0, 0, 0, 0, 0, 0, 0, 0, 0, 0, 0, 0,\n",
            "       0, 0, 0, 0, 0, 0, 0, 0, 0, 0, 0, 0, 0, 0, 0, 0, 0, 0, 0, 0]))\n"
          ]
        }
      ]
    },
    {
      "cell_type": "code",
      "source": [],
      "metadata": {
        "id": "ks4vhQijG9UL"
      },
      "execution_count": null,
      "outputs": []
    },
    {
      "cell_type": "code",
      "source": [],
      "metadata": {
        "id": "Aj6Mcjr9G9Wq"
      },
      "execution_count": null,
      "outputs": []
    },
    {
      "cell_type": "code",
      "source": [],
      "metadata": {
        "id": "ggyMmSORG9aw"
      },
      "execution_count": null,
      "outputs": []
    },
    {
      "cell_type": "code",
      "source": [
        "#x=[22,46,51,60,64]\n",
        "#b=np.array([81.618,\n",
        "#88.033,\n",
        "#87.855,\n",
        "#91.217,\n",
        "#71.71])\n",
        "#n=np.array([81.784-b[0],\n",
        "#84.569            -b[1],\n",
        "#87.717            -b[2],\n",
        "#92.750            -b[3],\n",
        "#68.450            -b[4]])\n",
        "#awe=np.array([81.629-n[0],\n",
        "#87.165              -n[1],\n",
        "#86.364              -n[2],\n",
        "#90.886              -n[3],\n",
        "#66.920              -n[4]])\n",
        "#dis=np.array([82.611-awe[0],\n",
        "#85.561              -awe[1],\n",
        "#86.776              -awe[2],\n",
        "#92.500              -awe[3],\n",
        "#68.360              -awe[4]])\n",
        "#surr=np.array([75.808-dis[0],\n",
        "#86.227               -dis[1],\n",
        "#83.338               -dis[2],\n",
        "#95.374               -dis[3],\n",
        "#69.480               -dis[4]])\n",
        "#anger=np.array([77.117-surr[0],\n",
        "#85.878                -surr[1],\n",
        "#84.966                -surr[2],\n",
        "#97.400                -surr[3],\n",
        "#65.940                -surr[4]])\n",
        "#enth=np.array([80.366-anger[0],\n",
        "#84.954               -anger[1],\n",
        "#85.189               -anger[2],\n",
        "#88.758               -anger[3],\n",
        "#76.230               -anger[4]])\n",
        "#liking=np.array([79.017-enth[0],\n",
        "#81.991                 -enth[1],\n",
        "#81.892                 -enth[2],\n",
        "#91.200                 -enth[3],\n",
        "#72.990                 -enth[4]])\n",
        "#fear=np.array([77.013-liking[0],\n",
        "#85.454               -liking[1],\n",
        "#81.985               -liking[2],\n",
        "#93.320               -liking[3],\n",
        "#79.730               -liking[4]])\n",
        "#amusement=np.array([75.743-fear[0],\n",
        "#79.869                    -fear[1],\n",
        "#82.769                    -fear[2],\n",
        "#91.812                    -fear[3],\n",
        "#74.170                    -fear[4]])\n",
        "#sad=np.array([74.589-sad[0],\n",
        "#84.071              -sad[1],\n",
        "#83.502              -sad[2],\n",
        "#89.994              -sad[3],\n",
        "#66.480              -sad[4],])"
      ],
      "metadata": {
        "id": "0YadQuLpFCSW"
      },
      "execution_count": 467,
      "outputs": []
    },
    {
      "cell_type": "code",
      "source": [
        "#plt.figure(figsize=(35,15))\n",
        "#plt.bar(x, b, color='gray')\n",
        "#plt.bar(x, n, bottom=b, color='dimgray')\n",
        "#plt.bar(x, awe, bottom=b+n, color='b')\n",
        "#plt.bar(x, dis, bottom=b+n+awe, color='g')\n",
        "#plt.bar(x, surr, bottom=b+n+awe+dis, color='y')\n",
        "#plt.bar(x, anger, bottom=b+n+awe+dis+surr, color='darkred')\n",
        "#plt.bar(x, enth, bottom=b+n+awe+dis+surr+anger, color='crimson')\n",
        "#plt.bar(x, liking, bottom=b+n+awe+dis+surr+anger+enth, color='r')\n",
        "#plt.bar(x, fear, bottom=b+n+awe+dis+surr+anger+enth+liking, color='orange')\n",
        "#plt.bar(x, amusement, bottom=b+n+awe+dis+surr+anger+enth+liking+fear, color='cyan')\n",
        "#plt.bar(x, sad, bottom=b+n+awe+dis+surr+anger+enth+liking+fear+amusement, color='peru')\n",
        "#\n",
        "#plt.xlabel(\"Base_line(HR)\")\n",
        "#plt.ylabel(\"Participant\")\n",
        "#plt.xticks([22,46,51,60,64], x)\n",
        "#plt.legend(target,loc='upper left')\n",
        "#plt.title(\"zzz\" loc ='left')\n",
        "#plt.show()\n"
      ],
      "metadata": {
        "colab": {
          "base_uri": "https://localhost:8080/",
          "height": 914
        },
        "id": "j_zeBp7iN_Ll",
        "outputId": "f2523dd7-6cb8-4197-c561-9fd1fcd7735e"
      },
      "execution_count": 470,
      "outputs": [
        {
          "output_type": "display_data",
          "data": {
            "text/plain": [
              "<Figure size 2520x1080 with 1 Axes>"
            ],
            "image/png": "[encoded data removed]"
          },
          "metadata": {
            "needs_background": "light"
          }
        }
      ]
    },
    {
      "cell_type": "code",
      "source": [],
      "metadata": {
        "id": "ai22fzDfQyfr"
      },
      "execution_count": null,
      "outputs": []
    }
  ],
  "metadata": {
    "accelerator": "GPU",
    "colab": {
      "provenance": []
    },
    "gpuClass": "standard",
    "kernelspec": {
      "display_name": "Python 3",
      "name": "python3"
    },
    "language_info": {
      "name": "python"
    }
  },
  "nbformat": 4,
  "nbformat_minor": 0
}