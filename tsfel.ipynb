{
  "cells": [
    {
      "cell_type": "markdown",
      "metadata": {
        "id": "view-in-github",
        "colab_type": "text"
      },
      "source": [
        "<a href=\"https://colab.research.google.com/github/abdulrahmanalaa123/Graduation_Project/blob/Honda/tsfel.ipynb\" target=\"_parent\"><img src=\"https://colab.research.google.com/assets/colab-badge.svg\" alt=\"Open In Colab\"/></a>"
      ]
    },
    {
      "cell_type": "code",
      "execution_count": null,
      "metadata": {
        "colab": {
          "base_uri": "https://localhost:8080/"
        },
        "id": "pfz4WjihvFn5",
        "outputId": "d0f7b395-39f2-42df-a39c-40a49e94b140"
      },
      "outputs": [
        {
          "output_type": "stream",
          "name": "stdout",
          "text": [
            "Looking in indexes: https://pypi.org/simple, https://us-python.pkg.dev/colab-wheels/public/simple/\n",
            "Collecting pickle5\n",
            "  Downloading pickle5-0.0.11.tar.gz (132 kB)\n",
            "\u001b[2K     \u001b[90m━━━━━━━━━━━━━━━━━━━━━━━━━━━━━━━━━━━━━━━\u001b[0m \u001b[32m132.1/132.1 kB\u001b[0m \u001b[31m2.5 MB/s\u001b[0m eta \u001b[36m0:00:00\u001b[0m\n",
            "\u001b[?25h  Preparing metadata (setup.py) ... \u001b[?25l\u001b[?25hdone\n",
            "Building wheels for collected packages: pickle5\n",
            "  Building wheel for pickle5 (setup.py) ... \u001b[?25l\u001b[?25hdone\n",
            "  Created wheel for pickle5: filename=pickle5-0.0.11-cp310-cp310-linux_x86_64.whl size=256434 sha256=b9d6fd460940b0f809dc7ce3f58d18b9c81feb9ae1d73097df83e202b732b503\n",
            "  Stored in directory: /root/.cache/pip/wheels/7d/14/ef/4aab19d27fa8e58772be5c71c16add0426acf9e1f64353235c\n",
            "Successfully built pickle5\n",
            "Installing collected packages: pickle5\n",
            "Successfully installed pickle5-0.0.11\n",
            "Looking in indexes: https://pypi.org/simple, https://us-python.pkg.dev/colab-wheels/public/simple/\n",
            "Collecting tsfel\n",
            "  Downloading tsfel-0.1.5-py3-none-any.whl (46 kB)\n",
            "\u001b[2K     \u001b[90m━━━━━━━━━━━━━━━━━━━━━━━━━━━━━━━━━━━━━━━━\u001b[0m \u001b[32m46.9/46.9 kB\u001b[0m \u001b[31m2.3 MB/s\u001b[0m eta \u001b[36m0:00:00\u001b[0m\n",
            "\u001b[?25hRequirement already satisfied: setuptools>=47.1.1 in /usr/local/lib/python3.10/dist-packages (from tsfel) (67.7.2)\n",
            "Requirement already satisfied: Sphinx>=1.8.5 in /usr/local/lib/python3.10/dist-packages (from tsfel) (3.5.4)\n",
            "Requirement already satisfied: scipy>=1.7.3 in /usr/local/lib/python3.10/dist-packages (from tsfel) (1.10.1)\n",
            "Requirement already satisfied: gspread>=3.1.0 in /usr/local/lib/python3.10/dist-packages (from tsfel) (3.4.2)\n",
            "Requirement already satisfied: numpy>=1.18.5 in /usr/local/lib/python3.10/dist-packages (from tsfel) (1.22.4)\n",
            "Requirement already satisfied: pandas>=1.5.3 in /usr/local/lib/python3.10/dist-packages (from tsfel) (1.5.3)\n",
            "Requirement already satisfied: ipython>=7.4.0 in /usr/local/lib/python3.10/dist-packages (from tsfel) (7.34.0)\n",
            "Requirement already satisfied: oauth2client>=4.1.3 in /usr/local/lib/python3.10/dist-packages (from tsfel) (4.1.3)\n",
            "Requirement already satisfied: requests>=2.2.1 in /usr/local/lib/python3.10/dist-packages (from gspread>=3.1.0->tsfel) (2.27.1)\n",
            "Requirement already satisfied: google-auth in /usr/local/lib/python3.10/dist-packages (from gspread>=3.1.0->tsfel) (2.17.3)\n",
            "Requirement already satisfied: pexpect>4.3 in /usr/local/lib/python3.10/dist-packages (from ipython>=7.4.0->tsfel) (4.8.0)\n",
            "Requirement already satisfied: backcall in /usr/local/lib/python3.10/dist-packages (from ipython>=7.4.0->tsfel) (0.2.0)\n",
            "Requirement already satisfied: pickleshare in /usr/local/lib/python3.10/dist-packages (from ipython>=7.4.0->tsfel) (0.7.5)\n",
            "Requirement already satisfied: matplotlib-inline in /usr/local/lib/python3.10/dist-packages (from ipython>=7.4.0->tsfel) (0.1.6)\n",
            "Requirement already satisfied: traitlets>=4.2 in /usr/local/lib/python3.10/dist-packages (from ipython>=7.4.0->tsfel) (5.7.1)\n",
            "Requirement already satisfied: prompt-toolkit!=3.0.0,!=3.0.1,<3.1.0,>=2.0.0 in /usr/local/lib/python3.10/dist-packages (from ipython>=7.4.0->tsfel) (3.0.38)\n",
            "Requirement already satisfied: pygments in /usr/local/lib/python3.10/dist-packages (from ipython>=7.4.0->tsfel) (2.14.0)\n",
            "Requirement already satisfied: decorator in /usr/local/lib/python3.10/dist-packages (from ipython>=7.4.0->tsfel) (4.4.2)\n",
            "Collecting jedi>=0.16\n",
            "  Downloading jedi-0.18.2-py2.py3-none-any.whl (1.6 MB)\n",
            "\u001b[2K     \u001b[90m━━━━━━━━━━━━━━━━━━━━━━━━━━━━━━━━━━━━━━━━\u001b[0m \u001b[32m1.6/1.6 MB\u001b[0m \u001b[31m17.1 MB/s\u001b[0m eta \u001b[36m0:00:00\u001b[0m\n",
            "\u001b[?25hRequirement already satisfied: rsa>=3.1.4 in /usr/local/lib/python3.10/dist-packages (from oauth2client>=4.1.3->tsfel) (4.9)\n",
            "Requirement already satisfied: pyasn1-modules>=0.0.5 in /usr/local/lib/python3.10/dist-packages (from oauth2client>=4.1.3->tsfel) (0.3.0)\n",
            "Requirement already satisfied: pyasn1>=0.1.7 in /usr/local/lib/python3.10/dist-packages (from oauth2client>=4.1.3->tsfel) (0.5.0)\n",
            "Requirement already satisfied: six>=1.6.1 in /usr/local/lib/python3.10/dist-packages (from oauth2client>=4.1.3->tsfel) (1.16.0)\n",
            "Requirement already satisfied: httplib2>=0.9.1 in /usr/local/lib/python3.10/dist-packages (from oauth2client>=4.1.3->tsfel) (0.21.0)\n",
            "Requirement already satisfied: pytz>=2020.1 in /usr/local/lib/python3.10/dist-packages (from pandas>=1.5.3->tsfel) (2022.7.1)\n",
            "Requirement already satisfied: python-dateutil>=2.8.1 in /usr/local/lib/python3.10/dist-packages (from pandas>=1.5.3->tsfel) (2.8.2)\n",
            "Requirement already satisfied: sphinxcontrib-applehelp in /usr/local/lib/python3.10/dist-packages (from Sphinx>=1.8.5->tsfel) (1.0.4)\n",
            "Requirement already satisfied: sphinxcontrib-jsmath in /usr/local/lib/python3.10/dist-packages (from Sphinx>=1.8.5->tsfel) (1.0.1)\n",
            "Requirement already satisfied: babel>=1.3 in /usr/local/lib/python3.10/dist-packages (from Sphinx>=1.8.5->tsfel) (2.12.1)\n",
            "Requirement already satisfied: snowballstemmer>=1.1 in /usr/local/lib/python3.10/dist-packages (from Sphinx>=1.8.5->tsfel) (2.2.0)\n",
            "Requirement already satisfied: imagesize in /usr/local/lib/python3.10/dist-packages (from Sphinx>=1.8.5->tsfel) (1.4.1)\n",
            "Requirement already satisfied: Jinja2>=2.3 in /usr/local/lib/python3.10/dist-packages (from Sphinx>=1.8.5->tsfel) (3.1.2)\n",
            "Requirement already satisfied: packaging in /usr/local/lib/python3.10/dist-packages (from Sphinx>=1.8.5->tsfel) (23.1)\n",
            "Requirement already satisfied: sphinxcontrib-serializinghtml in /usr/local/lib/python3.10/dist-packages (from Sphinx>=1.8.5->tsfel) (1.1.5)\n",
            "Requirement already satisfied: sphinxcontrib-qthelp in /usr/local/lib/python3.10/dist-packages (from Sphinx>=1.8.5->tsfel) (1.0.3)\n",
            "Requirement already satisfied: docutils<0.17,>=0.12 in /usr/local/lib/python3.10/dist-packages (from Sphinx>=1.8.5->tsfel) (0.16)\n",
            "Requirement already satisfied: alabaster<0.8,>=0.7 in /usr/local/lib/python3.10/dist-packages (from Sphinx>=1.8.5->tsfel) (0.7.13)\n",
            "Requirement already satisfied: sphinxcontrib-devhelp in /usr/local/lib/python3.10/dist-packages (from Sphinx>=1.8.5->tsfel) (1.0.2)\n",
            "Requirement already satisfied: sphinxcontrib-htmlhelp in /usr/local/lib/python3.10/dist-packages (from Sphinx>=1.8.5->tsfel) (2.0.1)\n",
            "Requirement already satisfied: pyparsing!=3.0.0,!=3.0.1,!=3.0.2,!=3.0.3,<4,>=2.4.2 in /usr/local/lib/python3.10/dist-packages (from httplib2>=0.9.1->oauth2client>=4.1.3->tsfel) (3.0.9)\n",
            "Requirement already satisfied: parso<0.9.0,>=0.8.0 in /usr/local/lib/python3.10/dist-packages (from jedi>=0.16->ipython>=7.4.0->tsfel) (0.8.3)\n",
            "Requirement already satisfied: MarkupSafe>=2.0 in /usr/local/lib/python3.10/dist-packages (from Jinja2>=2.3->Sphinx>=1.8.5->tsfel) (2.1.2)\n",
            "Requirement already satisfied: ptyprocess>=0.5 in /usr/local/lib/python3.10/dist-packages (from pexpect>4.3->ipython>=7.4.0->tsfel) (0.7.0)\n",
            "Requirement already satisfied: wcwidth in /usr/local/lib/python3.10/dist-packages (from prompt-toolkit!=3.0.0,!=3.0.1,<3.1.0,>=2.0.0->ipython>=7.4.0->tsfel) (0.2.6)\n",
            "Requirement already satisfied: idna<4,>=2.5 in /usr/local/lib/python3.10/dist-packages (from requests>=2.2.1->gspread>=3.1.0->tsfel) (3.4)\n",
            "Requirement already satisfied: charset-normalizer~=2.0.0 in /usr/local/lib/python3.10/dist-packages (from requests>=2.2.1->gspread>=3.1.0->tsfel) (2.0.12)\n",
            "Requirement already satisfied: urllib3<1.27,>=1.21.1 in /usr/local/lib/python3.10/dist-packages (from requests>=2.2.1->gspread>=3.1.0->tsfel) (1.26.15)\n",
            "Requirement already satisfied: certifi>=2017.4.17 in /usr/local/lib/python3.10/dist-packages (from requests>=2.2.1->gspread>=3.1.0->tsfel) (2022.12.7)\n",
            "Requirement already satisfied: cachetools<6.0,>=2.0.0 in /usr/local/lib/python3.10/dist-packages (from google-auth->gspread>=3.1.0->tsfel) (5.3.0)\n",
            "Installing collected packages: jedi, tsfel\n",
            "Successfully installed jedi-0.18.2 tsfel-0.1.5\n",
            "Mounted at /content/drive\n"
          ]
        }
      ],
      "source": [
        "!pip3 install pickle5\n",
        "!pip install tsfel\n",
        "import pickle5 as pickle\n",
        "import numpy as np\n",
        "import matplotlib.pyplot as plt\n",
        "import seaborn \n",
        "import pandas as pd\n",
        "import json\n",
        "import tensorflow as tf\n",
        "import tsfel as tsfel\n",
        "from re import L\n",
        "from operator import itemgetter\n",
        "from google.colab import files\n",
        "from keras.callbacks import EarlyStopping\n",
        "from sklearn.preprocessing import LabelEncoder\n",
        "from sklearn.model_selection import train_test_split\n",
        "from keras import models   # for model loading\n",
        "from sklearn.model_selection import GridSearchCV    \n",
        "from keras.models import Sequential\n",
        "from keras.layers import Dense\n",
        "from keras.layers import LSTM\n",
        "from keras.layers import Dropout\n",
        "from statsmodels.tsa.stattools import adfuller\n",
        "\n",
        "#%pip install pandas==1.4.1       unpickle problem\n",
        "from google.colab import drive\n",
        "from google.colab import files\n",
        "drive.mount('/content/drive')\n",
        "\n",
        "with open(\"/content/drive/MyDrive/Colab Notebooks/hr(tuples).pkl\", \"rb\") as f: \n",
        "    data = pickle.load(f)"
      ]
    },
    {
      "cell_type": "markdown",
      "source": [
        "1_replace ur data here"
      ],
      "metadata": {
        "id": "8Qpy-ddBYujv"
      }
    },
    {
      "cell_type": "code",
      "execution_count": null,
      "metadata": {
        "colab": {
          "base_uri": "https://localhost:8080/"
        },
        "id": "SeRNMcKss7Rm",
        "outputId": "3c803d08-595e-432b-e639-5740b5a40881"
      },
      "outputs": [
        {
          "output_type": "stream",
          "name": "stdout",
          "text": [
            "[[87 81 85 ... 77 76 84]\n",
            " [87 81 85 ... 77 76 84]\n",
            " [87 81 85 ... 76 76 84]\n",
            " ...\n",
            " [ 0  0  0 ...  0  0  0]\n",
            " [ 0  0  0 ...  0  0  0]\n",
            " [ 0  0  0 ...  0  0  0]]\n",
            "      Participant           Stage  0:0.0  0:0.099791  0:0.199582  0:0.299373  \\\n",
            "0              22        STIMULUS     87          87          87          87   \n",
            "1              22  QUESTIONNAIRES     85          85          85          85   \n",
            "2              22         WASHOUT     80          80          80          80   \n",
            "3              22        STIMULUS     81          81          81          81   \n",
            "4              22  QUESTIONNAIRES     83          82          83          83   \n",
            "...           ...             ...    ...         ...         ...         ...   \n",
            "1339           64        STIMULUS     78          78          78          78   \n",
            "1340           64  QUESTIONNAIRES     77          77          77          77   \n",
            "1341           64         WASHOUT      0           0           0           0   \n",
            "1342           64        STIMULUS     69          68          69          69   \n",
            "1343           64  QUESTIONNAIRES     66          65          65          65   \n",
            "\n",
            "      0:0.399164  0:0.49895500000000004  0:0.598746  0:0.6985370000000001  \\\n",
            "0             87                     87          87                    87   \n",
            "1             85                     85          85                    85   \n",
            "2             80                     80          79                    79   \n",
            "3             81                     81          81                    81   \n",
            "4             83                     82          82                    82   \n",
            "...          ...                    ...         ...                   ...   \n",
            "1339          78                     78          78                    78   \n",
            "1340          77                     77          77                    77   \n",
            "1341         -10                    -10         -10                   -10   \n",
            "1342          69                     69          68                    68   \n",
            "1343          65                     65          65                    65   \n",
            "\n",
            "      ...  SURPRISE  ANGER  ENTHUSIASM  LIKING  FEAR  AMUSEMENT  SADNESS  \\\n",
            "0     ...         1      1           2       1     1          2        1   \n",
            "1     ...         1      1           2       1     1          2        1   \n",
            "2     ...         1      1           1       1     1          1        1   \n",
            "3     ...         1      1           1       1     1          1        1   \n",
            "4     ...         1      1           1       1     1          1        1   \n",
            "...   ...       ...    ...         ...     ...   ...        ...      ...   \n",
            "1339  ...         1      1           3       1     1          1        1   \n",
            "1340  ...         1      1           3       1     1          1        1   \n",
            "1341  ...         1      1           5       1     1          1        1   \n",
            "1342  ...         1      1           5       1     1          1        1   \n",
            "1343  ...         1      1           5       1     1          1        1   \n",
            "\n",
            "      VALENCE  AROUSAL  MOTIVATION  \n",
            "0           5        2           4  \n",
            "1           5        2           4  \n",
            "2           4        2           5  \n",
            "3           4        2           5  \n",
            "4           4        2           5  \n",
            "...       ...      ...         ...  \n",
            "1339        5        2           6  \n",
            "1340        5        2           6  \n",
            "1341        9        8           9  \n",
            "1342        9        8           9  \n",
            "1343        9        8           9  \n",
            "\n",
            "[1344 rows x 6305 columns]\n"
          ]
        }
      ],
      "source": [
        "def evensampler(data):\n",
        "    mask = data[\"Stage\"] == \"STIMULUS\"\n",
        "    participants = data[\"Participant\"].unique()\n",
        "    trainval = int(0.9*len(participants))\n",
        "    trainpar = participants[:trainval]\n",
        "    testpar = participants[trainval:]\n",
        "    masktrain = data[\"Participant\"].isin(trainpar)\n",
        "    masktest = data[\"Participant\"].isin(testpar)\n",
        "    train = data.loc[mask&masktrain,data.columns[2:-13]].values\n",
        "    traintarget = data.loc[mask&masktrain,\"Target\"].values\n",
        "    test = data.loc[mask&masktest,data.columns[2:-13]].values\n",
        "    testtarget = data.loc[mask&masktest,\"Target\"].values\n",
        "\n",
        "    return train,test,traintarget,testtarget\n",
        "def getter(x):\n",
        "    if isinstance(x,tuple):\n",
        "      \n",
        "        return itemgetter(0)(x)\n",
        "    else:\n",
        "        return x\n",
        "def splittuple(dat):\n",
        "  return dat.applymap(lambda x:getter(x))\n",
        "\n",
        "hrdata=splittuple(data)\n",
        "xtrain1,xtest1,ytrain1,ytest1 = evensampler(hrdata)\n",
        "print(xtrain1.T)\n",
        "cols=hrdata.columns[2:-13]\n",
        "X_train_sig = pd.DataFrame(xtrain1.T, index=[cols])\n",
        "Tx_train=X_train_sig\n",
        "#Tx_train = Tx_train.replace(0, np.nan)\n",
        "print(hrdata)"
      ]
    },
    {
      "cell_type": "code",
      "execution_count": null,
      "metadata": {
        "colab": {
          "base_uri": "https://localhost:8080/"
        },
        "id": "Ha1xf4qcLhlt",
        "outputId": "4a9d4cf8-42f2-47c3-8de7-ae55223e26e6"
      },
      "outputs": [
        {
          "output_type": "execute_result",
          "data": {
            "text/plain": [
              "(407, 6290)"
            ]
          },
          "metadata": {},
          "execution_count": 14
        }
      ],
      "source": [
        "xtrain1.shape"
      ]
    },
    {
      "cell_type": "markdown",
      "source": [
        "2_run this to extract features"
      ],
      "metadata": {
        "id": "ddLEK1p7Y1da"
      }
    },
    {
      "cell_type": "code",
      "execution_count": null,
      "metadata": {
        "colab": {
          "base_uri": "https://localhost:8080/",
          "height": 1000
        },
        "id": "DtNmHW8zJxbO",
        "outputId": "5d069449-47cf-42c5-8f4c-8fb2cf8985a7"
      },
      "outputs": [
        {
          "output_type": "stream",
          "name": "stdout",
          "text": [
            "(6290,)\n",
            "*** Feature extraction started ***\n"
          ]
        },
        {
          "output_type": "display_data",
          "data": {
            "text/plain": [
              "<IPython.core.display.HTML object>"
            ],
            "text/html": [
              "\n",
              "              <p>\n",
              "                  Progress: 100% Complete\n",
              "              <p/>            \n",
              "              <progress\n",
              "                  value='6'\n",
              "                  max='6',\n",
              "                  style='width: 25%',\n",
              "              >\n",
              "                  6\n",
              "              </progress>\n",
              "\n",
              "    "
            ]
          },
          "metadata": {}
        },
        {
          "output_type": "stream",
          "name": "stdout",
          "text": [
            "\n",
            "*** Feature extraction finished ***\n",
            "(6, 389)\n",
            "features names is : Index(['0_Absolute energy', '0_Area under the curve', '0_Autocorrelation',\n",
            "       '0_Centroid', '0_ECDF Percentile Count_0', '0_ECDF Percentile Count_1',\n",
            "       '0_ECDF Percentile_0', '0_ECDF Percentile_1', '0_ECDF_0', '0_ECDF_1',\n",
            "       ...\n",
            "       '0_Wavelet variance_0', '0_Wavelet variance_1', '0_Wavelet variance_2',\n",
            "       '0_Wavelet variance_3', '0_Wavelet variance_4', '0_Wavelet variance_5',\n",
            "       '0_Wavelet variance_6', '0_Wavelet variance_7', '0_Wavelet variance_8',\n",
            "       '0_Zero crossing rate'],\n",
            "      dtype='object', length=389)\n",
            "data shape before extracting features (6290,)\n",
            "*** Feature extraction started ***\n"
          ]
        },
        {
          "output_type": "display_data",
          "data": {
            "text/plain": [
              "<IPython.core.display.HTML object>"
            ],
            "text/html": [
              "\n",
              "              <p>\n",
              "                  Progress: 100% Complete\n",
              "              <p/>            \n",
              "              <progress\n",
              "                  value='6'\n",
              "                  max='6',\n",
              "                  style='width: 25%',\n",
              "              >\n",
              "                  6\n",
              "              </progress>\n",
              "\n",
              "    "
            ]
          },
          "metadata": {}
        },
        {
          "output_type": "stream",
          "name": "stdout",
          "text": [
            "\n",
            "*** Feature extraction finished ***\n",
            "features shape is : (6, 389)\n",
            "number of windows : 6\n",
            "number of features 389\n",
            "data shape before extracting features (6290,)\n",
            "*** Feature extraction started ***\n"
          ]
        },
        {
          "output_type": "display_data",
          "data": {
            "text/plain": [
              "<IPython.core.display.HTML object>"
            ],
            "text/html": [
              "\n",
              "              <p>\n",
              "                  Progress: 100% Complete\n",
              "              <p/>            \n",
              "              <progress\n",
              "                  value='6'\n",
              "                  max='6',\n",
              "                  style='width: 25%',\n",
              "              >\n",
              "                  6\n",
              "              </progress>\n",
              "\n",
              "    "
            ]
          },
          "metadata": {}
        },
        {
          "output_type": "stream",
          "name": "stdout",
          "text": [
            "\n",
            "*** Feature extraction finished ***\n",
            "features shape is : (6, 389)\n",
            "number of windows : 6\n",
            "number of features 389\n",
            "data shape before extracting features (6290,)\n",
            "*** Feature extraction started ***\n"
          ]
        },
        {
          "output_type": "display_data",
          "data": {
            "text/plain": [
              "<IPython.core.display.HTML object>"
            ],
            "text/html": [
              "\n",
              "              <p>\n",
              "                  Progress: 100% Complete\n",
              "              <p/>            \n",
              "              <progress\n",
              "                  value='6'\n",
              "                  max='6',\n",
              "                  style='width: 25%',\n",
              "              >\n",
              "                  6\n",
              "              </progress>\n",
              "\n",
              "    "
            ]
          },
          "metadata": {}
        },
        {
          "output_type": "stream",
          "name": "stdout",
          "text": [
            "\n",
            "*** Feature extraction finished ***\n",
            "features shape is : (6, 389)\n",
            "number of windows : 6\n",
            "number of features 389\n",
            "data shape before extracting features (6290,)\n",
            "*** Feature extraction started ***\n"
          ]
        },
        {
          "output_type": "display_data",
          "data": {
            "text/plain": [
              "<IPython.core.display.HTML object>"
            ],
            "text/html": [
              "\n",
              "              <p>\n",
              "                  Progress: 100% Complete\n",
              "              <p/>            \n",
              "              <progress\n",
              "                  value='6'\n",
              "                  max='6',\n",
              "                  style='width: 25%',\n",
              "              >\n",
              "                  6\n",
              "              </progress>\n",
              "\n",
              "    "
            ]
          },
          "metadata": {}
        },
        {
          "output_type": "stream",
          "name": "stdout",
          "text": [
            "\n",
            "*** Feature extraction finished ***\n",
            "features shape is : (6, 389)\n",
            "number of windows : 6\n",
            "number of features 389\n",
            "data shape before extracting features (6290,)\n",
            "*** Feature extraction started ***\n"
          ]
        },
        {
          "output_type": "display_data",
          "data": {
            "text/plain": [
              "<IPython.core.display.HTML object>"
            ],
            "text/html": [
              "\n",
              "              <p>\n",
              "                  Progress: 100% Complete\n",
              "              <p/>            \n",
              "              <progress\n",
              "                  value='6'\n",
              "                  max='6',\n",
              "                  style='width: 25%',\n",
              "              >\n",
              "                  6\n",
              "              </progress>\n",
              "\n",
              "    "
            ]
          },
          "metadata": {}
        },
        {
          "output_type": "stream",
          "name": "stdout",
          "text": [
            "\n",
            "*** Feature extraction finished ***\n",
            "features shape is : (6, 389)\n",
            "number of windows : 6\n",
            "number of features 389\n",
            "data shape before extracting features (6290,)\n",
            "*** Feature extraction started ***\n"
          ]
        },
        {
          "output_type": "display_data",
          "data": {
            "text/plain": [
              "<IPython.core.display.HTML object>"
            ],
            "text/html": [
              "\n",
              "              <p>\n",
              "                  Progress: 100% Complete\n",
              "              <p/>            \n",
              "              <progress\n",
              "                  value='6'\n",
              "                  max='6',\n",
              "                  style='width: 25%',\n",
              "              >\n",
              "                  6\n",
              "              </progress>\n",
              "\n",
              "    "
            ]
          },
          "metadata": {}
        },
        {
          "output_type": "stream",
          "name": "stdout",
          "text": [
            "\n",
            "*** Feature extraction finished ***\n",
            "features shape is : (6, 389)\n",
            "number of windows : 6\n",
            "number of features 389\n",
            "data shape before extracting features (6290,)\n",
            "*** Feature extraction started ***\n"
          ]
        },
        {
          "output_type": "display_data",
          "data": {
            "text/plain": [
              "<IPython.core.display.HTML object>"
            ],
            "text/html": [
              "\n",
              "              <p>\n",
              "                  Progress: 100% Complete\n",
              "              <p/>            \n",
              "              <progress\n",
              "                  value='6'\n",
              "                  max='6',\n",
              "                  style='width: 25%',\n",
              "              >\n",
              "                  6\n",
              "              </progress>\n",
              "\n",
              "    "
            ]
          },
          "metadata": {}
        },
        {
          "output_type": "stream",
          "name": "stdout",
          "text": [
            "\n",
            "*** Feature extraction finished ***\n",
            "features shape is : (6, 389)\n",
            "number of windows : 6\n",
            "number of features 389\n",
            "data shape before extracting features (6290,)\n",
            "*** Feature extraction started ***\n"
          ]
        },
        {
          "output_type": "display_data",
          "data": {
            "text/plain": [
              "<IPython.core.display.HTML object>"
            ],
            "text/html": [
              "\n",
              "              <p>\n",
              "                  Progress: 100% Complete\n",
              "              <p/>            \n",
              "              <progress\n",
              "                  value='6'\n",
              "                  max='6',\n",
              "                  style='width: 25%',\n",
              "              >\n",
              "                  6\n",
              "              </progress>\n",
              "\n",
              "    "
            ]
          },
          "metadata": {}
        },
        {
          "output_type": "stream",
          "name": "stdout",
          "text": [
            "\n",
            "*** Feature extraction finished ***\n",
            "features shape is : (6, 389)\n",
            "number of windows : 6\n",
            "number of features 389\n",
            "data shape before extracting features (6290,)\n",
            "*** Feature extraction started ***\n"
          ]
        },
        {
          "output_type": "display_data",
          "data": {
            "text/plain": [
              "<IPython.core.display.HTML object>"
            ],
            "text/html": [
              "\n",
              "              <p>\n",
              "                  Progress: 100% Complete\n",
              "              <p/>            \n",
              "              <progress\n",
              "                  value='6'\n",
              "                  max='6',\n",
              "                  style='width: 25%',\n",
              "              >\n",
              "                  6\n",
              "              </progress>\n",
              "\n",
              "    "
            ]
          },
          "metadata": {}
        },
        {
          "output_type": "stream",
          "name": "stdout",
          "text": [
            "\n",
            "*** Feature extraction finished ***\n",
            "features shape is : (6, 389)\n",
            "number of windows : 6\n",
            "number of features 389\n",
            "data shape before extracting features (6290,)\n",
            "*** Feature extraction started ***\n"
          ]
        },
        {
          "output_type": "display_data",
          "data": {
            "text/plain": [
              "<IPython.core.display.HTML object>"
            ],
            "text/html": [
              "\n",
              "              <p>\n",
              "                  Progress: 100% Complete\n",
              "              <p/>            \n",
              "              <progress\n",
              "                  value='6'\n",
              "                  max='6',\n",
              "                  style='width: 25%',\n",
              "              >\n",
              "                  6\n",
              "              </progress>\n",
              "\n",
              "    "
            ]
          },
          "metadata": {}
        },
        {
          "output_type": "stream",
          "name": "stdout",
          "text": [
            "\n",
            "*** Feature extraction finished ***\n",
            "features shape is : (6, 389)\n",
            "number of windows : 6\n",
            "number of features 389\n",
            "data shape before extracting features (6290,)\n",
            "*** Feature extraction started ***\n"
          ]
        },
        {
          "output_type": "display_data",
          "data": {
            "text/plain": [
              "<IPython.core.display.HTML object>"
            ],
            "text/html": [
              "\n",
              "              <p>\n",
              "                  Progress: 100% Complete\n",
              "              <p/>            \n",
              "              <progress\n",
              "                  value='6'\n",
              "                  max='6',\n",
              "                  style='width: 25%',\n",
              "              >\n",
              "                  6\n",
              "              </progress>\n",
              "\n",
              "    "
            ]
          },
          "metadata": {}
        },
        {
          "output_type": "stream",
          "name": "stdout",
          "text": [
            "\n",
            "*** Feature extraction finished ***\n",
            "features shape is : (6, 389)\n",
            "number of windows : 6\n",
            "number of features 389\n",
            "data shape before extracting features (6290,)\n",
            "*** Feature extraction started ***\n"
          ]
        },
        {
          "output_type": "display_data",
          "data": {
            "text/plain": [
              "<IPython.core.display.HTML object>"
            ],
            "text/html": [
              "\n",
              "              <p>\n",
              "                  Progress: 100% Complete\n",
              "              <p/>            \n",
              "              <progress\n",
              "                  value='6'\n",
              "                  max='6',\n",
              "                  style='width: 25%',\n",
              "              >\n",
              "                  6\n",
              "              </progress>\n",
              "\n",
              "    "
            ]
          },
          "metadata": {}
        },
        {
          "output_type": "stream",
          "name": "stdout",
          "text": [
            "\n",
            "*** Feature extraction finished ***\n",
            "features shape is : (6, 389)\n",
            "number of windows : 6\n",
            "number of features 389\n",
            "data shape before extracting features (6290,)\n",
            "*** Feature extraction started ***\n"
          ]
        },
        {
          "output_type": "display_data",
          "data": {
            "text/plain": [
              "<IPython.core.display.HTML object>"
            ],
            "text/html": [
              "\n",
              "              <p>\n",
              "                  Progress: 100% Complete\n",
              "              <p/>            \n",
              "              <progress\n",
              "                  value='6'\n",
              "                  max='6',\n",
              "                  style='width: 25%',\n",
              "              >\n",
              "                  6\n",
              "              </progress>\n",
              "\n",
              "    "
            ]
          },
          "metadata": {}
        },
        {
          "output_type": "stream",
          "name": "stdout",
          "text": [
            "\n",
            "*** Feature extraction finished ***\n",
            "features shape is : (6, 389)\n",
            "number of windows : 6\n",
            "number of features 389\n",
            "data shape before extracting features (6290,)\n",
            "*** Feature extraction started ***\n"
          ]
        },
        {
          "output_type": "display_data",
          "data": {
            "text/plain": [
              "<IPython.core.display.HTML object>"
            ],
            "text/html": [
              "\n",
              "              <p>\n",
              "                  Progress: 100% Complete\n",
              "              <p/>            \n",
              "              <progress\n",
              "                  value='6'\n",
              "                  max='6',\n",
              "                  style='width: 25%',\n",
              "              >\n",
              "                  6\n",
              "              </progress>\n",
              "\n",
              "    "
            ]
          },
          "metadata": {}
        },
        {
          "output_type": "stream",
          "name": "stdout",
          "text": [
            "\n",
            "*** Feature extraction finished ***\n",
            "features shape is : (6, 389)\n",
            "number of windows : 6\n",
            "number of features 389\n",
            "data shape before extracting features (6290,)\n",
            "*** Feature extraction started ***\n"
          ]
        },
        {
          "output_type": "display_data",
          "data": {
            "text/plain": [
              "<IPython.core.display.HTML object>"
            ],
            "text/html": [
              "\n",
              "              <p>\n",
              "                  Progress: 100% Complete\n",
              "              <p/>            \n",
              "              <progress\n",
              "                  value='6'\n",
              "                  max='6',\n",
              "                  style='width: 25%',\n",
              "              >\n",
              "                  6\n",
              "              </progress>\n",
              "\n",
              "    "
            ]
          },
          "metadata": {}
        },
        {
          "output_type": "stream",
          "name": "stdout",
          "text": [
            "\n",
            "*** Feature extraction finished ***\n",
            "features shape is : (6, 389)\n",
            "number of windows : 6\n",
            "number of features 389\n",
            "data shape before extracting features (6290,)\n",
            "*** Feature extraction started ***\n"
          ]
        },
        {
          "output_type": "display_data",
          "data": {
            "text/plain": [
              "<IPython.core.display.HTML object>"
            ],
            "text/html": [
              "\n",
              "              <p>\n",
              "                  Progress: 100% Complete\n",
              "              <p/>            \n",
              "              <progress\n",
              "                  value='6'\n",
              "                  max='6',\n",
              "                  style='width: 25%',\n",
              "              >\n",
              "                  6\n",
              "              </progress>\n",
              "\n",
              "    "
            ]
          },
          "metadata": {}
        },
        {
          "output_type": "stream",
          "name": "stdout",
          "text": [
            "\n",
            "*** Feature extraction finished ***\n",
            "features shape is : (6, 389)\n",
            "number of windows : 6\n",
            "number of features 389\n",
            "data shape before extracting features (6290,)\n",
            "*** Feature extraction started ***\n"
          ]
        },
        {
          "output_type": "display_data",
          "data": {
            "text/plain": [
              "<IPython.core.display.HTML object>"
            ],
            "text/html": [
              "\n",
              "              <p>\n",
              "                  Progress: 100% Complete\n",
              "              <p/>            \n",
              "              <progress\n",
              "                  value='6'\n",
              "                  max='6',\n",
              "                  style='width: 25%',\n",
              "              >\n",
              "                  6\n",
              "              </progress>\n",
              "\n",
              "    "
            ]
          },
          "metadata": {}
        },
        {
          "output_type": "stream",
          "name": "stdout",
          "text": [
            "\n",
            "*** Feature extraction finished ***\n",
            "features shape is : (6, 389)\n",
            "number of windows : 6\n",
            "number of features 389\n",
            "data shape before extracting features (6290,)\n",
            "*** Feature extraction started ***\n"
          ]
        },
        {
          "output_type": "display_data",
          "data": {
            "text/plain": [
              "<IPython.core.display.HTML object>"
            ],
            "text/html": [
              "\n",
              "              <p>\n",
              "                  Progress: 100% Complete\n",
              "              <p/>            \n",
              "              <progress\n",
              "                  value='6'\n",
              "                  max='6',\n",
              "                  style='width: 25%',\n",
              "              >\n",
              "                  6\n",
              "              </progress>\n",
              "\n",
              "    "
            ]
          },
          "metadata": {}
        },
        {
          "output_type": "stream",
          "name": "stdout",
          "text": [
            "\n",
            "*** Feature extraction finished ***\n",
            "features shape is : (6, 389)\n",
            "number of windows : 6\n",
            "number of features 389\n",
            "data shape before extracting features (6290,)\n",
            "*** Feature extraction started ***\n"
          ]
        },
        {
          "output_type": "display_data",
          "data": {
            "text/plain": [
              "<IPython.core.display.HTML object>"
            ],
            "text/html": [
              "\n",
              "              <p>\n",
              "                  Progress: 100% Complete\n",
              "              <p/>            \n",
              "              <progress\n",
              "                  value='6'\n",
              "                  max='6',\n",
              "                  style='width: 25%',\n",
              "              >\n",
              "                  6\n",
              "              </progress>\n",
              "\n",
              "    "
            ]
          },
          "metadata": {}
        },
        {
          "output_type": "stream",
          "name": "stdout",
          "text": [
            "\n",
            "*** Feature extraction finished ***\n",
            "features shape is : (6, 389)\n",
            "number of windows : 6\n",
            "number of features 389\n",
            "data shape before extracting features (6290,)\n",
            "*** Feature extraction started ***\n"
          ]
        },
        {
          "output_type": "display_data",
          "data": {
            "text/plain": [
              "<IPython.core.display.HTML object>"
            ],
            "text/html": [
              "\n",
              "              <p>\n",
              "                  Progress: 100% Complete\n",
              "              <p/>            \n",
              "              <progress\n",
              "                  value='6'\n",
              "                  max='6',\n",
              "                  style='width: 25%',\n",
              "              >\n",
              "                  6\n",
              "              </progress>\n",
              "\n",
              "    "
            ]
          },
          "metadata": {}
        },
        {
          "output_type": "stream",
          "name": "stdout",
          "text": [
            "\n",
            "*** Feature extraction finished ***\n",
            "features shape is : (6, 389)\n",
            "number of windows : 6\n",
            "number of features 389\n",
            "data shape before extracting features (6290,)\n",
            "*** Feature extraction started ***\n"
          ]
        },
        {
          "output_type": "display_data",
          "data": {
            "text/plain": [
              "<IPython.core.display.HTML object>"
            ],
            "text/html": [
              "\n",
              "              <p>\n",
              "                  Progress: 100% Complete\n",
              "              <p/>            \n",
              "              <progress\n",
              "                  value='6'\n",
              "                  max='6',\n",
              "                  style='width: 25%',\n",
              "              >\n",
              "                  6\n",
              "              </progress>\n",
              "\n",
              "    "
            ]
          },
          "metadata": {}
        },
        {
          "output_type": "stream",
          "name": "stdout",
          "text": [
            "\n",
            "*** Feature extraction finished ***\n",
            "features shape is : (6, 389)\n",
            "number of windows : 6\n",
            "number of features 389\n",
            "data shape before extracting features (6290,)\n",
            "*** Feature extraction started ***\n"
          ]
        },
        {
          "output_type": "display_data",
          "data": {
            "text/plain": [
              "<IPython.core.display.HTML object>"
            ],
            "text/html": [
              "\n",
              "              <p>\n",
              "                  Progress: 100% Complete\n",
              "              <p/>            \n",
              "              <progress\n",
              "                  value='6'\n",
              "                  max='6',\n",
              "                  style='width: 25%',\n",
              "              >\n",
              "                  6\n",
              "              </progress>\n",
              "\n",
              "    "
            ]
          },
          "metadata": {}
        },
        {
          "output_type": "stream",
          "name": "stdout",
          "text": [
            "\n",
            "*** Feature extraction finished ***\n",
            "features shape is : (6, 389)\n",
            "number of windows : 6\n",
            "number of features 389\n",
            "data shape before extracting features (6290,)\n",
            "*** Feature extraction started ***\n"
          ]
        },
        {
          "output_type": "display_data",
          "data": {
            "text/plain": [
              "<IPython.core.display.HTML object>"
            ],
            "text/html": [
              "\n",
              "              <p>\n",
              "                  Progress: 100% Complete\n",
              "              <p/>            \n",
              "              <progress\n",
              "                  value='6'\n",
              "                  max='6',\n",
              "                  style='width: 25%',\n",
              "              >\n",
              "                  6\n",
              "              </progress>\n",
              "\n",
              "    "
            ]
          },
          "metadata": {}
        },
        {
          "output_type": "stream",
          "name": "stdout",
          "text": [
            "\n",
            "*** Feature extraction finished ***\n",
            "features shape is : (6, 389)\n",
            "number of windows : 6\n",
            "number of features 389\n",
            "data shape before extracting features (6290,)\n",
            "*** Feature extraction started ***\n"
          ]
        },
        {
          "output_type": "display_data",
          "data": {
            "text/plain": [
              "<IPython.core.display.HTML object>"
            ],
            "text/html": [
              "\n",
              "              <p>\n",
              "                  Progress: 100% Complete\n",
              "              <p/>            \n",
              "              <progress\n",
              "                  value='6'\n",
              "                  max='6',\n",
              "                  style='width: 25%',\n",
              "              >\n",
              "                  6\n",
              "              </progress>\n",
              "\n",
              "    "
            ]
          },
          "metadata": {}
        },
        {
          "output_type": "stream",
          "name": "stdout",
          "text": [
            "\n",
            "*** Feature extraction finished ***\n",
            "features shape is : (6, 389)\n",
            "number of windows : 6\n",
            "number of features 389\n",
            "data shape before extracting features (6290,)\n",
            "*** Feature extraction started ***\n"
          ]
        },
        {
          "output_type": "display_data",
          "data": {
            "text/plain": [
              "<IPython.core.display.HTML object>"
            ],
            "text/html": [
              "\n",
              "              <p>\n",
              "                  Progress: 100% Complete\n",
              "              <p/>            \n",
              "              <progress\n",
              "                  value='6'\n",
              "                  max='6',\n",
              "                  style='width: 25%',\n",
              "              >\n",
              "                  6\n",
              "              </progress>\n",
              "\n",
              "    "
            ]
          },
          "metadata": {}
        },
        {
          "output_type": "stream",
          "name": "stdout",
          "text": [
            "\n",
            "*** Feature extraction finished ***\n",
            "features shape is : (6, 389)\n",
            "number of windows : 6\n",
            "number of features 389\n",
            "data shape before extracting features (6290,)\n",
            "*** Feature extraction started ***\n"
          ]
        },
        {
          "output_type": "display_data",
          "data": {
            "text/plain": [
              "<IPython.core.display.HTML object>"
            ],
            "text/html": [
              "\n",
              "              <p>\n",
              "                  Progress: 100% Complete\n",
              "              <p/>            \n",
              "              <progress\n",
              "                  value='6'\n",
              "                  max='6',\n",
              "                  style='width: 25%',\n",
              "              >\n",
              "                  6\n",
              "              </progress>\n",
              "\n",
              "    "
            ]
          },
          "metadata": {}
        },
        {
          "output_type": "stream",
          "name": "stdout",
          "text": [
            "\n",
            "*** Feature extraction finished ***\n",
            "features shape is : (6, 389)\n",
            "number of windows : 6\n",
            "number of features 389\n",
            "data shape before extracting features (6290,)\n",
            "*** Feature extraction started ***\n"
          ]
        },
        {
          "output_type": "display_data",
          "data": {
            "text/plain": [
              "<IPython.core.display.HTML object>"
            ],
            "text/html": [
              "\n",
              "              <p>\n",
              "                  Progress: 100% Complete\n",
              "              <p/>            \n",
              "              <progress\n",
              "                  value='6'\n",
              "                  max='6',\n",
              "                  style='width: 25%',\n",
              "              >\n",
              "                  6\n",
              "              </progress>\n",
              "\n",
              "    "
            ]
          },
          "metadata": {}
        },
        {
          "output_type": "stream",
          "name": "stdout",
          "text": [
            "\n",
            "*** Feature extraction finished ***\n",
            "features shape is : (6, 389)\n",
            "number of windows : 6\n",
            "number of features 389\n",
            "data shape before extracting features (6290,)\n",
            "*** Feature extraction started ***\n"
          ]
        },
        {
          "output_type": "display_data",
          "data": {
            "text/plain": [
              "<IPython.core.display.HTML object>"
            ],
            "text/html": [
              "\n",
              "              <p>\n",
              "                  Progress: 100% Complete\n",
              "              <p/>            \n",
              "              <progress\n",
              "                  value='6'\n",
              "                  max='6',\n",
              "                  style='width: 25%',\n",
              "              >\n",
              "                  6\n",
              "              </progress>\n",
              "\n",
              "    "
            ]
          },
          "metadata": {}
        },
        {
          "output_type": "stream",
          "name": "stdout",
          "text": [
            "\n",
            "*** Feature extraction finished ***\n",
            "features shape is : (6, 389)\n",
            "number of windows : 6\n",
            "number of features 389\n",
            "data shape before extracting features (6290,)\n",
            "*** Feature extraction started ***\n"
          ]
        },
        {
          "output_type": "display_data",
          "data": {
            "text/plain": [
              "<IPython.core.display.HTML object>"
            ],
            "text/html": [
              "\n",
              "              <p>\n",
              "                  Progress: 100% Complete\n",
              "              <p/>            \n",
              "              <progress\n",
              "                  value='6'\n",
              "                  max='6',\n",
              "                  style='width: 25%',\n",
              "              >\n",
              "                  6\n",
              "              </progress>\n",
              "\n",
              "    "
            ]
          },
          "metadata": {}
        },
        {
          "output_type": "stream",
          "name": "stdout",
          "text": [
            "\n",
            "*** Feature extraction finished ***\n",
            "features shape is : (6, 389)\n",
            "number of windows : 6\n",
            "number of features 389\n",
            "data shape before extracting features (6290,)\n",
            "*** Feature extraction started ***\n"
          ]
        },
        {
          "output_type": "display_data",
          "data": {
            "text/plain": [
              "<IPython.core.display.HTML object>"
            ],
            "text/html": [
              "\n",
              "              <p>\n",
              "                  Progress: 100% Complete\n",
              "              <p/>            \n",
              "              <progress\n",
              "                  value='6'\n",
              "                  max='6',\n",
              "                  style='width: 25%',\n",
              "              >\n",
              "                  6\n",
              "              </progress>\n",
              "\n",
              "    "
            ]
          },
          "metadata": {}
        },
        {
          "output_type": "stream",
          "name": "stdout",
          "text": [
            "\n",
            "*** Feature extraction finished ***\n",
            "features shape is : (6, 389)\n",
            "number of windows : 6\n",
            "number of features 389\n",
            "data shape before extracting features (6290,)\n",
            "*** Feature extraction started ***\n"
          ]
        },
        {
          "output_type": "display_data",
          "data": {
            "text/plain": [
              "<IPython.core.display.HTML object>"
            ],
            "text/html": [
              "\n",
              "              <p>\n",
              "                  Progress: 100% Complete\n",
              "              <p/>            \n",
              "              <progress\n",
              "                  value='6'\n",
              "                  max='6',\n",
              "                  style='width: 25%',\n",
              "              >\n",
              "                  6\n",
              "              </progress>\n",
              "\n",
              "    "
            ]
          },
          "metadata": {}
        },
        {
          "output_type": "stream",
          "name": "stdout",
          "text": [
            "\n",
            "*** Feature extraction finished ***\n",
            "features shape is : (6, 389)\n",
            "number of windows : 6\n",
            "number of features 389\n",
            "data shape before extracting features (6290,)\n",
            "*** Feature extraction started ***\n"
          ]
        },
        {
          "output_type": "display_data",
          "data": {
            "text/plain": [
              "<IPython.core.display.HTML object>"
            ],
            "text/html": [
              "\n",
              "              <p>\n",
              "                  Progress: 100% Complete\n",
              "              <p/>            \n",
              "              <progress\n",
              "                  value='6'\n",
              "                  max='6',\n",
              "                  style='width: 25%',\n",
              "              >\n",
              "                  6\n",
              "              </progress>\n",
              "\n",
              "    "
            ]
          },
          "metadata": {}
        },
        {
          "output_type": "stream",
          "name": "stdout",
          "text": [
            "\n",
            "*** Feature extraction finished ***\n",
            "features shape is : (6, 389)\n",
            "number of windows : 6\n",
            "number of features 389\n",
            "data shape before extracting features (6290,)\n",
            "*** Feature extraction started ***\n"
          ]
        },
        {
          "output_type": "display_data",
          "data": {
            "text/plain": [
              "<IPython.core.display.HTML object>"
            ],
            "text/html": [
              "\n",
              "              <p>\n",
              "                  Progress: 100% Complete\n",
              "              <p/>            \n",
              "              <progress\n",
              "                  value='6'\n",
              "                  max='6',\n",
              "                  style='width: 25%',\n",
              "              >\n",
              "                  6\n",
              "              </progress>\n",
              "\n",
              "    "
            ]
          },
          "metadata": {}
        },
        {
          "output_type": "stream",
          "name": "stdout",
          "text": [
            "\n",
            "*** Feature extraction finished ***\n",
            "features shape is : (6, 389)\n",
            "number of windows : 6\n",
            "number of features 389\n",
            "data shape before extracting features (6290,)\n",
            "*** Feature extraction started ***\n"
          ]
        },
        {
          "output_type": "display_data",
          "data": {
            "text/plain": [
              "<IPython.core.display.HTML object>"
            ],
            "text/html": [
              "\n",
              "              <p>\n",
              "                  Progress: 100% Complete\n",
              "              <p/>            \n",
              "              <progress\n",
              "                  value='6'\n",
              "                  max='6',\n",
              "                  style='width: 25%',\n",
              "              >\n",
              "                  6\n",
              "              </progress>\n",
              "\n",
              "    "
            ]
          },
          "metadata": {}
        },
        {
          "output_type": "stream",
          "name": "stdout",
          "text": [
            "\n",
            "*** Feature extraction finished ***\n",
            "features shape is : (6, 389)\n",
            "number of windows : 6\n",
            "number of features 389\n",
            "data shape before extracting features (6290,)\n",
            "*** Feature extraction started ***\n"
          ]
        },
        {
          "output_type": "display_data",
          "data": {
            "text/plain": [
              "<IPython.core.display.HTML object>"
            ],
            "text/html": [
              "\n",
              "              <p>\n",
              "                  Progress: 100% Complete\n",
              "              <p/>            \n",
              "              <progress\n",
              "                  value='6'\n",
              "                  max='6',\n",
              "                  style='width: 25%',\n",
              "              >\n",
              "                  6\n",
              "              </progress>\n",
              "\n",
              "    "
            ]
          },
          "metadata": {}
        },
        {
          "output_type": "stream",
          "name": "stdout",
          "text": [
            "\n",
            "*** Feature extraction finished ***\n",
            "features shape is : (6, 389)\n",
            "number of windows : 6\n",
            "number of features 389\n",
            "data shape before extracting features (6290,)\n",
            "*** Feature extraction started ***\n"
          ]
        },
        {
          "output_type": "display_data",
          "data": {
            "text/plain": [
              "<IPython.core.display.HTML object>"
            ],
            "text/html": [
              "\n",
              "              <p>\n",
              "                  Progress: 100% Complete\n",
              "              <p/>            \n",
              "              <progress\n",
              "                  value='6'\n",
              "                  max='6',\n",
              "                  style='width: 25%',\n",
              "              >\n",
              "                  6\n",
              "              </progress>\n",
              "\n",
              "    "
            ]
          },
          "metadata": {}
        },
        {
          "output_type": "stream",
          "name": "stdout",
          "text": [
            "\n",
            "*** Feature extraction finished ***\n",
            "features shape is : (6, 389)\n",
            "number of windows : 6\n",
            "number of features 389\n",
            "data shape before extracting features (6290,)\n",
            "*** Feature extraction started ***\n"
          ]
        },
        {
          "output_type": "display_data",
          "data": {
            "text/plain": [
              "<IPython.core.display.HTML object>"
            ],
            "text/html": [
              "\n",
              "              <p>\n",
              "                  Progress: 100% Complete\n",
              "              <p/>            \n",
              "              <progress\n",
              "                  value='6'\n",
              "                  max='6',\n",
              "                  style='width: 25%',\n",
              "              >\n",
              "                  6\n",
              "              </progress>\n",
              "\n",
              "    "
            ]
          },
          "metadata": {}
        },
        {
          "output_type": "stream",
          "name": "stdout",
          "text": [
            "\n",
            "*** Feature extraction finished ***\n",
            "features shape is : (6, 389)\n",
            "number of windows : 6\n",
            "number of features 389\n",
            "data shape before extracting features (6290,)\n",
            "*** Feature extraction started ***\n"
          ]
        },
        {
          "output_type": "display_data",
          "data": {
            "text/plain": [
              "<IPython.core.display.HTML object>"
            ],
            "text/html": [
              "\n",
              "              <p>\n",
              "                  Progress: 100% Complete\n",
              "              <p/>            \n",
              "              <progress\n",
              "                  value='6'\n",
              "                  max='6',\n",
              "                  style='width: 25%',\n",
              "              >\n",
              "                  6\n",
              "              </progress>\n",
              "\n",
              "    "
            ]
          },
          "metadata": {}
        },
        {
          "output_type": "stream",
          "name": "stdout",
          "text": [
            "\n",
            "*** Feature extraction finished ***\n",
            "features shape is : (6, 389)\n",
            "number of windows : 6\n",
            "number of features 389\n",
            "data shape before extracting features (6290,)\n",
            "*** Feature extraction started ***\n"
          ]
        },
        {
          "output_type": "display_data",
          "data": {
            "text/plain": [
              "<IPython.core.display.HTML object>"
            ],
            "text/html": [
              "\n",
              "              <p>\n",
              "                  Progress: 100% Complete\n",
              "              <p/>            \n",
              "              <progress\n",
              "                  value='6'\n",
              "                  max='6',\n",
              "                  style='width: 25%',\n",
              "              >\n",
              "                  6\n",
              "              </progress>\n",
              "\n",
              "    "
            ]
          },
          "metadata": {}
        },
        {
          "output_type": "stream",
          "name": "stdout",
          "text": [
            "\n",
            "*** Feature extraction finished ***\n",
            "features shape is : (6, 389)\n",
            "number of windows : 6\n",
            "number of features 389\n",
            "data shape before extracting features (6290,)\n",
            "*** Feature extraction started ***\n"
          ]
        },
        {
          "output_type": "display_data",
          "data": {
            "text/plain": [
              "<IPython.core.display.HTML object>"
            ],
            "text/html": [
              "\n",
              "              <p>\n",
              "                  Progress: 100% Complete\n",
              "              <p/>            \n",
              "              <progress\n",
              "                  value='6'\n",
              "                  max='6',\n",
              "                  style='width: 25%',\n",
              "              >\n",
              "                  6\n",
              "              </progress>\n",
              "\n",
              "    "
            ]
          },
          "metadata": {}
        },
        {
          "output_type": "stream",
          "name": "stdout",
          "text": [
            "\n",
            "*** Feature extraction finished ***\n",
            "features shape is : (6, 389)\n",
            "number of windows : 6\n",
            "number of features 389\n",
            "data shape before extracting features (6290,)\n",
            "*** Feature extraction started ***\n"
          ]
        },
        {
          "output_type": "display_data",
          "data": {
            "text/plain": [
              "<IPython.core.display.HTML object>"
            ],
            "text/html": [
              "\n",
              "              <p>\n",
              "                  Progress: 100% Complete\n",
              "              <p/>            \n",
              "              <progress\n",
              "                  value='6'\n",
              "                  max='6',\n",
              "                  style='width: 25%',\n",
              "              >\n",
              "                  6\n",
              "              </progress>\n",
              "\n",
              "    "
            ]
          },
          "metadata": {}
        },
        {
          "output_type": "stream",
          "name": "stdout",
          "text": [
            "\n",
            "*** Feature extraction finished ***\n",
            "features shape is : (6, 389)\n",
            "number of windows : 6\n",
            "number of features 389\n",
            "data shape before extracting features (6290,)\n",
            "*** Feature extraction started ***\n"
          ]
        },
        {
          "output_type": "display_data",
          "data": {
            "text/plain": [
              "<IPython.core.display.HTML object>"
            ],
            "text/html": [
              "\n",
              "              <p>\n",
              "                  Progress: 100% Complete\n",
              "              <p/>            \n",
              "              <progress\n",
              "                  value='6'\n",
              "                  max='6',\n",
              "                  style='width: 25%',\n",
              "              >\n",
              "                  6\n",
              "              </progress>\n",
              "\n",
              "    "
            ]
          },
          "metadata": {}
        },
        {
          "output_type": "stream",
          "name": "stdout",
          "text": [
            "\n",
            "*** Feature extraction finished ***\n",
            "features shape is : (6, 389)\n",
            "number of windows : 6\n",
            "number of features 389\n",
            "data shape before extracting features (6290,)\n",
            "*** Feature extraction started ***\n"
          ]
        },
        {
          "output_type": "display_data",
          "data": {
            "text/plain": [
              "<IPython.core.display.HTML object>"
            ],
            "text/html": [
              "\n",
              "              <p>\n",
              "                  Progress: 100% Complete\n",
              "              <p/>            \n",
              "              <progress\n",
              "                  value='6'\n",
              "                  max='6',\n",
              "                  style='width: 25%',\n",
              "              >\n",
              "                  6\n",
              "              </progress>\n",
              "\n",
              "    "
            ]
          },
          "metadata": {}
        },
        {
          "output_type": "stream",
          "name": "stdout",
          "text": [
            "\n",
            "*** Feature extraction finished ***\n",
            "features shape is : (6, 389)\n",
            "number of windows : 6\n",
            "number of features 389\n",
            "data shape before extracting features (6290,)\n",
            "*** Feature extraction started ***\n"
          ]
        },
        {
          "output_type": "display_data",
          "data": {
            "text/plain": [
              "<IPython.core.display.HTML object>"
            ],
            "text/html": [
              "\n",
              "              <p>\n",
              "                  Progress: 100% Complete\n",
              "              <p/>            \n",
              "              <progress\n",
              "                  value='6'\n",
              "                  max='6',\n",
              "                  style='width: 25%',\n",
              "              >\n",
              "                  6\n",
              "              </progress>\n",
              "\n",
              "    "
            ]
          },
          "metadata": {}
        },
        {
          "output_type": "stream",
          "name": "stdout",
          "text": [
            "\n",
            "*** Feature extraction finished ***\n",
            "features shape is : (6, 389)\n",
            "number of windows : 6\n",
            "number of features 389\n",
            "data shape before extracting features (6290,)\n",
            "*** Feature extraction started ***\n"
          ]
        },
        {
          "output_type": "display_data",
          "data": {
            "text/plain": [
              "<IPython.core.display.HTML object>"
            ],
            "text/html": [
              "\n",
              "              <p>\n",
              "                  Progress: 100% Complete\n",
              "              <p/>            \n",
              "              <progress\n",
              "                  value='6'\n",
              "                  max='6',\n",
              "                  style='width: 25%',\n",
              "              >\n",
              "                  6\n",
              "              </progress>\n",
              "\n",
              "    "
            ]
          },
          "metadata": {}
        },
        {
          "output_type": "stream",
          "name": "stdout",
          "text": [
            "\n",
            "*** Feature extraction finished ***\n",
            "features shape is : (6, 389)\n",
            "number of windows : 6\n",
            "number of features 389\n",
            "data shape before extracting features (6290,)\n",
            "*** Feature extraction started ***\n"
          ]
        },
        {
          "output_type": "display_data",
          "data": {
            "text/plain": [
              "<IPython.core.display.HTML object>"
            ],
            "text/html": [
              "\n",
              "              <p>\n",
              "                  Progress: 100% Complete\n",
              "              <p/>            \n",
              "              <progress\n",
              "                  value='6'\n",
              "                  max='6',\n",
              "                  style='width: 25%',\n",
              "              >\n",
              "                  6\n",
              "              </progress>\n",
              "\n",
              "    "
            ]
          },
          "metadata": {}
        },
        {
          "output_type": "stream",
          "name": "stdout",
          "text": [
            "\n",
            "*** Feature extraction finished ***\n",
            "features shape is : (6, 389)\n",
            "number of windows : 6\n",
            "number of features 389\n",
            "data shape before extracting features (6290,)\n",
            "*** Feature extraction started ***\n"
          ]
        },
        {
          "output_type": "display_data",
          "data": {
            "text/plain": [
              "<IPython.core.display.HTML object>"
            ],
            "text/html": [
              "\n",
              "              <p>\n",
              "                  Progress: 100% Complete\n",
              "              <p/>            \n",
              "              <progress\n",
              "                  value='6'\n",
              "                  max='6',\n",
              "                  style='width: 25%',\n",
              "              >\n",
              "                  6\n",
              "              </progress>\n",
              "\n",
              "    "
            ]
          },
          "metadata": {}
        },
        {
          "output_type": "stream",
          "name": "stdout",
          "text": [
            "\n",
            "*** Feature extraction finished ***\n",
            "features shape is : (6, 389)\n",
            "number of windows : 6\n",
            "number of features 389\n",
            "data shape before extracting features (6290,)\n",
            "*** Feature extraction started ***\n"
          ]
        },
        {
          "output_type": "display_data",
          "data": {
            "text/plain": [
              "<IPython.core.display.HTML object>"
            ],
            "text/html": [
              "\n",
              "              <p>\n",
              "                  Progress: 100% Complete\n",
              "              <p/>            \n",
              "              <progress\n",
              "                  value='6'\n",
              "                  max='6',\n",
              "                  style='width: 25%',\n",
              "              >\n",
              "                  6\n",
              "              </progress>\n",
              "\n",
              "    "
            ]
          },
          "metadata": {}
        },
        {
          "output_type": "stream",
          "name": "stdout",
          "text": [
            "\n",
            "*** Feature extraction finished ***\n",
            "features shape is : (6, 389)\n",
            "number of windows : 6\n",
            "number of features 389\n",
            "data shape before extracting features (6290,)\n",
            "*** Feature extraction started ***\n"
          ]
        },
        {
          "output_type": "display_data",
          "data": {
            "text/plain": [
              "<IPython.core.display.HTML object>"
            ],
            "text/html": [
              "\n",
              "              <p>\n",
              "                  Progress: 100% Complete\n",
              "              <p/>            \n",
              "              <progress\n",
              "                  value='6'\n",
              "                  max='6',\n",
              "                  style='width: 25%',\n",
              "              >\n",
              "                  6\n",
              "              </progress>\n",
              "\n",
              "    "
            ]
          },
          "metadata": {}
        },
        {
          "output_type": "stream",
          "name": "stdout",
          "text": [
            "\n",
            "*** Feature extraction finished ***\n",
            "features shape is : (6, 389)\n",
            "number of windows : 6\n",
            "number of features 389\n",
            "data shape before extracting features (6290,)\n",
            "*** Feature extraction started ***\n"
          ]
        },
        {
          "output_type": "display_data",
          "data": {
            "text/plain": [
              "<IPython.core.display.HTML object>"
            ],
            "text/html": [
              "\n",
              "              <p>\n",
              "                  Progress: 100% Complete\n",
              "              <p/>            \n",
              "              <progress\n",
              "                  value='6'\n",
              "                  max='6',\n",
              "                  style='width: 25%',\n",
              "              >\n",
              "                  6\n",
              "              </progress>\n",
              "\n",
              "    "
            ]
          },
          "metadata": {}
        },
        {
          "output_type": "stream",
          "name": "stdout",
          "text": [
            "\n",
            "*** Feature extraction finished ***\n",
            "features shape is : (6, 389)\n",
            "number of windows : 6\n",
            "number of features 389\n",
            "data shape before extracting features (6290,)\n",
            "*** Feature extraction started ***\n"
          ]
        },
        {
          "output_type": "display_data",
          "data": {
            "text/plain": [
              "<IPython.core.display.HTML object>"
            ],
            "text/html": [
              "\n",
              "              <p>\n",
              "                  Progress: 100% Complete\n",
              "              <p/>            \n",
              "              <progress\n",
              "                  value='6'\n",
              "                  max='6',\n",
              "                  style='width: 25%',\n",
              "              >\n",
              "                  6\n",
              "              </progress>\n",
              "\n",
              "    "
            ]
          },
          "metadata": {}
        },
        {
          "output_type": "stream",
          "name": "stdout",
          "text": [
            "\n",
            "*** Feature extraction finished ***\n",
            "features shape is : (6, 389)\n",
            "number of windows : 6\n",
            "number of features 389\n",
            "data shape before extracting features (6290,)\n",
            "*** Feature extraction started ***\n"
          ]
        },
        {
          "output_type": "display_data",
          "data": {
            "text/plain": [
              "<IPython.core.display.HTML object>"
            ],
            "text/html": [
              "\n",
              "              <p>\n",
              "                  Progress: 100% Complete\n",
              "              <p/>            \n",
              "              <progress\n",
              "                  value='6'\n",
              "                  max='6',\n",
              "                  style='width: 25%',\n",
              "              >\n",
              "                  6\n",
              "              </progress>\n",
              "\n",
              "    "
            ]
          },
          "metadata": {}
        },
        {
          "output_type": "stream",
          "name": "stdout",
          "text": [
            "\n",
            "*** Feature extraction finished ***\n",
            "features shape is : (6, 389)\n",
            "number of windows : 6\n",
            "number of features 389\n",
            "data shape before extracting features (6290,)\n",
            "*** Feature extraction started ***\n"
          ]
        },
        {
          "output_type": "display_data",
          "data": {
            "text/plain": [
              "<IPython.core.display.HTML object>"
            ],
            "text/html": [
              "\n",
              "              <p>\n",
              "                  Progress: 100% Complete\n",
              "              <p/>            \n",
              "              <progress\n",
              "                  value='6'\n",
              "                  max='6',\n",
              "                  style='width: 25%',\n",
              "              >\n",
              "                  6\n",
              "              </progress>\n",
              "\n",
              "    "
            ]
          },
          "metadata": {}
        },
        {
          "output_type": "stream",
          "name": "stdout",
          "text": [
            "\n",
            "*** Feature extraction finished ***\n",
            "features shape is : (6, 389)\n",
            "number of windows : 6\n",
            "number of features 389\n",
            "data shape before extracting features (6290,)\n",
            "*** Feature extraction started ***\n"
          ]
        },
        {
          "output_type": "display_data",
          "data": {
            "text/plain": [
              "<IPython.core.display.HTML object>"
            ],
            "text/html": [
              "\n",
              "              <p>\n",
              "                  Progress: 100% Complete\n",
              "              <p/>            \n",
              "              <progress\n",
              "                  value='6'\n",
              "                  max='6',\n",
              "                  style='width: 25%',\n",
              "              >\n",
              "                  6\n",
              "              </progress>\n",
              "\n",
              "    "
            ]
          },
          "metadata": {}
        },
        {
          "output_type": "stream",
          "name": "stdout",
          "text": [
            "\n",
            "*** Feature extraction finished ***\n",
            "features shape is : (6, 389)\n",
            "number of windows : 6\n",
            "number of features 389\n",
            "data shape before extracting features (6290,)\n",
            "*** Feature extraction started ***\n"
          ]
        },
        {
          "output_type": "display_data",
          "data": {
            "text/plain": [
              "<IPython.core.display.HTML object>"
            ],
            "text/html": [
              "\n",
              "              <p>\n",
              "                  Progress: 100% Complete\n",
              "              <p/>            \n",
              "              <progress\n",
              "                  value='6'\n",
              "                  max='6',\n",
              "                  style='width: 25%',\n",
              "              >\n",
              "                  6\n",
              "              </progress>\n",
              "\n",
              "    "
            ]
          },
          "metadata": {}
        },
        {
          "output_type": "stream",
          "name": "stdout",
          "text": [
            "\n",
            "*** Feature extraction finished ***\n",
            "features shape is : (6, 389)\n",
            "number of windows : 6\n",
            "number of features 389\n",
            "columns number 6.29\n",
            "                                                    0  \\\n",
            "0   (8147933.0, 90061.5, 8147933.0, 495.7329992772...   \n",
            "1   (8560877.0, 92403.5, 8560877.0, 503.3010558380...   \n",
            "2   (8378551.0, 91381.5, 8378551.0, 498.0464970613...   \n",
            "3   (8602213.0, 92589.0, 8602213.0, 512.6171427050...   \n",
            "4   (9171399.0, 95639.0, 9171399.0, 495.9796292801...   \n",
            "5   (6571331.0, 67292.5, 6571331.0, 334.2139250024...   \n",
            "6   (3959887.0, 44457.0, 3959887.0, 257.2278860482...   \n",
            "7   (8542625.0, 92250.0, 8542625.0, 494.9938363208...   \n",
            "8   (8986903.0, 94585.5, 8986903.0, 489.5141221619...   \n",
            "9   (8512628.0, 92119.0, 8512628.0, 496.4106603742...   \n",
            "10  (8177680.0, 90314.0, 8177680.0, 497.1307095655...   \n",
            "11  (7421694.0, 86030.0, 7421694.0, 492.1513240777...   \n",
            "12  (7665409.0, 87414.5, 7665409.0, 514.9826751579...   \n",
            "13  (7885681.0, 88687.0, 7885681.0, 506.5784733113...   \n",
            "14  (7132418.0, 84306.5, 7132418.0, 485.4387879397...   \n",
            "15  (4742462.0, 57210.0, 4742462.0, 340.4754264767...   \n",
            "16  (3473226.0, 41661.0, 3473226.0, 248.1105925730...   \n",
            "17  (6600686.0, 81141.5, 6600686.0, 493.1501060647...   \n",
            "18  (6459688.0, 80250.5, 6459688.0, 509.3880230747...   \n",
            "19  (6190212.0, 78570.0, 6190212.0, 492.6239288735...   \n",
            "20  (6835796.0, 82538.5, 6835796.0, 494.9755554437...   \n",
            "21  (6385834.0, 79775.0, 6385834.0, 491.3525635022...   \n",
            "22  (10545966.0, 102509.0, 10545966.0, 484.8802749...   \n",
            "23  (7972884.0, 89179.0, 7972884.0, 494.8203810565...   \n",
            "24  (8925889.0, 94361.5, 8925889.0, 498.0485193127...   \n",
            "25  (6094059.0, 65352.5, 6094059.0, 353.3921760521...   \n",
            "26  (4103841.0, 44833.5, 4103841.0, 248.4335075359...   \n",
            "27  (7883978.0, 88493.0, 7883978.0, 468.3492102590...   \n",
            "28  (7824481.0, 88339.5, 7824481.0, 489.2053600743...   \n",
            "29  (8071931.0, 89694.5, 8071931.0, 485.1704945198...   \n",
            "30  (3058853.0, 34089.5, 3058853.0, 188.4283608921...   \n",
            "31  (7861925.0, 88379.0, 7861925.0, 469.3425537638...   \n",
            "32  (7691820.0, 87539.5, 7691820.0, 485.0916959835...   \n",
            "33  (5125011.0, 71436.0, 5125011.0, 483.6299141601...   \n",
            "34  (4925897.0, 70077.5, 4925897.0, 501.2076316252...   \n",
            "35  (3640783.0, 50071.5, 3640783.0, 337.8987654578...   \n",
            "36  (2498591.0, 35330.0, 2498591.0, 253.3707853746...   \n",
            "37  (4807957.0, 69220.0, 4807957.0, 482.3956387297...   \n",
            "38  (5075017.0, 71101.5, 5075017.0, 480.9201894299...   \n",
            "39  (5200850.0, 71776.0, 5200850.0, 468.8212884432...   \n",
            "40  (5172444.0, 71653.5, 5172444.0, 464.3661153218...   \n",
            "41  (4925926.0, 70064.0, 4925926.0, 502.2317909363...   \n",
            "42  (4852974.0, 69526.0, 4852974.0, 495.6127916613...   \n",
            "43  (5775517.0, 75837.0, 5775517.0, 500.5775817125...   \n",
            "44  (5359946.0, 73063.0, 5359946.0, 475.8431814424...   \n",
            "45  (3243456.0, 47267.5, 3243456.0, 334.8390873808...   \n",
            "46  (2245457.0, 33499.0, 2245457.0, 248.6670544125...   \n",
            "47  (4761959.0, 68818.5, 4761959.0, 474.2839778754...   \n",
            "48  (4917675.0, 69988.0, 4917675.0, 484.9582013858...   \n",
            "49  (4274942.0, 64940.5, 4274942.0, 551.1636967238...   \n",
            "50  (6025232.0, 77460.5, 6025232.0, 483.6886086710...   \n",
            "51  (5449000.0, 73558.0, 5449000.0, 473.7415949715...   \n",
            "52  (6768899.0, 81197.5, 6768899.0, 422.8093927830...   \n",
            "53  (5586357.0, 74449.0, 5586357.0, 495.1996945415...   \n",
            "54  (4447873.0, 66457.5, 4447873.0, 518.8014084484...   \n",
            "\n",
            "                                                    1  \\\n",
            "0   (8756013.0, 93410.0, 8756013.0, 495.6949753272...   \n",
            "1   (1791886.0, 18977.5, 1791886.0, 100.2692425745...   \n",
            "2   (1487492.0, 16855.0, 1487492.0, 95.39034226738...   \n",
            "3   (1872641.0, 20339.5, 1872641.0, 109.2529214088...   \n",
            "4   (1512793.0, 16130.5, 1512793.0, 85.87690516812...   \n",
            "5   (0.0, 0.0, 0.0, 0.0, 0.0, 0.0, 0.0, 0.0, 0.001...   \n",
            "6   (0.0, 0.0, 0.0, 0.0, 0.0, 0.0, 0.0, 0.0, 0.001...   \n",
            "7   (1492865.0, 17364.0, 1492865.0, 100.9968436529...   \n",
            "8   (1521394.0, 17480.0, 1521394.0, 98.64316278360...   \n",
            "9   (962333.0, 10791.0, 962333.0, 60.483787836435,...   \n",
            "10  (1657953.0, 18747.5, 1657953.0, 106.9390664270...   \n",
            "11  (7056939.0, 83894.0, 7056939.0, 490.2105451102...   \n",
            "12  (1517015.0, 17017.0, 1517015.0, 93.31294746591...   \n",
            "13  (1750750.0, 19669.5, 1750750.0, 109.9613120091...   \n",
            "14  (1219641.0, 14482.5, 1219641.0, 86.91333187388...   \n",
            "15  (0.0, 0.0, 0.0, 0.0, 0.0, 0.0, 0.0, 0.0, 0.001...   \n",
            "16  (0.0, 0.0, 0.0, 0.0, 0.0, 0.0, 0.0, 0.0, 0.001...   \n",
            "17  (1390848.0, 17166.5, 1390848.0, 104.3835192630...   \n",
            "18  (1414888.0, 16863.0, 1414888.0, 101.9000076331...   \n",
            "19  (759691.0, 9587.5, 759691.0, 60.25732041053533...   \n",
            "20  (1303105.0, 16578.5, 1303105.0, 106.3165431795...   \n",
            "21  (1303049.0, 16620.5, 1303049.0, 107.1252362727...   \n",
            "22  (8699899.0, 93151.0, 8699899.0, 495.3039470917...   \n",
            "23  (1777050.0, 19815.5, 1777050.0, 109.7063183365...   \n",
            "24  (1517750.0, 16106.0, 1517750.0, 83.64975720639...   \n",
            "25  (0.0, 0.0, 0.0, 0.0, 0.0, 0.0, 0.0, 0.0, 0.001...   \n",
            "26  (0.0, 0.0, 0.0, 0.0, 0.0, 0.0, 0.0, 0.0, 0.001...   \n",
            "27  (1307488.0, 16642.0, 1307488.0, 103.0757697202...   \n",
            "28  (1602046.0, 18385.0, 1602046.0, 106.3367849612...   \n",
            "29  (945769.0, 10698.0, 945769.0, 60.9817989382185...   \n",
            "30  (0.0, 0.0, 0.0, 0.0, 0.0, 0.0, 0.0, 0.0, 0.001...   \n",
            "31  (1388973.0, 16708.5, 1388973.0, 101.5785893606...   \n",
            "32  (1269039.0, 16008.5, 1269039.0, 100.7260202405...   \n",
            "33  (5057930.0, 70985.5, 5057930.0, 492.7180902068...   \n",
            "34  (706713.0, 11022.0, 706713.0, 84.1138708358272...   \n",
            "35  (0.0, 0.0, 0.0, 0.0, 0.0, 0.0, 0.0, 0.0, 0.001...   \n",
            "36  (0.0, 0.0, 0.0, 0.0, 0.0, 0.0, 0.0, 0.0, 0.001...   \n",
            "37  (930163.0, 14042.0, 930163.0, 105.841055814948...   \n",
            "38  (1048095.0, 14546.0, 1048095.0, 103.8318425333...   \n",
            "39  (621997.0, 8708.5, 621997.0, 62.96284387223733...   \n",
            "40  (1035156.0, 14812.0, 1035156.0, 106.2852855028...   \n",
            "41  (1032286.0, 14791.0, 1032286.0, 104.3616517128...   \n",
            "42  (1077935.0, 14718.5, 1077935.0, 99.54162171188...   \n",
            "43  (1044616.0, 15561.5, 1044616.0, 113.0309970362...   \n",
            "44  (4635423.0, 67858.5, 4635423.0, 524.6959979704...   \n",
            "45  (0.0, 0.0, 0.0, 0.0, 0.0, 0.0, 0.0, 0.0, 0.001...   \n",
            "46  (0.0, 0.0, 0.0, 0.0, 0.0, 0.0, 0.0, 0.0, 0.001...   \n",
            "47  (874127.0, 13253.5, 874127.0, 100.708832927023...   \n",
            "48  (898721.0, 13439.0, 898721.0, 100.282048600177...   \n",
            "49  (665580.0, 9009.0, 665580.0, 59.59648577180805...   \n",
            "50  (1049451.0, 14910.5, 1049451.0, 104.1324892729...   \n",
            "51  (1045024.0, 14880.5, 1045024.0, 107.7828269972...   \n",
            "52  (1058249.0, 14618.0, 1058249.0, 99.55121715210...   \n",
            "53  (1183450.0, 16205.0, 1183450.0, 114.1815725210...   \n",
            "54  (759353.0, 11428.0, 759353.0, 85.9867071046009...   \n",
            "\n",
            "                                                    2  \\\n",
            "0   (9106861.0, 95305.5, 9106861.0, 506.1523834612...   \n",
            "1   (0.0, 0.0, 0.0, 0.0, 0.0, 0.0, 0.0, 0.0, 0.001...   \n",
            "2   (0.0, 0.0, 0.0, 0.0, 0.0, 0.0, 0.0, 0.0, 0.001...   \n",
            "3   (0.0, 0.0, 0.0, 0.0, 0.0, 0.0, 0.0, 0.0, 0.001...   \n",
            "4   (0.0, 0.0, 0.0, 0.0, 0.0, 0.0, 0.0, 0.0, 0.001...   \n",
            "5   (0.0, 0.0, 0.0, 0.0, 0.0, 0.0, 0.0, 0.0, 0.001...   \n",
            "6   (0.0, 0.0, 0.0, 0.0, 0.0, 0.0, 0.0, 0.0, 0.001...   \n",
            "7   (0.0, 0.0, 0.0, 0.0, 0.0, 0.0, 0.0, 0.0, 0.001...   \n",
            "8   (0.0, 0.0, 0.0, 0.0, 0.0, 0.0, 0.0, 0.0, 0.001...   \n",
            "9   (0.0, 0.0, 0.0, 0.0, 0.0, 0.0, 0.0, 0.0, 0.001...   \n",
            "10  (0.0, 0.0, 0.0, 0.0, 0.0, 0.0, 0.0, 0.0, 0.001...   \n",
            "11  (7231863.0, 84922.5, 7231863.0, 509.3063065492...   \n",
            "12  (0.0, 0.0, 0.0, 0.0, 0.0, 0.0, 0.0, 0.0, 0.001...   \n",
            "13  (0.0, 0.0, 0.0, 0.0, 0.0, 0.0, 0.0, 0.0, 0.001...   \n",
            "14  (0.0, 0.0, 0.0, 0.0, 0.0, 0.0, 0.0, 0.0, 0.001...   \n",
            "15  (0.0, 0.0, 0.0, 0.0, 0.0, 0.0, 0.0, 0.0, 0.001...   \n",
            "16  (0.0, 0.0, 0.0, 0.0, 0.0, 0.0, 0.0, 0.0, 0.001...   \n",
            "17  (0.0, 0.0, 0.0, 0.0, 0.0, 0.0, 0.0, 0.0, 0.001...   \n",
            "18  (0.0, 0.0, 0.0, 0.0, 0.0, 0.0, 0.0, 0.0, 0.001...   \n",
            "19  (0.0, 0.0, 0.0, 0.0, 0.0, 0.0, 0.0, 0.0, 0.001...   \n",
            "20  (0.0, 0.0, 0.0, 0.0, 0.0, 0.0, 0.0, 0.0, 0.001...   \n",
            "21  (0.0, 0.0, 0.0, 0.0, 0.0, 0.0, 0.0, 0.0, 0.001...   \n",
            "22  (8783778.0, 93596.5, 8783778.0, 495.8196146350...   \n",
            "23  (0.0, 0.0, 0.0, 0.0, 0.0, 0.0, 0.0, 0.0, 0.001...   \n",
            "24  (0.0, 0.0, 0.0, 0.0, 0.0, 0.0, 0.0, 0.0, 0.001...   \n",
            "25  (0.0, 0.0, 0.0, 0.0, 0.0, 0.0, 0.0, 0.0, 0.001...   \n",
            "26  (0.0, 0.0, 0.0, 0.0, 0.0, 0.0, 0.0, 0.0, 0.001...   \n",
            "27  (0.0, 0.0, 0.0, 0.0, 0.0, 0.0, 0.0, 0.0, 0.001...   \n",
            "28  (0.0, 0.0, 0.0, 0.0, 0.0, 0.0, 0.0, 0.0, 0.001...   \n",
            "29  (0.0, 0.0, 0.0, 0.0, 0.0, 0.0, 0.0, 0.0, 0.001...   \n",
            "30  (0.0, 0.0, 0.0, 0.0, 0.0, 0.0, 0.0, 0.0, 0.001...   \n",
            "31  (0.0, 0.0, 0.0, 0.0, 0.0, 0.0, 0.0, 0.0, 0.001...   \n",
            "32  (0.0, 0.0, 0.0, 0.0, 0.0, 0.0, 0.0, 0.0, 0.001...   \n",
            "33  (4951136.0, 70239.0, 4951136.0, 502.7355338249...   \n",
            "34  (0.0, 0.0, 0.0, 0.0, 0.0, 0.0, 0.0, 0.0, 0.001...   \n",
            "35  (0.0, 0.0, 0.0, 0.0, 0.0, 0.0, 0.0, 0.0, 0.001...   \n",
            "36  (0.0, 0.0, 0.0, 0.0, 0.0, 0.0, 0.0, 0.0, 0.001...   \n",
            "37  (0.0, 0.0, 0.0, 0.0, 0.0, 0.0, 0.0, 0.0, 0.001...   \n",
            "38  (0.0, 0.0, 0.0, 0.0, 0.0, 0.0, 0.0, 0.0, 0.001...   \n",
            "39  (0.0, 0.0, 0.0, 0.0, 0.0, 0.0, 0.0, 0.0, 0.001...   \n",
            "40  (0.0, 0.0, 0.0, 0.0, 0.0, 0.0, 0.0, 0.0, 0.001...   \n",
            "41  (0.0, 0.0, 0.0, 0.0, 0.0, 0.0, 0.0, 0.0, 0.001...   \n",
            "42  (0.0, 0.0, 0.0, 0.0, 0.0, 0.0, 0.0, 0.0, 0.001...   \n",
            "43  (0.0, 0.0, 0.0, 0.0, 0.0, 0.0, 0.0, 0.0, 0.001...   \n",
            "44  (5071739.0, 71071.0, 5071739.0, 514.4304568906...   \n",
            "45  (0.0, 0.0, 0.0, 0.0, 0.0, 0.0, 0.0, 0.0, 0.001...   \n",
            "46  (0.0, 0.0, 0.0, 0.0, 0.0, 0.0, 0.0, 0.0, 0.001...   \n",
            "47  (0.0, 0.0, 0.0, 0.0, 0.0, 0.0, 0.0, 0.0, 0.001...   \n",
            "48  (0.0, 0.0, 0.0, 0.0, 0.0, 0.0, 0.0, 0.0, 0.001...   \n",
            "49  (0.0, 0.0, 0.0, 0.0, 0.0, 0.0, 0.0, 0.0, 0.001...   \n",
            "50  (0.0, 0.0, 0.0, 0.0, 0.0, 0.0, 0.0, 0.0, 0.001...   \n",
            "51  (0.0, 0.0, 0.0, 0.0, 0.0, 0.0, 0.0, 0.0, 0.001...   \n",
            "52  (0.0, 0.0, 0.0, 0.0, 0.0, 0.0, 0.0, 0.0, 0.001...   \n",
            "53  (0.0, 0.0, 0.0, 0.0, 0.0, 0.0, 0.0, 0.0, 0.001...   \n",
            "54  (0.0, 0.0, 0.0, 0.0, 0.0, 0.0, 0.0, 0.0, 0.001...   \n",
            "\n",
            "                                                    3  \\\n",
            "0   (1678714.0, 17622.5, 1678714.0, 92.11062813558...   \n",
            "1   (0.0, 0.0, 0.0, 0.0, 0.0, 0.0, 0.0, 0.0, 0.001...   \n",
            "2   (0.0, 0.0, 0.0, 0.0, 0.0, 0.0, 0.0, 0.0, 0.001...   \n",
            "3   (0.0, 0.0, 0.0, 0.0, 0.0, 0.0, 0.0, 0.0, 0.001...   \n",
            "4   (0.0, 0.0, 0.0, 0.0, 0.0, 0.0, 0.0, 0.0, 0.001...   \n",
            "5   (0.0, 0.0, 0.0, 0.0, 0.0, 0.0, 0.0, 0.0, 0.001...   \n",
            "6   (0.0, 0.0, 0.0, 0.0, 0.0, 0.0, 0.0, 0.0, 0.001...   \n",
            "7   (0.0, 0.0, 0.0, 0.0, 0.0, 0.0, 0.0, 0.0, 0.001...   \n",
            "8   (0.0, 0.0, 0.0, 0.0, 0.0, 0.0, 0.0, 0.0, 0.001...   \n",
            "9   (0.0, 0.0, 0.0, 0.0, 0.0, 0.0, 0.0, 0.0, 0.001...   \n",
            "10  (0.0, 0.0, 0.0, 0.0, 0.0, 0.0, 0.0, 0.0, 0.001...   \n",
            "11  (1551829.0, 16988.5, 1551829.0, 92.07024871941...   \n",
            "12  (0.0, 0.0, 0.0, 0.0, 0.0, 0.0, 0.0, 0.0, 0.001...   \n",
            "13  (0.0, 0.0, 0.0, 0.0, 0.0, 0.0, 0.0, 0.0, 0.001...   \n",
            "14  (0.0, 0.0, 0.0, 0.0, 0.0, 0.0, 0.0, 0.0, 0.001...   \n",
            "15  (0.0, 0.0, 0.0, 0.0, 0.0, 0.0, 0.0, 0.0, 0.001...   \n",
            "16  (0.0, 0.0, 0.0, 0.0, 0.0, 0.0, 0.0, 0.0, 0.001...   \n",
            "17  (0.0, 0.0, 0.0, 0.0, 0.0, 0.0, 0.0, 0.0, 0.001...   \n",
            "18  (0.0, 0.0, 0.0, 0.0, 0.0, 0.0, 0.0, 0.0, 0.001...   \n",
            "19  (0.0, 0.0, 0.0, 0.0, 0.0, 0.0, 0.0, 0.0, 0.001...   \n",
            "20  (0.0, 0.0, 0.0, 0.0, 0.0, 0.0, 0.0, 0.0, 0.001...   \n",
            "21  (0.0, 0.0, 0.0, 0.0, 0.0, 0.0, 0.0, 0.0, 0.001...   \n",
            "22  (1715308.0, 17812.0, 1715308.0, 92.01816525078...   \n",
            "23  (0.0, 0.0, 0.0, 0.0, 0.0, 0.0, 0.0, 0.0, 0.001...   \n",
            "24  (0.0, 0.0, 0.0, 0.0, 0.0, 0.0, 0.0, 0.0, 0.001...   \n",
            "25  (0.0, 0.0, 0.0, 0.0, 0.0, 0.0, 0.0, 0.0, 0.001...   \n",
            "26  (0.0, 0.0, 0.0, 0.0, 0.0, 0.0, 0.0, 0.0, 0.001...   \n",
            "27  (0.0, 0.0, 0.0, 0.0, 0.0, 0.0, 0.0, 0.0, 0.001...   \n",
            "28  (0.0, 0.0, 0.0, 0.0, 0.0, 0.0, 0.0, 0.0, 0.001...   \n",
            "29  (0.0, 0.0, 0.0, 0.0, 0.0, 0.0, 0.0, 0.0, 0.001...   \n",
            "30  (0.0, 0.0, 0.0, 0.0, 0.0, 0.0, 0.0, 0.0, 0.001...   \n",
            "31  (0.0, 0.0, 0.0, 0.0, 0.0, 0.0, 0.0, 0.0, 0.001...   \n",
            "32  (0.0, 0.0, 0.0, 0.0, 0.0, 0.0, 0.0, 0.0, 0.001...   \n",
            "33  (985921.0, 13578.0, 985921.0, 93.7136819278623...   \n",
            "34  (0.0, 0.0, 0.0, 0.0, 0.0, 0.0, 0.0, 0.0, 0.001...   \n",
            "35  (0.0, 0.0, 0.0, 0.0, 0.0, 0.0, 0.0, 0.0, 0.001...   \n",
            "36  (0.0, 0.0, 0.0, 0.0, 0.0, 0.0, 0.0, 0.0, 0.001...   \n",
            "37  (0.0, 0.0, 0.0, 0.0, 0.0, 0.0, 0.0, 0.0, 0.001...   \n",
            "38  (0.0, 0.0, 0.0, 0.0, 0.0, 0.0, 0.0, 0.0, 0.001...   \n",
            "39  (0.0, 0.0, 0.0, 0.0, 0.0, 0.0, 0.0, 0.0, 0.001...   \n",
            "40  (0.0, 0.0, 0.0, 0.0, 0.0, 0.0, 0.0, 0.0, 0.001...   \n",
            "41  (0.0, 0.0, 0.0, 0.0, 0.0, 0.0, 0.0, 0.0, 0.001...   \n",
            "42  (0.0, 0.0, 0.0, 0.0, 0.0, 0.0, 0.0, 0.0, 0.001...   \n",
            "43  (0.0, 0.0, 0.0, 0.0, 0.0, 0.0, 0.0, 0.0, 0.001...   \n",
            "44  (1037238.0, 13884.0, 1037238.0, 90.30625854432...   \n",
            "45  (0.0, 0.0, 0.0, 0.0, 0.0, 0.0, 0.0, 0.0, 0.001...   \n",
            "46  (0.0, 0.0, 0.0, 0.0, 0.0, 0.0, 0.0, 0.0, 0.001...   \n",
            "47  (0.0, 0.0, 0.0, 0.0, 0.0, 0.0, 0.0, 0.0, 0.001...   \n",
            "48  (0.0, 0.0, 0.0, 0.0, 0.0, 0.0, 0.0, 0.0, 0.001...   \n",
            "49  (0.0, 0.0, 0.0, 0.0, 0.0, 0.0, 0.0, 0.0, 0.001...   \n",
            "50  (0.0, 0.0, 0.0, 0.0, 0.0, 0.0, 0.0, 0.0, 0.001...   \n",
            "51  (0.0, 0.0, 0.0, 0.0, 0.0, 0.0, 0.0, 0.0, 0.001...   \n",
            "52  (0.0, 0.0, 0.0, 0.0, 0.0, 0.0, 0.0, 0.0, 0.001...   \n",
            "53  (0.0, 0.0, 0.0, 0.0, 0.0, 0.0, 0.0, 0.0, 0.001...   \n",
            "54  (0.0, 0.0, 0.0, 0.0, 0.0, 0.0, 0.0, 0.0, 0.001...   \n",
            "\n",
            "                                                    4  \\\n",
            "0   (0.0, 0.0, 0.0, 0.0, 0.0, 0.0, 0.0, 0.0, 0.001...   \n",
            "1   (0.0, 0.0, 0.0, 0.0, 0.0, 0.0, 0.0, 0.0, 0.001...   \n",
            "2   (0.0, 0.0, 0.0, 0.0, 0.0, 0.0, 0.0, 0.0, 0.001...   \n",
            "3   (0.0, 0.0, 0.0, 0.0, 0.0, 0.0, 0.0, 0.0, 0.001...   \n",
            "4   (0.0, 0.0, 0.0, 0.0, 0.0, 0.0, 0.0, 0.0, 0.001...   \n",
            "5   (0.0, 0.0, 0.0, 0.0, 0.0, 0.0, 0.0, 0.0, 0.001...   \n",
            "6   (0.0, 0.0, 0.0, 0.0, 0.0, 0.0, 0.0, 0.0, 0.001...   \n",
            "7   (0.0, 0.0, 0.0, 0.0, 0.0, 0.0, 0.0, 0.0, 0.001...   \n",
            "8   (0.0, 0.0, 0.0, 0.0, 0.0, 0.0, 0.0, 0.0, 0.001...   \n",
            "9   (0.0, 0.0, 0.0, 0.0, 0.0, 0.0, 0.0, 0.0, 0.001...   \n",
            "10  (0.0, 0.0, 0.0, 0.0, 0.0, 0.0, 0.0, 0.0, 0.001...   \n",
            "11  (0.0, 0.0, 0.0, 0.0, 0.0, 0.0, 0.0, 0.0, 0.001...   \n",
            "12  (0.0, 0.0, 0.0, 0.0, 0.0, 0.0, 0.0, 0.0, 0.001...   \n",
            "13  (0.0, 0.0, 0.0, 0.0, 0.0, 0.0, 0.0, 0.0, 0.001...   \n",
            "14  (0.0, 0.0, 0.0, 0.0, 0.0, 0.0, 0.0, 0.0, 0.001...   \n",
            "15  (0.0, 0.0, 0.0, 0.0, 0.0, 0.0, 0.0, 0.0, 0.001...   \n",
            "16  (0.0, 0.0, 0.0, 0.0, 0.0, 0.0, 0.0, 0.0, 0.001...   \n",
            "17  (0.0, 0.0, 0.0, 0.0, 0.0, 0.0, 0.0, 0.0, 0.001...   \n",
            "18  (0.0, 0.0, 0.0, 0.0, 0.0, 0.0, 0.0, 0.0, 0.001...   \n",
            "19  (0.0, 0.0, 0.0, 0.0, 0.0, 0.0, 0.0, 0.0, 0.001...   \n",
            "20  (0.0, 0.0, 0.0, 0.0, 0.0, 0.0, 0.0, 0.0, 0.001...   \n",
            "21  (0.0, 0.0, 0.0, 0.0, 0.0, 0.0, 0.0, 0.0, 0.001...   \n",
            "22  (0.0, 0.0, 0.0, 0.0, 0.0, 0.0, 0.0, 0.0, 0.001...   \n",
            "23  (0.0, 0.0, 0.0, 0.0, 0.0, 0.0, 0.0, 0.0, 0.001...   \n",
            "24  (0.0, 0.0, 0.0, 0.0, 0.0, 0.0, 0.0, 0.0, 0.001...   \n",
            "25  (0.0, 0.0, 0.0, 0.0, 0.0, 0.0, 0.0, 0.0, 0.001...   \n",
            "26  (0.0, 0.0, 0.0, 0.0, 0.0, 0.0, 0.0, 0.0, 0.001...   \n",
            "27  (0.0, 0.0, 0.0, 0.0, 0.0, 0.0, 0.0, 0.0, 0.001...   \n",
            "28  (0.0, 0.0, 0.0, 0.0, 0.0, 0.0, 0.0, 0.0, 0.001...   \n",
            "29  (0.0, 0.0, 0.0, 0.0, 0.0, 0.0, 0.0, 0.0, 0.001...   \n",
            "30  (0.0, 0.0, 0.0, 0.0, 0.0, 0.0, 0.0, 0.0, 0.001...   \n",
            "31  (0.0, 0.0, 0.0, 0.0, 0.0, 0.0, 0.0, 0.0, 0.001...   \n",
            "32  (0.0, 0.0, 0.0, 0.0, 0.0, 0.0, 0.0, 0.0, 0.001...   \n",
            "33  (0.0, 0.0, 0.0, 0.0, 0.0, 0.0, 0.0, 0.0, 0.001...   \n",
            "34  (0.0, 0.0, 0.0, 0.0, 0.0, 0.0, 0.0, 0.0, 0.001...   \n",
            "35  (0.0, 0.0, 0.0, 0.0, 0.0, 0.0, 0.0, 0.0, 0.001...   \n",
            "36  (0.0, 0.0, 0.0, 0.0, 0.0, 0.0, 0.0, 0.0, 0.001...   \n",
            "37  (0.0, 0.0, 0.0, 0.0, 0.0, 0.0, 0.0, 0.0, 0.001...   \n",
            "38  (0.0, 0.0, 0.0, 0.0, 0.0, 0.0, 0.0, 0.0, 0.001...   \n",
            "39  (0.0, 0.0, 0.0, 0.0, 0.0, 0.0, 0.0, 0.0, 0.001...   \n",
            "40  (0.0, 0.0, 0.0, 0.0, 0.0, 0.0, 0.0, 0.0, 0.001...   \n",
            "41  (0.0, 0.0, 0.0, 0.0, 0.0, 0.0, 0.0, 0.0, 0.001...   \n",
            "42  (0.0, 0.0, 0.0, 0.0, 0.0, 0.0, 0.0, 0.0, 0.001...   \n",
            "43  (0.0, 0.0, 0.0, 0.0, 0.0, 0.0, 0.0, 0.0, 0.001...   \n",
            "44  (0.0, 0.0, 0.0, 0.0, 0.0, 0.0, 0.0, 0.0, 0.001...   \n",
            "45  (0.0, 0.0, 0.0, 0.0, 0.0, 0.0, 0.0, 0.0, 0.001...   \n",
            "46  (0.0, 0.0, 0.0, 0.0, 0.0, 0.0, 0.0, 0.0, 0.001...   \n",
            "47  (0.0, 0.0, 0.0, 0.0, 0.0, 0.0, 0.0, 0.0, 0.001...   \n",
            "48  (0.0, 0.0, 0.0, 0.0, 0.0, 0.0, 0.0, 0.0, 0.001...   \n",
            "49  (0.0, 0.0, 0.0, 0.0, 0.0, 0.0, 0.0, 0.0, 0.001...   \n",
            "50  (0.0, 0.0, 0.0, 0.0, 0.0, 0.0, 0.0, 0.0, 0.001...   \n",
            "51  (0.0, 0.0, 0.0, 0.0, 0.0, 0.0, 0.0, 0.0, 0.001...   \n",
            "52  (0.0, 0.0, 0.0, 0.0, 0.0, 0.0, 0.0, 0.0, 0.001...   \n",
            "53  (0.0, 0.0, 0.0, 0.0, 0.0, 0.0, 0.0, 0.0, 0.001...   \n",
            "54  (0.0, 0.0, 0.0, 0.0, 0.0, 0.0, 0.0, 0.0, 0.001...   \n",
            "\n",
            "                                                    5  \n",
            "0   (0.0, 0.0, 0.0, 0.0, 0.0, 0.0, 0.0, 0.0, 0.001...  \n",
            "1   (0.0, 0.0, 0.0, 0.0, 0.0, 0.0, 0.0, 0.0, 0.001...  \n",
            "2   (0.0, 0.0, 0.0, 0.0, 0.0, 0.0, 0.0, 0.0, 0.001...  \n",
            "3   (0.0, 0.0, 0.0, 0.0, 0.0, 0.0, 0.0, 0.0, 0.001...  \n",
            "4   (0.0, 0.0, 0.0, 0.0, 0.0, 0.0, 0.0, 0.0, 0.001...  \n",
            "5   (0.0, 0.0, 0.0, 0.0, 0.0, 0.0, 0.0, 0.0, 0.001...  \n",
            "6   (0.0, 0.0, 0.0, 0.0, 0.0, 0.0, 0.0, 0.0, 0.001...  \n",
            "7   (0.0, 0.0, 0.0, 0.0, 0.0, 0.0, 0.0, 0.0, 0.001...  \n",
            "8   (0.0, 0.0, 0.0, 0.0, 0.0, 0.0, 0.0, 0.0, 0.001...  \n",
            "9   (0.0, 0.0, 0.0, 0.0, 0.0, 0.0, 0.0, 0.0, 0.001...  \n",
            "10  (0.0, 0.0, 0.0, 0.0, 0.0, 0.0, 0.0, 0.0, 0.001...  \n",
            "11  (0.0, 0.0, 0.0, 0.0, 0.0, 0.0, 0.0, 0.0, 0.001...  \n",
            "12  (0.0, 0.0, 0.0, 0.0, 0.0, 0.0, 0.0, 0.0, 0.001...  \n",
            "13  (0.0, 0.0, 0.0, 0.0, 0.0, 0.0, 0.0, 0.0, 0.001...  \n",
            "14  (0.0, 0.0, 0.0, 0.0, 0.0, 0.0, 0.0, 0.0, 0.001...  \n",
            "15  (0.0, 0.0, 0.0, 0.0, 0.0, 0.0, 0.0, 0.0, 0.001...  \n",
            "16  (0.0, 0.0, 0.0, 0.0, 0.0, 0.0, 0.0, 0.0, 0.001...  \n",
            "17  (0.0, 0.0, 0.0, 0.0, 0.0, 0.0, 0.0, 0.0, 0.001...  \n",
            "18  (0.0, 0.0, 0.0, 0.0, 0.0, 0.0, 0.0, 0.0, 0.001...  \n",
            "19  (0.0, 0.0, 0.0, 0.0, 0.0, 0.0, 0.0, 0.0, 0.001...  \n",
            "20  (0.0, 0.0, 0.0, 0.0, 0.0, 0.0, 0.0, 0.0, 0.001...  \n",
            "21  (0.0, 0.0, 0.0, 0.0, 0.0, 0.0, 0.0, 0.0, 0.001...  \n",
            "22  (0.0, 0.0, 0.0, 0.0, 0.0, 0.0, 0.0, 0.0, 0.001...  \n",
            "23  (0.0, 0.0, 0.0, 0.0, 0.0, 0.0, 0.0, 0.0, 0.001...  \n",
            "24  (0.0, 0.0, 0.0, 0.0, 0.0, 0.0, 0.0, 0.0, 0.001...  \n",
            "25  (0.0, 0.0, 0.0, 0.0, 0.0, 0.0, 0.0, 0.0, 0.001...  \n",
            "26  (0.0, 0.0, 0.0, 0.0, 0.0, 0.0, 0.0, 0.0, 0.001...  \n",
            "27  (0.0, 0.0, 0.0, 0.0, 0.0, 0.0, 0.0, 0.0, 0.001...  \n",
            "28  (0.0, 0.0, 0.0, 0.0, 0.0, 0.0, 0.0, 0.0, 0.001...  \n",
            "29  (0.0, 0.0, 0.0, 0.0, 0.0, 0.0, 0.0, 0.0, 0.001...  \n",
            "30  (0.0, 0.0, 0.0, 0.0, 0.0, 0.0, 0.0, 0.0, 0.001...  \n",
            "31  (0.0, 0.0, 0.0, 0.0, 0.0, 0.0, 0.0, 0.0, 0.001...  \n",
            "32  (0.0, 0.0, 0.0, 0.0, 0.0, 0.0, 0.0, 0.0, 0.001...  \n",
            "33  (0.0, 0.0, 0.0, 0.0, 0.0, 0.0, 0.0, 0.0, 0.001...  \n",
            "34  (0.0, 0.0, 0.0, 0.0, 0.0, 0.0, 0.0, 0.0, 0.001...  \n",
            "35  (0.0, 0.0, 0.0, 0.0, 0.0, 0.0, 0.0, 0.0, 0.001...  \n",
            "36  (0.0, 0.0, 0.0, 0.0, 0.0, 0.0, 0.0, 0.0, 0.001...  \n",
            "37  (0.0, 0.0, 0.0, 0.0, 0.0, 0.0, 0.0, 0.0, 0.001...  \n",
            "38  (0.0, 0.0, 0.0, 0.0, 0.0, 0.0, 0.0, 0.0, 0.001...  \n",
            "39  (0.0, 0.0, 0.0, 0.0, 0.0, 0.0, 0.0, 0.0, 0.001...  \n",
            "40  (0.0, 0.0, 0.0, 0.0, 0.0, 0.0, 0.0, 0.0, 0.001...  \n",
            "41  (0.0, 0.0, 0.0, 0.0, 0.0, 0.0, 0.0, 0.0, 0.001...  \n",
            "42  (0.0, 0.0, 0.0, 0.0, 0.0, 0.0, 0.0, 0.0, 0.001...  \n",
            "43  (0.0, 0.0, 0.0, 0.0, 0.0, 0.0, 0.0, 0.0, 0.001...  \n",
            "44  (0.0, 0.0, 0.0, 0.0, 0.0, 0.0, 0.0, 0.0, 0.001...  \n",
            "45  (0.0, 0.0, 0.0, 0.0, 0.0, 0.0, 0.0, 0.0, 0.001...  \n",
            "46  (0.0, 0.0, 0.0, 0.0, 0.0, 0.0, 0.0, 0.0, 0.001...  \n",
            "47  (0.0, 0.0, 0.0, 0.0, 0.0, 0.0, 0.0, 0.0, 0.001...  \n",
            "48  (0.0, 0.0, 0.0, 0.0, 0.0, 0.0, 0.0, 0.0, 0.001...  \n",
            "49  (0.0, 0.0, 0.0, 0.0, 0.0, 0.0, 0.0, 0.0, 0.001...  \n",
            "50  (0.0, 0.0, 0.0, 0.0, 0.0, 0.0, 0.0, 0.0, 0.001...  \n",
            "51  (0.0, 0.0, 0.0, 0.0, 0.0, 0.0, 0.0, 0.0, 0.001...  \n",
            "52  (0.0, 0.0, 0.0, 0.0, 0.0, 0.0, 0.0, 0.0, 0.001...  \n",
            "53  (0.0, 0.0, 0.0, 0.0, 0.0, 0.0, 0.0, 0.0, 0.001...  \n",
            "54  (0.0, 0.0, 0.0, 0.0, 0.0, 0.0, 0.0, 0.0, 0.001...  \n",
            "data shape before extracting features (6290,)\n",
            "*** Feature extraction started ***\n"
          ]
        },
        {
          "output_type": "display_data",
          "data": {
            "text/plain": [
              "<IPython.core.display.HTML object>"
            ],
            "text/html": [
              "\n",
              "              <p>\n",
              "                  Progress: 100% Complete\n",
              "              <p/>            \n",
              "              <progress\n",
              "                  value='6'\n",
              "                  max='6',\n",
              "                  style='width: 25%',\n",
              "              >\n",
              "                  6\n",
              "              </progress>\n",
              "\n",
              "    "
            ]
          },
          "metadata": {}
        },
        {
          "output_type": "stream",
          "name": "stdout",
          "text": [
            "\n",
            "*** Feature extraction finished ***\n",
            "features shape is : (6, 389)\n",
            "number of windows : 6\n",
            "number of features 389\n",
            "data shape before extracting features (6290,)\n",
            "*** Feature extraction started ***\n"
          ]
        },
        {
          "output_type": "display_data",
          "data": {
            "text/plain": [
              "<IPython.core.display.HTML object>"
            ],
            "text/html": [
              "\n",
              "              <p>\n",
              "                  Progress: 100% Complete\n",
              "              <p/>            \n",
              "              <progress\n",
              "                  value='6'\n",
              "                  max='6',\n",
              "                  style='width: 25%',\n",
              "              >\n",
              "                  6\n",
              "              </progress>\n",
              "\n",
              "    "
            ]
          },
          "metadata": {}
        },
        {
          "output_type": "stream",
          "name": "stdout",
          "text": [
            "\n",
            "*** Feature extraction finished ***\n",
            "features shape is : (6, 389)\n",
            "number of windows : 6\n",
            "number of features 389\n",
            "data shape before extracting features (6290,)\n",
            "*** Feature extraction started ***\n"
          ]
        },
        {
          "output_type": "display_data",
          "data": {
            "text/plain": [
              "<IPython.core.display.HTML object>"
            ],
            "text/html": [
              "\n",
              "              <p>\n",
              "                  Progress: 100% Complete\n",
              "              <p/>            \n",
              "              <progress\n",
              "                  value='6'\n",
              "                  max='6',\n",
              "                  style='width: 25%',\n",
              "              >\n",
              "                  6\n",
              "              </progress>\n",
              "\n",
              "    "
            ]
          },
          "metadata": {}
        },
        {
          "output_type": "stream",
          "name": "stdout",
          "text": [
            "\n",
            "*** Feature extraction finished ***\n",
            "features shape is : (6, 389)\n",
            "number of windows : 6\n",
            "number of features 389\n",
            "data shape before extracting features (6290,)\n",
            "*** Feature extraction started ***\n"
          ]
        },
        {
          "output_type": "display_data",
          "data": {
            "text/plain": [
              "<IPython.core.display.HTML object>"
            ],
            "text/html": [
              "\n",
              "              <p>\n",
              "                  Progress: 100% Complete\n",
              "              <p/>            \n",
              "              <progress\n",
              "                  value='6'\n",
              "                  max='6',\n",
              "                  style='width: 25%',\n",
              "              >\n",
              "                  6\n",
              "              </progress>\n",
              "\n",
              "    "
            ]
          },
          "metadata": {}
        },
        {
          "output_type": "stream",
          "name": "stdout",
          "text": [
            "\n",
            "*** Feature extraction finished ***\n",
            "features shape is : (6, 389)\n",
            "number of windows : 6\n",
            "number of features 389\n",
            "data shape before extracting features (6290,)\n",
            "*** Feature extraction started ***\n"
          ]
        },
        {
          "output_type": "display_data",
          "data": {
            "text/plain": [
              "<IPython.core.display.HTML object>"
            ],
            "text/html": [
              "\n",
              "              <p>\n",
              "                  Progress: 100% Complete\n",
              "              <p/>            \n",
              "              <progress\n",
              "                  value='6'\n",
              "                  max='6',\n",
              "                  style='width: 25%',\n",
              "              >\n",
              "                  6\n",
              "              </progress>\n",
              "\n",
              "    "
            ]
          },
          "metadata": {}
        },
        {
          "output_type": "stream",
          "name": "stdout",
          "text": [
            "\n",
            "*** Feature extraction finished ***\n",
            "features shape is : (6, 389)\n",
            "number of windows : 6\n",
            "number of features 389\n",
            "data shape before extracting features (6290,)\n",
            "*** Feature extraction started ***\n"
          ]
        },
        {
          "output_type": "display_data",
          "data": {
            "text/plain": [
              "<IPython.core.display.HTML object>"
            ],
            "text/html": [
              "\n",
              "              <p>\n",
              "                  Progress: 100% Complete\n",
              "              <p/>            \n",
              "              <progress\n",
              "                  value='6'\n",
              "                  max='6',\n",
              "                  style='width: 25%',\n",
              "              >\n",
              "                  6\n",
              "              </progress>\n",
              "\n",
              "    "
            ]
          },
          "metadata": {}
        },
        {
          "output_type": "stream",
          "name": "stdout",
          "text": [
            "\n",
            "*** Feature extraction finished ***\n",
            "features shape is : (6, 389)\n",
            "number of windows : 6\n",
            "number of features 389\n",
            "data shape before extracting features (6290,)\n",
            "*** Feature extraction started ***\n"
          ]
        },
        {
          "output_type": "display_data",
          "data": {
            "text/plain": [
              "<IPython.core.display.HTML object>"
            ],
            "text/html": [
              "\n",
              "              <p>\n",
              "                  Progress: 100% Complete\n",
              "              <p/>            \n",
              "              <progress\n",
              "                  value='6'\n",
              "                  max='6',\n",
              "                  style='width: 25%',\n",
              "              >\n",
              "                  6\n",
              "              </progress>\n",
              "\n",
              "    "
            ]
          },
          "metadata": {}
        },
        {
          "output_type": "stream",
          "name": "stdout",
          "text": [
            "\n",
            "*** Feature extraction finished ***\n",
            "features shape is : (6, 389)\n",
            "number of windows : 6\n",
            "number of features 389\n",
            "data shape before extracting features (6290,)\n",
            "*** Feature extraction started ***\n"
          ]
        },
        {
          "output_type": "display_data",
          "data": {
            "text/plain": [
              "<IPython.core.display.HTML object>"
            ],
            "text/html": [
              "\n",
              "              <p>\n",
              "                  Progress: 100% Complete\n",
              "              <p/>            \n",
              "              <progress\n",
              "                  value='6'\n",
              "                  max='6',\n",
              "                  style='width: 25%',\n",
              "              >\n",
              "                  6\n",
              "              </progress>\n",
              "\n",
              "    "
            ]
          },
          "metadata": {}
        },
        {
          "output_type": "stream",
          "name": "stdout",
          "text": [
            "\n",
            "*** Feature extraction finished ***\n",
            "features shape is : (6, 389)\n",
            "number of windows : 6\n",
            "number of features 389\n",
            "data shape before extracting features (6290,)\n",
            "*** Feature extraction started ***\n"
          ]
        },
        {
          "output_type": "display_data",
          "data": {
            "text/plain": [
              "<IPython.core.display.HTML object>"
            ],
            "text/html": [
              "\n",
              "              <p>\n",
              "                  Progress: 100% Complete\n",
              "              <p/>            \n",
              "              <progress\n",
              "                  value='6'\n",
              "                  max='6',\n",
              "                  style='width: 25%',\n",
              "              >\n",
              "                  6\n",
              "              </progress>\n",
              "\n",
              "    "
            ]
          },
          "metadata": {}
        },
        {
          "output_type": "stream",
          "name": "stdout",
          "text": [
            "\n",
            "*** Feature extraction finished ***\n",
            "features shape is : (6, 389)\n",
            "number of windows : 6\n",
            "number of features 389\n",
            "data shape before extracting features (6290,)\n",
            "*** Feature extraction started ***\n"
          ]
        },
        {
          "output_type": "display_data",
          "data": {
            "text/plain": [
              "<IPython.core.display.HTML object>"
            ],
            "text/html": [
              "\n",
              "              <p>\n",
              "                  Progress: 100% Complete\n",
              "              <p/>            \n",
              "              <progress\n",
              "                  value='6'\n",
              "                  max='6',\n",
              "                  style='width: 25%',\n",
              "              >\n",
              "                  6\n",
              "              </progress>\n",
              "\n",
              "    "
            ]
          },
          "metadata": {}
        },
        {
          "output_type": "stream",
          "name": "stdout",
          "text": [
            "\n",
            "*** Feature extraction finished ***\n",
            "features shape is : (6, 389)\n",
            "number of windows : 6\n",
            "number of features 389\n",
            "data shape before extracting features (6290,)\n",
            "*** Feature extraction started ***\n"
          ]
        },
        {
          "output_type": "display_data",
          "data": {
            "text/plain": [
              "<IPython.core.display.HTML object>"
            ],
            "text/html": [
              "\n",
              "              <p>\n",
              "                  Progress: 100% Complete\n",
              "              <p/>            \n",
              "              <progress\n",
              "                  value='6'\n",
              "                  max='6',\n",
              "                  style='width: 25%',\n",
              "              >\n",
              "                  6\n",
              "              </progress>\n",
              "\n",
              "    "
            ]
          },
          "metadata": {}
        },
        {
          "output_type": "stream",
          "name": "stdout",
          "text": [
            "\n",
            "*** Feature extraction finished ***\n",
            "features shape is : (6, 389)\n",
            "number of windows : 6\n",
            "number of features 389\n",
            "data shape before extracting features (6290,)\n",
            "*** Feature extraction started ***\n"
          ]
        },
        {
          "output_type": "display_data",
          "data": {
            "text/plain": [
              "<IPython.core.display.HTML object>"
            ],
            "text/html": [
              "\n",
              "              <p>\n",
              "                  Progress: 100% Complete\n",
              "              <p/>            \n",
              "              <progress\n",
              "                  value='6'\n",
              "                  max='6',\n",
              "                  style='width: 25%',\n",
              "              >\n",
              "                  6\n",
              "              </progress>\n",
              "\n",
              "    "
            ]
          },
          "metadata": {}
        },
        {
          "output_type": "stream",
          "name": "stdout",
          "text": [
            "\n",
            "*** Feature extraction finished ***\n",
            "features shape is : (6, 389)\n",
            "number of windows : 6\n",
            "number of features 389\n",
            "data shape before extracting features (6290,)\n",
            "*** Feature extraction started ***\n"
          ]
        },
        {
          "output_type": "display_data",
          "data": {
            "text/plain": [
              "<IPython.core.display.HTML object>"
            ],
            "text/html": [
              "\n",
              "              <p>\n",
              "                  Progress: 100% Complete\n",
              "              <p/>            \n",
              "              <progress\n",
              "                  value='6'\n",
              "                  max='6',\n",
              "                  style='width: 25%',\n",
              "              >\n",
              "                  6\n",
              "              </progress>\n",
              "\n",
              "    "
            ]
          },
          "metadata": {}
        },
        {
          "output_type": "stream",
          "name": "stdout",
          "text": [
            "\n",
            "*** Feature extraction finished ***\n",
            "features shape is : (6, 389)\n",
            "number of windows : 6\n",
            "number of features 389\n",
            "data shape before extracting features (6290,)\n",
            "*** Feature extraction started ***\n"
          ]
        },
        {
          "output_type": "display_data",
          "data": {
            "text/plain": [
              "<IPython.core.display.HTML object>"
            ],
            "text/html": [
              "\n",
              "              <p>\n",
              "                  Progress: 100% Complete\n",
              "              <p/>            \n",
              "              <progress\n",
              "                  value='6'\n",
              "                  max='6',\n",
              "                  style='width: 25%',\n",
              "              >\n",
              "                  6\n",
              "              </progress>\n",
              "\n",
              "    "
            ]
          },
          "metadata": {}
        },
        {
          "output_type": "stream",
          "name": "stdout",
          "text": [
            "\n",
            "*** Feature extraction finished ***\n",
            "features shape is : (6, 389)\n",
            "number of windows : 6\n",
            "number of features 389\n",
            "data shape before extracting features (6290,)\n",
            "*** Feature extraction started ***\n"
          ]
        },
        {
          "output_type": "display_data",
          "data": {
            "text/plain": [
              "<IPython.core.display.HTML object>"
            ],
            "text/html": [
              "\n",
              "              <p>\n",
              "                  Progress: 100% Complete\n",
              "              <p/>            \n",
              "              <progress\n",
              "                  value='6'\n",
              "                  max='6',\n",
              "                  style='width: 25%',\n",
              "              >\n",
              "                  6\n",
              "              </progress>\n",
              "\n",
              "    "
            ]
          },
          "metadata": {}
        },
        {
          "output_type": "stream",
          "name": "stdout",
          "text": [
            "\n",
            "*** Feature extraction finished ***\n",
            "features shape is : (6, 389)\n",
            "number of windows : 6\n",
            "number of features 389\n",
            "data shape before extracting features (6290,)\n",
            "*** Feature extraction started ***\n"
          ]
        },
        {
          "output_type": "display_data",
          "data": {
            "text/plain": [
              "<IPython.core.display.HTML object>"
            ],
            "text/html": [
              "\n",
              "              <p>\n",
              "                  Progress: 100% Complete\n",
              "              <p/>            \n",
              "              <progress\n",
              "                  value='6'\n",
              "                  max='6',\n",
              "                  style='width: 25%',\n",
              "              >\n",
              "                  6\n",
              "              </progress>\n",
              "\n",
              "    "
            ]
          },
          "metadata": {}
        },
        {
          "output_type": "stream",
          "name": "stdout",
          "text": [
            "\n",
            "*** Feature extraction finished ***\n",
            "features shape is : (6, 389)\n",
            "number of windows : 6\n",
            "number of features 389\n",
            "data shape before extracting features (6290,)\n",
            "*** Feature extraction started ***\n"
          ]
        },
        {
          "output_type": "display_data",
          "data": {
            "text/plain": [
              "<IPython.core.display.HTML object>"
            ],
            "text/html": [
              "\n",
              "              <p>\n",
              "                  Progress: 100% Complete\n",
              "              <p/>            \n",
              "              <progress\n",
              "                  value='6'\n",
              "                  max='6',\n",
              "                  style='width: 25%',\n",
              "              >\n",
              "                  6\n",
              "              </progress>\n",
              "\n",
              "    "
            ]
          },
          "metadata": {}
        },
        {
          "output_type": "stream",
          "name": "stdout",
          "text": [
            "\n",
            "*** Feature extraction finished ***\n",
            "features shape is : (6, 389)\n",
            "number of windows : 6\n",
            "number of features 389\n",
            "data shape before extracting features (6290,)\n",
            "*** Feature extraction started ***\n"
          ]
        },
        {
          "output_type": "display_data",
          "data": {
            "text/plain": [
              "<IPython.core.display.HTML object>"
            ],
            "text/html": [
              "\n",
              "              <p>\n",
              "                  Progress: 100% Complete\n",
              "              <p/>            \n",
              "              <progress\n",
              "                  value='6'\n",
              "                  max='6',\n",
              "                  style='width: 25%',\n",
              "              >\n",
              "                  6\n",
              "              </progress>\n",
              "\n",
              "    "
            ]
          },
          "metadata": {}
        },
        {
          "output_type": "stream",
          "name": "stdout",
          "text": [
            "\n",
            "*** Feature extraction finished ***\n",
            "features shape is : (6, 389)\n",
            "number of windows : 6\n",
            "number of features 389\n",
            "data shape before extracting features (6290,)\n",
            "*** Feature extraction started ***\n"
          ]
        },
        {
          "output_type": "display_data",
          "data": {
            "text/plain": [
              "<IPython.core.display.HTML object>"
            ],
            "text/html": [
              "\n",
              "              <p>\n",
              "                  Progress: 100% Complete\n",
              "              <p/>            \n",
              "              <progress\n",
              "                  value='6'\n",
              "                  max='6',\n",
              "                  style='width: 25%',\n",
              "              >\n",
              "                  6\n",
              "              </progress>\n",
              "\n",
              "    "
            ]
          },
          "metadata": {}
        },
        {
          "output_type": "stream",
          "name": "stdout",
          "text": [
            "\n",
            "*** Feature extraction finished ***\n",
            "features shape is : (6, 389)\n",
            "number of windows : 6\n",
            "number of features 389\n",
            "data shape before extracting features (6290,)\n",
            "*** Feature extraction started ***\n"
          ]
        },
        {
          "output_type": "display_data",
          "data": {
            "text/plain": [
              "<IPython.core.display.HTML object>"
            ],
            "text/html": [
              "\n",
              "              <p>\n",
              "                  Progress: 100% Complete\n",
              "              <p/>            \n",
              "              <progress\n",
              "                  value='6'\n",
              "                  max='6',\n",
              "                  style='width: 25%',\n",
              "              >\n",
              "                  6\n",
              "              </progress>\n",
              "\n",
              "    "
            ]
          },
          "metadata": {}
        },
        {
          "output_type": "stream",
          "name": "stdout",
          "text": [
            "\n",
            "*** Feature extraction finished ***\n",
            "features shape is : (6, 389)\n",
            "number of windows : 6\n",
            "number of features 389\n",
            "data shape before extracting features (6290,)\n",
            "*** Feature extraction started ***\n"
          ]
        },
        {
          "output_type": "display_data",
          "data": {
            "text/plain": [
              "<IPython.core.display.HTML object>"
            ],
            "text/html": [
              "\n",
              "              <p>\n",
              "                  Progress: 100% Complete\n",
              "              <p/>            \n",
              "              <progress\n",
              "                  value='6'\n",
              "                  max='6',\n",
              "                  style='width: 25%',\n",
              "              >\n",
              "                  6\n",
              "              </progress>\n",
              "\n",
              "    "
            ]
          },
          "metadata": {}
        },
        {
          "output_type": "stream",
          "name": "stdout",
          "text": [
            "\n",
            "*** Feature extraction finished ***\n",
            "features shape is : (6, 389)\n",
            "number of windows : 6\n",
            "number of features 389\n",
            "data shape before extracting features (6290,)\n",
            "*** Feature extraction started ***\n"
          ]
        },
        {
          "output_type": "display_data",
          "data": {
            "text/plain": [
              "<IPython.core.display.HTML object>"
            ],
            "text/html": [
              "\n",
              "              <p>\n",
              "                  Progress: 100% Complete\n",
              "              <p/>            \n",
              "              <progress\n",
              "                  value='6'\n",
              "                  max='6',\n",
              "                  style='width: 25%',\n",
              "              >\n",
              "                  6\n",
              "              </progress>\n",
              "\n",
              "    "
            ]
          },
          "metadata": {}
        },
        {
          "output_type": "stream",
          "name": "stdout",
          "text": [
            "\n",
            "*** Feature extraction finished ***\n",
            "features shape is : (6, 389)\n",
            "number of windows : 6\n",
            "number of features 389\n",
            "data shape before extracting features (6290,)\n",
            "*** Feature extraction started ***\n"
          ]
        },
        {
          "output_type": "display_data",
          "data": {
            "text/plain": [
              "<IPython.core.display.HTML object>"
            ],
            "text/html": [
              "\n",
              "              <p>\n",
              "                  Progress: 100% Complete\n",
              "              <p/>            \n",
              "              <progress\n",
              "                  value='6'\n",
              "                  max='6',\n",
              "                  style='width: 25%',\n",
              "              >\n",
              "                  6\n",
              "              </progress>\n",
              "\n",
              "    "
            ]
          },
          "metadata": {}
        },
        {
          "output_type": "stream",
          "name": "stdout",
          "text": [
            "\n",
            "*** Feature extraction finished ***\n",
            "features shape is : (6, 389)\n",
            "number of windows : 6\n",
            "number of features 389\n",
            "data shape before extracting features (6290,)\n",
            "*** Feature extraction started ***\n"
          ]
        },
        {
          "output_type": "display_data",
          "data": {
            "text/plain": [
              "<IPython.core.display.HTML object>"
            ],
            "text/html": [
              "\n",
              "              <p>\n",
              "                  Progress: 100% Complete\n",
              "              <p/>            \n",
              "              <progress\n",
              "                  value='6'\n",
              "                  max='6',\n",
              "                  style='width: 25%',\n",
              "              >\n",
              "                  6\n",
              "              </progress>\n",
              "\n",
              "    "
            ]
          },
          "metadata": {}
        },
        {
          "output_type": "stream",
          "name": "stdout",
          "text": [
            "\n",
            "*** Feature extraction finished ***\n",
            "features shape is : (6, 389)\n",
            "number of windows : 6\n",
            "number of features 389\n",
            "data shape before extracting features (6290,)\n",
            "*** Feature extraction started ***\n"
          ]
        },
        {
          "output_type": "display_data",
          "data": {
            "text/plain": [
              "<IPython.core.display.HTML object>"
            ],
            "text/html": [
              "\n",
              "              <p>\n",
              "                  Progress: 100% Complete\n",
              "              <p/>            \n",
              "              <progress\n",
              "                  value='6'\n",
              "                  max='6',\n",
              "                  style='width: 25%',\n",
              "              >\n",
              "                  6\n",
              "              </progress>\n",
              "\n",
              "    "
            ]
          },
          "metadata": {}
        },
        {
          "output_type": "stream",
          "name": "stdout",
          "text": [
            "\n",
            "*** Feature extraction finished ***\n",
            "features shape is : (6, 389)\n",
            "number of windows : 6\n",
            "number of features 389\n",
            "data shape before extracting features (6290,)\n",
            "*** Feature extraction started ***\n"
          ]
        },
        {
          "output_type": "display_data",
          "data": {
            "text/plain": [
              "<IPython.core.display.HTML object>"
            ],
            "text/html": [
              "\n",
              "              <p>\n",
              "                  Progress: 100% Complete\n",
              "              <p/>            \n",
              "              <progress\n",
              "                  value='6'\n",
              "                  max='6',\n",
              "                  style='width: 25%',\n",
              "              >\n",
              "                  6\n",
              "              </progress>\n",
              "\n",
              "    "
            ]
          },
          "metadata": {}
        },
        {
          "output_type": "stream",
          "name": "stdout",
          "text": [
            "\n",
            "*** Feature extraction finished ***\n",
            "features shape is : (6, 389)\n",
            "number of windows : 6\n",
            "number of features 389\n",
            "data shape before extracting features (6290,)\n",
            "*** Feature extraction started ***\n"
          ]
        },
        {
          "output_type": "display_data",
          "data": {
            "text/plain": [
              "<IPython.core.display.HTML object>"
            ],
            "text/html": [
              "\n",
              "              <p>\n",
              "                  Progress: 100% Complete\n",
              "              <p/>            \n",
              "              <progress\n",
              "                  value='6'\n",
              "                  max='6',\n",
              "                  style='width: 25%',\n",
              "              >\n",
              "                  6\n",
              "              </progress>\n",
              "\n",
              "    "
            ]
          },
          "metadata": {}
        },
        {
          "output_type": "stream",
          "name": "stdout",
          "text": [
            "\n",
            "*** Feature extraction finished ***\n",
            "features shape is : (6, 389)\n",
            "number of windows : 6\n",
            "number of features 389\n",
            "data shape before extracting features (6290,)\n",
            "*** Feature extraction started ***\n"
          ]
        },
        {
          "output_type": "display_data",
          "data": {
            "text/plain": [
              "<IPython.core.display.HTML object>"
            ],
            "text/html": [
              "\n",
              "              <p>\n",
              "                  Progress: 100% Complete\n",
              "              <p/>            \n",
              "              <progress\n",
              "                  value='6'\n",
              "                  max='6',\n",
              "                  style='width: 25%',\n",
              "              >\n",
              "                  6\n",
              "              </progress>\n",
              "\n",
              "    "
            ]
          },
          "metadata": {}
        },
        {
          "output_type": "stream",
          "name": "stdout",
          "text": [
            "\n",
            "*** Feature extraction finished ***\n",
            "features shape is : (6, 389)\n",
            "number of windows : 6\n",
            "number of features 389\n",
            "data shape before extracting features (6290,)\n",
            "*** Feature extraction started ***\n"
          ]
        },
        {
          "output_type": "display_data",
          "data": {
            "text/plain": [
              "<IPython.core.display.HTML object>"
            ],
            "text/html": [
              "\n",
              "              <p>\n",
              "                  Progress: 100% Complete\n",
              "              <p/>            \n",
              "              <progress\n",
              "                  value='6'\n",
              "                  max='6',\n",
              "                  style='width: 25%',\n",
              "              >\n",
              "                  6\n",
              "              </progress>\n",
              "\n",
              "    "
            ]
          },
          "metadata": {}
        },
        {
          "output_type": "stream",
          "name": "stdout",
          "text": [
            "\n",
            "*** Feature extraction finished ***\n",
            "features shape is : (6, 389)\n",
            "number of windows : 6\n",
            "number of features 389\n",
            "data shape before extracting features (6290,)\n",
            "*** Feature extraction started ***\n"
          ]
        },
        {
          "output_type": "display_data",
          "data": {
            "text/plain": [
              "<IPython.core.display.HTML object>"
            ],
            "text/html": [
              "\n",
              "              <p>\n",
              "                  Progress: 100% Complete\n",
              "              <p/>            \n",
              "              <progress\n",
              "                  value='6'\n",
              "                  max='6',\n",
              "                  style='width: 25%',\n",
              "              >\n",
              "                  6\n",
              "              </progress>\n",
              "\n",
              "    "
            ]
          },
          "metadata": {}
        },
        {
          "output_type": "stream",
          "name": "stdout",
          "text": [
            "\n",
            "*** Feature extraction finished ***\n",
            "features shape is : (6, 389)\n",
            "number of windows : 6\n",
            "number of features 389\n",
            "data shape before extracting features (6290,)\n",
            "*** Feature extraction started ***\n"
          ]
        },
        {
          "output_type": "display_data",
          "data": {
            "text/plain": [
              "<IPython.core.display.HTML object>"
            ],
            "text/html": [
              "\n",
              "              <p>\n",
              "                  Progress: 100% Complete\n",
              "              <p/>            \n",
              "              <progress\n",
              "                  value='6'\n",
              "                  max='6',\n",
              "                  style='width: 25%',\n",
              "              >\n",
              "                  6\n",
              "              </progress>\n",
              "\n",
              "    "
            ]
          },
          "metadata": {}
        },
        {
          "output_type": "stream",
          "name": "stdout",
          "text": [
            "\n",
            "*** Feature extraction finished ***\n",
            "features shape is : (6, 389)\n",
            "number of windows : 6\n",
            "number of features 389\n",
            "data shape before extracting features (6290,)\n",
            "*** Feature extraction started ***\n"
          ]
        },
        {
          "output_type": "display_data",
          "data": {
            "text/plain": [
              "<IPython.core.display.HTML object>"
            ],
            "text/html": [
              "\n",
              "              <p>\n",
              "                  Progress: 100% Complete\n",
              "              <p/>            \n",
              "              <progress\n",
              "                  value='6'\n",
              "                  max='6',\n",
              "                  style='width: 25%',\n",
              "              >\n",
              "                  6\n",
              "              </progress>\n",
              "\n",
              "    "
            ]
          },
          "metadata": {}
        },
        {
          "output_type": "stream",
          "name": "stdout",
          "text": [
            "\n",
            "*** Feature extraction finished ***\n",
            "features shape is : (6, 389)\n",
            "number of windows : 6\n",
            "number of features 389\n",
            "data shape before extracting features (6290,)\n",
            "*** Feature extraction started ***\n"
          ]
        },
        {
          "output_type": "display_data",
          "data": {
            "text/plain": [
              "<IPython.core.display.HTML object>"
            ],
            "text/html": [
              "\n",
              "              <p>\n",
              "                  Progress: 100% Complete\n",
              "              <p/>            \n",
              "              <progress\n",
              "                  value='6'\n",
              "                  max='6',\n",
              "                  style='width: 25%',\n",
              "              >\n",
              "                  6\n",
              "              </progress>\n",
              "\n",
              "    "
            ]
          },
          "metadata": {}
        },
        {
          "output_type": "stream",
          "name": "stdout",
          "text": [
            "\n",
            "*** Feature extraction finished ***\n",
            "features shape is : (6, 389)\n",
            "number of windows : 6\n",
            "number of features 389\n",
            "data shape before extracting features (6290,)\n",
            "*** Feature extraction started ***\n"
          ]
        },
        {
          "output_type": "display_data",
          "data": {
            "text/plain": [
              "<IPython.core.display.HTML object>"
            ],
            "text/html": [
              "\n",
              "              <p>\n",
              "                  Progress: 100% Complete\n",
              "              <p/>            \n",
              "              <progress\n",
              "                  value='6'\n",
              "                  max='6',\n",
              "                  style='width: 25%',\n",
              "              >\n",
              "                  6\n",
              "              </progress>\n",
              "\n",
              "    "
            ]
          },
          "metadata": {}
        },
        {
          "output_type": "stream",
          "name": "stdout",
          "text": [
            "\n",
            "*** Feature extraction finished ***\n",
            "features shape is : (6, 389)\n",
            "number of windows : 6\n",
            "number of features 389\n",
            "data shape before extracting features (6290,)\n",
            "*** Feature extraction started ***\n"
          ]
        },
        {
          "output_type": "display_data",
          "data": {
            "text/plain": [
              "<IPython.core.display.HTML object>"
            ],
            "text/html": [
              "\n",
              "              <p>\n",
              "                  Progress: 100% Complete\n",
              "              <p/>            \n",
              "              <progress\n",
              "                  value='6'\n",
              "                  max='6',\n",
              "                  style='width: 25%',\n",
              "              >\n",
              "                  6\n",
              "              </progress>\n",
              "\n",
              "    "
            ]
          },
          "metadata": {}
        },
        {
          "output_type": "stream",
          "name": "stdout",
          "text": [
            "\n",
            "*** Feature extraction finished ***\n",
            "features shape is : (6, 389)\n",
            "number of windows : 6\n",
            "number of features 389\n",
            "data shape before extracting features (6290,)\n",
            "*** Feature extraction started ***\n"
          ]
        },
        {
          "output_type": "display_data",
          "data": {
            "text/plain": [
              "<IPython.core.display.HTML object>"
            ],
            "text/html": [
              "\n",
              "              <p>\n",
              "                  Progress: 100% Complete\n",
              "              <p/>            \n",
              "              <progress\n",
              "                  value='6'\n",
              "                  max='6',\n",
              "                  style='width: 25%',\n",
              "              >\n",
              "                  6\n",
              "              </progress>\n",
              "\n",
              "    "
            ]
          },
          "metadata": {}
        },
        {
          "output_type": "stream",
          "name": "stdout",
          "text": [
            "\n",
            "*** Feature extraction finished ***\n",
            "features shape is : (6, 389)\n",
            "number of windows : 6\n",
            "number of features 389\n",
            "data shape before extracting features (6290,)\n",
            "*** Feature extraction started ***\n"
          ]
        },
        {
          "output_type": "display_data",
          "data": {
            "text/plain": [
              "<IPython.core.display.HTML object>"
            ],
            "text/html": [
              "\n",
              "              <p>\n",
              "                  Progress: 100% Complete\n",
              "              <p/>            \n",
              "              <progress\n",
              "                  value='6'\n",
              "                  max='6',\n",
              "                  style='width: 25%',\n",
              "              >\n",
              "                  6\n",
              "              </progress>\n",
              "\n",
              "    "
            ]
          },
          "metadata": {}
        },
        {
          "output_type": "stream",
          "name": "stdout",
          "text": [
            "\n",
            "*** Feature extraction finished ***\n",
            "features shape is : (6, 389)\n",
            "number of windows : 6\n",
            "number of features 389\n",
            "data shape before extracting features (6290,)\n",
            "*** Feature extraction started ***\n"
          ]
        },
        {
          "output_type": "display_data",
          "data": {
            "text/plain": [
              "<IPython.core.display.HTML object>"
            ],
            "text/html": [
              "\n",
              "              <p>\n",
              "                  Progress: 100% Complete\n",
              "              <p/>            \n",
              "              <progress\n",
              "                  value='6'\n",
              "                  max='6',\n",
              "                  style='width: 25%',\n",
              "              >\n",
              "                  6\n",
              "              </progress>\n",
              "\n",
              "    "
            ]
          },
          "metadata": {}
        },
        {
          "output_type": "stream",
          "name": "stdout",
          "text": [
            "\n",
            "*** Feature extraction finished ***\n",
            "features shape is : (6, 389)\n",
            "number of windows : 6\n",
            "number of features 389\n",
            "data shape before extracting features (6290,)\n",
            "*** Feature extraction started ***\n"
          ]
        },
        {
          "output_type": "display_data",
          "data": {
            "text/plain": [
              "<IPython.core.display.HTML object>"
            ],
            "text/html": [
              "\n",
              "              <p>\n",
              "                  Progress: 100% Complete\n",
              "              <p/>            \n",
              "              <progress\n",
              "                  value='6'\n",
              "                  max='6',\n",
              "                  style='width: 25%',\n",
              "              >\n",
              "                  6\n",
              "              </progress>\n",
              "\n",
              "    "
            ]
          },
          "metadata": {}
        },
        {
          "output_type": "stream",
          "name": "stdout",
          "text": [
            "\n",
            "*** Feature extraction finished ***\n",
            "features shape is : (6, 389)\n",
            "number of windows : 6\n",
            "number of features 389\n",
            "data shape before extracting features (6290,)\n",
            "*** Feature extraction started ***\n"
          ]
        },
        {
          "output_type": "display_data",
          "data": {
            "text/plain": [
              "<IPython.core.display.HTML object>"
            ],
            "text/html": [
              "\n",
              "              <p>\n",
              "                  Progress: 100% Complete\n",
              "              <p/>            \n",
              "              <progress\n",
              "                  value='6'\n",
              "                  max='6',\n",
              "                  style='width: 25%',\n",
              "              >\n",
              "                  6\n",
              "              </progress>\n",
              "\n",
              "    "
            ]
          },
          "metadata": {}
        },
        {
          "output_type": "stream",
          "name": "stdout",
          "text": [
            "\n",
            "*** Feature extraction finished ***\n",
            "features shape is : (6, 389)\n",
            "number of windows : 6\n",
            "number of features 389\n",
            "data shape before extracting features (6290,)\n",
            "*** Feature extraction started ***\n"
          ]
        },
        {
          "output_type": "display_data",
          "data": {
            "text/plain": [
              "<IPython.core.display.HTML object>"
            ],
            "text/html": [
              "\n",
              "              <p>\n",
              "                  Progress: 100% Complete\n",
              "              <p/>            \n",
              "              <progress\n",
              "                  value='6'\n",
              "                  max='6',\n",
              "                  style='width: 25%',\n",
              "              >\n",
              "                  6\n",
              "              </progress>\n",
              "\n",
              "    "
            ]
          },
          "metadata": {}
        },
        {
          "output_type": "stream",
          "name": "stdout",
          "text": [
            "\n",
            "*** Feature extraction finished ***\n",
            "features shape is : (6, 389)\n",
            "number of windows : 6\n",
            "number of features 389\n",
            "data shape before extracting features (6290,)\n",
            "*** Feature extraction started ***\n"
          ]
        },
        {
          "output_type": "display_data",
          "data": {
            "text/plain": [
              "<IPython.core.display.HTML object>"
            ],
            "text/html": [
              "\n",
              "              <p>\n",
              "                  Progress: 100% Complete\n",
              "              <p/>            \n",
              "              <progress\n",
              "                  value='6'\n",
              "                  max='6',\n",
              "                  style='width: 25%',\n",
              "              >\n",
              "                  6\n",
              "              </progress>\n",
              "\n",
              "    "
            ]
          },
          "metadata": {}
        },
        {
          "output_type": "stream",
          "name": "stdout",
          "text": [
            "\n",
            "*** Feature extraction finished ***\n",
            "features shape is : (6, 389)\n",
            "number of windows : 6\n",
            "number of features 389\n",
            "data shape before extracting features (6290,)\n",
            "*** Feature extraction started ***\n"
          ]
        },
        {
          "output_type": "display_data",
          "data": {
            "text/plain": [
              "<IPython.core.display.HTML object>"
            ],
            "text/html": [
              "\n",
              "              <p>\n",
              "                  Progress: 100% Complete\n",
              "              <p/>            \n",
              "              <progress\n",
              "                  value='6'\n",
              "                  max='6',\n",
              "                  style='width: 25%',\n",
              "              >\n",
              "                  6\n",
              "              </progress>\n",
              "\n",
              "    "
            ]
          },
          "metadata": {}
        },
        {
          "output_type": "stream",
          "name": "stdout",
          "text": [
            "\n",
            "*** Feature extraction finished ***\n",
            "features shape is : (6, 389)\n",
            "number of windows : 6\n",
            "number of features 389\n",
            "data shape before extracting features (6290,)\n",
            "*** Feature extraction started ***\n"
          ]
        },
        {
          "output_type": "display_data",
          "data": {
            "text/plain": [
              "<IPython.core.display.HTML object>"
            ],
            "text/html": [
              "\n",
              "              <p>\n",
              "                  Progress: 100% Complete\n",
              "              <p/>            \n",
              "              <progress\n",
              "                  value='6'\n",
              "                  max='6',\n",
              "                  style='width: 25%',\n",
              "              >\n",
              "                  6\n",
              "              </progress>\n",
              "\n",
              "    "
            ]
          },
          "metadata": {}
        },
        {
          "output_type": "stream",
          "name": "stdout",
          "text": [
            "\n",
            "*** Feature extraction finished ***\n",
            "features shape is : (6, 389)\n",
            "number of windows : 6\n",
            "number of features 389\n",
            "data shape before extracting features (6290,)\n",
            "*** Feature extraction started ***\n"
          ]
        },
        {
          "output_type": "display_data",
          "data": {
            "text/plain": [
              "<IPython.core.display.HTML object>"
            ],
            "text/html": [
              "\n",
              "              <p>\n",
              "                  Progress: 100% Complete\n",
              "              <p/>            \n",
              "              <progress\n",
              "                  value='6'\n",
              "                  max='6',\n",
              "                  style='width: 25%',\n",
              "              >\n",
              "                  6\n",
              "              </progress>\n",
              "\n",
              "    "
            ]
          },
          "metadata": {}
        },
        {
          "output_type": "stream",
          "name": "stdout",
          "text": [
            "\n",
            "*** Feature extraction finished ***\n",
            "features shape is : (6, 389)\n",
            "number of windows : 6\n",
            "number of features 389\n",
            "data shape before extracting features (6290,)\n",
            "*** Feature extraction started ***\n"
          ]
        },
        {
          "output_type": "display_data",
          "data": {
            "text/plain": [
              "<IPython.core.display.HTML object>"
            ],
            "text/html": [
              "\n",
              "              <p>\n",
              "                  Progress: 100% Complete\n",
              "              <p/>            \n",
              "              <progress\n",
              "                  value='6'\n",
              "                  max='6',\n",
              "                  style='width: 25%',\n",
              "              >\n",
              "                  6\n",
              "              </progress>\n",
              "\n",
              "    "
            ]
          },
          "metadata": {}
        },
        {
          "output_type": "stream",
          "name": "stdout",
          "text": [
            "\n",
            "*** Feature extraction finished ***\n",
            "features shape is : (6, 389)\n",
            "number of windows : 6\n",
            "number of features 389\n",
            "data shape before extracting features (6290,)\n",
            "*** Feature extraction started ***\n"
          ]
        },
        {
          "output_type": "display_data",
          "data": {
            "text/plain": [
              "<IPython.core.display.HTML object>"
            ],
            "text/html": [
              "\n",
              "              <p>\n",
              "                  Progress: 100% Complete\n",
              "              <p/>            \n",
              "              <progress\n",
              "                  value='6'\n",
              "                  max='6',\n",
              "                  style='width: 25%',\n",
              "              >\n",
              "                  6\n",
              "              </progress>\n",
              "\n",
              "    "
            ]
          },
          "metadata": {}
        },
        {
          "output_type": "stream",
          "name": "stdout",
          "text": [
            "\n",
            "*** Feature extraction finished ***\n",
            "features shape is : (6, 389)\n",
            "number of windows : 6\n",
            "number of features 389\n",
            "data shape before extracting features (6290,)\n",
            "*** Feature extraction started ***\n"
          ]
        },
        {
          "output_type": "display_data",
          "data": {
            "text/plain": [
              "<IPython.core.display.HTML object>"
            ],
            "text/html": [
              "\n",
              "              <p>\n",
              "                  Progress: 100% Complete\n",
              "              <p/>            \n",
              "              <progress\n",
              "                  value='6'\n",
              "                  max='6',\n",
              "                  style='width: 25%',\n",
              "              >\n",
              "                  6\n",
              "              </progress>\n",
              "\n",
              "    "
            ]
          },
          "metadata": {}
        },
        {
          "output_type": "stream",
          "name": "stdout",
          "text": [
            "\n",
            "*** Feature extraction finished ***\n",
            "features shape is : (6, 389)\n",
            "number of windows : 6\n",
            "number of features 389\n",
            "data shape before extracting features (6290,)\n",
            "*** Feature extraction started ***\n"
          ]
        },
        {
          "output_type": "display_data",
          "data": {
            "text/plain": [
              "<IPython.core.display.HTML object>"
            ],
            "text/html": [
              "\n",
              "              <p>\n",
              "                  Progress: 100% Complete\n",
              "              <p/>            \n",
              "              <progress\n",
              "                  value='6'\n",
              "                  max='6',\n",
              "                  style='width: 25%',\n",
              "              >\n",
              "                  6\n",
              "              </progress>\n",
              "\n",
              "    "
            ]
          },
          "metadata": {}
        },
        {
          "output_type": "stream",
          "name": "stdout",
          "text": [
            "\n",
            "*** Feature extraction finished ***\n",
            "features shape is : (6, 389)\n",
            "number of windows : 6\n",
            "number of features 389\n",
            "data shape before extracting features (6290,)\n",
            "*** Feature extraction started ***\n"
          ]
        },
        {
          "output_type": "display_data",
          "data": {
            "text/plain": [
              "<IPython.core.display.HTML object>"
            ],
            "text/html": [
              "\n",
              "              <p>\n",
              "                  Progress: 100% Complete\n",
              "              <p/>            \n",
              "              <progress\n",
              "                  value='6'\n",
              "                  max='6',\n",
              "                  style='width: 25%',\n",
              "              >\n",
              "                  6\n",
              "              </progress>\n",
              "\n",
              "    "
            ]
          },
          "metadata": {}
        },
        {
          "output_type": "stream",
          "name": "stdout",
          "text": [
            "\n",
            "*** Feature extraction finished ***\n",
            "features shape is : (6, 389)\n",
            "number of windows : 6\n",
            "number of features 389\n",
            "data shape before extracting features (6290,)\n",
            "*** Feature extraction started ***\n"
          ]
        },
        {
          "output_type": "display_data",
          "data": {
            "text/plain": [
              "<IPython.core.display.HTML object>"
            ],
            "text/html": [
              "\n",
              "              <p>\n",
              "                  Progress: 100% Complete\n",
              "              <p/>            \n",
              "              <progress\n",
              "                  value='6'\n",
              "                  max='6',\n",
              "                  style='width: 25%',\n",
              "              >\n",
              "                  6\n",
              "              </progress>\n",
              "\n",
              "    "
            ]
          },
          "metadata": {}
        },
        {
          "output_type": "stream",
          "name": "stdout",
          "text": [
            "\n",
            "*** Feature extraction finished ***\n",
            "features shape is : (6, 389)\n",
            "number of windows : 6\n",
            "number of features 389\n",
            "data shape before extracting features (6290,)\n",
            "*** Feature extraction started ***\n"
          ]
        },
        {
          "output_type": "display_data",
          "data": {
            "text/plain": [
              "<IPython.core.display.HTML object>"
            ],
            "text/html": [
              "\n",
              "              <p>\n",
              "                  Progress: 100% Complete\n",
              "              <p/>            \n",
              "              <progress\n",
              "                  value='6'\n",
              "                  max='6',\n",
              "                  style='width: 25%',\n",
              "              >\n",
              "                  6\n",
              "              </progress>\n",
              "\n",
              "    "
            ]
          },
          "metadata": {}
        },
        {
          "output_type": "stream",
          "name": "stdout",
          "text": [
            "\n",
            "*** Feature extraction finished ***\n",
            "features shape is : (6, 389)\n",
            "number of windows : 6\n",
            "number of features 389\n",
            "data shape before extracting features (6290,)\n",
            "*** Feature extraction started ***\n"
          ]
        },
        {
          "output_type": "display_data",
          "data": {
            "text/plain": [
              "<IPython.core.display.HTML object>"
            ],
            "text/html": [
              "\n",
              "              <p>\n",
              "                  Progress: 100% Complete\n",
              "              <p/>            \n",
              "              <progress\n",
              "                  value='6'\n",
              "                  max='6',\n",
              "                  style='width: 25%',\n",
              "              >\n",
              "                  6\n",
              "              </progress>\n",
              "\n",
              "    "
            ]
          },
          "metadata": {}
        },
        {
          "output_type": "stream",
          "name": "stdout",
          "text": [
            "\n",
            "*** Feature extraction finished ***\n",
            "features shape is : (6, 389)\n",
            "number of windows : 6\n",
            "number of features 389\n",
            "data shape before extracting features (6290,)\n",
            "*** Feature extraction started ***\n"
          ]
        },
        {
          "output_type": "display_data",
          "data": {
            "text/plain": [
              "<IPython.core.display.HTML object>"
            ],
            "text/html": [
              "\n",
              "              <p>\n",
              "                  Progress: 100% Complete\n",
              "              <p/>            \n",
              "              <progress\n",
              "                  value='6'\n",
              "                  max='6',\n",
              "                  style='width: 25%',\n",
              "              >\n",
              "                  6\n",
              "              </progress>\n",
              "\n",
              "    "
            ]
          },
          "metadata": {}
        },
        {
          "output_type": "stream",
          "name": "stdout",
          "text": [
            "\n",
            "*** Feature extraction finished ***\n",
            "features shape is : (6, 389)\n",
            "number of windows : 6\n",
            "number of features 389\n",
            "data shape before extracting features (6290,)\n",
            "*** Feature extraction started ***\n"
          ]
        },
        {
          "output_type": "display_data",
          "data": {
            "text/plain": [
              "<IPython.core.display.HTML object>"
            ],
            "text/html": [
              "\n",
              "              <p>\n",
              "                  Progress: 100% Complete\n",
              "              <p/>            \n",
              "              <progress\n",
              "                  value='6'\n",
              "                  max='6',\n",
              "                  style='width: 25%',\n",
              "              >\n",
              "                  6\n",
              "              </progress>\n",
              "\n",
              "    "
            ]
          },
          "metadata": {}
        },
        {
          "output_type": "stream",
          "name": "stdout",
          "text": [
            "\n",
            "*** Feature extraction finished ***\n",
            "features shape is : (6, 389)\n",
            "number of windows : 6\n",
            "number of features 389\n",
            "data shape before extracting features (6290,)\n",
            "*** Feature extraction started ***\n"
          ]
        },
        {
          "output_type": "display_data",
          "data": {
            "text/plain": [
              "<IPython.core.display.HTML object>"
            ],
            "text/html": [
              "\n",
              "              <p>\n",
              "                  Progress: 100% Complete\n",
              "              <p/>            \n",
              "              <progress\n",
              "                  value='6'\n",
              "                  max='6',\n",
              "                  style='width: 25%',\n",
              "              >\n",
              "                  6\n",
              "              </progress>\n",
              "\n",
              "    "
            ]
          },
          "metadata": {}
        },
        {
          "output_type": "stream",
          "name": "stdout",
          "text": [
            "\n",
            "*** Feature extraction finished ***\n",
            "features shape is : (6, 389)\n",
            "number of windows : 6\n",
            "number of features 389\n",
            "data shape before extracting features (6290,)\n",
            "*** Feature extraction started ***\n"
          ]
        },
        {
          "output_type": "display_data",
          "data": {
            "text/plain": [
              "<IPython.core.display.HTML object>"
            ],
            "text/html": [
              "\n",
              "              <p>\n",
              "                  Progress: 100% Complete\n",
              "              <p/>            \n",
              "              <progress\n",
              "                  value='6'\n",
              "                  max='6',\n",
              "                  style='width: 25%',\n",
              "              >\n",
              "                  6\n",
              "              </progress>\n",
              "\n",
              "    "
            ]
          },
          "metadata": {}
        },
        {
          "output_type": "stream",
          "name": "stdout",
          "text": [
            "\n",
            "*** Feature extraction finished ***\n",
            "features shape is : (6, 389)\n",
            "number of windows : 6\n",
            "number of features 389\n",
            "data shape before extracting features (6290,)\n",
            "*** Feature extraction started ***\n"
          ]
        },
        {
          "output_type": "display_data",
          "data": {
            "text/plain": [
              "<IPython.core.display.HTML object>"
            ],
            "text/html": [
              "\n",
              "              <p>\n",
              "                  Progress: 100% Complete\n",
              "              <p/>            \n",
              "              <progress\n",
              "                  value='6'\n",
              "                  max='6',\n",
              "                  style='width: 25%',\n",
              "              >\n",
              "                  6\n",
              "              </progress>\n",
              "\n",
              "    "
            ]
          },
          "metadata": {}
        },
        {
          "output_type": "stream",
          "name": "stdout",
          "text": [
            "\n",
            "*** Feature extraction finished ***\n",
            "features shape is : (6, 389)\n",
            "number of windows : 6\n",
            "number of features 389\n",
            "data shape before extracting features (6290,)\n",
            "*** Feature extraction started ***\n"
          ]
        },
        {
          "output_type": "display_data",
          "data": {
            "text/plain": [
              "<IPython.core.display.HTML object>"
            ],
            "text/html": [
              "\n",
              "              <p>\n",
              "                  Progress: 100% Complete\n",
              "              <p/>            \n",
              "              <progress\n",
              "                  value='6'\n",
              "                  max='6',\n",
              "                  style='width: 25%',\n",
              "              >\n",
              "                  6\n",
              "              </progress>\n",
              "\n",
              "    "
            ]
          },
          "metadata": {}
        },
        {
          "output_type": "stream",
          "name": "stdout",
          "text": [
            "\n",
            "*** Feature extraction finished ***\n",
            "features shape is : (6, 389)\n",
            "number of windows : 6\n",
            "number of features 389\n",
            "data shape before extracting features (6290,)\n",
            "*** Feature extraction started ***\n"
          ]
        },
        {
          "output_type": "display_data",
          "data": {
            "text/plain": [
              "<IPython.core.display.HTML object>"
            ],
            "text/html": [
              "\n",
              "              <p>\n",
              "                  Progress: 100% Complete\n",
              "              <p/>            \n",
              "              <progress\n",
              "                  value='6'\n",
              "                  max='6',\n",
              "                  style='width: 25%',\n",
              "              >\n",
              "                  6\n",
              "              </progress>\n",
              "\n",
              "    "
            ]
          },
          "metadata": {}
        },
        {
          "output_type": "stream",
          "name": "stdout",
          "text": [
            "\n",
            "*** Feature extraction finished ***\n",
            "features shape is : (6, 389)\n",
            "number of windows : 6\n",
            "number of features 389\n",
            "data shape before extracting features (6290,)\n",
            "*** Feature extraction started ***\n"
          ]
        },
        {
          "output_type": "display_data",
          "data": {
            "text/plain": [
              "<IPython.core.display.HTML object>"
            ],
            "text/html": [
              "\n",
              "              <p>\n",
              "                  Progress: 100% Complete\n",
              "              <p/>            \n",
              "              <progress\n",
              "                  value='6'\n",
              "                  max='6',\n",
              "                  style='width: 25%',\n",
              "              >\n",
              "                  6\n",
              "              </progress>\n",
              "\n",
              "    "
            ]
          },
          "metadata": {}
        },
        {
          "output_type": "stream",
          "name": "stdout",
          "text": [
            "\n",
            "*** Feature extraction finished ***\n",
            "features shape is : (6, 389)\n",
            "number of windows : 6\n",
            "number of features 389\n",
            "data shape before extracting features (6290,)\n",
            "*** Feature extraction started ***\n"
          ]
        },
        {
          "output_type": "display_data",
          "data": {
            "text/plain": [
              "<IPython.core.display.HTML object>"
            ],
            "text/html": [
              "\n",
              "              <p>\n",
              "                  Progress: 100% Complete\n",
              "              <p/>            \n",
              "              <progress\n",
              "                  value='6'\n",
              "                  max='6',\n",
              "                  style='width: 25%',\n",
              "              >\n",
              "                  6\n",
              "              </progress>\n",
              "\n",
              "    "
            ]
          },
          "metadata": {}
        },
        {
          "output_type": "stream",
          "name": "stdout",
          "text": [
            "\n",
            "*** Feature extraction finished ***\n",
            "features shape is : (6, 389)\n",
            "number of windows : 6\n",
            "number of features 389\n",
            "data shape before extracting features (6290,)\n",
            "*** Feature extraction started ***\n"
          ]
        },
        {
          "output_type": "display_data",
          "data": {
            "text/plain": [
              "<IPython.core.display.HTML object>"
            ],
            "text/html": [
              "\n",
              "              <p>\n",
              "                  Progress: 100% Complete\n",
              "              <p/>            \n",
              "              <progress\n",
              "                  value='6'\n",
              "                  max='6',\n",
              "                  style='width: 25%',\n",
              "              >\n",
              "                  6\n",
              "              </progress>\n",
              "\n",
              "    "
            ]
          },
          "metadata": {}
        },
        {
          "output_type": "stream",
          "name": "stdout",
          "text": [
            "\n",
            "*** Feature extraction finished ***\n",
            "features shape is : (6, 389)\n",
            "number of windows : 6\n",
            "number of features 389\n",
            "data shape before extracting features (6290,)\n",
            "*** Feature extraction started ***\n"
          ]
        },
        {
          "output_type": "display_data",
          "data": {
            "text/plain": [
              "<IPython.core.display.HTML object>"
            ],
            "text/html": [
              "\n",
              "              <p>\n",
              "                  Progress: 100% Complete\n",
              "              <p/>            \n",
              "              <progress\n",
              "                  value='6'\n",
              "                  max='6',\n",
              "                  style='width: 25%',\n",
              "              >\n",
              "                  6\n",
              "              </progress>\n",
              "\n",
              "    "
            ]
          },
          "metadata": {}
        },
        {
          "output_type": "stream",
          "name": "stdout",
          "text": [
            "\n",
            "*** Feature extraction finished ***\n",
            "features shape is : (6, 389)\n",
            "number of windows : 6\n",
            "number of features 389\n",
            "data shape before extracting features (6290,)\n",
            "*** Feature extraction started ***\n"
          ]
        },
        {
          "output_type": "display_data",
          "data": {
            "text/plain": [
              "<IPython.core.display.HTML object>"
            ],
            "text/html": [
              "\n",
              "              <p>\n",
              "                  Progress: 100% Complete\n",
              "              <p/>            \n",
              "              <progress\n",
              "                  value='6'\n",
              "                  max='6',\n",
              "                  style='width: 25%',\n",
              "              >\n",
              "                  6\n",
              "              </progress>\n",
              "\n",
              "    "
            ]
          },
          "metadata": {}
        },
        {
          "output_type": "stream",
          "name": "stdout",
          "text": [
            "\n",
            "*** Feature extraction finished ***\n",
            "features shape is : (6, 389)\n",
            "number of windows : 6\n",
            "number of features 389\n",
            "data shape before extracting features (6290,)\n",
            "*** Feature extraction started ***\n"
          ]
        },
        {
          "output_type": "display_data",
          "data": {
            "text/plain": [
              "<IPython.core.display.HTML object>"
            ],
            "text/html": [
              "\n",
              "              <p>\n",
              "                  Progress: 100% Complete\n",
              "              <p/>            \n",
              "              <progress\n",
              "                  value='6'\n",
              "                  max='6',\n",
              "                  style='width: 25%',\n",
              "              >\n",
              "                  6\n",
              "              </progress>\n",
              "\n",
              "    "
            ]
          },
          "metadata": {}
        },
        {
          "output_type": "stream",
          "name": "stdout",
          "text": [
            "\n",
            "*** Feature extraction finished ***\n",
            "features shape is : (6, 389)\n",
            "number of windows : 6\n",
            "number of features 389\n",
            "data shape before extracting features (6290,)\n",
            "*** Feature extraction started ***\n"
          ]
        },
        {
          "output_type": "display_data",
          "data": {
            "text/plain": [
              "<IPython.core.display.HTML object>"
            ],
            "text/html": [
              "\n",
              "              <p>\n",
              "                  Progress: 100% Complete\n",
              "              <p/>            \n",
              "              <progress\n",
              "                  value='6'\n",
              "                  max='6',\n",
              "                  style='width: 25%',\n",
              "              >\n",
              "                  6\n",
              "              </progress>\n",
              "\n",
              "    "
            ]
          },
          "metadata": {}
        },
        {
          "output_type": "stream",
          "name": "stdout",
          "text": [
            "\n",
            "*** Feature extraction finished ***\n",
            "features shape is : (6, 389)\n",
            "number of windows : 6\n",
            "number of features 389\n",
            "data shape before extracting features (6290,)\n",
            "*** Feature extraction started ***\n"
          ]
        },
        {
          "output_type": "display_data",
          "data": {
            "text/plain": [
              "<IPython.core.display.HTML object>"
            ],
            "text/html": [
              "\n",
              "              <p>\n",
              "                  Progress: 100% Complete\n",
              "              <p/>            \n",
              "              <progress\n",
              "                  value='6'\n",
              "                  max='6',\n",
              "                  style='width: 25%',\n",
              "              >\n",
              "                  6\n",
              "              </progress>\n",
              "\n",
              "    "
            ]
          },
          "metadata": {}
        },
        {
          "output_type": "stream",
          "name": "stdout",
          "text": [
            "\n",
            "*** Feature extraction finished ***\n",
            "features shape is : (6, 389)\n",
            "number of windows : 6\n",
            "number of features 389\n",
            "data shape before extracting features (6290,)\n",
            "*** Feature extraction started ***\n"
          ]
        },
        {
          "output_type": "display_data",
          "data": {
            "text/plain": [
              "<IPython.core.display.HTML object>"
            ],
            "text/html": [
              "\n",
              "              <p>\n",
              "                  Progress: 100% Complete\n",
              "              <p/>            \n",
              "              <progress\n",
              "                  value='6'\n",
              "                  max='6',\n",
              "                  style='width: 25%',\n",
              "              >\n",
              "                  6\n",
              "              </progress>\n",
              "\n",
              "    "
            ]
          },
          "metadata": {}
        },
        {
          "output_type": "stream",
          "name": "stdout",
          "text": [
            "\n",
            "*** Feature extraction finished ***\n",
            "features shape is : (6, 389)\n",
            "number of windows : 6\n",
            "number of features 389\n",
            "data shape before extracting features (6290,)\n",
            "*** Feature extraction started ***\n"
          ]
        },
        {
          "output_type": "display_data",
          "data": {
            "text/plain": [
              "<IPython.core.display.HTML object>"
            ],
            "text/html": [
              "\n",
              "              <p>\n",
              "                  Progress: 100% Complete\n",
              "              <p/>            \n",
              "              <progress\n",
              "                  value='6'\n",
              "                  max='6',\n",
              "                  style='width: 25%',\n",
              "              >\n",
              "                  6\n",
              "              </progress>\n",
              "\n",
              "    "
            ]
          },
          "metadata": {}
        },
        {
          "output_type": "stream",
          "name": "stdout",
          "text": [
            "\n",
            "*** Feature extraction finished ***\n",
            "features shape is : (6, 389)\n",
            "number of windows : 6\n",
            "number of features 389\n",
            "data shape before extracting features (6290,)\n",
            "*** Feature extraction started ***\n"
          ]
        },
        {
          "output_type": "display_data",
          "data": {
            "text/plain": [
              "<IPython.core.display.HTML object>"
            ],
            "text/html": [
              "\n",
              "              <p>\n",
              "                  Progress: 100% Complete\n",
              "              <p/>            \n",
              "              <progress\n",
              "                  value='6'\n",
              "                  max='6',\n",
              "                  style='width: 25%',\n",
              "              >\n",
              "                  6\n",
              "              </progress>\n",
              "\n",
              "    "
            ]
          },
          "metadata": {}
        },
        {
          "output_type": "stream",
          "name": "stdout",
          "text": [
            "\n",
            "*** Feature extraction finished ***\n",
            "features shape is : (6, 389)\n",
            "number of windows : 6\n",
            "number of features 389\n",
            "data shape before extracting features (6290,)\n",
            "*** Feature extraction started ***\n"
          ]
        },
        {
          "output_type": "display_data",
          "data": {
            "text/plain": [
              "<IPython.core.display.HTML object>"
            ],
            "text/html": [
              "\n",
              "              <p>\n",
              "                  Progress: 100% Complete\n",
              "              <p/>            \n",
              "              <progress\n",
              "                  value='6'\n",
              "                  max='6',\n",
              "                  style='width: 25%',\n",
              "              >\n",
              "                  6\n",
              "              </progress>\n",
              "\n",
              "    "
            ]
          },
          "metadata": {}
        },
        {
          "output_type": "stream",
          "name": "stdout",
          "text": [
            "\n",
            "*** Feature extraction finished ***\n",
            "features shape is : (6, 389)\n",
            "number of windows : 6\n",
            "number of features 389\n",
            "data shape before extracting features (6290,)\n",
            "*** Feature extraction started ***\n"
          ]
        },
        {
          "output_type": "display_data",
          "data": {
            "text/plain": [
              "<IPython.core.display.HTML object>"
            ],
            "text/html": [
              "\n",
              "              <p>\n",
              "                  Progress: 100% Complete\n",
              "              <p/>            \n",
              "              <progress\n",
              "                  value='6'\n",
              "                  max='6',\n",
              "                  style='width: 25%',\n",
              "              >\n",
              "                  6\n",
              "              </progress>\n",
              "\n",
              "    "
            ]
          },
          "metadata": {}
        },
        {
          "output_type": "stream",
          "name": "stdout",
          "text": [
            "\n",
            "*** Feature extraction finished ***\n",
            "features shape is : (6, 389)\n",
            "number of windows : 6\n",
            "number of features 389\n",
            "data shape before extracting features (6290,)\n",
            "*** Feature extraction started ***\n"
          ]
        },
        {
          "output_type": "display_data",
          "data": {
            "text/plain": [
              "<IPython.core.display.HTML object>"
            ],
            "text/html": [
              "\n",
              "              <p>\n",
              "                  Progress: 100% Complete\n",
              "              <p/>            \n",
              "              <progress\n",
              "                  value='6'\n",
              "                  max='6',\n",
              "                  style='width: 25%',\n",
              "              >\n",
              "                  6\n",
              "              </progress>\n",
              "\n",
              "    "
            ]
          },
          "metadata": {}
        },
        {
          "output_type": "stream",
          "name": "stdout",
          "text": [
            "\n",
            "*** Feature extraction finished ***\n",
            "features shape is : (6, 389)\n",
            "number of windows : 6\n",
            "number of features 389\n",
            "data shape before extracting features (6290,)\n",
            "*** Feature extraction started ***\n"
          ]
        },
        {
          "output_type": "display_data",
          "data": {
            "text/plain": [
              "<IPython.core.display.HTML object>"
            ],
            "text/html": [
              "\n",
              "              <p>\n",
              "                  Progress: 100% Complete\n",
              "              <p/>            \n",
              "              <progress\n",
              "                  value='6'\n",
              "                  max='6',\n",
              "                  style='width: 25%',\n",
              "              >\n",
              "                  6\n",
              "              </progress>\n",
              "\n",
              "    "
            ]
          },
          "metadata": {}
        },
        {
          "output_type": "stream",
          "name": "stdout",
          "text": [
            "\n",
            "*** Feature extraction finished ***\n",
            "features shape is : (6, 389)\n",
            "number of windows : 6\n",
            "number of features 389\n",
            "data shape before extracting features (6290,)\n",
            "*** Feature extraction started ***\n"
          ]
        },
        {
          "output_type": "display_data",
          "data": {
            "text/plain": [
              "<IPython.core.display.HTML object>"
            ],
            "text/html": [
              "\n",
              "              <p>\n",
              "                  Progress: 100% Complete\n",
              "              <p/>            \n",
              "              <progress\n",
              "                  value='6'\n",
              "                  max='6',\n",
              "                  style='width: 25%',\n",
              "              >\n",
              "                  6\n",
              "              </progress>\n",
              "\n",
              "    "
            ]
          },
          "metadata": {}
        },
        {
          "output_type": "stream",
          "name": "stdout",
          "text": [
            "\n",
            "*** Feature extraction finished ***\n",
            "features shape is : (6, 389)\n",
            "number of windows : 6\n",
            "number of features 389\n",
            "data shape before extracting features (6290,)\n",
            "*** Feature extraction started ***\n"
          ]
        },
        {
          "output_type": "display_data",
          "data": {
            "text/plain": [
              "<IPython.core.display.HTML object>"
            ],
            "text/html": [
              "\n",
              "              <p>\n",
              "                  Progress: 100% Complete\n",
              "              <p/>            \n",
              "              <progress\n",
              "                  value='6'\n",
              "                  max='6',\n",
              "                  style='width: 25%',\n",
              "              >\n",
              "                  6\n",
              "              </progress>\n",
              "\n",
              "    "
            ]
          },
          "metadata": {}
        },
        {
          "output_type": "stream",
          "name": "stdout",
          "text": [
            "\n",
            "*** Feature extraction finished ***\n",
            "features shape is : (6, 389)\n",
            "number of windows : 6\n",
            "number of features 389\n",
            "data shape before extracting features (6290,)\n",
            "*** Feature extraction started ***\n"
          ]
        },
        {
          "output_type": "display_data",
          "data": {
            "text/plain": [
              "<IPython.core.display.HTML object>"
            ],
            "text/html": [
              "\n",
              "              <p>\n",
              "                  Progress: 100% Complete\n",
              "              <p/>            \n",
              "              <progress\n",
              "                  value='6'\n",
              "                  max='6',\n",
              "                  style='width: 25%',\n",
              "              >\n",
              "                  6\n",
              "              </progress>\n",
              "\n",
              "    "
            ]
          },
          "metadata": {}
        },
        {
          "output_type": "stream",
          "name": "stdout",
          "text": [
            "\n",
            "*** Feature extraction finished ***\n",
            "features shape is : (6, 389)\n",
            "number of windows : 6\n",
            "number of features 389\n",
            "data shape before extracting features (6290,)\n",
            "*** Feature extraction started ***\n"
          ]
        },
        {
          "output_type": "display_data",
          "data": {
            "text/plain": [
              "<IPython.core.display.HTML object>"
            ],
            "text/html": [
              "\n",
              "              <p>\n",
              "                  Progress: 100% Complete\n",
              "              <p/>            \n",
              "              <progress\n",
              "                  value='6'\n",
              "                  max='6',\n",
              "                  style='width: 25%',\n",
              "              >\n",
              "                  6\n",
              "              </progress>\n",
              "\n",
              "    "
            ]
          },
          "metadata": {}
        },
        {
          "output_type": "stream",
          "name": "stdout",
          "text": [
            "\n",
            "*** Feature extraction finished ***\n",
            "features shape is : (6, 389)\n",
            "number of windows : 6\n",
            "number of features 389\n",
            "data shape before extracting features (6290,)\n",
            "*** Feature extraction started ***\n"
          ]
        },
        {
          "output_type": "display_data",
          "data": {
            "text/plain": [
              "<IPython.core.display.HTML object>"
            ],
            "text/html": [
              "\n",
              "              <p>\n",
              "                  Progress: 100% Complete\n",
              "              <p/>            \n",
              "              <progress\n",
              "                  value='6'\n",
              "                  max='6',\n",
              "                  style='width: 25%',\n",
              "              >\n",
              "                  6\n",
              "              </progress>\n",
              "\n",
              "    "
            ]
          },
          "metadata": {}
        },
        {
          "output_type": "stream",
          "name": "stdout",
          "text": [
            "\n",
            "*** Feature extraction finished ***\n",
            "features shape is : (6, 389)\n",
            "number of windows : 6\n",
            "number of features 389\n",
            "data shape before extracting features (6290,)\n",
            "*** Feature extraction started ***\n"
          ]
        },
        {
          "output_type": "display_data",
          "data": {
            "text/plain": [
              "<IPython.core.display.HTML object>"
            ],
            "text/html": [
              "\n",
              "              <p>\n",
              "                  Progress: 100% Complete\n",
              "              <p/>            \n",
              "              <progress\n",
              "                  value='6'\n",
              "                  max='6',\n",
              "                  style='width: 25%',\n",
              "              >\n",
              "                  6\n",
              "              </progress>\n",
              "\n",
              "    "
            ]
          },
          "metadata": {}
        },
        {
          "output_type": "stream",
          "name": "stdout",
          "text": [
            "\n",
            "*** Feature extraction finished ***\n",
            "features shape is : (6, 389)\n",
            "number of windows : 6\n",
            "number of features 389\n",
            "data shape before extracting features (6290,)\n",
            "*** Feature extraction started ***\n"
          ]
        },
        {
          "output_type": "display_data",
          "data": {
            "text/plain": [
              "<IPython.core.display.HTML object>"
            ],
            "text/html": [
              "\n",
              "              <p>\n",
              "                  Progress: 100% Complete\n",
              "              <p/>            \n",
              "              <progress\n",
              "                  value='6'\n",
              "                  max='6',\n",
              "                  style='width: 25%',\n",
              "              >\n",
              "                  6\n",
              "              </progress>\n",
              "\n",
              "    "
            ]
          },
          "metadata": {}
        },
        {
          "output_type": "stream",
          "name": "stdout",
          "text": [
            "\n",
            "*** Feature extraction finished ***\n",
            "features shape is : (6, 389)\n",
            "number of windows : 6\n",
            "number of features 389\n",
            "data shape before extracting features (6290,)\n",
            "*** Feature extraction started ***\n"
          ]
        },
        {
          "output_type": "display_data",
          "data": {
            "text/plain": [
              "<IPython.core.display.HTML object>"
            ],
            "text/html": [
              "\n",
              "              <p>\n",
              "                  Progress: 100% Complete\n",
              "              <p/>            \n",
              "              <progress\n",
              "                  value='6'\n",
              "                  max='6',\n",
              "                  style='width: 25%',\n",
              "              >\n",
              "                  6\n",
              "              </progress>\n",
              "\n",
              "    "
            ]
          },
          "metadata": {}
        },
        {
          "output_type": "stream",
          "name": "stdout",
          "text": [
            "\n",
            "*** Feature extraction finished ***\n",
            "features shape is : (6, 389)\n",
            "number of windows : 6\n",
            "number of features 389\n",
            "data shape before extracting features (6290,)\n",
            "*** Feature extraction started ***\n"
          ]
        },
        {
          "output_type": "display_data",
          "data": {
            "text/plain": [
              "<IPython.core.display.HTML object>"
            ],
            "text/html": [
              "\n",
              "              <p>\n",
              "                  Progress: 100% Complete\n",
              "              <p/>            \n",
              "              <progress\n",
              "                  value='6'\n",
              "                  max='6',\n",
              "                  style='width: 25%',\n",
              "              >\n",
              "                  6\n",
              "              </progress>\n",
              "\n",
              "    "
            ]
          },
          "metadata": {}
        },
        {
          "output_type": "stream",
          "name": "stdout",
          "text": [
            "\n",
            "*** Feature extraction finished ***\n",
            "features shape is : (6, 389)\n",
            "number of windows : 6\n",
            "number of features 389\n",
            "data shape before extracting features (6290,)\n",
            "*** Feature extraction started ***\n"
          ]
        },
        {
          "output_type": "display_data",
          "data": {
            "text/plain": [
              "<IPython.core.display.HTML object>"
            ],
            "text/html": [
              "\n",
              "              <p>\n",
              "                  Progress: 100% Complete\n",
              "              <p/>            \n",
              "              <progress\n",
              "                  value='6'\n",
              "                  max='6',\n",
              "                  style='width: 25%',\n",
              "              >\n",
              "                  6\n",
              "              </progress>\n",
              "\n",
              "    "
            ]
          },
          "metadata": {}
        },
        {
          "output_type": "stream",
          "name": "stdout",
          "text": [
            "\n",
            "*** Feature extraction finished ***\n",
            "features shape is : (6, 389)\n",
            "number of windows : 6\n",
            "number of features 389\n",
            "data shape before extracting features (6290,)\n",
            "*** Feature extraction started ***\n"
          ]
        },
        {
          "output_type": "display_data",
          "data": {
            "text/plain": [
              "<IPython.core.display.HTML object>"
            ],
            "text/html": [
              "\n",
              "              <p>\n",
              "                  Progress: 100% Complete\n",
              "              <p/>            \n",
              "              <progress\n",
              "                  value='6'\n",
              "                  max='6',\n",
              "                  style='width: 25%',\n",
              "              >\n",
              "                  6\n",
              "              </progress>\n",
              "\n",
              "    "
            ]
          },
          "metadata": {}
        },
        {
          "output_type": "stream",
          "name": "stdout",
          "text": [
            "\n",
            "*** Feature extraction finished ***\n",
            "features shape is : (6, 389)\n",
            "number of windows : 6\n",
            "number of features 389\n",
            "data shape before extracting features (6290,)\n",
            "*** Feature extraction started ***\n"
          ]
        },
        {
          "output_type": "display_data",
          "data": {
            "text/plain": [
              "<IPython.core.display.HTML object>"
            ],
            "text/html": [
              "\n",
              "              <p>\n",
              "                  Progress: 100% Complete\n",
              "              <p/>            \n",
              "              <progress\n",
              "                  value='6'\n",
              "                  max='6',\n",
              "                  style='width: 25%',\n",
              "              >\n",
              "                  6\n",
              "              </progress>\n",
              "\n",
              "    "
            ]
          },
          "metadata": {}
        },
        {
          "output_type": "stream",
          "name": "stdout",
          "text": [
            "\n",
            "*** Feature extraction finished ***\n",
            "features shape is : (6, 389)\n",
            "number of windows : 6\n",
            "number of features 389\n",
            "data shape before extracting features (6290,)\n",
            "*** Feature extraction started ***\n"
          ]
        },
        {
          "output_type": "display_data",
          "data": {
            "text/plain": [
              "<IPython.core.display.HTML object>"
            ],
            "text/html": [
              "\n",
              "              <p>\n",
              "                  Progress: 100% Complete\n",
              "              <p/>            \n",
              "              <progress\n",
              "                  value='6'\n",
              "                  max='6',\n",
              "                  style='width: 25%',\n",
              "              >\n",
              "                  6\n",
              "              </progress>\n",
              "\n",
              "    "
            ]
          },
          "metadata": {}
        },
        {
          "output_type": "stream",
          "name": "stdout",
          "text": [
            "\n",
            "*** Feature extraction finished ***\n",
            "features shape is : (6, 389)\n",
            "number of windows : 6\n",
            "number of features 389\n",
            "data shape before extracting features (6290,)\n",
            "*** Feature extraction started ***\n"
          ]
        },
        {
          "output_type": "display_data",
          "data": {
            "text/plain": [
              "<IPython.core.display.HTML object>"
            ],
            "text/html": [
              "\n",
              "              <p>\n",
              "                  Progress: 100% Complete\n",
              "              <p/>            \n",
              "              <progress\n",
              "                  value='6'\n",
              "                  max='6',\n",
              "                  style='width: 25%',\n",
              "              >\n",
              "                  6\n",
              "              </progress>\n",
              "\n",
              "    "
            ]
          },
          "metadata": {}
        },
        {
          "output_type": "stream",
          "name": "stdout",
          "text": [
            "\n",
            "*** Feature extraction finished ***\n",
            "features shape is : (6, 389)\n",
            "number of windows : 6\n",
            "number of features 389\n",
            "data shape before extracting features (6290,)\n",
            "*** Feature extraction started ***\n"
          ]
        },
        {
          "output_type": "display_data",
          "data": {
            "text/plain": [
              "<IPython.core.display.HTML object>"
            ],
            "text/html": [
              "\n",
              "              <p>\n",
              "                  Progress: 100% Complete\n",
              "              <p/>            \n",
              "              <progress\n",
              "                  value='6'\n",
              "                  max='6',\n",
              "                  style='width: 25%',\n",
              "              >\n",
              "                  6\n",
              "              </progress>\n",
              "\n",
              "    "
            ]
          },
          "metadata": {}
        },
        {
          "output_type": "stream",
          "name": "stdout",
          "text": [
            "\n",
            "*** Feature extraction finished ***\n",
            "features shape is : (6, 389)\n",
            "number of windows : 6\n",
            "number of features 389\n",
            "data shape before extracting features (6290,)\n",
            "*** Feature extraction started ***\n"
          ]
        },
        {
          "output_type": "display_data",
          "data": {
            "text/plain": [
              "<IPython.core.display.HTML object>"
            ],
            "text/html": [
              "\n",
              "              <p>\n",
              "                  Progress: 100% Complete\n",
              "              <p/>            \n",
              "              <progress\n",
              "                  value='6'\n",
              "                  max='6',\n",
              "                  style='width: 25%',\n",
              "              >\n",
              "                  6\n",
              "              </progress>\n",
              "\n",
              "    "
            ]
          },
          "metadata": {}
        },
        {
          "output_type": "stream",
          "name": "stdout",
          "text": [
            "\n",
            "*** Feature extraction finished ***\n",
            "features shape is : (6, 389)\n",
            "number of windows : 6\n",
            "number of features 389\n",
            "data shape before extracting features (6290,)\n",
            "*** Feature extraction started ***\n"
          ]
        },
        {
          "output_type": "display_data",
          "data": {
            "text/plain": [
              "<IPython.core.display.HTML object>"
            ],
            "text/html": [
              "\n",
              "              <p>\n",
              "                  Progress: 100% Complete\n",
              "              <p/>            \n",
              "              <progress\n",
              "                  value='6'\n",
              "                  max='6',\n",
              "                  style='width: 25%',\n",
              "              >\n",
              "                  6\n",
              "              </progress>\n",
              "\n",
              "    "
            ]
          },
          "metadata": {}
        },
        {
          "output_type": "stream",
          "name": "stdout",
          "text": [
            "\n",
            "*** Feature extraction finished ***\n",
            "features shape is : (6, 389)\n",
            "number of windows : 6\n",
            "number of features 389\n",
            "data shape before extracting features (6290,)\n",
            "*** Feature extraction started ***\n"
          ]
        },
        {
          "output_type": "display_data",
          "data": {
            "text/plain": [
              "<IPython.core.display.HTML object>"
            ],
            "text/html": [
              "\n",
              "              <p>\n",
              "                  Progress: 100% Complete\n",
              "              <p/>            \n",
              "              <progress\n",
              "                  value='6'\n",
              "                  max='6',\n",
              "                  style='width: 25%',\n",
              "              >\n",
              "                  6\n",
              "              </progress>\n",
              "\n",
              "    "
            ]
          },
          "metadata": {}
        },
        {
          "output_type": "stream",
          "name": "stdout",
          "text": [
            "\n",
            "*** Feature extraction finished ***\n",
            "features shape is : (6, 389)\n",
            "number of windows : 6\n",
            "number of features 389\n",
            "data shape before extracting features (6290,)\n",
            "*** Feature extraction started ***\n"
          ]
        },
        {
          "output_type": "display_data",
          "data": {
            "text/plain": [
              "<IPython.core.display.HTML object>"
            ],
            "text/html": [
              "\n",
              "              <p>\n",
              "                  Progress: 100% Complete\n",
              "              <p/>            \n",
              "              <progress\n",
              "                  value='6'\n",
              "                  max='6',\n",
              "                  style='width: 25%',\n",
              "              >\n",
              "                  6\n",
              "              </progress>\n",
              "\n",
              "    "
            ]
          },
          "metadata": {}
        },
        {
          "output_type": "stream",
          "name": "stdout",
          "text": [
            "\n",
            "*** Feature extraction finished ***\n",
            "features shape is : (6, 389)\n",
            "number of windows : 6\n",
            "number of features 389\n",
            "data shape before extracting features (6290,)\n",
            "*** Feature extraction started ***\n"
          ]
        },
        {
          "output_type": "display_data",
          "data": {
            "text/plain": [
              "<IPython.core.display.HTML object>"
            ],
            "text/html": [
              "\n",
              "              <p>\n",
              "                  Progress: 100% Complete\n",
              "              <p/>            \n",
              "              <progress\n",
              "                  value='6'\n",
              "                  max='6',\n",
              "                  style='width: 25%',\n",
              "              >\n",
              "                  6\n",
              "              </progress>\n",
              "\n",
              "    "
            ]
          },
          "metadata": {}
        },
        {
          "output_type": "stream",
          "name": "stdout",
          "text": [
            "\n",
            "*** Feature extraction finished ***\n",
            "features shape is : (6, 389)\n",
            "number of windows : 6\n",
            "number of features 389\n",
            "data shape before extracting features (6290,)\n",
            "*** Feature extraction started ***\n"
          ]
        },
        {
          "output_type": "display_data",
          "data": {
            "text/plain": [
              "<IPython.core.display.HTML object>"
            ],
            "text/html": [
              "\n",
              "              <p>\n",
              "                  Progress: 100% Complete\n",
              "              <p/>            \n",
              "              <progress\n",
              "                  value='6'\n",
              "                  max='6',\n",
              "                  style='width: 25%',\n",
              "              >\n",
              "                  6\n",
              "              </progress>\n",
              "\n",
              "    "
            ]
          },
          "metadata": {}
        },
        {
          "output_type": "stream",
          "name": "stdout",
          "text": [
            "\n",
            "*** Feature extraction finished ***\n",
            "features shape is : (6, 389)\n",
            "number of windows : 6\n",
            "number of features 389\n",
            "data shape before extracting features (6290,)\n",
            "*** Feature extraction started ***\n"
          ]
        },
        {
          "output_type": "display_data",
          "data": {
            "text/plain": [
              "<IPython.core.display.HTML object>"
            ],
            "text/html": [
              "\n",
              "              <p>\n",
              "                  Progress: 100% Complete\n",
              "              <p/>            \n",
              "              <progress\n",
              "                  value='6'\n",
              "                  max='6',\n",
              "                  style='width: 25%',\n",
              "              >\n",
              "                  6\n",
              "              </progress>\n",
              "\n",
              "    "
            ]
          },
          "metadata": {}
        },
        {
          "output_type": "stream",
          "name": "stdout",
          "text": [
            "\n",
            "*** Feature extraction finished ***\n",
            "features shape is : (6, 389)\n",
            "number of windows : 6\n",
            "number of features 389\n",
            "data shape before extracting features (6290,)\n",
            "*** Feature extraction started ***\n"
          ]
        },
        {
          "output_type": "display_data",
          "data": {
            "text/plain": [
              "<IPython.core.display.HTML object>"
            ],
            "text/html": [
              "\n",
              "              <p>\n",
              "                  Progress: 100% Complete\n",
              "              <p/>            \n",
              "              <progress\n",
              "                  value='6'\n",
              "                  max='6',\n",
              "                  style='width: 25%',\n",
              "              >\n",
              "                  6\n",
              "              </progress>\n",
              "\n",
              "    "
            ]
          },
          "metadata": {}
        },
        {
          "output_type": "stream",
          "name": "stdout",
          "text": [
            "\n",
            "*** Feature extraction finished ***\n",
            "features shape is : (6, 389)\n",
            "number of windows : 6\n",
            "number of features 389\n",
            "data shape before extracting features (6290,)\n",
            "*** Feature extraction started ***\n"
          ]
        },
        {
          "output_type": "display_data",
          "data": {
            "text/plain": [
              "<IPython.core.display.HTML object>"
            ],
            "text/html": [
              "\n",
              "              <p>\n",
              "                  Progress: 100% Complete\n",
              "              <p/>            \n",
              "              <progress\n",
              "                  value='6'\n",
              "                  max='6',\n",
              "                  style='width: 25%',\n",
              "              >\n",
              "                  6\n",
              "              </progress>\n",
              "\n",
              "    "
            ]
          },
          "metadata": {}
        },
        {
          "output_type": "stream",
          "name": "stdout",
          "text": [
            "\n",
            "*** Feature extraction finished ***\n",
            "features shape is : (6, 389)\n",
            "number of windows : 6\n",
            "number of features 389\n",
            "data shape before extracting features (6290,)\n",
            "*** Feature extraction started ***\n"
          ]
        },
        {
          "output_type": "display_data",
          "data": {
            "text/plain": [
              "<IPython.core.display.HTML object>"
            ],
            "text/html": [
              "\n",
              "              <p>\n",
              "                  Progress: 100% Complete\n",
              "              <p/>            \n",
              "              <progress\n",
              "                  value='6'\n",
              "                  max='6',\n",
              "                  style='width: 25%',\n",
              "              >\n",
              "                  6\n",
              "              </progress>\n",
              "\n",
              "    "
            ]
          },
          "metadata": {}
        },
        {
          "output_type": "stream",
          "name": "stdout",
          "text": [
            "\n",
            "*** Feature extraction finished ***\n",
            "features shape is : (6, 389)\n",
            "number of windows : 6\n",
            "number of features 389\n",
            "data shape before extracting features (6290,)\n",
            "*** Feature extraction started ***\n"
          ]
        },
        {
          "output_type": "display_data",
          "data": {
            "text/plain": [
              "<IPython.core.display.HTML object>"
            ],
            "text/html": [
              "\n",
              "              <p>\n",
              "                  Progress: 100% Complete\n",
              "              <p/>            \n",
              "              <progress\n",
              "                  value='6'\n",
              "                  max='6',\n",
              "                  style='width: 25%',\n",
              "              >\n",
              "                  6\n",
              "              </progress>\n",
              "\n",
              "    "
            ]
          },
          "metadata": {}
        },
        {
          "output_type": "stream",
          "name": "stdout",
          "text": [
            "\n",
            "*** Feature extraction finished ***\n",
            "features shape is : (6, 389)\n",
            "number of windows : 6\n",
            "number of features 389\n",
            "data shape before extracting features (6290,)\n",
            "*** Feature extraction started ***\n"
          ]
        },
        {
          "output_type": "display_data",
          "data": {
            "text/plain": [
              "<IPython.core.display.HTML object>"
            ],
            "text/html": [
              "\n",
              "              <p>\n",
              "                  Progress: 100% Complete\n",
              "              <p/>            \n",
              "              <progress\n",
              "                  value='6'\n",
              "                  max='6',\n",
              "                  style='width: 25%',\n",
              "              >\n",
              "                  6\n",
              "              </progress>\n",
              "\n",
              "    "
            ]
          },
          "metadata": {}
        },
        {
          "output_type": "stream",
          "name": "stdout",
          "text": [
            "\n",
            "*** Feature extraction finished ***\n",
            "features shape is : (6, 389)\n",
            "number of windows : 6\n",
            "number of features 389\n",
            "data shape before extracting features (6290,)\n",
            "*** Feature extraction started ***\n"
          ]
        },
        {
          "output_type": "display_data",
          "data": {
            "text/plain": [
              "<IPython.core.display.HTML object>"
            ],
            "text/html": [
              "\n",
              "              <p>\n",
              "                  Progress: 100% Complete\n",
              "              <p/>            \n",
              "              <progress\n",
              "                  value='6'\n",
              "                  max='6',\n",
              "                  style='width: 25%',\n",
              "              >\n",
              "                  6\n",
              "              </progress>\n",
              "\n",
              "    "
            ]
          },
          "metadata": {}
        },
        {
          "output_type": "stream",
          "name": "stdout",
          "text": [
            "\n",
            "*** Feature extraction finished ***\n",
            "features shape is : (6, 389)\n",
            "number of windows : 6\n",
            "number of features 389\n",
            "data shape before extracting features (6290,)\n",
            "*** Feature extraction started ***\n"
          ]
        },
        {
          "output_type": "display_data",
          "data": {
            "text/plain": [
              "<IPython.core.display.HTML object>"
            ],
            "text/html": [
              "\n",
              "              <p>\n",
              "                  Progress: 100% Complete\n",
              "              <p/>            \n",
              "              <progress\n",
              "                  value='6'\n",
              "                  max='6',\n",
              "                  style='width: 25%',\n",
              "              >\n",
              "                  6\n",
              "              </progress>\n",
              "\n",
              "    "
            ]
          },
          "metadata": {}
        },
        {
          "output_type": "stream",
          "name": "stdout",
          "text": [
            "\n",
            "*** Feature extraction finished ***\n",
            "features shape is : (6, 389)\n",
            "number of windows : 6\n",
            "number of features 389\n",
            "data shape before extracting features (6290,)\n",
            "*** Feature extraction started ***\n"
          ]
        },
        {
          "output_type": "display_data",
          "data": {
            "text/plain": [
              "<IPython.core.display.HTML object>"
            ],
            "text/html": [
              "\n",
              "              <p>\n",
              "                  Progress: 100% Complete\n",
              "              <p/>            \n",
              "              <progress\n",
              "                  value='6'\n",
              "                  max='6',\n",
              "                  style='width: 25%',\n",
              "              >\n",
              "                  6\n",
              "              </progress>\n",
              "\n",
              "    "
            ]
          },
          "metadata": {}
        },
        {
          "output_type": "stream",
          "name": "stdout",
          "text": [
            "\n",
            "*** Feature extraction finished ***\n",
            "features shape is : (6, 389)\n",
            "number of windows : 6\n",
            "number of features 389\n",
            "data shape before extracting features (6290,)\n",
            "*** Feature extraction started ***\n"
          ]
        },
        {
          "output_type": "display_data",
          "data": {
            "text/plain": [
              "<IPython.core.display.HTML object>"
            ],
            "text/html": [
              "\n",
              "              <p>\n",
              "                  Progress: 100% Complete\n",
              "              <p/>            \n",
              "              <progress\n",
              "                  value='6'\n",
              "                  max='6',\n",
              "                  style='width: 25%',\n",
              "              >\n",
              "                  6\n",
              "              </progress>\n",
              "\n",
              "    "
            ]
          },
          "metadata": {}
        },
        {
          "output_type": "stream",
          "name": "stdout",
          "text": [
            "\n",
            "*** Feature extraction finished ***\n",
            "features shape is : (6, 389)\n",
            "number of windows : 6\n",
            "number of features 389\n",
            "data shape before extracting features (6290,)\n",
            "*** Feature extraction started ***\n"
          ]
        },
        {
          "output_type": "display_data",
          "data": {
            "text/plain": [
              "<IPython.core.display.HTML object>"
            ],
            "text/html": [
              "\n",
              "              <p>\n",
              "                  Progress: 100% Complete\n",
              "              <p/>            \n",
              "              <progress\n",
              "                  value='6'\n",
              "                  max='6',\n",
              "                  style='width: 25%',\n",
              "              >\n",
              "                  6\n",
              "              </progress>\n",
              "\n",
              "    "
            ]
          },
          "metadata": {}
        },
        {
          "output_type": "stream",
          "name": "stdout",
          "text": [
            "\n",
            "*** Feature extraction finished ***\n",
            "features shape is : (6, 389)\n",
            "number of windows : 6\n",
            "number of features 389\n",
            "data shape before extracting features (6290,)\n",
            "*** Feature extraction started ***\n"
          ]
        },
        {
          "output_type": "display_data",
          "data": {
            "text/plain": [
              "<IPython.core.display.HTML object>"
            ],
            "text/html": [
              "\n",
              "              <p>\n",
              "                  Progress: 100% Complete\n",
              "              <p/>            \n",
              "              <progress\n",
              "                  value='6'\n",
              "                  max='6',\n",
              "                  style='width: 25%',\n",
              "              >\n",
              "                  6\n",
              "              </progress>\n",
              "\n",
              "    "
            ]
          },
          "metadata": {}
        },
        {
          "output_type": "stream",
          "name": "stdout",
          "text": [
            "\n",
            "*** Feature extraction finished ***\n",
            "features shape is : (6, 389)\n",
            "number of windows : 6\n",
            "number of features 389\n",
            "data shape before extracting features (6290,)\n",
            "*** Feature extraction started ***\n"
          ]
        },
        {
          "output_type": "display_data",
          "data": {
            "text/plain": [
              "<IPython.core.display.HTML object>"
            ],
            "text/html": [
              "\n",
              "              <p>\n",
              "                  Progress: 100% Complete\n",
              "              <p/>            \n",
              "              <progress\n",
              "                  value='6'\n",
              "                  max='6',\n",
              "                  style='width: 25%',\n",
              "              >\n",
              "                  6\n",
              "              </progress>\n",
              "\n",
              "    "
            ]
          },
          "metadata": {}
        },
        {
          "output_type": "stream",
          "name": "stdout",
          "text": [
            "\n",
            "*** Feature extraction finished ***\n",
            "features shape is : (6, 389)\n",
            "number of windows : 6\n",
            "number of features 389\n",
            "data shape before extracting features (6290,)\n",
            "*** Feature extraction started ***\n"
          ]
        },
        {
          "output_type": "display_data",
          "data": {
            "text/plain": [
              "<IPython.core.display.HTML object>"
            ],
            "text/html": [
              "\n",
              "              <p>\n",
              "                  Progress: 100% Complete\n",
              "              <p/>            \n",
              "              <progress\n",
              "                  value='6'\n",
              "                  max='6',\n",
              "                  style='width: 25%',\n",
              "              >\n",
              "                  6\n",
              "              </progress>\n",
              "\n",
              "    "
            ]
          },
          "metadata": {}
        },
        {
          "output_type": "stream",
          "name": "stdout",
          "text": [
            "\n",
            "*** Feature extraction finished ***\n",
            "features shape is : (6, 389)\n",
            "number of windows : 6\n",
            "number of features 389\n",
            "data shape before extracting features (6290,)\n",
            "*** Feature extraction started ***\n"
          ]
        },
        {
          "output_type": "display_data",
          "data": {
            "text/plain": [
              "<IPython.core.display.HTML object>"
            ],
            "text/html": [
              "\n",
              "              <p>\n",
              "                  Progress: 100% Complete\n",
              "              <p/>            \n",
              "              <progress\n",
              "                  value='6'\n",
              "                  max='6',\n",
              "                  style='width: 25%',\n",
              "              >\n",
              "                  6\n",
              "              </progress>\n",
              "\n",
              "    "
            ]
          },
          "metadata": {}
        },
        {
          "output_type": "stream",
          "name": "stdout",
          "text": [
            "\n",
            "*** Feature extraction finished ***\n",
            "features shape is : (6, 389)\n",
            "number of windows : 6\n",
            "number of features 389\n",
            "data shape before extracting features (6290,)\n",
            "*** Feature extraction started ***\n"
          ]
        },
        {
          "output_type": "display_data",
          "data": {
            "text/plain": [
              "<IPython.core.display.HTML object>"
            ],
            "text/html": [
              "\n",
              "              <p>\n",
              "                  Progress: 100% Complete\n",
              "              <p/>            \n",
              "              <progress\n",
              "                  value='6'\n",
              "                  max='6',\n",
              "                  style='width: 25%',\n",
              "              >\n",
              "                  6\n",
              "              </progress>\n",
              "\n",
              "    "
            ]
          },
          "metadata": {}
        },
        {
          "output_type": "stream",
          "name": "stdout",
          "text": [
            "\n",
            "*** Feature extraction finished ***\n",
            "features shape is : (6, 389)\n",
            "number of windows : 6\n",
            "number of features 389\n",
            "data shape before extracting features (6290,)\n",
            "*** Feature extraction started ***\n"
          ]
        },
        {
          "output_type": "display_data",
          "data": {
            "text/plain": [
              "<IPython.core.display.HTML object>"
            ],
            "text/html": [
              "\n",
              "              <p>\n",
              "                  Progress: 100% Complete\n",
              "              <p/>            \n",
              "              <progress\n",
              "                  value='6'\n",
              "                  max='6',\n",
              "                  style='width: 25%',\n",
              "              >\n",
              "                  6\n",
              "              </progress>\n",
              "\n",
              "    "
            ]
          },
          "metadata": {}
        },
        {
          "output_type": "stream",
          "name": "stdout",
          "text": [
            "\n",
            "*** Feature extraction finished ***\n",
            "features shape is : (6, 389)\n",
            "number of windows : 6\n",
            "number of features 389\n",
            "data shape before extracting features (6290,)\n",
            "*** Feature extraction started ***\n"
          ]
        },
        {
          "output_type": "display_data",
          "data": {
            "text/plain": [
              "<IPython.core.display.HTML object>"
            ],
            "text/html": [
              "\n",
              "              <p>\n",
              "                  Progress: 100% Complete\n",
              "              <p/>            \n",
              "              <progress\n",
              "                  value='6'\n",
              "                  max='6',\n",
              "                  style='width: 25%',\n",
              "              >\n",
              "                  6\n",
              "              </progress>\n",
              "\n",
              "    "
            ]
          },
          "metadata": {}
        },
        {
          "output_type": "stream",
          "name": "stdout",
          "text": [
            "\n",
            "*** Feature extraction finished ***\n",
            "features shape is : (6, 389)\n",
            "number of windows : 6\n",
            "number of features 389\n",
            "data shape before extracting features (6290,)\n",
            "*** Feature extraction started ***\n"
          ]
        },
        {
          "output_type": "display_data",
          "data": {
            "text/plain": [
              "<IPython.core.display.HTML object>"
            ],
            "text/html": [
              "\n",
              "              <p>\n",
              "                  Progress: 100% Complete\n",
              "              <p/>            \n",
              "              <progress\n",
              "                  value='6'\n",
              "                  max='6',\n",
              "                  style='width: 25%',\n",
              "              >\n",
              "                  6\n",
              "              </progress>\n",
              "\n",
              "    "
            ]
          },
          "metadata": {}
        },
        {
          "output_type": "stream",
          "name": "stdout",
          "text": [
            "\n",
            "*** Feature extraction finished ***\n",
            "features shape is : (6, 389)\n",
            "number of windows : 6\n",
            "number of features 389\n",
            "data shape before extracting features (6290,)\n",
            "*** Feature extraction started ***\n"
          ]
        },
        {
          "output_type": "display_data",
          "data": {
            "text/plain": [
              "<IPython.core.display.HTML object>"
            ],
            "text/html": [
              "\n",
              "              <p>\n",
              "                  Progress: 100% Complete\n",
              "              <p/>            \n",
              "              <progress\n",
              "                  value='6'\n",
              "                  max='6',\n",
              "                  style='width: 25%',\n",
              "              >\n",
              "                  6\n",
              "              </progress>\n",
              "\n",
              "    "
            ]
          },
          "metadata": {}
        },
        {
          "output_type": "stream",
          "name": "stdout",
          "text": [
            "\n",
            "*** Feature extraction finished ***\n",
            "features shape is : (6, 389)\n",
            "number of windows : 6\n",
            "number of features 389\n",
            "data shape before extracting features (6290,)\n",
            "*** Feature extraction started ***\n"
          ]
        },
        {
          "output_type": "display_data",
          "data": {
            "text/plain": [
              "<IPython.core.display.HTML object>"
            ],
            "text/html": [
              "\n",
              "              <p>\n",
              "                  Progress: 100% Complete\n",
              "              <p/>            \n",
              "              <progress\n",
              "                  value='6'\n",
              "                  max='6',\n",
              "                  style='width: 25%',\n",
              "              >\n",
              "                  6\n",
              "              </progress>\n",
              "\n",
              "    "
            ]
          },
          "metadata": {}
        },
        {
          "output_type": "stream",
          "name": "stdout",
          "text": [
            "\n",
            "*** Feature extraction finished ***\n",
            "features shape is : (6, 389)\n",
            "number of windows : 6\n",
            "number of features 389\n",
            "data shape before extracting features (6290,)\n",
            "*** Feature extraction started ***\n"
          ]
        },
        {
          "output_type": "display_data",
          "data": {
            "text/plain": [
              "<IPython.core.display.HTML object>"
            ],
            "text/html": [
              "\n",
              "              <p>\n",
              "                  Progress: 100% Complete\n",
              "              <p/>            \n",
              "              <progress\n",
              "                  value='6'\n",
              "                  max='6',\n",
              "                  style='width: 25%',\n",
              "              >\n",
              "                  6\n",
              "              </progress>\n",
              "\n",
              "    "
            ]
          },
          "metadata": {}
        },
        {
          "output_type": "stream",
          "name": "stdout",
          "text": [
            "\n",
            "*** Feature extraction finished ***\n",
            "features shape is : (6, 389)\n",
            "number of windows : 6\n",
            "number of features 389\n",
            "data shape before extracting features (6290,)\n",
            "*** Feature extraction started ***\n"
          ]
        },
        {
          "output_type": "display_data",
          "data": {
            "text/plain": [
              "<IPython.core.display.HTML object>"
            ],
            "text/html": [
              "\n",
              "              <p>\n",
              "                  Progress: 100% Complete\n",
              "              <p/>            \n",
              "              <progress\n",
              "                  value='6'\n",
              "                  max='6',\n",
              "                  style='width: 25%',\n",
              "              >\n",
              "                  6\n",
              "              </progress>\n",
              "\n",
              "    "
            ]
          },
          "metadata": {}
        },
        {
          "output_type": "stream",
          "name": "stdout",
          "text": [
            "\n",
            "*** Feature extraction finished ***\n",
            "features shape is : (6, 389)\n",
            "number of windows : 6\n",
            "number of features 389\n",
            "data shape before extracting features (6290,)\n",
            "*** Feature extraction started ***\n"
          ]
        },
        {
          "output_type": "display_data",
          "data": {
            "text/plain": [
              "<IPython.core.display.HTML object>"
            ],
            "text/html": [
              "\n",
              "              <p>\n",
              "                  Progress: 100% Complete\n",
              "              <p/>            \n",
              "              <progress\n",
              "                  value='6'\n",
              "                  max='6',\n",
              "                  style='width: 25%',\n",
              "              >\n",
              "                  6\n",
              "              </progress>\n",
              "\n",
              "    "
            ]
          },
          "metadata": {}
        },
        {
          "output_type": "stream",
          "name": "stdout",
          "text": [
            "\n",
            "*** Feature extraction finished ***\n",
            "features shape is : (6, 389)\n",
            "number of windows : 6\n",
            "number of features 389\n",
            "data shape before extracting features (6290,)\n",
            "*** Feature extraction started ***\n"
          ]
        },
        {
          "output_type": "display_data",
          "data": {
            "text/plain": [
              "<IPython.core.display.HTML object>"
            ],
            "text/html": [
              "\n",
              "              <p>\n",
              "                  Progress: 100% Complete\n",
              "              <p/>            \n",
              "              <progress\n",
              "                  value='6'\n",
              "                  max='6',\n",
              "                  style='width: 25%',\n",
              "              >\n",
              "                  6\n",
              "              </progress>\n",
              "\n",
              "    "
            ]
          },
          "metadata": {}
        },
        {
          "output_type": "stream",
          "name": "stdout",
          "text": [
            "\n",
            "*** Feature extraction finished ***\n",
            "features shape is : (6, 389)\n",
            "number of windows : 6\n",
            "number of features 389\n",
            "data shape before extracting features (6290,)\n",
            "*** Feature extraction started ***\n"
          ]
        },
        {
          "output_type": "display_data",
          "data": {
            "text/plain": [
              "<IPython.core.display.HTML object>"
            ],
            "text/html": [
              "\n",
              "              <p>\n",
              "                  Progress: 100% Complete\n",
              "              <p/>            \n",
              "              <progress\n",
              "                  value='6'\n",
              "                  max='6',\n",
              "                  style='width: 25%',\n",
              "              >\n",
              "                  6\n",
              "              </progress>\n",
              "\n",
              "    "
            ]
          },
          "metadata": {}
        },
        {
          "output_type": "stream",
          "name": "stdout",
          "text": [
            "\n",
            "*** Feature extraction finished ***\n",
            "features shape is : (6, 389)\n",
            "number of windows : 6\n",
            "number of features 389\n",
            "data shape before extracting features (6290,)\n",
            "*** Feature extraction started ***\n"
          ]
        },
        {
          "output_type": "display_data",
          "data": {
            "text/plain": [
              "<IPython.core.display.HTML object>"
            ],
            "text/html": [
              "\n",
              "              <p>\n",
              "                  Progress: 100% Complete\n",
              "              <p/>            \n",
              "              <progress\n",
              "                  value='6'\n",
              "                  max='6',\n",
              "                  style='width: 25%',\n",
              "              >\n",
              "                  6\n",
              "              </progress>\n",
              "\n",
              "    "
            ]
          },
          "metadata": {}
        },
        {
          "output_type": "stream",
          "name": "stdout",
          "text": [
            "\n",
            "*** Feature extraction finished ***\n",
            "features shape is : (6, 389)\n",
            "number of windows : 6\n",
            "number of features 389\n",
            "data shape before extracting features (6290,)\n",
            "*** Feature extraction started ***\n"
          ]
        },
        {
          "output_type": "display_data",
          "data": {
            "text/plain": [
              "<IPython.core.display.HTML object>"
            ],
            "text/html": [
              "\n",
              "              <p>\n",
              "                  Progress: 100% Complete\n",
              "              <p/>            \n",
              "              <progress\n",
              "                  value='6'\n",
              "                  max='6',\n",
              "                  style='width: 25%',\n",
              "              >\n",
              "                  6\n",
              "              </progress>\n",
              "\n",
              "    "
            ]
          },
          "metadata": {}
        },
        {
          "output_type": "stream",
          "name": "stdout",
          "text": [
            "\n",
            "*** Feature extraction finished ***\n",
            "features shape is : (6, 389)\n",
            "number of windows : 6\n",
            "number of features 389\n",
            "data shape before extracting features (6290,)\n",
            "*** Feature extraction started ***\n"
          ]
        },
        {
          "output_type": "display_data",
          "data": {
            "text/plain": [
              "<IPython.core.display.HTML object>"
            ],
            "text/html": [
              "\n",
              "              <p>\n",
              "                  Progress: 100% Complete\n",
              "              <p/>            \n",
              "              <progress\n",
              "                  value='6'\n",
              "                  max='6',\n",
              "                  style='width: 25%',\n",
              "              >\n",
              "                  6\n",
              "              </progress>\n",
              "\n",
              "    "
            ]
          },
          "metadata": {}
        },
        {
          "output_type": "stream",
          "name": "stdout",
          "text": [
            "\n",
            "*** Feature extraction finished ***\n",
            "features shape is : (6, 389)\n",
            "number of windows : 6\n",
            "number of features 389\n",
            "data shape before extracting features (6290,)\n",
            "*** Feature extraction started ***\n"
          ]
        },
        {
          "output_type": "display_data",
          "data": {
            "text/plain": [
              "<IPython.core.display.HTML object>"
            ],
            "text/html": [
              "\n",
              "              <p>\n",
              "                  Progress: 100% Complete\n",
              "              <p/>            \n",
              "              <progress\n",
              "                  value='6'\n",
              "                  max='6',\n",
              "                  style='width: 25%',\n",
              "              >\n",
              "                  6\n",
              "              </progress>\n",
              "\n",
              "    "
            ]
          },
          "metadata": {}
        },
        {
          "output_type": "stream",
          "name": "stdout",
          "text": [
            "\n",
            "*** Feature extraction finished ***\n",
            "features shape is : (6, 389)\n",
            "number of windows : 6\n",
            "number of features 389\n",
            "data shape before extracting features (6290,)\n",
            "*** Feature extraction started ***\n"
          ]
        },
        {
          "output_type": "display_data",
          "data": {
            "text/plain": [
              "<IPython.core.display.HTML object>"
            ],
            "text/html": [
              "\n",
              "              <p>\n",
              "                  Progress: 100% Complete\n",
              "              <p/>            \n",
              "              <progress\n",
              "                  value='6'\n",
              "                  max='6',\n",
              "                  style='width: 25%',\n",
              "              >\n",
              "                  6\n",
              "              </progress>\n",
              "\n",
              "    "
            ]
          },
          "metadata": {}
        },
        {
          "output_type": "stream",
          "name": "stdout",
          "text": [
            "\n",
            "*** Feature extraction finished ***\n",
            "features shape is : (6, 389)\n",
            "number of windows : 6\n",
            "number of features 389\n",
            "data shape before extracting features (6290,)\n",
            "*** Feature extraction started ***\n"
          ]
        },
        {
          "output_type": "display_data",
          "data": {
            "text/plain": [
              "<IPython.core.display.HTML object>"
            ],
            "text/html": [
              "\n",
              "              <p>\n",
              "                  Progress: 100% Complete\n",
              "              <p/>            \n",
              "              <progress\n",
              "                  value='6'\n",
              "                  max='6',\n",
              "                  style='width: 25%',\n",
              "              >\n",
              "                  6\n",
              "              </progress>\n",
              "\n",
              "    "
            ]
          },
          "metadata": {}
        },
        {
          "output_type": "stream",
          "name": "stdout",
          "text": [
            "\n",
            "*** Feature extraction finished ***\n",
            "features shape is : (6, 389)\n",
            "number of windows : 6\n",
            "number of features 389\n",
            "data shape before extracting features (6290,)\n",
            "*** Feature extraction started ***\n"
          ]
        },
        {
          "output_type": "display_data",
          "data": {
            "text/plain": [
              "<IPython.core.display.HTML object>"
            ],
            "text/html": [
              "\n",
              "              <p>\n",
              "                  Progress: 100% Complete\n",
              "              <p/>            \n",
              "              <progress\n",
              "                  value='6'\n",
              "                  max='6',\n",
              "                  style='width: 25%',\n",
              "              >\n",
              "                  6\n",
              "              </progress>\n",
              "\n",
              "    "
            ]
          },
          "metadata": {}
        },
        {
          "output_type": "stream",
          "name": "stdout",
          "text": [
            "\n",
            "*** Feature extraction finished ***\n",
            "features shape is : (6, 389)\n",
            "number of windows : 6\n",
            "number of features 389\n",
            "data shape before extracting features (6290,)\n",
            "*** Feature extraction started ***\n"
          ]
        },
        {
          "output_type": "display_data",
          "data": {
            "text/plain": [
              "<IPython.core.display.HTML object>"
            ],
            "text/html": [
              "\n",
              "              <p>\n",
              "                  Progress: 100% Complete\n",
              "              <p/>            \n",
              "              <progress\n",
              "                  value='6'\n",
              "                  max='6',\n",
              "                  style='width: 25%',\n",
              "              >\n",
              "                  6\n",
              "              </progress>\n",
              "\n",
              "    "
            ]
          },
          "metadata": {}
        },
        {
          "output_type": "stream",
          "name": "stdout",
          "text": [
            "\n",
            "*** Feature extraction finished ***\n",
            "features shape is : (6, 389)\n",
            "number of windows : 6\n",
            "number of features 389\n",
            "data shape before extracting features (6290,)\n",
            "*** Feature extraction started ***\n"
          ]
        },
        {
          "output_type": "display_data",
          "data": {
            "text/plain": [
              "<IPython.core.display.HTML object>"
            ],
            "text/html": [
              "\n",
              "              <p>\n",
              "                  Progress: 100% Complete\n",
              "              <p/>            \n",
              "              <progress\n",
              "                  value='6'\n",
              "                  max='6',\n",
              "                  style='width: 25%',\n",
              "              >\n",
              "                  6\n",
              "              </progress>\n",
              "\n",
              "    "
            ]
          },
          "metadata": {}
        },
        {
          "output_type": "stream",
          "name": "stdout",
          "text": [
            "\n",
            "*** Feature extraction finished ***\n",
            "features shape is : (6, 389)\n",
            "number of windows : 6\n",
            "number of features 389\n",
            "data shape before extracting features (6290,)\n",
            "*** Feature extraction started ***\n"
          ]
        },
        {
          "output_type": "display_data",
          "data": {
            "text/plain": [
              "<IPython.core.display.HTML object>"
            ],
            "text/html": [
              "\n",
              "              <p>\n",
              "                  Progress: 100% Complete\n",
              "              <p/>            \n",
              "              <progress\n",
              "                  value='6'\n",
              "                  max='6',\n",
              "                  style='width: 25%',\n",
              "              >\n",
              "                  6\n",
              "              </progress>\n",
              "\n",
              "    "
            ]
          },
          "metadata": {}
        },
        {
          "output_type": "stream",
          "name": "stdout",
          "text": [
            "\n",
            "*** Feature extraction finished ***\n",
            "features shape is : (6, 389)\n",
            "number of windows : 6\n",
            "number of features 389\n",
            "data shape before extracting features (6290,)\n",
            "*** Feature extraction started ***\n"
          ]
        },
        {
          "output_type": "display_data",
          "data": {
            "text/plain": [
              "<IPython.core.display.HTML object>"
            ],
            "text/html": [
              "\n",
              "              <p>\n",
              "                  Progress: 100% Complete\n",
              "              <p/>            \n",
              "              <progress\n",
              "                  value='6'\n",
              "                  max='6',\n",
              "                  style='width: 25%',\n",
              "              >\n",
              "                  6\n",
              "              </progress>\n",
              "\n",
              "    "
            ]
          },
          "metadata": {}
        },
        {
          "output_type": "stream",
          "name": "stdout",
          "text": [
            "\n",
            "*** Feature extraction finished ***\n",
            "features shape is : (6, 389)\n",
            "number of windows : 6\n",
            "number of features 389\n",
            "data shape before extracting features (6290,)\n",
            "*** Feature extraction started ***\n"
          ]
        },
        {
          "output_type": "display_data",
          "data": {
            "text/plain": [
              "<IPython.core.display.HTML object>"
            ],
            "text/html": [
              "\n",
              "              <p>\n",
              "                  Progress: 100% Complete\n",
              "              <p/>            \n",
              "              <progress\n",
              "                  value='6'\n",
              "                  max='6',\n",
              "                  style='width: 25%',\n",
              "              >\n",
              "                  6\n",
              "              </progress>\n",
              "\n",
              "    "
            ]
          },
          "metadata": {}
        },
        {
          "output_type": "stream",
          "name": "stdout",
          "text": [
            "\n",
            "*** Feature extraction finished ***\n",
            "features shape is : (6, 389)\n",
            "number of windows : 6\n",
            "number of features 389\n",
            "data shape before extracting features (6290,)\n",
            "*** Feature extraction started ***\n"
          ]
        },
        {
          "output_type": "display_data",
          "data": {
            "text/plain": [
              "<IPython.core.display.HTML object>"
            ],
            "text/html": [
              "\n",
              "              <p>\n",
              "                  Progress: 100% Complete\n",
              "              <p/>            \n",
              "              <progress\n",
              "                  value='6'\n",
              "                  max='6',\n",
              "                  style='width: 25%',\n",
              "              >\n",
              "                  6\n",
              "              </progress>\n",
              "\n",
              "    "
            ]
          },
          "metadata": {}
        },
        {
          "output_type": "stream",
          "name": "stdout",
          "text": [
            "\n",
            "*** Feature extraction finished ***\n",
            "features shape is : (6, 389)\n",
            "number of windows : 6\n",
            "number of features 389\n",
            "data shape before extracting features (6290,)\n",
            "*** Feature extraction started ***\n"
          ]
        },
        {
          "output_type": "display_data",
          "data": {
            "text/plain": [
              "<IPython.core.display.HTML object>"
            ],
            "text/html": [
              "\n",
              "              <p>\n",
              "                  Progress: 100% Complete\n",
              "              <p/>            \n",
              "              <progress\n",
              "                  value='6'\n",
              "                  max='6',\n",
              "                  style='width: 25%',\n",
              "              >\n",
              "                  6\n",
              "              </progress>\n",
              "\n",
              "    "
            ]
          },
          "metadata": {}
        },
        {
          "output_type": "stream",
          "name": "stdout",
          "text": [
            "\n",
            "*** Feature extraction finished ***\n",
            "features shape is : (6, 389)\n",
            "number of windows : 6\n",
            "number of features 389\n",
            "data shape before extracting features (6290,)\n",
            "*** Feature extraction started ***\n"
          ]
        },
        {
          "output_type": "display_data",
          "data": {
            "text/plain": [
              "<IPython.core.display.HTML object>"
            ],
            "text/html": [
              "\n",
              "              <p>\n",
              "                  Progress: 100% Complete\n",
              "              <p/>            \n",
              "              <progress\n",
              "                  value='6'\n",
              "                  max='6',\n",
              "                  style='width: 25%',\n",
              "              >\n",
              "                  6\n",
              "              </progress>\n",
              "\n",
              "    "
            ]
          },
          "metadata": {}
        },
        {
          "output_type": "stream",
          "name": "stdout",
          "text": [
            "\n",
            "*** Feature extraction finished ***\n",
            "features shape is : (6, 389)\n",
            "number of windows : 6\n",
            "number of features 389\n",
            "data shape before extracting features (6290,)\n",
            "*** Feature extraction started ***\n"
          ]
        },
        {
          "output_type": "display_data",
          "data": {
            "text/plain": [
              "<IPython.core.display.HTML object>"
            ],
            "text/html": [
              "\n",
              "              <p>\n",
              "                  Progress: 100% Complete\n",
              "              <p/>            \n",
              "              <progress\n",
              "                  value='6'\n",
              "                  max='6',\n",
              "                  style='width: 25%',\n",
              "              >\n",
              "                  6\n",
              "              </progress>\n",
              "\n",
              "    "
            ]
          },
          "metadata": {}
        },
        {
          "output_type": "stream",
          "name": "stdout",
          "text": [
            "\n",
            "*** Feature extraction finished ***\n",
            "features shape is : (6, 389)\n",
            "number of windows : 6\n",
            "number of features 389\n",
            "data shape before extracting features (6290,)\n",
            "*** Feature extraction started ***\n"
          ]
        },
        {
          "output_type": "display_data",
          "data": {
            "text/plain": [
              "<IPython.core.display.HTML object>"
            ],
            "text/html": [
              "\n",
              "              <p>\n",
              "                  Progress: 100% Complete\n",
              "              <p/>            \n",
              "              <progress\n",
              "                  value='6'\n",
              "                  max='6',\n",
              "                  style='width: 25%',\n",
              "              >\n",
              "                  6\n",
              "              </progress>\n",
              "\n",
              "    "
            ]
          },
          "metadata": {}
        },
        {
          "output_type": "stream",
          "name": "stdout",
          "text": [
            "\n",
            "*** Feature extraction finished ***\n",
            "features shape is : (6, 389)\n",
            "number of windows : 6\n",
            "number of features 389\n",
            "data shape before extracting features (6290,)\n",
            "*** Feature extraction started ***\n"
          ]
        },
        {
          "output_type": "display_data",
          "data": {
            "text/plain": [
              "<IPython.core.display.HTML object>"
            ],
            "text/html": [
              "\n",
              "              <p>\n",
              "                  Progress: 100% Complete\n",
              "              <p/>            \n",
              "              <progress\n",
              "                  value='6'\n",
              "                  max='6',\n",
              "                  style='width: 25%',\n",
              "              >\n",
              "                  6\n",
              "              </progress>\n",
              "\n",
              "    "
            ]
          },
          "metadata": {}
        },
        {
          "output_type": "stream",
          "name": "stdout",
          "text": [
            "\n",
            "*** Feature extraction finished ***\n",
            "features shape is : (6, 389)\n",
            "number of windows : 6\n",
            "number of features 389\n",
            "data shape before extracting features (6290,)\n",
            "*** Feature extraction started ***\n"
          ]
        },
        {
          "output_type": "display_data",
          "data": {
            "text/plain": [
              "<IPython.core.display.HTML object>"
            ],
            "text/html": [
              "\n",
              "              <p>\n",
              "                  Progress: 100% Complete\n",
              "              <p/>            \n",
              "              <progress\n",
              "                  value='6'\n",
              "                  max='6',\n",
              "                  style='width: 25%',\n",
              "              >\n",
              "                  6\n",
              "              </progress>\n",
              "\n",
              "    "
            ]
          },
          "metadata": {}
        },
        {
          "output_type": "stream",
          "name": "stdout",
          "text": [
            "\n",
            "*** Feature extraction finished ***\n",
            "features shape is : (6, 389)\n",
            "number of windows : 6\n",
            "number of features 389\n",
            "data shape before extracting features (6290,)\n",
            "*** Feature extraction started ***\n"
          ]
        },
        {
          "output_type": "display_data",
          "data": {
            "text/plain": [
              "<IPython.core.display.HTML object>"
            ],
            "text/html": [
              "\n",
              "              <p>\n",
              "                  Progress: 100% Complete\n",
              "              <p/>            \n",
              "              <progress\n",
              "                  value='6'\n",
              "                  max='6',\n",
              "                  style='width: 25%',\n",
              "              >\n",
              "                  6\n",
              "              </progress>\n",
              "\n",
              "    "
            ]
          },
          "metadata": {}
        },
        {
          "output_type": "stream",
          "name": "stdout",
          "text": [
            "\n",
            "*** Feature extraction finished ***\n",
            "features shape is : (6, 389)\n",
            "number of windows : 6\n",
            "number of features 389\n",
            "data shape before extracting features (6290,)\n",
            "*** Feature extraction started ***\n"
          ]
        },
        {
          "output_type": "display_data",
          "data": {
            "text/plain": [
              "<IPython.core.display.HTML object>"
            ],
            "text/html": [
              "\n",
              "              <p>\n",
              "                  Progress: 100% Complete\n",
              "              <p/>            \n",
              "              <progress\n",
              "                  value='6'\n",
              "                  max='6',\n",
              "                  style='width: 25%',\n",
              "              >\n",
              "                  6\n",
              "              </progress>\n",
              "\n",
              "    "
            ]
          },
          "metadata": {}
        },
        {
          "output_type": "stream",
          "name": "stdout",
          "text": [
            "\n",
            "*** Feature extraction finished ***\n",
            "features shape is : (6, 389)\n",
            "number of windows : 6\n",
            "number of features 389\n",
            "data shape before extracting features (6290,)\n",
            "*** Feature extraction started ***\n"
          ]
        },
        {
          "output_type": "display_data",
          "data": {
            "text/plain": [
              "<IPython.core.display.HTML object>"
            ],
            "text/html": [
              "\n",
              "              <p>\n",
              "                  Progress: 100% Complete\n",
              "              <p/>            \n",
              "              <progress\n",
              "                  value='6'\n",
              "                  max='6',\n",
              "                  style='width: 25%',\n",
              "              >\n",
              "                  6\n",
              "              </progress>\n",
              "\n",
              "    "
            ]
          },
          "metadata": {}
        },
        {
          "output_type": "stream",
          "name": "stdout",
          "text": [
            "\n",
            "*** Feature extraction finished ***\n",
            "features shape is : (6, 389)\n",
            "number of windows : 6\n",
            "number of features 389\n",
            "data shape before extracting features (6290,)\n",
            "*** Feature extraction started ***\n"
          ]
        },
        {
          "output_type": "display_data",
          "data": {
            "text/plain": [
              "<IPython.core.display.HTML object>"
            ],
            "text/html": [
              "\n",
              "              <p>\n",
              "                  Progress: 100% Complete\n",
              "              <p/>            \n",
              "              <progress\n",
              "                  value='6'\n",
              "                  max='6',\n",
              "                  style='width: 25%',\n",
              "              >\n",
              "                  6\n",
              "              </progress>\n",
              "\n",
              "    "
            ]
          },
          "metadata": {}
        },
        {
          "output_type": "stream",
          "name": "stdout",
          "text": [
            "\n",
            "*** Feature extraction finished ***\n",
            "features shape is : (6, 389)\n",
            "number of windows : 6\n",
            "number of features 389\n",
            "data shape before extracting features (6290,)\n",
            "*** Feature extraction started ***\n"
          ]
        },
        {
          "output_type": "display_data",
          "data": {
            "text/plain": [
              "<IPython.core.display.HTML object>"
            ],
            "text/html": [
              "\n",
              "              <p>\n",
              "                  Progress: 100% Complete\n",
              "              <p/>            \n",
              "              <progress\n",
              "                  value='6'\n",
              "                  max='6',\n",
              "                  style='width: 25%',\n",
              "              >\n",
              "                  6\n",
              "              </progress>\n",
              "\n",
              "    "
            ]
          },
          "metadata": {}
        },
        {
          "output_type": "stream",
          "name": "stdout",
          "text": [
            "\n",
            "*** Feature extraction finished ***\n",
            "features shape is : (6, 389)\n",
            "number of windows : 6\n",
            "number of features 389\n",
            "data shape before extracting features (6290,)\n",
            "*** Feature extraction started ***\n"
          ]
        },
        {
          "output_type": "display_data",
          "data": {
            "text/plain": [
              "<IPython.core.display.HTML object>"
            ],
            "text/html": [
              "\n",
              "              <p>\n",
              "                  Progress: 100% Complete\n",
              "              <p/>            \n",
              "              <progress\n",
              "                  value='6'\n",
              "                  max='6',\n",
              "                  style='width: 25%',\n",
              "              >\n",
              "                  6\n",
              "              </progress>\n",
              "\n",
              "    "
            ]
          },
          "metadata": {}
        },
        {
          "output_type": "stream",
          "name": "stdout",
          "text": [
            "\n",
            "*** Feature extraction finished ***\n",
            "features shape is : (6, 389)\n",
            "number of windows : 6\n",
            "number of features 389\n",
            "data shape before extracting features (6290,)\n",
            "*** Feature extraction started ***\n"
          ]
        },
        {
          "output_type": "display_data",
          "data": {
            "text/plain": [
              "<IPython.core.display.HTML object>"
            ],
            "text/html": [
              "\n",
              "              <p>\n",
              "                  Progress: 100% Complete\n",
              "              <p/>            \n",
              "              <progress\n",
              "                  value='6'\n",
              "                  max='6',\n",
              "                  style='width: 25%',\n",
              "              >\n",
              "                  6\n",
              "              </progress>\n",
              "\n",
              "    "
            ]
          },
          "metadata": {}
        },
        {
          "output_type": "stream",
          "name": "stdout",
          "text": [
            "\n",
            "*** Feature extraction finished ***\n",
            "features shape is : (6, 389)\n",
            "number of windows : 6\n",
            "number of features 389\n",
            "data shape before extracting features (6290,)\n",
            "*** Feature extraction started ***\n"
          ]
        },
        {
          "output_type": "display_data",
          "data": {
            "text/plain": [
              "<IPython.core.display.HTML object>"
            ],
            "text/html": [
              "\n",
              "              <p>\n",
              "                  Progress: 100% Complete\n",
              "              <p/>            \n",
              "              <progress\n",
              "                  value='6'\n",
              "                  max='6',\n",
              "                  style='width: 25%',\n",
              "              >\n",
              "                  6\n",
              "              </progress>\n",
              "\n",
              "    "
            ]
          },
          "metadata": {}
        },
        {
          "output_type": "stream",
          "name": "stdout",
          "text": [
            "\n",
            "*** Feature extraction finished ***\n",
            "features shape is : (6, 389)\n",
            "number of windows : 6\n",
            "number of features 389\n",
            "data shape before extracting features (6290,)\n",
            "*** Feature extraction started ***\n"
          ]
        },
        {
          "output_type": "display_data",
          "data": {
            "text/plain": [
              "<IPython.core.display.HTML object>"
            ],
            "text/html": [
              "\n",
              "              <p>\n",
              "                  Progress: 100% Complete\n",
              "              <p/>            \n",
              "              <progress\n",
              "                  value='6'\n",
              "                  max='6',\n",
              "                  style='width: 25%',\n",
              "              >\n",
              "                  6\n",
              "              </progress>\n",
              "\n",
              "    "
            ]
          },
          "metadata": {}
        },
        {
          "output_type": "stream",
          "name": "stdout",
          "text": [
            "\n",
            "*** Feature extraction finished ***\n",
            "features shape is : (6, 389)\n",
            "number of windows : 6\n",
            "number of features 389\n",
            "data shape before extracting features (6290,)\n",
            "*** Feature extraction started ***\n"
          ]
        },
        {
          "output_type": "display_data",
          "data": {
            "text/plain": [
              "<IPython.core.display.HTML object>"
            ],
            "text/html": [
              "\n",
              "              <p>\n",
              "                  Progress: 100% Complete\n",
              "              <p/>            \n",
              "              <progress\n",
              "                  value='6'\n",
              "                  max='6',\n",
              "                  style='width: 25%',\n",
              "              >\n",
              "                  6\n",
              "              </progress>\n",
              "\n",
              "    "
            ]
          },
          "metadata": {}
        },
        {
          "output_type": "stream",
          "name": "stdout",
          "text": [
            "\n",
            "*** Feature extraction finished ***\n",
            "features shape is : (6, 389)\n",
            "number of windows : 6\n",
            "number of features 389\n",
            "data shape before extracting features (6290,)\n",
            "*** Feature extraction started ***\n"
          ]
        },
        {
          "output_type": "display_data",
          "data": {
            "text/plain": [
              "<IPython.core.display.HTML object>"
            ],
            "text/html": [
              "\n",
              "              <p>\n",
              "                  Progress: 100% Complete\n",
              "              <p/>            \n",
              "              <progress\n",
              "                  value='6'\n",
              "                  max='6',\n",
              "                  style='width: 25%',\n",
              "              >\n",
              "                  6\n",
              "              </progress>\n",
              "\n",
              "    "
            ]
          },
          "metadata": {}
        },
        {
          "output_type": "stream",
          "name": "stdout",
          "text": [
            "\n",
            "*** Feature extraction finished ***\n",
            "features shape is : (6, 389)\n",
            "number of windows : 6\n",
            "number of features 389\n",
            "data shape before extracting features (6290,)\n",
            "*** Feature extraction started ***\n"
          ]
        },
        {
          "output_type": "display_data",
          "data": {
            "text/plain": [
              "<IPython.core.display.HTML object>"
            ],
            "text/html": [
              "\n",
              "              <p>\n",
              "                  Progress: 100% Complete\n",
              "              <p/>            \n",
              "              <progress\n",
              "                  value='6'\n",
              "                  max='6',\n",
              "                  style='width: 25%',\n",
              "              >\n",
              "                  6\n",
              "              </progress>\n",
              "\n",
              "    "
            ]
          },
          "metadata": {}
        },
        {
          "output_type": "stream",
          "name": "stdout",
          "text": [
            "\n",
            "*** Feature extraction finished ***\n",
            "features shape is : (6, 389)\n",
            "number of windows : 6\n",
            "number of features 389\n",
            "data shape before extracting features (6290,)\n",
            "*** Feature extraction started ***\n"
          ]
        },
        {
          "output_type": "display_data",
          "data": {
            "text/plain": [
              "<IPython.core.display.HTML object>"
            ],
            "text/html": [
              "\n",
              "              <p>\n",
              "                  Progress: 100% Complete\n",
              "              <p/>            \n",
              "              <progress\n",
              "                  value='6'\n",
              "                  max='6',\n",
              "                  style='width: 25%',\n",
              "              >\n",
              "                  6\n",
              "              </progress>\n",
              "\n",
              "    "
            ]
          },
          "metadata": {}
        },
        {
          "output_type": "stream",
          "name": "stdout",
          "text": [
            "\n",
            "*** Feature extraction finished ***\n",
            "features shape is : (6, 389)\n",
            "number of windows : 6\n",
            "number of features 389\n",
            "data shape before extracting features (6290,)\n",
            "*** Feature extraction started ***\n"
          ]
        },
        {
          "output_type": "display_data",
          "data": {
            "text/plain": [
              "<IPython.core.display.HTML object>"
            ],
            "text/html": [
              "\n",
              "              <p>\n",
              "                  Progress: 100% Complete\n",
              "              <p/>            \n",
              "              <progress\n",
              "                  value='6'\n",
              "                  max='6',\n",
              "                  style='width: 25%',\n",
              "              >\n",
              "                  6\n",
              "              </progress>\n",
              "\n",
              "    "
            ]
          },
          "metadata": {}
        },
        {
          "output_type": "stream",
          "name": "stdout",
          "text": [
            "\n",
            "*** Feature extraction finished ***\n",
            "features shape is : (6, 389)\n",
            "number of windows : 6\n",
            "number of features 389\n",
            "data shape before extracting features (6290,)\n",
            "*** Feature extraction started ***\n"
          ]
        },
        {
          "output_type": "display_data",
          "data": {
            "text/plain": [
              "<IPython.core.display.HTML object>"
            ],
            "text/html": [
              "\n",
              "              <p>\n",
              "                  Progress: 100% Complete\n",
              "              <p/>            \n",
              "              <progress\n",
              "                  value='6'\n",
              "                  max='6',\n",
              "                  style='width: 25%',\n",
              "              >\n",
              "                  6\n",
              "              </progress>\n",
              "\n",
              "    "
            ]
          },
          "metadata": {}
        },
        {
          "output_type": "stream",
          "name": "stdout",
          "text": [
            "\n",
            "*** Feature extraction finished ***\n",
            "features shape is : (6, 389)\n",
            "number of windows : 6\n",
            "number of features 389\n",
            "data shape before extracting features (6290,)\n",
            "*** Feature extraction started ***\n"
          ]
        },
        {
          "output_type": "display_data",
          "data": {
            "text/plain": [
              "<IPython.core.display.HTML object>"
            ],
            "text/html": [
              "\n",
              "              <p>\n",
              "                  Progress: 100% Complete\n",
              "              <p/>            \n",
              "              <progress\n",
              "                  value='6'\n",
              "                  max='6',\n",
              "                  style='width: 25%',\n",
              "              >\n",
              "                  6\n",
              "              </progress>\n",
              "\n",
              "    "
            ]
          },
          "metadata": {}
        },
        {
          "output_type": "stream",
          "name": "stdout",
          "text": [
            "\n",
            "*** Feature extraction finished ***\n",
            "features shape is : (6, 389)\n",
            "number of windows : 6\n",
            "number of features 389\n",
            "data shape before extracting features (6290,)\n",
            "*** Feature extraction started ***\n"
          ]
        },
        {
          "output_type": "display_data",
          "data": {
            "text/plain": [
              "<IPython.core.display.HTML object>"
            ],
            "text/html": [
              "\n",
              "              <p>\n",
              "                  Progress: 100% Complete\n",
              "              <p/>            \n",
              "              <progress\n",
              "                  value='6'\n",
              "                  max='6',\n",
              "                  style='width: 25%',\n",
              "              >\n",
              "                  6\n",
              "              </progress>\n",
              "\n",
              "    "
            ]
          },
          "metadata": {}
        },
        {
          "output_type": "stream",
          "name": "stdout",
          "text": [
            "\n",
            "*** Feature extraction finished ***\n",
            "features shape is : (6, 389)\n",
            "number of windows : 6\n",
            "number of features 389\n",
            "data shape before extracting features (6290,)\n",
            "*** Feature extraction started ***\n"
          ]
        },
        {
          "output_type": "display_data",
          "data": {
            "text/plain": [
              "<IPython.core.display.HTML object>"
            ],
            "text/html": [
              "\n",
              "              <p>\n",
              "                  Progress: 100% Complete\n",
              "              <p/>            \n",
              "              <progress\n",
              "                  value='6'\n",
              "                  max='6',\n",
              "                  style='width: 25%',\n",
              "              >\n",
              "                  6\n",
              "              </progress>\n",
              "\n",
              "    "
            ]
          },
          "metadata": {}
        },
        {
          "output_type": "stream",
          "name": "stdout",
          "text": [
            "\n",
            "*** Feature extraction finished ***\n",
            "features shape is : (6, 389)\n",
            "number of windows : 6\n",
            "number of features 389\n",
            "data shape before extracting features (6290,)\n",
            "*** Feature extraction started ***\n"
          ]
        },
        {
          "output_type": "display_data",
          "data": {
            "text/plain": [
              "<IPython.core.display.HTML object>"
            ],
            "text/html": [
              "\n",
              "              <p>\n",
              "                  Progress: 100% Complete\n",
              "              <p/>            \n",
              "              <progress\n",
              "                  value='6'\n",
              "                  max='6',\n",
              "                  style='width: 25%',\n",
              "              >\n",
              "                  6\n",
              "              </progress>\n",
              "\n",
              "    "
            ]
          },
          "metadata": {}
        },
        {
          "output_type": "stream",
          "name": "stdout",
          "text": [
            "\n",
            "*** Feature extraction finished ***\n",
            "features shape is : (6, 389)\n",
            "number of windows : 6\n",
            "number of features 389\n",
            "data shape before extracting features (6290,)\n",
            "*** Feature extraction started ***\n"
          ]
        },
        {
          "output_type": "display_data",
          "data": {
            "text/plain": [
              "<IPython.core.display.HTML object>"
            ],
            "text/html": [
              "\n",
              "              <p>\n",
              "                  Progress: 100% Complete\n",
              "              <p/>            \n",
              "              <progress\n",
              "                  value='6'\n",
              "                  max='6',\n",
              "                  style='width: 25%',\n",
              "              >\n",
              "                  6\n",
              "              </progress>\n",
              "\n",
              "    "
            ]
          },
          "metadata": {}
        },
        {
          "output_type": "stream",
          "name": "stdout",
          "text": [
            "\n",
            "*** Feature extraction finished ***\n",
            "features shape is : (6, 389)\n",
            "number of windows : 6\n",
            "number of features 389\n",
            "data shape before extracting features (6290,)\n",
            "*** Feature extraction started ***\n"
          ]
        },
        {
          "output_type": "display_data",
          "data": {
            "text/plain": [
              "<IPython.core.display.HTML object>"
            ],
            "text/html": [
              "\n",
              "              <p>\n",
              "                  Progress: 100% Complete\n",
              "              <p/>            \n",
              "              <progress\n",
              "                  value='6'\n",
              "                  max='6',\n",
              "                  style='width: 25%',\n",
              "              >\n",
              "                  6\n",
              "              </progress>\n",
              "\n",
              "    "
            ]
          },
          "metadata": {}
        },
        {
          "output_type": "stream",
          "name": "stdout",
          "text": [
            "\n",
            "*** Feature extraction finished ***\n",
            "features shape is : (6, 389)\n",
            "number of windows : 6\n",
            "number of features 389\n",
            "data shape before extracting features (6290,)\n",
            "*** Feature extraction started ***\n"
          ]
        },
        {
          "output_type": "display_data",
          "data": {
            "text/plain": [
              "<IPython.core.display.HTML object>"
            ],
            "text/html": [
              "\n",
              "              <p>\n",
              "                  Progress: 100% Complete\n",
              "              <p/>            \n",
              "              <progress\n",
              "                  value='6'\n",
              "                  max='6',\n",
              "                  style='width: 25%',\n",
              "              >\n",
              "                  6\n",
              "              </progress>\n",
              "\n",
              "    "
            ]
          },
          "metadata": {}
        },
        {
          "output_type": "stream",
          "name": "stdout",
          "text": [
            "\n",
            "*** Feature extraction finished ***\n",
            "features shape is : (6, 389)\n",
            "number of windows : 6\n",
            "number of features 389\n",
            "data shape before extracting features (6290,)\n",
            "*** Feature extraction started ***\n"
          ]
        },
        {
          "output_type": "display_data",
          "data": {
            "text/plain": [
              "<IPython.core.display.HTML object>"
            ],
            "text/html": [
              "\n",
              "              <p>\n",
              "                  Progress: 100% Complete\n",
              "              <p/>            \n",
              "              <progress\n",
              "                  value='6'\n",
              "                  max='6',\n",
              "                  style='width: 25%',\n",
              "              >\n",
              "                  6\n",
              "              </progress>\n",
              "\n",
              "    "
            ]
          },
          "metadata": {}
        },
        {
          "output_type": "stream",
          "name": "stdout",
          "text": [
            "\n",
            "*** Feature extraction finished ***\n",
            "features shape is : (6, 389)\n",
            "number of windows : 6\n",
            "number of features 389\n",
            "data shape before extracting features (6290,)\n",
            "*** Feature extraction started ***\n"
          ]
        },
        {
          "output_type": "display_data",
          "data": {
            "text/plain": [
              "<IPython.core.display.HTML object>"
            ],
            "text/html": [
              "\n",
              "              <p>\n",
              "                  Progress: 100% Complete\n",
              "              <p/>            \n",
              "              <progress\n",
              "                  value='6'\n",
              "                  max='6',\n",
              "                  style='width: 25%',\n",
              "              >\n",
              "                  6\n",
              "              </progress>\n",
              "\n",
              "    "
            ]
          },
          "metadata": {}
        },
        {
          "output_type": "stream",
          "name": "stdout",
          "text": [
            "\n",
            "*** Feature extraction finished ***\n",
            "features shape is : (6, 389)\n",
            "number of windows : 6\n",
            "number of features 389\n",
            "data shape before extracting features (6290,)\n",
            "*** Feature extraction started ***\n"
          ]
        },
        {
          "output_type": "display_data",
          "data": {
            "text/plain": [
              "<IPython.core.display.HTML object>"
            ],
            "text/html": [
              "\n",
              "              <p>\n",
              "                  Progress: 100% Complete\n",
              "              <p/>            \n",
              "              <progress\n",
              "                  value='6'\n",
              "                  max='6',\n",
              "                  style='width: 25%',\n",
              "              >\n",
              "                  6\n",
              "              </progress>\n",
              "\n",
              "    "
            ]
          },
          "metadata": {}
        },
        {
          "output_type": "stream",
          "name": "stdout",
          "text": [
            "\n",
            "*** Feature extraction finished ***\n",
            "features shape is : (6, 389)\n",
            "number of windows : 6\n",
            "number of features 389\n",
            "data shape before extracting features (6290,)\n",
            "*** Feature extraction started ***\n"
          ]
        },
        {
          "output_type": "display_data",
          "data": {
            "text/plain": [
              "<IPython.core.display.HTML object>"
            ],
            "text/html": [
              "\n",
              "              <p>\n",
              "                  Progress: 100% Complete\n",
              "              <p/>            \n",
              "              <progress\n",
              "                  value='6'\n",
              "                  max='6',\n",
              "                  style='width: 25%',\n",
              "              >\n",
              "                  6\n",
              "              </progress>\n",
              "\n",
              "    "
            ]
          },
          "metadata": {}
        },
        {
          "output_type": "stream",
          "name": "stdout",
          "text": [
            "\n",
            "*** Feature extraction finished ***\n",
            "features shape is : (6, 389)\n",
            "number of windows : 6\n",
            "number of features 389\n",
            "data shape before extracting features (6290,)\n",
            "*** Feature extraction started ***\n"
          ]
        },
        {
          "output_type": "display_data",
          "data": {
            "text/plain": [
              "<IPython.core.display.HTML object>"
            ],
            "text/html": [
              "\n",
              "              <p>\n",
              "                  Progress: 100% Complete\n",
              "              <p/>            \n",
              "              <progress\n",
              "                  value='6'\n",
              "                  max='6',\n",
              "                  style='width: 25%',\n",
              "              >\n",
              "                  6\n",
              "              </progress>\n",
              "\n",
              "    "
            ]
          },
          "metadata": {}
        },
        {
          "output_type": "stream",
          "name": "stdout",
          "text": [
            "\n",
            "*** Feature extraction finished ***\n",
            "features shape is : (6, 389)\n",
            "number of windows : 6\n",
            "number of features 389\n",
            "data shape before extracting features (6290,)\n",
            "*** Feature extraction started ***\n"
          ]
        },
        {
          "output_type": "display_data",
          "data": {
            "text/plain": [
              "<IPython.core.display.HTML object>"
            ],
            "text/html": [
              "\n",
              "              <p>\n",
              "                  Progress: 100% Complete\n",
              "              <p/>            \n",
              "              <progress\n",
              "                  value='6'\n",
              "                  max='6',\n",
              "                  style='width: 25%',\n",
              "              >\n",
              "                  6\n",
              "              </progress>\n",
              "\n",
              "    "
            ]
          },
          "metadata": {}
        },
        {
          "output_type": "stream",
          "name": "stdout",
          "text": [
            "\n",
            "*** Feature extraction finished ***\n",
            "features shape is : (6, 389)\n",
            "number of windows : 6\n",
            "number of features 389\n",
            "data shape before extracting features (6290,)\n",
            "*** Feature extraction started ***\n"
          ]
        },
        {
          "output_type": "display_data",
          "data": {
            "text/plain": [
              "<IPython.core.display.HTML object>"
            ],
            "text/html": [
              "\n",
              "              <p>\n",
              "                  Progress: 100% Complete\n",
              "              <p/>            \n",
              "              <progress\n",
              "                  value='6'\n",
              "                  max='6',\n",
              "                  style='width: 25%',\n",
              "              >\n",
              "                  6\n",
              "              </progress>\n",
              "\n",
              "    "
            ]
          },
          "metadata": {}
        },
        {
          "output_type": "stream",
          "name": "stdout",
          "text": [
            "\n",
            "*** Feature extraction finished ***\n",
            "features shape is : (6, 389)\n",
            "number of windows : 6\n",
            "number of features 389\n",
            "data shape before extracting features (6290,)\n",
            "*** Feature extraction started ***\n"
          ]
        },
        {
          "output_type": "display_data",
          "data": {
            "text/plain": [
              "<IPython.core.display.HTML object>"
            ],
            "text/html": [
              "\n",
              "              <p>\n",
              "                  Progress: 100% Complete\n",
              "              <p/>            \n",
              "              <progress\n",
              "                  value='6'\n",
              "                  max='6',\n",
              "                  style='width: 25%',\n",
              "              >\n",
              "                  6\n",
              "              </progress>\n",
              "\n",
              "    "
            ]
          },
          "metadata": {}
        },
        {
          "output_type": "stream",
          "name": "stdout",
          "text": [
            "\n",
            "*** Feature extraction finished ***\n",
            "features shape is : (6, 389)\n",
            "number of windows : 6\n",
            "number of features 389\n",
            "data shape before extracting features (6290,)\n",
            "*** Feature extraction started ***\n"
          ]
        },
        {
          "output_type": "display_data",
          "data": {
            "text/plain": [
              "<IPython.core.display.HTML object>"
            ],
            "text/html": [
              "\n",
              "              <p>\n",
              "                  Progress: 100% Complete\n",
              "              <p/>            \n",
              "              <progress\n",
              "                  value='6'\n",
              "                  max='6',\n",
              "                  style='width: 25%',\n",
              "              >\n",
              "                  6\n",
              "              </progress>\n",
              "\n",
              "    "
            ]
          },
          "metadata": {}
        },
        {
          "output_type": "stream",
          "name": "stdout",
          "text": [
            "\n",
            "*** Feature extraction finished ***\n",
            "features shape is : (6, 389)\n",
            "number of windows : 6\n",
            "number of features 389\n",
            "data shape before extracting features (6290,)\n",
            "*** Feature extraction started ***\n"
          ]
        },
        {
          "output_type": "display_data",
          "data": {
            "text/plain": [
              "<IPython.core.display.HTML object>"
            ],
            "text/html": [
              "\n",
              "              <p>\n",
              "                  Progress: 100% Complete\n",
              "              <p/>            \n",
              "              <progress\n",
              "                  value='6'\n",
              "                  max='6',\n",
              "                  style='width: 25%',\n",
              "              >\n",
              "                  6\n",
              "              </progress>\n",
              "\n",
              "    "
            ]
          },
          "metadata": {}
        },
        {
          "output_type": "stream",
          "name": "stdout",
          "text": [
            "\n",
            "*** Feature extraction finished ***\n",
            "features shape is : (6, 389)\n",
            "number of windows : 6\n",
            "number of features 389\n",
            "data shape before extracting features (6290,)\n",
            "*** Feature extraction started ***\n"
          ]
        },
        {
          "output_type": "display_data",
          "data": {
            "text/plain": [
              "<IPython.core.display.HTML object>"
            ],
            "text/html": [
              "\n",
              "              <p>\n",
              "                  Progress: 100% Complete\n",
              "              <p/>            \n",
              "              <progress\n",
              "                  value='6'\n",
              "                  max='6',\n",
              "                  style='width: 25%',\n",
              "              >\n",
              "                  6\n",
              "              </progress>\n",
              "\n",
              "    "
            ]
          },
          "metadata": {}
        },
        {
          "output_type": "stream",
          "name": "stdout",
          "text": [
            "\n",
            "*** Feature extraction finished ***\n",
            "features shape is : (6, 389)\n",
            "number of windows : 6\n",
            "number of features 389\n",
            "data shape before extracting features (6290,)\n",
            "*** Feature extraction started ***\n"
          ]
        },
        {
          "output_type": "display_data",
          "data": {
            "text/plain": [
              "<IPython.core.display.HTML object>"
            ],
            "text/html": [
              "\n",
              "              <p>\n",
              "                  Progress: 100% Complete\n",
              "              <p/>            \n",
              "              <progress\n",
              "                  value='6'\n",
              "                  max='6',\n",
              "                  style='width: 25%',\n",
              "              >\n",
              "                  6\n",
              "              </progress>\n",
              "\n",
              "    "
            ]
          },
          "metadata": {}
        },
        {
          "output_type": "stream",
          "name": "stdout",
          "text": [
            "\n",
            "*** Feature extraction finished ***\n",
            "features shape is : (6, 389)\n",
            "number of windows : 6\n",
            "number of features 389\n",
            "data shape before extracting features (6290,)\n",
            "*** Feature extraction started ***\n"
          ]
        },
        {
          "output_type": "display_data",
          "data": {
            "text/plain": [
              "<IPython.core.display.HTML object>"
            ],
            "text/html": [
              "\n",
              "              <p>\n",
              "                  Progress: 100% Complete\n",
              "              <p/>            \n",
              "              <progress\n",
              "                  value='6'\n",
              "                  max='6',\n",
              "                  style='width: 25%',\n",
              "              >\n",
              "                  6\n",
              "              </progress>\n",
              "\n",
              "    "
            ]
          },
          "metadata": {}
        },
        {
          "output_type": "stream",
          "name": "stdout",
          "text": [
            "\n",
            "*** Feature extraction finished ***\n",
            "features shape is : (6, 389)\n",
            "number of windows : 6\n",
            "number of features 389\n",
            "data shape before extracting features (6290,)\n",
            "*** Feature extraction started ***\n"
          ]
        },
        {
          "output_type": "display_data",
          "data": {
            "text/plain": [
              "<IPython.core.display.HTML object>"
            ],
            "text/html": [
              "\n",
              "              <p>\n",
              "                  Progress: 100% Complete\n",
              "              <p/>            \n",
              "              <progress\n",
              "                  value='6'\n",
              "                  max='6',\n",
              "                  style='width: 25%',\n",
              "              >\n",
              "                  6\n",
              "              </progress>\n",
              "\n",
              "    "
            ]
          },
          "metadata": {}
        },
        {
          "output_type": "stream",
          "name": "stdout",
          "text": [
            "\n",
            "*** Feature extraction finished ***\n",
            "features shape is : (6, 389)\n",
            "number of windows : 6\n",
            "number of features 389\n",
            "data shape before extracting features (6290,)\n",
            "*** Feature extraction started ***\n"
          ]
        },
        {
          "output_type": "display_data",
          "data": {
            "text/plain": [
              "<IPython.core.display.HTML object>"
            ],
            "text/html": [
              "\n",
              "              <p>\n",
              "                  Progress: 100% Complete\n",
              "              <p/>            \n",
              "              <progress\n",
              "                  value='6'\n",
              "                  max='6',\n",
              "                  style='width: 25%',\n",
              "              >\n",
              "                  6\n",
              "              </progress>\n",
              "\n",
              "    "
            ]
          },
          "metadata": {}
        },
        {
          "output_type": "stream",
          "name": "stdout",
          "text": [
            "\n",
            "*** Feature extraction finished ***\n",
            "features shape is : (6, 389)\n",
            "number of windows : 6\n",
            "number of features 389\n",
            "data shape before extracting features (6290,)\n",
            "*** Feature extraction started ***\n"
          ]
        },
        {
          "output_type": "display_data",
          "data": {
            "text/plain": [
              "<IPython.core.display.HTML object>"
            ],
            "text/html": [
              "\n",
              "              <p>\n",
              "                  Progress: 100% Complete\n",
              "              <p/>            \n",
              "              <progress\n",
              "                  value='6'\n",
              "                  max='6',\n",
              "                  style='width: 25%',\n",
              "              >\n",
              "                  6\n",
              "              </progress>\n",
              "\n",
              "    "
            ]
          },
          "metadata": {}
        },
        {
          "output_type": "stream",
          "name": "stdout",
          "text": [
            "\n",
            "*** Feature extraction finished ***\n",
            "features shape is : (6, 389)\n",
            "number of windows : 6\n",
            "number of features 389\n",
            "data shape before extracting features (6290,)\n",
            "*** Feature extraction started ***\n"
          ]
        },
        {
          "output_type": "display_data",
          "data": {
            "text/plain": [
              "<IPython.core.display.HTML object>"
            ],
            "text/html": [
              "\n",
              "              <p>\n",
              "                  Progress: 100% Complete\n",
              "              <p/>            \n",
              "              <progress\n",
              "                  value='6'\n",
              "                  max='6',\n",
              "                  style='width: 25%',\n",
              "              >\n",
              "                  6\n",
              "              </progress>\n",
              "\n",
              "    "
            ]
          },
          "metadata": {}
        },
        {
          "output_type": "stream",
          "name": "stdout",
          "text": [
            "\n",
            "*** Feature extraction finished ***\n",
            "features shape is : (6, 389)\n",
            "number of windows : 6\n",
            "number of features 389\n",
            "data shape before extracting features (6290,)\n",
            "*** Feature extraction started ***\n"
          ]
        },
        {
          "output_type": "display_data",
          "data": {
            "text/plain": [
              "<IPython.core.display.HTML object>"
            ],
            "text/html": [
              "\n",
              "              <p>\n",
              "                  Progress: 100% Complete\n",
              "              <p/>            \n",
              "              <progress\n",
              "                  value='6'\n",
              "                  max='6',\n",
              "                  style='width: 25%',\n",
              "              >\n",
              "                  6\n",
              "              </progress>\n",
              "\n",
              "    "
            ]
          },
          "metadata": {}
        },
        {
          "output_type": "stream",
          "name": "stdout",
          "text": [
            "\n",
            "*** Feature extraction finished ***\n",
            "features shape is : (6, 389)\n",
            "number of windows : 6\n",
            "number of features 389\n",
            "data shape before extracting features (6290,)\n",
            "*** Feature extraction started ***\n"
          ]
        },
        {
          "output_type": "display_data",
          "data": {
            "text/plain": [
              "<IPython.core.display.HTML object>"
            ],
            "text/html": [
              "\n",
              "              <p>\n",
              "                  Progress: 100% Complete\n",
              "              <p/>            \n",
              "              <progress\n",
              "                  value='6'\n",
              "                  max='6',\n",
              "                  style='width: 25%',\n",
              "              >\n",
              "                  6\n",
              "              </progress>\n",
              "\n",
              "    "
            ]
          },
          "metadata": {}
        },
        {
          "output_type": "stream",
          "name": "stdout",
          "text": [
            "\n",
            "*** Feature extraction finished ***\n",
            "features shape is : (6, 389)\n",
            "number of windows : 6\n",
            "number of features 389\n",
            "data shape before extracting features (6290,)\n",
            "*** Feature extraction started ***\n"
          ]
        },
        {
          "output_type": "display_data",
          "data": {
            "text/plain": [
              "<IPython.core.display.HTML object>"
            ],
            "text/html": [
              "\n",
              "              <p>\n",
              "                  Progress: 100% Complete\n",
              "              <p/>            \n",
              "              <progress\n",
              "                  value='6'\n",
              "                  max='6',\n",
              "                  style='width: 25%',\n",
              "              >\n",
              "                  6\n",
              "              </progress>\n",
              "\n",
              "    "
            ]
          },
          "metadata": {}
        },
        {
          "output_type": "stream",
          "name": "stdout",
          "text": [
            "\n",
            "*** Feature extraction finished ***\n",
            "features shape is : (6, 389)\n",
            "number of windows : 6\n",
            "number of features 389\n",
            "data shape before extracting features (6290,)\n",
            "*** Feature extraction started ***\n"
          ]
        },
        {
          "output_type": "display_data",
          "data": {
            "text/plain": [
              "<IPython.core.display.HTML object>"
            ],
            "text/html": [
              "\n",
              "              <p>\n",
              "                  Progress: 100% Complete\n",
              "              <p/>            \n",
              "              <progress\n",
              "                  value='6'\n",
              "                  max='6',\n",
              "                  style='width: 25%',\n",
              "              >\n",
              "                  6\n",
              "              </progress>\n",
              "\n",
              "    "
            ]
          },
          "metadata": {}
        },
        {
          "output_type": "stream",
          "name": "stdout",
          "text": [
            "\n",
            "*** Feature extraction finished ***\n",
            "features shape is : (6, 389)\n",
            "number of windows : 6\n",
            "number of features 389\n",
            "data shape before extracting features (6290,)\n",
            "*** Feature extraction started ***\n"
          ]
        },
        {
          "output_type": "display_data",
          "data": {
            "text/plain": [
              "<IPython.core.display.HTML object>"
            ],
            "text/html": [
              "\n",
              "              <p>\n",
              "                  Progress: 100% Complete\n",
              "              <p/>            \n",
              "              <progress\n",
              "                  value='6'\n",
              "                  max='6',\n",
              "                  style='width: 25%',\n",
              "              >\n",
              "                  6\n",
              "              </progress>\n",
              "\n",
              "    "
            ]
          },
          "metadata": {}
        },
        {
          "output_type": "stream",
          "name": "stdout",
          "text": [
            "\n",
            "*** Feature extraction finished ***\n",
            "features shape is : (6, 389)\n",
            "number of windows : 6\n",
            "number of features 389\n",
            "data shape before extracting features (6290,)\n",
            "*** Feature extraction started ***\n"
          ]
        },
        {
          "output_type": "display_data",
          "data": {
            "text/plain": [
              "<IPython.core.display.HTML object>"
            ],
            "text/html": [
              "\n",
              "              <p>\n",
              "                  Progress: 100% Complete\n",
              "              <p/>            \n",
              "              <progress\n",
              "                  value='6'\n",
              "                  max='6',\n",
              "                  style='width: 25%',\n",
              "              >\n",
              "                  6\n",
              "              </progress>\n",
              "\n",
              "    "
            ]
          },
          "metadata": {}
        },
        {
          "output_type": "stream",
          "name": "stdout",
          "text": [
            "\n",
            "*** Feature extraction finished ***\n",
            "features shape is : (6, 389)\n",
            "number of windows : 6\n",
            "number of features 389\n",
            "data shape before extracting features (6290,)\n",
            "*** Feature extraction started ***\n"
          ]
        },
        {
          "output_type": "display_data",
          "data": {
            "text/plain": [
              "<IPython.core.display.HTML object>"
            ],
            "text/html": [
              "\n",
              "              <p>\n",
              "                  Progress: 100% Complete\n",
              "              <p/>            \n",
              "              <progress\n",
              "                  value='6'\n",
              "                  max='6',\n",
              "                  style='width: 25%',\n",
              "              >\n",
              "                  6\n",
              "              </progress>\n",
              "\n",
              "    "
            ]
          },
          "metadata": {}
        },
        {
          "output_type": "stream",
          "name": "stdout",
          "text": [
            "\n",
            "*** Feature extraction finished ***\n",
            "features shape is : (6, 389)\n",
            "number of windows : 6\n",
            "number of features 389\n",
            "data shape before extracting features (6290,)\n",
            "*** Feature extraction started ***\n"
          ]
        },
        {
          "output_type": "display_data",
          "data": {
            "text/plain": [
              "<IPython.core.display.HTML object>"
            ],
            "text/html": [
              "\n",
              "              <p>\n",
              "                  Progress: 100% Complete\n",
              "              <p/>            \n",
              "              <progress\n",
              "                  value='6'\n",
              "                  max='6',\n",
              "                  style='width: 25%',\n",
              "              >\n",
              "                  6\n",
              "              </progress>\n",
              "\n",
              "    "
            ]
          },
          "metadata": {}
        },
        {
          "output_type": "stream",
          "name": "stdout",
          "text": [
            "\n",
            "*** Feature extraction finished ***\n",
            "features shape is : (6, 389)\n",
            "number of windows : 6\n",
            "number of features 389\n",
            "data shape before extracting features (6290,)\n",
            "*** Feature extraction started ***\n"
          ]
        },
        {
          "output_type": "display_data",
          "data": {
            "text/plain": [
              "<IPython.core.display.HTML object>"
            ],
            "text/html": [
              "\n",
              "              <p>\n",
              "                  Progress: 100% Complete\n",
              "              <p/>            \n",
              "              <progress\n",
              "                  value='6'\n",
              "                  max='6',\n",
              "                  style='width: 25%',\n",
              "              >\n",
              "                  6\n",
              "              </progress>\n",
              "\n",
              "    "
            ]
          },
          "metadata": {}
        },
        {
          "output_type": "stream",
          "name": "stdout",
          "text": [
            "\n",
            "*** Feature extraction finished ***\n",
            "features shape is : (6, 389)\n",
            "number of windows : 6\n",
            "number of features 389\n",
            "data shape before extracting features (6290,)\n",
            "*** Feature extraction started ***\n"
          ]
        },
        {
          "output_type": "display_data",
          "data": {
            "text/plain": [
              "<IPython.core.display.HTML object>"
            ],
            "text/html": [
              "\n",
              "              <p>\n",
              "                  Progress: 100% Complete\n",
              "              <p/>            \n",
              "              <progress\n",
              "                  value='6'\n",
              "                  max='6',\n",
              "                  style='width: 25%',\n",
              "              >\n",
              "                  6\n",
              "              </progress>\n",
              "\n",
              "    "
            ]
          },
          "metadata": {}
        },
        {
          "output_type": "stream",
          "name": "stdout",
          "text": [
            "\n",
            "*** Feature extraction finished ***\n",
            "features shape is : (6, 389)\n",
            "number of windows : 6\n",
            "number of features 389\n",
            "data shape before extracting features (6290,)\n",
            "*** Feature extraction started ***\n"
          ]
        },
        {
          "output_type": "display_data",
          "data": {
            "text/plain": [
              "<IPython.core.display.HTML object>"
            ],
            "text/html": [
              "\n",
              "              <p>\n",
              "                  Progress: 100% Complete\n",
              "              <p/>            \n",
              "              <progress\n",
              "                  value='6'\n",
              "                  max='6',\n",
              "                  style='width: 25%',\n",
              "              >\n",
              "                  6\n",
              "              </progress>\n",
              "\n",
              "    "
            ]
          },
          "metadata": {}
        },
        {
          "output_type": "stream",
          "name": "stdout",
          "text": [
            "\n",
            "*** Feature extraction finished ***\n",
            "features shape is : (6, 389)\n",
            "number of windows : 6\n",
            "number of features 389\n",
            "data shape before extracting features (6290,)\n",
            "*** Feature extraction started ***\n"
          ]
        },
        {
          "output_type": "display_data",
          "data": {
            "text/plain": [
              "<IPython.core.display.HTML object>"
            ],
            "text/html": [
              "\n",
              "              <p>\n",
              "                  Progress: 100% Complete\n",
              "              <p/>            \n",
              "              <progress\n",
              "                  value='6'\n",
              "                  max='6',\n",
              "                  style='width: 25%',\n",
              "              >\n",
              "                  6\n",
              "              </progress>\n",
              "\n",
              "    "
            ]
          },
          "metadata": {}
        },
        {
          "output_type": "stream",
          "name": "stdout",
          "text": [
            "\n",
            "*** Feature extraction finished ***\n",
            "features shape is : (6, 389)\n",
            "number of windows : 6\n",
            "number of features 389\n",
            "data shape before extracting features (6290,)\n",
            "*** Feature extraction started ***\n"
          ]
        },
        {
          "output_type": "display_data",
          "data": {
            "text/plain": [
              "<IPython.core.display.HTML object>"
            ],
            "text/html": [
              "\n",
              "              <p>\n",
              "                  Progress: 100% Complete\n",
              "              <p/>            \n",
              "              <progress\n",
              "                  value='6'\n",
              "                  max='6',\n",
              "                  style='width: 25%',\n",
              "              >\n",
              "                  6\n",
              "              </progress>\n",
              "\n",
              "    "
            ]
          },
          "metadata": {}
        },
        {
          "output_type": "stream",
          "name": "stdout",
          "text": [
            "\n",
            "*** Feature extraction finished ***\n",
            "features shape is : (6, 389)\n",
            "number of windows : 6\n",
            "number of features 389\n",
            "data shape before extracting features (6290,)\n",
            "*** Feature extraction started ***\n"
          ]
        },
        {
          "output_type": "display_data",
          "data": {
            "text/plain": [
              "<IPython.core.display.HTML object>"
            ],
            "text/html": [
              "\n",
              "              <p>\n",
              "                  Progress: 100% Complete\n",
              "              <p/>            \n",
              "              <progress\n",
              "                  value='6'\n",
              "                  max='6',\n",
              "                  style='width: 25%',\n",
              "              >\n",
              "                  6\n",
              "              </progress>\n",
              "\n",
              "    "
            ]
          },
          "metadata": {}
        },
        {
          "output_type": "stream",
          "name": "stdout",
          "text": [
            "\n",
            "*** Feature extraction finished ***\n",
            "features shape is : (6, 389)\n",
            "number of windows : 6\n",
            "number of features 389\n",
            "data shape before extracting features (6290,)\n",
            "*** Feature extraction started ***\n"
          ]
        },
        {
          "output_type": "display_data",
          "data": {
            "text/plain": [
              "<IPython.core.display.HTML object>"
            ],
            "text/html": [
              "\n",
              "              <p>\n",
              "                  Progress: 100% Complete\n",
              "              <p/>            \n",
              "              <progress\n",
              "                  value='6'\n",
              "                  max='6',\n",
              "                  style='width: 25%',\n",
              "              >\n",
              "                  6\n",
              "              </progress>\n",
              "\n",
              "    "
            ]
          },
          "metadata": {}
        },
        {
          "output_type": "stream",
          "name": "stdout",
          "text": [
            "\n",
            "*** Feature extraction finished ***\n",
            "features shape is : (6, 389)\n",
            "number of windows : 6\n",
            "number of features 389\n",
            "data shape before extracting features (6290,)\n",
            "*** Feature extraction started ***\n"
          ]
        },
        {
          "output_type": "display_data",
          "data": {
            "text/plain": [
              "<IPython.core.display.HTML object>"
            ],
            "text/html": [
              "\n",
              "              <p>\n",
              "                  Progress: 100% Complete\n",
              "              <p/>            \n",
              "              <progress\n",
              "                  value='6'\n",
              "                  max='6',\n",
              "                  style='width: 25%',\n",
              "              >\n",
              "                  6\n",
              "              </progress>\n",
              "\n",
              "    "
            ]
          },
          "metadata": {}
        },
        {
          "output_type": "stream",
          "name": "stdout",
          "text": [
            "\n",
            "*** Feature extraction finished ***\n",
            "features shape is : (6, 389)\n",
            "number of windows : 6\n",
            "number of features 389\n",
            "data shape before extracting features (6290,)\n",
            "*** Feature extraction started ***\n"
          ]
        },
        {
          "output_type": "display_data",
          "data": {
            "text/plain": [
              "<IPython.core.display.HTML object>"
            ],
            "text/html": [
              "\n",
              "              <p>\n",
              "                  Progress: 100% Complete\n",
              "              <p/>            \n",
              "              <progress\n",
              "                  value='6'\n",
              "                  max='6',\n",
              "                  style='width: 25%',\n",
              "              >\n",
              "                  6\n",
              "              </progress>\n",
              "\n",
              "    "
            ]
          },
          "metadata": {}
        },
        {
          "output_type": "stream",
          "name": "stdout",
          "text": [
            "\n",
            "*** Feature extraction finished ***\n",
            "features shape is : (6, 389)\n",
            "number of windows : 6\n",
            "number of features 389\n",
            "data shape before extracting features (6290,)\n",
            "*** Feature extraction started ***\n"
          ]
        },
        {
          "output_type": "display_data",
          "data": {
            "text/plain": [
              "<IPython.core.display.HTML object>"
            ],
            "text/html": [
              "\n",
              "              <p>\n",
              "                  Progress: 100% Complete\n",
              "              <p/>            \n",
              "              <progress\n",
              "                  value='6'\n",
              "                  max='6',\n",
              "                  style='width: 25%',\n",
              "              >\n",
              "                  6\n",
              "              </progress>\n",
              "\n",
              "    "
            ]
          },
          "metadata": {}
        },
        {
          "output_type": "stream",
          "name": "stdout",
          "text": [
            "\n",
            "*** Feature extraction finished ***\n",
            "features shape is : (6, 389)\n",
            "number of windows : 6\n",
            "number of features 389\n",
            "data shape before extracting features (6290,)\n",
            "*** Feature extraction started ***\n"
          ]
        },
        {
          "output_type": "display_data",
          "data": {
            "text/plain": [
              "<IPython.core.display.HTML object>"
            ],
            "text/html": [
              "\n",
              "              <p>\n",
              "                  Progress: 100% Complete\n",
              "              <p/>            \n",
              "              <progress\n",
              "                  value='6'\n",
              "                  max='6',\n",
              "                  style='width: 25%',\n",
              "              >\n",
              "                  6\n",
              "              </progress>\n",
              "\n",
              "    "
            ]
          },
          "metadata": {}
        },
        {
          "output_type": "stream",
          "name": "stdout",
          "text": [
            "\n",
            "*** Feature extraction finished ***\n",
            "features shape is : (6, 389)\n",
            "number of windows : 6\n",
            "number of features 389\n",
            "data shape before extracting features (6290,)\n",
            "*** Feature extraction started ***\n"
          ]
        },
        {
          "output_type": "display_data",
          "data": {
            "text/plain": [
              "<IPython.core.display.HTML object>"
            ],
            "text/html": [
              "\n",
              "              <p>\n",
              "                  Progress: 100% Complete\n",
              "              <p/>            \n",
              "              <progress\n",
              "                  value='6'\n",
              "                  max='6',\n",
              "                  style='width: 25%',\n",
              "              >\n",
              "                  6\n",
              "              </progress>\n",
              "\n",
              "    "
            ]
          },
          "metadata": {}
        },
        {
          "output_type": "stream",
          "name": "stdout",
          "text": [
            "\n",
            "*** Feature extraction finished ***\n",
            "features shape is : (6, 389)\n",
            "number of windows : 6\n",
            "number of features 389\n",
            "data shape before extracting features (6290,)\n",
            "*** Feature extraction started ***\n"
          ]
        },
        {
          "output_type": "display_data",
          "data": {
            "text/plain": [
              "<IPython.core.display.HTML object>"
            ],
            "text/html": [
              "\n",
              "              <p>\n",
              "                  Progress: 100% Complete\n",
              "              <p/>            \n",
              "              <progress\n",
              "                  value='6'\n",
              "                  max='6',\n",
              "                  style='width: 25%',\n",
              "              >\n",
              "                  6\n",
              "              </progress>\n",
              "\n",
              "    "
            ]
          },
          "metadata": {}
        },
        {
          "output_type": "stream",
          "name": "stdout",
          "text": [
            "\n",
            "*** Feature extraction finished ***\n",
            "features shape is : (6, 389)\n",
            "number of windows : 6\n",
            "number of features 389\n",
            "data shape before extracting features (6290,)\n",
            "*** Feature extraction started ***\n"
          ]
        },
        {
          "output_type": "display_data",
          "data": {
            "text/plain": [
              "<IPython.core.display.HTML object>"
            ],
            "text/html": [
              "\n",
              "              <p>\n",
              "                  Progress: 100% Complete\n",
              "              <p/>            \n",
              "              <progress\n",
              "                  value='6'\n",
              "                  max='6',\n",
              "                  style='width: 25%',\n",
              "              >\n",
              "                  6\n",
              "              </progress>\n",
              "\n",
              "    "
            ]
          },
          "metadata": {}
        },
        {
          "output_type": "stream",
          "name": "stdout",
          "text": [
            "\n",
            "*** Feature extraction finished ***\n",
            "features shape is : (6, 389)\n",
            "number of windows : 6\n",
            "number of features 389\n",
            "data shape before extracting features (6290,)\n",
            "*** Feature extraction started ***\n"
          ]
        },
        {
          "output_type": "display_data",
          "data": {
            "text/plain": [
              "<IPython.core.display.HTML object>"
            ],
            "text/html": [
              "\n",
              "              <p>\n",
              "                  Progress: 100% Complete\n",
              "              <p/>            \n",
              "              <progress\n",
              "                  value='6'\n",
              "                  max='6',\n",
              "                  style='width: 25%',\n",
              "              >\n",
              "                  6\n",
              "              </progress>\n",
              "\n",
              "    "
            ]
          },
          "metadata": {}
        },
        {
          "output_type": "stream",
          "name": "stdout",
          "text": [
            "\n",
            "*** Feature extraction finished ***\n",
            "features shape is : (6, 389)\n",
            "number of windows : 6\n",
            "number of features 389\n",
            "data shape before extracting features (6290,)\n",
            "*** Feature extraction started ***\n"
          ]
        },
        {
          "output_type": "display_data",
          "data": {
            "text/plain": [
              "<IPython.core.display.HTML object>"
            ],
            "text/html": [
              "\n",
              "              <p>\n",
              "                  Progress: 100% Complete\n",
              "              <p/>            \n",
              "              <progress\n",
              "                  value='6'\n",
              "                  max='6',\n",
              "                  style='width: 25%',\n",
              "              >\n",
              "                  6\n",
              "              </progress>\n",
              "\n",
              "    "
            ]
          },
          "metadata": {}
        },
        {
          "output_type": "stream",
          "name": "stdout",
          "text": [
            "\n",
            "*** Feature extraction finished ***\n",
            "features shape is : (6, 389)\n",
            "number of windows : 6\n",
            "number of features 389\n",
            "data shape before extracting features (6290,)\n",
            "*** Feature extraction started ***\n"
          ]
        },
        {
          "output_type": "display_data",
          "data": {
            "text/plain": [
              "<IPython.core.display.HTML object>"
            ],
            "text/html": [
              "\n",
              "              <p>\n",
              "                  Progress: 100% Complete\n",
              "              <p/>            \n",
              "              <progress\n",
              "                  value='6'\n",
              "                  max='6',\n",
              "                  style='width: 25%',\n",
              "              >\n",
              "                  6\n",
              "              </progress>\n",
              "\n",
              "    "
            ]
          },
          "metadata": {}
        },
        {
          "output_type": "stream",
          "name": "stdout",
          "text": [
            "\n",
            "*** Feature extraction finished ***\n",
            "features shape is : (6, 389)\n",
            "number of windows : 6\n",
            "number of features 389\n",
            "data shape before extracting features (6290,)\n",
            "*** Feature extraction started ***\n"
          ]
        },
        {
          "output_type": "display_data",
          "data": {
            "text/plain": [
              "<IPython.core.display.HTML object>"
            ],
            "text/html": [
              "\n",
              "              <p>\n",
              "                  Progress: 100% Complete\n",
              "              <p/>            \n",
              "              <progress\n",
              "                  value='6'\n",
              "                  max='6',\n",
              "                  style='width: 25%',\n",
              "              >\n",
              "                  6\n",
              "              </progress>\n",
              "\n",
              "    "
            ]
          },
          "metadata": {}
        },
        {
          "output_type": "stream",
          "name": "stdout",
          "text": [
            "\n",
            "*** Feature extraction finished ***\n",
            "features shape is : (6, 389)\n",
            "number of windows : 6\n",
            "number of features 389\n",
            "data shape before extracting features (6290,)\n",
            "*** Feature extraction started ***\n"
          ]
        },
        {
          "output_type": "display_data",
          "data": {
            "text/plain": [
              "<IPython.core.display.HTML object>"
            ],
            "text/html": [
              "\n",
              "              <p>\n",
              "                  Progress: 100% Complete\n",
              "              <p/>            \n",
              "              <progress\n",
              "                  value='6'\n",
              "                  max='6',\n",
              "                  style='width: 25%',\n",
              "              >\n",
              "                  6\n",
              "              </progress>\n",
              "\n",
              "    "
            ]
          },
          "metadata": {}
        },
        {
          "output_type": "stream",
          "name": "stdout",
          "text": [
            "\n",
            "*** Feature extraction finished ***\n",
            "features shape is : (6, 389)\n",
            "number of windows : 6\n",
            "number of features 389\n",
            "data shape before extracting features (6290,)\n",
            "*** Feature extraction started ***\n"
          ]
        },
        {
          "output_type": "display_data",
          "data": {
            "text/plain": [
              "<IPython.core.display.HTML object>"
            ],
            "text/html": [
              "\n",
              "              <p>\n",
              "                  Progress: 100% Complete\n",
              "              <p/>            \n",
              "              <progress\n",
              "                  value='6'\n",
              "                  max='6',\n",
              "                  style='width: 25%',\n",
              "              >\n",
              "                  6\n",
              "              </progress>\n",
              "\n",
              "    "
            ]
          },
          "metadata": {}
        },
        {
          "output_type": "stream",
          "name": "stdout",
          "text": [
            "\n",
            "*** Feature extraction finished ***\n",
            "features shape is : (6, 389)\n",
            "number of windows : 6\n",
            "number of features 389\n",
            "data shape before extracting features (6290,)\n",
            "*** Feature extraction started ***\n"
          ]
        },
        {
          "output_type": "display_data",
          "data": {
            "text/plain": [
              "<IPython.core.display.HTML object>"
            ],
            "text/html": [
              "\n",
              "              <p>\n",
              "                  Progress: 100% Complete\n",
              "              <p/>            \n",
              "              <progress\n",
              "                  value='6'\n",
              "                  max='6',\n",
              "                  style='width: 25%',\n",
              "              >\n",
              "                  6\n",
              "              </progress>\n",
              "\n",
              "    "
            ]
          },
          "metadata": {}
        },
        {
          "output_type": "stream",
          "name": "stdout",
          "text": [
            "\n",
            "*** Feature extraction finished ***\n",
            "features shape is : (6, 389)\n",
            "number of windows : 6\n",
            "number of features 389\n",
            "data shape before extracting features (6290,)\n",
            "*** Feature extraction started ***\n"
          ]
        },
        {
          "output_type": "display_data",
          "data": {
            "text/plain": [
              "<IPython.core.display.HTML object>"
            ],
            "text/html": [
              "\n",
              "              <p>\n",
              "                  Progress: 100% Complete\n",
              "              <p/>            \n",
              "              <progress\n",
              "                  value='6'\n",
              "                  max='6',\n",
              "                  style='width: 25%',\n",
              "              >\n",
              "                  6\n",
              "              </progress>\n",
              "\n",
              "    "
            ]
          },
          "metadata": {}
        },
        {
          "output_type": "stream",
          "name": "stdout",
          "text": [
            "\n",
            "*** Feature extraction finished ***\n",
            "features shape is : (6, 389)\n",
            "number of windows : 6\n",
            "number of features 389\n",
            "data shape before extracting features (6290,)\n",
            "*** Feature extraction started ***\n"
          ]
        },
        {
          "output_type": "display_data",
          "data": {
            "text/plain": [
              "<IPython.core.display.HTML object>"
            ],
            "text/html": [
              "\n",
              "              <p>\n",
              "                  Progress: 100% Complete\n",
              "              <p/>            \n",
              "              <progress\n",
              "                  value='6'\n",
              "                  max='6',\n",
              "                  style='width: 25%',\n",
              "              >\n",
              "                  6\n",
              "              </progress>\n",
              "\n",
              "    "
            ]
          },
          "metadata": {}
        },
        {
          "output_type": "stream",
          "name": "stdout",
          "text": [
            "\n",
            "*** Feature extraction finished ***\n",
            "features shape is : (6, 389)\n",
            "number of windows : 6\n",
            "number of features 389\n",
            "data shape before extracting features (6290,)\n",
            "*** Feature extraction started ***\n"
          ]
        },
        {
          "output_type": "display_data",
          "data": {
            "text/plain": [
              "<IPython.core.display.HTML object>"
            ],
            "text/html": [
              "\n",
              "              <p>\n",
              "                  Progress: 100% Complete\n",
              "              <p/>            \n",
              "              <progress\n",
              "                  value='6'\n",
              "                  max='6',\n",
              "                  style='width: 25%',\n",
              "              >\n",
              "                  6\n",
              "              </progress>\n",
              "\n",
              "    "
            ]
          },
          "metadata": {}
        },
        {
          "output_type": "stream",
          "name": "stdout",
          "text": [
            "\n",
            "*** Feature extraction finished ***\n",
            "features shape is : (6, 389)\n",
            "number of windows : 6\n",
            "number of features 389\n",
            "data shape before extracting features (6290,)\n",
            "*** Feature extraction started ***\n"
          ]
        },
        {
          "output_type": "display_data",
          "data": {
            "text/plain": [
              "<IPython.core.display.HTML object>"
            ],
            "text/html": [
              "\n",
              "              <p>\n",
              "                  Progress: 100% Complete\n",
              "              <p/>            \n",
              "              <progress\n",
              "                  value='6'\n",
              "                  max='6',\n",
              "                  style='width: 25%',\n",
              "              >\n",
              "                  6\n",
              "              </progress>\n",
              "\n",
              "    "
            ]
          },
          "metadata": {}
        },
        {
          "output_type": "stream",
          "name": "stdout",
          "text": [
            "\n",
            "*** Feature extraction finished ***\n",
            "features shape is : (6, 389)\n",
            "number of windows : 6\n",
            "number of features 389\n",
            "data shape before extracting features (6290,)\n",
            "*** Feature extraction started ***\n"
          ]
        },
        {
          "output_type": "display_data",
          "data": {
            "text/plain": [
              "<IPython.core.display.HTML object>"
            ],
            "text/html": [
              "\n",
              "              <p>\n",
              "                  Progress: 100% Complete\n",
              "              <p/>            \n",
              "              <progress\n",
              "                  value='6'\n",
              "                  max='6',\n",
              "                  style='width: 25%',\n",
              "              >\n",
              "                  6\n",
              "              </progress>\n",
              "\n",
              "    "
            ]
          },
          "metadata": {}
        },
        {
          "output_type": "stream",
          "name": "stdout",
          "text": [
            "\n",
            "*** Feature extraction finished ***\n",
            "features shape is : (6, 389)\n",
            "number of windows : 6\n",
            "number of features 389\n",
            "data shape before extracting features (6290,)\n",
            "*** Feature extraction started ***\n"
          ]
        },
        {
          "output_type": "display_data",
          "data": {
            "text/plain": [
              "<IPython.core.display.HTML object>"
            ],
            "text/html": [
              "\n",
              "              <p>\n",
              "                  Progress: 100% Complete\n",
              "              <p/>            \n",
              "              <progress\n",
              "                  value='6'\n",
              "                  max='6',\n",
              "                  style='width: 25%',\n",
              "              >\n",
              "                  6\n",
              "              </progress>\n",
              "\n",
              "    "
            ]
          },
          "metadata": {}
        },
        {
          "output_type": "stream",
          "name": "stdout",
          "text": [
            "\n",
            "*** Feature extraction finished ***\n",
            "features shape is : (6, 389)\n",
            "number of windows : 6\n",
            "number of features 389\n",
            "data shape before extracting features (6290,)\n",
            "*** Feature extraction started ***\n"
          ]
        },
        {
          "output_type": "display_data",
          "data": {
            "text/plain": [
              "<IPython.core.display.HTML object>"
            ],
            "text/html": [
              "\n",
              "              <p>\n",
              "                  Progress: 100% Complete\n",
              "              <p/>            \n",
              "              <progress\n",
              "                  value='6'\n",
              "                  max='6',\n",
              "                  style='width: 25%',\n",
              "              >\n",
              "                  6\n",
              "              </progress>\n",
              "\n",
              "    "
            ]
          },
          "metadata": {}
        },
        {
          "output_type": "stream",
          "name": "stdout",
          "text": [
            "\n",
            "*** Feature extraction finished ***\n",
            "features shape is : (6, 389)\n",
            "number of windows : 6\n",
            "number of features 389\n",
            "data shape before extracting features (6290,)\n",
            "*** Feature extraction started ***\n"
          ]
        },
        {
          "output_type": "display_data",
          "data": {
            "text/plain": [
              "<IPython.core.display.HTML object>"
            ],
            "text/html": [
              "\n",
              "              <p>\n",
              "                  Progress: 100% Complete\n",
              "              <p/>            \n",
              "              <progress\n",
              "                  value='6'\n",
              "                  max='6',\n",
              "                  style='width: 25%',\n",
              "              >\n",
              "                  6\n",
              "              </progress>\n",
              "\n",
              "    "
            ]
          },
          "metadata": {}
        },
        {
          "output_type": "stream",
          "name": "stdout",
          "text": [
            "\n",
            "*** Feature extraction finished ***\n",
            "features shape is : (6, 389)\n",
            "number of windows : 6\n",
            "number of features 389\n",
            "data shape before extracting features (6290,)\n",
            "*** Feature extraction started ***\n"
          ]
        },
        {
          "output_type": "display_data",
          "data": {
            "text/plain": [
              "<IPython.core.display.HTML object>"
            ],
            "text/html": [
              "\n",
              "              <p>\n",
              "                  Progress: 100% Complete\n",
              "              <p/>            \n",
              "              <progress\n",
              "                  value='6'\n",
              "                  max='6',\n",
              "                  style='width: 25%',\n",
              "              >\n",
              "                  6\n",
              "              </progress>\n",
              "\n",
              "    "
            ]
          },
          "metadata": {}
        },
        {
          "output_type": "stream",
          "name": "stdout",
          "text": [
            "\n",
            "*** Feature extraction finished ***\n",
            "features shape is : (6, 389)\n",
            "number of windows : 6\n",
            "number of features 389\n",
            "data shape before extracting features (6290,)\n",
            "*** Feature extraction started ***\n"
          ]
        },
        {
          "output_type": "display_data",
          "data": {
            "text/plain": [
              "<IPython.core.display.HTML object>"
            ],
            "text/html": [
              "\n",
              "              <p>\n",
              "                  Progress: 100% Complete\n",
              "              <p/>            \n",
              "              <progress\n",
              "                  value='6'\n",
              "                  max='6',\n",
              "                  style='width: 25%',\n",
              "              >\n",
              "                  6\n",
              "              </progress>\n",
              "\n",
              "    "
            ]
          },
          "metadata": {}
        },
        {
          "output_type": "stream",
          "name": "stdout",
          "text": [
            "\n",
            "*** Feature extraction finished ***\n",
            "features shape is : (6, 389)\n",
            "number of windows : 6\n",
            "number of features 389\n",
            "data shape before extracting features (6290,)\n",
            "*** Feature extraction started ***\n"
          ]
        },
        {
          "output_type": "display_data",
          "data": {
            "text/plain": [
              "<IPython.core.display.HTML object>"
            ],
            "text/html": [
              "\n",
              "              <p>\n",
              "                  Progress: 100% Complete\n",
              "              <p/>            \n",
              "              <progress\n",
              "                  value='6'\n",
              "                  max='6',\n",
              "                  style='width: 25%',\n",
              "              >\n",
              "                  6\n",
              "              </progress>\n",
              "\n",
              "    "
            ]
          },
          "metadata": {}
        },
        {
          "output_type": "stream",
          "name": "stdout",
          "text": [
            "\n",
            "*** Feature extraction finished ***\n",
            "features shape is : (6, 389)\n",
            "number of windows : 6\n",
            "number of features 389\n",
            "data shape before extracting features (6290,)\n",
            "*** Feature extraction started ***\n"
          ]
        },
        {
          "output_type": "display_data",
          "data": {
            "text/plain": [
              "<IPython.core.display.HTML object>"
            ],
            "text/html": [
              "\n",
              "              <p>\n",
              "                  Progress: 100% Complete\n",
              "              <p/>            \n",
              "              <progress\n",
              "                  value='6'\n",
              "                  max='6',\n",
              "                  style='width: 25%',\n",
              "              >\n",
              "                  6\n",
              "              </progress>\n",
              "\n",
              "    "
            ]
          },
          "metadata": {}
        },
        {
          "output_type": "stream",
          "name": "stdout",
          "text": [
            "\n",
            "*** Feature extraction finished ***\n",
            "features shape is : (6, 389)\n",
            "number of windows : 6\n",
            "number of features 389\n",
            "data shape before extracting features (6290,)\n",
            "*** Feature extraction started ***\n"
          ]
        },
        {
          "output_type": "display_data",
          "data": {
            "text/plain": [
              "<IPython.core.display.HTML object>"
            ],
            "text/html": [
              "\n",
              "              <p>\n",
              "                  Progress: 100% Complete\n",
              "              <p/>            \n",
              "              <progress\n",
              "                  value='6'\n",
              "                  max='6',\n",
              "                  style='width: 25%',\n",
              "              >\n",
              "                  6\n",
              "              </progress>\n",
              "\n",
              "    "
            ]
          },
          "metadata": {}
        },
        {
          "output_type": "stream",
          "name": "stdout",
          "text": [
            "\n",
            "*** Feature extraction finished ***\n",
            "features shape is : (6, 389)\n",
            "number of windows : 6\n",
            "number of features 389\n",
            "data shape before extracting features (6290,)\n",
            "*** Feature extraction started ***\n"
          ]
        },
        {
          "output_type": "display_data",
          "data": {
            "text/plain": [
              "<IPython.core.display.HTML object>"
            ],
            "text/html": [
              "\n",
              "              <p>\n",
              "                  Progress: 100% Complete\n",
              "              <p/>            \n",
              "              <progress\n",
              "                  value='6'\n",
              "                  max='6',\n",
              "                  style='width: 25%',\n",
              "              >\n",
              "                  6\n",
              "              </progress>\n",
              "\n",
              "    "
            ]
          },
          "metadata": {}
        },
        {
          "output_type": "stream",
          "name": "stdout",
          "text": [
            "\n",
            "*** Feature extraction finished ***\n",
            "features shape is : (6, 389)\n",
            "number of windows : 6\n",
            "number of features 389\n",
            "data shape before extracting features (6290,)\n",
            "*** Feature extraction started ***\n"
          ]
        },
        {
          "output_type": "display_data",
          "data": {
            "text/plain": [
              "<IPython.core.display.HTML object>"
            ],
            "text/html": [
              "\n",
              "              <p>\n",
              "                  Progress: 100% Complete\n",
              "              <p/>            \n",
              "              <progress\n",
              "                  value='6'\n",
              "                  max='6',\n",
              "                  style='width: 25%',\n",
              "              >\n",
              "                  6\n",
              "              </progress>\n",
              "\n",
              "    "
            ]
          },
          "metadata": {}
        },
        {
          "output_type": "stream",
          "name": "stdout",
          "text": [
            "\n",
            "*** Feature extraction finished ***\n",
            "features shape is : (6, 389)\n",
            "number of windows : 6\n",
            "number of features 389\n",
            "data shape before extracting features (6290,)\n",
            "*** Feature extraction started ***\n"
          ]
        },
        {
          "output_type": "display_data",
          "data": {
            "text/plain": [
              "<IPython.core.display.HTML object>"
            ],
            "text/html": [
              "\n",
              "              <p>\n",
              "                  Progress: 100% Complete\n",
              "              <p/>            \n",
              "              <progress\n",
              "                  value='6'\n",
              "                  max='6',\n",
              "                  style='width: 25%',\n",
              "              >\n",
              "                  6\n",
              "              </progress>\n",
              "\n",
              "    "
            ]
          },
          "metadata": {}
        },
        {
          "output_type": "stream",
          "name": "stdout",
          "text": [
            "\n",
            "*** Feature extraction finished ***\n",
            "features shape is : (6, 389)\n",
            "number of windows : 6\n",
            "number of features 389\n",
            "data shape before extracting features (6290,)\n",
            "*** Feature extraction started ***\n"
          ]
        },
        {
          "output_type": "display_data",
          "data": {
            "text/plain": [
              "<IPython.core.display.HTML object>"
            ],
            "text/html": [
              "\n",
              "              <p>\n",
              "                  Progress: 100% Complete\n",
              "              <p/>            \n",
              "              <progress\n",
              "                  value='6'\n",
              "                  max='6',\n",
              "                  style='width: 25%',\n",
              "              >\n",
              "                  6\n",
              "              </progress>\n",
              "\n",
              "    "
            ]
          },
          "metadata": {}
        },
        {
          "output_type": "stream",
          "name": "stdout",
          "text": [
            "\n",
            "*** Feature extraction finished ***\n",
            "features shape is : (6, 389)\n",
            "number of windows : 6\n",
            "number of features 389\n",
            "data shape before extracting features (6290,)\n",
            "*** Feature extraction started ***\n"
          ]
        },
        {
          "output_type": "display_data",
          "data": {
            "text/plain": [
              "<IPython.core.display.HTML object>"
            ],
            "text/html": [
              "\n",
              "              <p>\n",
              "                  Progress: 100% Complete\n",
              "              <p/>            \n",
              "              <progress\n",
              "                  value='6'\n",
              "                  max='6',\n",
              "                  style='width: 25%',\n",
              "              >\n",
              "                  6\n",
              "              </progress>\n",
              "\n",
              "    "
            ]
          },
          "metadata": {}
        },
        {
          "output_type": "stream",
          "name": "stdout",
          "text": [
            "\n",
            "*** Feature extraction finished ***\n",
            "features shape is : (6, 389)\n",
            "number of windows : 6\n",
            "number of features 389\n",
            "data shape before extracting features (6290,)\n",
            "*** Feature extraction started ***\n"
          ]
        },
        {
          "output_type": "display_data",
          "data": {
            "text/plain": [
              "<IPython.core.display.HTML object>"
            ],
            "text/html": [
              "\n",
              "              <p>\n",
              "                  Progress: 100% Complete\n",
              "              <p/>            \n",
              "              <progress\n",
              "                  value='6'\n",
              "                  max='6',\n",
              "                  style='width: 25%',\n",
              "              >\n",
              "                  6\n",
              "              </progress>\n",
              "\n",
              "    "
            ]
          },
          "metadata": {}
        },
        {
          "output_type": "stream",
          "name": "stdout",
          "text": [
            "\n",
            "*** Feature extraction finished ***\n",
            "features shape is : (6, 389)\n",
            "number of windows : 6\n",
            "number of features 389\n",
            "data shape before extracting features (6290,)\n",
            "*** Feature extraction started ***\n"
          ]
        },
        {
          "output_type": "display_data",
          "data": {
            "text/plain": [
              "<IPython.core.display.HTML object>"
            ],
            "text/html": [
              "\n",
              "              <p>\n",
              "                  Progress: 100% Complete\n",
              "              <p/>            \n",
              "              <progress\n",
              "                  value='6'\n",
              "                  max='6',\n",
              "                  style='width: 25%',\n",
              "              >\n",
              "                  6\n",
              "              </progress>\n",
              "\n",
              "    "
            ]
          },
          "metadata": {}
        },
        {
          "output_type": "stream",
          "name": "stdout",
          "text": [
            "\n",
            "*** Feature extraction finished ***\n",
            "features shape is : (6, 389)\n",
            "number of windows : 6\n",
            "number of features 389\n",
            "data shape before extracting features (6290,)\n",
            "*** Feature extraction started ***\n"
          ]
        },
        {
          "output_type": "display_data",
          "data": {
            "text/plain": [
              "<IPython.core.display.HTML object>"
            ],
            "text/html": [
              "\n",
              "              <p>\n",
              "                  Progress: 100% Complete\n",
              "              <p/>            \n",
              "              <progress\n",
              "                  value='6'\n",
              "                  max='6',\n",
              "                  style='width: 25%',\n",
              "              >\n",
              "                  6\n",
              "              </progress>\n",
              "\n",
              "    "
            ]
          },
          "metadata": {}
        },
        {
          "output_type": "stream",
          "name": "stdout",
          "text": [
            "\n",
            "*** Feature extraction finished ***\n",
            "features shape is : (6, 389)\n",
            "number of windows : 6\n",
            "number of features 389\n",
            "data shape before extracting features (6290,)\n",
            "*** Feature extraction started ***\n"
          ]
        },
        {
          "output_type": "display_data",
          "data": {
            "text/plain": [
              "<IPython.core.display.HTML object>"
            ],
            "text/html": [
              "\n",
              "              <p>\n",
              "                  Progress: 100% Complete\n",
              "              <p/>            \n",
              "              <progress\n",
              "                  value='6'\n",
              "                  max='6',\n",
              "                  style='width: 25%',\n",
              "              >\n",
              "                  6\n",
              "              </progress>\n",
              "\n",
              "    "
            ]
          },
          "metadata": {}
        },
        {
          "output_type": "stream",
          "name": "stdout",
          "text": [
            "\n",
            "*** Feature extraction finished ***\n",
            "features shape is : (6, 389)\n",
            "number of windows : 6\n",
            "number of features 389\n",
            "data shape before extracting features (6290,)\n",
            "*** Feature extraction started ***\n"
          ]
        },
        {
          "output_type": "display_data",
          "data": {
            "text/plain": [
              "<IPython.core.display.HTML object>"
            ],
            "text/html": [
              "\n",
              "              <p>\n",
              "                  Progress: 100% Complete\n",
              "              <p/>            \n",
              "              <progress\n",
              "                  value='6'\n",
              "                  max='6',\n",
              "                  style='width: 25%',\n",
              "              >\n",
              "                  6\n",
              "              </progress>\n",
              "\n",
              "    "
            ]
          },
          "metadata": {}
        },
        {
          "output_type": "stream",
          "name": "stdout",
          "text": [
            "\n",
            "*** Feature extraction finished ***\n",
            "features shape is : (6, 389)\n",
            "number of windows : 6\n",
            "number of features 389\n",
            "data shape before extracting features (6290,)\n",
            "*** Feature extraction started ***\n"
          ]
        },
        {
          "output_type": "display_data",
          "data": {
            "text/plain": [
              "<IPython.core.display.HTML object>"
            ],
            "text/html": [
              "\n",
              "              <p>\n",
              "                  Progress: 100% Complete\n",
              "              <p/>            \n",
              "              <progress\n",
              "                  value='6'\n",
              "                  max='6',\n",
              "                  style='width: 25%',\n",
              "              >\n",
              "                  6\n",
              "              </progress>\n",
              "\n",
              "    "
            ]
          },
          "metadata": {}
        },
        {
          "output_type": "stream",
          "name": "stdout",
          "text": [
            "\n",
            "*** Feature extraction finished ***\n",
            "features shape is : (6, 389)\n",
            "number of windows : 6\n",
            "number of features 389\n",
            "data shape before extracting features (6290,)\n",
            "*** Feature extraction started ***\n"
          ]
        },
        {
          "output_type": "display_data",
          "data": {
            "text/plain": [
              "<IPython.core.display.HTML object>"
            ],
            "text/html": [
              "\n",
              "              <p>\n",
              "                  Progress: 100% Complete\n",
              "              <p/>            \n",
              "              <progress\n",
              "                  value='6'\n",
              "                  max='6',\n",
              "                  style='width: 25%',\n",
              "              >\n",
              "                  6\n",
              "              </progress>\n",
              "\n",
              "    "
            ]
          },
          "metadata": {}
        },
        {
          "output_type": "stream",
          "name": "stdout",
          "text": [
            "\n",
            "*** Feature extraction finished ***\n",
            "features shape is : (6, 389)\n",
            "number of windows : 6\n",
            "number of features 389\n",
            "data shape before extracting features (6290,)\n",
            "*** Feature extraction started ***\n"
          ]
        },
        {
          "output_type": "display_data",
          "data": {
            "text/plain": [
              "<IPython.core.display.HTML object>"
            ],
            "text/html": [
              "\n",
              "              <p>\n",
              "                  Progress: 100% Complete\n",
              "              <p/>            \n",
              "              <progress\n",
              "                  value='6'\n",
              "                  max='6',\n",
              "                  style='width: 25%',\n",
              "              >\n",
              "                  6\n",
              "              </progress>\n",
              "\n",
              "    "
            ]
          },
          "metadata": {}
        },
        {
          "output_type": "stream",
          "name": "stdout",
          "text": [
            "\n",
            "*** Feature extraction finished ***\n",
            "features shape is : (6, 389)\n",
            "number of windows : 6\n",
            "number of features 389\n",
            "data shape before extracting features (6290,)\n",
            "*** Feature extraction started ***\n"
          ]
        },
        {
          "output_type": "display_data",
          "data": {
            "text/plain": [
              "<IPython.core.display.HTML object>"
            ],
            "text/html": [
              "\n",
              "              <p>\n",
              "                  Progress: 100% Complete\n",
              "              <p/>            \n",
              "              <progress\n",
              "                  value='6'\n",
              "                  max='6',\n",
              "                  style='width: 25%',\n",
              "              >\n",
              "                  6\n",
              "              </progress>\n",
              "\n",
              "    "
            ]
          },
          "metadata": {}
        },
        {
          "output_type": "stream",
          "name": "stdout",
          "text": [
            "\n",
            "*** Feature extraction finished ***\n",
            "features shape is : (6, 389)\n",
            "number of windows : 6\n",
            "number of features 389\n",
            "data shape before extracting features (6290,)\n",
            "*** Feature extraction started ***\n"
          ]
        },
        {
          "output_type": "display_data",
          "data": {
            "text/plain": [
              "<IPython.core.display.HTML object>"
            ],
            "text/html": [
              "\n",
              "              <p>\n",
              "                  Progress: 100% Complete\n",
              "              <p/>            \n",
              "              <progress\n",
              "                  value='6'\n",
              "                  max='6',\n",
              "                  style='width: 25%',\n",
              "              >\n",
              "                  6\n",
              "              </progress>\n",
              "\n",
              "    "
            ]
          },
          "metadata": {}
        },
        {
          "output_type": "stream",
          "name": "stdout",
          "text": [
            "\n",
            "*** Feature extraction finished ***\n",
            "features shape is : (6, 389)\n",
            "number of windows : 6\n",
            "number of features 389\n",
            "data shape before extracting features (6290,)\n",
            "*** Feature extraction started ***\n"
          ]
        },
        {
          "output_type": "display_data",
          "data": {
            "text/plain": [
              "<IPython.core.display.HTML object>"
            ],
            "text/html": [
              "\n",
              "              <p>\n",
              "                  Progress: 100% Complete\n",
              "              <p/>            \n",
              "              <progress\n",
              "                  value='6'\n",
              "                  max='6',\n",
              "                  style='width: 25%',\n",
              "              >\n",
              "                  6\n",
              "              </progress>\n",
              "\n",
              "    "
            ]
          },
          "metadata": {}
        },
        {
          "output_type": "stream",
          "name": "stdout",
          "text": [
            "\n",
            "*** Feature extraction finished ***\n",
            "features shape is : (6, 389)\n",
            "number of windows : 6\n",
            "number of features 389\n",
            "data shape before extracting features (6290,)\n",
            "*** Feature extraction started ***\n"
          ]
        },
        {
          "output_type": "display_data",
          "data": {
            "text/plain": [
              "<IPython.core.display.HTML object>"
            ],
            "text/html": [
              "\n",
              "              <p>\n",
              "                  Progress: 100% Complete\n",
              "              <p/>            \n",
              "              <progress\n",
              "                  value='6'\n",
              "                  max='6',\n",
              "                  style='width: 25%',\n",
              "              >\n",
              "                  6\n",
              "              </progress>\n",
              "\n",
              "    "
            ]
          },
          "metadata": {}
        },
        {
          "output_type": "stream",
          "name": "stdout",
          "text": [
            "\n",
            "*** Feature extraction finished ***\n",
            "features shape is : (6, 389)\n",
            "number of windows : 6\n",
            "number of features 389\n",
            "data shape before extracting features (6290,)\n",
            "*** Feature extraction started ***\n"
          ]
        },
        {
          "output_type": "display_data",
          "data": {
            "text/plain": [
              "<IPython.core.display.HTML object>"
            ],
            "text/html": [
              "\n",
              "              <p>\n",
              "                  Progress: 100% Complete\n",
              "              <p/>            \n",
              "              <progress\n",
              "                  value='6'\n",
              "                  max='6',\n",
              "                  style='width: 25%',\n",
              "              >\n",
              "                  6\n",
              "              </progress>\n",
              "\n",
              "    "
            ]
          },
          "metadata": {}
        },
        {
          "output_type": "stream",
          "name": "stdout",
          "text": [
            "\n",
            "*** Feature extraction finished ***\n",
            "features shape is : (6, 389)\n",
            "number of windows : 6\n",
            "number of features 389\n",
            "data shape before extracting features (6290,)\n",
            "*** Feature extraction started ***\n"
          ]
        },
        {
          "output_type": "display_data",
          "data": {
            "text/plain": [
              "<IPython.core.display.HTML object>"
            ],
            "text/html": [
              "\n",
              "              <p>\n",
              "                  Progress: 100% Complete\n",
              "              <p/>            \n",
              "              <progress\n",
              "                  value='6'\n",
              "                  max='6',\n",
              "                  style='width: 25%',\n",
              "              >\n",
              "                  6\n",
              "              </progress>\n",
              "\n",
              "    "
            ]
          },
          "metadata": {}
        },
        {
          "output_type": "stream",
          "name": "stdout",
          "text": [
            "\n",
            "*** Feature extraction finished ***\n",
            "features shape is : (6, 389)\n",
            "number of windows : 6\n",
            "number of features 389\n",
            "data shape before extracting features (6290,)\n",
            "*** Feature extraction started ***\n"
          ]
        },
        {
          "output_type": "display_data",
          "data": {
            "text/plain": [
              "<IPython.core.display.HTML object>"
            ],
            "text/html": [
              "\n",
              "              <p>\n",
              "                  Progress: 100% Complete\n",
              "              <p/>            \n",
              "              <progress\n",
              "                  value='6'\n",
              "                  max='6',\n",
              "                  style='width: 25%',\n",
              "              >\n",
              "                  6\n",
              "              </progress>\n",
              "\n",
              "    "
            ]
          },
          "metadata": {}
        },
        {
          "output_type": "stream",
          "name": "stdout",
          "text": [
            "\n",
            "*** Feature extraction finished ***\n",
            "features shape is : (6, 389)\n",
            "number of windows : 6\n",
            "number of features 389\n",
            "data shape before extracting features (6290,)\n",
            "*** Feature extraction started ***\n"
          ]
        },
        {
          "output_type": "display_data",
          "data": {
            "text/plain": [
              "<IPython.core.display.HTML object>"
            ],
            "text/html": [
              "\n",
              "              <p>\n",
              "                  Progress: 100% Complete\n",
              "              <p/>            \n",
              "              <progress\n",
              "                  value='6'\n",
              "                  max='6',\n",
              "                  style='width: 25%',\n",
              "              >\n",
              "                  6\n",
              "              </progress>\n",
              "\n",
              "    "
            ]
          },
          "metadata": {}
        },
        {
          "output_type": "stream",
          "name": "stdout",
          "text": [
            "\n",
            "*** Feature extraction finished ***\n",
            "features shape is : (6, 389)\n",
            "number of windows : 6\n",
            "number of features 389\n",
            "data shape before extracting features (6290,)\n",
            "*** Feature extraction started ***\n"
          ]
        },
        {
          "output_type": "display_data",
          "data": {
            "text/plain": [
              "<IPython.core.display.HTML object>"
            ],
            "text/html": [
              "\n",
              "              <p>\n",
              "                  Progress: 100% Complete\n",
              "              <p/>            \n",
              "              <progress\n",
              "                  value='6'\n",
              "                  max='6',\n",
              "                  style='width: 25%',\n",
              "              >\n",
              "                  6\n",
              "              </progress>\n",
              "\n",
              "    "
            ]
          },
          "metadata": {}
        },
        {
          "output_type": "stream",
          "name": "stdout",
          "text": [
            "\n",
            "*** Feature extraction finished ***\n",
            "features shape is : (6, 389)\n",
            "number of windows : 6\n",
            "number of features 389\n",
            "data shape before extracting features (6290,)\n",
            "*** Feature extraction started ***\n"
          ]
        },
        {
          "output_type": "display_data",
          "data": {
            "text/plain": [
              "<IPython.core.display.HTML object>"
            ],
            "text/html": [
              "\n",
              "              <p>\n",
              "                  Progress: 100% Complete\n",
              "              <p/>            \n",
              "              <progress\n",
              "                  value='6'\n",
              "                  max='6',\n",
              "                  style='width: 25%',\n",
              "              >\n",
              "                  6\n",
              "              </progress>\n",
              "\n",
              "    "
            ]
          },
          "metadata": {}
        },
        {
          "output_type": "stream",
          "name": "stdout",
          "text": [
            "\n",
            "*** Feature extraction finished ***\n",
            "features shape is : (6, 389)\n",
            "number of windows : 6\n",
            "number of features 389\n",
            "data shape before extracting features (6290,)\n",
            "*** Feature extraction started ***\n"
          ]
        },
        {
          "output_type": "display_data",
          "data": {
            "text/plain": [
              "<IPython.core.display.HTML object>"
            ],
            "text/html": [
              "\n",
              "              <p>\n",
              "                  Progress: 100% Complete\n",
              "              <p/>            \n",
              "              <progress\n",
              "                  value='6'\n",
              "                  max='6',\n",
              "                  style='width: 25%',\n",
              "              >\n",
              "                  6\n",
              "              </progress>\n",
              "\n",
              "    "
            ]
          },
          "metadata": {}
        },
        {
          "output_type": "stream",
          "name": "stdout",
          "text": [
            "\n",
            "*** Feature extraction finished ***\n",
            "features shape is : (6, 389)\n",
            "number of windows : 6\n",
            "number of features 389\n",
            "data shape before extracting features (6290,)\n",
            "*** Feature extraction started ***\n"
          ]
        },
        {
          "output_type": "display_data",
          "data": {
            "text/plain": [
              "<IPython.core.display.HTML object>"
            ],
            "text/html": [
              "\n",
              "              <p>\n",
              "                  Progress: 100% Complete\n",
              "              <p/>            \n",
              "              <progress\n",
              "                  value='6'\n",
              "                  max='6',\n",
              "                  style='width: 25%',\n",
              "              >\n",
              "                  6\n",
              "              </progress>\n",
              "\n",
              "    "
            ]
          },
          "metadata": {}
        },
        {
          "output_type": "stream",
          "name": "stdout",
          "text": [
            "\n",
            "*** Feature extraction finished ***\n",
            "features shape is : (6, 389)\n",
            "number of windows : 6\n",
            "number of features 389\n",
            "data shape before extracting features (6290,)\n",
            "*** Feature extraction started ***\n"
          ]
        },
        {
          "output_type": "display_data",
          "data": {
            "text/plain": [
              "<IPython.core.display.HTML object>"
            ],
            "text/html": [
              "\n",
              "              <p>\n",
              "                  Progress: 100% Complete\n",
              "              <p/>            \n",
              "              <progress\n",
              "                  value='6'\n",
              "                  max='6',\n",
              "                  style='width: 25%',\n",
              "              >\n",
              "                  6\n",
              "              </progress>\n",
              "\n",
              "    "
            ]
          },
          "metadata": {}
        },
        {
          "output_type": "stream",
          "name": "stdout",
          "text": [
            "\n",
            "*** Feature extraction finished ***\n",
            "features shape is : (6, 389)\n",
            "number of windows : 6\n",
            "number of features 389\n",
            "data shape before extracting features (6290,)\n",
            "*** Feature extraction started ***\n"
          ]
        },
        {
          "output_type": "display_data",
          "data": {
            "text/plain": [
              "<IPython.core.display.HTML object>"
            ],
            "text/html": [
              "\n",
              "              <p>\n",
              "                  Progress: 100% Complete\n",
              "              <p/>            \n",
              "              <progress\n",
              "                  value='6'\n",
              "                  max='6',\n",
              "                  style='width: 25%',\n",
              "              >\n",
              "                  6\n",
              "              </progress>\n",
              "\n",
              "    "
            ]
          },
          "metadata": {}
        },
        {
          "output_type": "stream",
          "name": "stdout",
          "text": [
            "\n",
            "*** Feature extraction finished ***\n",
            "features shape is : (6, 389)\n",
            "number of windows : 6\n",
            "number of features 389\n",
            "data shape before extracting features (6290,)\n",
            "*** Feature extraction started ***\n"
          ]
        },
        {
          "output_type": "display_data",
          "data": {
            "text/plain": [
              "<IPython.core.display.HTML object>"
            ],
            "text/html": [
              "\n",
              "              <p>\n",
              "                  Progress: 100% Complete\n",
              "              <p/>            \n",
              "              <progress\n",
              "                  value='6'\n",
              "                  max='6',\n",
              "                  style='width: 25%',\n",
              "              >\n",
              "                  6\n",
              "              </progress>\n",
              "\n",
              "    "
            ]
          },
          "metadata": {}
        },
        {
          "output_type": "stream",
          "name": "stdout",
          "text": [
            "\n",
            "*** Feature extraction finished ***\n",
            "features shape is : (6, 389)\n",
            "number of windows : 6\n",
            "number of features 389\n",
            "data shape before extracting features (6290,)\n",
            "*** Feature extraction started ***\n"
          ]
        },
        {
          "output_type": "display_data",
          "data": {
            "text/plain": [
              "<IPython.core.display.HTML object>"
            ],
            "text/html": [
              "\n",
              "              <p>\n",
              "                  Progress: 100% Complete\n",
              "              <p/>            \n",
              "              <progress\n",
              "                  value='6'\n",
              "                  max='6',\n",
              "                  style='width: 25%',\n",
              "              >\n",
              "                  6\n",
              "              </progress>\n",
              "\n",
              "    "
            ]
          },
          "metadata": {}
        },
        {
          "output_type": "stream",
          "name": "stdout",
          "text": [
            "\n",
            "*** Feature extraction finished ***\n",
            "features shape is : (6, 389)\n",
            "number of windows : 6\n",
            "number of features 389\n",
            "data shape before extracting features (6290,)\n",
            "*** Feature extraction started ***\n"
          ]
        },
        {
          "output_type": "display_data",
          "data": {
            "text/plain": [
              "<IPython.core.display.HTML object>"
            ],
            "text/html": [
              "\n",
              "              <p>\n",
              "                  Progress: 100% Complete\n",
              "              <p/>            \n",
              "              <progress\n",
              "                  value='6'\n",
              "                  max='6',\n",
              "                  style='width: 25%',\n",
              "              >\n",
              "                  6\n",
              "              </progress>\n",
              "\n",
              "    "
            ]
          },
          "metadata": {}
        },
        {
          "output_type": "stream",
          "name": "stdout",
          "text": [
            "\n",
            "*** Feature extraction finished ***\n",
            "features shape is : (6, 389)\n",
            "number of windows : 6\n",
            "number of features 389\n",
            "data shape before extracting features (6290,)\n",
            "*** Feature extraction started ***\n"
          ]
        },
        {
          "output_type": "display_data",
          "data": {
            "text/plain": [
              "<IPython.core.display.HTML object>"
            ],
            "text/html": [
              "\n",
              "              <p>\n",
              "                  Progress: 100% Complete\n",
              "              <p/>            \n",
              "              <progress\n",
              "                  value='6'\n",
              "                  max='6',\n",
              "                  style='width: 25%',\n",
              "              >\n",
              "                  6\n",
              "              </progress>\n",
              "\n",
              "    "
            ]
          },
          "metadata": {}
        },
        {
          "output_type": "stream",
          "name": "stdout",
          "text": [
            "\n",
            "*** Feature extraction finished ***\n",
            "features shape is : (6, 389)\n",
            "number of windows : 6\n",
            "number of features 389\n",
            "data shape before extracting features (6290,)\n",
            "*** Feature extraction started ***\n"
          ]
        },
        {
          "output_type": "display_data",
          "data": {
            "text/plain": [
              "<IPython.core.display.HTML object>"
            ],
            "text/html": [
              "\n",
              "              <p>\n",
              "                  Progress: 100% Complete\n",
              "              <p/>            \n",
              "              <progress\n",
              "                  value='6'\n",
              "                  max='6',\n",
              "                  style='width: 25%',\n",
              "              >\n",
              "                  6\n",
              "              </progress>\n",
              "\n",
              "    "
            ]
          },
          "metadata": {}
        },
        {
          "output_type": "stream",
          "name": "stdout",
          "text": [
            "\n",
            "*** Feature extraction finished ***\n",
            "features shape is : (6, 389)\n",
            "number of windows : 6\n",
            "number of features 389\n",
            "data shape before extracting features (6290,)\n",
            "*** Feature extraction started ***\n"
          ]
        },
        {
          "output_type": "display_data",
          "data": {
            "text/plain": [
              "<IPython.core.display.HTML object>"
            ],
            "text/html": [
              "\n",
              "              <p>\n",
              "                  Progress: 100% Complete\n",
              "              <p/>            \n",
              "              <progress\n",
              "                  value='6'\n",
              "                  max='6',\n",
              "                  style='width: 25%',\n",
              "              >\n",
              "                  6\n",
              "              </progress>\n",
              "\n",
              "    "
            ]
          },
          "metadata": {}
        },
        {
          "output_type": "stream",
          "name": "stdout",
          "text": [
            "\n",
            "*** Feature extraction finished ***\n",
            "features shape is : (6, 389)\n",
            "number of windows : 6\n",
            "number of features 389\n",
            "data shape before extracting features (6290,)\n",
            "*** Feature extraction started ***\n"
          ]
        },
        {
          "output_type": "display_data",
          "data": {
            "text/plain": [
              "<IPython.core.display.HTML object>"
            ],
            "text/html": [
              "\n",
              "              <p>\n",
              "                  Progress: 100% Complete\n",
              "              <p/>            \n",
              "              <progress\n",
              "                  value='6'\n",
              "                  max='6',\n",
              "                  style='width: 25%',\n",
              "              >\n",
              "                  6\n",
              "              </progress>\n",
              "\n",
              "    "
            ]
          },
          "metadata": {}
        },
        {
          "output_type": "stream",
          "name": "stdout",
          "text": [
            "\n",
            "*** Feature extraction finished ***\n",
            "features shape is : (6, 389)\n",
            "number of windows : 6\n",
            "number of features 389\n",
            "data shape before extracting features (6290,)\n",
            "*** Feature extraction started ***\n"
          ]
        },
        {
          "output_type": "display_data",
          "data": {
            "text/plain": [
              "<IPython.core.display.HTML object>"
            ],
            "text/html": [
              "\n",
              "              <p>\n",
              "                  Progress: 100% Complete\n",
              "              <p/>            \n",
              "              <progress\n",
              "                  value='6'\n",
              "                  max='6',\n",
              "                  style='width: 25%',\n",
              "              >\n",
              "                  6\n",
              "              </progress>\n",
              "\n",
              "    "
            ]
          },
          "metadata": {}
        },
        {
          "output_type": "stream",
          "name": "stdout",
          "text": [
            "\n",
            "*** Feature extraction finished ***\n",
            "features shape is : (6, 389)\n",
            "number of windows : 6\n",
            "number of features 389\n",
            "data shape before extracting features (6290,)\n",
            "*** Feature extraction started ***\n"
          ]
        },
        {
          "output_type": "display_data",
          "data": {
            "text/plain": [
              "<IPython.core.display.HTML object>"
            ],
            "text/html": [
              "\n",
              "              <p>\n",
              "                  Progress: 100% Complete\n",
              "              <p/>            \n",
              "              <progress\n",
              "                  value='6'\n",
              "                  max='6',\n",
              "                  style='width: 25%',\n",
              "              >\n",
              "                  6\n",
              "              </progress>\n",
              "\n",
              "    "
            ]
          },
          "metadata": {}
        },
        {
          "output_type": "stream",
          "name": "stdout",
          "text": [
            "\n",
            "*** Feature extraction finished ***\n",
            "features shape is : (6, 389)\n",
            "number of windows : 6\n",
            "number of features 389\n",
            "data shape before extracting features (6290,)\n",
            "*** Feature extraction started ***\n"
          ]
        },
        {
          "output_type": "display_data",
          "data": {
            "text/plain": [
              "<IPython.core.display.HTML object>"
            ],
            "text/html": [
              "\n",
              "              <p>\n",
              "                  Progress: 100% Complete\n",
              "              <p/>            \n",
              "              <progress\n",
              "                  value='6'\n",
              "                  max='6',\n",
              "                  style='width: 25%',\n",
              "              >\n",
              "                  6\n",
              "              </progress>\n",
              "\n",
              "    "
            ]
          },
          "metadata": {}
        },
        {
          "output_type": "stream",
          "name": "stdout",
          "text": [
            "\n",
            "*** Feature extraction finished ***\n",
            "features shape is : (6, 389)\n",
            "number of windows : 6\n",
            "number of features 389\n",
            "data shape before extracting features (6290,)\n",
            "*** Feature extraction started ***\n"
          ]
        },
        {
          "output_type": "display_data",
          "data": {
            "text/plain": [
              "<IPython.core.display.HTML object>"
            ],
            "text/html": [
              "\n",
              "              <p>\n",
              "                  Progress: 100% Complete\n",
              "              <p/>            \n",
              "              <progress\n",
              "                  value='6'\n",
              "                  max='6',\n",
              "                  style='width: 25%',\n",
              "              >\n",
              "                  6\n",
              "              </progress>\n",
              "\n",
              "    "
            ]
          },
          "metadata": {}
        },
        {
          "output_type": "stream",
          "name": "stdout",
          "text": [
            "\n",
            "*** Feature extraction finished ***\n",
            "features shape is : (6, 389)\n",
            "number of windows : 6\n",
            "number of features 389\n",
            "data shape before extracting features (6290,)\n",
            "*** Feature extraction started ***\n"
          ]
        },
        {
          "output_type": "display_data",
          "data": {
            "text/plain": [
              "<IPython.core.display.HTML object>"
            ],
            "text/html": [
              "\n",
              "              <p>\n",
              "                  Progress: 100% Complete\n",
              "              <p/>            \n",
              "              <progress\n",
              "                  value='6'\n",
              "                  max='6',\n",
              "                  style='width: 25%',\n",
              "              >\n",
              "                  6\n",
              "              </progress>\n",
              "\n",
              "    "
            ]
          },
          "metadata": {}
        },
        {
          "output_type": "stream",
          "name": "stdout",
          "text": [
            "\n",
            "*** Feature extraction finished ***\n",
            "features shape is : (6, 389)\n",
            "number of windows : 6\n",
            "number of features 389\n",
            "data shape before extracting features (6290,)\n",
            "*** Feature extraction started ***\n"
          ]
        },
        {
          "output_type": "display_data",
          "data": {
            "text/plain": [
              "<IPython.core.display.HTML object>"
            ],
            "text/html": [
              "\n",
              "              <p>\n",
              "                  Progress: 100% Complete\n",
              "              <p/>            \n",
              "              <progress\n",
              "                  value='6'\n",
              "                  max='6',\n",
              "                  style='width: 25%',\n",
              "              >\n",
              "                  6\n",
              "              </progress>\n",
              "\n",
              "    "
            ]
          },
          "metadata": {}
        },
        {
          "output_type": "stream",
          "name": "stdout",
          "text": [
            "\n",
            "*** Feature extraction finished ***\n",
            "features shape is : (6, 389)\n",
            "number of windows : 6\n",
            "number of features 389\n",
            "data shape before extracting features (6290,)\n",
            "*** Feature extraction started ***\n"
          ]
        },
        {
          "output_type": "display_data",
          "data": {
            "text/plain": [
              "<IPython.core.display.HTML object>"
            ],
            "text/html": [
              "\n",
              "              <p>\n",
              "                  Progress: 100% Complete\n",
              "              <p/>            \n",
              "              <progress\n",
              "                  value='6'\n",
              "                  max='6',\n",
              "                  style='width: 25%',\n",
              "              >\n",
              "                  6\n",
              "              </progress>\n",
              "\n",
              "    "
            ]
          },
          "metadata": {}
        },
        {
          "output_type": "stream",
          "name": "stdout",
          "text": [
            "\n",
            "*** Feature extraction finished ***\n",
            "features shape is : (6, 389)\n",
            "number of windows : 6\n",
            "number of features 389\n",
            "data shape before extracting features (6290,)\n",
            "*** Feature extraction started ***\n"
          ]
        },
        {
          "output_type": "display_data",
          "data": {
            "text/plain": [
              "<IPython.core.display.HTML object>"
            ],
            "text/html": [
              "\n",
              "              <p>\n",
              "                  Progress: 100% Complete\n",
              "              <p/>            \n",
              "              <progress\n",
              "                  value='6'\n",
              "                  max='6',\n",
              "                  style='width: 25%',\n",
              "              >\n",
              "                  6\n",
              "              </progress>\n",
              "\n",
              "    "
            ]
          },
          "metadata": {}
        },
        {
          "output_type": "stream",
          "name": "stdout",
          "text": [
            "\n",
            "*** Feature extraction finished ***\n",
            "features shape is : (6, 389)\n",
            "number of windows : 6\n",
            "number of features 389\n",
            "data shape before extracting features (6290,)\n",
            "*** Feature extraction started ***\n"
          ]
        },
        {
          "output_type": "display_data",
          "data": {
            "text/plain": [
              "<IPython.core.display.HTML object>"
            ],
            "text/html": [
              "\n",
              "              <p>\n",
              "                  Progress: 100% Complete\n",
              "              <p/>            \n",
              "              <progress\n",
              "                  value='6'\n",
              "                  max='6',\n",
              "                  style='width: 25%',\n",
              "              >\n",
              "                  6\n",
              "              </progress>\n",
              "\n",
              "    "
            ]
          },
          "metadata": {}
        },
        {
          "output_type": "stream",
          "name": "stdout",
          "text": [
            "\n",
            "*** Feature extraction finished ***\n",
            "features shape is : (6, 389)\n",
            "number of windows : 6\n",
            "number of features 389\n",
            "data shape before extracting features (6290,)\n",
            "*** Feature extraction started ***\n"
          ]
        },
        {
          "output_type": "display_data",
          "data": {
            "text/plain": [
              "<IPython.core.display.HTML object>"
            ],
            "text/html": [
              "\n",
              "              <p>\n",
              "                  Progress: 100% Complete\n",
              "              <p/>            \n",
              "              <progress\n",
              "                  value='6'\n",
              "                  max='6',\n",
              "                  style='width: 25%',\n",
              "              >\n",
              "                  6\n",
              "              </progress>\n",
              "\n",
              "    "
            ]
          },
          "metadata": {}
        },
        {
          "output_type": "stream",
          "name": "stdout",
          "text": [
            "\n",
            "*** Feature extraction finished ***\n",
            "features shape is : (6, 389)\n",
            "number of windows : 6\n",
            "number of features 389\n",
            "data shape before extracting features (6290,)\n",
            "*** Feature extraction started ***\n"
          ]
        },
        {
          "output_type": "display_data",
          "data": {
            "text/plain": [
              "<IPython.core.display.HTML object>"
            ],
            "text/html": [
              "\n",
              "              <p>\n",
              "                  Progress: 100% Complete\n",
              "              <p/>            \n",
              "              <progress\n",
              "                  value='6'\n",
              "                  max='6',\n",
              "                  style='width: 25%',\n",
              "              >\n",
              "                  6\n",
              "              </progress>\n",
              "\n",
              "    "
            ]
          },
          "metadata": {}
        },
        {
          "output_type": "stream",
          "name": "stdout",
          "text": [
            "\n",
            "*** Feature extraction finished ***\n",
            "features shape is : (6, 389)\n",
            "number of windows : 6\n",
            "number of features 389\n",
            "data shape before extracting features (6290,)\n",
            "*** Feature extraction started ***\n"
          ]
        },
        {
          "output_type": "display_data",
          "data": {
            "text/plain": [
              "<IPython.core.display.HTML object>"
            ],
            "text/html": [
              "\n",
              "              <p>\n",
              "                  Progress: 100% Complete\n",
              "              <p/>            \n",
              "              <progress\n",
              "                  value='6'\n",
              "                  max='6',\n",
              "                  style='width: 25%',\n",
              "              >\n",
              "                  6\n",
              "              </progress>\n",
              "\n",
              "    "
            ]
          },
          "metadata": {}
        },
        {
          "output_type": "stream",
          "name": "stdout",
          "text": [
            "\n",
            "*** Feature extraction finished ***\n",
            "features shape is : (6, 389)\n",
            "number of windows : 6\n",
            "number of features 389\n",
            "data shape before extracting features (6290,)\n",
            "*** Feature extraction started ***\n"
          ]
        },
        {
          "output_type": "display_data",
          "data": {
            "text/plain": [
              "<IPython.core.display.HTML object>"
            ],
            "text/html": [
              "\n",
              "              <p>\n",
              "                  Progress: 100% Complete\n",
              "              <p/>            \n",
              "              <progress\n",
              "                  value='6'\n",
              "                  max='6',\n",
              "                  style='width: 25%',\n",
              "              >\n",
              "                  6\n",
              "              </progress>\n",
              "\n",
              "    "
            ]
          },
          "metadata": {}
        },
        {
          "output_type": "stream",
          "name": "stdout",
          "text": [
            "\n",
            "*** Feature extraction finished ***\n",
            "features shape is : (6, 389)\n",
            "number of windows : 6\n",
            "number of features 389\n",
            "data shape before extracting features (6290,)\n",
            "*** Feature extraction started ***\n"
          ]
        },
        {
          "output_type": "display_data",
          "data": {
            "text/plain": [
              "<IPython.core.display.HTML object>"
            ],
            "text/html": [
              "\n",
              "              <p>\n",
              "                  Progress: 100% Complete\n",
              "              <p/>            \n",
              "              <progress\n",
              "                  value='6'\n",
              "                  max='6',\n",
              "                  style='width: 25%',\n",
              "              >\n",
              "                  6\n",
              "              </progress>\n",
              "\n",
              "    "
            ]
          },
          "metadata": {}
        },
        {
          "output_type": "stream",
          "name": "stdout",
          "text": [
            "\n",
            "*** Feature extraction finished ***\n",
            "features shape is : (6, 389)\n",
            "number of windows : 6\n",
            "number of features 389\n",
            "data shape before extracting features (6290,)\n",
            "*** Feature extraction started ***\n"
          ]
        },
        {
          "output_type": "display_data",
          "data": {
            "text/plain": [
              "<IPython.core.display.HTML object>"
            ],
            "text/html": [
              "\n",
              "              <p>\n",
              "                  Progress: 100% Complete\n",
              "              <p/>            \n",
              "              <progress\n",
              "                  value='6'\n",
              "                  max='6',\n",
              "                  style='width: 25%',\n",
              "              >\n",
              "                  6\n",
              "              </progress>\n",
              "\n",
              "    "
            ]
          },
          "metadata": {}
        },
        {
          "output_type": "stream",
          "name": "stdout",
          "text": [
            "\n",
            "*** Feature extraction finished ***\n",
            "features shape is : (6, 389)\n",
            "number of windows : 6\n",
            "number of features 389\n",
            "data shape before extracting features (6290,)\n",
            "*** Feature extraction started ***\n"
          ]
        },
        {
          "output_type": "display_data",
          "data": {
            "text/plain": [
              "<IPython.core.display.HTML object>"
            ],
            "text/html": [
              "\n",
              "              <p>\n",
              "                  Progress: 100% Complete\n",
              "              <p/>            \n",
              "              <progress\n",
              "                  value='6'\n",
              "                  max='6',\n",
              "                  style='width: 25%',\n",
              "              >\n",
              "                  6\n",
              "              </progress>\n",
              "\n",
              "    "
            ]
          },
          "metadata": {}
        },
        {
          "output_type": "stream",
          "name": "stdout",
          "text": [
            "\n",
            "*** Feature extraction finished ***\n",
            "features shape is : (6, 389)\n",
            "number of windows : 6\n",
            "number of features 389\n",
            "data shape before extracting features (6290,)\n",
            "*** Feature extraction started ***\n"
          ]
        },
        {
          "output_type": "display_data",
          "data": {
            "text/plain": [
              "<IPython.core.display.HTML object>"
            ],
            "text/html": [
              "\n",
              "              <p>\n",
              "                  Progress: 100% Complete\n",
              "              <p/>            \n",
              "              <progress\n",
              "                  value='6'\n",
              "                  max='6',\n",
              "                  style='width: 25%',\n",
              "              >\n",
              "                  6\n",
              "              </progress>\n",
              "\n",
              "    "
            ]
          },
          "metadata": {}
        },
        {
          "output_type": "stream",
          "name": "stdout",
          "text": [
            "\n",
            "*** Feature extraction finished ***\n",
            "features shape is : (6, 389)\n",
            "number of windows : 6\n",
            "number of features 389\n",
            "data shape before extracting features (6290,)\n",
            "*** Feature extraction started ***\n"
          ]
        },
        {
          "output_type": "display_data",
          "data": {
            "text/plain": [
              "<IPython.core.display.HTML object>"
            ],
            "text/html": [
              "\n",
              "              <p>\n",
              "                  Progress: 100% Complete\n",
              "              <p/>            \n",
              "              <progress\n",
              "                  value='6'\n",
              "                  max='6',\n",
              "                  style='width: 25%',\n",
              "              >\n",
              "                  6\n",
              "              </progress>\n",
              "\n",
              "    "
            ]
          },
          "metadata": {}
        },
        {
          "output_type": "stream",
          "name": "stdout",
          "text": [
            "\n",
            "*** Feature extraction finished ***\n",
            "features shape is : (6, 389)\n",
            "number of windows : 6\n",
            "number of features 389\n",
            "data shape before extracting features (6290,)\n",
            "*** Feature extraction started ***\n"
          ]
        },
        {
          "output_type": "display_data",
          "data": {
            "text/plain": [
              "<IPython.core.display.HTML object>"
            ],
            "text/html": [
              "\n",
              "              <p>\n",
              "                  Progress: 100% Complete\n",
              "              <p/>            \n",
              "              <progress\n",
              "                  value='6'\n",
              "                  max='6',\n",
              "                  style='width: 25%',\n",
              "              >\n",
              "                  6\n",
              "              </progress>\n",
              "\n",
              "    "
            ]
          },
          "metadata": {}
        },
        {
          "output_type": "stream",
          "name": "stdout",
          "text": [
            "\n",
            "*** Feature extraction finished ***\n",
            "features shape is : (6, 389)\n",
            "number of windows : 6\n",
            "number of features 389\n",
            "data shape before extracting features (6290,)\n",
            "*** Feature extraction started ***\n"
          ]
        },
        {
          "output_type": "display_data",
          "data": {
            "text/plain": [
              "<IPython.core.display.HTML object>"
            ],
            "text/html": [
              "\n",
              "              <p>\n",
              "                  Progress: 100% Complete\n",
              "              <p/>            \n",
              "              <progress\n",
              "                  value='6'\n",
              "                  max='6',\n",
              "                  style='width: 25%',\n",
              "              >\n",
              "                  6\n",
              "              </progress>\n",
              "\n",
              "    "
            ]
          },
          "metadata": {}
        },
        {
          "output_type": "stream",
          "name": "stdout",
          "text": [
            "\n",
            "*** Feature extraction finished ***\n",
            "features shape is : (6, 389)\n",
            "number of windows : 6\n",
            "number of features 389\n",
            "data shape before extracting features (6290,)\n",
            "*** Feature extraction started ***\n"
          ]
        },
        {
          "output_type": "display_data",
          "data": {
            "text/plain": [
              "<IPython.core.display.HTML object>"
            ],
            "text/html": [
              "\n",
              "              <p>\n",
              "                  Progress: 100% Complete\n",
              "              <p/>            \n",
              "              <progress\n",
              "                  value='6'\n",
              "                  max='6',\n",
              "                  style='width: 25%',\n",
              "              >\n",
              "                  6\n",
              "              </progress>\n",
              "\n",
              "    "
            ]
          },
          "metadata": {}
        },
        {
          "output_type": "stream",
          "name": "stdout",
          "text": [
            "\n",
            "*** Feature extraction finished ***\n",
            "features shape is : (6, 389)\n",
            "number of windows : 6\n",
            "number of features 389\n",
            "data shape before extracting features (6290,)\n",
            "*** Feature extraction started ***\n"
          ]
        },
        {
          "output_type": "display_data",
          "data": {
            "text/plain": [
              "<IPython.core.display.HTML object>"
            ],
            "text/html": [
              "\n",
              "              <p>\n",
              "                  Progress: 100% Complete\n",
              "              <p/>            \n",
              "              <progress\n",
              "                  value='6'\n",
              "                  max='6',\n",
              "                  style='width: 25%',\n",
              "              >\n",
              "                  6\n",
              "              </progress>\n",
              "\n",
              "    "
            ]
          },
          "metadata": {}
        },
        {
          "output_type": "stream",
          "name": "stdout",
          "text": [
            "\n",
            "*** Feature extraction finished ***\n",
            "features shape is : (6, 389)\n",
            "number of windows : 6\n",
            "number of features 389\n",
            "data shape before extracting features (6290,)\n",
            "*** Feature extraction started ***\n"
          ]
        },
        {
          "output_type": "display_data",
          "data": {
            "text/plain": [
              "<IPython.core.display.HTML object>"
            ],
            "text/html": [
              "\n",
              "              <p>\n",
              "                  Progress: 100% Complete\n",
              "              <p/>            \n",
              "              <progress\n",
              "                  value='6'\n",
              "                  max='6',\n",
              "                  style='width: 25%',\n",
              "              >\n",
              "                  6\n",
              "              </progress>\n",
              "\n",
              "    "
            ]
          },
          "metadata": {}
        },
        {
          "output_type": "stream",
          "name": "stdout",
          "text": [
            "\n",
            "*** Feature extraction finished ***\n",
            "features shape is : (6, 389)\n",
            "number of windows : 6\n",
            "number of features 389\n",
            "data shape before extracting features (6290,)\n",
            "*** Feature extraction started ***\n"
          ]
        },
        {
          "output_type": "display_data",
          "data": {
            "text/plain": [
              "<IPython.core.display.HTML object>"
            ],
            "text/html": [
              "\n",
              "              <p>\n",
              "                  Progress: 100% Complete\n",
              "              <p/>            \n",
              "              <progress\n",
              "                  value='6'\n",
              "                  max='6',\n",
              "                  style='width: 25%',\n",
              "              >\n",
              "                  6\n",
              "              </progress>\n",
              "\n",
              "    "
            ]
          },
          "metadata": {}
        },
        {
          "output_type": "stream",
          "name": "stdout",
          "text": [
            "\n",
            "*** Feature extraction finished ***\n",
            "features shape is : (6, 389)\n",
            "number of windows : 6\n",
            "number of features 389\n",
            "data shape before extracting features (6290,)\n",
            "*** Feature extraction started ***\n"
          ]
        },
        {
          "output_type": "display_data",
          "data": {
            "text/plain": [
              "<IPython.core.display.HTML object>"
            ],
            "text/html": [
              "\n",
              "              <p>\n",
              "                  Progress: 100% Complete\n",
              "              <p/>            \n",
              "              <progress\n",
              "                  value='6'\n",
              "                  max='6',\n",
              "                  style='width: 25%',\n",
              "              >\n",
              "                  6\n",
              "              </progress>\n",
              "\n",
              "    "
            ]
          },
          "metadata": {}
        },
        {
          "output_type": "stream",
          "name": "stdout",
          "text": [
            "\n",
            "*** Feature extraction finished ***\n",
            "features shape is : (6, 389)\n",
            "number of windows : 6\n",
            "number of features 389\n",
            "data shape before extracting features (6290,)\n",
            "*** Feature extraction started ***\n"
          ]
        },
        {
          "output_type": "display_data",
          "data": {
            "text/plain": [
              "<IPython.core.display.HTML object>"
            ],
            "text/html": [
              "\n",
              "              <p>\n",
              "                  Progress: 100% Complete\n",
              "              <p/>            \n",
              "              <progress\n",
              "                  value='6'\n",
              "                  max='6',\n",
              "                  style='width: 25%',\n",
              "              >\n",
              "                  6\n",
              "              </progress>\n",
              "\n",
              "    "
            ]
          },
          "metadata": {}
        },
        {
          "output_type": "stream",
          "name": "stdout",
          "text": [
            "\n",
            "*** Feature extraction finished ***\n",
            "features shape is : (6, 389)\n",
            "number of windows : 6\n",
            "number of features 389\n",
            "data shape before extracting features (6290,)\n",
            "*** Feature extraction started ***\n"
          ]
        },
        {
          "output_type": "display_data",
          "data": {
            "text/plain": [
              "<IPython.core.display.HTML object>"
            ],
            "text/html": [
              "\n",
              "              <p>\n",
              "                  Progress: 100% Complete\n",
              "              <p/>            \n",
              "              <progress\n",
              "                  value='6'\n",
              "                  max='6',\n",
              "                  style='width: 25%',\n",
              "              >\n",
              "                  6\n",
              "              </progress>\n",
              "\n",
              "    "
            ]
          },
          "metadata": {}
        },
        {
          "output_type": "stream",
          "name": "stdout",
          "text": [
            "\n",
            "*** Feature extraction finished ***\n",
            "features shape is : (6, 389)\n",
            "number of windows : 6\n",
            "number of features 389\n",
            "data shape before extracting features (6290,)\n",
            "*** Feature extraction started ***\n"
          ]
        },
        {
          "output_type": "display_data",
          "data": {
            "text/plain": [
              "<IPython.core.display.HTML object>"
            ],
            "text/html": [
              "\n",
              "              <p>\n",
              "                  Progress: 100% Complete\n",
              "              <p/>            \n",
              "              <progress\n",
              "                  value='6'\n",
              "                  max='6',\n",
              "                  style='width: 25%',\n",
              "              >\n",
              "                  6\n",
              "              </progress>\n",
              "\n",
              "    "
            ]
          },
          "metadata": {}
        },
        {
          "output_type": "stream",
          "name": "stdout",
          "text": [
            "\n",
            "*** Feature extraction finished ***\n",
            "features shape is : (6, 389)\n",
            "number of windows : 6\n",
            "number of features 389\n",
            "data shape before extracting features (6290,)\n",
            "*** Feature extraction started ***\n"
          ]
        },
        {
          "output_type": "display_data",
          "data": {
            "text/plain": [
              "<IPython.core.display.HTML object>"
            ],
            "text/html": [
              "\n",
              "              <p>\n",
              "                  Progress: 100% Complete\n",
              "              <p/>            \n",
              "              <progress\n",
              "                  value='6'\n",
              "                  max='6',\n",
              "                  style='width: 25%',\n",
              "              >\n",
              "                  6\n",
              "              </progress>\n",
              "\n",
              "    "
            ]
          },
          "metadata": {}
        },
        {
          "output_type": "stream",
          "name": "stdout",
          "text": [
            "\n",
            "*** Feature extraction finished ***\n",
            "features shape is : (6, 389)\n",
            "number of windows : 6\n",
            "number of features 389\n",
            "data shape before extracting features (6290,)\n",
            "*** Feature extraction started ***\n"
          ]
        },
        {
          "output_type": "display_data",
          "data": {
            "text/plain": [
              "<IPython.core.display.HTML object>"
            ],
            "text/html": [
              "\n",
              "              <p>\n",
              "                  Progress: 100% Complete\n",
              "              <p/>            \n",
              "              <progress\n",
              "                  value='6'\n",
              "                  max='6',\n",
              "                  style='width: 25%',\n",
              "              >\n",
              "                  6\n",
              "              </progress>\n",
              "\n",
              "    "
            ]
          },
          "metadata": {}
        },
        {
          "output_type": "stream",
          "name": "stdout",
          "text": [
            "\n",
            "*** Feature extraction finished ***\n",
            "features shape is : (6, 389)\n",
            "number of windows : 6\n",
            "number of features 389\n",
            "data shape before extracting features (6290,)\n",
            "*** Feature extraction started ***\n"
          ]
        },
        {
          "output_type": "display_data",
          "data": {
            "text/plain": [
              "<IPython.core.display.HTML object>"
            ],
            "text/html": [
              "\n",
              "              <p>\n",
              "                  Progress: 100% Complete\n",
              "              <p/>            \n",
              "              <progress\n",
              "                  value='6'\n",
              "                  max='6',\n",
              "                  style='width: 25%',\n",
              "              >\n",
              "                  6\n",
              "              </progress>\n",
              "\n",
              "    "
            ]
          },
          "metadata": {}
        },
        {
          "output_type": "stream",
          "name": "stdout",
          "text": [
            "\n",
            "*** Feature extraction finished ***\n",
            "features shape is : (6, 389)\n",
            "number of windows : 6\n",
            "number of features 389\n",
            "data shape before extracting features (6290,)\n",
            "*** Feature extraction started ***\n"
          ]
        },
        {
          "output_type": "display_data",
          "data": {
            "text/plain": [
              "<IPython.core.display.HTML object>"
            ],
            "text/html": [
              "\n",
              "              <p>\n",
              "                  Progress: 100% Complete\n",
              "              <p/>            \n",
              "              <progress\n",
              "                  value='6'\n",
              "                  max='6',\n",
              "                  style='width: 25%',\n",
              "              >\n",
              "                  6\n",
              "              </progress>\n",
              "\n",
              "    "
            ]
          },
          "metadata": {}
        },
        {
          "output_type": "stream",
          "name": "stdout",
          "text": [
            "\n",
            "*** Feature extraction finished ***\n",
            "features shape is : (6, 389)\n",
            "number of windows : 6\n",
            "number of features 389\n",
            "data shape before extracting features (6290,)\n",
            "*** Feature extraction started ***\n"
          ]
        },
        {
          "output_type": "display_data",
          "data": {
            "text/plain": [
              "<IPython.core.display.HTML object>"
            ],
            "text/html": [
              "\n",
              "              <p>\n",
              "                  Progress: 100% Complete\n",
              "              <p/>            \n",
              "              <progress\n",
              "                  value='6'\n",
              "                  max='6',\n",
              "                  style='width: 25%',\n",
              "              >\n",
              "                  6\n",
              "              </progress>\n",
              "\n",
              "    "
            ]
          },
          "metadata": {}
        },
        {
          "output_type": "stream",
          "name": "stdout",
          "text": [
            "\n",
            "*** Feature extraction finished ***\n",
            "features shape is : (6, 389)\n",
            "number of windows : 6\n",
            "number of features 389\n",
            "data shape before extracting features (6290,)\n",
            "*** Feature extraction started ***\n"
          ]
        },
        {
          "output_type": "display_data",
          "data": {
            "text/plain": [
              "<IPython.core.display.HTML object>"
            ],
            "text/html": [
              "\n",
              "              <p>\n",
              "                  Progress: 100% Complete\n",
              "              <p/>            \n",
              "              <progress\n",
              "                  value='6'\n",
              "                  max='6',\n",
              "                  style='width: 25%',\n",
              "              >\n",
              "                  6\n",
              "              </progress>\n",
              "\n",
              "    "
            ]
          },
          "metadata": {}
        },
        {
          "output_type": "stream",
          "name": "stdout",
          "text": [
            "\n",
            "*** Feature extraction finished ***\n",
            "features shape is : (6, 389)\n",
            "number of windows : 6\n",
            "number of features 389\n",
            "data shape before extracting features (6290,)\n",
            "*** Feature extraction started ***\n"
          ]
        },
        {
          "output_type": "display_data",
          "data": {
            "text/plain": [
              "<IPython.core.display.HTML object>"
            ],
            "text/html": [
              "\n",
              "              <p>\n",
              "                  Progress: 100% Complete\n",
              "              <p/>            \n",
              "              <progress\n",
              "                  value='6'\n",
              "                  max='6',\n",
              "                  style='width: 25%',\n",
              "              >\n",
              "                  6\n",
              "              </progress>\n",
              "\n",
              "    "
            ]
          },
          "metadata": {}
        },
        {
          "output_type": "stream",
          "name": "stdout",
          "text": [
            "\n",
            "*** Feature extraction finished ***\n",
            "features shape is : (6, 389)\n",
            "number of windows : 6\n",
            "number of features 389\n",
            "data shape before extracting features (6290,)\n",
            "*** Feature extraction started ***\n"
          ]
        },
        {
          "output_type": "display_data",
          "data": {
            "text/plain": [
              "<IPython.core.display.HTML object>"
            ],
            "text/html": [
              "\n",
              "              <p>\n",
              "                  Progress: 100% Complete\n",
              "              <p/>            \n",
              "              <progress\n",
              "                  value='6'\n",
              "                  max='6',\n",
              "                  style='width: 25%',\n",
              "              >\n",
              "                  6\n",
              "              </progress>\n",
              "\n",
              "    "
            ]
          },
          "metadata": {}
        },
        {
          "output_type": "stream",
          "name": "stdout",
          "text": [
            "\n",
            "*** Feature extraction finished ***\n",
            "features shape is : (6, 389)\n",
            "number of windows : 6\n",
            "number of features 389\n",
            "data shape before extracting features (6290,)\n",
            "*** Feature extraction started ***\n"
          ]
        },
        {
          "output_type": "display_data",
          "data": {
            "text/plain": [
              "<IPython.core.display.HTML object>"
            ],
            "text/html": [
              "\n",
              "              <p>\n",
              "                  Progress: 100% Complete\n",
              "              <p/>            \n",
              "              <progress\n",
              "                  value='6'\n",
              "                  max='6',\n",
              "                  style='width: 25%',\n",
              "              >\n",
              "                  6\n",
              "              </progress>\n",
              "\n",
              "    "
            ]
          },
          "metadata": {}
        },
        {
          "output_type": "stream",
          "name": "stdout",
          "text": [
            "\n",
            "*** Feature extraction finished ***\n",
            "features shape is : (6, 389)\n",
            "number of windows : 6\n",
            "number of features 389\n",
            "data shape before extracting features (6290,)\n",
            "*** Feature extraction started ***\n"
          ]
        },
        {
          "output_type": "display_data",
          "data": {
            "text/plain": [
              "<IPython.core.display.HTML object>"
            ],
            "text/html": [
              "\n",
              "              <p>\n",
              "                  Progress: 100% Complete\n",
              "              <p/>            \n",
              "              <progress\n",
              "                  value='6'\n",
              "                  max='6',\n",
              "                  style='width: 25%',\n",
              "              >\n",
              "                  6\n",
              "              </progress>\n",
              "\n",
              "    "
            ]
          },
          "metadata": {}
        },
        {
          "output_type": "stream",
          "name": "stdout",
          "text": [
            "\n",
            "*** Feature extraction finished ***\n",
            "features shape is : (6, 389)\n",
            "number of windows : 6\n",
            "number of features 389\n",
            "data shape before extracting features (6290,)\n",
            "*** Feature extraction started ***\n"
          ]
        },
        {
          "output_type": "display_data",
          "data": {
            "text/plain": [
              "<IPython.core.display.HTML object>"
            ],
            "text/html": [
              "\n",
              "              <p>\n",
              "                  Progress: 100% Complete\n",
              "              <p/>            \n",
              "              <progress\n",
              "                  value='6'\n",
              "                  max='6',\n",
              "                  style='width: 25%',\n",
              "              >\n",
              "                  6\n",
              "              </progress>\n",
              "\n",
              "    "
            ]
          },
          "metadata": {}
        },
        {
          "output_type": "stream",
          "name": "stdout",
          "text": [
            "\n",
            "*** Feature extraction finished ***\n",
            "features shape is : (6, 389)\n",
            "number of windows : 6\n",
            "number of features 389\n",
            "data shape before extracting features (6290,)\n",
            "*** Feature extraction started ***\n"
          ]
        },
        {
          "output_type": "display_data",
          "data": {
            "text/plain": [
              "<IPython.core.display.HTML object>"
            ],
            "text/html": [
              "\n",
              "              <p>\n",
              "                  Progress: 100% Complete\n",
              "              <p/>            \n",
              "              <progress\n",
              "                  value='6'\n",
              "                  max='6',\n",
              "                  style='width: 25%',\n",
              "              >\n",
              "                  6\n",
              "              </progress>\n",
              "\n",
              "    "
            ]
          },
          "metadata": {}
        },
        {
          "output_type": "stream",
          "name": "stdout",
          "text": [
            "\n",
            "*** Feature extraction finished ***\n",
            "features shape is : (6, 389)\n",
            "number of windows : 6\n",
            "number of features 389\n",
            "data shape before extracting features (6290,)\n",
            "*** Feature extraction started ***\n"
          ]
        },
        {
          "output_type": "display_data",
          "data": {
            "text/plain": [
              "<IPython.core.display.HTML object>"
            ],
            "text/html": [
              "\n",
              "              <p>\n",
              "                  Progress: 100% Complete\n",
              "              <p/>            \n",
              "              <progress\n",
              "                  value='6'\n",
              "                  max='6',\n",
              "                  style='width: 25%',\n",
              "              >\n",
              "                  6\n",
              "              </progress>\n",
              "\n",
              "    "
            ]
          },
          "metadata": {}
        },
        {
          "output_type": "stream",
          "name": "stdout",
          "text": [
            "\n",
            "*** Feature extraction finished ***\n",
            "features shape is : (6, 389)\n",
            "number of windows : 6\n",
            "number of features 389\n",
            "data shape before extracting features (6290,)\n",
            "*** Feature extraction started ***\n"
          ]
        },
        {
          "output_type": "display_data",
          "data": {
            "text/plain": [
              "<IPython.core.display.HTML object>"
            ],
            "text/html": [
              "\n",
              "              <p>\n",
              "                  Progress: 100% Complete\n",
              "              <p/>            \n",
              "              <progress\n",
              "                  value='6'\n",
              "                  max='6',\n",
              "                  style='width: 25%',\n",
              "              >\n",
              "                  6\n",
              "              </progress>\n",
              "\n",
              "    "
            ]
          },
          "metadata": {}
        },
        {
          "output_type": "stream",
          "name": "stdout",
          "text": [
            "\n",
            "*** Feature extraction finished ***\n",
            "features shape is : (6, 389)\n",
            "number of windows : 6\n",
            "number of features 389\n",
            "data shape before extracting features (6290,)\n",
            "*** Feature extraction started ***\n"
          ]
        },
        {
          "output_type": "display_data",
          "data": {
            "text/plain": [
              "<IPython.core.display.HTML object>"
            ],
            "text/html": [
              "\n",
              "              <p>\n",
              "                  Progress: 100% Complete\n",
              "              <p/>            \n",
              "              <progress\n",
              "                  value='6'\n",
              "                  max='6',\n",
              "                  style='width: 25%',\n",
              "              >\n",
              "                  6\n",
              "              </progress>\n",
              "\n",
              "    "
            ]
          },
          "metadata": {}
        },
        {
          "output_type": "stream",
          "name": "stdout",
          "text": [
            "\n",
            "*** Feature extraction finished ***\n",
            "features shape is : (6, 389)\n",
            "number of windows : 6\n",
            "number of features 389\n",
            "data shape before extracting features (6290,)\n",
            "*** Feature extraction started ***\n"
          ]
        },
        {
          "output_type": "display_data",
          "data": {
            "text/plain": [
              "<IPython.core.display.HTML object>"
            ],
            "text/html": [
              "\n",
              "              <p>\n",
              "                  Progress: 100% Complete\n",
              "              <p/>            \n",
              "              <progress\n",
              "                  value='6'\n",
              "                  max='6',\n",
              "                  style='width: 25%',\n",
              "              >\n",
              "                  6\n",
              "              </progress>\n",
              "\n",
              "    "
            ]
          },
          "metadata": {}
        },
        {
          "output_type": "stream",
          "name": "stdout",
          "text": [
            "\n",
            "*** Feature extraction finished ***\n",
            "features shape is : (6, 389)\n",
            "number of windows : 6\n",
            "number of features 389\n",
            "data shape before extracting features (6290,)\n",
            "*** Feature extraction started ***\n"
          ]
        },
        {
          "output_type": "display_data",
          "data": {
            "text/plain": [
              "<IPython.core.display.HTML object>"
            ],
            "text/html": [
              "\n",
              "              <p>\n",
              "                  Progress: 100% Complete\n",
              "              <p/>            \n",
              "              <progress\n",
              "                  value='6'\n",
              "                  max='6',\n",
              "                  style='width: 25%',\n",
              "              >\n",
              "                  6\n",
              "              </progress>\n",
              "\n",
              "    "
            ]
          },
          "metadata": {}
        },
        {
          "output_type": "stream",
          "name": "stdout",
          "text": [
            "\n",
            "*** Feature extraction finished ***\n",
            "features shape is : (6, 389)\n",
            "number of windows : 6\n",
            "number of features 389\n",
            "data shape before extracting features (6290,)\n",
            "*** Feature extraction started ***\n"
          ]
        },
        {
          "output_type": "display_data",
          "data": {
            "text/plain": [
              "<IPython.core.display.HTML object>"
            ],
            "text/html": [
              "\n",
              "              <p>\n",
              "                  Progress: 100% Complete\n",
              "              <p/>            \n",
              "              <progress\n",
              "                  value='6'\n",
              "                  max='6',\n",
              "                  style='width: 25%',\n",
              "              >\n",
              "                  6\n",
              "              </progress>\n",
              "\n",
              "    "
            ]
          },
          "metadata": {}
        },
        {
          "output_type": "stream",
          "name": "stdout",
          "text": [
            "\n",
            "*** Feature extraction finished ***\n",
            "features shape is : (6, 389)\n",
            "number of windows : 6\n",
            "number of features 389\n",
            "data shape before extracting features (6290,)\n",
            "*** Feature extraction started ***\n"
          ]
        },
        {
          "output_type": "display_data",
          "data": {
            "text/plain": [
              "<IPython.core.display.HTML object>"
            ],
            "text/html": [
              "\n",
              "              <p>\n",
              "                  Progress: 100% Complete\n",
              "              <p/>            \n",
              "              <progress\n",
              "                  value='6'\n",
              "                  max='6',\n",
              "                  style='width: 25%',\n",
              "              >\n",
              "                  6\n",
              "              </progress>\n",
              "\n",
              "    "
            ]
          },
          "metadata": {}
        },
        {
          "output_type": "stream",
          "name": "stdout",
          "text": [
            "\n",
            "*** Feature extraction finished ***\n",
            "features shape is : (6, 389)\n",
            "number of windows : 6\n",
            "number of features 389\n",
            "data shape before extracting features (6290,)\n",
            "*** Feature extraction started ***\n"
          ]
        },
        {
          "output_type": "display_data",
          "data": {
            "text/plain": [
              "<IPython.core.display.HTML object>"
            ],
            "text/html": [
              "\n",
              "              <p>\n",
              "                  Progress: 100% Complete\n",
              "              <p/>            \n",
              "              <progress\n",
              "                  value='6'\n",
              "                  max='6',\n",
              "                  style='width: 25%',\n",
              "              >\n",
              "                  6\n",
              "              </progress>\n",
              "\n",
              "    "
            ]
          },
          "metadata": {}
        },
        {
          "output_type": "stream",
          "name": "stdout",
          "text": [
            "\n",
            "*** Feature extraction finished ***\n",
            "features shape is : (6, 389)\n",
            "number of windows : 6\n",
            "number of features 389\n",
            "data shape before extracting features (6290,)\n",
            "*** Feature extraction started ***\n"
          ]
        },
        {
          "output_type": "display_data",
          "data": {
            "text/plain": [
              "<IPython.core.display.HTML object>"
            ],
            "text/html": [
              "\n",
              "              <p>\n",
              "                  Progress: 100% Complete\n",
              "              <p/>            \n",
              "              <progress\n",
              "                  value='6'\n",
              "                  max='6',\n",
              "                  style='width: 25%',\n",
              "              >\n",
              "                  6\n",
              "              </progress>\n",
              "\n",
              "    "
            ]
          },
          "metadata": {}
        },
        {
          "output_type": "stream",
          "name": "stdout",
          "text": [
            "\n",
            "*** Feature extraction finished ***\n",
            "features shape is : (6, 389)\n",
            "number of windows : 6\n",
            "number of features 389\n",
            "data shape before extracting features (6290,)\n",
            "*** Feature extraction started ***\n"
          ]
        },
        {
          "output_type": "display_data",
          "data": {
            "text/plain": [
              "<IPython.core.display.HTML object>"
            ],
            "text/html": [
              "\n",
              "              <p>\n",
              "                  Progress: 100% Complete\n",
              "              <p/>            \n",
              "              <progress\n",
              "                  value='6'\n",
              "                  max='6',\n",
              "                  style='width: 25%',\n",
              "              >\n",
              "                  6\n",
              "              </progress>\n",
              "\n",
              "    "
            ]
          },
          "metadata": {}
        },
        {
          "output_type": "stream",
          "name": "stdout",
          "text": [
            "\n",
            "*** Feature extraction finished ***\n",
            "features shape is : (6, 389)\n",
            "number of windows : 6\n",
            "number of features 389\n",
            "data shape before extracting features (6290,)\n",
            "*** Feature extraction started ***\n"
          ]
        },
        {
          "output_type": "display_data",
          "data": {
            "text/plain": [
              "<IPython.core.display.HTML object>"
            ],
            "text/html": [
              "\n",
              "              <p>\n",
              "                  Progress: 100% Complete\n",
              "              <p/>            \n",
              "              <progress\n",
              "                  value='6'\n",
              "                  max='6',\n",
              "                  style='width: 25%',\n",
              "              >\n",
              "                  6\n",
              "              </progress>\n",
              "\n",
              "    "
            ]
          },
          "metadata": {}
        },
        {
          "output_type": "stream",
          "name": "stdout",
          "text": [
            "\n",
            "*** Feature extraction finished ***\n",
            "features shape is : (6, 389)\n",
            "number of windows : 6\n",
            "number of features 389\n",
            "data shape before extracting features (6290,)\n",
            "*** Feature extraction started ***\n"
          ]
        },
        {
          "output_type": "display_data",
          "data": {
            "text/plain": [
              "<IPython.core.display.HTML object>"
            ],
            "text/html": [
              "\n",
              "              <p>\n",
              "                  Progress: 100% Complete\n",
              "              <p/>            \n",
              "              <progress\n",
              "                  value='6'\n",
              "                  max='6',\n",
              "                  style='width: 25%',\n",
              "              >\n",
              "                  6\n",
              "              </progress>\n",
              "\n",
              "    "
            ]
          },
          "metadata": {}
        },
        {
          "output_type": "stream",
          "name": "stdout",
          "text": [
            "\n",
            "*** Feature extraction finished ***\n",
            "features shape is : (6, 389)\n",
            "number of windows : 6\n",
            "number of features 389\n",
            "data shape before extracting features (6290,)\n",
            "*** Feature extraction started ***\n"
          ]
        },
        {
          "output_type": "display_data",
          "data": {
            "text/plain": [
              "<IPython.core.display.HTML object>"
            ],
            "text/html": [
              "\n",
              "              <p>\n",
              "                  Progress: 100% Complete\n",
              "              <p/>            \n",
              "              <progress\n",
              "                  value='6'\n",
              "                  max='6',\n",
              "                  style='width: 25%',\n",
              "              >\n",
              "                  6\n",
              "              </progress>\n",
              "\n",
              "    "
            ]
          },
          "metadata": {}
        },
        {
          "output_type": "stream",
          "name": "stdout",
          "text": [
            "\n",
            "*** Feature extraction finished ***\n",
            "features shape is : (6, 389)\n",
            "number of windows : 6\n",
            "number of features 389\n",
            "data shape before extracting features (6290,)\n",
            "*** Feature extraction started ***\n"
          ]
        },
        {
          "output_type": "display_data",
          "data": {
            "text/plain": [
              "<IPython.core.display.HTML object>"
            ],
            "text/html": [
              "\n",
              "              <p>\n",
              "                  Progress: 100% Complete\n",
              "              <p/>            \n",
              "              <progress\n",
              "                  value='6'\n",
              "                  max='6',\n",
              "                  style='width: 25%',\n",
              "              >\n",
              "                  6\n",
              "              </progress>\n",
              "\n",
              "    "
            ]
          },
          "metadata": {}
        },
        {
          "output_type": "stream",
          "name": "stdout",
          "text": [
            "\n",
            "*** Feature extraction finished ***\n",
            "features shape is : (6, 389)\n",
            "number of windows : 6\n",
            "number of features 389\n",
            "data shape before extracting features (6290,)\n",
            "*** Feature extraction started ***\n"
          ]
        },
        {
          "output_type": "display_data",
          "data": {
            "text/plain": [
              "<IPython.core.display.HTML object>"
            ],
            "text/html": [
              "\n",
              "              <p>\n",
              "                  Progress: 100% Complete\n",
              "              <p/>            \n",
              "              <progress\n",
              "                  value='6'\n",
              "                  max='6',\n",
              "                  style='width: 25%',\n",
              "              >\n",
              "                  6\n",
              "              </progress>\n",
              "\n",
              "    "
            ]
          },
          "metadata": {}
        },
        {
          "output_type": "stream",
          "name": "stdout",
          "text": [
            "\n",
            "*** Feature extraction finished ***\n",
            "features shape is : (6, 389)\n",
            "number of windows : 6\n",
            "number of features 389\n",
            "data shape before extracting features (6290,)\n",
            "*** Feature extraction started ***\n"
          ]
        },
        {
          "output_type": "display_data",
          "data": {
            "text/plain": [
              "<IPython.core.display.HTML object>"
            ],
            "text/html": [
              "\n",
              "              <p>\n",
              "                  Progress: 100% Complete\n",
              "              <p/>            \n",
              "              <progress\n",
              "                  value='6'\n",
              "                  max='6',\n",
              "                  style='width: 25%',\n",
              "              >\n",
              "                  6\n",
              "              </progress>\n",
              "\n",
              "    "
            ]
          },
          "metadata": {}
        },
        {
          "output_type": "stream",
          "name": "stdout",
          "text": [
            "\n",
            "*** Feature extraction finished ***\n",
            "features shape is : (6, 389)\n",
            "number of windows : 6\n",
            "number of features 389\n",
            "data shape before extracting features (6290,)\n",
            "*** Feature extraction started ***\n"
          ]
        },
        {
          "output_type": "display_data",
          "data": {
            "text/plain": [
              "<IPython.core.display.HTML object>"
            ],
            "text/html": [
              "\n",
              "              <p>\n",
              "                  Progress: 100% Complete\n",
              "              <p/>            \n",
              "              <progress\n",
              "                  value='6'\n",
              "                  max='6',\n",
              "                  style='width: 25%',\n",
              "              >\n",
              "                  6\n",
              "              </progress>\n",
              "\n",
              "    "
            ]
          },
          "metadata": {}
        },
        {
          "output_type": "stream",
          "name": "stdout",
          "text": [
            "\n",
            "*** Feature extraction finished ***\n",
            "features shape is : (6, 389)\n",
            "number of windows : 6\n",
            "number of features 389\n",
            "data shape before extracting features (6290,)\n",
            "*** Feature extraction started ***\n"
          ]
        },
        {
          "output_type": "display_data",
          "data": {
            "text/plain": [
              "<IPython.core.display.HTML object>"
            ],
            "text/html": [
              "\n",
              "              <p>\n",
              "                  Progress: 100% Complete\n",
              "              <p/>            \n",
              "              <progress\n",
              "                  value='6'\n",
              "                  max='6',\n",
              "                  style='width: 25%',\n",
              "              >\n",
              "                  6\n",
              "              </progress>\n",
              "\n",
              "    "
            ]
          },
          "metadata": {}
        },
        {
          "output_type": "stream",
          "name": "stdout",
          "text": [
            "\n",
            "*** Feature extraction finished ***\n",
            "features shape is : (6, 389)\n",
            "number of windows : 6\n",
            "number of features 389\n",
            "data shape before extracting features (6290,)\n",
            "*** Feature extraction started ***\n"
          ]
        },
        {
          "output_type": "display_data",
          "data": {
            "text/plain": [
              "<IPython.core.display.HTML object>"
            ],
            "text/html": [
              "\n",
              "              <p>\n",
              "                  Progress: 100% Complete\n",
              "              <p/>            \n",
              "              <progress\n",
              "                  value='6'\n",
              "                  max='6',\n",
              "                  style='width: 25%',\n",
              "              >\n",
              "                  6\n",
              "              </progress>\n",
              "\n",
              "    "
            ]
          },
          "metadata": {}
        },
        {
          "output_type": "stream",
          "name": "stdout",
          "text": [
            "\n",
            "*** Feature extraction finished ***\n",
            "features shape is : (6, 389)\n",
            "number of windows : 6\n",
            "number of features 389\n",
            "data shape before extracting features (6290,)\n",
            "*** Feature extraction started ***\n"
          ]
        },
        {
          "output_type": "display_data",
          "data": {
            "text/plain": [
              "<IPython.core.display.HTML object>"
            ],
            "text/html": [
              "\n",
              "              <p>\n",
              "                  Progress: 100% Complete\n",
              "              <p/>            \n",
              "              <progress\n",
              "                  value='6'\n",
              "                  max='6',\n",
              "                  style='width: 25%',\n",
              "              >\n",
              "                  6\n",
              "              </progress>\n",
              "\n",
              "    "
            ]
          },
          "metadata": {}
        },
        {
          "output_type": "stream",
          "name": "stdout",
          "text": [
            "\n",
            "*** Feature extraction finished ***\n",
            "features shape is : (6, 389)\n",
            "number of windows : 6\n",
            "number of features 389\n",
            "data shape before extracting features (6290,)\n",
            "*** Feature extraction started ***\n"
          ]
        },
        {
          "output_type": "display_data",
          "data": {
            "text/plain": [
              "<IPython.core.display.HTML object>"
            ],
            "text/html": [
              "\n",
              "              <p>\n",
              "                  Progress: 100% Complete\n",
              "              <p/>            \n",
              "              <progress\n",
              "                  value='6'\n",
              "                  max='6',\n",
              "                  style='width: 25%',\n",
              "              >\n",
              "                  6\n",
              "              </progress>\n",
              "\n",
              "    "
            ]
          },
          "metadata": {}
        },
        {
          "output_type": "stream",
          "name": "stdout",
          "text": [
            "\n",
            "*** Feature extraction finished ***\n",
            "features shape is : (6, 389)\n",
            "number of windows : 6\n",
            "number of features 389\n",
            "data shape before extracting features (6290,)\n",
            "*** Feature extraction started ***\n"
          ]
        },
        {
          "output_type": "display_data",
          "data": {
            "text/plain": [
              "<IPython.core.display.HTML object>"
            ],
            "text/html": [
              "\n",
              "              <p>\n",
              "                  Progress: 100% Complete\n",
              "              <p/>            \n",
              "              <progress\n",
              "                  value='6'\n",
              "                  max='6',\n",
              "                  style='width: 25%',\n",
              "              >\n",
              "                  6\n",
              "              </progress>\n",
              "\n",
              "    "
            ]
          },
          "metadata": {}
        },
        {
          "output_type": "stream",
          "name": "stdout",
          "text": [
            "\n",
            "*** Feature extraction finished ***\n",
            "features shape is : (6, 389)\n",
            "number of windows : 6\n",
            "number of features 389\n",
            "data shape before extracting features (6290,)\n",
            "*** Feature extraction started ***\n"
          ]
        },
        {
          "output_type": "display_data",
          "data": {
            "text/plain": [
              "<IPython.core.display.HTML object>"
            ],
            "text/html": [
              "\n",
              "              <p>\n",
              "                  Progress: 100% Complete\n",
              "              <p/>            \n",
              "              <progress\n",
              "                  value='6'\n",
              "                  max='6',\n",
              "                  style='width: 25%',\n",
              "              >\n",
              "                  6\n",
              "              </progress>\n",
              "\n",
              "    "
            ]
          },
          "metadata": {}
        },
        {
          "output_type": "stream",
          "name": "stdout",
          "text": [
            "\n",
            "*** Feature extraction finished ***\n",
            "features shape is : (6, 389)\n",
            "number of windows : 6\n",
            "number of features 389\n",
            "data shape before extracting features (6290,)\n",
            "*** Feature extraction started ***\n"
          ]
        },
        {
          "output_type": "display_data",
          "data": {
            "text/plain": [
              "<IPython.core.display.HTML object>"
            ],
            "text/html": [
              "\n",
              "              <p>\n",
              "                  Progress: 100% Complete\n",
              "              <p/>            \n",
              "              <progress\n",
              "                  value='6'\n",
              "                  max='6',\n",
              "                  style='width: 25%',\n",
              "              >\n",
              "                  6\n",
              "              </progress>\n",
              "\n",
              "    "
            ]
          },
          "metadata": {}
        },
        {
          "output_type": "stream",
          "name": "stdout",
          "text": [
            "\n",
            "*** Feature extraction finished ***\n",
            "features shape is : (6, 389)\n",
            "number of windows : 6\n",
            "number of features 389\n",
            "data shape before extracting features (6290,)\n",
            "*** Feature extraction started ***\n"
          ]
        },
        {
          "output_type": "display_data",
          "data": {
            "text/plain": [
              "<IPython.core.display.HTML object>"
            ],
            "text/html": [
              "\n",
              "              <p>\n",
              "                  Progress: 100% Complete\n",
              "              <p/>            \n",
              "              <progress\n",
              "                  value='6'\n",
              "                  max='6',\n",
              "                  style='width: 25%',\n",
              "              >\n",
              "                  6\n",
              "              </progress>\n",
              "\n",
              "    "
            ]
          },
          "metadata": {}
        },
        {
          "output_type": "stream",
          "name": "stdout",
          "text": [
            "\n",
            "*** Feature extraction finished ***\n",
            "features shape is : (6, 389)\n",
            "number of windows : 6\n",
            "number of features 389\n",
            "data shape before extracting features (6290,)\n",
            "*** Feature extraction started ***\n"
          ]
        },
        {
          "output_type": "display_data",
          "data": {
            "text/plain": [
              "<IPython.core.display.HTML object>"
            ],
            "text/html": [
              "\n",
              "              <p>\n",
              "                  Progress: 100% Complete\n",
              "              <p/>            \n",
              "              <progress\n",
              "                  value='6'\n",
              "                  max='6',\n",
              "                  style='width: 25%',\n",
              "              >\n",
              "                  6\n",
              "              </progress>\n",
              "\n",
              "    "
            ]
          },
          "metadata": {}
        },
        {
          "output_type": "stream",
          "name": "stdout",
          "text": [
            "\n",
            "*** Feature extraction finished ***\n",
            "features shape is : (6, 389)\n",
            "number of windows : 6\n",
            "number of features 389\n",
            "data shape before extracting features (6290,)\n",
            "*** Feature extraction started ***\n"
          ]
        },
        {
          "output_type": "display_data",
          "data": {
            "text/plain": [
              "<IPython.core.display.HTML object>"
            ],
            "text/html": [
              "\n",
              "              <p>\n",
              "                  Progress: 100% Complete\n",
              "              <p/>            \n",
              "              <progress\n",
              "                  value='6'\n",
              "                  max='6',\n",
              "                  style='width: 25%',\n",
              "              >\n",
              "                  6\n",
              "              </progress>\n",
              "\n",
              "    "
            ]
          },
          "metadata": {}
        },
        {
          "output_type": "stream",
          "name": "stdout",
          "text": [
            "\n",
            "*** Feature extraction finished ***\n",
            "features shape is : (6, 389)\n",
            "number of windows : 6\n",
            "number of features 389\n",
            "data shape before extracting features (6290,)\n",
            "*** Feature extraction started ***\n"
          ]
        },
        {
          "output_type": "display_data",
          "data": {
            "text/plain": [
              "<IPython.core.display.HTML object>"
            ],
            "text/html": [
              "\n",
              "              <p>\n",
              "                  Progress: 100% Complete\n",
              "              <p/>            \n",
              "              <progress\n",
              "                  value='6'\n",
              "                  max='6',\n",
              "                  style='width: 25%',\n",
              "              >\n",
              "                  6\n",
              "              </progress>\n",
              "\n",
              "    "
            ]
          },
          "metadata": {}
        },
        {
          "output_type": "stream",
          "name": "stdout",
          "text": [
            "\n",
            "*** Feature extraction finished ***\n",
            "features shape is : (6, 389)\n",
            "number of windows : 6\n",
            "number of features 389\n",
            "data shape before extracting features (6290,)\n",
            "*** Feature extraction started ***\n"
          ]
        },
        {
          "output_type": "display_data",
          "data": {
            "text/plain": [
              "<IPython.core.display.HTML object>"
            ],
            "text/html": [
              "\n",
              "              <p>\n",
              "                  Progress: 100% Complete\n",
              "              <p/>            \n",
              "              <progress\n",
              "                  value='6'\n",
              "                  max='6',\n",
              "                  style='width: 25%',\n",
              "              >\n",
              "                  6\n",
              "              </progress>\n",
              "\n",
              "    "
            ]
          },
          "metadata": {}
        },
        {
          "output_type": "stream",
          "name": "stdout",
          "text": [
            "\n",
            "*** Feature extraction finished ***\n",
            "features shape is : (6, 389)\n",
            "number of windows : 6\n",
            "number of features 389\n",
            "data shape before extracting features (6290,)\n",
            "*** Feature extraction started ***\n"
          ]
        },
        {
          "output_type": "display_data",
          "data": {
            "text/plain": [
              "<IPython.core.display.HTML object>"
            ],
            "text/html": [
              "\n",
              "              <p>\n",
              "                  Progress: 100% Complete\n",
              "              <p/>            \n",
              "              <progress\n",
              "                  value='6'\n",
              "                  max='6',\n",
              "                  style='width: 25%',\n",
              "              >\n",
              "                  6\n",
              "              </progress>\n",
              "\n",
              "    "
            ]
          },
          "metadata": {}
        },
        {
          "output_type": "stream",
          "name": "stdout",
          "text": [
            "\n",
            "*** Feature extraction finished ***\n",
            "features shape is : (6, 389)\n",
            "number of windows : 6\n",
            "number of features 389\n",
            "data shape before extracting features (6290,)\n",
            "*** Feature extraction started ***\n"
          ]
        },
        {
          "output_type": "display_data",
          "data": {
            "text/plain": [
              "<IPython.core.display.HTML object>"
            ],
            "text/html": [
              "\n",
              "              <p>\n",
              "                  Progress: 100% Complete\n",
              "              <p/>            \n",
              "              <progress\n",
              "                  value='6'\n",
              "                  max='6',\n",
              "                  style='width: 25%',\n",
              "              >\n",
              "                  6\n",
              "              </progress>\n",
              "\n",
              "    "
            ]
          },
          "metadata": {}
        },
        {
          "output_type": "stream",
          "name": "stdout",
          "text": [
            "\n",
            "*** Feature extraction finished ***\n",
            "features shape is : (6, 389)\n",
            "number of windows : 6\n",
            "number of features 389\n",
            "data shape before extracting features (6290,)\n",
            "*** Feature extraction started ***\n"
          ]
        },
        {
          "output_type": "display_data",
          "data": {
            "text/plain": [
              "<IPython.core.display.HTML object>"
            ],
            "text/html": [
              "\n",
              "              <p>\n",
              "                  Progress: 100% Complete\n",
              "              <p/>            \n",
              "              <progress\n",
              "                  value='6'\n",
              "                  max='6',\n",
              "                  style='width: 25%',\n",
              "              >\n",
              "                  6\n",
              "              </progress>\n",
              "\n",
              "    "
            ]
          },
          "metadata": {}
        },
        {
          "output_type": "stream",
          "name": "stdout",
          "text": [
            "\n",
            "*** Feature extraction finished ***\n",
            "features shape is : (6, 389)\n",
            "number of windows : 6\n",
            "number of features 389\n",
            "data shape before extracting features (6290,)\n",
            "*** Feature extraction started ***\n"
          ]
        },
        {
          "output_type": "display_data",
          "data": {
            "text/plain": [
              "<IPython.core.display.HTML object>"
            ],
            "text/html": [
              "\n",
              "              <p>\n",
              "                  Progress: 100% Complete\n",
              "              <p/>            \n",
              "              <progress\n",
              "                  value='6'\n",
              "                  max='6',\n",
              "                  style='width: 25%',\n",
              "              >\n",
              "                  6\n",
              "              </progress>\n",
              "\n",
              "    "
            ]
          },
          "metadata": {}
        },
        {
          "output_type": "stream",
          "name": "stdout",
          "text": [
            "\n",
            "*** Feature extraction finished ***\n",
            "features shape is : (6, 389)\n",
            "number of windows : 6\n",
            "number of features 389\n",
            "data shape before extracting features (6290,)\n",
            "*** Feature extraction started ***\n"
          ]
        },
        {
          "output_type": "display_data",
          "data": {
            "text/plain": [
              "<IPython.core.display.HTML object>"
            ],
            "text/html": [
              "\n",
              "              <p>\n",
              "                  Progress: 100% Complete\n",
              "              <p/>            \n",
              "              <progress\n",
              "                  value='6'\n",
              "                  max='6',\n",
              "                  style='width: 25%',\n",
              "              >\n",
              "                  6\n",
              "              </progress>\n",
              "\n",
              "    "
            ]
          },
          "metadata": {}
        },
        {
          "output_type": "stream",
          "name": "stdout",
          "text": [
            "\n",
            "*** Feature extraction finished ***\n",
            "features shape is : (6, 389)\n",
            "number of windows : 6\n",
            "number of features 389\n",
            "data shape before extracting features (6290,)\n",
            "*** Feature extraction started ***\n"
          ]
        },
        {
          "output_type": "display_data",
          "data": {
            "text/plain": [
              "<IPython.core.display.HTML object>"
            ],
            "text/html": [
              "\n",
              "              <p>\n",
              "                  Progress: 100% Complete\n",
              "              <p/>            \n",
              "              <progress\n",
              "                  value='6'\n",
              "                  max='6',\n",
              "                  style='width: 25%',\n",
              "              >\n",
              "                  6\n",
              "              </progress>\n",
              "\n",
              "    "
            ]
          },
          "metadata": {}
        },
        {
          "output_type": "stream",
          "name": "stdout",
          "text": [
            "\n",
            "*** Feature extraction finished ***\n",
            "features shape is : (6, 389)\n",
            "number of windows : 6\n",
            "number of features 389\n",
            "data shape before extracting features (6290,)\n",
            "*** Feature extraction started ***\n"
          ]
        },
        {
          "output_type": "display_data",
          "data": {
            "text/plain": [
              "<IPython.core.display.HTML object>"
            ],
            "text/html": [
              "\n",
              "              <p>\n",
              "                  Progress: 100% Complete\n",
              "              <p/>            \n",
              "              <progress\n",
              "                  value='6'\n",
              "                  max='6',\n",
              "                  style='width: 25%',\n",
              "              >\n",
              "                  6\n",
              "              </progress>\n",
              "\n",
              "    "
            ]
          },
          "metadata": {}
        },
        {
          "output_type": "stream",
          "name": "stdout",
          "text": [
            "\n",
            "*** Feature extraction finished ***\n",
            "features shape is : (6, 389)\n",
            "number of windows : 6\n",
            "number of features 389\n",
            "data shape before extracting features (6290,)\n",
            "*** Feature extraction started ***\n"
          ]
        },
        {
          "output_type": "display_data",
          "data": {
            "text/plain": [
              "<IPython.core.display.HTML object>"
            ],
            "text/html": [
              "\n",
              "              <p>\n",
              "                  Progress: 100% Complete\n",
              "              <p/>            \n",
              "              <progress\n",
              "                  value='6'\n",
              "                  max='6',\n",
              "                  style='width: 25%',\n",
              "              >\n",
              "                  6\n",
              "              </progress>\n",
              "\n",
              "    "
            ]
          },
          "metadata": {}
        },
        {
          "output_type": "stream",
          "name": "stdout",
          "text": [
            "\n",
            "*** Feature extraction finished ***\n",
            "features shape is : (6, 389)\n",
            "number of windows : 6\n",
            "number of features 389\n",
            "data shape before extracting features (6290,)\n",
            "*** Feature extraction started ***\n"
          ]
        },
        {
          "output_type": "display_data",
          "data": {
            "text/plain": [
              "<IPython.core.display.HTML object>"
            ],
            "text/html": [
              "\n",
              "              <p>\n",
              "                  Progress: 100% Complete\n",
              "              <p/>            \n",
              "              <progress\n",
              "                  value='6'\n",
              "                  max='6',\n",
              "                  style='width: 25%',\n",
              "              >\n",
              "                  6\n",
              "              </progress>\n",
              "\n",
              "    "
            ]
          },
          "metadata": {}
        },
        {
          "output_type": "stream",
          "name": "stdout",
          "text": [
            "\n",
            "*** Feature extraction finished ***\n",
            "features shape is : (6, 389)\n",
            "number of windows : 6\n",
            "number of features 389\n",
            "data shape before extracting features (6290,)\n",
            "*** Feature extraction started ***\n"
          ]
        },
        {
          "output_type": "display_data",
          "data": {
            "text/plain": [
              "<IPython.core.display.HTML object>"
            ],
            "text/html": [
              "\n",
              "              <p>\n",
              "                  Progress: 100% Complete\n",
              "              <p/>            \n",
              "              <progress\n",
              "                  value='6'\n",
              "                  max='6',\n",
              "                  style='width: 25%',\n",
              "              >\n",
              "                  6\n",
              "              </progress>\n",
              "\n",
              "    "
            ]
          },
          "metadata": {}
        },
        {
          "output_type": "stream",
          "name": "stdout",
          "text": [
            "\n",
            "*** Feature extraction finished ***\n",
            "features shape is : (6, 389)\n",
            "number of windows : 6\n",
            "number of features 389\n",
            "data shape before extracting features (6290,)\n",
            "*** Feature extraction started ***\n"
          ]
        },
        {
          "output_type": "display_data",
          "data": {
            "text/plain": [
              "<IPython.core.display.HTML object>"
            ],
            "text/html": [
              "\n",
              "              <p>\n",
              "                  Progress: 100% Complete\n",
              "              <p/>            \n",
              "              <progress\n",
              "                  value='6'\n",
              "                  max='6',\n",
              "                  style='width: 25%',\n",
              "              >\n",
              "                  6\n",
              "              </progress>\n",
              "\n",
              "    "
            ]
          },
          "metadata": {}
        },
        {
          "output_type": "stream",
          "name": "stdout",
          "text": [
            "\n",
            "*** Feature extraction finished ***\n",
            "features shape is : (6, 389)\n",
            "number of windows : 6\n",
            "number of features 389\n",
            "data shape before extracting features (6290,)\n",
            "*** Feature extraction started ***\n"
          ]
        },
        {
          "output_type": "display_data",
          "data": {
            "text/plain": [
              "<IPython.core.display.HTML object>"
            ],
            "text/html": [
              "\n",
              "              <p>\n",
              "                  Progress: 100% Complete\n",
              "              <p/>            \n",
              "              <progress\n",
              "                  value='6'\n",
              "                  max='6',\n",
              "                  style='width: 25%',\n",
              "              >\n",
              "                  6\n",
              "              </progress>\n",
              "\n",
              "    "
            ]
          },
          "metadata": {}
        },
        {
          "output_type": "stream",
          "name": "stdout",
          "text": [
            "\n",
            "*** Feature extraction finished ***\n",
            "features shape is : (6, 389)\n",
            "number of windows : 6\n",
            "number of features 389\n",
            "data shape before extracting features (6290,)\n",
            "*** Feature extraction started ***\n"
          ]
        },
        {
          "output_type": "display_data",
          "data": {
            "text/plain": [
              "<IPython.core.display.HTML object>"
            ],
            "text/html": [
              "\n",
              "              <p>\n",
              "                  Progress: 100% Complete\n",
              "              <p/>            \n",
              "              <progress\n",
              "                  value='6'\n",
              "                  max='6',\n",
              "                  style='width: 25%',\n",
              "              >\n",
              "                  6\n",
              "              </progress>\n",
              "\n",
              "    "
            ]
          },
          "metadata": {}
        },
        {
          "output_type": "stream",
          "name": "stdout",
          "text": [
            "\n",
            "*** Feature extraction finished ***\n",
            "features shape is : (6, 389)\n",
            "number of windows : 6\n",
            "number of features 389\n",
            "data shape before extracting features (6290,)\n",
            "*** Feature extraction started ***\n"
          ]
        },
        {
          "output_type": "display_data",
          "data": {
            "text/plain": [
              "<IPython.core.display.HTML object>"
            ],
            "text/html": [
              "\n",
              "              <p>\n",
              "                  Progress: 100% Complete\n",
              "              <p/>            \n",
              "              <progress\n",
              "                  value='6'\n",
              "                  max='6',\n",
              "                  style='width: 25%',\n",
              "              >\n",
              "                  6\n",
              "              </progress>\n",
              "\n",
              "    "
            ]
          },
          "metadata": {}
        },
        {
          "output_type": "stream",
          "name": "stdout",
          "text": [
            "\n",
            "*** Feature extraction finished ***\n",
            "features shape is : (6, 389)\n",
            "number of windows : 6\n",
            "number of features 389\n",
            "data shape before extracting features (6290,)\n",
            "*** Feature extraction started ***\n"
          ]
        },
        {
          "output_type": "display_data",
          "data": {
            "text/plain": [
              "<IPython.core.display.HTML object>"
            ],
            "text/html": [
              "\n",
              "              <p>\n",
              "                  Progress: 100% Complete\n",
              "              <p/>            \n",
              "              <progress\n",
              "                  value='6'\n",
              "                  max='6',\n",
              "                  style='width: 25%',\n",
              "              >\n",
              "                  6\n",
              "              </progress>\n",
              "\n",
              "    "
            ]
          },
          "metadata": {}
        },
        {
          "output_type": "stream",
          "name": "stdout",
          "text": [
            "\n",
            "*** Feature extraction finished ***\n",
            "features shape is : (6, 389)\n",
            "number of windows : 6\n",
            "number of features 389\n",
            "data shape before extracting features (6290,)\n",
            "*** Feature extraction started ***\n"
          ]
        },
        {
          "output_type": "display_data",
          "data": {
            "text/plain": [
              "<IPython.core.display.HTML object>"
            ],
            "text/html": [
              "\n",
              "              <p>\n",
              "                  Progress: 100% Complete\n",
              "              <p/>            \n",
              "              <progress\n",
              "                  value='6'\n",
              "                  max='6',\n",
              "                  style='width: 25%',\n",
              "              >\n",
              "                  6\n",
              "              </progress>\n",
              "\n",
              "    "
            ]
          },
          "metadata": {}
        },
        {
          "output_type": "stream",
          "name": "stdout",
          "text": [
            "\n",
            "*** Feature extraction finished ***\n",
            "features shape is : (6, 389)\n",
            "number of windows : 6\n",
            "number of features 389\n",
            "data shape before extracting features (6290,)\n",
            "*** Feature extraction started ***\n"
          ]
        },
        {
          "output_type": "display_data",
          "data": {
            "text/plain": [
              "<IPython.core.display.HTML object>"
            ],
            "text/html": [
              "\n",
              "              <p>\n",
              "                  Progress: 100% Complete\n",
              "              <p/>            \n",
              "              <progress\n",
              "                  value='6'\n",
              "                  max='6',\n",
              "                  style='width: 25%',\n",
              "              >\n",
              "                  6\n",
              "              </progress>\n",
              "\n",
              "    "
            ]
          },
          "metadata": {}
        },
        {
          "output_type": "stream",
          "name": "stdout",
          "text": [
            "\n",
            "*** Feature extraction finished ***\n",
            "features shape is : (6, 389)\n",
            "number of windows : 6\n",
            "number of features 389\n",
            "data shape before extracting features (6290,)\n",
            "*** Feature extraction started ***\n"
          ]
        },
        {
          "output_type": "display_data",
          "data": {
            "text/plain": [
              "<IPython.core.display.HTML object>"
            ],
            "text/html": [
              "\n",
              "              <p>\n",
              "                  Progress: 100% Complete\n",
              "              <p/>            \n",
              "              <progress\n",
              "                  value='6'\n",
              "                  max='6',\n",
              "                  style='width: 25%',\n",
              "              >\n",
              "                  6\n",
              "              </progress>\n",
              "\n",
              "    "
            ]
          },
          "metadata": {}
        },
        {
          "output_type": "stream",
          "name": "stdout",
          "text": [
            "\n",
            "*** Feature extraction finished ***\n",
            "features shape is : (6, 389)\n",
            "number of windows : 6\n",
            "number of features 389\n",
            "data shape before extracting features (6290,)\n",
            "*** Feature extraction started ***\n"
          ]
        },
        {
          "output_type": "display_data",
          "data": {
            "text/plain": [
              "<IPython.core.display.HTML object>"
            ],
            "text/html": [
              "\n",
              "              <p>\n",
              "                  Progress: 100% Complete\n",
              "              <p/>            \n",
              "              <progress\n",
              "                  value='6'\n",
              "                  max='6',\n",
              "                  style='width: 25%',\n",
              "              >\n",
              "                  6\n",
              "              </progress>\n",
              "\n",
              "    "
            ]
          },
          "metadata": {}
        },
        {
          "output_type": "stream",
          "name": "stdout",
          "text": [
            "\n",
            "*** Feature extraction finished ***\n",
            "features shape is : (6, 389)\n",
            "number of windows : 6\n",
            "number of features 389\n",
            "data shape before extracting features (6290,)\n",
            "*** Feature extraction started ***\n"
          ]
        },
        {
          "output_type": "display_data",
          "data": {
            "text/plain": [
              "<IPython.core.display.HTML object>"
            ],
            "text/html": [
              "\n",
              "              <p>\n",
              "                  Progress: 100% Complete\n",
              "              <p/>            \n",
              "              <progress\n",
              "                  value='6'\n",
              "                  max='6',\n",
              "                  style='width: 25%',\n",
              "              >\n",
              "                  6\n",
              "              </progress>\n",
              "\n",
              "    "
            ]
          },
          "metadata": {}
        },
        {
          "output_type": "stream",
          "name": "stdout",
          "text": [
            "\n",
            "*** Feature extraction finished ***\n",
            "features shape is : (6, 389)\n",
            "number of windows : 6\n",
            "number of features 389\n",
            "data shape before extracting features (6290,)\n",
            "*** Feature extraction started ***\n"
          ]
        },
        {
          "output_type": "display_data",
          "data": {
            "text/plain": [
              "<IPython.core.display.HTML object>"
            ],
            "text/html": [
              "\n",
              "              <p>\n",
              "                  Progress: 100% Complete\n",
              "              <p/>            \n",
              "              <progress\n",
              "                  value='6'\n",
              "                  max='6',\n",
              "                  style='width: 25%',\n",
              "              >\n",
              "                  6\n",
              "              </progress>\n",
              "\n",
              "    "
            ]
          },
          "metadata": {}
        },
        {
          "output_type": "stream",
          "name": "stdout",
          "text": [
            "\n",
            "*** Feature extraction finished ***\n",
            "features shape is : (6, 389)\n",
            "number of windows : 6\n",
            "number of features 389\n",
            "data shape before extracting features (6290,)\n",
            "*** Feature extraction started ***\n"
          ]
        },
        {
          "output_type": "display_data",
          "data": {
            "text/plain": [
              "<IPython.core.display.HTML object>"
            ],
            "text/html": [
              "\n",
              "              <p>\n",
              "                  Progress: 100% Complete\n",
              "              <p/>            \n",
              "              <progress\n",
              "                  value='6'\n",
              "                  max='6',\n",
              "                  style='width: 25%',\n",
              "              >\n",
              "                  6\n",
              "              </progress>\n",
              "\n",
              "    "
            ]
          },
          "metadata": {}
        },
        {
          "output_type": "stream",
          "name": "stdout",
          "text": [
            "\n",
            "*** Feature extraction finished ***\n",
            "features shape is : (6, 389)\n",
            "number of windows : 6\n",
            "number of features 389\n",
            "data shape before extracting features (6290,)\n",
            "*** Feature extraction started ***\n"
          ]
        },
        {
          "output_type": "display_data",
          "data": {
            "text/plain": [
              "<IPython.core.display.HTML object>"
            ],
            "text/html": [
              "\n",
              "              <p>\n",
              "                  Progress: 100% Complete\n",
              "              <p/>            \n",
              "              <progress\n",
              "                  value='6'\n",
              "                  max='6',\n",
              "                  style='width: 25%',\n",
              "              >\n",
              "                  6\n",
              "              </progress>\n",
              "\n",
              "    "
            ]
          },
          "metadata": {}
        },
        {
          "output_type": "stream",
          "name": "stdout",
          "text": [
            "\n",
            "*** Feature extraction finished ***\n",
            "features shape is : (6, 389)\n",
            "number of windows : 6\n",
            "number of features 389\n",
            "data shape before extracting features (6290,)\n",
            "*** Feature extraction started ***\n"
          ]
        },
        {
          "output_type": "display_data",
          "data": {
            "text/plain": [
              "<IPython.core.display.HTML object>"
            ],
            "text/html": [
              "\n",
              "              <p>\n",
              "                  Progress: 100% Complete\n",
              "              <p/>            \n",
              "              <progress\n",
              "                  value='6'\n",
              "                  max='6',\n",
              "                  style='width: 25%',\n",
              "              >\n",
              "                  6\n",
              "              </progress>\n",
              "\n",
              "    "
            ]
          },
          "metadata": {}
        },
        {
          "output_type": "stream",
          "name": "stdout",
          "text": [
            "\n",
            "*** Feature extraction finished ***\n",
            "features shape is : (6, 389)\n",
            "number of windows : 6\n",
            "number of features 389\n",
            "data shape before extracting features (6290,)\n",
            "*** Feature extraction started ***\n"
          ]
        },
        {
          "output_type": "display_data",
          "data": {
            "text/plain": [
              "<IPython.core.display.HTML object>"
            ],
            "text/html": [
              "\n",
              "              <p>\n",
              "                  Progress: 100% Complete\n",
              "              <p/>            \n",
              "              <progress\n",
              "                  value='6'\n",
              "                  max='6',\n",
              "                  style='width: 25%',\n",
              "              >\n",
              "                  6\n",
              "              </progress>\n",
              "\n",
              "    "
            ]
          },
          "metadata": {}
        },
        {
          "output_type": "stream",
          "name": "stdout",
          "text": [
            "\n",
            "*** Feature extraction finished ***\n",
            "features shape is : (6, 389)\n",
            "number of windows : 6\n",
            "number of features 389\n",
            "data shape before extracting features (6290,)\n",
            "*** Feature extraction started ***\n"
          ]
        },
        {
          "output_type": "display_data",
          "data": {
            "text/plain": [
              "<IPython.core.display.HTML object>"
            ],
            "text/html": [
              "\n",
              "              <p>\n",
              "                  Progress: 100% Complete\n",
              "              <p/>            \n",
              "              <progress\n",
              "                  value='6'\n",
              "                  max='6',\n",
              "                  style='width: 25%',\n",
              "              >\n",
              "                  6\n",
              "              </progress>\n",
              "\n",
              "    "
            ]
          },
          "metadata": {}
        },
        {
          "output_type": "stream",
          "name": "stdout",
          "text": [
            "\n",
            "*** Feature extraction finished ***\n",
            "features shape is : (6, 389)\n",
            "number of windows : 6\n",
            "number of features 389\n",
            "data shape before extracting features (6290,)\n",
            "*** Feature extraction started ***\n"
          ]
        },
        {
          "output_type": "display_data",
          "data": {
            "text/plain": [
              "<IPython.core.display.HTML object>"
            ],
            "text/html": [
              "\n",
              "              <p>\n",
              "                  Progress: 100% Complete\n",
              "              <p/>            \n",
              "              <progress\n",
              "                  value='6'\n",
              "                  max='6',\n",
              "                  style='width: 25%',\n",
              "              >\n",
              "                  6\n",
              "              </progress>\n",
              "\n",
              "    "
            ]
          },
          "metadata": {}
        },
        {
          "output_type": "stream",
          "name": "stdout",
          "text": [
            "\n",
            "*** Feature extraction finished ***\n",
            "features shape is : (6, 389)\n",
            "number of windows : 6\n",
            "number of features 389\n",
            "data shape before extracting features (6290,)\n",
            "*** Feature extraction started ***\n"
          ]
        },
        {
          "output_type": "display_data",
          "data": {
            "text/plain": [
              "<IPython.core.display.HTML object>"
            ],
            "text/html": [
              "\n",
              "              <p>\n",
              "                  Progress: 100% Complete\n",
              "              <p/>            \n",
              "              <progress\n",
              "                  value='6'\n",
              "                  max='6',\n",
              "                  style='width: 25%',\n",
              "              >\n",
              "                  6\n",
              "              </progress>\n",
              "\n",
              "    "
            ]
          },
          "metadata": {}
        },
        {
          "output_type": "stream",
          "name": "stdout",
          "text": [
            "\n",
            "*** Feature extraction finished ***\n",
            "features shape is : (6, 389)\n",
            "number of windows : 6\n",
            "number of features 389\n",
            "data shape before extracting features (6290,)\n",
            "*** Feature extraction started ***\n"
          ]
        },
        {
          "output_type": "display_data",
          "data": {
            "text/plain": [
              "<IPython.core.display.HTML object>"
            ],
            "text/html": [
              "\n",
              "              <p>\n",
              "                  Progress: 100% Complete\n",
              "              <p/>            \n",
              "              <progress\n",
              "                  value='6'\n",
              "                  max='6',\n",
              "                  style='width: 25%',\n",
              "              >\n",
              "                  6\n",
              "              </progress>\n",
              "\n",
              "    "
            ]
          },
          "metadata": {}
        },
        {
          "output_type": "stream",
          "name": "stdout",
          "text": [
            "\n",
            "*** Feature extraction finished ***\n",
            "features shape is : (6, 389)\n",
            "number of windows : 6\n",
            "number of features 389\n",
            "data shape before extracting features (6290,)\n",
            "*** Feature extraction started ***\n"
          ]
        },
        {
          "output_type": "display_data",
          "data": {
            "text/plain": [
              "<IPython.core.display.HTML object>"
            ],
            "text/html": [
              "\n",
              "              <p>\n",
              "                  Progress: 100% Complete\n",
              "              <p/>            \n",
              "              <progress\n",
              "                  value='6'\n",
              "                  max='6',\n",
              "                  style='width: 25%',\n",
              "              >\n",
              "                  6\n",
              "              </progress>\n",
              "\n",
              "    "
            ]
          },
          "metadata": {}
        },
        {
          "output_type": "stream",
          "name": "stdout",
          "text": [
            "\n",
            "*** Feature extraction finished ***\n",
            "features shape is : (6, 389)\n",
            "number of windows : 6\n",
            "number of features 389\n",
            "data shape before extracting features (6290,)\n",
            "*** Feature extraction started ***\n"
          ]
        },
        {
          "output_type": "display_data",
          "data": {
            "text/plain": [
              "<IPython.core.display.HTML object>"
            ],
            "text/html": [
              "\n",
              "              <p>\n",
              "                  Progress: 100% Complete\n",
              "              <p/>            \n",
              "              <progress\n",
              "                  value='6'\n",
              "                  max='6',\n",
              "                  style='width: 25%',\n",
              "              >\n",
              "                  6\n",
              "              </progress>\n",
              "\n",
              "    "
            ]
          },
          "metadata": {}
        },
        {
          "output_type": "stream",
          "name": "stdout",
          "text": [
            "\n",
            "*** Feature extraction finished ***\n",
            "features shape is : (6, 389)\n",
            "number of windows : 6\n",
            "number of features 389\n",
            "data shape before extracting features (6290,)\n",
            "*** Feature extraction started ***\n"
          ]
        },
        {
          "output_type": "display_data",
          "data": {
            "text/plain": [
              "<IPython.core.display.HTML object>"
            ],
            "text/html": [
              "\n",
              "              <p>\n",
              "                  Progress: 100% Complete\n",
              "              <p/>            \n",
              "              <progress\n",
              "                  value='6'\n",
              "                  max='6',\n",
              "                  style='width: 25%',\n",
              "              >\n",
              "                  6\n",
              "              </progress>\n",
              "\n",
              "    "
            ]
          },
          "metadata": {}
        },
        {
          "output_type": "stream",
          "name": "stdout",
          "text": [
            "\n",
            "*** Feature extraction finished ***\n",
            "features shape is : (6, 389)\n",
            "number of windows : 6\n",
            "number of features 389\n",
            "data shape before extracting features (6290,)\n",
            "*** Feature extraction started ***\n"
          ]
        },
        {
          "output_type": "display_data",
          "data": {
            "text/plain": [
              "<IPython.core.display.HTML object>"
            ],
            "text/html": [
              "\n",
              "              <p>\n",
              "                  Progress: 100% Complete\n",
              "              <p/>            \n",
              "              <progress\n",
              "                  value='6'\n",
              "                  max='6',\n",
              "                  style='width: 25%',\n",
              "              >\n",
              "                  6\n",
              "              </progress>\n",
              "\n",
              "    "
            ]
          },
          "metadata": {}
        },
        {
          "output_type": "stream",
          "name": "stdout",
          "text": [
            "\n",
            "*** Feature extraction finished ***\n",
            "features shape is : (6, 389)\n",
            "number of windows : 6\n",
            "number of features 389\n",
            "data shape before extracting features (6290,)\n",
            "*** Feature extraction started ***\n"
          ]
        },
        {
          "output_type": "display_data",
          "data": {
            "text/plain": [
              "<IPython.core.display.HTML object>"
            ],
            "text/html": [
              "\n",
              "              <p>\n",
              "                  Progress: 100% Complete\n",
              "              <p/>            \n",
              "              <progress\n",
              "                  value='6'\n",
              "                  max='6',\n",
              "                  style='width: 25%',\n",
              "              >\n",
              "                  6\n",
              "              </progress>\n",
              "\n",
              "    "
            ]
          },
          "metadata": {}
        },
        {
          "output_type": "stream",
          "name": "stdout",
          "text": [
            "\n",
            "*** Feature extraction finished ***\n",
            "features shape is : (6, 389)\n",
            "number of windows : 6\n",
            "number of features 389\n",
            "data shape before extracting features (6290,)\n",
            "*** Feature extraction started ***\n"
          ]
        },
        {
          "output_type": "display_data",
          "data": {
            "text/plain": [
              "<IPython.core.display.HTML object>"
            ],
            "text/html": [
              "\n",
              "              <p>\n",
              "                  Progress: 100% Complete\n",
              "              <p/>            \n",
              "              <progress\n",
              "                  value='6'\n",
              "                  max='6',\n",
              "                  style='width: 25%',\n",
              "              >\n",
              "                  6\n",
              "              </progress>\n",
              "\n",
              "    "
            ]
          },
          "metadata": {}
        },
        {
          "output_type": "stream",
          "name": "stdout",
          "text": [
            "\n",
            "*** Feature extraction finished ***\n",
            "features shape is : (6, 389)\n",
            "number of windows : 6\n",
            "number of features 389\n",
            "data shape before extracting features (6290,)\n",
            "*** Feature extraction started ***\n"
          ]
        },
        {
          "output_type": "display_data",
          "data": {
            "text/plain": [
              "<IPython.core.display.HTML object>"
            ],
            "text/html": [
              "\n",
              "              <p>\n",
              "                  Progress: 100% Complete\n",
              "              <p/>            \n",
              "              <progress\n",
              "                  value='6'\n",
              "                  max='6',\n",
              "                  style='width: 25%',\n",
              "              >\n",
              "                  6\n",
              "              </progress>\n",
              "\n",
              "    "
            ]
          },
          "metadata": {}
        },
        {
          "output_type": "stream",
          "name": "stdout",
          "text": [
            "\n",
            "*** Feature extraction finished ***\n",
            "features shape is : (6, 389)\n",
            "number of windows : 6\n",
            "number of features 389\n",
            "data shape before extracting features (6290,)\n",
            "*** Feature extraction started ***\n"
          ]
        },
        {
          "output_type": "display_data",
          "data": {
            "text/plain": [
              "<IPython.core.display.HTML object>"
            ],
            "text/html": [
              "\n",
              "              <p>\n",
              "                  Progress: 100% Complete\n",
              "              <p/>            \n",
              "              <progress\n",
              "                  value='6'\n",
              "                  max='6',\n",
              "                  style='width: 25%',\n",
              "              >\n",
              "                  6\n",
              "              </progress>\n",
              "\n",
              "    "
            ]
          },
          "metadata": {}
        },
        {
          "output_type": "stream",
          "name": "stdout",
          "text": [
            "\n",
            "*** Feature extraction finished ***\n",
            "features shape is : (6, 389)\n",
            "number of windows : 6\n",
            "number of features 389\n",
            "data shape before extracting features (6290,)\n",
            "*** Feature extraction started ***\n"
          ]
        },
        {
          "output_type": "display_data",
          "data": {
            "text/plain": [
              "<IPython.core.display.HTML object>"
            ],
            "text/html": [
              "\n",
              "              <p>\n",
              "                  Progress: 100% Complete\n",
              "              <p/>            \n",
              "              <progress\n",
              "                  value='6'\n",
              "                  max='6',\n",
              "                  style='width: 25%',\n",
              "              >\n",
              "                  6\n",
              "              </progress>\n",
              "\n",
              "    "
            ]
          },
          "metadata": {}
        },
        {
          "output_type": "stream",
          "name": "stdout",
          "text": [
            "\n",
            "*** Feature extraction finished ***\n",
            "features shape is : (6, 389)\n",
            "number of windows : 6\n",
            "number of features 389\n",
            "data shape before extracting features (6290,)\n",
            "*** Feature extraction started ***\n"
          ]
        },
        {
          "output_type": "display_data",
          "data": {
            "text/plain": [
              "<IPython.core.display.HTML object>"
            ],
            "text/html": [
              "\n",
              "              <p>\n",
              "                  Progress: 100% Complete\n",
              "              <p/>            \n",
              "              <progress\n",
              "                  value='6'\n",
              "                  max='6',\n",
              "                  style='width: 25%',\n",
              "              >\n",
              "                  6\n",
              "              </progress>\n",
              "\n",
              "    "
            ]
          },
          "metadata": {}
        },
        {
          "output_type": "stream",
          "name": "stdout",
          "text": [
            "\n",
            "*** Feature extraction finished ***\n",
            "features shape is : (6, 389)\n",
            "number of windows : 6\n",
            "number of features 389\n",
            "data shape before extracting features (6290,)\n",
            "*** Feature extraction started ***\n"
          ]
        },
        {
          "output_type": "display_data",
          "data": {
            "text/plain": [
              "<IPython.core.display.HTML object>"
            ],
            "text/html": [
              "\n",
              "              <p>\n",
              "                  Progress: 100% Complete\n",
              "              <p/>            \n",
              "              <progress\n",
              "                  value='6'\n",
              "                  max='6',\n",
              "                  style='width: 25%',\n",
              "              >\n",
              "                  6\n",
              "              </progress>\n",
              "\n",
              "    "
            ]
          },
          "metadata": {}
        },
        {
          "output_type": "stream",
          "name": "stdout",
          "text": [
            "\n",
            "*** Feature extraction finished ***\n",
            "features shape is : (6, 389)\n",
            "number of windows : 6\n",
            "number of features 389\n",
            "data shape before extracting features (6290,)\n",
            "*** Feature extraction started ***\n"
          ]
        },
        {
          "output_type": "display_data",
          "data": {
            "text/plain": [
              "<IPython.core.display.HTML object>"
            ],
            "text/html": [
              "\n",
              "              <p>\n",
              "                  Progress: 100% Complete\n",
              "              <p/>            \n",
              "              <progress\n",
              "                  value='6'\n",
              "                  max='6',\n",
              "                  style='width: 25%',\n",
              "              >\n",
              "                  6\n",
              "              </progress>\n",
              "\n",
              "    "
            ]
          },
          "metadata": {}
        },
        {
          "output_type": "stream",
          "name": "stdout",
          "text": [
            "\n",
            "*** Feature extraction finished ***\n",
            "features shape is : (6, 389)\n",
            "number of windows : 6\n",
            "number of features 389\n",
            "data shape before extracting features (6290,)\n",
            "*** Feature extraction started ***\n"
          ]
        },
        {
          "output_type": "display_data",
          "data": {
            "text/plain": [
              "<IPython.core.display.HTML object>"
            ],
            "text/html": [
              "\n",
              "              <p>\n",
              "                  Progress: 100% Complete\n",
              "              <p/>            \n",
              "              <progress\n",
              "                  value='6'\n",
              "                  max='6',\n",
              "                  style='width: 25%',\n",
              "              >\n",
              "                  6\n",
              "              </progress>\n",
              "\n",
              "    "
            ]
          },
          "metadata": {}
        },
        {
          "output_type": "stream",
          "name": "stdout",
          "text": [
            "\n",
            "*** Feature extraction finished ***\n",
            "features shape is : (6, 389)\n",
            "number of windows : 6\n",
            "number of features 389\n",
            "data shape before extracting features (6290,)\n",
            "*** Feature extraction started ***\n"
          ]
        },
        {
          "output_type": "display_data",
          "data": {
            "text/plain": [
              "<IPython.core.display.HTML object>"
            ],
            "text/html": [
              "\n",
              "              <p>\n",
              "                  Progress: 100% Complete\n",
              "              <p/>            \n",
              "              <progress\n",
              "                  value='6'\n",
              "                  max='6',\n",
              "                  style='width: 25%',\n",
              "              >\n",
              "                  6\n",
              "              </progress>\n",
              "\n",
              "    "
            ]
          },
          "metadata": {}
        },
        {
          "output_type": "stream",
          "name": "stdout",
          "text": [
            "\n",
            "*** Feature extraction finished ***\n",
            "features shape is : (6, 389)\n",
            "number of windows : 6\n",
            "number of features 389\n",
            "data shape before extracting features (6290,)\n",
            "*** Feature extraction started ***\n"
          ]
        },
        {
          "output_type": "display_data",
          "data": {
            "text/plain": [
              "<IPython.core.display.HTML object>"
            ],
            "text/html": [
              "\n",
              "              <p>\n",
              "                  Progress: 100% Complete\n",
              "              <p/>            \n",
              "              <progress\n",
              "                  value='6'\n",
              "                  max='6',\n",
              "                  style='width: 25%',\n",
              "              >\n",
              "                  6\n",
              "              </progress>\n",
              "\n",
              "    "
            ]
          },
          "metadata": {}
        },
        {
          "output_type": "stream",
          "name": "stdout",
          "text": [
            "\n",
            "*** Feature extraction finished ***\n",
            "features shape is : (6, 389)\n",
            "number of windows : 6\n",
            "number of features 389\n",
            "data shape before extracting features (6290,)\n",
            "*** Feature extraction started ***\n"
          ]
        },
        {
          "output_type": "display_data",
          "data": {
            "text/plain": [
              "<IPython.core.display.HTML object>"
            ],
            "text/html": [
              "\n",
              "              <p>\n",
              "                  Progress: 100% Complete\n",
              "              <p/>            \n",
              "              <progress\n",
              "                  value='6'\n",
              "                  max='6',\n",
              "                  style='width: 25%',\n",
              "              >\n",
              "                  6\n",
              "              </progress>\n",
              "\n",
              "    "
            ]
          },
          "metadata": {}
        },
        {
          "output_type": "stream",
          "name": "stdout",
          "text": [
            "\n",
            "*** Feature extraction finished ***\n",
            "features shape is : (6, 389)\n",
            "number of windows : 6\n",
            "number of features 389\n",
            "data shape before extracting features (6290,)\n",
            "*** Feature extraction started ***\n"
          ]
        },
        {
          "output_type": "display_data",
          "data": {
            "text/plain": [
              "<IPython.core.display.HTML object>"
            ],
            "text/html": [
              "\n",
              "              <p>\n",
              "                  Progress: 100% Complete\n",
              "              <p/>            \n",
              "              <progress\n",
              "                  value='6'\n",
              "                  max='6',\n",
              "                  style='width: 25%',\n",
              "              >\n",
              "                  6\n",
              "              </progress>\n",
              "\n",
              "    "
            ]
          },
          "metadata": {}
        },
        {
          "output_type": "stream",
          "name": "stdout",
          "text": [
            "\n",
            "*** Feature extraction finished ***\n",
            "features shape is : (6, 389)\n",
            "number of windows : 6\n",
            "number of features 389\n",
            "data shape before extracting features (6290,)\n",
            "*** Feature extraction started ***\n"
          ]
        },
        {
          "output_type": "display_data",
          "data": {
            "text/plain": [
              "<IPython.core.display.HTML object>"
            ],
            "text/html": [
              "\n",
              "              <p>\n",
              "                  Progress: 100% Complete\n",
              "              <p/>            \n",
              "              <progress\n",
              "                  value='6'\n",
              "                  max='6',\n",
              "                  style='width: 25%',\n",
              "              >\n",
              "                  6\n",
              "              </progress>\n",
              "\n",
              "    "
            ]
          },
          "metadata": {}
        },
        {
          "output_type": "stream",
          "name": "stdout",
          "text": [
            "\n",
            "*** Feature extraction finished ***\n",
            "features shape is : (6, 389)\n",
            "number of windows : 6\n",
            "number of features 389\n",
            "data shape before extracting features (6290,)\n",
            "*** Feature extraction started ***\n"
          ]
        },
        {
          "output_type": "display_data",
          "data": {
            "text/plain": [
              "<IPython.core.display.HTML object>"
            ],
            "text/html": [
              "\n",
              "              <p>\n",
              "                  Progress: 100% Complete\n",
              "              <p/>            \n",
              "              <progress\n",
              "                  value='6'\n",
              "                  max='6',\n",
              "                  style='width: 25%',\n",
              "              >\n",
              "                  6\n",
              "              </progress>\n",
              "\n",
              "    "
            ]
          },
          "metadata": {}
        },
        {
          "output_type": "stream",
          "name": "stdout",
          "text": [
            "\n",
            "*** Feature extraction finished ***\n",
            "features shape is : (6, 389)\n",
            "number of windows : 6\n",
            "number of features 389\n",
            "data shape before extracting features (6290,)\n",
            "*** Feature extraction started ***\n"
          ]
        },
        {
          "output_type": "display_data",
          "data": {
            "text/plain": [
              "<IPython.core.display.HTML object>"
            ],
            "text/html": [
              "\n",
              "              <p>\n",
              "                  Progress: 100% Complete\n",
              "              <p/>            \n",
              "              <progress\n",
              "                  value='6'\n",
              "                  max='6',\n",
              "                  style='width: 25%',\n",
              "              >\n",
              "                  6\n",
              "              </progress>\n",
              "\n",
              "    "
            ]
          },
          "metadata": {}
        },
        {
          "output_type": "stream",
          "name": "stdout",
          "text": [
            "\n",
            "*** Feature extraction finished ***\n",
            "features shape is : (6, 389)\n",
            "number of windows : 6\n",
            "number of features 389\n",
            "data shape before extracting features (6290,)\n",
            "*** Feature extraction started ***\n"
          ]
        },
        {
          "output_type": "display_data",
          "data": {
            "text/plain": [
              "<IPython.core.display.HTML object>"
            ],
            "text/html": [
              "\n",
              "              <p>\n",
              "                  Progress: 100% Complete\n",
              "              <p/>            \n",
              "              <progress\n",
              "                  value='6'\n",
              "                  max='6',\n",
              "                  style='width: 25%',\n",
              "              >\n",
              "                  6\n",
              "              </progress>\n",
              "\n",
              "    "
            ]
          },
          "metadata": {}
        },
        {
          "output_type": "stream",
          "name": "stdout",
          "text": [
            "\n",
            "*** Feature extraction finished ***\n",
            "features shape is : (6, 389)\n",
            "number of windows : 6\n",
            "number of features 389\n",
            "data shape before extracting features (6290,)\n",
            "*** Feature extraction started ***\n"
          ]
        },
        {
          "output_type": "display_data",
          "data": {
            "text/plain": [
              "<IPython.core.display.HTML object>"
            ],
            "text/html": [
              "\n",
              "              <p>\n",
              "                  Progress: 100% Complete\n",
              "              <p/>            \n",
              "              <progress\n",
              "                  value='6'\n",
              "                  max='6',\n",
              "                  style='width: 25%',\n",
              "              >\n",
              "                  6\n",
              "              </progress>\n",
              "\n",
              "    "
            ]
          },
          "metadata": {}
        },
        {
          "output_type": "stream",
          "name": "stdout",
          "text": [
            "\n",
            "*** Feature extraction finished ***\n",
            "features shape is : (6, 389)\n",
            "number of windows : 6\n",
            "number of features 389\n",
            "data shape before extracting features (6290,)\n",
            "*** Feature extraction started ***\n"
          ]
        },
        {
          "output_type": "display_data",
          "data": {
            "text/plain": [
              "<IPython.core.display.HTML object>"
            ],
            "text/html": [
              "\n",
              "              <p>\n",
              "                  Progress: 100% Complete\n",
              "              <p/>            \n",
              "              <progress\n",
              "                  value='6'\n",
              "                  max='6',\n",
              "                  style='width: 25%',\n",
              "              >\n",
              "                  6\n",
              "              </progress>\n",
              "\n",
              "    "
            ]
          },
          "metadata": {}
        },
        {
          "output_type": "stream",
          "name": "stdout",
          "text": [
            "\n",
            "*** Feature extraction finished ***\n",
            "features shape is : (6, 389)\n",
            "number of windows : 6\n",
            "number of features 389\n",
            "data shape before extracting features (6290,)\n",
            "*** Feature extraction started ***\n"
          ]
        },
        {
          "output_type": "display_data",
          "data": {
            "text/plain": [
              "<IPython.core.display.HTML object>"
            ],
            "text/html": [
              "\n",
              "              <p>\n",
              "                  Progress: 100% Complete\n",
              "              <p/>            \n",
              "              <progress\n",
              "                  value='6'\n",
              "                  max='6',\n",
              "                  style='width: 25%',\n",
              "              >\n",
              "                  6\n",
              "              </progress>\n",
              "\n",
              "    "
            ]
          },
          "metadata": {}
        },
        {
          "output_type": "stream",
          "name": "stdout",
          "text": [
            "\n",
            "*** Feature extraction finished ***\n",
            "features shape is : (6, 389)\n",
            "number of windows : 6\n",
            "number of features 389\n",
            "data shape before extracting features (6290,)\n",
            "*** Feature extraction started ***\n"
          ]
        },
        {
          "output_type": "display_data",
          "data": {
            "text/plain": [
              "<IPython.core.display.HTML object>"
            ],
            "text/html": [
              "\n",
              "              <p>\n",
              "                  Progress: 100% Complete\n",
              "              <p/>            \n",
              "              <progress\n",
              "                  value='6'\n",
              "                  max='6',\n",
              "                  style='width: 25%',\n",
              "              >\n",
              "                  6\n",
              "              </progress>\n",
              "\n",
              "    "
            ]
          },
          "metadata": {}
        },
        {
          "output_type": "stream",
          "name": "stdout",
          "text": [
            "\n",
            "*** Feature extraction finished ***\n",
            "features shape is : (6, 389)\n",
            "number of windows : 6\n",
            "number of features 389\n",
            "data shape before extracting features (6290,)\n",
            "*** Feature extraction started ***\n"
          ]
        },
        {
          "output_type": "display_data",
          "data": {
            "text/plain": [
              "<IPython.core.display.HTML object>"
            ],
            "text/html": [
              "\n",
              "              <p>\n",
              "                  Progress: 100% Complete\n",
              "              <p/>            \n",
              "              <progress\n",
              "                  value='6'\n",
              "                  max='6',\n",
              "                  style='width: 25%',\n",
              "              >\n",
              "                  6\n",
              "              </progress>\n",
              "\n",
              "    "
            ]
          },
          "metadata": {}
        },
        {
          "output_type": "stream",
          "name": "stdout",
          "text": [
            "\n",
            "*** Feature extraction finished ***\n",
            "features shape is : (6, 389)\n",
            "number of windows : 6\n",
            "number of features 389\n",
            "data shape before extracting features (6290,)\n",
            "*** Feature extraction started ***\n"
          ]
        },
        {
          "output_type": "display_data",
          "data": {
            "text/plain": [
              "<IPython.core.display.HTML object>"
            ],
            "text/html": [
              "\n",
              "              <p>\n",
              "                  Progress: 100% Complete\n",
              "              <p/>            \n",
              "              <progress\n",
              "                  value='6'\n",
              "                  max='6',\n",
              "                  style='width: 25%',\n",
              "              >\n",
              "                  6\n",
              "              </progress>\n",
              "\n",
              "    "
            ]
          },
          "metadata": {}
        },
        {
          "output_type": "stream",
          "name": "stdout",
          "text": [
            "\n",
            "*** Feature extraction finished ***\n",
            "features shape is : (6, 389)\n",
            "number of windows : 6\n",
            "number of features 389\n",
            "data shape before extracting features (6290,)\n",
            "*** Feature extraction started ***\n"
          ]
        },
        {
          "output_type": "display_data",
          "data": {
            "text/plain": [
              "<IPython.core.display.HTML object>"
            ],
            "text/html": [
              "\n",
              "              <p>\n",
              "                  Progress: 100% Complete\n",
              "              <p/>            \n",
              "              <progress\n",
              "                  value='6'\n",
              "                  max='6',\n",
              "                  style='width: 25%',\n",
              "              >\n",
              "                  6\n",
              "              </progress>\n",
              "\n",
              "    "
            ]
          },
          "metadata": {}
        },
        {
          "output_type": "stream",
          "name": "stdout",
          "text": [
            "\n",
            "*** Feature extraction finished ***\n",
            "features shape is : (6, 389)\n",
            "number of windows : 6\n",
            "number of features 389\n",
            "data shape before extracting features (6290,)\n",
            "*** Feature extraction started ***\n"
          ]
        },
        {
          "output_type": "display_data",
          "data": {
            "text/plain": [
              "<IPython.core.display.HTML object>"
            ],
            "text/html": [
              "\n",
              "              <p>\n",
              "                  Progress: 100% Complete\n",
              "              <p/>            \n",
              "              <progress\n",
              "                  value='6'\n",
              "                  max='6',\n",
              "                  style='width: 25%',\n",
              "              >\n",
              "                  6\n",
              "              </progress>\n",
              "\n",
              "    "
            ]
          },
          "metadata": {}
        },
        {
          "output_type": "stream",
          "name": "stdout",
          "text": [
            "\n",
            "*** Feature extraction finished ***\n",
            "features shape is : (6, 389)\n",
            "number of windows : 6\n",
            "number of features 389\n",
            "data shape before extracting features (6290,)\n",
            "*** Feature extraction started ***\n"
          ]
        },
        {
          "output_type": "display_data",
          "data": {
            "text/plain": [
              "<IPython.core.display.HTML object>"
            ],
            "text/html": [
              "\n",
              "              <p>\n",
              "                  Progress: 100% Complete\n",
              "              <p/>            \n",
              "              <progress\n",
              "                  value='6'\n",
              "                  max='6',\n",
              "                  style='width: 25%',\n",
              "              >\n",
              "                  6\n",
              "              </progress>\n",
              "\n",
              "    "
            ]
          },
          "metadata": {}
        },
        {
          "output_type": "stream",
          "name": "stdout",
          "text": [
            "\n",
            "*** Feature extraction finished ***\n",
            "features shape is : (6, 389)\n",
            "number of windows : 6\n",
            "number of features 389\n",
            "data shape before extracting features (6290,)\n",
            "*** Feature extraction started ***\n"
          ]
        },
        {
          "output_type": "display_data",
          "data": {
            "text/plain": [
              "<IPython.core.display.HTML object>"
            ],
            "text/html": [
              "\n",
              "              <p>\n",
              "                  Progress: 100% Complete\n",
              "              <p/>            \n",
              "              <progress\n",
              "                  value='6'\n",
              "                  max='6',\n",
              "                  style='width: 25%',\n",
              "              >\n",
              "                  6\n",
              "              </progress>\n",
              "\n",
              "    "
            ]
          },
          "metadata": {}
        },
        {
          "output_type": "stream",
          "name": "stdout",
          "text": [
            "\n",
            "*** Feature extraction finished ***\n",
            "features shape is : (6, 389)\n",
            "number of windows : 6\n",
            "number of features 389\n",
            "data shape before extracting features (6290,)\n",
            "*** Feature extraction started ***\n"
          ]
        },
        {
          "output_type": "display_data",
          "data": {
            "text/plain": [
              "<IPython.core.display.HTML object>"
            ],
            "text/html": [
              "\n",
              "              <p>\n",
              "                  Progress: 100% Complete\n",
              "              <p/>            \n",
              "              <progress\n",
              "                  value='6'\n",
              "                  max='6',\n",
              "                  style='width: 25%',\n",
              "              >\n",
              "                  6\n",
              "              </progress>\n",
              "\n",
              "    "
            ]
          },
          "metadata": {}
        },
        {
          "output_type": "stream",
          "name": "stdout",
          "text": [
            "\n",
            "*** Feature extraction finished ***\n",
            "features shape is : (6, 389)\n",
            "number of windows : 6\n",
            "number of features 389\n",
            "data shape before extracting features (6290,)\n",
            "*** Feature extraction started ***\n"
          ]
        },
        {
          "output_type": "display_data",
          "data": {
            "text/plain": [
              "<IPython.core.display.HTML object>"
            ],
            "text/html": [
              "\n",
              "              <p>\n",
              "                  Progress: 100% Complete\n",
              "              <p/>            \n",
              "              <progress\n",
              "                  value='6'\n",
              "                  max='6',\n",
              "                  style='width: 25%',\n",
              "              >\n",
              "                  6\n",
              "              </progress>\n",
              "\n",
              "    "
            ]
          },
          "metadata": {}
        },
        {
          "output_type": "stream",
          "name": "stdout",
          "text": [
            "\n",
            "*** Feature extraction finished ***\n",
            "features shape is : (6, 389)\n",
            "number of windows : 6\n",
            "number of features 389\n",
            "data shape before extracting features (6290,)\n",
            "*** Feature extraction started ***\n"
          ]
        },
        {
          "output_type": "display_data",
          "data": {
            "text/plain": [
              "<IPython.core.display.HTML object>"
            ],
            "text/html": [
              "\n",
              "              <p>\n",
              "                  Progress: 100% Complete\n",
              "              <p/>            \n",
              "              <progress\n",
              "                  value='6'\n",
              "                  max='6',\n",
              "                  style='width: 25%',\n",
              "              >\n",
              "                  6\n",
              "              </progress>\n",
              "\n",
              "    "
            ]
          },
          "metadata": {}
        },
        {
          "output_type": "stream",
          "name": "stdout",
          "text": [
            "\n",
            "*** Feature extraction finished ***\n",
            "features shape is : (6, 389)\n",
            "number of windows : 6\n",
            "number of features 389\n",
            "data shape before extracting features (6290,)\n",
            "*** Feature extraction started ***\n"
          ]
        },
        {
          "output_type": "display_data",
          "data": {
            "text/plain": [
              "<IPython.core.display.HTML object>"
            ],
            "text/html": [
              "\n",
              "              <p>\n",
              "                  Progress: 100% Complete\n",
              "              <p/>            \n",
              "              <progress\n",
              "                  value='6'\n",
              "                  max='6',\n",
              "                  style='width: 25%',\n",
              "              >\n",
              "                  6\n",
              "              </progress>\n",
              "\n",
              "    "
            ]
          },
          "metadata": {}
        },
        {
          "output_type": "stream",
          "name": "stdout",
          "text": [
            "\n",
            "*** Feature extraction finished ***\n",
            "features shape is : (6, 389)\n",
            "number of windows : 6\n",
            "number of features 389\n",
            "data shape before extracting features (6290,)\n",
            "*** Feature extraction started ***\n"
          ]
        },
        {
          "output_type": "display_data",
          "data": {
            "text/plain": [
              "<IPython.core.display.HTML object>"
            ],
            "text/html": [
              "\n",
              "              <p>\n",
              "                  Progress: 100% Complete\n",
              "              <p/>            \n",
              "              <progress\n",
              "                  value='6'\n",
              "                  max='6',\n",
              "                  style='width: 25%',\n",
              "              >\n",
              "                  6\n",
              "              </progress>\n",
              "\n",
              "    "
            ]
          },
          "metadata": {}
        },
        {
          "output_type": "stream",
          "name": "stdout",
          "text": [
            "\n",
            "*** Feature extraction finished ***\n",
            "features shape is : (6, 389)\n",
            "number of windows : 6\n",
            "number of features 389\n",
            "data shape before extracting features (6290,)\n",
            "*** Feature extraction started ***\n"
          ]
        },
        {
          "output_type": "display_data",
          "data": {
            "text/plain": [
              "<IPython.core.display.HTML object>"
            ],
            "text/html": [
              "\n",
              "              <p>\n",
              "                  Progress: 100% Complete\n",
              "              <p/>            \n",
              "              <progress\n",
              "                  value='6'\n",
              "                  max='6',\n",
              "                  style='width: 25%',\n",
              "              >\n",
              "                  6\n",
              "              </progress>\n",
              "\n",
              "    "
            ]
          },
          "metadata": {}
        },
        {
          "output_type": "stream",
          "name": "stdout",
          "text": [
            "\n",
            "*** Feature extraction finished ***\n",
            "features shape is : (6, 389)\n",
            "number of windows : 6\n",
            "number of features 389\n",
            "data shape before extracting features (6290,)\n",
            "*** Feature extraction started ***\n"
          ]
        },
        {
          "output_type": "display_data",
          "data": {
            "text/plain": [
              "<IPython.core.display.HTML object>"
            ],
            "text/html": [
              "\n",
              "              <p>\n",
              "                  Progress: 100% Complete\n",
              "              <p/>            \n",
              "              <progress\n",
              "                  value='6'\n",
              "                  max='6',\n",
              "                  style='width: 25%',\n",
              "              >\n",
              "                  6\n",
              "              </progress>\n",
              "\n",
              "    "
            ]
          },
          "metadata": {}
        },
        {
          "output_type": "stream",
          "name": "stdout",
          "text": [
            "\n",
            "*** Feature extraction finished ***\n",
            "features shape is : (6, 389)\n",
            "number of windows : 6\n",
            "number of features 389\n",
            "data shape before extracting features (6290,)\n",
            "*** Feature extraction started ***\n"
          ]
        },
        {
          "output_type": "display_data",
          "data": {
            "text/plain": [
              "<IPython.core.display.HTML object>"
            ],
            "text/html": [
              "\n",
              "              <p>\n",
              "                  Progress: 100% Complete\n",
              "              <p/>            \n",
              "              <progress\n",
              "                  value='6'\n",
              "                  max='6',\n",
              "                  style='width: 25%',\n",
              "              >\n",
              "                  6\n",
              "              </progress>\n",
              "\n",
              "    "
            ]
          },
          "metadata": {}
        },
        {
          "output_type": "stream",
          "name": "stdout",
          "text": [
            "\n",
            "*** Feature extraction finished ***\n",
            "features shape is : (6, 389)\n",
            "number of windows : 6\n",
            "number of features 389\n",
            "data shape before extracting features (6290,)\n",
            "*** Feature extraction started ***\n"
          ]
        },
        {
          "output_type": "display_data",
          "data": {
            "text/plain": [
              "<IPython.core.display.HTML object>"
            ],
            "text/html": [
              "\n",
              "              <p>\n",
              "                  Progress: 100% Complete\n",
              "              <p/>            \n",
              "              <progress\n",
              "                  value='6'\n",
              "                  max='6',\n",
              "                  style='width: 25%',\n",
              "              >\n",
              "                  6\n",
              "              </progress>\n",
              "\n",
              "    "
            ]
          },
          "metadata": {}
        },
        {
          "output_type": "stream",
          "name": "stdout",
          "text": [
            "\n",
            "*** Feature extraction finished ***\n",
            "features shape is : (6, 389)\n",
            "number of windows : 6\n",
            "number of features 389\n",
            "data shape before extracting features (6290,)\n",
            "*** Feature extraction started ***\n"
          ]
        },
        {
          "output_type": "display_data",
          "data": {
            "text/plain": [
              "<IPython.core.display.HTML object>"
            ],
            "text/html": [
              "\n",
              "              <p>\n",
              "                  Progress: 100% Complete\n",
              "              <p/>            \n",
              "              <progress\n",
              "                  value='6'\n",
              "                  max='6',\n",
              "                  style='width: 25%',\n",
              "              >\n",
              "                  6\n",
              "              </progress>\n",
              "\n",
              "    "
            ]
          },
          "metadata": {}
        },
        {
          "output_type": "stream",
          "name": "stdout",
          "text": [
            "\n",
            "*** Feature extraction finished ***\n",
            "features shape is : (6, 389)\n",
            "number of windows : 6\n",
            "number of features 389\n",
            "data shape before extracting features (6290,)\n",
            "*** Feature extraction started ***\n"
          ]
        },
        {
          "output_type": "display_data",
          "data": {
            "text/plain": [
              "<IPython.core.display.HTML object>"
            ],
            "text/html": [
              "\n",
              "              <p>\n",
              "                  Progress: 100% Complete\n",
              "              <p/>            \n",
              "              <progress\n",
              "                  value='6'\n",
              "                  max='6',\n",
              "                  style='width: 25%',\n",
              "              >\n",
              "                  6\n",
              "              </progress>\n",
              "\n",
              "    "
            ]
          },
          "metadata": {}
        },
        {
          "output_type": "stream",
          "name": "stdout",
          "text": [
            "\n",
            "*** Feature extraction finished ***\n",
            "features shape is : (6, 389)\n",
            "number of windows : 6\n",
            "number of features 389\n",
            "data shape before extracting features (6290,)\n",
            "*** Feature extraction started ***\n"
          ]
        },
        {
          "output_type": "display_data",
          "data": {
            "text/plain": [
              "<IPython.core.display.HTML object>"
            ],
            "text/html": [
              "\n",
              "              <p>\n",
              "                  Progress: 100% Complete\n",
              "              <p/>            \n",
              "              <progress\n",
              "                  value='6'\n",
              "                  max='6',\n",
              "                  style='width: 25%',\n",
              "              >\n",
              "                  6\n",
              "              </progress>\n",
              "\n",
              "    "
            ]
          },
          "metadata": {}
        },
        {
          "output_type": "stream",
          "name": "stdout",
          "text": [
            "\n",
            "*** Feature extraction finished ***\n",
            "features shape is : (6, 389)\n",
            "number of windows : 6\n",
            "number of features 389\n",
            "data shape before extracting features (6290,)\n",
            "*** Feature extraction started ***\n"
          ]
        },
        {
          "output_type": "display_data",
          "data": {
            "text/plain": [
              "<IPython.core.display.HTML object>"
            ],
            "text/html": [
              "\n",
              "              <p>\n",
              "                  Progress: 100% Complete\n",
              "              <p/>            \n",
              "              <progress\n",
              "                  value='6'\n",
              "                  max='6',\n",
              "                  style='width: 25%',\n",
              "              >\n",
              "                  6\n",
              "              </progress>\n",
              "\n",
              "    "
            ]
          },
          "metadata": {}
        },
        {
          "output_type": "stream",
          "name": "stdout",
          "text": [
            "\n",
            "*** Feature extraction finished ***\n",
            "features shape is : (6, 389)\n",
            "number of windows : 6\n",
            "number of features 389\n",
            "data shape before extracting features (6290,)\n",
            "*** Feature extraction started ***\n"
          ]
        },
        {
          "output_type": "display_data",
          "data": {
            "text/plain": [
              "<IPython.core.display.HTML object>"
            ],
            "text/html": [
              "\n",
              "              <p>\n",
              "                  Progress: 100% Complete\n",
              "              <p/>            \n",
              "              <progress\n",
              "                  value='6'\n",
              "                  max='6',\n",
              "                  style='width: 25%',\n",
              "              >\n",
              "                  6\n",
              "              </progress>\n",
              "\n",
              "    "
            ]
          },
          "metadata": {}
        },
        {
          "output_type": "stream",
          "name": "stdout",
          "text": [
            "\n",
            "*** Feature extraction finished ***\n",
            "features shape is : (6, 389)\n",
            "number of windows : 6\n",
            "number of features 389\n",
            "data shape before extracting features (6290,)\n",
            "*** Feature extraction started ***\n"
          ]
        },
        {
          "output_type": "display_data",
          "data": {
            "text/plain": [
              "<IPython.core.display.HTML object>"
            ],
            "text/html": [
              "\n",
              "              <p>\n",
              "                  Progress: 100% Complete\n",
              "              <p/>            \n",
              "              <progress\n",
              "                  value='6'\n",
              "                  max='6',\n",
              "                  style='width: 25%',\n",
              "              >\n",
              "                  6\n",
              "              </progress>\n",
              "\n",
              "    "
            ]
          },
          "metadata": {}
        },
        {
          "output_type": "stream",
          "name": "stdout",
          "text": [
            "\n",
            "*** Feature extraction finished ***\n",
            "features shape is : (6, 389)\n",
            "number of windows : 6\n",
            "number of features 389\n",
            "data shape before extracting features (6290,)\n",
            "*** Feature extraction started ***\n"
          ]
        },
        {
          "output_type": "display_data",
          "data": {
            "text/plain": [
              "<IPython.core.display.HTML object>"
            ],
            "text/html": [
              "\n",
              "              <p>\n",
              "                  Progress: 100% Complete\n",
              "              <p/>            \n",
              "              <progress\n",
              "                  value='6'\n",
              "                  max='6',\n",
              "                  style='width: 25%',\n",
              "              >\n",
              "                  6\n",
              "              </progress>\n",
              "\n",
              "    "
            ]
          },
          "metadata": {}
        },
        {
          "output_type": "stream",
          "name": "stdout",
          "text": [
            "\n",
            "*** Feature extraction finished ***\n",
            "features shape is : (6, 389)\n",
            "number of windows : 6\n",
            "number of features 389\n",
            "data shape before extracting features (6290,)\n",
            "*** Feature extraction started ***\n"
          ]
        },
        {
          "output_type": "display_data",
          "data": {
            "text/plain": [
              "<IPython.core.display.HTML object>"
            ],
            "text/html": [
              "\n",
              "              <p>\n",
              "                  Progress: 100% Complete\n",
              "              <p/>            \n",
              "              <progress\n",
              "                  value='6'\n",
              "                  max='6',\n",
              "                  style='width: 25%',\n",
              "              >\n",
              "                  6\n",
              "              </progress>\n",
              "\n",
              "    "
            ]
          },
          "metadata": {}
        },
        {
          "output_type": "stream",
          "name": "stdout",
          "text": [
            "\n",
            "*** Feature extraction finished ***\n",
            "features shape is : (6, 389)\n",
            "number of windows : 6\n",
            "number of features 389\n",
            "data shape before extracting features (6290,)\n",
            "*** Feature extraction started ***\n"
          ]
        },
        {
          "output_type": "display_data",
          "data": {
            "text/plain": [
              "<IPython.core.display.HTML object>"
            ],
            "text/html": [
              "\n",
              "              <p>\n",
              "                  Progress: 100% Complete\n",
              "              <p/>            \n",
              "              <progress\n",
              "                  value='6'\n",
              "                  max='6',\n",
              "                  style='width: 25%',\n",
              "              >\n",
              "                  6\n",
              "              </progress>\n",
              "\n",
              "    "
            ]
          },
          "metadata": {}
        },
        {
          "output_type": "stream",
          "name": "stdout",
          "text": [
            "\n",
            "*** Feature extraction finished ***\n",
            "features shape is : (6, 389)\n",
            "number of windows : 6\n",
            "number of features 389\n",
            "data shape before extracting features (6290,)\n",
            "*** Feature extraction started ***\n"
          ]
        },
        {
          "output_type": "display_data",
          "data": {
            "text/plain": [
              "<IPython.core.display.HTML object>"
            ],
            "text/html": [
              "\n",
              "              <p>\n",
              "                  Progress: 100% Complete\n",
              "              <p/>            \n",
              "              <progress\n",
              "                  value='6'\n",
              "                  max='6',\n",
              "                  style='width: 25%',\n",
              "              >\n",
              "                  6\n",
              "              </progress>\n",
              "\n",
              "    "
            ]
          },
          "metadata": {}
        },
        {
          "output_type": "stream",
          "name": "stdout",
          "text": [
            "\n",
            "*** Feature extraction finished ***\n",
            "features shape is : (6, 389)\n",
            "number of windows : 6\n",
            "number of features 389\n",
            "data shape before extracting features (6290,)\n",
            "*** Feature extraction started ***\n"
          ]
        },
        {
          "output_type": "display_data",
          "data": {
            "text/plain": [
              "<IPython.core.display.HTML object>"
            ],
            "text/html": [
              "\n",
              "              <p>\n",
              "                  Progress: 100% Complete\n",
              "              <p/>            \n",
              "              <progress\n",
              "                  value='6'\n",
              "                  max='6',\n",
              "                  style='width: 25%',\n",
              "              >\n",
              "                  6\n",
              "              </progress>\n",
              "\n",
              "    "
            ]
          },
          "metadata": {}
        },
        {
          "output_type": "stream",
          "name": "stdout",
          "text": [
            "\n",
            "*** Feature extraction finished ***\n",
            "features shape is : (6, 389)\n",
            "number of windows : 6\n",
            "number of features 389\n",
            "data shape before extracting features (6290,)\n",
            "*** Feature extraction started ***\n"
          ]
        },
        {
          "output_type": "display_data",
          "data": {
            "text/plain": [
              "<IPython.core.display.HTML object>"
            ],
            "text/html": [
              "\n",
              "              <p>\n",
              "                  Progress: 100% Complete\n",
              "              <p/>            \n",
              "              <progress\n",
              "                  value='6'\n",
              "                  max='6',\n",
              "                  style='width: 25%',\n",
              "              >\n",
              "                  6\n",
              "              </progress>\n",
              "\n",
              "    "
            ]
          },
          "metadata": {}
        },
        {
          "output_type": "stream",
          "name": "stdout",
          "text": [
            "\n",
            "*** Feature extraction finished ***\n",
            "features shape is : (6, 389)\n",
            "number of windows : 6\n",
            "number of features 389\n",
            "data shape before extracting features (6290,)\n",
            "*** Feature extraction started ***\n"
          ]
        },
        {
          "output_type": "display_data",
          "data": {
            "text/plain": [
              "<IPython.core.display.HTML object>"
            ],
            "text/html": [
              "\n",
              "              <p>\n",
              "                  Progress: 100% Complete\n",
              "              <p/>            \n",
              "              <progress\n",
              "                  value='6'\n",
              "                  max='6',\n",
              "                  style='width: 25%',\n",
              "              >\n",
              "                  6\n",
              "              </progress>\n",
              "\n",
              "    "
            ]
          },
          "metadata": {}
        },
        {
          "output_type": "stream",
          "name": "stdout",
          "text": [
            "\n",
            "*** Feature extraction finished ***\n",
            "features shape is : (6, 389)\n",
            "number of windows : 6\n",
            "number of features 389\n",
            "columns number 6.29\n",
            "                                                     0  \\\n",
            "0    (6893388.0, 82793.0, 6893388.0, 485.2500533844...   \n",
            "1    (6774542.0, 82140.5, 6774542.0, 484.5065791901...   \n",
            "2    (6797216.0, 82302.0, 6797216.0, 485.1574847702...   \n",
            "3    (4743162.0, 57185.5, 4743162.0, 329.3391123895...   \n",
            "4    (2890036.0, 37992.5, 2890036.0, 250.7773833959...   \n",
            "..                                                 ...   \n",
            "402  (4880557.0, 58018.0, 4880557.0, 351.4311149321...   \n",
            "403  (3185183.0, 39472.5, 3185183.0, 238.1421833533...   \n",
            "404  (6068209.0, 77722.5, 6068209.0, 486.4282983661...   \n",
            "405  (6310609.0, 79140.0, 6310609.0, 522.2535300475...   \n",
            "406  (6246093.0, 78799.0, 6246093.0, 495.9825500516...   \n",
            "\n",
            "                                                     1  \\\n",
            "0    (6701879.0, 81679.0, 6701879.0, 525.1561958967...   \n",
            "1    (1424560.0, 17741.0, 1424560.0, 112.6529433649...   \n",
            "2    (1035457.0, 13305.5, 1035457.0, 85.09166966856...   \n",
            "3    (0.0, 0.0, 0.0, 0.0, 0.0, 0.0, 0.0, 0.0, 0.001...   \n",
            "4    (0.0, 0.0, 0.0, 0.0, 0.0, 0.0, 0.0, 0.0, 0.001...   \n",
            "..                                                 ...   \n",
            "402  (0.0, 0.0, 0.0, 0.0, 0.0, 0.0, 0.0, 0.0, 0.001...   \n",
            "403  (0.0, 0.0, 0.0, 0.0, 0.0, 0.0, 0.0, 0.0, 0.001...   \n",
            "404  (1075432.0, 15098.0, 1075432.0, 104.8448874498...   \n",
            "405  (1212944.0, 15993.5, 1212944.0, 103.1252407365...   \n",
            "406  (637390.0, 8782.0, 637390.0, 60.33227851080186...   \n",
            "\n",
            "                                                     2  \\\n",
            "0    (7583237.0, 86968.0, 7583237.0, 493.9986813019...   \n",
            "1    (0.0, 0.0, 0.0, 0.0, 0.0, 0.0, 0.0, 0.0, 0.001...   \n",
            "2    (0.0, 0.0, 0.0, 0.0, 0.0, 0.0, 0.0, 0.0, 0.001...   \n",
            "3    (0.0, 0.0, 0.0, 0.0, 0.0, 0.0, 0.0, 0.0, 0.001...   \n",
            "4    (0.0, 0.0, 0.0, 0.0, 0.0, 0.0, 0.0, 0.0, 0.001...   \n",
            "..                                                 ...   \n",
            "402  (0.0, 0.0, 0.0, 0.0, 0.0, 0.0, 0.0, 0.0, 0.001...   \n",
            "403  (0.0, 0.0, 0.0, 0.0, 0.0, 0.0, 0.0, 0.0, 0.001...   \n",
            "404  (0.0, 0.0, 0.0, 0.0, 0.0, 0.0, 0.0, 0.0, 0.001...   \n",
            "405  (0.0, 0.0, 0.0, 0.0, 0.0, 0.0, 0.0, 0.0, 0.001...   \n",
            "406  (0.0, 0.0, 0.0, 0.0, 0.0, 0.0, 0.0, 0.0, 0.001...   \n",
            "\n",
            "                                                     3  \\\n",
            "0    (960779.0, 11597.0, 960779.0, 71.4860514228558...   \n",
            "1    (0.0, 0.0, 0.0, 0.0, 0.0, 0.0, 0.0, 0.0, 0.001...   \n",
            "2    (0.0, 0.0, 0.0, 0.0, 0.0, 0.0, 0.0, 0.0, 0.001...   \n",
            "3    (0.0, 0.0, 0.0, 0.0, 0.0, 0.0, 0.0, 0.0, 0.001...   \n",
            "4    (0.0, 0.0, 0.0, 0.0, 0.0, 0.0, 0.0, 0.0, 0.001...   \n",
            "..                                                 ...   \n",
            "402  (0.0, 0.0, 0.0, 0.0, 0.0, 0.0, 0.0, 0.0, 0.001...   \n",
            "403  (0.0, 0.0, 0.0, 0.0, 0.0, 0.0, 0.0, 0.0, 0.001...   \n",
            "404  (0.0, 0.0, 0.0, 0.0, 0.0, 0.0, 0.0, 0.0, 0.001...   \n",
            "405  (0.0, 0.0, 0.0, 0.0, 0.0, 0.0, 0.0, 0.0, 0.001...   \n",
            "406  (0.0, 0.0, 0.0, 0.0, 0.0, 0.0, 0.0, 0.0, 0.001...   \n",
            "\n",
            "                                                     4  \\\n",
            "0    (0.0, 0.0, 0.0, 0.0, 0.0, 0.0, 0.0, 0.0, 0.001...   \n",
            "1    (0.0, 0.0, 0.0, 0.0, 0.0, 0.0, 0.0, 0.0, 0.001...   \n",
            "2    (0.0, 0.0, 0.0, 0.0, 0.0, 0.0, 0.0, 0.0, 0.001...   \n",
            "3    (0.0, 0.0, 0.0, 0.0, 0.0, 0.0, 0.0, 0.0, 0.001...   \n",
            "4    (0.0, 0.0, 0.0, 0.0, 0.0, 0.0, 0.0, 0.0, 0.001...   \n",
            "..                                                 ...   \n",
            "402  (0.0, 0.0, 0.0, 0.0, 0.0, 0.0, 0.0, 0.0, 0.001...   \n",
            "403  (0.0, 0.0, 0.0, 0.0, 0.0, 0.0, 0.0, 0.0, 0.001...   \n",
            "404  (0.0, 0.0, 0.0, 0.0, 0.0, 0.0, 0.0, 0.0, 0.001...   \n",
            "405  (0.0, 0.0, 0.0, 0.0, 0.0, 0.0, 0.0, 0.0, 0.001...   \n",
            "406  (0.0, 0.0, 0.0, 0.0, 0.0, 0.0, 0.0, 0.0, 0.001...   \n",
            "\n",
            "                                                     5  \n",
            "0    (0.0, 0.0, 0.0, 0.0, 0.0, 0.0, 0.0, 0.0, 0.001...  \n",
            "1    (0.0, 0.0, 0.0, 0.0, 0.0, 0.0, 0.0, 0.0, 0.001...  \n",
            "2    (0.0, 0.0, 0.0, 0.0, 0.0, 0.0, 0.0, 0.0, 0.001...  \n",
            "3    (0.0, 0.0, 0.0, 0.0, 0.0, 0.0, 0.0, 0.0, 0.001...  \n",
            "4    (0.0, 0.0, 0.0, 0.0, 0.0, 0.0, 0.0, 0.0, 0.001...  \n",
            "..                                                 ...  \n",
            "402  (0.0, 0.0, 0.0, 0.0, 0.0, 0.0, 0.0, 0.0, 0.001...  \n",
            "403  (0.0, 0.0, 0.0, 0.0, 0.0, 0.0, 0.0, 0.0, 0.001...  \n",
            "404  (0.0, 0.0, 0.0, 0.0, 0.0, 0.0, 0.0, 0.0, 0.001...  \n",
            "405  (0.0, 0.0, 0.0, 0.0, 0.0, 0.0, 0.0, 0.0, 0.001...  \n",
            "406  (0.0, 0.0, 0.0, 0.0, 0.0, 0.0, 0.0, 0.0, 0.001...  \n",
            "\n",
            "[407 rows x 6 columns]\n"
          ]
        }
      ],
      "source": [
        "def packer(data: pd.Series,window_size:int,feature_type=None):\n",
        "    print(\"data shape before extracting features\",data.shape)\n",
        "    cfg_file = tsfel.get_features_by_domain(feature_type)   # If no argument is passed retrieves all available features, else statistical,temporal,spectral,wavelet,information\n",
        "    X_train = tsfel.time_series_features_extractor(cfg_file,data.T, fs=1, window_size=window_size)    # Receives a time series sampled at 50 Hz, divides into windows of size 250 (i.e. 5 seconds) and extracts all features\n",
        "    print(\"features shape is :\",X_train.shape)\n",
        "    features = [tuple(row) for row in X_train.values]\n",
        "    print(\"number of windows :\",len(features))\n",
        "    print(\"number of features\",X_train.shape[1])\n",
        "    return features\n",
        "\n",
        "def featuremydata(data,cols,window,feature=None):\n",
        "  #packed = pd.DataFrame(columns = column)\n",
        "  X_train_sig = pd.DataFrame(data.T, index=[cols])\n",
        "  packed = X_train_sig.T.apply(packer,axis =1,feature_type=feature,window_size=window)\n",
        "  #print(\"packed is \",packed)\n",
        "  #print(packed.shape)                                                                                                                 #getting shape of data \n",
        "  sub = [[elem for elem in packed[index]] for index in packed.index[:]]\n",
        "  #print(\"sub  is :\",sub)                                                                                                                 #features of participant n,in the x window\n",
        "  #print(len(sub))                                                                                                                          #consider it the number of participants or given signals\n",
        "  print(\"columns number\",data.shape[1]/window)#window numbers\n",
        "  column = np.arange(int(data.shape[1]/window))\n",
        "  final = pd.DataFrame(sub,columns = column)\n",
        "  print(final)\n",
        "  return final\n",
        "def packer_cols(data: pd.Series,window_size:int,feature_type=None):\n",
        "    print(data.shape)\n",
        "    cfg_file = tsfel.get_features_by_domain(feature_type)                                                        # If no argument is passed retrieves all available features\n",
        "    X_train = tsfel.time_series_features_extractor(cfg_file,data.T, fs=1, window_size=window_size)    # Receives a time series sampled at 50 Hz, divides into windows of size 250 (i.e. 5 seconds) and extracts all features\n",
        "    print(X_train.shape)\n",
        "    return X_train.columns\n",
        "\n",
        "def trial (train,test,window_size):\n",
        "  f_cols=packer_cols(hrdata.iloc[1,2:-13],window_size)\n",
        "  print(\"features names is :\",f_cols)\n",
        "  cols=hrdata.columns[2:-13]\n",
        "  test=featuremydata(xtest1,cols,window_size)\n",
        "  train=featuremydata(xtrain1,cols,window_size)\n",
        "  return train,test,f_cols\n",
        "\n",
        "temporaltrain,temporaltest,f_cols=trial(xtrain1,xtest1,1000)\n",
        "#train.to_pickle(\"/content/drive/MyDrive/Colab Notebooks/hr(tuples)tsfel_temp'train'.pkl\")\n",
        "#test.to_pickle(\"/content/drive/MyDrive/Colab Notebooks/hr(tuples)tsfel_temp'test'.pkl\")\n",
        "#test.to_pickle(\"/content/drive/MyDrive/Colab Notebooks/hr(tuples)packked'test'.pkl\")"
      ]
    },
    {
      "cell_type": "code",
      "source": [
        "f_cols=packer_cols(hrdata.iloc[1,2:-13],1000)"
      ],
      "metadata": {
        "colab": {
          "base_uri": "https://localhost:8080/",
          "height": 157
        },
        "id": "bT50bf0YAoOf",
        "outputId": "219186f6-3548-44c6-d371-825beac317da"
      },
      "execution_count": null,
      "outputs": [
        {
          "output_type": "stream",
          "name": "stdout",
          "text": [
            "(6290,)\n",
            "*** Feature extraction started ***\n"
          ]
        },
        {
          "output_type": "display_data",
          "data": {
            "text/plain": [
              "<IPython.core.display.HTML object>"
            ],
            "text/html": [
              "\n",
              "              <p>\n",
              "                  Progress: 100% Complete\n",
              "              <p/>            \n",
              "              <progress\n",
              "                  value='6'\n",
              "                  max='6',\n",
              "                  style='width: 25%',\n",
              "              >\n",
              "                  6\n",
              "              </progress>\n",
              "\n",
              "    "
            ]
          },
          "metadata": {}
        },
        {
          "output_type": "stream",
          "name": "stdout",
          "text": [
            "\n",
            "*** Feature extraction finished ***\n",
            "(6, 389)\n"
          ]
        }
      ]
    },
    {
      "cell_type": "markdown",
      "source": [
        "3_run this to change shape"
      ],
      "metadata": {
        "id": "D9Xzxyj3Y9xL"
      }
    },
    {
      "cell_type": "code",
      "execution_count": null,
      "metadata": {
        "colab": {
          "base_uri": "https://localhost:8080/"
        },
        "id": "ZIO3EjMtmQzl",
        "outputId": "2b0945e3-fb9e-4630-a4a6-e22681b4df24"
      },
      "outputs": [
        {
          "output_type": "stream",
          "name": "stdout",
          "text": [
            "3d data but with tuples in cell (407, 1)\n",
            "3d data (407, 1, 389)\n",
            "final data shape prepared for learning (407, 389) 407\n",
            "3d data but with tuples in cell (55, 1)\n",
            "3d data (55, 1, 389)\n",
            "final data shape prepared for learning (55, 389) 55\n",
            "['Absolute energy', 'Area under the curve', 'Autocorrelation', 'Centroid', 'ECDF Percentile Count_0', 'ECDF Percentile Count_1', 'ECDF Percentile_0', 'ECDF Percentile_1', 'ECDF_0', 'ECDF_1', 'ECDF_2', 'ECDF_3', 'ECDF_4', 'ECDF_5', 'ECDF_6', 'ECDF_7', 'ECDF_8', 'ECDF_9', 'Entropy', 'FFT mean coefficient_0', 'FFT mean coefficient_1', 'FFT mean coefficient_10', 'FFT mean coefficient_100', 'FFT mean coefficient_101', 'FFT mean coefficient_102', 'FFT mean coefficient_103', 'FFT mean coefficient_104', 'FFT mean coefficient_105', 'FFT mean coefficient_106', 'FFT mean coefficient_107', 'FFT mean coefficient_108', 'FFT mean coefficient_109', 'FFT mean coefficient_11', 'FFT mean coefficient_110', 'FFT mean coefficient_111', 'FFT mean coefficient_112', 'FFT mean coefficient_113', 'FFT mean coefficient_114', 'FFT mean coefficient_115', 'FFT mean coefficient_116', 'FFT mean coefficient_117', 'FFT mean coefficient_118', 'FFT mean coefficient_119', 'FFT mean coefficient_12', 'FFT mean coefficient_120', 'FFT mean coefficient_121', 'FFT mean coefficient_122', 'FFT mean coefficient_123', 'FFT mean coefficient_124', 'FFT mean coefficient_125', 'FFT mean coefficient_126', 'FFT mean coefficient_127', 'FFT mean coefficient_128', 'FFT mean coefficient_129', 'FFT mean coefficient_13', 'FFT mean coefficient_130', 'FFT mean coefficient_131', 'FFT mean coefficient_132', 'FFT mean coefficient_133', 'FFT mean coefficient_134', 'FFT mean coefficient_135', 'FFT mean coefficient_136', 'FFT mean coefficient_137', 'FFT mean coefficient_138', 'FFT mean coefficient_139', 'FFT mean coefficient_14', 'FFT mean coefficient_140', 'FFT mean coefficient_141', 'FFT mean coefficient_142', 'FFT mean coefficient_143', 'FFT mean coefficient_144', 'FFT mean coefficient_145', 'FFT mean coefficient_146', 'FFT mean coefficient_147', 'FFT mean coefficient_148', 'FFT mean coefficient_149', 'FFT mean coefficient_15', 'FFT mean coefficient_150', 'FFT mean coefficient_151', 'FFT mean coefficient_152', 'FFT mean coefficient_153', 'FFT mean coefficient_154', 'FFT mean coefficient_155', 'FFT mean coefficient_156', 'FFT mean coefficient_157', 'FFT mean coefficient_158', 'FFT mean coefficient_159', 'FFT mean coefficient_16', 'FFT mean coefficient_160', 'FFT mean coefficient_161', 'FFT mean coefficient_162', 'FFT mean coefficient_163', 'FFT mean coefficient_164', 'FFT mean coefficient_165', 'FFT mean coefficient_166', 'FFT mean coefficient_167', 'FFT mean coefficient_168', 'FFT mean coefficient_169', 'FFT mean coefficient_17', 'FFT mean coefficient_170', 'FFT mean coefficient_171', 'FFT mean coefficient_172', 'FFT mean coefficient_173', 'FFT mean coefficient_174', 'FFT mean coefficient_175', 'FFT mean coefficient_176', 'FFT mean coefficient_177', 'FFT mean coefficient_178', 'FFT mean coefficient_179', 'FFT mean coefficient_18', 'FFT mean coefficient_180', 'FFT mean coefficient_181', 'FFT mean coefficient_182', 'FFT mean coefficient_183', 'FFT mean coefficient_184', 'FFT mean coefficient_185', 'FFT mean coefficient_186', 'FFT mean coefficient_187', 'FFT mean coefficient_188', 'FFT mean coefficient_189', 'FFT mean coefficient_19', 'FFT mean coefficient_190', 'FFT mean coefficient_191', 'FFT mean coefficient_192', 'FFT mean coefficient_193', 'FFT mean coefficient_194', 'FFT mean coefficient_195', 'FFT mean coefficient_196', 'FFT mean coefficient_197', 'FFT mean coefficient_198', 'FFT mean coefficient_199', 'FFT mean coefficient_2', 'FFT mean coefficient_20', 'FFT mean coefficient_200', 'FFT mean coefficient_201', 'FFT mean coefficient_202', 'FFT mean coefficient_203', 'FFT mean coefficient_204', 'FFT mean coefficient_205', 'FFT mean coefficient_206', 'FFT mean coefficient_207', 'FFT mean coefficient_208', 'FFT mean coefficient_209', 'FFT mean coefficient_21', 'FFT mean coefficient_210', 'FFT mean coefficient_211', 'FFT mean coefficient_212', 'FFT mean coefficient_213', 'FFT mean coefficient_214', 'FFT mean coefficient_215', 'FFT mean coefficient_216', 'FFT mean coefficient_217', 'FFT mean coefficient_218', 'FFT mean coefficient_219', 'FFT mean coefficient_22', 'FFT mean coefficient_220', 'FFT mean coefficient_221', 'FFT mean coefficient_222', 'FFT mean coefficient_223', 'FFT mean coefficient_224', 'FFT mean coefficient_225', 'FFT mean coefficient_226', 'FFT mean coefficient_227', 'FFT mean coefficient_228', 'FFT mean coefficient_229', 'FFT mean coefficient_23', 'FFT mean coefficient_230', 'FFT mean coefficient_231', 'FFT mean coefficient_232', 'FFT mean coefficient_233', 'FFT mean coefficient_234', 'FFT mean coefficient_235', 'FFT mean coefficient_236', 'FFT mean coefficient_237', 'FFT mean coefficient_238', 'FFT mean coefficient_239', 'FFT mean coefficient_24', 'FFT mean coefficient_240', 'FFT mean coefficient_241', 'FFT mean coefficient_242', 'FFT mean coefficient_243', 'FFT mean coefficient_244', 'FFT mean coefficient_245', 'FFT mean coefficient_246', 'FFT mean coefficient_247', 'FFT mean coefficient_248', 'FFT mean coefficient_249', 'FFT mean coefficient_25', 'FFT mean coefficient_250', 'FFT mean coefficient_251', 'FFT mean coefficient_252', 'FFT mean coefficient_253', 'FFT mean coefficient_254', 'FFT mean coefficient_255', 'FFT mean coefficient_26', 'FFT mean coefficient_27', 'FFT mean coefficient_28', 'FFT mean coefficient_29', 'FFT mean coefficient_3', 'FFT mean coefficient_30', 'FFT mean coefficient_31', 'FFT mean coefficient_32', 'FFT mean coefficient_33', 'FFT mean coefficient_34', 'FFT mean coefficient_35', 'FFT mean coefficient_36', 'FFT mean coefficient_37', 'FFT mean coefficient_38', 'FFT mean coefficient_39', 'FFT mean coefficient_4', 'FFT mean coefficient_40', 'FFT mean coefficient_41', 'FFT mean coefficient_42', 'FFT mean coefficient_43', 'FFT mean coefficient_44', 'FFT mean coefficient_45', 'FFT mean coefficient_46', 'FFT mean coefficient_47', 'FFT mean coefficient_48', 'FFT mean coefficient_49', 'FFT mean coefficient_5', 'FFT mean coefficient_50', 'FFT mean coefficient_51', 'FFT mean coefficient_52', 'FFT mean coefficient_53', 'FFT mean coefficient_54', 'FFT mean coefficient_55', 'FFT mean coefficient_56', 'FFT mean coefficient_57', 'FFT mean coefficient_58', 'FFT mean coefficient_59', 'FFT mean coefficient_6', 'FFT mean coefficient_60', 'FFT mean coefficient_61', 'FFT mean coefficient_62', 'FFT mean coefficient_63', 'FFT mean coefficient_64', 'FFT mean coefficient_65', 'FFT mean coefficient_66', 'FFT mean coefficient_67', 'FFT mean coefficient_68', 'FFT mean coefficient_69', 'FFT mean coefficient_7', 'FFT mean coefficient_70', 'FFT mean coefficient_71', 'FFT mean coefficient_72', 'FFT mean coefficient_73', 'FFT mean coefficient_74', 'FFT mean coefficient_75', 'FFT mean coefficient_76', 'FFT mean coefficient_77', 'FFT mean coefficient_78', 'FFT mean coefficient_79', 'FFT mean coefficient_8', 'FFT mean coefficient_80', 'FFT mean coefficient_81', 'FFT mean coefficient_82', 'FFT mean coefficient_83', 'FFT mean coefficient_84', 'FFT mean coefficient_85', 'FFT mean coefficient_86', 'FFT mean coefficient_87', 'FFT mean coefficient_88', 'FFT mean coefficient_89', 'FFT mean coefficient_9', 'FFT mean coefficient_90', 'FFT mean coefficient_91', 'FFT mean coefficient_92', 'FFT mean coefficient_93', 'FFT mean coefficient_94', 'FFT mean coefficient_95', 'FFT mean coefficient_96', 'FFT mean coefficient_97', 'FFT mean coefficient_98', 'FFT mean coefficient_99', 'Fundamental frequency', 'Histogram_0', 'Histogram_1', 'Histogram_2', 'Histogram_3', 'Histogram_4', 'Histogram_5', 'Histogram_6', 'Histogram_7', 'Histogram_8', 'Histogram_9', 'Human range energy', 'Interquartile range', 'Kurtosis', 'LPCC_0', 'LPCC_1', 'LPCC_10', 'LPCC_11', 'LPCC_2', 'LPCC_3', 'LPCC_4', 'LPCC_5', 'LPCC_6', 'LPCC_7', 'LPCC_8', 'LPCC_9', 'MFCC_0', 'MFCC_1', 'MFCC_10', 'MFCC_11', 'MFCC_2', 'MFCC_3', 'MFCC_4', 'MFCC_5', 'MFCC_6', 'MFCC_7', 'MFCC_8', 'MFCC_9', 'Max', 'Max power spectrum', 'Maximum frequency', 'Mean', 'Mean absolute deviation', 'Mean absolute diff', 'Mean diff', 'Median', 'Median absolute deviation', 'Median absolute diff', 'Median diff', 'Median frequency', 'Min', 'Negative turning points', 'Neighbourhood peaks', 'Peak to peak distance', 'Positive turning points', 'Power bandwidth', 'Root mean square', 'Signal distance', 'Skewness', 'Slope', 'Spectral centroid', 'Spectral decrease', 'Spectral distance', 'Spectral entropy', 'Spectral kurtosis', 'Spectral positive turning points', 'Spectral roll-off', 'Spectral roll-on', 'Spectral skewness', 'Spectral slope', 'Spectral spread', 'Spectral variation', 'Standard deviation', 'Sum absolute diff', 'Total energy', 'Variance', 'Wavelet absolute mean_0', 'Wavelet absolute mean_1', 'Wavelet absolute mean_2', 'Wavelet absolute mean_3', 'Wavelet absolute mean_4', 'Wavelet absolute mean_5', 'Wavelet absolute mean_6', 'Wavelet absolute mean_7', 'Wavelet absolute mean_8', 'Wavelet energy_0', 'Wavelet energy_1', 'Wavelet energy_2', 'Wavelet energy_3', 'Wavelet energy_4', 'Wavelet energy_5', 'Wavelet energy_6', 'Wavelet energy_7', 'Wavelet energy_8', 'Wavelet entropy', 'Wavelet standard deviation_0', 'Wavelet standard deviation_1', 'Wavelet standard deviation_2', 'Wavelet standard deviation_3', 'Wavelet standard deviation_4', 'Wavelet standard deviation_5', 'Wavelet standard deviation_6', 'Wavelet standard deviation_7', 'Wavelet standard deviation_8', 'Wavelet variance_0', 'Wavelet variance_1', 'Wavelet variance_2', 'Wavelet variance_3', 'Wavelet variance_4', 'Wavelet variance_5', 'Wavelet variance_6', 'Wavelet variance_7', 'Wavelet variance_8', 'Zero crossing rate', 'target']\n"
          ]
        }
      ],
      "source": [
        "def feature_data_shaper(data,target):\n",
        "############################## convert to 3d n_participants*number of windows*number of features\n",
        "  data_array = data.values\n",
        "  print(\"3d data but with tuples in cell\",data_array.shape)\n",
        "  max_metrics = max([len(t) for t in data.iloc[:, 0]])\n",
        "  padded_data_array = np.zeros((data.shape[0],data.shape[1], max_metrics))\n",
        "  for i in range(data.shape[0]):\n",
        "      for j in range(data.shape[1]):\n",
        "          padded_data_array[i, j, :len(data_array[i, j])] = data_array[i, j]\n",
        "\n",
        "  # Print the shape of the 3D array\n",
        "  print(\"3d data\",padded_data_array.shape)\n",
        "  ######################### repeating the target variables \"n_participants * number of windows\" times\n",
        "  target=np.repeat(target,padded_data_array.shape[1])\n",
        "\n",
        "  ######################\n",
        "  # Flatten the 3D numpy array into a 2D numpy array\n",
        "  n_windows = padded_data_array.shape[0] * padded_data_array.shape[1]\n",
        "  data_flat = np.reshape(padded_data_array, (n_windows, -1))\n",
        "  print(\"final data shape prepared for learning\",data_flat.shape,len(target))\n",
        "  # Concatenate the flattened feature data with the target labels\n",
        "  data_with_target = np.hstack((data_flat, target.reshape(-1, 1)))\n",
        "  return data_with_target\n",
        "#prepare data for random forrest\n",
        "rftrain=feature_data_shaper(temporaltrain,ytrain1)\n",
        "rftest=feature_data_shaper(temporaltest,ytest1)\n",
        "#prepare column name for random forest\n",
        "f_cols=np.array(f_cols)\n",
        "f_cols=np.append(f_cols,\"target\")\n",
        "f_cols = [s.replace('0_', '') for s in f_cols]\n",
        "print(f_cols)"
      ]
    },
    {
      "cell_type": "code",
      "execution_count": null,
      "metadata": {
        "colab": {
          "base_uri": "https://localhost:8080/"
        },
        "id": "n7F-JkiGhukZ",
        "outputId": "acca4d2a-a261-4009-bc8f-074c4f66d3f6"
      },
      "outputs": [
        {
          "data": {
            "text/plain": [
              "(6875, 160)"
            ]
          },
          "execution_count": 164,
          "metadata": {},
          "output_type": "execute_result"
        }
      ],
      "source": [
        "rftest.shape"
      ]
    },
    {
      "cell_type": "markdown",
      "source": [
        "4_run this for modeling and test"
      ],
      "metadata": {
        "id": "faeMZuPVZBTC"
      }
    },
    {
      "cell_type": "code",
      "execution_count": null,
      "metadata": {
        "colab": {
          "base_uri": "https://localhost:8080/"
        },
        "id": "QCKRN7Fow0ls",
        "outputId": "8c75bf60-6431-467a-c5dd-ecc82135fb16"
      },
      "outputs": [
        {
          "output_type": "stream",
          "name": "stdout",
          "text": [
            "Test accuracy: 0.6909090909090909\n"
          ]
        }
      ],
      "source": [
        "from sklearn.ensemble import RandomForestClassifier\n",
        "from sklearn.metrics import accuracy_score\n",
        "\n",
        "# Define the feature columns\n",
        "feature_columns = [tf.feature_column.numeric_column(key=name) for name in f_cols]\n",
        "\n",
        "# Split the data into features and target variable\n",
        "df=pd.DataFrame(rftrain[:, :-1])\n",
        "df = df.fillna(0)\n",
        "X=np.array(df)\n",
        "y = rftrain[:, -1]\n",
        "# Convert the target variable to integers\n",
        "le = LabelEncoder()\n",
        "y = le.fit_transform(y)\n",
        "#y = y.astype(int)\n",
        "\n",
        "rf = RandomForestClassifier(n_estimators=500)\n",
        "rf.fit(X, y)\n",
        "\n",
        "df=pd.DataFrame(rftest[:, :-1])\n",
        "df = df.fillna(0)\n",
        "X_test = np.array(df)\n",
        "y_test = rftest[:, -1]\n",
        "y_test = le.fit_transform(y_test)\n",
        "\n",
        "# Use the trained model to predict the target values for the test data\n",
        "y_pred = rf.predict(X_test)\n",
        "\n",
        "# Compute the accuracy of the predictions\n",
        "\n",
        "accuracy = accuracy_score(y_test, y_pred)\n",
        "\n",
        "print(f\"Test accuracy: {accuracy}\")"
      ]
    },
    {
      "cell_type": "code",
      "execution_count": null,
      "metadata": {
        "colab": {
          "base_uri": "https://localhost:8080/",
          "height": 157
        },
        "id": "D_uvRroGw5eb",
        "outputId": "23108f9f-47d7-4d00-d11d-582543d110dd"
      },
      "outputs": [
        {
          "output_type": "stream",
          "name": "stdout",
          "text": [
            "(6290,)\n",
            "*** Feature extraction started ***\n"
          ]
        },
        {
          "output_type": "display_data",
          "data": {
            "text/plain": [
              "<IPython.core.display.HTML object>"
            ],
            "text/html": [
              "\n",
              "              <p>\n",
              "                  Progress: 100% Complete\n",
              "              <p/>            \n",
              "              <progress\n",
              "                  value='41'\n",
              "                  max='41',\n",
              "                  style='width: 25%',\n",
              "              >\n",
              "                  41\n",
              "              </progress>\n",
              "\n",
              "    "
            ]
          },
          "metadata": {}
        },
        {
          "output_type": "stream",
          "name": "stdout",
          "text": [
            "\n",
            "*** Feature extraction finished ***\n",
            "(41, 209)\n"
          ]
        }
      ],
      "source": [
        "f_cols=packer_cols(hrdata.iloc[1,2:-13],150)\n"
      ]
    },
    {
      "cell_type": "code",
      "execution_count": null,
      "metadata": {
        "colab": {
          "base_uri": "https://localhost:8080/"
        },
        "id": "Evvh7yELNhkM",
        "outputId": "f854ff44-c7d3-4102-c94d-059812eaf64c"
      },
      "outputs": [
        {
          "name": "stdout",
          "output_type": "stream",
          "text": [
            "                                                   0    \\\n",
            "0    (374996.0, 84.87, 374996.0, 0.4870059947306104...   \n",
            "1    (337055.0, 80.46, 337055.0, 0.4954076931064662...   \n",
            "2    (360598.0, 83.22, 360598.0, 0.4867850625904747...   \n",
            "3    (357536.0, 82.87, 357536.0, 0.4867051150093977...   \n",
            "4    (320707.0, 78.46000000000001, 320707.0, 0.4749...   \n",
            "..                                                 ...   \n",
            "402  (378476.0, 85.27, 378476.0, 0.4931280186854648...   \n",
            "403  (330169.0, 79.63999999999999, 330169.0, 0.4908...   \n",
            "404  (290177.0, 74.64999999999999, 290177.0, 0.4884...   \n",
            "405  (284477.0, 73.92999999999999, 284477.0, 0.4819...   \n",
            "406  (346812.0, 81.62, 346812.0, 0.4848352998166153...   \n",
            "\n",
            "                                                   1    \\\n",
            "0    (386103.0, 86.1, 386103.0, 0.5004144489941803,...   \n",
            "1    (342635.0, 81.12, 342635.0, 0.4887527543887811...   \n",
            "2    (364531.0, 83.69, 364531.0, 0.4848340470357803...   \n",
            "3    (366400.0, 83.88999999999999, 366400.0, 0.4949...   \n",
            "4    (278169.0, 73.09, 278169.0, 0.4818994927544047...   \n",
            "..                                                 ...   \n",
            "402  (346170.0, 81.51, 346170.0, 0.4710857671086461...   \n",
            "403  (321932.0, 78.63, 321932.0, 0.4877395226321087...   \n",
            "404  (283968.0, 73.83999999999999, 283968.0, 0.4900...   \n",
            "405  (270876.0, 72.12, 270876.0, 0.4948651043281797...   \n",
            "406  (326285.0, 79.15, 326285.0, 0.4880621542516512...   \n",
            "\n",
            "                                                   2    \\\n",
            "0    (412610.0, 89.03, 412610.0, 0.4922056178958339...   \n",
            "1    (333592.0, 80.05, 333592.0, 0.4873809923499364...   \n",
            "2    (353144.0, 82.35000000000001, 353144.0, 0.4912...   \n",
            "3    (381602.0, 85.62, 381602.0, 0.4883331848365575...   \n",
            "4    (267479.0, 71.67999999999998, 267479.0, 0.4901...   \n",
            "..                                                 ...   \n",
            "402  (287934.0, 74.34, 287934.0, 0.4850878326283107...   \n",
            "403  (334763.0, 80.19, 334763.0, 0.4957009585886134...   \n",
            "404  (298940.0, 75.79, 298940.0, 0.4923493008630495...   \n",
            "405  (271331.0, 72.19, 271331.0, 0.4833557536735574...   \n",
            "406  (331964.0, 79.86999999999999, 331964.0, 0.4889...   \n",
            "\n",
            "                                                   3    \\\n",
            "0    (411878.0, 88.95, 411878.0, 0.4905361296306188...   \n",
            "1    (337528.0, 80.52, 337528.0, 0.4931080680713896...   \n",
            "2    (363302.0, 83.52999999999999, 363302.0, 0.4904...   \n",
            "3    (368446.0, 84.10999999999999, 368446.0, 0.4916...   \n",
            "4    (272950.0, 72.39, 272950.0, 0.4953793002381388...   \n",
            "..                                                 ...   \n",
            "402  (305987.0, 76.64999999999999, 305987.0, 0.4981...   \n",
            "403  (357228.0, 82.82999999999998, 357228.0, 0.4962...   \n",
            "404  (286706.0, 74.19, 286706.0, 0.4911386577190572...   \n",
            "405  (246710.0, 68.81, 246710.0, 0.4883523975517815...   \n",
            "406  (240496.0, 67.79, 240496.0, 0.4746917204444148...   \n",
            "\n",
            "                                                   4    \\\n",
            "0    (402174.0, 87.89999999999999, 402174.0, 0.4855...   \n",
            "1    (349144.0, 81.88, 349144.0, 0.4938380725431340...   \n",
            "2    (382131.0, 85.69, 382131.0, 0.4911424092784934...   \n",
            "3    (384935.0, 86.01, 384935.0, 0.4874522192058399...   \n",
            "4    (291419.0, 74.80999999999999, 291419.0, 0.4951...   \n",
            "..                                                 ...   \n",
            "402  (340506.0, 80.88, 340506.0, 0.4943547543949298...   \n",
            "403  (362137.0, 83.4, 362137.0, 0.4846354832563367,...   \n",
            "404  (316556.0, 77.99, 316556.0, 0.4977498452090625...   \n",
            "405  (263733.0, 71.17, 263733.0, 0.4975934752192558...   \n",
            "406  (253151.0, 69.71, 253151.0, 0.501552275124333,...   \n",
            "\n",
            "                                                   5    \\\n",
            "0    (370707.0, 84.39000000000001, 370707.0, 0.4839...   \n",
            "1    (372071.0, 84.55, 372071.0, 0.4944266551276503...   \n",
            "2    (374994.0, 84.86, 374994.0, 0.4867194675114801...   \n",
            "3    (363485.0, 83.56, 363485.0, 0.4861233888606132...   \n",
            "4    (286581.0, 74.19000000000001, 286581.0, 0.4824...   \n",
            "..                                                 ...   \n",
            "402  (349639.0, 81.94, 349639.0, 0.4942517282110977...   \n",
            "403  (336403.0, 80.37, 336403.0, 0.484176062639156,...   \n",
            "404  (328911.0, 79.45999999999998, 328911.0, 0.4966...   \n",
            "405  (277525.0, 73.00999999999999, 277525.0, 0.4932...   \n",
            "406  (290255.0, 74.66, 290255.0, 0.4995670014297773...   \n",
            "\n",
            "                                                   6    \\\n",
            "0    (337294.0, 80.47, 337294.0, 0.4799192395951306...   \n",
            "1    (370146.0, 84.30999999999999, 370146.0, 0.4904...   \n",
            "2    (361777.0, 83.36, 361777.0, 0.4867883254048765...   \n",
            "3    (352800.0, 82.32000000000002, 352800.0, 0.49, ...   \n",
            "4    (276806.0, 72.89999999999999, 276806.0, 0.4948...   \n",
            "..                                                 ...   \n",
            "402  (367754.0, 84.04, 367754.0, 0.4930386073298999...   \n",
            "403  (320501.0, 78.46, 320501.0, 0.4859587333580862...   \n",
            "404  (356868.0, 82.8, 356868.0, 0.49404838763912706...   \n",
            "405  (281250.0, 73.5, 281250.0, 0.49, 75.0, 75.0, 7...   \n",
            "406  (320686.0, 78.49, 320686.0, 0.4963760189094628...   \n",
            "\n",
            "                                                   7    \\\n",
            "0    (315880.0, 77.9, 315880.0, 0.4855590730657212,...   \n",
            "1    (385649.0, 86.05999999999999, 385649.0, 0.4948...   \n",
            "2    (356687.0, 82.78, 356687.0, 0.4903269252874369...   \n",
            "3    (345452.0, 81.44999999999999, 345452.0, 0.4887...   \n",
            "4    (293569.0, 75.1, 293569.0, 0.4871144432824992,...   \n",
            "..                                                 ...   \n",
            "402  (362316.0, 83.41000000000001, 362316.0, 0.4839...   \n",
            "403  (304067.0, 76.41999999999999, 304067.0, 0.4856...   \n",
            "404  (361081.0, 83.28999999999999, 361081.0, 0.4897...   \n",
            "405  (292967.0, 75.01, 292967.0, 0.4971017896213568...   \n",
            "406  (333592.0, 80.06, 333592.0, 0.4900097724166047...   \n",
            "\n",
            "                                                   8    \\\n",
            "0    (298018.0, 75.66, 298018.0, 0.4859769544121496...   \n",
            "1    (401957.0, 87.88, 401957.0, 0.4895591319469495...   \n",
            "2    (351319.0, 82.14999999999999, 351319.0, 0.4860...   \n",
            "3    (345786.0, 81.5, 345786.0, 0.490850005494728, ...   \n",
            "4    (287362.0, 74.27000000000001, 287362.0, 0.4973...   \n",
            "..                                                 ...   \n",
            "402  (363730.0, 83.57000000000001, 363730.0, 0.4990...   \n",
            "403  (274164.0, 72.53, 274164.0, 0.4872321676077093...   \n",
            "404  (345820.0, 81.49, 345820.0, 0.4841099415881094...   \n",
            "405  (315397.0, 77.84, 315397.0, 0.4939457255458993...   \n",
            "406  (318110.0, 78.16000000000001, 318110.0, 0.4850...   \n",
            "\n",
            "                                                   9    ...  \\\n",
            "0    (301587.0, 76.13000000000001, 301587.0, 0.4937...  ...   \n",
            "1    (380928.0, 85.53, 380928.0, 0.4845903687836021...  ...   \n",
            "2    (338858.0, 80.67999999999999, 338858.0, 0.4852...  ...   \n",
            "3    (337705.0, 80.54, 337705.0, 0.4853785996653884...  ...   \n",
            "4    (308753.0, 77.02000000000001, 308753.0, 0.4875...  ...   \n",
            "..                                                 ...  ...   \n",
            "402  (380566.0, 85.49, 380566.0, 0.4866593967931975...  ...   \n",
            "403  (243819.0, 62.47, 243819.0, 0.4100227627871494...  ...   \n",
            "404  (324691.0, 78.97, 324691.0, 0.4846726888025846...  ...   \n",
            "405  (329724.0, 79.57, 329724.0, 0.4969435042641725...  ...   \n",
            "406  (311422.0, 77.35000000000001, 311422.0, 0.4891...  ...   \n",
            "\n",
            "                                                   115  \\\n",
            "0    (0.0, 0.0, 0.0, 0.0, 0.0, 0.0, 0.0, 0.0, 0.02,...   \n",
            "1    (0.0, 0.0, 0.0, 0.0, 0.0, 0.0, 0.0, 0.0, 0.02,...   \n",
            "2    (0.0, 0.0, 0.0, 0.0, 0.0, 0.0, 0.0, 0.0, 0.02,...   \n",
            "3    (0.0, 0.0, 0.0, 0.0, 0.0, 0.0, 0.0, 0.0, 0.02,...   \n",
            "4    (0.0, 0.0, 0.0, 0.0, 0.0, 0.0, 0.0, 0.0, 0.02,...   \n",
            "..                                                 ...   \n",
            "402  (0.0, 0.0, 0.0, 0.0, 0.0, 0.0, 0.0, 0.0, 0.02,...   \n",
            "403  (0.0, 0.0, 0.0, 0.0, 0.0, 0.0, 0.0, 0.0, 0.02,...   \n",
            "404  (0.0, 0.0, 0.0, 0.0, 0.0, 0.0, 0.0, 0.0, 0.02,...   \n",
            "405  (0.0, 0.0, 0.0, 0.0, 0.0, 0.0, 0.0, 0.0, 0.02,...   \n",
            "406  (0.0, 0.0, 0.0, 0.0, 0.0, 0.0, 0.0, 0.0, 0.02,...   \n",
            "\n",
            "                                                   116  \\\n",
            "0    (0.0, 0.0, 0.0, 0.0, 0.0, 0.0, 0.0, 0.0, 0.02,...   \n",
            "1    (0.0, 0.0, 0.0, 0.0, 0.0, 0.0, 0.0, 0.0, 0.02,...   \n",
            "2    (0.0, 0.0, 0.0, 0.0, 0.0, 0.0, 0.0, 0.0, 0.02,...   \n",
            "3    (0.0, 0.0, 0.0, 0.0, 0.0, 0.0, 0.0, 0.0, 0.02,...   \n",
            "4    (0.0, 0.0, 0.0, 0.0, 0.0, 0.0, 0.0, 0.0, 0.02,...   \n",
            "..                                                 ...   \n",
            "402  (0.0, 0.0, 0.0, 0.0, 0.0, 0.0, 0.0, 0.0, 0.02,...   \n",
            "403  (0.0, 0.0, 0.0, 0.0, 0.0, 0.0, 0.0, 0.0, 0.02,...   \n",
            "404  (0.0, 0.0, 0.0, 0.0, 0.0, 0.0, 0.0, 0.0, 0.02,...   \n",
            "405  (0.0, 0.0, 0.0, 0.0, 0.0, 0.0, 0.0, 0.0, 0.02,...   \n",
            "406  (0.0, 0.0, 0.0, 0.0, 0.0, 0.0, 0.0, 0.0, 0.02,...   \n",
            "\n",
            "                                                   117  \\\n",
            "0    (0.0, 0.0, 0.0, 0.0, 0.0, 0.0, 0.0, 0.0, 0.02,...   \n",
            "1    (0.0, 0.0, 0.0, 0.0, 0.0, 0.0, 0.0, 0.0, 0.02,...   \n",
            "2    (0.0, 0.0, 0.0, 0.0, 0.0, 0.0, 0.0, 0.0, 0.02,...   \n",
            "3    (0.0, 0.0, 0.0, 0.0, 0.0, 0.0, 0.0, 0.0, 0.02,...   \n",
            "4    (0.0, 0.0, 0.0, 0.0, 0.0, 0.0, 0.0, 0.0, 0.02,...   \n",
            "..                                                 ...   \n",
            "402  (0.0, 0.0, 0.0, 0.0, 0.0, 0.0, 0.0, 0.0, 0.02,...   \n",
            "403  (0.0, 0.0, 0.0, 0.0, 0.0, 0.0, 0.0, 0.0, 0.02,...   \n",
            "404  (0.0, 0.0, 0.0, 0.0, 0.0, 0.0, 0.0, 0.0, 0.02,...   \n",
            "405  (0.0, 0.0, 0.0, 0.0, 0.0, 0.0, 0.0, 0.0, 0.02,...   \n",
            "406  (0.0, 0.0, 0.0, 0.0, 0.0, 0.0, 0.0, 0.0, 0.02,...   \n",
            "\n",
            "                                                   118  \\\n",
            "0    (0.0, 0.0, 0.0, 0.0, 0.0, 0.0, 0.0, 0.0, 0.02,...   \n",
            "1    (0.0, 0.0, 0.0, 0.0, 0.0, 0.0, 0.0, 0.0, 0.02,...   \n",
            "2    (0.0, 0.0, 0.0, 0.0, 0.0, 0.0, 0.0, 0.0, 0.02,...   \n",
            "3    (0.0, 0.0, 0.0, 0.0, 0.0, 0.0, 0.0, 0.0, 0.02,...   \n",
            "4    (0.0, 0.0, 0.0, 0.0, 0.0, 0.0, 0.0, 0.0, 0.02,...   \n",
            "..                                                 ...   \n",
            "402  (0.0, 0.0, 0.0, 0.0, 0.0, 0.0, 0.0, 0.0, 0.02,...   \n",
            "403  (0.0, 0.0, 0.0, 0.0, 0.0, 0.0, 0.0, 0.0, 0.02,...   \n",
            "404  (0.0, 0.0, 0.0, 0.0, 0.0, 0.0, 0.0, 0.0, 0.02,...   \n",
            "405  (0.0, 0.0, 0.0, 0.0, 0.0, 0.0, 0.0, 0.0, 0.02,...   \n",
            "406  (0.0, 0.0, 0.0, 0.0, 0.0, 0.0, 0.0, 0.0, 0.02,...   \n",
            "\n",
            "                                                   119  \\\n",
            "0    (0.0, 0.0, 0.0, 0.0, 0.0, 0.0, 0.0, 0.0, 0.02,...   \n",
            "1    (0.0, 0.0, 0.0, 0.0, 0.0, 0.0, 0.0, 0.0, 0.02,...   \n",
            "2    (0.0, 0.0, 0.0, 0.0, 0.0, 0.0, 0.0, 0.0, 0.02,...   \n",
            "3    (0.0, 0.0, 0.0, 0.0, 0.0, 0.0, 0.0, 0.0, 0.02,...   \n",
            "4    (0.0, 0.0, 0.0, 0.0, 0.0, 0.0, 0.0, 0.0, 0.02,...   \n",
            "..                                                 ...   \n",
            "402  (0.0, 0.0, 0.0, 0.0, 0.0, 0.0, 0.0, 0.0, 0.02,...   \n",
            "403  (0.0, 0.0, 0.0, 0.0, 0.0, 0.0, 0.0, 0.0, 0.02,...   \n",
            "404  (0.0, 0.0, 0.0, 0.0, 0.0, 0.0, 0.0, 0.0, 0.02,...   \n",
            "405  (0.0, 0.0, 0.0, 0.0, 0.0, 0.0, 0.0, 0.0, 0.02,...   \n",
            "406  (0.0, 0.0, 0.0, 0.0, 0.0, 0.0, 0.0, 0.0, 0.02,...   \n",
            "\n",
            "                                                   120  \\\n",
            "0    (0.0, 0.0, 0.0, 0.0, 0.0, 0.0, 0.0, 0.0, 0.02,...   \n",
            "1    (0.0, 0.0, 0.0, 0.0, 0.0, 0.0, 0.0, 0.0, 0.02,...   \n",
            "2    (0.0, 0.0, 0.0, 0.0, 0.0, 0.0, 0.0, 0.0, 0.02,...   \n",
            "3    (0.0, 0.0, 0.0, 0.0, 0.0, 0.0, 0.0, 0.0, 0.02,...   \n",
            "4    (0.0, 0.0, 0.0, 0.0, 0.0, 0.0, 0.0, 0.0, 0.02,...   \n",
            "..                                                 ...   \n",
            "402  (0.0, 0.0, 0.0, 0.0, 0.0, 0.0, 0.0, 0.0, 0.02,...   \n",
            "403  (0.0, 0.0, 0.0, 0.0, 0.0, 0.0, 0.0, 0.0, 0.02,...   \n",
            "404  (0.0, 0.0, 0.0, 0.0, 0.0, 0.0, 0.0, 0.0, 0.02,...   \n",
            "405  (0.0, 0.0, 0.0, 0.0, 0.0, 0.0, 0.0, 0.0, 0.02,...   \n",
            "406  (0.0, 0.0, 0.0, 0.0, 0.0, 0.0, 0.0, 0.0, 0.02,...   \n",
            "\n",
            "                                                   121  \\\n",
            "0    (0.0, 0.0, 0.0, 0.0, 0.0, 0.0, 0.0, 0.0, 0.02,...   \n",
            "1    (0.0, 0.0, 0.0, 0.0, 0.0, 0.0, 0.0, 0.0, 0.02,...   \n",
            "2    (0.0, 0.0, 0.0, 0.0, 0.0, 0.0, 0.0, 0.0, 0.02,...   \n",
            "3    (0.0, 0.0, 0.0, 0.0, 0.0, 0.0, 0.0, 0.0, 0.02,...   \n",
            "4    (0.0, 0.0, 0.0, 0.0, 0.0, 0.0, 0.0, 0.0, 0.02,...   \n",
            "..                                                 ...   \n",
            "402  (0.0, 0.0, 0.0, 0.0, 0.0, 0.0, 0.0, 0.0, 0.02,...   \n",
            "403  (0.0, 0.0, 0.0, 0.0, 0.0, 0.0, 0.0, 0.0, 0.02,...   \n",
            "404  (0.0, 0.0, 0.0, 0.0, 0.0, 0.0, 0.0, 0.0, 0.02,...   \n",
            "405  (0.0, 0.0, 0.0, 0.0, 0.0, 0.0, 0.0, 0.0, 0.02,...   \n",
            "406  (0.0, 0.0, 0.0, 0.0, 0.0, 0.0, 0.0, 0.0, 0.02,...   \n",
            "\n",
            "                                                   122  \\\n",
            "0    (0.0, 0.0, 0.0, 0.0, 0.0, 0.0, 0.0, 0.0, 0.02,...   \n",
            "1    (0.0, 0.0, 0.0, 0.0, 0.0, 0.0, 0.0, 0.0, 0.02,...   \n",
            "2    (0.0, 0.0, 0.0, 0.0, 0.0, 0.0, 0.0, 0.0, 0.02,...   \n",
            "3    (0.0, 0.0, 0.0, 0.0, 0.0, 0.0, 0.0, 0.0, 0.02,...   \n",
            "4    (0.0, 0.0, 0.0, 0.0, 0.0, 0.0, 0.0, 0.0, 0.02,...   \n",
            "..                                                 ...   \n",
            "402  (0.0, 0.0, 0.0, 0.0, 0.0, 0.0, 0.0, 0.0, 0.02,...   \n",
            "403  (0.0, 0.0, 0.0, 0.0, 0.0, 0.0, 0.0, 0.0, 0.02,...   \n",
            "404  (0.0, 0.0, 0.0, 0.0, 0.0, 0.0, 0.0, 0.0, 0.02,...   \n",
            "405  (0.0, 0.0, 0.0, 0.0, 0.0, 0.0, 0.0, 0.0, 0.02,...   \n",
            "406  (0.0, 0.0, 0.0, 0.0, 0.0, 0.0, 0.0, 0.0, 0.02,...   \n",
            "\n",
            "                                                   123  \\\n",
            "0    (0.0, 0.0, 0.0, 0.0, 0.0, 0.0, 0.0, 0.0, 0.02,...   \n",
            "1    (0.0, 0.0, 0.0, 0.0, 0.0, 0.0, 0.0, 0.0, 0.02,...   \n",
            "2    (0.0, 0.0, 0.0, 0.0, 0.0, 0.0, 0.0, 0.0, 0.02,...   \n",
            "3    (0.0, 0.0, 0.0, 0.0, 0.0, 0.0, 0.0, 0.0, 0.02,...   \n",
            "4    (0.0, 0.0, 0.0, 0.0, 0.0, 0.0, 0.0, 0.0, 0.02,...   \n",
            "..                                                 ...   \n",
            "402  (0.0, 0.0, 0.0, 0.0, 0.0, 0.0, 0.0, 0.0, 0.02,...   \n",
            "403  (0.0, 0.0, 0.0, 0.0, 0.0, 0.0, 0.0, 0.0, 0.02,...   \n",
            "404  (0.0, 0.0, 0.0, 0.0, 0.0, 0.0, 0.0, 0.0, 0.02,...   \n",
            "405  (0.0, 0.0, 0.0, 0.0, 0.0, 0.0, 0.0, 0.0, 0.02,...   \n",
            "406  (0.0, 0.0, 0.0, 0.0, 0.0, 0.0, 0.0, 0.0, 0.02,...   \n",
            "\n",
            "                                                   124  \n",
            "0    (0.0, 0.0, 0.0, 0.0, 0.0, 0.0, 0.0, 0.0, 0.02,...  \n",
            "1    (0.0, 0.0, 0.0, 0.0, 0.0, 0.0, 0.0, 0.0, 0.02,...  \n",
            "2    (0.0, 0.0, 0.0, 0.0, 0.0, 0.0, 0.0, 0.0, 0.02,...  \n",
            "3    (0.0, 0.0, 0.0, 0.0, 0.0, 0.0, 0.0, 0.0, 0.02,...  \n",
            "4    (0.0, 0.0, 0.0, 0.0, 0.0, 0.0, 0.0, 0.0, 0.02,...  \n",
            "..                                                 ...  \n",
            "402  (0.0, 0.0, 0.0, 0.0, 0.0, 0.0, 0.0, 0.0, 0.02,...  \n",
            "403  (0.0, 0.0, 0.0, 0.0, 0.0, 0.0, 0.0, 0.0, 0.02,...  \n",
            "404  (0.0, 0.0, 0.0, 0.0, 0.0, 0.0, 0.0, 0.0, 0.02,...  \n",
            "405  (0.0, 0.0, 0.0, 0.0, 0.0, 0.0, 0.0, 0.0, 0.02,...  \n",
            "406  (0.0, 0.0, 0.0, 0.0, 0.0, 0.0, 0.0, 0.0, 0.02,...  \n",
            "\n",
            "[407 rows x 125 columns]\n"
          ]
        }
      ],
      "source": [
        "################################################################################################################################################################\n",
        "with open(\"/content/drive/MyDrive/Colab Notebooks/hr(tuples)packked.pkl\", \"rb\") as f: \n",
        "    dataa = pickle.load(f)\n",
        "print(dataa)"
      ]
    }
  ],
  "metadata": {
    "colab": {
      "provenance": [],
      "authorship_tag": "ABX9TyP1y6OClSk8I/A3B13AgdAe",
      "include_colab_link": true
    },
    "kernelspec": {
      "display_name": "Python 3",
      "name": "python3"
    },
    "language_info": {
      "name": "python"
    }
  },
  "nbformat": 4,
  "nbformat_minor": 0
}