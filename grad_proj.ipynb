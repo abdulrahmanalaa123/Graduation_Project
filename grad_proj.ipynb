{
  "nbformat": 4,
  "nbformat_minor": 0,
  "metadata": {
    "colab": {
      "provenance": [],
      "toc_visible": true,
      "authorship_tag": "ABX9TyO25hFeNXH+v04jAXUJzjFv",
      "include_colab_link": true
    },
    "kernelspec": {
      "name": "python3",
      "display_name": "Python 3"
    },
    "language_info": {
      "name": "python"
    }
  },
  "cells": [
    {
      "cell_type": "markdown",
      "metadata": {
        "id": "view-in-github",
        "colab_type": "text"
      },
      "source": [
        "<a href=\"https://colab.research.google.com/github/abdulrahmanalaa123/Graduation_Project/blob/Honda/grad_proj.ipynb\" target=\"_parent\"><img src=\"https://colab.research.google.com/assets/colab-badge.svg\" alt=\"Open In Colab\"/></a>"
      ]
    },
    {
      "cell_type": "markdown",
      "source": [
        "imports\n"
      ],
      "metadata": {
        "id": "_YB3dV3Xvd8e"
      }
    },
    {
      "cell_type": "code",
      "source": [
        "!pip3 install pickle5"
      ],
      "metadata": {
        "colab": {
          "base_uri": "https://localhost:8080/"
        },
        "id": "enu-tpu94bJM",
        "outputId": "765d2988-530e-42c0-95a5-cfde6ff5057b"
      },
      "execution_count": 9,
      "outputs": [
        {
          "output_type": "stream",
          "name": "stdout",
          "text": [
            "Looking in indexes: https://pypi.org/simple, https://us-python.pkg.dev/colab-wheels/public/simple/\n",
            "Requirement already satisfied: pickle5 in /usr/local/lib/python3.7/dist-packages (0.0.12)\n"
          ]
        }
      ]
    },
    {
      "cell_type": "code",
      "source": [
        "import numpy as np\n",
        "import matplotlib.pyplot as plt\n",
        "import pandas as pd\n",
        "from re import L\n",
        "import json\n",
        "from operator import itemgetter\n",
        "from google.colab import files\n",
        "import pickle5 as pickle\n",
        "from keras.models import Sequential\n",
        "from keras.layers import Dense\n",
        "from keras.layers import LSTM\n",
        "from keras.layers import Dropout\n",
        "from keras.callbacks import EarlyStopping\n",
        "from sklearn.preprocessing import LabelEncoder\n",
        "import tensorflow as tf\n",
        "\n",
        "\n"
      ],
      "metadata": {
        "id": "pfz4WjihvFn5"
      },
      "execution_count": 83,
      "outputs": []
    },
    {
      "cell_type": "code",
      "source": [
        "uploaded = files.upload()\n"
      ],
      "metadata": {
        "colab": {
          "base_uri": "https://localhost:8080/",
          "height": 73
        },
        "id": "Ta5sWdgz1fQd",
        "outputId": "9f0e31cc-6bf2-429c-ad99-4e2e8d8ae966"
      },
      "execution_count": 5,
      "outputs": [
        {
          "output_type": "display_data",
          "data": {
            "text/plain": [
              "<IPython.core.display.HTML object>"
            ],
            "text/html": [
              "\n",
              "     <input type=\"file\" id=\"files-78aea0c8-2e4b-4102-8c58-7e0afa3d5f76\" name=\"files[]\" multiple disabled\n",
              "        style=\"border:none\" />\n",
              "     <output id=\"result-78aea0c8-2e4b-4102-8c58-7e0afa3d5f76\">\n",
              "      Upload widget is only available when the cell has been executed in the\n",
              "      current browser session. Please rerun this cell to enable.\n",
              "      </output>\n",
              "      <script>// Copyright 2017 Google LLC\n",
              "//\n",
              "// Licensed under the Apache License, Version 2.0 (the \"License\");\n",
              "// you may not use this file except in compliance with the License.\n",
              "// You may obtain a copy of the License at\n",
              "//\n",
              "//      http://www.apache.org/licenses/LICENSE-2.0\n",
              "//\n",
              "// Unless required by applicable law or agreed to in writing, software\n",
              "// distributed under the License is distributed on an \"AS IS\" BASIS,\n",
              "// WITHOUT WARRANTIES OR CONDITIONS OF ANY KIND, either express or implied.\n",
              "// See the License for the specific language governing permissions and\n",
              "// limitations under the License.\n",
              "\n",
              "/**\n",
              " * @fileoverview Helpers for google.colab Python module.\n",
              " */\n",
              "(function(scope) {\n",
              "function span(text, styleAttributes = {}) {\n",
              "  const element = document.createElement('span');\n",
              "  element.textContent = text;\n",
              "  for (const key of Object.keys(styleAttributes)) {\n",
              "    element.style[key] = styleAttributes[key];\n",
              "  }\n",
              "  return element;\n",
              "}\n",
              "\n",
              "// Max number of bytes which will be uploaded at a time.\n",
              "const MAX_PAYLOAD_SIZE = 100 * 1024;\n",
              "\n",
              "function _uploadFiles(inputId, outputId) {\n",
              "  const steps = uploadFilesStep(inputId, outputId);\n",
              "  const outputElement = document.getElementById(outputId);\n",
              "  // Cache steps on the outputElement to make it available for the next call\n",
              "  // to uploadFilesContinue from Python.\n",
              "  outputElement.steps = steps;\n",
              "\n",
              "  return _uploadFilesContinue(outputId);\n",
              "}\n",
              "\n",
              "// This is roughly an async generator (not supported in the browser yet),\n",
              "// where there are multiple asynchronous steps and the Python side is going\n",
              "// to poll for completion of each step.\n",
              "// This uses a Promise to block the python side on completion of each step,\n",
              "// then passes the result of the previous step as the input to the next step.\n",
              "function _uploadFilesContinue(outputId) {\n",
              "  const outputElement = document.getElementById(outputId);\n",
              "  const steps = outputElement.steps;\n",
              "\n",
              "  const next = steps.next(outputElement.lastPromiseValue);\n",
              "  return Promise.resolve(next.value.promise).then((value) => {\n",
              "    // Cache the last promise value to make it available to the next\n",
              "    // step of the generator.\n",
              "    outputElement.lastPromiseValue = value;\n",
              "    return next.value.response;\n",
              "  });\n",
              "}\n",
              "\n",
              "/**\n",
              " * Generator function which is called between each async step of the upload\n",
              " * process.\n",
              " * @param {string} inputId Element ID of the input file picker element.\n",
              " * @param {string} outputId Element ID of the output display.\n",
              " * @return {!Iterable<!Object>} Iterable of next steps.\n",
              " */\n",
              "function* uploadFilesStep(inputId, outputId) {\n",
              "  const inputElement = document.getElementById(inputId);\n",
              "  inputElement.disabled = false;\n",
              "\n",
              "  const outputElement = document.getElementById(outputId);\n",
              "  outputElement.innerHTML = '';\n",
              "\n",
              "  const pickedPromise = new Promise((resolve) => {\n",
              "    inputElement.addEventListener('change', (e) => {\n",
              "      resolve(e.target.files);\n",
              "    });\n",
              "  });\n",
              "\n",
              "  const cancel = document.createElement('button');\n",
              "  inputElement.parentElement.appendChild(cancel);\n",
              "  cancel.textContent = 'Cancel upload';\n",
              "  const cancelPromise = new Promise((resolve) => {\n",
              "    cancel.onclick = () => {\n",
              "      resolve(null);\n",
              "    };\n",
              "  });\n",
              "\n",
              "  // Wait for the user to pick the files.\n",
              "  const files = yield {\n",
              "    promise: Promise.race([pickedPromise, cancelPromise]),\n",
              "    response: {\n",
              "      action: 'starting',\n",
              "    }\n",
              "  };\n",
              "\n",
              "  cancel.remove();\n",
              "\n",
              "  // Disable the input element since further picks are not allowed.\n",
              "  inputElement.disabled = true;\n",
              "\n",
              "  if (!files) {\n",
              "    return {\n",
              "      response: {\n",
              "        action: 'complete',\n",
              "      }\n",
              "    };\n",
              "  }\n",
              "\n",
              "  for (const file of files) {\n",
              "    const li = document.createElement('li');\n",
              "    li.append(span(file.name, {fontWeight: 'bold'}));\n",
              "    li.append(span(\n",
              "        `(${file.type || 'n/a'}) - ${file.size} bytes, ` +\n",
              "        `last modified: ${\n",
              "            file.lastModifiedDate ? file.lastModifiedDate.toLocaleDateString() :\n",
              "                                    'n/a'} - `));\n",
              "    const percent = span('0% done');\n",
              "    li.appendChild(percent);\n",
              "\n",
              "    outputElement.appendChild(li);\n",
              "\n",
              "    const fileDataPromise = new Promise((resolve) => {\n",
              "      const reader = new FileReader();\n",
              "      reader.onload = (e) => {\n",
              "        resolve(e.target.result);\n",
              "      };\n",
              "      reader.readAsArrayBuffer(file);\n",
              "    });\n",
              "    // Wait for the data to be ready.\n",
              "    let fileData = yield {\n",
              "      promise: fileDataPromise,\n",
              "      response: {\n",
              "        action: 'continue',\n",
              "      }\n",
              "    };\n",
              "\n",
              "    // Use a chunked sending to avoid message size limits. See b/62115660.\n",
              "    let position = 0;\n",
              "    do {\n",
              "      const length = Math.min(fileData.byteLength - position, MAX_PAYLOAD_SIZE);\n",
              "      const chunk = new Uint8Array(fileData, position, length);\n",
              "      position += length;\n",
              "\n",
              "      const base64 = btoa(String.fromCharCode.apply(null, chunk));\n",
              "      yield {\n",
              "        response: {\n",
              "          action: 'append',\n",
              "          file: file.name,\n",
              "          data: base64,\n",
              "        },\n",
              "      };\n",
              "\n",
              "      let percentDone = fileData.byteLength === 0 ?\n",
              "          100 :\n",
              "          Math.round((position / fileData.byteLength) * 100);\n",
              "      percent.textContent = `${percentDone}% done`;\n",
              "\n",
              "    } while (position < fileData.byteLength);\n",
              "  }\n",
              "\n",
              "  // All done.\n",
              "  yield {\n",
              "    response: {\n",
              "      action: 'complete',\n",
              "    }\n",
              "  };\n",
              "}\n",
              "\n",
              "scope.google = scope.google || {};\n",
              "scope.google.colab = scope.google.colab || {};\n",
              "scope.google.colab._files = {\n",
              "  _uploadFiles,\n",
              "  _uploadFilesContinue,\n",
              "};\n",
              "})(self);\n",
              "</script> "
            ]
          },
          "metadata": {}
        },
        {
          "output_type": "stream",
          "name": "stdout",
          "text": [
            "Saving hr(tuples).pkl to hr(tuples).pkl\n"
          ]
        }
      ]
    },
    {
      "cell_type": "code",
      "source": [
        "with open(\"hr(tuples).pkl\", \"rb\") as fh:\n",
        "  data = pickle.load(fh)"
      ],
      "metadata": {
        "id": "2XByQW4-5Aam"
      },
      "execution_count": 6,
      "outputs": []
    },
    {
      "cell_type": "code",
      "source": [
        "#data = pd.read_pickle(\"hr(tuples).pkl\")"
      ],
      "metadata": {
        "id": "Wiz2w_-zO2P8"
      },
      "execution_count": 105,
      "outputs": []
    },
    {
      "cell_type": "code",
      "source": [
        "print(data)"
      ],
      "metadata": {
        "colab": {
          "base_uri": "https://localhost:8080/"
        },
        "id": "CtFDLv6H6SKF",
        "outputId": "d4a26473-4ca5-4f07-b3ce-e9e40d90eef9"
      },
      "execution_count": 12,
      "outputs": [
        {
          "output_type": "stream",
          "name": "stdout",
          "text": [
            "      Participant           Stage       0:0.0  0:0.099791  0:0.199582  \\\n",
            "0              22        STIMULUS   (87, 602)   (87, 602)   (87, 602)   \n",
            "1              22  QUESTIONNAIRES   (85, 921)   (85, 921)   (85, 921)   \n",
            "2              22         WASHOUT   (80, 749)   (80, 792)   (80, 792)   \n",
            "3              22        STIMULUS   (81, 719)   (81, 719)   (81, 719)   \n",
            "4              22  QUESTIONNAIRES   (83, 702)   (82, 702)   (83, 702)   \n",
            "...           ...             ...         ...         ...         ...   \n",
            "1339           64        STIMULUS   (78, 516)   (78, 516)   (78, 516)   \n",
            "1340           64  QUESTIONNAIRES   (77, 799)   (77, 799)   (77, 816)   \n",
            "1341           64         WASHOUT    (0, 987)    (0, 987)    (0, 987)   \n",
            "1342           64        STIMULUS   (69, 829)   (68, 829)   (69, 829)   \n",
            "1343           64  QUESTIONNAIRES  (66, 1245)  (65, 1245)  (65, 1245)   \n",
            "\n",
            "     0:0.299373  0:0.399164 0:0.49895500000000004  0:0.598746  \\\n",
            "0     (87, 602)   (87, 602)             (87, 602)   (87, 602)   \n",
            "1     (85, 921)   (85, 921)             (85, 921)   (85, 921)   \n",
            "2     (80, 792)   (80, 792)             (80, 792)   (79, 792)   \n",
            "3     (81, 719)   (81, 734)             (81, 734)   (81, 734)   \n",
            "4     (83, 702)   (83, 702)             (82, 702)   (82, 702)   \n",
            "...         ...         ...                   ...         ...   \n",
            "1339  (78, 634)   (78, 634)             (78, 634)   (78, 634)   \n",
            "1340  (77, 816)   (77, 816)             (77, 816)   (77, 816)   \n",
            "1341   (0, 987)  (-10, 987)            (-10, 987)  (-10, 987)   \n",
            "1342  (69, 829)   (69, 829)            (69, 1248)  (68, 1248)   \n",
            "1343  (65, 881)   (65, 881)             (65, 881)   (65, 881)   \n",
            "\n",
            "     0:0.6985370000000001  ... SURPRISE ANGER ENTHUSIASM LIKING FEAR  \\\n",
            "0               (87, 406)  ...        1     1          2      1    1   \n",
            "1               (85, 921)  ...        1     1          2      1    1   \n",
            "2               (79, 792)  ...        1     1          1      1    1   \n",
            "3               (81, 734)  ...        1     1          1      1    1   \n",
            "4               (82, 702)  ...        1     1          1      1    1   \n",
            "...                   ...  ...      ...   ...        ...    ...  ...   \n",
            "1339            (78, 634)  ...        1     1          3      1    1   \n",
            "1340            (77, 816)  ...        1     1          3      1    1   \n",
            "1341           (-10, 987)  ...        1     1          5      1    1   \n",
            "1342           (68, 1248)  ...        1     1          5      1    1   \n",
            "1343            (65, 881)  ...        1     1          5      1    1   \n",
            "\n",
            "     AMUSEMENT SADNESS VALENCE AROUSAL MOTIVATION  \n",
            "0            2       1       5       2          4  \n",
            "1            2       1       5       2          4  \n",
            "2            1       1       4       2          5  \n",
            "3            1       1       4       2          5  \n",
            "4            1       1       4       2          5  \n",
            "...        ...     ...     ...     ...        ...  \n",
            "1339         1       1       5       2          6  \n",
            "1340         1       1       5       2          6  \n",
            "1341         1       1       9       8          9  \n",
            "1342         1       1       9       8          9  \n",
            "1343         1       1       9       8          9  \n",
            "\n",
            "[1344 rows x 6305 columns]\n"
          ]
        }
      ]
    },
    {
      "cell_type": "code",
      "source": [
        "def getter(x):\n",
        "    if isinstance(x,tuple):\n",
        "        return itemgetter(0)(x)\n",
        "    else:\n",
        "        return x\n",
        "        \n",
        "#data = pd.read_pickle(\"hr(tuples).pkl\")\n",
        "#mask = data[\"Participant\"] ==  22 \n",
        "mask2 = data[\"Stage\"] == \"STIMULUS\"\n",
        "mask3 = data[\"Target\"]== \"BASELINE\"\n",
        "#print(data.loc[ mask2,[*data.columns[2:500],*data.columns[-15:]]].applymap(lambda x:getter(x)))\n",
        "#print(data.loc[mask2,[*data.columns[2:6292]]].applymap(lambda x:getter(x)))#xtrain->particpants hr values\n",
        "print(data.loc[mask2,\"Target\"])#ytrain-> target emo\n"
      ],
      "metadata": {
        "id": "whGFCpWkvGVr",
        "colab": {
          "base_uri": "https://localhost:8080/"
        },
        "outputId": "24199c1a-b7d9-484f-e055-7add8b2c4608"
      },
      "execution_count": 25,
      "outputs": [
        {
          "output_type": "stream",
          "name": "stdout",
          "text": [
            "0        BASELINE\n",
            "3         NEUTRAL\n",
            "6             AWE\n",
            "9         DISGUST\n",
            "12       SURPRISE\n",
            "          ...    \n",
            "1330         FEAR\n",
            "1333    AMUSEMENT\n",
            "1336      SADNESS\n",
            "1339      NEUTRAL\n",
            "1342          AWE\n",
            "Name: Target, Length: 462, dtype: object\n"
          ]
        }
      ]
    },
    {
      "cell_type": "code",
      "source": [
        "xtrain=data.loc[mask2,[*data.columns[2:6292]]].applymap(lambda x:getter(x))\n",
        "ytrain=data.loc[mask2,\"Target\"]"
      ],
      "metadata": {
        "id": "FpRuvQkSMRbm"
      },
      "execution_count": 26,
      "outputs": []
    },
    {
      "cell_type": "code",
      "source": [
        "x_train=[]\n",
        "y_train=[]\n",
        "label_encoder = LabelEncoder()\n",
        "#for i in range(6289,1342):\n",
        "x_train,y_train=np.array(xtrain),np.array(ytrain)\n",
        "x_train=np.reshape(x_train,(x_train.shape[0],x_train.shape[1],1))\n",
        "encoded_y = label_encoder.fit_transform(y_train)\n",
        "label_encoder_name_mapping = dict(zip(label_encoder.classes_,\n",
        "                                         label_encoder.transform(label_encoder.classes_)))\n",
        "print(label_encoder_name_mapping)\n",
        "print(encoded_y)\n",
        "print(y_train)"
      ],
      "metadata": {
        "colab": {
          "base_uri": "https://localhost:8080/"
        },
        "id": "I5WRmsmESgHA",
        "outputId": "bb2d47c6-e03c-4397-c753-af848b6bae34"
      },
      "execution_count": 68,
      "outputs": [
        {
          "output_type": "stream",
          "name": "stdout",
          "text": [
            "{'AMUSEMENT': 0, 'ANGER': 1, 'AWE': 2, 'BASELINE': 3, 'DISGUST': 4, 'ENTHUSIASM': 5, 'FEAR': 6, 'LIKING': 7, 'NEUTRAL': 8, 'SADNESS': 9, 'SURPRISE': 10}\n",
            "[ 3  8  2  4 10  1  5  7  6  0  9  3  2  4 10  1  5  7  6  0  9  8  3  4\n",
            " 10  1  5  7  6  0  9  8  2  3 10  1  5  7  6  0  9  8  2  4  3  1  5  7\n",
            "  6  0  9  8  2  4 10  3  5  7  6  0  9  8  2  4 10  1  3  7  6  0  9  8\n",
            "  2  4 10  1  5  3  6  0  9  8  2  4 10  1  5  7  3  9  8  2  4 10  1  5\n",
            "  7  6  0  3  8  2  4 10  1  5  7  6  0  9  3  2  4 10  1  5  7  6  0  9\n",
            "  8  3  4 10  1  5  7  6  0  9  8  2  3 10  1  5  7  6  0  9  8  2  4  3\n",
            "  1  5  7  6  0  9  8  2  4 10  3  5  7  6  0  9  8  2  4 10  1  3  7  6\n",
            "  0  9  8  2  4 10  1  5  3  0  9  8  2  4 10  1  5  7  6  3  6  0  9  8\n",
            "  2  4 10  1  5  7  3  9  8  2  4 10  1  5  7  6  0  3  8  2  4 10  1  5\n",
            "  7  6  0  9  3  2  4 10  1  5  7  6  0  9  8  3  4 10  1  5  7  6  0  9\n",
            "  8  2  3 10  1  5  7  6  0  9  8  2  4  3  1  5  7  6  0  9  8  2  4 10\n",
            "  3  5  7  6  0  9  8  2  4 10  1  3  7  6  0  9  8  2  4 10  1  5  3  6\n",
            "  0  9  8  2  4 10  1  5  7  3  0  9  8  2  4 10  1  5  7  6  3  9  8  2\n",
            "  4 10  1  5  7  6  0  3  8  2  4 10  1  5  7  6  0  9  3  2  4 10  1  5\n",
            "  7  6  0  9  8  3  4 10  1  5  7  6  0  9  8  2  3 10  1  5  7  6  0  9\n",
            "  8  2  4  3  1  5  7  6  0  9  8  2  4 10  3  5  7  6  0  9  8  2  4 10\n",
            "  1  3  7  6  0  9  8  2  4 10  1  5  3  6  0  9  8  2  4 10  1  5  7  3\n",
            "  0  9  8  2  4 10  1  5  7  6  3  9  8  2  4 10  1  5  7  6  0  3  8  2\n",
            "  4 10  1  5  7  6  0  9  3  2  4 10  1  5  7  6  0  9  8  3  4 10  1  5\n",
            "  7  6  0  9  8  2]\n",
            "['BASELINE' 'NEUTRAL' 'AWE' 'DISGUST' 'SURPRISE' 'ANGER' 'ENTHUSIASM'\n",
            " 'LIKING' 'FEAR' 'AMUSEMENT' 'SADNESS' 'BASELINE' 'AWE' 'DISGUST'\n",
            " 'SURPRISE' 'ANGER' 'ENTHUSIASM' 'LIKING' 'FEAR' 'AMUSEMENT' 'SADNESS'\n",
            " 'NEUTRAL' 'BASELINE' 'DISGUST' 'SURPRISE' 'ANGER' 'ENTHUSIASM' 'LIKING'\n",
            " 'FEAR' 'AMUSEMENT' 'SADNESS' 'NEUTRAL' 'AWE' 'BASELINE' 'SURPRISE'\n",
            " 'ANGER' 'ENTHUSIASM' 'LIKING' 'FEAR' 'AMUSEMENT' 'SADNESS' 'NEUTRAL'\n",
            " 'AWE' 'DISGUST' 'BASELINE' 'ANGER' 'ENTHUSIASM' 'LIKING' 'FEAR'\n",
            " 'AMUSEMENT' 'SADNESS' 'NEUTRAL' 'AWE' 'DISGUST' 'SURPRISE' 'BASELINE'\n",
            " 'ENTHUSIASM' 'LIKING' 'FEAR' 'AMUSEMENT' 'SADNESS' 'NEUTRAL' 'AWE'\n",
            " 'DISGUST' 'SURPRISE' 'ANGER' 'BASELINE' 'LIKING' 'FEAR' 'AMUSEMENT'\n",
            " 'SADNESS' 'NEUTRAL' 'AWE' 'DISGUST' 'SURPRISE' 'ANGER' 'ENTHUSIASM'\n",
            " 'BASELINE' 'FEAR' 'AMUSEMENT' 'SADNESS' 'NEUTRAL' 'AWE' 'DISGUST'\n",
            " 'SURPRISE' 'ANGER' 'ENTHUSIASM' 'LIKING' 'BASELINE' 'SADNESS' 'NEUTRAL'\n",
            " 'AWE' 'DISGUST' 'SURPRISE' 'ANGER' 'ENTHUSIASM' 'LIKING' 'FEAR'\n",
            " 'AMUSEMENT' 'BASELINE' 'NEUTRAL' 'AWE' 'DISGUST' 'SURPRISE' 'ANGER'\n",
            " 'ENTHUSIASM' 'LIKING' 'FEAR' 'AMUSEMENT' 'SADNESS' 'BASELINE' 'AWE'\n",
            " 'DISGUST' 'SURPRISE' 'ANGER' 'ENTHUSIASM' 'LIKING' 'FEAR' 'AMUSEMENT'\n",
            " 'SADNESS' 'NEUTRAL' 'BASELINE' 'DISGUST' 'SURPRISE' 'ANGER' 'ENTHUSIASM'\n",
            " 'LIKING' 'FEAR' 'AMUSEMENT' 'SADNESS' 'NEUTRAL' 'AWE' 'BASELINE'\n",
            " 'SURPRISE' 'ANGER' 'ENTHUSIASM' 'LIKING' 'FEAR' 'AMUSEMENT' 'SADNESS'\n",
            " 'NEUTRAL' 'AWE' 'DISGUST' 'BASELINE' 'ANGER' 'ENTHUSIASM' 'LIKING' 'FEAR'\n",
            " 'AMUSEMENT' 'SADNESS' 'NEUTRAL' 'AWE' 'DISGUST' 'SURPRISE' 'BASELINE'\n",
            " 'ENTHUSIASM' 'LIKING' 'FEAR' 'AMUSEMENT' 'SADNESS' 'NEUTRAL' 'AWE'\n",
            " 'DISGUST' 'SURPRISE' 'ANGER' 'BASELINE' 'LIKING' 'FEAR' 'AMUSEMENT'\n",
            " 'SADNESS' 'NEUTRAL' 'AWE' 'DISGUST' 'SURPRISE' 'ANGER' 'ENTHUSIASM'\n",
            " 'BASELINE' 'AMUSEMENT' 'SADNESS' 'NEUTRAL' 'AWE' 'DISGUST' 'SURPRISE'\n",
            " 'ANGER' 'ENTHUSIASM' 'LIKING' 'FEAR' 'BASELINE' 'FEAR' 'AMUSEMENT'\n",
            " 'SADNESS' 'NEUTRAL' 'AWE' 'DISGUST' 'SURPRISE' 'ANGER' 'ENTHUSIASM'\n",
            " 'LIKING' 'BASELINE' 'SADNESS' 'NEUTRAL' 'AWE' 'DISGUST' 'SURPRISE'\n",
            " 'ANGER' 'ENTHUSIASM' 'LIKING' 'FEAR' 'AMUSEMENT' 'BASELINE' 'NEUTRAL'\n",
            " 'AWE' 'DISGUST' 'SURPRISE' 'ANGER' 'ENTHUSIASM' 'LIKING' 'FEAR'\n",
            " 'AMUSEMENT' 'SADNESS' 'BASELINE' 'AWE' 'DISGUST' 'SURPRISE' 'ANGER'\n",
            " 'ENTHUSIASM' 'LIKING' 'FEAR' 'AMUSEMENT' 'SADNESS' 'NEUTRAL' 'BASELINE'\n",
            " 'DISGUST' 'SURPRISE' 'ANGER' 'ENTHUSIASM' 'LIKING' 'FEAR' 'AMUSEMENT'\n",
            " 'SADNESS' 'NEUTRAL' 'AWE' 'BASELINE' 'SURPRISE' 'ANGER' 'ENTHUSIASM'\n",
            " 'LIKING' 'FEAR' 'AMUSEMENT' 'SADNESS' 'NEUTRAL' 'AWE' 'DISGUST'\n",
            " 'BASELINE' 'ANGER' 'ENTHUSIASM' 'LIKING' 'FEAR' 'AMUSEMENT' 'SADNESS'\n",
            " 'NEUTRAL' 'AWE' 'DISGUST' 'SURPRISE' 'BASELINE' 'ENTHUSIASM' 'LIKING'\n",
            " 'FEAR' 'AMUSEMENT' 'SADNESS' 'NEUTRAL' 'AWE' 'DISGUST' 'SURPRISE' 'ANGER'\n",
            " 'BASELINE' 'LIKING' 'FEAR' 'AMUSEMENT' 'SADNESS' 'NEUTRAL' 'AWE'\n",
            " 'DISGUST' 'SURPRISE' 'ANGER' 'ENTHUSIASM' 'BASELINE' 'FEAR' 'AMUSEMENT'\n",
            " 'SADNESS' 'NEUTRAL' 'AWE' 'DISGUST' 'SURPRISE' 'ANGER' 'ENTHUSIASM'\n",
            " 'LIKING' 'BASELINE' 'AMUSEMENT' 'SADNESS' 'NEUTRAL' 'AWE' 'DISGUST'\n",
            " 'SURPRISE' 'ANGER' 'ENTHUSIASM' 'LIKING' 'FEAR' 'BASELINE' 'SADNESS'\n",
            " 'NEUTRAL' 'AWE' 'DISGUST' 'SURPRISE' 'ANGER' 'ENTHUSIASM' 'LIKING' 'FEAR'\n",
            " 'AMUSEMENT' 'BASELINE' 'NEUTRAL' 'AWE' 'DISGUST' 'SURPRISE' 'ANGER'\n",
            " 'ENTHUSIASM' 'LIKING' 'FEAR' 'AMUSEMENT' 'SADNESS' 'BASELINE' 'AWE'\n",
            " 'DISGUST' 'SURPRISE' 'ANGER' 'ENTHUSIASM' 'LIKING' 'FEAR' 'AMUSEMENT'\n",
            " 'SADNESS' 'NEUTRAL' 'BASELINE' 'DISGUST' 'SURPRISE' 'ANGER' 'ENTHUSIASM'\n",
            " 'LIKING' 'FEAR' 'AMUSEMENT' 'SADNESS' 'NEUTRAL' 'AWE' 'BASELINE'\n",
            " 'SURPRISE' 'ANGER' 'ENTHUSIASM' 'LIKING' 'FEAR' 'AMUSEMENT' 'SADNESS'\n",
            " 'NEUTRAL' 'AWE' 'DISGUST' 'BASELINE' 'ANGER' 'ENTHUSIASM' 'LIKING' 'FEAR'\n",
            " 'AMUSEMENT' 'SADNESS' 'NEUTRAL' 'AWE' 'DISGUST' 'SURPRISE' 'BASELINE'\n",
            " 'ENTHUSIASM' 'LIKING' 'FEAR' 'AMUSEMENT' 'SADNESS' 'NEUTRAL' 'AWE'\n",
            " 'DISGUST' 'SURPRISE' 'ANGER' 'BASELINE' 'LIKING' 'FEAR' 'AMUSEMENT'\n",
            " 'SADNESS' 'NEUTRAL' 'AWE' 'DISGUST' 'SURPRISE' 'ANGER' 'ENTHUSIASM'\n",
            " 'BASELINE' 'FEAR' 'AMUSEMENT' 'SADNESS' 'NEUTRAL' 'AWE' 'DISGUST'\n",
            " 'SURPRISE' 'ANGER' 'ENTHUSIASM' 'LIKING' 'BASELINE' 'AMUSEMENT' 'SADNESS'\n",
            " 'NEUTRAL' 'AWE' 'DISGUST' 'SURPRISE' 'ANGER' 'ENTHUSIASM' 'LIKING' 'FEAR'\n",
            " 'BASELINE' 'SADNESS' 'NEUTRAL' 'AWE' 'DISGUST' 'SURPRISE' 'ANGER'\n",
            " 'ENTHUSIASM' 'LIKING' 'FEAR' 'AMUSEMENT' 'BASELINE' 'NEUTRAL' 'AWE'\n",
            " 'DISGUST' 'SURPRISE' 'ANGER' 'ENTHUSIASM' 'LIKING' 'FEAR' 'AMUSEMENT'\n",
            " 'SADNESS' 'BASELINE' 'AWE' 'DISGUST' 'SURPRISE' 'ANGER' 'ENTHUSIASM'\n",
            " 'LIKING' 'FEAR' 'AMUSEMENT' 'SADNESS' 'NEUTRAL' 'BASELINE' 'DISGUST'\n",
            " 'SURPRISE' 'ANGER' 'ENTHUSIASM' 'LIKING' 'FEAR' 'AMUSEMENT' 'SADNESS'\n",
            " 'NEUTRAL' 'AWE']\n"
          ]
        }
      ]
    },
    {
      "cell_type": "code",
      "source": [
        "#initalizing the RNN\n",
        "regressor =Sequential()"
      ],
      "metadata": {
        "id": "Apu3ggSgfIie"
      },
      "execution_count": 95,
      "outputs": []
    },
    {
      "cell_type": "code",
      "source": [
        "#adding the first lstm layer and some dropout regularisation\n",
        "regressor.add(LSTM(units=50,return_sequences=True,input_shape=(x_train.shape[1],1)))\n",
        "regressor.add(Dropout(0.2))"
      ],
      "metadata": {
        "id": "XMIpWDWnftRk"
      },
      "execution_count": 96,
      "outputs": []
    },
    {
      "cell_type": "code",
      "source": [
        "#adding the 2nd lstm layer and some dropout regularisation\n",
        "regressor.add(LSTM(units=50,return_sequences=True))\n",
        "regressor.add(Dropout(0.2))"
      ],
      "metadata": {
        "id": "Sj6vTEHXftZq"
      },
      "execution_count": 97,
      "outputs": []
    },
    {
      "cell_type": "code",
      "source": [
        "#adding the 3rd lstm layer and some dropout regularisation\n",
        "regressor.add(LSTM(units=50,return_sequences=True))\n",
        "regressor.add(Dropout(0.2))"
      ],
      "metadata": {
        "id": "AH9eK9ONftim"
      },
      "execution_count": 98,
      "outputs": []
    },
    {
      "cell_type": "code",
      "source": [
        "#adding the 4th lstm layer and some dropout regularisation\n",
        "regressor.add(LSTM(units=50))\n",
        "regressor.add(Dropout(0.2))"
      ],
      "metadata": {
        "id": "D2o3HOFVftrz"
      },
      "execution_count": 99,
      "outputs": []
    },
    {
      "cell_type": "code",
      "source": [
        "#adding the output layer\n",
        "regressor.add (Dense(units=11,activation='softmax'))"
      ],
      "metadata": {
        "id": "oDWaqW8hft1c"
      },
      "execution_count": 100,
      "outputs": []
    },
    {
      "cell_type": "code",
      "source": [
        "#compiling the RNN\n",
        "regressor.compile(optimizer='adam',loss='sparse_categorical_crossentropy',metrics='accuracy')"
      ],
      "metadata": {
        "id": "XM4u6_4Wp7aA"
      },
      "execution_count": 101,
      "outputs": []
    },
    {
      "cell_type": "code",
      "source": [
        "print(regressor.summary())"
      ],
      "metadata": {
        "colab": {
          "base_uri": "https://localhost:8080/"
        },
        "id": "uvfv43Ocv2pv",
        "outputId": "9b27bd11-c8d3-47cb-ee44-a8e46fc81b6e"
      },
      "execution_count": 102,
      "outputs": [
        {
          "output_type": "stream",
          "name": "stdout",
          "text": [
            "Model: \"sequential_3\"\n",
            "_________________________________________________________________\n",
            " Layer (type)                Output Shape              Param #   \n",
            "=================================================================\n",
            " lstm_12 (LSTM)              (None, 6290, 50)          10400     \n",
            "                                                                 \n",
            " dropout_12 (Dropout)        (None, 6290, 50)          0         \n",
            "                                                                 \n",
            " lstm_13 (LSTM)              (None, 6290, 50)          20200     \n",
            "                                                                 \n",
            " dropout_13 (Dropout)        (None, 6290, 50)          0         \n",
            "                                                                 \n",
            " lstm_14 (LSTM)              (None, 6290, 50)          20200     \n",
            "                                                                 \n",
            " dropout_14 (Dropout)        (None, 6290, 50)          0         \n",
            "                                                                 \n",
            " lstm_15 (LSTM)              (None, 50)                20200     \n",
            "                                                                 \n",
            " dropout_15 (Dropout)        (None, 50)                0         \n",
            "                                                                 \n",
            " dense_4 (Dense)             (None, 11)                561       \n",
            "                                                                 \n",
            "=================================================================\n",
            "Total params: 71,561\n",
            "Trainable params: 71,561\n",
            "Non-trainable params: 0\n",
            "_________________________________________________________________\n",
            "None\n"
          ]
        }
      ]
    },
    {
      "cell_type": "code",
      "source": [
        "#Fitting the RNN to the training set\n",
        "regressor.fit(x_train,encoded_y,epochs=100,batch_size=50,callbacks=[\n",
        "    tf.keras.callbacks.EarlyStopping(monitor='val_loss',\n",
        "    patience=5,\n",
        "    restore_best_weights=True)\n",
        "])"
      ],
      "metadata": {
        "id": "QpaxQgrZquvo"
      },
      "execution_count": null,
      "outputs": []
    },
    {
      "cell_type": "markdown",
      "source": [
        "cross validation part for particpants"
      ],
      "metadata": {
        "id": "rqdaUeQIn90t"
      }
    },
    {
      "cell_type": "code",
      "source": [],
      "metadata": {
        "id": "68WE335-qt3L"
      },
      "execution_count": null,
      "outputs": []
    }
  ]
}