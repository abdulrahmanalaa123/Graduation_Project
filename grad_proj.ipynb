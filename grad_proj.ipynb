{
  "cells": [
    {
      "cell_type": "markdown",
      "metadata": {
        "id": "view-in-github",
        "colab_type": "text"
      },
      "source": [
        "<a href=\"https://colab.research.google.com/github/abdulrahmanalaa123/Graduation_Project/blob/Honda/grad_proj.ipynb\" target=\"_parent\"><img src=\"https://colab.research.google.com/assets/colab-badge.svg\" alt=\"Open In Colab\"/></a>"
      ]
    },
    {
      "cell_type": "markdown",
      "metadata": {
        "id": "_YB3dV3Xvd8e"
      },
      "source": [
        "imports\n"
      ]
    },
    {
      "cell_type": "code",
      "execution_count": 1,
      "metadata": {
        "colab": {
          "base_uri": "https://localhost:8080/"
        },
        "id": "enu-tpu94bJM",
        "outputId": "0ae9cb75-5379-4650-e490-6d19089ea9ae"
      },
      "outputs": [
        {
          "output_type": "stream",
          "name": "stdout",
          "text": [
            "Looking in indexes: https://pypi.org/simple, https://us-python.pkg.dev/colab-wheels/public/simple/\n",
            "Requirement already satisfied: pickle5 in /usr/local/lib/python3.8/dist-packages (0.0.11)\n"
          ]
        }
      ],
      "source": [
        "!pip3 install pickle5\n",
        "import pickle5 as pickle"
      ]
    },
    {
      "cell_type": "code",
      "execution_count": 2,
      "metadata": {
        "id": "pfz4WjihvFn5"
      },
      "outputs": [],
      "source": [
        "import numpy as np\n",
        "import matplotlib.pyplot as plt\n",
        "import pandas as pd\n",
        "from re import L\n",
        "import json\n",
        "from operator import itemgetter\n",
        "from google.colab import files\n",
        "from keras.callbacks import EarlyStopping\n",
        "from sklearn.preprocessing import LabelEncoder\n",
        "import tensorflow as tf\n",
        "from sklearn.model_selection import train_test_split\n",
        "#from keras.models import Sequential\n",
        "#from keras.layers import Dense\n",
        "#from keras.layers import LSTM\n",
        "#from keras.layers import Dropout\n",
        "#%pip install pandas==1.4.1       unpickle problem\n",
        "\n",
        "\n",
        "\n"
      ]
    },
    {
      "cell_type": "code",
      "execution_count": null,
      "metadata": {
        "colab": {
          "base_uri": "https://localhost:8080/",
          "height": 74
        },
        "id": "Ta5sWdgz1fQd",
        "outputId": "00e701a3-1372-4829-fa26-53f3228e0635"
      },
      "outputs": [
        {
          "data": {
            "text/html": [
              "\n",
              "     <input type=\"file\" id=\"files-abbdbc08-00de-4b8a-9492-643ee1708e5c\" name=\"files[]\" multiple disabled\n",
              "        style=\"border:none\" />\n",
              "     <output id=\"result-abbdbc08-00de-4b8a-9492-643ee1708e5c\">\n",
              "      Upload widget is only available when the cell has been executed in the\n",
              "      current browser session. Please rerun this cell to enable.\n",
              "      </output>\n",
              "      <script>// Copyright 2017 Google LLC\n",
              "//\n",
              "// Licensed under the Apache License, Version 2.0 (the \"License\");\n",
              "// you may not use this file except in compliance with the License.\n",
              "// You may obtain a copy of the License at\n",
              "//\n",
              "//      http://www.apache.org/licenses/LICENSE-2.0\n",
              "//\n",
              "// Unless required by applicable law or agreed to in writing, software\n",
              "// distributed under the License is distributed on an \"AS IS\" BASIS,\n",
              "// WITHOUT WARRANTIES OR CONDITIONS OF ANY KIND, either express or implied.\n",
              "// See the License for the specific language governing permissions and\n",
              "// limitations under the License.\n",
              "\n",
              "/**\n",
              " * @fileoverview Helpers for google.colab Python module.\n",
              " */\n",
              "(function(scope) {\n",
              "function span(text, styleAttributes = {}) {\n",
              "  const element = document.createElement('span');\n",
              "  element.textContent = text;\n",
              "  for (const key of Object.keys(styleAttributes)) {\n",
              "    element.style[key] = styleAttributes[key];\n",
              "  }\n",
              "  return element;\n",
              "}\n",
              "\n",
              "// Max number of bytes which will be uploaded at a time.\n",
              "const MAX_PAYLOAD_SIZE = 100 * 1024;\n",
              "\n",
              "function _uploadFiles(inputId, outputId) {\n",
              "  const steps = uploadFilesStep(inputId, outputId);\n",
              "  const outputElement = document.getElementById(outputId);\n",
              "  // Cache steps on the outputElement to make it available for the next call\n",
              "  // to uploadFilesContinue from Python.\n",
              "  outputElement.steps = steps;\n",
              "\n",
              "  return _uploadFilesContinue(outputId);\n",
              "}\n",
              "\n",
              "// This is roughly an async generator (not supported in the browser yet),\n",
              "// where there are multiple asynchronous steps and the Python side is going\n",
              "// to poll for completion of each step.\n",
              "// This uses a Promise to block the python side on completion of each step,\n",
              "// then passes the result of the previous step as the input to the next step.\n",
              "function _uploadFilesContinue(outputId) {\n",
              "  const outputElement = document.getElementById(outputId);\n",
              "  const steps = outputElement.steps;\n",
              "\n",
              "  const next = steps.next(outputElement.lastPromiseValue);\n",
              "  return Promise.resolve(next.value.promise).then((value) => {\n",
              "    // Cache the last promise value to make it available to the next\n",
              "    // step of the generator.\n",
              "    outputElement.lastPromiseValue = value;\n",
              "    return next.value.response;\n",
              "  });\n",
              "}\n",
              "\n",
              "/**\n",
              " * Generator function which is called between each async step of the upload\n",
              " * process.\n",
              " * @param {string} inputId Element ID of the input file picker element.\n",
              " * @param {string} outputId Element ID of the output display.\n",
              " * @return {!Iterable<!Object>} Iterable of next steps.\n",
              " */\n",
              "function* uploadFilesStep(inputId, outputId) {\n",
              "  const inputElement = document.getElementById(inputId);\n",
              "  inputElement.disabled = false;\n",
              "\n",
              "  const outputElement = document.getElementById(outputId);\n",
              "  outputElement.innerHTML = '';\n",
              "\n",
              "  const pickedPromise = new Promise((resolve) => {\n",
              "    inputElement.addEventListener('change', (e) => {\n",
              "      resolve(e.target.files);\n",
              "    });\n",
              "  });\n",
              "\n",
              "  const cancel = document.createElement('button');\n",
              "  inputElement.parentElement.appendChild(cancel);\n",
              "  cancel.textContent = 'Cancel upload';\n",
              "  const cancelPromise = new Promise((resolve) => {\n",
              "    cancel.onclick = () => {\n",
              "      resolve(null);\n",
              "    };\n",
              "  });\n",
              "\n",
              "  // Wait for the user to pick the files.\n",
              "  const files = yield {\n",
              "    promise: Promise.race([pickedPromise, cancelPromise]),\n",
              "    response: {\n",
              "      action: 'starting',\n",
              "    }\n",
              "  };\n",
              "\n",
              "  cancel.remove();\n",
              "\n",
              "  // Disable the input element since further picks are not allowed.\n",
              "  inputElement.disabled = true;\n",
              "\n",
              "  if (!files) {\n",
              "    return {\n",
              "      response: {\n",
              "        action: 'complete',\n",
              "      }\n",
              "    };\n",
              "  }\n",
              "\n",
              "  for (const file of files) {\n",
              "    const li = document.createElement('li');\n",
              "    li.append(span(file.name, {fontWeight: 'bold'}));\n",
              "    li.append(span(\n",
              "        `(${file.type || 'n/a'}) - ${file.size} bytes, ` +\n",
              "        `last modified: ${\n",
              "            file.lastModifiedDate ? file.lastModifiedDate.toLocaleDateString() :\n",
              "                                    'n/a'} - `));\n",
              "    const percent = span('0% done');\n",
              "    li.appendChild(percent);\n",
              "\n",
              "    outputElement.appendChild(li);\n",
              "\n",
              "    const fileDataPromise = new Promise((resolve) => {\n",
              "      const reader = new FileReader();\n",
              "      reader.onload = (e) => {\n",
              "        resolve(e.target.result);\n",
              "      };\n",
              "      reader.readAsArrayBuffer(file);\n",
              "    });\n",
              "    // Wait for the data to be ready.\n",
              "    let fileData = yield {\n",
              "      promise: fileDataPromise,\n",
              "      response: {\n",
              "        action: 'continue',\n",
              "      }\n",
              "    };\n",
              "\n",
              "    // Use a chunked sending to avoid message size limits. See b/62115660.\n",
              "    let position = 0;\n",
              "    do {\n",
              "      const length = Math.min(fileData.byteLength - position, MAX_PAYLOAD_SIZE);\n",
              "      const chunk = new Uint8Array(fileData, position, length);\n",
              "      position += length;\n",
              "\n",
              "      const base64 = btoa(String.fromCharCode.apply(null, chunk));\n",
              "      yield {\n",
              "        response: {\n",
              "          action: 'append',\n",
              "          file: file.name,\n",
              "          data: base64,\n",
              "        },\n",
              "      };\n",
              "\n",
              "      let percentDone = fileData.byteLength === 0 ?\n",
              "          100 :\n",
              "          Math.round((position / fileData.byteLength) * 100);\n",
              "      percent.textContent = `${percentDone}% done`;\n",
              "\n",
              "    } while (position < fileData.byteLength);\n",
              "  }\n",
              "\n",
              "  // All done.\n",
              "  yield {\n",
              "    response: {\n",
              "      action: 'complete',\n",
              "    }\n",
              "  };\n",
              "}\n",
              "\n",
              "scope.google = scope.google || {};\n",
              "scope.google.colab = scope.google.colab || {};\n",
              "scope.google.colab._files = {\n",
              "  _uploadFiles,\n",
              "  _uploadFilesContinue,\n",
              "};\n",
              "})(self);\n",
              "</script> "
            ],
            "text/plain": [
              "<IPython.core.display.HTML object>"
            ]
          },
          "metadata": {},
          "output_type": "display_data"
        },
        {
          "name": "stdout",
          "output_type": "stream",
          "text": [
            "Saving hr(tuples).pkl to hr(tuples).pkl\n"
          ]
        }
      ],
      "source": [
        "uploaded = files.upload()\n"
      ]
    },
    {
      "cell_type": "code",
      "execution_count": 3,
      "metadata": {
        "id": "2XByQW4-5Aam"
      },
      "outputs": [],
      "source": [
        "with open(\"/content/hr(tuples).pkl\", \"rb\") as f: \n",
        "    data = pickle.load(f) "
      ]
    },
    {
      "cell_type": "code",
      "execution_count": 9,
      "metadata": {
        "id": "Wiz2w_-zO2P8",
        "colab": {
          "base_uri": "https://localhost:8080/",
          "height": 35
        },
        "outputId": "100b29f0-d5e8-4037-c00d-3671144c60f5"
      },
      "outputs": [
        {
          "output_type": "execute_result",
          "data": {
            "text/plain": [
              "'1.2.5'"
            ],
            "application/vnd.google.colaboratory.intrinsic+json": {
              "type": "string"
            }
          },
          "metadata": {},
          "execution_count": 9
        }
      ],
      "source": [
        "#data = pd.read_pickle(\"/content/hr(tuples).pkl\")\n",
        "%pip install pandas==1.4.1"
      ]
    },
    {
      "cell_type": "code",
      "execution_count": 4,
      "metadata": {
        "colab": {
          "base_uri": "https://localhost:8080/"
        },
        "id": "CtFDLv6H6SKF",
        "outputId": "61f27848-001b-45c3-bbff-0a101bfb3b19"
      },
      "outputs": [
        {
          "output_type": "stream",
          "name": "stdout",
          "text": [
            "      Participant           Stage       0:0.0  0:0.099791  0:0.199582  \\\n",
            "0              22        STIMULUS   (87, 602)   (87, 602)   (87, 602)   \n",
            "1              22  QUESTIONNAIRES   (85, 921)   (85, 921)   (85, 921)   \n",
            "2              22         WASHOUT   (80, 749)   (80, 792)   (80, 792)   \n",
            "3              22        STIMULUS   (81, 719)   (81, 719)   (81, 719)   \n",
            "4              22  QUESTIONNAIRES   (83, 702)   (82, 702)   (83, 702)   \n",
            "...           ...             ...         ...         ...         ...   \n",
            "1339           64        STIMULUS   (78, 516)   (78, 516)   (78, 516)   \n",
            "1340           64  QUESTIONNAIRES   (77, 799)   (77, 799)   (77, 816)   \n",
            "1341           64         WASHOUT    (0, 987)    (0, 987)    (0, 987)   \n",
            "1342           64        STIMULUS   (69, 829)   (68, 829)   (69, 829)   \n",
            "1343           64  QUESTIONNAIRES  (66, 1245)  (65, 1245)  (65, 1245)   \n",
            "\n",
            "     0:0.299373  0:0.399164 0:0.49895500000000004  0:0.598746  \\\n",
            "0     (87, 602)   (87, 602)             (87, 602)   (87, 602)   \n",
            "1     (85, 921)   (85, 921)             (85, 921)   (85, 921)   \n",
            "2     (80, 792)   (80, 792)             (80, 792)   (79, 792)   \n",
            "3     (81, 719)   (81, 734)             (81, 734)   (81, 734)   \n",
            "4     (83, 702)   (83, 702)             (82, 702)   (82, 702)   \n",
            "...         ...         ...                   ...         ...   \n",
            "1339  (78, 634)   (78, 634)             (78, 634)   (78, 634)   \n",
            "1340  (77, 816)   (77, 816)             (77, 816)   (77, 816)   \n",
            "1341   (0, 987)  (-10, 987)            (-10, 987)  (-10, 987)   \n",
            "1342  (69, 829)   (69, 829)            (69, 1248)  (68, 1248)   \n",
            "1343  (65, 881)   (65, 881)             (65, 881)   (65, 881)   \n",
            "\n",
            "     0:0.6985370000000001  ... SURPRISE ANGER ENTHUSIASM LIKING FEAR  \\\n",
            "0               (87, 406)  ...        1     1          2      1    1   \n",
            "1               (85, 921)  ...        1     1          2      1    1   \n",
            "2               (79, 792)  ...        1     1          1      1    1   \n",
            "3               (81, 734)  ...        1     1          1      1    1   \n",
            "4               (82, 702)  ...        1     1          1      1    1   \n",
            "...                   ...  ...      ...   ...        ...    ...  ...   \n",
            "1339            (78, 634)  ...        1     1          3      1    1   \n",
            "1340            (77, 816)  ...        1     1          3      1    1   \n",
            "1341           (-10, 987)  ...        1     1          5      1    1   \n",
            "1342           (68, 1248)  ...        1     1          5      1    1   \n",
            "1343            (65, 881)  ...        1     1          5      1    1   \n",
            "\n",
            "     AMUSEMENT SADNESS VALENCE AROUSAL MOTIVATION  \n",
            "0            2       1       5       2          4  \n",
            "1            2       1       5       2          4  \n",
            "2            1       1       4       2          5  \n",
            "3            1       1       4       2          5  \n",
            "4            1       1       4       2          5  \n",
            "...        ...     ...     ...     ...        ...  \n",
            "1339         1       1       5       2          6  \n",
            "1340         1       1       5       2          6  \n",
            "1341         1       1       9       8          9  \n",
            "1342         1       1       9       8          9  \n",
            "1343         1       1       9       8          9  \n",
            "\n",
            "[1344 rows x 6305 columns]\n"
          ]
        }
      ],
      "source": [
        "print(data)"
      ]
    },
    {
      "cell_type": "code",
      "execution_count": 5,
      "metadata": {
        "colab": {
          "base_uri": "https://localhost:8080/"
        },
        "id": "whGFCpWkvGVr",
        "outputId": "059a0d8b-8bcf-477a-f93e-38d71e2b717c"
      },
      "outputs": [
        {
          "output_type": "stream",
          "name": "stdout",
          "text": [
            "0        BASELINE\n",
            "3         NEUTRAL\n",
            "6             AWE\n",
            "9         DISGUST\n",
            "12       SURPRISE\n",
            "          ...    \n",
            "1330         FEAR\n",
            "1333    AMUSEMENT\n",
            "1336      SADNESS\n",
            "1339      NEUTRAL\n",
            "1342          AWE\n",
            "Name: Target, Length: 462, dtype: object\n"
          ]
        }
      ],
      "source": [
        "def getter(x):\n",
        "    if isinstance(x,tuple):\n",
        "        return itemgetter(0)(x)\n",
        "    else:\n",
        "        return x\n",
        "\n",
        "#data = pd.read_pickle(\"hr(tuples).pkl\")\n",
        "#mask = data[\"Participant\"] ==  22\n",
        "mask2 = data[\"Stage\"] == \"STIMULUS\"\n",
        "mask3 = data[\"Target\"]== \"BASELINE\"\n",
        "#print(data.loc[ mask2,[*data.columns[2:500],*data.columns[-15:]]].applymap(lambda x:getter(x)))\n",
        "#print(data.loc[mask2,[*data.columns[2:6292]]].applymap(lambda x:getter(x)))#xtrain->particpants hr values\n",
        "print(data.loc[mask2,\"Target\"])#ytrain-> target emo\n"
      ]
    },
    {
      "cell_type": "code",
      "execution_count": 6,
      "metadata": {
        "id": "FpRuvQkSMRbm"
      },
      "outputs": [],
      "source": [
        "xtrain=data.loc[mask2,[*data.columns[2:6292]]].applymap(lambda x:getter(x))\n",
        "ytrain=data.loc[mask2,\"Target\"]"
      ]
    },
    {
      "cell_type": "code",
      "execution_count": 7,
      "metadata": {
        "id": "I5WRmsmESgHA",
        "colab": {
          "base_uri": "https://localhost:8080/"
        },
        "outputId": "f0665d27-5c39-4f1b-8a20-e55b72ba3c3c"
      },
      "outputs": [
        {
          "output_type": "stream",
          "name": "stdout",
          "text": [
            "[[[88]\n",
            "  [88]\n",
            "  [88]\n",
            "  ...\n",
            "  [ 0]\n",
            "  [ 0]\n",
            "  [ 0]]\n",
            "\n",
            " [[76]\n",
            "  [76]\n",
            "  [76]\n",
            "  ...\n",
            "  [ 0]\n",
            "  [ 0]\n",
            "  [ 0]]\n",
            "\n",
            " [[89]\n",
            "  [89]\n",
            "  [88]\n",
            "  ...\n",
            "  [ 0]\n",
            "  [ 0]\n",
            "  [ 0]]\n",
            "\n",
            " ...\n",
            "\n",
            " [[95]\n",
            "  [95]\n",
            "  [95]\n",
            "  ...\n",
            "  [ 0]\n",
            "  [ 0]\n",
            "  [ 0]]\n",
            "\n",
            " [[69]\n",
            "  [70]\n",
            "  [69]\n",
            "  ...\n",
            "  [ 0]\n",
            "  [ 0]\n",
            "  [ 0]]\n",
            "\n",
            " [[72]\n",
            "  [72]\n",
            "  [72]\n",
            "  ...\n",
            "  [ 0]\n",
            "  [ 0]\n",
            "  [ 0]]]\n"
          ]
        }
      ],
      "source": [
        "x_train=[]\n",
        "y_train=[]\n",
        "label_encoder = LabelEncoder()\n",
        "x_train,y_train=np.array(xtrain),np.array(ytrain)\n",
        "y_train = label_encoder.fit_transform(y_train)\n",
        "label_encoder_name_mapping = dict(zip(label_encoder.classes_,\n",
        "                                         label_encoder.transform(label_encoder.classes_)))\n",
        "x_train,  x_test, y_train, y_test = train_test_split(x_train, y_train, train_size = 0.7, random_state = 123)\n",
        "x_train,x_test=np.reshape(x_train,(x_train.shape[0],x_train.shape[1],1)),np.reshape(x_test,(x_test.shape[0],x_test.shape[1],1))\n",
        "#print(label_encoder_name_mapping)\n",
        "print(x_train)"
      ]
    },
    {
      "cell_type": "code",
      "execution_count": 8,
      "metadata": {
        "colab": {
          "base_uri": "https://localhost:8080/"
        },
        "id": "Apu3ggSgfIie",
        "outputId": "d4ffa85e-a62e-4248-8ff3-daf4dd01726d"
      },
      "outputs": [
        {
          "output_type": "stream",
          "name": "stdout",
          "text": [
            "Model: \"sequential\"\n",
            "_________________________________________________________________\n",
            " Layer (type)                Output Shape              Param #   \n",
            "=================================================================\n",
            " lstm (LSTM)                 (None, 6290, 50)          10400     \n",
            "                                                                 \n",
            " dropout (Dropout)           (None, 6290, 50)          0         \n",
            "                                                                 \n",
            " lstm_1 (LSTM)               (None, 6290, 50)          20200     \n",
            "                                                                 \n",
            " dropout_1 (Dropout)         (None, 6290, 50)          0         \n",
            "                                                                 \n",
            " flatten (Flatten)           (None, 314500)            0         \n",
            "                                                                 \n",
            " dense (Dense)               (None, 11)                3459511   \n",
            "                                                                 \n",
            "=================================================================\n",
            "Total params: 3,490,111\n",
            "Trainable params: 3,490,111\n",
            "Non-trainable params: 0\n",
            "_________________________________________________________________\n",
            "None\n"
          ]
        }
      ],
      "source": [
        "#initalizing the RNN\n",
        "regressor =tf.keras.Sequential()\n",
        "#adding the first lstm layer and some dropout regularisation\n",
        "regressor.add(tf.keras.layers.LSTM(units=50,return_sequences=True,input_shape=(x_train.shape[1],1)))\n",
        "regressor.add(tf.keras.layers.Dropout(0.2))\n",
        "#adding the 2nd lstm layer and some dropout regularisation\n",
        "regressor.add(tf.keras.layers.LSTM(units=50,return_sequences=True))\n",
        "regressor.add(tf.keras.layers.Dropout(0.2))\n",
        "\n",
        "regressor.add(tf.keras.layers.Flatten())\n",
        "\n",
        "#adding the output layer\n",
        "regressor.add (tf.keras.layers.Dense(units=11,activation='softmax'))\n",
        "#compiling the RNN\n",
        "regressor.compile(optimizer='adam',loss='sparse_categorical_crossentropy',metrics='accuracy')\n",
        "print(regressor.summary())"
      ]
    },
    {
      "cell_type": "code",
      "execution_count": 9,
      "metadata": {
        "colab": {
          "base_uri": "https://localhost:8080/"
        },
        "id": "oo_KDLAf-VIm",
        "outputId": "752c8d67-7bbe-43a5-8bf7-b8e9449cdbad"
      },
      "outputs": [
        {
          "output_type": "stream",
          "name": "stdout",
          "text": [
            "Epoch 1/50\n",
            "8/8 [==============================] - 43s 5s/step - loss: 5.7113 - accuracy: 0.2558 - val_loss: 2.7944 - val_accuracy: 0.2923\n",
            "Epoch 2/50\n",
            "8/8 [==============================] - 40s 5s/step - loss: 1.9250 - accuracy: 0.4612 - val_loss: 1.5426 - val_accuracy: 0.4769\n",
            "Epoch 3/50\n",
            "8/8 [==============================] - 39s 5s/step - loss: 1.1709 - accuracy: 0.6047 - val_loss: 1.3119 - val_accuracy: 0.5385\n",
            "Epoch 4/50\n",
            "8/8 [==============================] - 39s 5s/step - loss: 0.8138 - accuracy: 0.6240 - val_loss: 0.7943 - val_accuracy: 0.6923\n",
            "Epoch 5/50\n",
            "8/8 [==============================] - 40s 5s/step - loss: 0.7720 - accuracy: 0.6860 - val_loss: 0.8293 - val_accuracy: 0.6308\n",
            "Epoch 6/50\n",
            "8/8 [==============================] - 40s 5s/step - loss: 0.7117 - accuracy: 0.6783 - val_loss: 0.7688 - val_accuracy: 0.6923\n",
            "Epoch 7/50\n",
            "8/8 [==============================] - 39s 5s/step - loss: 0.6926 - accuracy: 0.6938 - val_loss: 0.7206 - val_accuracy: 0.7231\n",
            "Epoch 8/50\n",
            "8/8 [==============================] - 39s 5s/step - loss: 0.6374 - accuracy: 0.7054 - val_loss: 0.7814 - val_accuracy: 0.7077\n",
            "Epoch 9/50\n",
            "8/8 [==============================] - 39s 5s/step - loss: 0.7336 - accuracy: 0.6899 - val_loss: 0.8028 - val_accuracy: 0.6923\n",
            "Epoch 10/50\n",
            "8/8 [==============================] - 39s 5s/step - loss: 0.7829 - accuracy: 0.6783 - val_loss: 0.7651 - val_accuracy: 0.6923\n",
            "Epoch 11/50\n",
            "8/8 [==============================] - 40s 5s/step - loss: 0.6557 - accuracy: 0.7209 - val_loss: 0.8298 - val_accuracy: 0.6000\n",
            "Epoch 12/50\n",
            "8/8 [==============================] - 39s 5s/step - loss: 0.6445 - accuracy: 0.6938 - val_loss: 0.6983 - val_accuracy: 0.7385\n",
            "Epoch 13/50\n",
            "8/8 [==============================] - 39s 5s/step - loss: 0.6613 - accuracy: 0.7248 - val_loss: 0.8338 - val_accuracy: 0.6308\n",
            "Epoch 14/50\n",
            "8/8 [==============================] - 39s 5s/step - loss: 0.6740 - accuracy: 0.7016 - val_loss: 0.7260 - val_accuracy: 0.6462\n",
            "Epoch 15/50\n",
            "8/8 [==============================] - 40s 5s/step - loss: 0.6570 - accuracy: 0.6744 - val_loss: 0.7146 - val_accuracy: 0.7077\n",
            "Epoch 16/50\n",
            "8/8 [==============================] - 43s 6s/step - loss: 0.6065 - accuracy: 0.7248 - val_loss: 0.6871 - val_accuracy: 0.7538\n",
            "Epoch 17/50\n",
            "8/8 [==============================] - 40s 5s/step - loss: 0.6092 - accuracy: 0.6938 - val_loss: 0.7063 - val_accuracy: 0.7077\n",
            "Epoch 18/50\n",
            "8/8 [==============================] - 40s 5s/step - loss: 0.5765 - accuracy: 0.7403 - val_loss: 0.7096 - val_accuracy: 0.6923\n",
            "Epoch 19/50\n",
            "8/8 [==============================] - 40s 5s/step - loss: 0.6010 - accuracy: 0.7287 - val_loss: 0.6731 - val_accuracy: 0.6923\n",
            "Epoch 20/50\n",
            "8/8 [==============================] - 40s 5s/step - loss: 0.5915 - accuracy: 0.7248 - val_loss: 0.7177 - val_accuracy: 0.6462\n",
            "Epoch 21/50\n",
            "8/8 [==============================] - 40s 5s/step - loss: 0.6337 - accuracy: 0.6977 - val_loss: 0.6976 - val_accuracy: 0.7231\n",
            "Epoch 22/50\n",
            "8/8 [==============================] - 40s 5s/step - loss: 0.6069 - accuracy: 0.7171 - val_loss: 0.6504 - val_accuracy: 0.7385\n",
            "Epoch 23/50\n",
            "8/8 [==============================] - 40s 5s/step - loss: 0.6151 - accuracy: 0.7171 - val_loss: 0.8159 - val_accuracy: 0.6923\n",
            "Epoch 24/50\n",
            "8/8 [==============================] - 40s 5s/step - loss: 0.6101 - accuracy: 0.7326 - val_loss: 0.6539 - val_accuracy: 0.7385\n",
            "Epoch 25/50\n",
            "8/8 [==============================] - 40s 5s/step - loss: 0.6143 - accuracy: 0.7093 - val_loss: 0.7547 - val_accuracy: 0.6154\n",
            "Epoch 26/50\n",
            "8/8 [==============================] - 40s 5s/step - loss: 0.6219 - accuracy: 0.7016 - val_loss: 0.6462 - val_accuracy: 0.7385\n",
            "Epoch 27/50\n",
            "8/8 [==============================] - 39s 5s/step - loss: 0.5868 - accuracy: 0.7364 - val_loss: 0.7410 - val_accuracy: 0.6923\n",
            "Epoch 28/50\n",
            "8/8 [==============================] - 40s 5s/step - loss: 0.5734 - accuracy: 0.7519 - val_loss: 0.6479 - val_accuracy: 0.7077\n",
            "Epoch 29/50\n",
            "8/8 [==============================] - 40s 5s/step - loss: 0.5416 - accuracy: 0.7481 - val_loss: 0.6964 - val_accuracy: 0.6615\n",
            "Epoch 30/50\n",
            "8/8 [==============================] - 40s 5s/step - loss: 0.5871 - accuracy: 0.7519 - val_loss: 0.6270 - val_accuracy: 0.7385\n",
            "Epoch 31/50\n",
            "8/8 [==============================] - 39s 5s/step - loss: 0.6180 - accuracy: 0.7248 - val_loss: 0.7097 - val_accuracy: 0.7385\n",
            "Epoch 32/50\n",
            "8/8 [==============================] - 40s 5s/step - loss: 0.5996 - accuracy: 0.7209 - val_loss: 0.6812 - val_accuracy: 0.7077\n",
            "Epoch 33/50\n",
            "8/8 [==============================] - 40s 5s/step - loss: 0.5620 - accuracy: 0.7364 - val_loss: 0.6901 - val_accuracy: 0.7231\n",
            "Epoch 34/50\n",
            "8/8 [==============================] - 40s 5s/step - loss: 0.5454 - accuracy: 0.7752 - val_loss: 0.6427 - val_accuracy: 0.7385\n",
            "Epoch 35/50\n",
            "8/8 [==============================] - 40s 5s/step - loss: 0.5154 - accuracy: 0.7829 - val_loss: 0.7208 - val_accuracy: 0.6923\n"
          ]
        }
      ],
      "source": [
        "#Fitting the RNN to the training set\n",
        "history=regressor.fit(x_train,y_train,validation_split = 0.2,epochs=50,batch_size=36,callbacks=[\n",
        "    tf.keras.callbacks.EarlyStopping(monitor='val_loss',\n",
        "    patience=5,\n",
        "    \n",
        "    restore_best_weights=True)\n",
        "])"
      ]
    },
    {
      "cell_type": "code",
      "execution_count": 11,
      "metadata": {
        "colab": {
          "base_uri": "https://localhost:8080/"
        },
        "id": "68WE335-qt3L",
        "outputId": "7c804584-2002-4c82-bd0a-e7e9d8df74ad"
      },
      "outputs": [
        {
          "output_type": "stream",
          "name": "stdout",
          "text": [
            "Test Accuracy : 65.5 %\n"
          ]
        }
      ],
      "source": [
        "model_acc = regressor.evaluate(x_test, y_test, verbose=0)[1]\n",
        "print(f\"Test Accuracy : {round(model_acc, 3)*100} %\")\n",
        "     "
      ]
    },
    {
      "cell_type": "markdown",
      "metadata": {
        "id": "rqdaUeQIn90t"
      },
      "source": [
        "cross validation part for particpants"
      ]
    },
    {
      "cell_type": "code",
      "execution_count": 24,
      "metadata": {
        "id": "JulnvIW0vpNT",
        "colab": {
          "base_uri": "https://localhost:8080/"
        },
        "outputId": "bd447561-89ee-4063-a8f7-188205c9aec0"
      },
      "outputs": [
        {
          "output_type": "execute_result",
          "data": {
            "text/plain": [
              "<keras.engine.sequential.Sequential at 0x7f35e05f4c70>"
            ]
          },
          "metadata": {},
          "execution_count": 24
        }
      ],
      "source": []
    },
    {
      "cell_type": "code",
      "source": [],
      "metadata": {
        "id": "hvop25bRx0kc"
      },
      "execution_count": null,
      "outputs": []
    }
  ],
  "metadata": {
    "colab": {
      "provenance": [],
      "authorship_tag": "ABX9TyNLGiEeIGEsJ6ptY1sMIO/L",
      "include_colab_link": true
    },
    "kernelspec": {
      "display_name": "Python 3",
      "name": "python3"
    },
    "language_info": {
      "name": "python"
    }
  },
  "nbformat": 4,
  "nbformat_minor": 0
}