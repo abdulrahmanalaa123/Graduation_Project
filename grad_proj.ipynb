{
  "cells": [
    {
      "cell_type": "markdown",
      "metadata": {
        "id": "view-in-github",
        "colab_type": "text"
      },
      "source": [
        "<a href=\"https://colab.research.google.com/github/abdulrahmanalaa123/Graduation_Project/blob/Honda/grad_proj.ipynb\" target=\"_parent\"><img src=\"https://colab.research.google.com/assets/colab-badge.svg\" alt=\"Open In Colab\"/></a>"
      ]
    },
    {
      "cell_type": "markdown",
      "metadata": {
        "id": "_YB3dV3Xvd8e"
      },
      "source": [
        "imports\n"
      ]
    },
    {
      "cell_type": "code",
      "execution_count": 1,
      "metadata": {
        "colab": {
          "base_uri": "https://localhost:8080/"
        },
        "id": "enu-tpu94bJM",
        "outputId": "e93703cf-6cc8-447c-d50f-6251c925a53c"
      },
      "outputs": [
        {
          "output_type": "stream",
          "name": "stdout",
          "text": [
            "Looking in indexes: https://pypi.org/simple, https://us-python.pkg.dev/colab-wheels/public/simple/\n",
            "Collecting pickle5\n",
            "  Downloading pickle5-0.0.11.tar.gz (132 kB)\n",
            "\u001b[K     |████████████████████████████████| 132 kB 7.4 MB/s \n",
            "\u001b[?25hBuilding wheels for collected packages: pickle5\n",
            "  Building wheel for pickle5 (setup.py) ... \u001b[?25l\u001b[?25hdone\n",
            "  Created wheel for pickle5: filename=pickle5-0.0.11-cp38-cp38-linux_x86_64.whl size=236295 sha256=476818795c0234ef812836976006d4399581c30ca85a28fbd7bca8df7a97f519\n",
            "  Stored in directory: /root/.cache/pip/wheels/25/d4/61/dbd8edd1a0d656be7b4267c85db3b61951eb60016a0154a122\n",
            "Successfully built pickle5\n",
            "Installing collected packages: pickle5\n",
            "Successfully installed pickle5-0.0.11\n"
          ]
        }
      ],
      "source": [
        "!pip3 install pickle5\n",
        "import pickle5 as pickle"
      ]
    },
    {
      "cell_type": "code",
      "execution_count": 2,
      "metadata": {
        "id": "pfz4WjihvFn5"
      },
      "outputs": [],
      "source": [
        "import numpy as np\n",
        "import matplotlib.pyplot as plt\n",
        "import pandas as pd\n",
        "from re import L\n",
        "import json\n",
        "from operator import itemgetter\n",
        "from google.colab import files\n",
        "from keras.callbacks import EarlyStopping\n",
        "from sklearn.preprocessing import LabelEncoder\n",
        "import tensorflow as tf\n",
        "from sklearn.model_selection import train_test_split\n",
        "#from keras.models import Sequential\n",
        "#from keras.layers import Dense\n",
        "#from keras.layers import LSTM\n",
        "#from keras.layers import Dropout\n",
        "#%pip install pandas==1.4.1       unpickle problem\n",
        "\n",
        "\n",
        "\n"
      ]
    },
    {
      "cell_type": "markdown",
      "source": [
        "#upload file from ur google drive"
      ],
      "metadata": {
        "id": "9FKhRUgVhUhC"
      }
    },
    {
      "cell_type": "code",
      "source": [
        "from google.colab import drive\n",
        "drive.mount('/content/drive')"
      ],
      "metadata": {
        "colab": {
          "base_uri": "https://localhost:8080/"
        },
        "id": "hAQ4MCfQgQwR",
        "outputId": "8d45c1f5-b4dc-4b7b-9fa7-29a97077fb96"
      },
      "execution_count": 3,
      "outputs": [
        {
          "output_type": "stream",
          "name": "stdout",
          "text": [
            "Mounted at /content/drive\n"
          ]
        }
      ]
    },
    {
      "cell_type": "markdown",
      "source": [
        "# or upload file from local drive"
      ],
      "metadata": {
        "id": "eaBwQa0uf8bi"
      }
    },
    {
      "cell_type": "code",
      "execution_count": null,
      "metadata": {
        "colab": {
          "base_uri": "https://localhost:8080/",
          "height": 74
        },
        "id": "Ta5sWdgz1fQd",
        "outputId": "00e701a3-1372-4829-fa26-53f3228e0635"
      },
      "outputs": [
        {
          "data": {
            "text/html": [
              "\n",
              "     <input type=\"file\" id=\"files-abbdbc08-00de-4b8a-9492-643ee1708e5c\" name=\"files[]\" multiple disabled\n",
              "        style=\"border:none\" />\n",
              "     <output id=\"result-abbdbc08-00de-4b8a-9492-643ee1708e5c\">\n",
              "      Upload widget is only available when the cell has been executed in the\n",
              "      current browser session. Please rerun this cell to enable.\n",
              "      </output>\n",
              "      <script>// Copyright 2017 Google LLC\n",
              "//\n",
              "// Licensed under the Apache License, Version 2.0 (the \"License\");\n",
              "// you may not use this file except in compliance with the License.\n",
              "// You may obtain a copy of the License at\n",
              "//\n",
              "//      http://www.apache.org/licenses/LICENSE-2.0\n",
              "//\n",
              "// Unless required by applicable law or agreed to in writing, software\n",
              "// distributed under the License is distributed on an \"AS IS\" BASIS,\n",
              "// WITHOUT WARRANTIES OR CONDITIONS OF ANY KIND, either express or implied.\n",
              "// See the License for the specific language governing permissions and\n",
              "// limitations under the License.\n",
              "\n",
              "/**\n",
              " * @fileoverview Helpers for google.colab Python module.\n",
              " */\n",
              "(function(scope) {\n",
              "function span(text, styleAttributes = {}) {\n",
              "  const element = document.createElement('span');\n",
              "  element.textContent = text;\n",
              "  for (const key of Object.keys(styleAttributes)) {\n",
              "    element.style[key] = styleAttributes[key];\n",
              "  }\n",
              "  return element;\n",
              "}\n",
              "\n",
              "// Max number of bytes which will be uploaded at a time.\n",
              "const MAX_PAYLOAD_SIZE = 100 * 1024;\n",
              "\n",
              "function _uploadFiles(inputId, outputId) {\n",
              "  const steps = uploadFilesStep(inputId, outputId);\n",
              "  const outputElement = document.getElementById(outputId);\n",
              "  // Cache steps on the outputElement to make it available for the next call\n",
              "  // to uploadFilesContinue from Python.\n",
              "  outputElement.steps = steps;\n",
              "\n",
              "  return _uploadFilesContinue(outputId);\n",
              "}\n",
              "\n",
              "// This is roughly an async generator (not supported in the browser yet),\n",
              "// where there are multiple asynchronous steps and the Python side is going\n",
              "// to poll for completion of each step.\n",
              "// This uses a Promise to block the python side on completion of each step,\n",
              "// then passes the result of the previous step as the input to the next step.\n",
              "function _uploadFilesContinue(outputId) {\n",
              "  const outputElement = document.getElementById(outputId);\n",
              "  const steps = outputElement.steps;\n",
              "\n",
              "  const next = steps.next(outputElement.lastPromiseValue);\n",
              "  return Promise.resolve(next.value.promise).then((value) => {\n",
              "    // Cache the last promise value to make it available to the next\n",
              "    // step of the generator.\n",
              "    outputElement.lastPromiseValue = value;\n",
              "    return next.value.response;\n",
              "  });\n",
              "}\n",
              "\n",
              "/**\n",
              " * Generator function which is called between each async step of the upload\n",
              " * process.\n",
              " * @param {string} inputId Element ID of the input file picker element.\n",
              " * @param {string} outputId Element ID of the output display.\n",
              " * @return {!Iterable<!Object>} Iterable of next steps.\n",
              " */\n",
              "function* uploadFilesStep(inputId, outputId) {\n",
              "  const inputElement = document.getElementById(inputId);\n",
              "  inputElement.disabled = false;\n",
              "\n",
              "  const outputElement = document.getElementById(outputId);\n",
              "  outputElement.innerHTML = '';\n",
              "\n",
              "  const pickedPromise = new Promise((resolve) => {\n",
              "    inputElement.addEventListener('change', (e) => {\n",
              "      resolve(e.target.files);\n",
              "    });\n",
              "  });\n",
              "\n",
              "  const cancel = document.createElement('button');\n",
              "  inputElement.parentElement.appendChild(cancel);\n",
              "  cancel.textContent = 'Cancel upload';\n",
              "  const cancelPromise = new Promise((resolve) => {\n",
              "    cancel.onclick = () => {\n",
              "      resolve(null);\n",
              "    };\n",
              "  });\n",
              "\n",
              "  // Wait for the user to pick the files.\n",
              "  const files = yield {\n",
              "    promise: Promise.race([pickedPromise, cancelPromise]),\n",
              "    response: {\n",
              "      action: 'starting',\n",
              "    }\n",
              "  };\n",
              "\n",
              "  cancel.remove();\n",
              "\n",
              "  // Disable the input element since further picks are not allowed.\n",
              "  inputElement.disabled = true;\n",
              "\n",
              "  if (!files) {\n",
              "    return {\n",
              "      response: {\n",
              "        action: 'complete',\n",
              "      }\n",
              "    };\n",
              "  }\n",
              "\n",
              "  for (const file of files) {\n",
              "    const li = document.createElement('li');\n",
              "    li.append(span(file.name, {fontWeight: 'bold'}));\n",
              "    li.append(span(\n",
              "        `(${file.type || 'n/a'}) - ${file.size} bytes, ` +\n",
              "        `last modified: ${\n",
              "            file.lastModifiedDate ? file.lastModifiedDate.toLocaleDateString() :\n",
              "                                    'n/a'} - `));\n",
              "    const percent = span('0% done');\n",
              "    li.appendChild(percent);\n",
              "\n",
              "    outputElement.appendChild(li);\n",
              "\n",
              "    const fileDataPromise = new Promise((resolve) => {\n",
              "      const reader = new FileReader();\n",
              "      reader.onload = (e) => {\n",
              "        resolve(e.target.result);\n",
              "      };\n",
              "      reader.readAsArrayBuffer(file);\n",
              "    });\n",
              "    // Wait for the data to be ready.\n",
              "    let fileData = yield {\n",
              "      promise: fileDataPromise,\n",
              "      response: {\n",
              "        action: 'continue',\n",
              "      }\n",
              "    };\n",
              "\n",
              "    // Use a chunked sending to avoid message size limits. See b/62115660.\n",
              "    let position = 0;\n",
              "    do {\n",
              "      const length = Math.min(fileData.byteLength - position, MAX_PAYLOAD_SIZE);\n",
              "      const chunk = new Uint8Array(fileData, position, length);\n",
              "      position += length;\n",
              "\n",
              "      const base64 = btoa(String.fromCharCode.apply(null, chunk));\n",
              "      yield {\n",
              "        response: {\n",
              "          action: 'append',\n",
              "          file: file.name,\n",
              "          data: base64,\n",
              "        },\n",
              "      };\n",
              "\n",
              "      let percentDone = fileData.byteLength === 0 ?\n",
              "          100 :\n",
              "          Math.round((position / fileData.byteLength) * 100);\n",
              "      percent.textContent = `${percentDone}% done`;\n",
              "\n",
              "    } while (position < fileData.byteLength);\n",
              "  }\n",
              "\n",
              "  // All done.\n",
              "  yield {\n",
              "    response: {\n",
              "      action: 'complete',\n",
              "    }\n",
              "  };\n",
              "}\n",
              "\n",
              "scope.google = scope.google || {};\n",
              "scope.google.colab = scope.google.colab || {};\n",
              "scope.google.colab._files = {\n",
              "  _uploadFiles,\n",
              "  _uploadFilesContinue,\n",
              "};\n",
              "})(self);\n",
              "</script> "
            ],
            "text/plain": [
              "<IPython.core.display.HTML object>"
            ]
          },
          "metadata": {},
          "output_type": "display_data"
        },
        {
          "name": "stdout",
          "output_type": "stream",
          "text": [
            "Saving hr(tuples).pkl to hr(tuples).pkl\n"
          ]
        }
      ],
      "source": [
        "uploaded = files.upload()\n"
      ]
    },
    {
      "cell_type": "markdown",
      "source": [
        "#or upload file manually intp \"files\" then run this cell V"
      ],
      "metadata": {
        "id": "lv9T6zcSgDTB"
      }
    },
    {
      "cell_type": "code",
      "execution_count": 4,
      "metadata": {
        "id": "2XByQW4-5Aam"
      },
      "outputs": [],
      "source": [
        "with open(\"/content/drive/MyDrive/Colab Notebooks/hr(tuples).pkl\", \"rb\") as f: \n",
        "    data = pickle.load(f) "
      ]
    },
    {
      "cell_type": "code",
      "execution_count": null,
      "metadata": {
        "id": "Wiz2w_-zO2P8",
        "colab": {
          "base_uri": "https://localhost:8080/",
          "height": 35
        },
        "outputId": "100b29f0-d5e8-4037-c00d-3671144c60f5"
      },
      "outputs": [
        {
          "output_type": "execute_result",
          "data": {
            "text/plain": [
              "'1.2.5'"
            ],
            "application/vnd.google.colaboratory.intrinsic+json": {
              "type": "string"
            }
          },
          "metadata": {},
          "execution_count": 9
        }
      ],
      "source": [
        "#data = pd.read_pickle(\"/content/hr(tuples).pkl\")\n",
        "%pip install pandas==1.4.1"
      ]
    },
    {
      "cell_type": "code",
      "execution_count": 5,
      "metadata": {
        "colab": {
          "base_uri": "https://localhost:8080/"
        },
        "id": "CtFDLv6H6SKF",
        "outputId": "44985d4b-9ffc-405c-b261-dc767e62b0c1"
      },
      "outputs": [
        {
          "output_type": "stream",
          "name": "stdout",
          "text": [
            "      Participant           Stage       0:0.0  0:0.099791  0:0.199582  \\\n",
            "0              22        STIMULUS   (87, 602)   (87, 602)   (87, 602)   \n",
            "1              22  QUESTIONNAIRES   (85, 921)   (85, 921)   (85, 921)   \n",
            "2              22         WASHOUT   (80, 749)   (80, 792)   (80, 792)   \n",
            "3              22        STIMULUS   (81, 719)   (81, 719)   (81, 719)   \n",
            "4              22  QUESTIONNAIRES   (83, 702)   (82, 702)   (83, 702)   \n",
            "...           ...             ...         ...         ...         ...   \n",
            "1339           64        STIMULUS   (78, 516)   (78, 516)   (78, 516)   \n",
            "1340           64  QUESTIONNAIRES   (77, 799)   (77, 799)   (77, 816)   \n",
            "1341           64         WASHOUT    (0, 987)    (0, 987)    (0, 987)   \n",
            "1342           64        STIMULUS   (69, 829)   (68, 829)   (69, 829)   \n",
            "1343           64  QUESTIONNAIRES  (66, 1245)  (65, 1245)  (65, 1245)   \n",
            "\n",
            "     0:0.299373  0:0.399164 0:0.49895500000000004  0:0.598746  \\\n",
            "0     (87, 602)   (87, 602)             (87, 602)   (87, 602)   \n",
            "1     (85, 921)   (85, 921)             (85, 921)   (85, 921)   \n",
            "2     (80, 792)   (80, 792)             (80, 792)   (79, 792)   \n",
            "3     (81, 719)   (81, 734)             (81, 734)   (81, 734)   \n",
            "4     (83, 702)   (83, 702)             (82, 702)   (82, 702)   \n",
            "...         ...         ...                   ...         ...   \n",
            "1339  (78, 634)   (78, 634)             (78, 634)   (78, 634)   \n",
            "1340  (77, 816)   (77, 816)             (77, 816)   (77, 816)   \n",
            "1341   (0, 987)  (-10, 987)            (-10, 987)  (-10, 987)   \n",
            "1342  (69, 829)   (69, 829)            (69, 1248)  (68, 1248)   \n",
            "1343  (65, 881)   (65, 881)             (65, 881)   (65, 881)   \n",
            "\n",
            "     0:0.6985370000000001  ... SURPRISE ANGER ENTHUSIASM LIKING FEAR  \\\n",
            "0               (87, 406)  ...        1     1          2      1    1   \n",
            "1               (85, 921)  ...        1     1          2      1    1   \n",
            "2               (79, 792)  ...        1     1          1      1    1   \n",
            "3               (81, 734)  ...        1     1          1      1    1   \n",
            "4               (82, 702)  ...        1     1          1      1    1   \n",
            "...                   ...  ...      ...   ...        ...    ...  ...   \n",
            "1339            (78, 634)  ...        1     1          3      1    1   \n",
            "1340            (77, 816)  ...        1     1          3      1    1   \n",
            "1341           (-10, 987)  ...        1     1          5      1    1   \n",
            "1342           (68, 1248)  ...        1     1          5      1    1   \n",
            "1343            (65, 881)  ...        1     1          5      1    1   \n",
            "\n",
            "     AMUSEMENT SADNESS VALENCE AROUSAL MOTIVATION  \n",
            "0            2       1       5       2          4  \n",
            "1            2       1       5       2          4  \n",
            "2            1       1       4       2          5  \n",
            "3            1       1       4       2          5  \n",
            "4            1       1       4       2          5  \n",
            "...        ...     ...     ...     ...        ...  \n",
            "1339         1       1       5       2          6  \n",
            "1340         1       1       5       2          6  \n",
            "1341         1       1       9       8          9  \n",
            "1342         1       1       9       8          9  \n",
            "1343         1       1       9       8          9  \n",
            "\n",
            "[1344 rows x 6305 columns]\n"
          ]
        }
      ],
      "source": [
        "print(data)"
      ]
    },
    {
      "cell_type": "code",
      "execution_count": 22,
      "metadata": {
        "colab": {
          "base_uri": "https://localhost:8080/"
        },
        "id": "whGFCpWkvGVr",
        "outputId": "13a0fed6-b501-45bf-ebe0-37a5bb40a76c"
      },
      "outputs": [
        {
          "output_type": "stream",
          "name": "stdout",
          "text": [
            "[22 23 24 25 26 27 28 29 31 32 33 34 35 36 37 38 39 40 41 42 43 44 45 46\n",
            " 47 48 49 50 51 52 53 54 55 56 57 58 59 60 61 62 63 64]\n"
          ]
        }
      ],
      "source": [
        "def getter(x):\n",
        "    if isinstance(x,tuple):\n",
        "        return itemgetter(0)(x)\n",
        "    else:\n",
        "        return x\n",
        "\n",
        "#data = pd.read_pickle(\"hr(tuples).pkl\")\n",
        "mask = data[\"Participant\"] ==  22\n",
        "mask2 = data[\"Stage\"] == \"STIMULUS\"\n",
        "mask3 = data[\"Target\"]== \"BASELINE\"\n",
        "#print(data.loc[ mask2,[*data.columns[2:500],*data.columns[-15:]]].applymap(lambda x:getter(x)))\n",
        "#print(data.loc[mask2,[*data.columns[2:6292]]].applymap(lambda x:getter(x)))#xtrain->particpants hr values\n",
        "#print(data.loc[mask2,\"Target\"])#ytrain-> target emo\n",
        "\n",
        "print(data.loc[mask2 , \"Participant\"].unique())\n"
      ]
    },
    {
      "cell_type": "markdown",
      "source": [
        "#splitting by participants"
      ],
      "metadata": {
        "id": "CjUWzvH1KZ1F"
      }
    },
    {
      "cell_type": "code",
      "source": [
        "pnumber=data.loc[mask2 , \"Participant\"].unique()\n",
        "xtrain=[]\n",
        "ytrain=[]\n",
        "xtest=[]\n",
        "ytest=[]\n",
        "#30 for training ,rest for test\n",
        "for i in range (len(pnumber)):\n",
        "  for j in range(11):\n",
        "      if i<30:\n",
        "        xtrain.append(data.loc[(data['Participant'] == pnumber[i]) & (data['Stage'] == 'STIMULUS'),[*data.columns[2:6292]]].applymap(lambda x:getter(x)).iloc[j])\n",
        "        ytrain.append(data.loc[(data['Participant'] == pnumber[i]) & (data['Stage'] == 'STIMULUS'),\"Target\"].iloc[j])\n",
        "      else:\n",
        "        xtest.append(data.loc[(data['Participant'] == pnumber[i]) & (data['Stage'] == 'STIMULUS'),[*data.columns[2:6292]]].applymap(lambda x:getter(x)).iloc[j])\n",
        "        ytest.append(data.loc[(data['Participant'] == pnumber[i]) & (data['Stage'] == 'STIMULUS'),\"Target\"].iloc[j])"
      ],
      "metadata": {
        "id": "13ItPnXzmbqu"
      },
      "execution_count": 84,
      "outputs": []
    },
    {
      "cell_type": "code",
      "source": [
        "xtrain1=np.array(xtrain)\n",
        "xtest1=np.array(xtest)\n",
        "ytrain1=np.array(ytrain)\n",
        "ytest1=np.array(ytest)\n",
        "print(xtrain1.shape)\n",
        "label_encoder = LabelEncoder()\n",
        "y_train = label_encoder.fit_transform(ytrain1)\n",
        "y_test = label_encoder.fit_transform(ytest1)\n",
        "x_train,x_test=np.reshape(xtrain1,(xtrain1.shape[0],xtrain1.shape[1],1)),np.reshape(xtest1,(xtest1.shape[0],xtest1.shape[1],1))\n",
        "print(x_train.shape)"
      ],
      "metadata": {
        "colab": {
          "base_uri": "https://localhost:8080/"
        },
        "id": "fj6V-sKgxW5D",
        "outputId": "725cba28-7a76-49a8-b462-c42da50ed6b8"
      },
      "execution_count": 93,
      "outputs": [
        {
          "output_type": "stream",
          "name": "stdout",
          "text": [
            "(330, 6290)\n",
            "(330, 6290, 1)\n"
          ]
        }
      ]
    },
    {
      "cell_type": "markdown",
      "source": [
        "#random signal split"
      ],
      "metadata": {
        "id": "6dThXVlJKlG2"
      }
    },
    {
      "cell_type": "code",
      "execution_count": 48,
      "metadata": {
        "id": "FpRuvQkSMRbm"
      },
      "outputs": [],
      "source": [
        "xtrain=data.loc[mask2,[*data.columns[2:6292]]].applymap(lambda x:getter(x))\n",
        "ytrain=data.loc[mask2,\"Target\"]"
      ]
    },
    {
      "cell_type": "code",
      "execution_count": null,
      "metadata": {
        "id": "I5WRmsmESgHA",
        "colab": {
          "base_uri": "https://localhost:8080/"
        },
        "outputId": "f0665d27-5c39-4f1b-8a20-e55b72ba3c3c"
      },
      "outputs": [
        {
          "output_type": "stream",
          "name": "stdout",
          "text": [
            "[[[88]\n",
            "  [88]\n",
            "  [88]\n",
            "  ...\n",
            "  [ 0]\n",
            "  [ 0]\n",
            "  [ 0]]\n",
            "\n",
            " [[76]\n",
            "  [76]\n",
            "  [76]\n",
            "  ...\n",
            "  [ 0]\n",
            "  [ 0]\n",
            "  [ 0]]\n",
            "\n",
            " [[89]\n",
            "  [89]\n",
            "  [88]\n",
            "  ...\n",
            "  [ 0]\n",
            "  [ 0]\n",
            "  [ 0]]\n",
            "\n",
            " ...\n",
            "\n",
            " [[95]\n",
            "  [95]\n",
            "  [95]\n",
            "  ...\n",
            "  [ 0]\n",
            "  [ 0]\n",
            "  [ 0]]\n",
            "\n",
            " [[69]\n",
            "  [70]\n",
            "  [69]\n",
            "  ...\n",
            "  [ 0]\n",
            "  [ 0]\n",
            "  [ 0]]\n",
            "\n",
            " [[72]\n",
            "  [72]\n",
            "  [72]\n",
            "  ...\n",
            "  [ 0]\n",
            "  [ 0]\n",
            "  [ 0]]]\n"
          ]
        }
      ],
      "source": [
        "x_train=[]\n",
        "y_train=[]\n",
        "label_encoder = LabelEncoder()\n",
        "x_train,y_train=np.array(xtrain),np.array(ytrain)\n",
        "y_train = label_encoder.fit_transform(y_train)\n",
        "label_encoder_name_mapping = dict(zip(label_encoder.classes_,\n",
        "                                         label_encoder.transform(label_encoder.classes_)))\n",
        "x_train,  x_test, y_train, y_test = train_test_split(x_train, y_train, train_size = 0.7, random_state = 123)\n",
        "x_train,x_test=np.reshape(x_train,(x_train.shape[0],x_train.shape[1],1)),np.reshape(x_test,(x_test.shape[0],x_test.shape[1],1))\n",
        "#print(label_encoder_name_mapping)\n",
        "print(x_train)"
      ]
    },
    {
      "cell_type": "code",
      "execution_count": 95,
      "metadata": {
        "colab": {
          "base_uri": "https://localhost:8080/"
        },
        "id": "Apu3ggSgfIie",
        "outputId": "94d22852-5a80-402a-c461-28b5b65c91f7"
      },
      "outputs": [
        {
          "output_type": "stream",
          "name": "stdout",
          "text": [
            "Model: \"sequential\"\n",
            "_________________________________________________________________\n",
            " Layer (type)                Output Shape              Param #   \n",
            "=================================================================\n",
            " lstm (LSTM)                 (None, 6290, 50)          10400     \n",
            "                                                                 \n",
            " dropout (Dropout)           (None, 6290, 50)          0         \n",
            "                                                                 \n",
            " lstm_1 (LSTM)               (None, 6290, 50)          20200     \n",
            "                                                                 \n",
            " dropout_1 (Dropout)         (None, 6290, 50)          0         \n",
            "                                                                 \n",
            " flatten (Flatten)           (None, 314500)            0         \n",
            "                                                                 \n",
            " dense (Dense)               (None, 11)                3459511   \n",
            "                                                                 \n",
            "=================================================================\n",
            "Total params: 3,490,111\n",
            "Trainable params: 3,490,111\n",
            "Non-trainable params: 0\n",
            "_________________________________________________________________\n",
            "None\n"
          ]
        }
      ],
      "source": [
        "#initalizing the RNN\n",
        "regressor =tf.keras.Sequential()\n",
        "#adding the first lstm layer and some dropout regularisation\n",
        "regressor.add(tf.keras.layers.LSTM(units=50,return_sequences=True,input_shape=(x_train.shape[1],1)))\n",
        "regressor.add(tf.keras.layers.Dropout(0.2))\n",
        "#adding the 2nd lstm layer and some dropout regularisation\n",
        "regressor.add(tf.keras.layers.LSTM(units=50,return_sequences=True))\n",
        "regressor.add(tf.keras.layers.Dropout(0.2))\n",
        "\n",
        "regressor.add(tf.keras.layers.Flatten())\n",
        "\n",
        "#adding the output layer\n",
        "regressor.add (tf.keras.layers.Dense(units=11,activation='softmax'))\n",
        "#compiling the RNN\n",
        "regressor.compile(optimizer='adam',loss='sparse_categorical_crossentropy',metrics='accuracy')\n",
        "print(regressor.summary())"
      ]
    },
    {
      "cell_type": "code",
      "execution_count": 96,
      "metadata": {
        "colab": {
          "base_uri": "https://localhost:8080/"
        },
        "id": "oo_KDLAf-VIm",
        "outputId": "c7fe8a04-df83-424a-8201-79696d78b947"
      },
      "outputs": [
        {
          "output_type": "stream",
          "name": "stdout",
          "text": [
            "Epoch 1/50\n",
            "8/8 [==============================] - 78s 9s/step - loss: 4.4511 - accuracy: 0.3333 - val_loss: 2.5005 - val_accuracy: 0.5606\n",
            "Epoch 2/50\n",
            "8/8 [==============================] - 71s 9s/step - loss: 1.8436 - accuracy: 0.5644 - val_loss: 1.6914 - val_accuracy: 0.5909\n",
            "Epoch 3/50\n",
            "8/8 [==============================] - 73s 9s/step - loss: 1.2382 - accuracy: 0.6212 - val_loss: 1.0899 - val_accuracy: 0.6970\n",
            "Epoch 4/50\n",
            "8/8 [==============================] - 70s 9s/step - loss: 0.9812 - accuracy: 0.7045 - val_loss: 1.0827 - val_accuracy: 0.6818\n",
            "Epoch 5/50\n",
            "8/8 [==============================] - 72s 9s/step - loss: 0.9818 - accuracy: 0.6818 - val_loss: 0.9971 - val_accuracy: 0.7121\n",
            "Epoch 6/50\n",
            "8/8 [==============================] - 72s 9s/step - loss: 0.7878 - accuracy: 0.6894 - val_loss: 0.8010 - val_accuracy: 0.6515\n",
            "Epoch 7/50\n",
            "8/8 [==============================] - 68s 9s/step - loss: 0.6651 - accuracy: 0.7121 - val_loss: 0.7139 - val_accuracy: 0.7121\n",
            "Epoch 8/50\n",
            "8/8 [==============================] - 73s 9s/step - loss: 0.6102 - accuracy: 0.7273 - val_loss: 0.6807 - val_accuracy: 0.6970\n",
            "Epoch 9/50\n",
            "8/8 [==============================] - 69s 9s/step - loss: 0.5537 - accuracy: 0.7348 - val_loss: 0.6747 - val_accuracy: 0.7121\n",
            "Epoch 10/50\n",
            "8/8 [==============================] - 75s 9s/step - loss: 0.5907 - accuracy: 0.7311 - val_loss: 0.6810 - val_accuracy: 0.6667\n",
            "Epoch 11/50\n",
            "8/8 [==============================] - 74s 9s/step - loss: 0.5819 - accuracy: 0.7083 - val_loss: 0.7145 - val_accuracy: 0.6970\n",
            "Epoch 12/50\n",
            "8/8 [==============================] - 70s 9s/step - loss: 0.6013 - accuracy: 0.7311 - val_loss: 0.6541 - val_accuracy: 0.7121\n",
            "Epoch 13/50\n",
            "8/8 [==============================] - 73s 9s/step - loss: 0.6152 - accuracy: 0.7235 - val_loss: 0.6729 - val_accuracy: 0.6818\n",
            "Epoch 14/50\n",
            "8/8 [==============================] - 73s 9s/step - loss: 0.6038 - accuracy: 0.7462 - val_loss: 0.7277 - val_accuracy: 0.7121\n",
            "Epoch 15/50\n",
            "8/8 [==============================] - 69s 9s/step - loss: 0.5580 - accuracy: 0.7424 - val_loss: 0.6804 - val_accuracy: 0.6818\n",
            "Epoch 16/50\n",
            "8/8 [==============================] - 72s 9s/step - loss: 0.5962 - accuracy: 0.6780 - val_loss: 0.6888 - val_accuracy: 0.6818\n",
            "Epoch 17/50\n",
            "8/8 [==============================] - 71s 9s/step - loss: 0.5454 - accuracy: 0.7538 - val_loss: 0.7030 - val_accuracy: 0.6667\n"
          ]
        }
      ],
      "source": [
        "#Fitting the RNN to the training set\n",
        "history=regressor.fit(x_train,y_train,validation_split = 0.2,epochs=50,batch_size=36,callbacks=[\n",
        "    tf.keras.callbacks.EarlyStopping(monitor='val_loss',\n",
        "    patience=5,\n",
        "    \n",
        "    restore_best_weights=True)\n",
        "])"
      ]
    },
    {
      "cell_type": "code",
      "execution_count": 97,
      "metadata": {
        "colab": {
          "base_uri": "https://localhost:8080/"
        },
        "id": "68WE335-qt3L",
        "outputId": "e9e1fb6e-5f28-46e3-c7c7-ebc627fad3f2"
      },
      "outputs": [
        {
          "output_type": "stream",
          "name": "stdout",
          "text": [
            "Test Accuracy : 69.69999999999999 %\n"
          ]
        }
      ],
      "source": [
        "model_acc = regressor.evaluate(x_test, y_test, verbose=0)[1]\n",
        "print(f\"Test Accuracy : {round(model_acc, 3)*100} %\")\n",
        "     "
      ]
    },
    {
      "cell_type": "markdown",
      "metadata": {
        "id": "rqdaUeQIn90t"
      },
      "source": [
        "cross validation part for particpants"
      ]
    },
    {
      "cell_type": "code",
      "execution_count": null,
      "metadata": {
        "id": "JulnvIW0vpNT",
        "colab": {
          "base_uri": "https://localhost:8080/"
        },
        "outputId": "bd447561-89ee-4063-a8f7-188205c9aec0"
      },
      "outputs": [
        {
          "output_type": "execute_result",
          "data": {
            "text/plain": [
              "<keras.engine.sequential.Sequential at 0x7f35e05f4c70>"
            ]
          },
          "metadata": {},
          "execution_count": 24
        }
      ],
      "source": []
    },
    {
      "cell_type": "code",
      "source": [],
      "metadata": {
        "id": "hvop25bRx0kc"
      },
      "execution_count": null,
      "outputs": []
    }
  ],
  "metadata": {
    "colab": {
      "provenance": [],
      "authorship_tag": "ABX9TyNNTrYPsMWGaaS31+zjEP+q",
      "include_colab_link": true
    },
    "kernelspec": {
      "display_name": "Python 3",
      "name": "python3"
    },
    "language_info": {
      "name": "python"
    }
  },
  "nbformat": 4,
  "nbformat_minor": 0
}