{
  "cells": [
    {
      "cell_type": "code",
      "execution_count": null,
      "metadata": {
        "id": "_muCgl5J4zFc"
      },
      "outputs": [],
      "source": [
        "import pandas as pd \n",
        "import numpy as np\n",
        "import matplotlib.pyplot as plt\n",
        "import seaborn as sns\n",
        "from operator import itemgetter\n",
        "import json \n",
        "import os\n",
        "import tensorflow as tf\n",
        "from sklearn.model_selection import train_test_split\n",
        "from sklearn.metrics import confusion_matrix, classification_report"
      ]
    },
    {
      "cell_type": "code",
      "execution_count": null,
      "metadata": {
        "id": "wZSK1i1F_TUq",
        "colab": {
          "base_uri": "https://localhost:8080/"
        },
        "outputId": "57639cda-d15a-4271-99d1-bfe5c1743bd1"
      },
      "outputs": [
        {
          "output_type": "stream",
          "name": "stdout",
          "text": [
            "Looking in indexes: https://pypi.org/simple, https://us-python.pkg.dev/colab-wheels/public/simple/\n",
            "Collecting pickle5\n",
            "  Downloading pickle5-0.0.11.tar.gz (132 kB)\n",
            "\u001b[K     |████████████████████████████████| 132 kB 8.6 MB/s \n",
            "\u001b[?25hBuilding wheels for collected packages: pickle5\n",
            "  Building wheel for pickle5 (setup.py) ... \u001b[?25l\u001b[?25hdone\n",
            "  Created wheel for pickle5: filename=pickle5-0.0.11-cp38-cp38-linux_x86_64.whl size=236299 sha256=99bd8a90b12e731dff58cfc5946ff818a02857059bd08feafbaf8898f543b9d8\n",
            "  Stored in directory: /root/.cache/pip/wheels/25/d4/61/dbd8edd1a0d656be7b4267c85db3b61951eb60016a0154a122\n",
            "Successfully built pickle5\n",
            "Installing collected packages: pickle5\n",
            "Successfully installed pickle5-0.0.11\n"
          ]
        }
      ],
      "source": [
        "!pip install pickle5\n",
        "import pickle5 as pickle"
      ]
    },
    {
      "cell_type": "code",
      "execution_count": null,
      "metadata": {
        "id": "wwCbKUdY_f5V"
      },
      "outputs": [],
      "source": [
        "with open('/content/sample_data/hr(tuples).pkl', \"rb\") as fh:\n",
        "  data = pickle.load(fh)"
      ]
    },
    {
      "cell_type": "code",
      "execution_count": null,
      "metadata": {
        "id": "qRemVWjrO0Co"
      },
      "outputs": [],
      "source": [
        "def getter(x):\n",
        "    if isinstance(x,tuple):\n",
        "        return itemgetter(0)(x)\n",
        "    else:\n",
        "        return x"
      ]
    },
    {
      "cell_type": "code",
      "execution_count": null,
      "metadata": {
        "id": "lJyTDGeG_3pj",
        "colab": {
          "base_uri": "https://localhost:8080/"
        },
        "outputId": "69f6da60-0793-4a68-cda2-128f70620d48"
      },
      "outputs": [
        {
          "output_type": "execute_result",
          "data": {
            "text/plain": [
              "pandas.core.frame.DataFrame"
            ]
          },
          "metadata": {},
          "execution_count": 6
        }
      ],
      "source": [
        "type(data)"
      ]
    },
    {
      "cell_type": "code",
      "execution_count": null,
      "metadata": {
        "id": "aKureeEx_9te",
        "colab": {
          "base_uri": "https://localhost:8080/",
          "height": 661
        },
        "outputId": "773384b4-c59c-4781-c2ee-42f8fa473e50"
      },
      "outputs": [
        {
          "output_type": "execute_result",
          "data": {
            "text/plain": [
              "      Participant           Stage       0:0.0  0:0.099791  0:0.199582  \\\n",
              "0              22        STIMULUS   (87, 602)   (87, 602)   (87, 602)   \n",
              "1              22  QUESTIONNAIRES   (85, 921)   (85, 921)   (85, 921)   \n",
              "2              22         WASHOUT   (80, 749)   (80, 792)   (80, 792)   \n",
              "3              22        STIMULUS   (81, 719)   (81, 719)   (81, 719)   \n",
              "4              22  QUESTIONNAIRES   (83, 702)   (82, 702)   (83, 702)   \n",
              "...           ...             ...         ...         ...         ...   \n",
              "1339           64        STIMULUS   (78, 516)   (78, 516)   (78, 516)   \n",
              "1340           64  QUESTIONNAIRES   (77, 799)   (77, 799)   (77, 816)   \n",
              "1341           64         WASHOUT    (0, 987)    (0, 987)    (0, 987)   \n",
              "1342           64        STIMULUS   (69, 829)   (68, 829)   (69, 829)   \n",
              "1343           64  QUESTIONNAIRES  (66, 1245)  (65, 1245)  (65, 1245)   \n",
              "\n",
              "     0:0.299373  0:0.399164 0:0.49895500000000004  0:0.598746  \\\n",
              "0     (87, 602)   (87, 602)             (87, 602)   (87, 602)   \n",
              "1     (85, 921)   (85, 921)             (85, 921)   (85, 921)   \n",
              "2     (80, 792)   (80, 792)             (80, 792)   (79, 792)   \n",
              "3     (81, 719)   (81, 734)             (81, 734)   (81, 734)   \n",
              "4     (83, 702)   (83, 702)             (82, 702)   (82, 702)   \n",
              "...         ...         ...                   ...         ...   \n",
              "1339  (78, 634)   (78, 634)             (78, 634)   (78, 634)   \n",
              "1340  (77, 816)   (77, 816)             (77, 816)   (77, 816)   \n",
              "1341   (0, 987)  (-10, 987)            (-10, 987)  (-10, 987)   \n",
              "1342  (69, 829)   (69, 829)            (69, 1248)  (68, 1248)   \n",
              "1343  (65, 881)   (65, 881)             (65, 881)   (65, 881)   \n",
              "\n",
              "     0:0.6985370000000001  ... SURPRISE ANGER ENTHUSIASM LIKING FEAR  \\\n",
              "0               (87, 406)  ...        1     1          2      1    1   \n",
              "1               (85, 921)  ...        1     1          2      1    1   \n",
              "2               (79, 792)  ...        1     1          1      1    1   \n",
              "3               (81, 734)  ...        1     1          1      1    1   \n",
              "4               (82, 702)  ...        1     1          1      1    1   \n",
              "...                   ...  ...      ...   ...        ...    ...  ...   \n",
              "1339            (78, 634)  ...        1     1          3      1    1   \n",
              "1340            (77, 816)  ...        1     1          3      1    1   \n",
              "1341           (-10, 987)  ...        1     1          5      1    1   \n",
              "1342           (68, 1248)  ...        1     1          5      1    1   \n",
              "1343            (65, 881)  ...        1     1          5      1    1   \n",
              "\n",
              "     AMUSEMENT SADNESS VALENCE AROUSAL MOTIVATION  \n",
              "0            2       1       5       2          4  \n",
              "1            2       1       5       2          4  \n",
              "2            1       1       4       2          5  \n",
              "3            1       1       4       2          5  \n",
              "4            1       1       4       2          5  \n",
              "...        ...     ...     ...     ...        ...  \n",
              "1339         1       1       5       2          6  \n",
              "1340         1       1       5       2          6  \n",
              "1341         1       1       9       8          9  \n",
              "1342         1       1       9       8          9  \n",
              "1343         1       1       9       8          9  \n",
              "\n",
              "[1344 rows x 6305 columns]"
            ],
            "text/html": [
              "\n",
              "  <div id=\"df-d340de62-34e6-4c07-a57b-dfdd596545bd\">\n",
              "    <div class=\"colab-df-container\">\n",
              "      <div>\n",
              "<style scoped>\n",
              "    .dataframe tbody tr th:only-of-type {\n",
              "        vertical-align: middle;\n",
              "    }\n",
              "\n",
              "    .dataframe tbody tr th {\n",
              "        vertical-align: top;\n",
              "    }\n",
              "\n",
              "    .dataframe thead th {\n",
              "        text-align: right;\n",
              "    }\n",
              "</style>\n",
              "<table border=\"1\" class=\"dataframe\">\n",
              "  <thead>\n",
              "    <tr style=\"text-align: right;\">\n",
              "      <th></th>\n",
              "      <th>Participant</th>\n",
              "      <th>Stage</th>\n",
              "      <th>0:0.0</th>\n",
              "      <th>0:0.099791</th>\n",
              "      <th>0:0.199582</th>\n",
              "      <th>0:0.299373</th>\n",
              "      <th>0:0.399164</th>\n",
              "      <th>0:0.49895500000000004</th>\n",
              "      <th>0:0.598746</th>\n",
              "      <th>0:0.6985370000000001</th>\n",
              "      <th>...</th>\n",
              "      <th>SURPRISE</th>\n",
              "      <th>ANGER</th>\n",
              "      <th>ENTHUSIASM</th>\n",
              "      <th>LIKING</th>\n",
              "      <th>FEAR</th>\n",
              "      <th>AMUSEMENT</th>\n",
              "      <th>SADNESS</th>\n",
              "      <th>VALENCE</th>\n",
              "      <th>AROUSAL</th>\n",
              "      <th>MOTIVATION</th>\n",
              "    </tr>\n",
              "  </thead>\n",
              "  <tbody>\n",
              "    <tr>\n",
              "      <th>0</th>\n",
              "      <td>22</td>\n",
              "      <td>STIMULUS</td>\n",
              "      <td>(87, 602)</td>\n",
              "      <td>(87, 602)</td>\n",
              "      <td>(87, 602)</td>\n",
              "      <td>(87, 602)</td>\n",
              "      <td>(87, 602)</td>\n",
              "      <td>(87, 602)</td>\n",
              "      <td>(87, 602)</td>\n",
              "      <td>(87, 406)</td>\n",
              "      <td>...</td>\n",
              "      <td>1</td>\n",
              "      <td>1</td>\n",
              "      <td>2</td>\n",
              "      <td>1</td>\n",
              "      <td>1</td>\n",
              "      <td>2</td>\n",
              "      <td>1</td>\n",
              "      <td>5</td>\n",
              "      <td>2</td>\n",
              "      <td>4</td>\n",
              "    </tr>\n",
              "    <tr>\n",
              "      <th>1</th>\n",
              "      <td>22</td>\n",
              "      <td>QUESTIONNAIRES</td>\n",
              "      <td>(85, 921)</td>\n",
              "      <td>(85, 921)</td>\n",
              "      <td>(85, 921)</td>\n",
              "      <td>(85, 921)</td>\n",
              "      <td>(85, 921)</td>\n",
              "      <td>(85, 921)</td>\n",
              "      <td>(85, 921)</td>\n",
              "      <td>(85, 921)</td>\n",
              "      <td>...</td>\n",
              "      <td>1</td>\n",
              "      <td>1</td>\n",
              "      <td>2</td>\n",
              "      <td>1</td>\n",
              "      <td>1</td>\n",
              "      <td>2</td>\n",
              "      <td>1</td>\n",
              "      <td>5</td>\n",
              "      <td>2</td>\n",
              "      <td>4</td>\n",
              "    </tr>\n",
              "    <tr>\n",
              "      <th>2</th>\n",
              "      <td>22</td>\n",
              "      <td>WASHOUT</td>\n",
              "      <td>(80, 749)</td>\n",
              "      <td>(80, 792)</td>\n",
              "      <td>(80, 792)</td>\n",
              "      <td>(80, 792)</td>\n",
              "      <td>(80, 792)</td>\n",
              "      <td>(80, 792)</td>\n",
              "      <td>(79, 792)</td>\n",
              "      <td>(79, 792)</td>\n",
              "      <td>...</td>\n",
              "      <td>1</td>\n",
              "      <td>1</td>\n",
              "      <td>1</td>\n",
              "      <td>1</td>\n",
              "      <td>1</td>\n",
              "      <td>1</td>\n",
              "      <td>1</td>\n",
              "      <td>4</td>\n",
              "      <td>2</td>\n",
              "      <td>5</td>\n",
              "    </tr>\n",
              "    <tr>\n",
              "      <th>3</th>\n",
              "      <td>22</td>\n",
              "      <td>STIMULUS</td>\n",
              "      <td>(81, 719)</td>\n",
              "      <td>(81, 719)</td>\n",
              "      <td>(81, 719)</td>\n",
              "      <td>(81, 719)</td>\n",
              "      <td>(81, 734)</td>\n",
              "      <td>(81, 734)</td>\n",
              "      <td>(81, 734)</td>\n",
              "      <td>(81, 734)</td>\n",
              "      <td>...</td>\n",
              "      <td>1</td>\n",
              "      <td>1</td>\n",
              "      <td>1</td>\n",
              "      <td>1</td>\n",
              "      <td>1</td>\n",
              "      <td>1</td>\n",
              "      <td>1</td>\n",
              "      <td>4</td>\n",
              "      <td>2</td>\n",
              "      <td>5</td>\n",
              "    </tr>\n",
              "    <tr>\n",
              "      <th>4</th>\n",
              "      <td>22</td>\n",
              "      <td>QUESTIONNAIRES</td>\n",
              "      <td>(83, 702)</td>\n",
              "      <td>(82, 702)</td>\n",
              "      <td>(83, 702)</td>\n",
              "      <td>(83, 702)</td>\n",
              "      <td>(83, 702)</td>\n",
              "      <td>(82, 702)</td>\n",
              "      <td>(82, 702)</td>\n",
              "      <td>(82, 702)</td>\n",
              "      <td>...</td>\n",
              "      <td>1</td>\n",
              "      <td>1</td>\n",
              "      <td>1</td>\n",
              "      <td>1</td>\n",
              "      <td>1</td>\n",
              "      <td>1</td>\n",
              "      <td>1</td>\n",
              "      <td>4</td>\n",
              "      <td>2</td>\n",
              "      <td>5</td>\n",
              "    </tr>\n",
              "    <tr>\n",
              "      <th>...</th>\n",
              "      <td>...</td>\n",
              "      <td>...</td>\n",
              "      <td>...</td>\n",
              "      <td>...</td>\n",
              "      <td>...</td>\n",
              "      <td>...</td>\n",
              "      <td>...</td>\n",
              "      <td>...</td>\n",
              "      <td>...</td>\n",
              "      <td>...</td>\n",
              "      <td>...</td>\n",
              "      <td>...</td>\n",
              "      <td>...</td>\n",
              "      <td>...</td>\n",
              "      <td>...</td>\n",
              "      <td>...</td>\n",
              "      <td>...</td>\n",
              "      <td>...</td>\n",
              "      <td>...</td>\n",
              "      <td>...</td>\n",
              "      <td>...</td>\n",
              "    </tr>\n",
              "    <tr>\n",
              "      <th>1339</th>\n",
              "      <td>64</td>\n",
              "      <td>STIMULUS</td>\n",
              "      <td>(78, 516)</td>\n",
              "      <td>(78, 516)</td>\n",
              "      <td>(78, 516)</td>\n",
              "      <td>(78, 634)</td>\n",
              "      <td>(78, 634)</td>\n",
              "      <td>(78, 634)</td>\n",
              "      <td>(78, 634)</td>\n",
              "      <td>(78, 634)</td>\n",
              "      <td>...</td>\n",
              "      <td>1</td>\n",
              "      <td>1</td>\n",
              "      <td>3</td>\n",
              "      <td>1</td>\n",
              "      <td>1</td>\n",
              "      <td>1</td>\n",
              "      <td>1</td>\n",
              "      <td>5</td>\n",
              "      <td>2</td>\n",
              "      <td>6</td>\n",
              "    </tr>\n",
              "    <tr>\n",
              "      <th>1340</th>\n",
              "      <td>64</td>\n",
              "      <td>QUESTIONNAIRES</td>\n",
              "      <td>(77, 799)</td>\n",
              "      <td>(77, 799)</td>\n",
              "      <td>(77, 816)</td>\n",
              "      <td>(77, 816)</td>\n",
              "      <td>(77, 816)</td>\n",
              "      <td>(77, 816)</td>\n",
              "      <td>(77, 816)</td>\n",
              "      <td>(77, 816)</td>\n",
              "      <td>...</td>\n",
              "      <td>1</td>\n",
              "      <td>1</td>\n",
              "      <td>3</td>\n",
              "      <td>1</td>\n",
              "      <td>1</td>\n",
              "      <td>1</td>\n",
              "      <td>1</td>\n",
              "      <td>5</td>\n",
              "      <td>2</td>\n",
              "      <td>6</td>\n",
              "    </tr>\n",
              "    <tr>\n",
              "      <th>1341</th>\n",
              "      <td>64</td>\n",
              "      <td>WASHOUT</td>\n",
              "      <td>(0, 987)</td>\n",
              "      <td>(0, 987)</td>\n",
              "      <td>(0, 987)</td>\n",
              "      <td>(0, 987)</td>\n",
              "      <td>(-10, 987)</td>\n",
              "      <td>(-10, 987)</td>\n",
              "      <td>(-10, 987)</td>\n",
              "      <td>(-10, 987)</td>\n",
              "      <td>...</td>\n",
              "      <td>1</td>\n",
              "      <td>1</td>\n",
              "      <td>5</td>\n",
              "      <td>1</td>\n",
              "      <td>1</td>\n",
              "      <td>1</td>\n",
              "      <td>1</td>\n",
              "      <td>9</td>\n",
              "      <td>8</td>\n",
              "      <td>9</td>\n",
              "    </tr>\n",
              "    <tr>\n",
              "      <th>1342</th>\n",
              "      <td>64</td>\n",
              "      <td>STIMULUS</td>\n",
              "      <td>(69, 829)</td>\n",
              "      <td>(68, 829)</td>\n",
              "      <td>(69, 829)</td>\n",
              "      <td>(69, 829)</td>\n",
              "      <td>(69, 829)</td>\n",
              "      <td>(69, 1248)</td>\n",
              "      <td>(68, 1248)</td>\n",
              "      <td>(68, 1248)</td>\n",
              "      <td>...</td>\n",
              "      <td>1</td>\n",
              "      <td>1</td>\n",
              "      <td>5</td>\n",
              "      <td>1</td>\n",
              "      <td>1</td>\n",
              "      <td>1</td>\n",
              "      <td>1</td>\n",
              "      <td>9</td>\n",
              "      <td>8</td>\n",
              "      <td>9</td>\n",
              "    </tr>\n",
              "    <tr>\n",
              "      <th>1343</th>\n",
              "      <td>64</td>\n",
              "      <td>QUESTIONNAIRES</td>\n",
              "      <td>(66, 1245)</td>\n",
              "      <td>(65, 1245)</td>\n",
              "      <td>(65, 1245)</td>\n",
              "      <td>(65, 881)</td>\n",
              "      <td>(65, 881)</td>\n",
              "      <td>(65, 881)</td>\n",
              "      <td>(65, 881)</td>\n",
              "      <td>(65, 881)</td>\n",
              "      <td>...</td>\n",
              "      <td>1</td>\n",
              "      <td>1</td>\n",
              "      <td>5</td>\n",
              "      <td>1</td>\n",
              "      <td>1</td>\n",
              "      <td>1</td>\n",
              "      <td>1</td>\n",
              "      <td>9</td>\n",
              "      <td>8</td>\n",
              "      <td>9</td>\n",
              "    </tr>\n",
              "  </tbody>\n",
              "</table>\n",
              "<p>1344 rows × 6305 columns</p>\n",
              "</div>\n",
              "      <button class=\"colab-df-convert\" onclick=\"convertToInteractive('df-d340de62-34e6-4c07-a57b-dfdd596545bd')\"\n",
              "              title=\"Convert this dataframe to an interactive table.\"\n",
              "              style=\"display:none;\">\n",
              "        \n",
              "  <svg xmlns=\"http://www.w3.org/2000/svg\" height=\"24px\"viewBox=\"0 0 24 24\"\n",
              "       width=\"24px\">\n",
              "    <path d=\"M0 0h24v24H0V0z\" fill=\"none\"/>\n",
              "    <path d=\"M18.56 5.44l.94 2.06.94-2.06 2.06-.94-2.06-.94-.94-2.06-.94 2.06-2.06.94zm-11 1L8.5 8.5l.94-2.06 2.06-.94-2.06-.94L8.5 2.5l-.94 2.06-2.06.94zm10 10l.94 2.06.94-2.06 2.06-.94-2.06-.94-.94-2.06-.94 2.06-2.06.94z\"/><path d=\"M17.41 7.96l-1.37-1.37c-.4-.4-.92-.59-1.43-.59-.52 0-1.04.2-1.43.59L10.3 9.45l-7.72 7.72c-.78.78-.78 2.05 0 2.83L4 21.41c.39.39.9.59 1.41.59.51 0 1.02-.2 1.41-.59l7.78-7.78 2.81-2.81c.8-.78.8-2.07 0-2.86zM5.41 20L4 18.59l7.72-7.72 1.47 1.35L5.41 20z\"/>\n",
              "  </svg>\n",
              "      </button>\n",
              "      \n",
              "  <style>\n",
              "    .colab-df-container {\n",
              "      display:flex;\n",
              "      flex-wrap:wrap;\n",
              "      gap: 12px;\n",
              "    }\n",
              "\n",
              "    .colab-df-convert {\n",
              "      background-color: #E8F0FE;\n",
              "      border: none;\n",
              "      border-radius: 50%;\n",
              "      cursor: pointer;\n",
              "      display: none;\n",
              "      fill: #1967D2;\n",
              "      height: 32px;\n",
              "      padding: 0 0 0 0;\n",
              "      width: 32px;\n",
              "    }\n",
              "\n",
              "    .colab-df-convert:hover {\n",
              "      background-color: #E2EBFA;\n",
              "      box-shadow: 0px 1px 2px rgba(60, 64, 67, 0.3), 0px 1px 3px 1px rgba(60, 64, 67, 0.15);\n",
              "      fill: #174EA6;\n",
              "    }\n",
              "\n",
              "    [theme=dark] .colab-df-convert {\n",
              "      background-color: #3B4455;\n",
              "      fill: #D2E3FC;\n",
              "    }\n",
              "\n",
              "    [theme=dark] .colab-df-convert:hover {\n",
              "      background-color: #434B5C;\n",
              "      box-shadow: 0px 1px 3px 1px rgba(0, 0, 0, 0.15);\n",
              "      filter: drop-shadow(0px 1px 2px rgba(0, 0, 0, 0.3));\n",
              "      fill: #FFFFFF;\n",
              "    }\n",
              "  </style>\n",
              "\n",
              "      <script>\n",
              "        const buttonEl =\n",
              "          document.querySelector('#df-d340de62-34e6-4c07-a57b-dfdd596545bd button.colab-df-convert');\n",
              "        buttonEl.style.display =\n",
              "          google.colab.kernel.accessAllowed ? 'block' : 'none';\n",
              "\n",
              "        async function convertToInteractive(key) {\n",
              "          const element = document.querySelector('#df-d340de62-34e6-4c07-a57b-dfdd596545bd');\n",
              "          const dataTable =\n",
              "            await google.colab.kernel.invokeFunction('convertToInteractive',\n",
              "                                                     [key], {});\n",
              "          if (!dataTable) return;\n",
              "\n",
              "          const docLinkHtml = 'Like what you see? Visit the ' +\n",
              "            '<a target=\"_blank\" href=https://colab.research.google.com/notebooks/data_table.ipynb>data table notebook</a>'\n",
              "            + ' to learn more about interactive tables.';\n",
              "          element.innerHTML = '';\n",
              "          dataTable['output_type'] = 'display_data';\n",
              "          await google.colab.output.renderOutput(dataTable, element);\n",
              "          const docLink = document.createElement('div');\n",
              "          docLink.innerHTML = docLinkHtml;\n",
              "          element.appendChild(docLink);\n",
              "        }\n",
              "      </script>\n",
              "    </div>\n",
              "  </div>\n",
              "  "
            ]
          },
          "metadata": {},
          "execution_count": 7
        }
      ],
      "source": [
        "data"
      ]
    },
    {
      "cell_type": "code",
      "execution_count": null,
      "metadata": {
        "id": "QU8YBNPuNgNT",
        "colab": {
          "base_uri": "https://localhost:8080/"
        },
        "outputId": "2ac56a36-5b3d-4a64-fbb2-67da53da63f3"
      },
      "outputs": [
        {
          "output_type": "execute_result",
          "data": {
            "text/plain": [
              "(1344, 6305)"
            ]
          },
          "metadata": {},
          "execution_count": 8
        }
      ],
      "source": [
        "data.shape"
      ]
    },
    {
      "cell_type": "code",
      "execution_count": null,
      "metadata": {
        "id": "svmkOgwJC9x7",
        "colab": {
          "base_uri": "https://localhost:8080/"
        },
        "outputId": "b5c7ed9c-ab59-47be-a414-6473efc5234f"
      },
      "outputs": [
        {
          "output_type": "stream",
          "name": "stdout",
          "text": [
            "<class 'pandas.core.frame.DataFrame'>\n",
            "RangeIndex: 1344 entries, 0 to 1343\n",
            "Columns: 6305 entries, Participant to MOTIVATION\n",
            "dtypes: int64(13), object(6292)\n",
            "memory usage: 64.7+ MB\n"
          ]
        }
      ],
      "source": [
        "data.info()"
      ]
    },
    {
      "cell_type": "code",
      "execution_count": null,
      "metadata": {
        "id": "FFaesBf0F-PO",
        "colab": {
          "base_uri": "https://localhost:8080/"
        },
        "outputId": "f1fbd61d-d8a3-4288-bb53-586c30113ed8"
      },
      "outputs": [
        {
          "output_type": "execute_result",
          "data": {
            "text/plain": [
              "STIMULUS          462\n",
              "QUESTIONNAIRES    462\n",
              "WASHOUT           420\n",
              "Name: Stage, dtype: int64"
            ]
          },
          "metadata": {},
          "execution_count": 10
        }
      ],
      "source": [
        "data.Stage.value_counts()"
      ]
    },
    {
      "cell_type": "code",
      "execution_count": null,
      "metadata": {
        "id": "pqvN-KAoHlyn",
        "colab": {
          "base_uri": "https://localhost:8080/"
        },
        "outputId": "4fdc5673-d265-4101-e744-fd02dcbfa42f"
      },
      "outputs": [
        {
          "output_type": "execute_result",
          "data": {
            "text/plain": [
              "NEUTRAL       126\n",
              "AWE           126\n",
              "DISGUST       126\n",
              "SURPRISE      126\n",
              "ANGER         126\n",
              "ENTHUSIASM    126\n",
              "LIKING        126\n",
              "FEAR          126\n",
              "AMUSEMENT     126\n",
              "SADNESS       126\n",
              "BASELINE       84\n",
              "Name: Target, dtype: int64"
            ]
          },
          "metadata": {},
          "execution_count": 11
        }
      ],
      "source": [
        "data['Target'].value_counts()"
      ]
    },
    {
      "cell_type": "code",
      "execution_count": null,
      "metadata": {
        "id": "WzL26hQdH142"
      },
      "outputs": [],
      "source": [
        "stim_data = data[(data['Stage'] == 'STIMULUS')]"
      ]
    },
    {
      "cell_type": "code",
      "source": [
        "stim_data"
      ],
      "metadata": {
        "id": "8Yiicd4ygFzQ"
      },
      "execution_count": null,
      "outputs": []
    },
    {
      "cell_type": "code",
      "source": [
        "baseline_data = data[(data['Stage'] == 'STIMULUS') & (data['Target'] == 'BASELINE')]"
      ],
      "metadata": {
        "id": "OPYwWG9vSzBv"
      },
      "execution_count": null,
      "outputs": []
    },
    {
      "cell_type": "code",
      "source": [
        "baseline_data"
      ],
      "metadata": {
        "id": "c0kd-6OwTGo_"
      },
      "execution_count": null,
      "outputs": []
    },
    {
      "cell_type": "code",
      "execution_count": null,
      "metadata": {
        "id": "7ze1vXEHI-k7"
      },
      "outputs": [],
      "source": [
        "pd.set_option('display.max_rows', None)\n",
        "stim_data.isna().sum()"
      ]
    },
    {
      "cell_type": "code",
      "source": [
        "time_stamps = list(stim_data.columns[2:-13])"
      ],
      "metadata": {
        "id": "ELhdhW3BdykH"
      },
      "execution_count": null,
      "outputs": []
    },
    {
      "cell_type": "code",
      "source": [
        "time_stamps = [i[:i.find('.')+3] for i in time_stamps]"
      ],
      "metadata": {
        "id": "E0zqKKpTfFok"
      },
      "execution_count": null,
      "outputs": []
    },
    {
      "cell_type": "code",
      "source": [
        "dic_rename = dict(zip(stim_data.columns[2:-13], time_stamps))"
      ],
      "metadata": {
        "id": "A5ZUvh6Ch_1M"
      },
      "execution_count": null,
      "outputs": []
    },
    {
      "cell_type": "code",
      "source": [
        "stim_data.rename(columns = dic_rename, inplace = True)"
      ],
      "metadata": {
        "id": "yMh_NYVQjh_s"
      },
      "execution_count": null,
      "outputs": []
    },
    {
      "cell_type": "code",
      "source": [
        "stim_data.columns"
      ],
      "metadata": {
        "id": "kKFd1iNJkOm6"
      },
      "execution_count": null,
      "outputs": []
    },
    {
      "cell_type": "code",
      "execution_count": null,
      "metadata": {
        "id": "FFr4p5CPKwLr"
      },
      "outputs": [],
      "source": [
        "stim_data_hr = stim_data.loc[: , :].applymap(lambda x:getter(x))"
      ]
    },
    {
      "cell_type": "code",
      "source": [
        "stim_data_hr"
      ],
      "metadata": {
        "id": "JMtk9Gr0g5EH"
      },
      "execution_count": null,
      "outputs": []
    },
    {
      "cell_type": "code",
      "source": [
        "stim_data_hr.isnull().sum()"
      ],
      "metadata": {
        "id": "_mDVH6_GlAN0"
      },
      "execution_count": null,
      "outputs": []
    },
    {
      "cell_type": "code",
      "source": [
        "stim_data_hr[(stim_data_hr['Participant'] == 44) & (stim_data_hr['Target'] == 'ENTHUSIASM')].index"
      ],
      "metadata": {
        "id": "QadzoiYsTiaH"
      },
      "execution_count": null,
      "outputs": []
    },
    {
      "cell_type": "code",
      "source": [
        "list(stim_data_hr.index).index(684)"
      ],
      "metadata": {
        "id": "wNuJPiFeqzgZ"
      },
      "execution_count": null,
      "outputs": []
    },
    {
      "cell_type": "code",
      "source": [
        "par = stim_data_hr.iloc[235, 2:-13]"
      ],
      "metadata": {
        "id": "C1I9rZwRuJIx"
      },
      "execution_count": null,
      "outputs": []
    },
    {
      "cell_type": "code",
      "execution_count": null,
      "metadata": {
        "id": "EQ8xDKY1PqWO"
      },
      "outputs": [],
      "source": [
        "sns.lineplot(data = par.values)"
      ]
    },
    {
      "cell_type": "code",
      "source": [
        "emo_df = {}\n",
        "for emo in list(stim_data_hr['Target'].value_counts().keys()):\n",
        "    emo_df[emo] = stim_data_hr[stim_data_hr['Target'] == f'{emo}']"
      ],
      "metadata": {
        "id": "Th2ZsJQuiLJL"
      },
      "execution_count": null,
      "outputs": []
    },
    {
      "cell_type": "code",
      "source": [
        "emo_values_count = {}\n",
        "for emo in emo_df:\n",
        "  emo_values_count[emo] = (6290 - emo_df[emo].iloc[:, 2:-13].T.isna().sum())"
      ],
      "metadata": {
        "id": "qdED7GiLwS39"
      },
      "execution_count": null,
      "outputs": []
    },
    {
      "cell_type": "code",
      "source": [
        "target_map = {k: ind  for ind, k in enumerate(emo_df.keys())}"
      ],
      "metadata": {
        "id": "XnRm5Pf-aggN"
      },
      "execution_count": null,
      "outputs": []
    },
    {
      "cell_type": "code",
      "source": [
        "from sklearn.preprocessing import LabelEncoder\n",
        "label_encoder = LabelEncoder()\n",
        "y = label_encoder.fit_transform(stim_data_hr['Target'])"
      ],
      "metadata": {
        "id": "YbXTYsIP18LQ"
      },
      "execution_count": null,
      "outputs": []
    },
    {
      "cell_type": "code",
      "source": [
        "dataset = stim_data_hr.iloc[:, 2:-12]"
      ],
      "metadata": {
        "id": "ivPf1sZ7V5OS"
      },
      "execution_count": null,
      "outputs": []
    },
    {
      "cell_type": "code",
      "source": [
        "def split_dataset(df, target_map):\n",
        "  df = df.copy()\n",
        "\n",
        "  df['Target'].replace(target_map, inplace = True)\n",
        "  y = df['Target'].copy()\n",
        "  X = df.drop('Target', axis =1).copy()\n",
        "\n",
        "  X_train,  X_test, y_train, y_test = train_test_split(X, y, train_size = 0.7, random_state = 123)\n",
        "\n",
        "  return X_train,  X_test, y_train, y_test"
      ],
      "metadata": {
        "id": "UDeZ4dkPPqzF"
      },
      "execution_count": null,
      "outputs": []
    },
    {
      "cell_type": "code",
      "source": [
        "X_train,  X_test, y_train, y_test = split_dataset(dataset, target_map)"
      ],
      "metadata": {
        "id": "PjLcmDM9VJib"
      },
      "execution_count": null,
      "outputs": []
    },
    {
      "cell_type": "code",
      "source": [
        "X_train"
      ],
      "metadata": {
        "id": "iiSxeAeccdC3"
      },
      "execution_count": null,
      "outputs": []
    },
    {
      "cell_type": "code",
      "source": [
        "y_train"
      ],
      "metadata": {
        "id": "eCxRTKQ_VKyY"
      },
      "execution_count": null,
      "outputs": []
    },
    {
      "cell_type": "code",
      "source": [
        "X_train.fillna(0, inplace = True)"
      ],
      "metadata": {
        "id": "UcfCGcUwW4EV"
      },
      "execution_count": null,
      "outputs": []
    },
    {
      "cell_type": "code",
      "source": [
        "X_test.fillna(0, inplace = True)"
      ],
      "metadata": {
        "id": "JG07UhB8nrZs"
      },
      "execution_count": null,
      "outputs": []
    },
    {
      "cell_type": "code",
      "source": [
        "inputs = tf.keras.Input(shape = X_train.shape[1])\n",
        "\n",
        "h1 = tf.keras.layers.Dense(128, activation = 'relu')(inputs)\n",
        "h2 = tf.keras.layers.Dense(64, activation = 'relu')(h1)\n",
        "\n",
        "outputs = tf.keras.layers.Dense(11, activation = 'softmax')(h2)\n",
        "\n",
        "model = tf.keras.Model(inputs = inputs, outputs = outputs)\n",
        "\n",
        "print(model.summary())"
      ],
      "metadata": {
        "colab": {
          "base_uri": "https://localhost:8080/"
        },
        "id": "0ZTK3u_p9ze5",
        "outputId": "0a3ee774-c22b-42e6-e8f0-f22b6777aa7e"
      },
      "execution_count": null,
      "outputs": [
        {
          "output_type": "stream",
          "name": "stdout",
          "text": [
            "Model: \"model_6\"\n",
            "_________________________________________________________________\n",
            " Layer (type)                Output Shape              Param #   \n",
            "=================================================================\n",
            " input_9 (InputLayer)        [(None, 6290)]            0         \n",
            "                                                                 \n",
            " dense_19 (Dense)            (None, 128)               805248    \n",
            "                                                                 \n",
            " dense_20 (Dense)            (None, 64)                8256      \n",
            "                                                                 \n",
            " dense_21 (Dense)            (None, 11)                715       \n",
            "                                                                 \n",
            "=================================================================\n",
            "Total params: 814,219\n",
            "Trainable params: 814,219\n",
            "Non-trainable params: 0\n",
            "_________________________________________________________________\n",
            "None\n"
          ]
        }
      ]
    },
    {
      "cell_type": "code",
      "source": [
        "model.compile(\n",
        "    optimizer = 'adam',\n",
        "    loss = 'sparse_categorical_crossentropy',\n",
        "    metrics = ['accuracy']\n",
        ")\n",
        "\n",
        "history = model.fit(\n",
        "    X_train, \n",
        "    y_train,\n",
        "    validation_split = 0.2,\n",
        "    batch_size = 32,\n",
        "    epochs = 50, \n",
        "    callbacks=[\n",
        "        tf.keras.callbacks.EarlyStopping(\n",
        "            monitor = 'val_loss',\n",
        "            patience = 5,\n",
        "            restore_best_weights = True\n",
        "        )\n",
        "    ]\n",
        ")"
      ],
      "metadata": {
        "colab": {
          "base_uri": "https://localhost:8080/"
        },
        "id": "tePU4GGuiM8E",
        "outputId": "0d5d6238-af64-4864-e89b-454f5a489065"
      },
      "execution_count": null,
      "outputs": [
        {
          "output_type": "stream",
          "name": "stdout",
          "text": [
            "Epoch 1/50\n",
            "9/9 [==============================] - 1s 37ms/step - loss: 83.1520 - accuracy: 0.1783 - val_loss: 47.7467 - val_accuracy: 0.1385\n",
            "Epoch 2/50\n",
            "9/9 [==============================] - 0s 14ms/step - loss: 23.2087 - accuracy: 0.3411 - val_loss: 37.1672 - val_accuracy: 0.2923\n",
            "Epoch 3/50\n",
            "9/9 [==============================] - 0s 13ms/step - loss: 33.1150 - accuracy: 0.4031 - val_loss: 26.9322 - val_accuracy: 0.3231\n",
            "Epoch 4/50\n",
            "9/9 [==============================] - 0s 14ms/step - loss: 19.4661 - accuracy: 0.3915 - val_loss: 28.9774 - val_accuracy: 0.2923\n",
            "Epoch 5/50\n",
            "9/9 [==============================] - 0s 13ms/step - loss: 21.2984 - accuracy: 0.4186 - val_loss: 23.5298 - val_accuracy: 0.4154\n",
            "Epoch 6/50\n",
            "9/9 [==============================] - 0s 12ms/step - loss: 13.7913 - accuracy: 0.4031 - val_loss: 9.9867 - val_accuracy: 0.4923\n",
            "Epoch 7/50\n",
            "9/9 [==============================] - 0s 13ms/step - loss: 6.7845 - accuracy: 0.5698 - val_loss: 5.6398 - val_accuracy: 0.6615\n",
            "Epoch 8/50\n",
            "9/9 [==============================] - 0s 12ms/step - loss: 6.3815 - accuracy: 0.5659 - val_loss: 6.4526 - val_accuracy: 0.4615\n",
            "Epoch 9/50\n",
            "9/9 [==============================] - 0s 13ms/step - loss: 3.6850 - accuracy: 0.5426 - val_loss: 6.9322 - val_accuracy: 0.4462\n",
            "Epoch 10/50\n",
            "9/9 [==============================] - 0s 13ms/step - loss: 4.6520 - accuracy: 0.5736 - val_loss: 4.5573 - val_accuracy: 0.5846\n",
            "Epoch 11/50\n",
            "9/9 [==============================] - 0s 13ms/step - loss: 3.3646 - accuracy: 0.6047 - val_loss: 5.4604 - val_accuracy: 0.4923\n",
            "Epoch 12/50\n",
            "9/9 [==============================] - 0s 12ms/step - loss: 4.0667 - accuracy: 0.5465 - val_loss: 4.7161 - val_accuracy: 0.5692\n",
            "Epoch 13/50\n",
            "9/9 [==============================] - 0s 12ms/step - loss: 3.9634 - accuracy: 0.6357 - val_loss: 4.4541 - val_accuracy: 0.5385\n",
            "Epoch 14/50\n",
            "9/9 [==============================] - 0s 11ms/step - loss: 4.3836 - accuracy: 0.6202 - val_loss: 9.8636 - val_accuracy: 0.4462\n",
            "Epoch 15/50\n",
            "9/9 [==============================] - 0s 12ms/step - loss: 5.8542 - accuracy: 0.5581 - val_loss: 3.5263 - val_accuracy: 0.6769\n",
            "Epoch 16/50\n",
            "9/9 [==============================] - 0s 13ms/step - loss: 10.3438 - accuracy: 0.6240 - val_loss: 8.5779 - val_accuracy: 0.4308\n",
            "Epoch 17/50\n",
            "9/9 [==============================] - 0s 14ms/step - loss: 5.7051 - accuracy: 0.5814 - val_loss: 6.4569 - val_accuracy: 0.5231\n",
            "Epoch 18/50\n",
            "9/9 [==============================] - 0s 12ms/step - loss: 5.9733 - accuracy: 0.5698 - val_loss: 8.3566 - val_accuracy: 0.4308\n",
            "Epoch 19/50\n",
            "9/9 [==============================] - 0s 15ms/step - loss: 4.5716 - accuracy: 0.5814 - val_loss: 7.5942 - val_accuracy: 0.5692\n",
            "Epoch 20/50\n",
            "9/9 [==============================] - 0s 12ms/step - loss: 16.4797 - accuracy: 0.5078 - val_loss: 13.5887 - val_accuracy: 0.2462\n"
          ]
        }
      ]
    },
    {
      "cell_type": "code",
      "source": [
        "model_acc = model.evaluate(X_test, y_test, verbose=0)[1]\n",
        "print(f\"Test Accuracy : {round(model_acc, 3)*100} %\")"
      ],
      "metadata": {
        "colab": {
          "base_uri": "https://localhost:8080/"
        },
        "id": "odUmTT6nlt6v",
        "outputId": "4d9625b5-c9b3-43d2-9c02-5c79496e4a81"
      },
      "execution_count": null,
      "outputs": [
        {
          "output_type": "stream",
          "name": "stdout",
          "text": [
            "Test Accuracy : 61.9 %\n"
          ]
        }
      ]
    },
    {
      "cell_type": "code",
      "source": [],
      "metadata": {
        "id": "KveNYUx5nNZO"
      },
      "execution_count": null,
      "outputs": []
    }
  ],
  "metadata": {
    "colab": {
      "provenance": []
    },
    "kernelspec": {
      "display_name": "Python 3",
      "name": "python3"
    },
    "language_info": {
      "name": "python"
    }
  },
  "nbformat": 4,
  "nbformat_minor": 0
}